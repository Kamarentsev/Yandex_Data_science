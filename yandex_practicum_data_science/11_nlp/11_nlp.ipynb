{
 "cells": [
  {
   "cell_type": "markdown",
   "metadata": {
    "toc": true
   },
   "source": [
    "<h1>Содержание<span class=\"tocSkip\"></span></h1>\n",
    "<div class=\"toc\"><ul class=\"toc-item\"><li><span><a href=\"#Подготовка\" data-toc-modified-id=\"Подготовка-1\"><span class=\"toc-item-num\">1&nbsp;&nbsp;</span>Подготовка</a></span><ul class=\"toc-item\"><li><span><a href=\"#Установка-и-импортирование-библиотек\" data-toc-modified-id=\"Установка-и-импортирование-библиотек-1.1\"><span class=\"toc-item-num\">1.1&nbsp;&nbsp;</span>Установка и импортирование библиотек</a></span></li><li><span><a href=\"#Выгрузка-и-первичный-осмотр-данных\" data-toc-modified-id=\"Выгрузка-и-первичный-осмотр-данных-1.2\"><span class=\"toc-item-num\">1.2&nbsp;&nbsp;</span>Выгрузка и первичный осмотр данных</a></span></li><li><span><a href=\"#Анализ-данных\" data-toc-modified-id=\"Анализ-данных-1.3\"><span class=\"toc-item-num\">1.3&nbsp;&nbsp;</span>Анализ данных</a></span></li><li><span><a href=\"#Обработка-текста-комментариев\" data-toc-modified-id=\"Обработка-текста-комментариев-1.4\"><span class=\"toc-item-num\">1.4&nbsp;&nbsp;</span>Обработка текста комментариев</a></span></li><li><span><a href=\"#Формирование-выборок\" data-toc-modified-id=\"Формирование-выборок-1.5\"><span class=\"toc-item-num\">1.5&nbsp;&nbsp;</span>Формирование выборок</a></span></li></ul></li><li><span><a href=\"#Обучение\" data-toc-modified-id=\"Обучение-2\"><span class=\"toc-item-num\">2&nbsp;&nbsp;</span>Обучение</a></span><ul class=\"toc-item\"><li><span><a href=\"#Модель-Логистической-регрессии\" data-toc-modified-id=\"Модель-Логистической-регрессии-2.1\"><span class=\"toc-item-num\">2.1&nbsp;&nbsp;</span>Модель Логистической регрессии</a></span></li><li><span><a href=\"#Модель-Дерева-решений\" data-toc-modified-id=\"Модель-Дерева-решений-2.2\"><span class=\"toc-item-num\">2.2&nbsp;&nbsp;</span>Модель Дерева решений</a></span></li><li><span><a href=\"#Модель-мультиномиального-распределения\" data-toc-modified-id=\"Модель-мультиномиального-распределения-2.3\"><span class=\"toc-item-num\">2.3&nbsp;&nbsp;</span>Модель мультиномиального распределения</a></span></li><li><span><a href=\"#Тест\" data-toc-modified-id=\"Тест-2.4\"><span class=\"toc-item-num\">2.4&nbsp;&nbsp;</span>Тест</a></span></li></ul></li><li><span><a href=\"#Выводы\" data-toc-modified-id=\"Выводы-3\"><span class=\"toc-item-num\">3&nbsp;&nbsp;</span>Выводы</a></span></li><li><span><a href=\"#Чек-лист-проверки\" data-toc-modified-id=\"Чек-лист-проверки-4\"><span class=\"toc-item-num\">4&nbsp;&nbsp;</span>Чек-лист проверки</a></span></li></ul></div>"
   ]
  },
  {
   "cell_type": "markdown",
   "metadata": {},
   "source": [
    "# Проект для «Викишоп»\n",
    "\n",
    "---\n",
    "\n",
    "# Описание исследования\n",
    "\n",
    "---\n",
    "\n",
    "Интернет-магазин ***«Викишоп»*** запускает новый сервис. Теперь пользователи могут редактировать и дополнять описания товаров, как в вики-сообществах. То есть клиенты предлагают свои правки и комментируют изменения других. Магазину нужен инструмент, который будет искать токсичные комментарии и отправлять их на модерацию\n",
    "\n",
    "---\n",
    "\n",
    "# Цель исследования\n",
    "\n",
    "---\n",
    "\n",
    "Обучить модель классифицировать комментарии на позитивные и негативные. В нашем распоряжении набор данных с разметкой о токсичности правок\n",
    "\n",
    "---\n",
    "\n",
    "# Задачи исследования\n",
    "\n",
    "---\n",
    "\n",
    "1. Загрузить и подготовить данные\n",
    "2. Обучить разные модели \n",
    "3. Сделать выводы\n",
    "\n",
    "---\n",
    "\n",
    "# Исходные данные\n",
    "\n",
    "---\n",
    "\n",
    "Для проведения исследования заказчик передал нам *CSV*-файл с данными комментариев пользователей: `toxic_comments.csv`\n",
    "\n",
    "Столбец `text` в датафрейме содержит **текст комментария**, а `toxic` — **целевой признак**\n",
    "\n",
    "---"
   ]
  },
  {
   "cell_type": "markdown",
   "metadata": {},
   "source": [
    "## Подготовка"
   ]
  },
  {
   "cell_type": "markdown",
   "metadata": {},
   "source": [
    "### Установка и импортирование библиотек"
   ]
  },
  {
   "cell_type": "code",
   "execution_count": 1,
   "metadata": {},
   "outputs": [],
   "source": [
    "!pip install -U scikit-learn -q"
   ]
  },
  {
   "cell_type": "code",
   "execution_count": 2,
   "metadata": {},
   "outputs": [
    {
     "name": "stderr",
     "output_type": "stream",
     "text": [
      "[nltk_data] Downloading package wordnet to /home/jovyan/nltk_data...\n",
      "[nltk_data]   Package wordnet is already up-to-date!\n",
      "[nltk_data] Downloading package stopwords to /home/jovyan/nltk_data...\n",
      "[nltk_data]   Package stopwords is already up-to-date!\n",
      "[nltk_data] Downloading package averaged_perceptron_tagger to\n",
      "[nltk_data]     /home/jovyan/nltk_data...\n",
      "[nltk_data]   Package averaged_perceptron_tagger is already up-to-\n",
      "[nltk_data]       date!\n"
     ]
    }
   ],
   "source": [
    "#Импорт библиотек:\n",
    "\n",
    "#Библиотека для взаимодействия с ОС:\n",
    "import os\n",
    "\n",
    "#Библиотеки для работы с табличными данными и массивами:\n",
    "import pandas as pd\n",
    "import numpy as np\n",
    "\n",
    "#Библиотеки для графической иллюстрации:\n",
    "import matplotlib.pyplot as plt\n",
    "\n",
    "#Библиотеки для обработки текста:\n",
    "import nltk\n",
    "from nltk.corpus import stopwords, wordnet\n",
    "from nltk.stem import WordNetLemmatizer\n",
    "import re\n",
    "\n",
    "#Библиотеки ML:\n",
    "from sklearn.feature_extraction.text import CountVectorizer, TfidfVectorizer\n",
    "from sklearn.model_selection import train_test_split, GridSearchCV\n",
    "from sklearn.linear_model import LogisticRegression\n",
    "from sklearn.tree import DecisionTreeClassifier\n",
    "from sklearn.naive_bayes import MultinomialNB\n",
    "from sklearn.metrics import f1_score\n",
    "from sklearn.pipeline import Pipeline\n",
    "\n",
    "#Библиотека для отслеживания прогресса:\n",
    "from tqdm import tqdm\n",
    "\n",
    "#Игнорирование предупреждений:\n",
    "import warnings\n",
    "\n",
    "nltk.download('wordnet')\n",
    "nltk.download('stopwords')\n",
    "nltk.download('averaged_perceptron_tagger')\n",
    "stop_words = set(stopwords.words('english'))\n",
    "\n",
    "\n",
    "#Задаем константы:\n",
    "RANDOM_STATE = 42\n",
    "TEST_SIZE = 0.25\n",
    "\n",
    "#Игнорирование предупреждений\n",
    "warnings.filterwarnings(\"ignore\")"
   ]
  },
  {
   "cell_type": "markdown",
   "metadata": {},
   "source": [
    "### Выгрузка и первичный осмотр данных"
   ]
  },
  {
   "cell_type": "code",
   "execution_count": 3,
   "metadata": {},
   "outputs": [
    {
     "name": "stdout",
     "output_type": "stream",
     "text": [
      "Данные загружены из локального файла\n",
      "Размер файла: 61.94 MB\n"
     ]
    }
   ],
   "source": [
    "#Локальный путь к файлу:\n",
    "local_path = '/datasets/toxic_comments.csv'\n",
    "\n",
    "#Сетевой путь к файлу:\n",
    "url_path = 'https://code.s3.yandex.net/datasets/toxic_comments.csv'\n",
    "\n",
    "#Проверяем наличие файла по заданному локальному пути:\n",
    "if os.path.exists(local_path):\n",
    "    \n",
    "    #Считываем файл\n",
    "    df = pd.read_csv(local_path)\n",
    "    print(\"Данные загружены из локального файла\")\n",
    "    \n",
    "    # Узнаем размер файла в байтах\n",
    "    file_size = os.path.getsize(local_path)\n",
    "    print(f\"Размер файла: {file_size / (1024 * 1024):.2f} MB\") \n",
    "\n",
    "#Проверяем наличие файла по заданному сетевому пути:    \n",
    "elif os.path.exists(url_path):\n",
    "    df = pd.read_csv(url_path)\n",
    "    print(\"Данные загружены из сети\")\n",
    "    \n",
    "#Генерируем исключение (в случае отстуствия файлов по заданным путям):    \n",
    "else:\n",
    "    print(\"Данных о файле нет в локальной и сетевой директориях\")\n",
    "    \n",
    "#Используем специальную команду отображения таблиц, для наглядного просмотра всех данных:    \n",
    "#pd.set_option('display.max_columns', None)\n",
    "pd.set_option('display.max_colwidth', None)"
   ]
  },
  {
   "cell_type": "markdown",
   "metadata": {},
   "source": [
    "---\n",
    "\n",
    "> Просмотрим случайные 10 комментариев, зафиксируем их. Чтобы посмотреть новые, задать параметру: `random_state = None`"
   ]
  },
  {
   "cell_type": "code",
   "execution_count": 4,
   "metadata": {},
   "outputs": [
    {
     "data": {
      "text/html": [
       "<div>\n",
       "<style scoped>\n",
       "    .dataframe tbody tr th:only-of-type {\n",
       "        vertical-align: middle;\n",
       "    }\n",
       "\n",
       "    .dataframe tbody tr th {\n",
       "        vertical-align: top;\n",
       "    }\n",
       "\n",
       "    .dataframe thead th {\n",
       "        text-align: right;\n",
       "    }\n",
       "</style>\n",
       "<table border=\"1\" class=\"dataframe\">\n",
       "  <thead>\n",
       "    <tr style=\"text-align: right;\">\n",
       "      <th></th>\n",
       "      <th>Unnamed: 0</th>\n",
       "      <th>text</th>\n",
       "      <th>toxic</th>\n",
       "    </tr>\n",
       "  </thead>\n",
       "  <tbody>\n",
       "    <tr>\n",
       "      <th>31015</th>\n",
       "      <td>31055</td>\n",
       "      <td>Sometime back, I just happened to log on to www.izoom.in with a friend’s reference and I was amazed to see the concept Fresh Ideas Entertainment has come up with. So many deals… all under one roof. This website is very user friendly and easy to use and is fun to be on.\\nYou have Gossip, Games, Facts… Another exciting feature to add to it is Face of the Week… Every week, 4 new faces are selected and put up as izoom faces. It’s great to have been selected in four out of a group of millions. \\nThis new start up has already got many a deals in its kitty. Few of them being TheFortune Hotel, The Beach… are my personal favorites. izoom.in has a USP of mobile coupons. Coupons are available even when a user cannot access internet. You just need to SMS izoom support to 56767 and you get attended immediately.\\nAll I can say is izoom.in is a must visit website for everyone before they go out for shopping or dining or for outing.\\nCheers!!!</td>\n",
       "      <td>0</td>\n",
       "    </tr>\n",
       "    <tr>\n",
       "      <th>102832</th>\n",
       "      <td>102929</td>\n",
       "      <td>\"\\n\\nThe latest edit is much better, don't make this article state \"\"super.\"\" at all. 71.237.70.49  \"</td>\n",
       "      <td>0</td>\n",
       "    </tr>\n",
       "    <tr>\n",
       "      <th>67317</th>\n",
       "      <td>67385</td>\n",
       "      <td>\" October 2007 (UTC)\\n\\nI would think you'd be able to get your point across, and be immune to any objections, were you to simply embellish the second sentence of the article by changing \"\"he was schooled at Thornleigh Salesian College\"\" to \"\"he was schooled at (the then all-Catholic) Thornleigh Salesian College\"\".   \\n\\nGood suggestion from an Anon - what do you think? Rgds, -  07:53, 5\"</td>\n",
       "      <td>0</td>\n",
       "    </tr>\n",
       "    <tr>\n",
       "      <th>81091</th>\n",
       "      <td>81167</td>\n",
       "      <td>Thanks for the tip on the currency translation.  Think it's all done now.</td>\n",
       "      <td>0</td>\n",
       "    </tr>\n",
       "    <tr>\n",
       "      <th>90091</th>\n",
       "      <td>90182</td>\n",
       "      <td>I would argue that if content on the Con in comparison to the Arts Music is out of proportion, then it warrants further contribution to the article, not the removal of an indepth piece of content. Also, as I mentioned before, the Arts Music unit has a notable history comparable to that of the Con itself. Because of this, I would further argue that content on the Arts Music Unit is more relevant to this article than the information on the Newcastle Conservatorium.</td>\n",
       "      <td>0</td>\n",
       "    </tr>\n",
       "    <tr>\n",
       "      <th>1860</th>\n",
       "      <td>1860</td>\n",
       "      <td>\"=Reliable sources===\\nCheating:\\n\"\"Barry Bonds:Cheater\"\" from CBS, yea I kinda think that is reliable. \\n\"\"Dear Barry Bonds, You are either an outright cheater or very stupid\"\" from the USA Today \\n\"\"Yes, Barry Bonds is a cheater. He is a cheater of the worst sort\"\" \\nLying:\\n\"\"It's clear, Barry Bonds' a liar\"\" New York Daily News, another pretty freakin' reliable source. \\n\"\"Barry Lamar Bonds is a bad man\"\" Baseball Digest \\n\"\"but Bonds is a liar, a cheater, a whiner and a bad influence on America's youth\"\"  Mark Barnes\\n\\n==\"</td>\n",
       "      <td>1</td>\n",
       "    </tr>\n",
       "    <tr>\n",
       "      <th>125293</th>\n",
       "      <td>125422</td>\n",
       "      <td>WTF=\\n\\nHow The Fuck Does This Person Merit A Page On Wikipedia.</td>\n",
       "      <td>1</td>\n",
       "    </tr>\n",
       "    <tr>\n",
       "      <th>148986</th>\n",
       "      <td>149142</td>\n",
       "      <td>cajuns, acadians\\nCajuns, acadians, louisianans, they're so many different names for different americans of french descent because their culture is so rich and somewhat so different but so close at the same time. I'm an acadian but more importantly I'm a french american so I really don't see why there should be a difference. \\n\\nIf you say there should be two different list, it doesn't make sense. The people on the french-american list should be in one of wiki-invented list of cajuns or acadians. I understand there are some more recent french-americans who are only 1 or 2 generations-old americans but this distinction isn't made for italian-americans, german-americans. I'm surprised to see Albert Einstein a fairly recent immigrant in American history next to Katherine Heigl, a 10 to 12 generations american. \\\\\\n\\nThis is all race-based, biased because french-bashing don't stop at the bush government level.</td>\n",
       "      <td>0</td>\n",
       "    </tr>\n",
       "    <tr>\n",
       "      <th>89697</th>\n",
       "      <td>89784</td>\n",
       "      <td>Hi - I dropped a pin in Google Maps at the ceremonial site near Chief Tayak's grave and recorded the lat/long.  Is this not permitted? It maps correctly in other sites, as well, so I believe they're the correct coordinates. I live nearby, so could also visit the site and get the coordinates from GPS.</td>\n",
       "      <td>0</td>\n",
       "    </tr>\n",
       "    <tr>\n",
       "      <th>64256</th>\n",
       "      <td>64323</td>\n",
       "      <td>Re removal of accessdate= for urls books \\n\\nThis is from Template:Cite book\\naccessdate: Full date when url was accessed. Should be used when url field is used.\\nSomeone has claimed the exact opposite &amp; removed the accessdates</td>\n",
       "      <td>0</td>\n",
       "    </tr>\n",
       "  </tbody>\n",
       "</table>\n",
       "</div>"
      ],
      "text/plain": [
       "        Unnamed: 0  \\\n",
       "31015        31055   \n",
       "102832      102929   \n",
       "67317        67385   \n",
       "81091        81167   \n",
       "90091        90182   \n",
       "1860          1860   \n",
       "125293      125422   \n",
       "148986      149142   \n",
       "89697        89784   \n",
       "64256        64323   \n",
       "\n",
       "                                                                                                                                                                                                                                                                                                                                                                                                                                                                                                                                                                                                                                                                                                                                                                                                                                                                                                                                                                                 text  \\\n",
       "31015   Sometime back, I just happened to log on to www.izoom.in with a friend’s reference and I was amazed to see the concept Fresh Ideas Entertainment has come up with. So many deals… all under one roof. This website is very user friendly and easy to use and is fun to be on.\\nYou have Gossip, Games, Facts… Another exciting feature to add to it is Face of the Week… Every week, 4 new faces are selected and put up as izoom faces. It’s great to have been selected in four out of a group of millions. \\nThis new start up has already got many a deals in its kitty. Few of them being TheFortune Hotel, The Beach… are my personal favorites. izoom.in has a USP of mobile coupons. Coupons are available even when a user cannot access internet. You just need to SMS izoom support to 56767 and you get attended immediately.\\nAll I can say is izoom.in is a must visit website for everyone before they go out for shopping or dining or for outing.\\nCheers!!!   \n",
       "102832                                                                                                                                                                                                                                                                                                                                                                                                                                                                                                                                                                                                                                                                                                                                                                                                                                                                          \"\\n\\nThe latest edit is much better, don't make this article state \"\"super.\"\" at all. 71.237.70.49  \"   \n",
       "67317                                                                                                                                                                                                                                                                                                                                                                                                                                                                                                                                                                         \" October 2007 (UTC)\\n\\nI would think you'd be able to get your point across, and be immune to any objections, were you to simply embellish the second sentence of the article by changing \"\"he was schooled at Thornleigh Salesian College\"\" to \"\"he was schooled at (the then all-Catholic) Thornleigh Salesian College\"\".   \\n\\nGood suggestion from an Anon - what do you think? Rgds, -  07:53, 5\"   \n",
       "81091                                                                                                                                                                                                                                                                                                                                                                                                                                                                                                                                                                                                                                                                                                                                                                                                                                                                                                       Thanks for the tip on the currency translation.  Think it's all done now.   \n",
       "90091                                                                                                                                                                                                                                                                                                                                                                                                                                                                                             I would argue that if content on the Con in comparison to the Arts Music is out of proportion, then it warrants further contribution to the article, not the removal of an indepth piece of content. Also, as I mentioned before, the Arts Music unit has a notable history comparable to that of the Con itself. Because of this, I would further argue that content on the Arts Music Unit is more relevant to this article than the information on the Newcastle Conservatorium.   \n",
       "1860                                                                                                                                                                                                                                                                                                                                                                                                                           \"=Reliable sources===\\nCheating:\\n\"\"Barry Bonds:Cheater\"\" from CBS, yea I kinda think that is reliable. \\n\"\"Dear Barry Bonds, You are either an outright cheater or very stupid\"\" from the USA Today \\n\"\"Yes, Barry Bonds is a cheater. He is a cheater of the worst sort\"\" \\nLying:\\n\"\"It's clear, Barry Bonds' a liar\"\" New York Daily News, another pretty freakin' reliable source. \\n\"\"Barry Lamar Bonds is a bad man\"\" Baseball Digest \\n\"\"but Bonds is a liar, a cheater, a whiner and a bad influence on America's youth\"\"  Mark Barnes\\n\\n==\"   \n",
       "125293                                                                                                                                                                                                                                                                                                                                                                                                                                                                                                                                                                                                                                                                                                                                                                                                                                                                                                               WTF=\\n\\nHow The Fuck Does This Person Merit A Page On Wikipedia.   \n",
       "148986                        cajuns, acadians\\nCajuns, acadians, louisianans, they're so many different names for different americans of french descent because their culture is so rich and somewhat so different but so close at the same time. I'm an acadian but more importantly I'm a french american so I really don't see why there should be a difference. \\n\\nIf you say there should be two different list, it doesn't make sense. The people on the french-american list should be in one of wiki-invented list of cajuns or acadians. I understand there are some more recent french-americans who are only 1 or 2 generations-old americans but this distinction isn't made for italian-americans, german-americans. I'm surprised to see Albert Einstein a fairly recent immigrant in American history next to Katherine Heigl, a 10 to 12 generations american. \\\\\\n\\nThis is all race-based, biased because french-bashing don't stop at the bush government level.   \n",
       "89697                                                                                                                                                                                                                                                                                                                                                                                                                                                                                                                                                                                                                                                                   Hi - I dropped a pin in Google Maps at the ceremonial site near Chief Tayak's grave and recorded the lat/long.  Is this not permitted? It maps correctly in other sites, as well, so I believe they're the correct coordinates. I live nearby, so could also visit the site and get the coordinates from GPS.   \n",
       "64256                                                                                                                                                                                                                                                                                                                                                                                                                                                                                                                                                                                                                                                                                                                                             Re removal of accessdate= for urls books \\n\\nThis is from Template:Cite book\\naccessdate: Full date when url was accessed. Should be used when url field is used.\\nSomeone has claimed the exact opposite & removed the accessdates   \n",
       "\n",
       "        toxic  \n",
       "31015       0  \n",
       "102832      0  \n",
       "67317       0  \n",
       "81091       0  \n",
       "90091       0  \n",
       "1860        1  \n",
       "125293      1  \n",
       "148986      0  \n",
       "89697       0  \n",
       "64256       0  "
      ]
     },
     "execution_count": 4,
     "metadata": {},
     "output_type": "execute_result"
    }
   ],
   "source": [
    "#Просмотр 10 случайных образцов:\n",
    "df.sample(10, random_state=RANDOM_STATE)"
   ]
  },
  {
   "cell_type": "code",
   "execution_count": 5,
   "metadata": {},
   "outputs": [
    {
     "name": "stdout",
     "output_type": "stream",
     "text": [
      "<class 'pandas.core.frame.DataFrame'>\n",
      "RangeIndex: 159292 entries, 0 to 159291\n",
      "Data columns (total 3 columns):\n",
      " #   Column      Non-Null Count   Dtype \n",
      "---  ------      --------------   ----- \n",
      " 0   Unnamed: 0  159292 non-null  int64 \n",
      " 1   text        159292 non-null  object\n",
      " 2   toxic       159292 non-null  int64 \n",
      "dtypes: int64(2), object(1)\n",
      "memory usage: 3.6+ MB\n",
      "Duplicates count: 0\n"
     ]
    }
   ],
   "source": [
    "#Общая информация и наличие дубликатов:\n",
    "df.info()\n",
    "print('Duplicates count:', df['text'].duplicated().sum())"
   ]
  },
  {
   "cell_type": "markdown",
   "metadata": {},
   "source": [
    "> Датафрейм имеет 3 поля: `Unnamed: 0`, `text`, `toxic` (как видно поле `Unnamed: 0` - не несет полезной информации, его можно удалить)\n",
    "\n",
    "> `toxic` - столбец содержит размеченные данные с значениями `0` и `1`, перед обучением требуется посмотреть на и соотношения, сделать проверку на сбалансированность\n",
    "\n",
    "> `text` - столбец содержит комментарии пользователей, в которых содержаться символы экранирования, различные знаки остонова и другие неккоректные символы, которые нужно обработать, до передачи данных в модель. (Как видно неформармальная лексика выделена в разметке верно, плохие комментарии имеют значения токсичности `1`)\n",
    "\n",
    "> Дубликатов в данных - `нет`"
   ]
  },
  {
   "cell_type": "markdown",
   "metadata": {},
   "source": [
    "### Анализ данных"
   ]
  },
  {
   "cell_type": "code",
   "execution_count": 6,
   "metadata": {},
   "outputs": [
    {
     "data": {
      "text/html": [
       "<div>\n",
       "<style scoped>\n",
       "    .dataframe tbody tr th:only-of-type {\n",
       "        vertical-align: middle;\n",
       "    }\n",
       "\n",
       "    .dataframe tbody tr th {\n",
       "        vertical-align: top;\n",
       "    }\n",
       "\n",
       "    .dataframe thead th {\n",
       "        text-align: right;\n",
       "    }\n",
       "</style>\n",
       "<table border=\"1\" class=\"dataframe\">\n",
       "  <thead>\n",
       "    <tr style=\"text-align: right;\">\n",
       "      <th></th>\n",
       "      <th>text</th>\n",
       "      <th>toxic</th>\n",
       "    </tr>\n",
       "  </thead>\n",
       "  <tbody>\n",
       "    <tr>\n",
       "      <th>0</th>\n",
       "      <td>Explanation\\nWhy the edits made under my username Hardcore Metallica Fan were reverted? They weren't vandalisms, just closure on some GAs after I voted at New York Dolls FAC. And please don't remove the template from the talk page since I'm retired now.89.205.38.27</td>\n",
       "      <td>0</td>\n",
       "    </tr>\n",
       "    <tr>\n",
       "      <th>1</th>\n",
       "      <td>D'aww! He matches this background colour I'm seemingly stuck with. Thanks.  (talk) 21:51, January 11, 2016 (UTC)</td>\n",
       "      <td>0</td>\n",
       "    </tr>\n",
       "    <tr>\n",
       "      <th>2</th>\n",
       "      <td>Hey man, I'm really not trying to edit war. It's just that this guy is constantly removing relevant information and talking to me through edits instead of my talk page. He seems to care more about the formatting than the actual info.</td>\n",
       "      <td>0</td>\n",
       "    </tr>\n",
       "    <tr>\n",
       "      <th>3</th>\n",
       "      <td>\"\\nMore\\nI can't make any real suggestions on improvement - I wondered if the section statistics should be later on, or a subsection of \"\"types of accidents\"\"  -I think the references may need tidying so that they are all in the exact same format ie date format etc. I can do that later on, if no-one else does first - if you have any preferences for formatting style on references or want to do it yourself please let me know.\\n\\nThere appears to be a backlog on articles for review so I guess there may be a delay until a reviewer turns up. It's listed in the relevant form eg Wikipedia:Good_article_nominations#Transport  \"</td>\n",
       "      <td>0</td>\n",
       "    </tr>\n",
       "    <tr>\n",
       "      <th>4</th>\n",
       "      <td>You, sir, are my hero. Any chance you remember what page that's on?</td>\n",
       "      <td>0</td>\n",
       "    </tr>\n",
       "  </tbody>\n",
       "</table>\n",
       "</div>"
      ],
      "text/plain": [
       "                                                                                                                                                                                                                                                                                                                                                                                                                                                                                                                                                                                                                                                 text  \\\n",
       "0                                                                                                                                                                                                                                                                                                                                                                           Explanation\\nWhy the edits made under my username Hardcore Metallica Fan were reverted? They weren't vandalisms, just closure on some GAs after I voted at New York Dolls FAC. And please don't remove the template from the talk page since I'm retired now.89.205.38.27   \n",
       "1                                                                                                                                                                                                                                                                                                                                                                                                                                                                                                                                    D'aww! He matches this background colour I'm seemingly stuck with. Thanks.  (talk) 21:51, January 11, 2016 (UTC)   \n",
       "2                                                                                                                                                                                                                                                                                                                                                                                                           Hey man, I'm really not trying to edit war. It's just that this guy is constantly removing relevant information and talking to me through edits instead of my talk page. He seems to care more about the formatting than the actual info.   \n",
       "3  \"\\nMore\\nI can't make any real suggestions on improvement - I wondered if the section statistics should be later on, or a subsection of \"\"types of accidents\"\"  -I think the references may need tidying so that they are all in the exact same format ie date format etc. I can do that later on, if no-one else does first - if you have any preferences for formatting style on references or want to do it yourself please let me know.\\n\\nThere appears to be a backlog on articles for review so I guess there may be a delay until a reviewer turns up. It's listed in the relevant form eg Wikipedia:Good_article_nominations#Transport  \"   \n",
       "4                                                                                                                                                                                                                                                                                                                                                                                                                                                                                                                                                                                 You, sir, are my hero. Any chance you remember what page that's on?   \n",
       "\n",
       "   toxic  \n",
       "0      0  \n",
       "1      0  \n",
       "2      0  \n",
       "3      0  \n",
       "4      0  "
      ]
     },
     "execution_count": 6,
     "metadata": {},
     "output_type": "execute_result"
    }
   ],
   "source": [
    "#Удаление лишнего столбца:\n",
    "df = df.drop(['Unnamed: 0'], axis=1)\n",
    "\n",
    "#Проверка удаления:\n",
    "df.head()"
   ]
  },
  {
   "cell_type": "markdown",
   "metadata": {},
   "source": [
    "> Лишний столбец - удалили"
   ]
  },
  {
   "cell_type": "code",
   "execution_count": 7,
   "metadata": {},
   "outputs": [
    {
     "data": {
      "image/png": "[encoded data removed]",
      "text/plain": [
       "<Figure size 1296x216 with 1 Axes>"
      ]
     },
     "metadata": {
      "needs_background": "light"
     },
     "output_type": "display_data"
    }
   ],
   "source": [
    "colors = ['skyblue', 'darkorange'] \n",
    "labels = ['Non-toxic', 'Toxic']\n",
    "handles = [plt.Line2D([0], [0], color=color, lw=4) for color in colors]\n",
    "\n",
    "plt.figure(figsize=(18,3))\n",
    "df['toxic'].value_counts().plot(kind='barh', color=colors)\n",
    "plt.title('График сбалансированности классов', fontsize=15)\n",
    "plt.ylabel('Разметка твитов', fontsize=13)\n",
    "plt.xlabel('Количество значений', fontsize=13)\n",
    "plt.legend(handles, labels, title='Categories', prop={'size': 14})\n",
    "plt.show()"
   ]
  },
  {
   "cell_type": "code",
   "execution_count": 8,
   "metadata": {},
   "outputs": [
    {
     "data": {
      "text/plain": [
       "0    0.898388\n",
       "1    0.101612\n",
       "Name: toxic, dtype: float64"
      ]
     },
     "execution_count": 8,
     "metadata": {},
     "output_type": "execute_result"
    }
   ],
   "source": [
    "df['toxic'].value_counts(normalize=True)"
   ]
  },
  {
   "cell_type": "markdown",
   "metadata": {},
   "source": [
    "> Исходя из графика - **данные несбалансированны** (Количество токсичных комментариев во много раз меньше 1 к 10)"
   ]
  },
  {
   "cell_type": "markdown",
   "metadata": {},
   "source": [
    "### Обработка текста комментариев"
   ]
  },
  {
   "cell_type": "code",
   "execution_count": 9,
   "metadata": {},
   "outputs": [],
   "source": [
    "#Определяем функцию для получения тегов:\n",
    "def get_wordnet_pos(word):\n",
    "    \"\"\"Map POS tag to first character lemmatize() accepts\"\"\"\n",
    "    tag = nltk.pos_tag([word])[0][1][0].upper()\n",
    "    tag_dict = {\"J\": wordnet.ADJ,\n",
    "                \"N\": wordnet.NOUN,\n",
    "                \"V\": wordnet.VERB,\n",
    "                \"R\": wordnet.ADV}\n",
    "    return tag_dict.get(tag, wordnet.NOUN)"
   ]
  },
  {
   "cell_type": "code",
   "execution_count": 10,
   "metadata": {},
   "outputs": [],
   "source": [
    "#Определим функцию для филтрации текста:\n",
    "def text_filter(text: pd.Series, stop_words: set = None, lemmatize: bool = True) -> pd.Series:\n",
    "    \"\"\"Функция фильтрации текста принимает 3 аргумента:\n",
    "       Серию состоящую из комментариев text - pd.Series;\n",
    "       Стоп-слова - передается словарь исключений;\n",
    "       Буленговый параметр, отвечающий за выполнение лемматизации.\n",
    "       Функция возвращает отфильтрованный текст в виде Series\n",
    "    \"\"\"\n",
    "    #Приводим текст к нижнему регистру, исключаем все символы некорректные символы:\n",
    "    text = re.sub(r'[^a-z ]', ' ', text.lower()).split()\n",
    "    \n",
    "    #Лемматизируем все предложения в каждом комментарии:\n",
    "    if lemmatize:\n",
    "        wnl = WordNetLemmatizer()\n",
    "        text = [wnl.lemmatize(word, get_wordnet_pos(word)) for word in text]\n",
    "    \n",
    "    #Исключаем стоп слова:\n",
    "    if stop_words:\n",
    "        text = [word for word in text if not word in stop_words] \n",
    "    \n",
    "    return ' '.join(text)"
   ]
  },
  {
   "cell_type": "markdown",
   "metadata": {},
   "source": [
    "Выполним проверку обработки текста на примере небольшого датафрейма с текстом:"
   ]
  },
  {
   "cell_type": "code",
   "execution_count": 11,
   "metadata": {},
   "outputs": [
    {
     "name": "stdout",
     "output_type": "stream",
     "text": [
      "                                                  text\n",
      "0  The striped bats are hanging on their feet for best\n",
      "1        you should be ashamed of yourself went worked\n",
      "0    the strip bat be hang on their foot for best\n",
      "1       you should be ashamed of yourself go work\n",
      "Name: text, dtype: object\n"
     ]
    }
   ],
   "source": [
    "sentence1 = \"The striped bats are hanging on their feet for best\"\n",
    "sentence2 = \"you should be ashamed of yourself went worked\"\n",
    "df_my = pd.DataFrame([sentence1, sentence2], columns = ['text'])\n",
    "print(df_my)\n",
    "\n",
    "\n",
    "print(df_my['text'].apply(text_filter))"
   ]
  },
  {
   "cell_type": "markdown",
   "metadata": {},
   "source": [
    "### Формирование выборок"
   ]
  },
  {
   "cell_type": "code",
   "execution_count": 12,
   "metadata": {},
   "outputs": [
    {
     "name": "stderr",
     "output_type": "stream",
     "text": [
      "100%|██████████| 159292/159292 [16:59<00:00, 156.26it/s]\n"
     ]
    }
   ],
   "source": [
    "#интегрируем прогресс-бары tqdm в методы pandas:\n",
    "tqdm.pandas()\n",
    "\n",
    "#Создаем корпус слов:\n",
    "corpus = df['text'].progress_apply(text_filter, stop_words=stop_words)\n",
    "\n",
    "#Делим данные на тренеровочную и тестовую выборки:\n",
    "X_train, X_test, y_train, y_test = (\n",
    "    train_test_split(corpus, df['toxic'], test_size=0.25, random_state=RANDOM_STATE))\n",
    "\n",
    "#Освобождаем память:\n",
    "del corpus"
   ]
  },
  {
   "cell_type": "markdown",
   "metadata": {},
   "source": [
    "Посмотрим, какое **количество признаков** создаст векторизация различных **N-грамм**:"
   ]
  },
  {
   "cell_type": "code",
   "execution_count": 13,
   "metadata": {},
   "outputs": [
    {
     "name": "stdout",
     "output_type": "stream",
     "text": [
      "N-gramm range ((1, 1)) - униграмма: количество признаков - 126730\n",
      "N-gramm range ((2, 2)) - биграмма: количество признаков - 1839774\n",
      "N-gramm range ((1, 2)) - униграмма и биграмма: количество признаков - 1966504\n"
     ]
    }
   ],
   "source": [
    "#Переберем различные N-граммы в цикле:\n",
    "for r, label in [((1, 1), 'униграмма'), ((2, 2), 'биграмма'), ((1, 2), 'униграмма и биграмма')]:\n",
    "    features_count = TfidfVectorizer(ngram_range=r).fit_transform(X_train).shape[1]\n",
    "    print(f'N-gramm range ({r}) - {label}: количество признаков - {features_count}')"
   ]
  },
  {
   "cell_type": "markdown",
   "metadata": {},
   "source": [
    "> Признаковое пространство двух последних N-грамм состовляет порядка 2 млн, что очень много, поэтому будем рассматривать только униграммы, для этого просто будем вызывать параметр `TfidfVectorizer()` - по умолчанию он создает униграммы `(1,1)`\n",
    "\n",
    "> Зададим порог значимости: `min_df = 1` - чтобы включить все входящие слова"
   ]
  },
  {
   "cell_type": "markdown",
   "metadata": {},
   "source": [
    "## Обучение"
   ]
  },
  {
   "cell_type": "markdown",
   "metadata": {},
   "source": [
    "### Модель Логистической регрессии"
   ]
  },
  {
   "cell_type": "code",
   "execution_count": 14,
   "metadata": {},
   "outputs": [],
   "source": [
    "def training(model, params):\n",
    "    pipeline = Pipeline([\n",
    "        ('tfidf', TfidfVectorizer(min_df = 1)),\n",
    "        ('model', model)])\n",
    "    \n",
    "    grid = GridSearchCV(pipeline, cv = 3, n_jobs = -1, param_grid = params ,scoring = 'f1', verbose = False)\n",
    "    \n",
    "    grid.fit(X_train, y_train)\n",
    "    \n",
    "    print('Лучшая метрика f1:', grid.best_score_)\n",
    "    print('Лучшие гиперпараметры модели:', grid.best_params_)\n",
    "    return grid"
   ]
  },
  {
   "cell_type": "code",
   "execution_count": 15,
   "metadata": {},
   "outputs": [
    {
     "name": "stdout",
     "output_type": "stream",
     "text": [
      "Лучшая метрика f1: 0.7546971554099754\n",
      "Лучшие гиперпараметры модели: {'model__C': 15.0, 'model__penalty': 'l2'}\n",
      "CPU times: user 2min 15s, sys: 1min 12s, total: 3min 28s\n",
      "Wall time: 3min 28s\n"
     ]
    }
   ],
   "source": [
    "%%time\n",
    "logreg_model = training(LogisticRegression(class_weight='balanced',\n",
    "                                           random_state=RANDOM_STATE), {\"model__C\":[5.0, 10.0, 15.0], \n",
    "                                                                        \"model__penalty\":[\"l1\", \"l2\"]})"
   ]
  },
  {
   "cell_type": "markdown",
   "metadata": {},
   "source": [
    "### Модель Дерева решений"
   ]
  },
  {
   "cell_type": "code",
   "execution_count": 16,
   "metadata": {},
   "outputs": [
    {
     "name": "stdout",
     "output_type": "stream",
     "text": [
      "Лучшая метрика f1: 0.5409024500549161\n",
      "Лучшие гиперпараметры модели: {'model__criterion': 'gini', 'model__max_depth': 6}\n",
      "CPU times: user 1min 31s, sys: 21.2 ms, total: 1min 31s\n",
      "Wall time: 1min 31s\n"
     ]
    }
   ],
   "source": [
    "%%time\n",
    "decision_model = training(DecisionTreeClassifier(class_weight='balanced',\n",
    "                                            random_state=RANDOM_STATE), {'model__criterion':['gini','entropy'],\n",
    "                                                                         'model__max_depth':[2,4,6]})"
   ]
  },
  {
   "cell_type": "markdown",
   "metadata": {},
   "source": [
    "### Модель мультиномиального распределения"
   ]
  },
  {
   "cell_type": "code",
   "execution_count": 17,
   "metadata": {},
   "outputs": [
    {
     "name": "stdout",
     "output_type": "stream",
     "text": [
      "Лучшая метрика f1: 0.6524872890899522\n",
      "Лучшие гиперпараметры модели: {'model__alpha': 0.01}\n",
      "CPU times: user 41.3 s, sys: 0 ns, total: 41.3 s\n",
      "Wall time: 41.4 s\n"
     ]
    }
   ],
   "source": [
    "%%time\n",
    "nb_model = training(MultinomialNB(), {'model__alpha': [0.01, 0.1, 1, 10]})"
   ]
  },
  {
   "cell_type": "markdown",
   "metadata": {},
   "source": [
    "### Тест"
   ]
  },
  {
   "cell_type": "markdown",
   "metadata": {},
   "source": [
    "Лучший результат показала модель логистической регресси, поэтому протестируем её на тестовой выборке:"
   ]
  },
  {
   "cell_type": "code",
   "execution_count": 18,
   "metadata": {},
   "outputs": [
    {
     "name": "stdout",
     "output_type": "stream",
     "text": [
      "Метрика f1 на тестовой выборке модели LogisticRegression: 0.7588181401740723\n"
     ]
    }
   ],
   "source": [
    "res = f1_score(y_test, logreg_model.predict(X_test))\n",
    "\n",
    "print(f\"Метрика f1 на тестовой выборке модели LogisticRegression: {res}\")"
   ]
  },
  {
   "cell_type": "markdown",
   "metadata": {},
   "source": [
    "## Выводы"
   ]
  },
  {
   "cell_type": "markdown",
   "metadata": {},
   "source": [
    "Выгруженные данные подготовленны:\n",
    "    \n",
    "> Все текстовые значения приведены к нижнему регистру\n",
    "\n",
    "> Исключены все знаки остановов и различные экранирующие символы\n",
    "\n",
    "> Произведена токенезация и лемматизация всех слов в текстах\n",
    "\n",
    "> Исключены все стоп слова, которые не нужны и усложняют обучение моделей\n",
    "\n",
    "В результате обработки получили корпус слов, который можно использовать для обучения моделей. Векторизация текстов произведена при помощи TF-IDF метода.\n",
    "\n",
    "Для обучения модели было принято решение использовать модели: `LogisticRegression`, `DecisionTreeClassifier`, `MultinomialNB`.\n",
    "Данные модели показали такие результаты метрики `f1` на кросс-валидации `cv=3`:\n",
    "\n",
    "\n",
    "| Модель МО | Метрика f1 (валидационная выборка) | Время обучения |\n",
    "|:------------:|:---------------:|:---------------:|\n",
    "| LogisticRegression | 0.7546 | 3min 28s |\n",
    "| DecisionTreeRegressor | 0.5409 | 1min 31s |\n",
    "| MultinomialNB | 0.6524 | 41.4s |\n",
    "\n",
    "Лучший результат метрики `f1`, который соответвует поставленной задаче, у модели логистической регрессии. Данную модель было решено использовать для предсказаний на тестовых данных. Метрика `f1` на тесте получиласл `0.7595`"
   ]
  },
  {
   "cell_type": "markdown",
   "metadata": {},
   "source": [
    "## Чек-лист проверки"
   ]
  },
  {
   "cell_type": "markdown",
   "metadata": {},
   "source": [
    "- [x]  Jupyter Notebook открыт\n",
    "- [x]  Весь код выполняется без ошибок\n",
    "- [x]  Ячейки с кодом расположены в порядке исполнения\n",
    "- [x]  Данные загружены и подготовлены\n",
    "- [x]  Модели обучены\n",
    "- [x]  Значение метрики *F1* не меньше 0.75\n",
    "- [x]  Выводы написаны"
   ]
  }
 ],
 "metadata": {
  "ExecuteTimeLog": [
   {
    "duration": 76,
    "start_time": "2024-07-30T10:55:32.545Z"
   },
   {
    "duration": 1796,
    "start_time": "2024-07-30T11:23:24.170Z"
   },
   {
    "duration": 3,
    "start_time": "2024-07-30T11:28:20.239Z"
   },
   {
    "duration": 1147,
    "start_time": "2024-07-30T11:29:30.912Z"
   },
   {
    "duration": 941,
    "start_time": "2024-07-30T11:32:26.650Z"
   },
   {
    "duration": 8,
    "start_time": "2024-07-30T11:32:43.000Z"
   },
   {
    "duration": 8,
    "start_time": "2024-07-30T11:32:48.512Z"
   },
   {
    "duration": 922,
    "start_time": "2024-07-30T11:34:19.966Z"
   },
   {
    "duration": 8,
    "start_time": "2024-07-30T11:34:21.210Z"
   },
   {
    "duration": 387,
    "start_time": "2024-07-30T11:34:54.616Z"
   },
   {
    "duration": 1027,
    "start_time": "2024-07-30T11:34:55.005Z"
   },
   {
    "duration": 15,
    "start_time": "2024-07-30T11:34:56.033Z"
   },
   {
    "duration": 14,
    "start_time": "2024-07-30T11:35:13.635Z"
   },
   {
    "duration": 12,
    "start_time": "2024-07-30T11:35:18.986Z"
   },
   {
    "duration": 12,
    "start_time": "2024-07-30T11:35:25.080Z"
   },
   {
    "duration": 8,
    "start_time": "2024-07-30T11:35:32.713Z"
   },
   {
    "duration": 412,
    "start_time": "2024-07-30T11:35:42.289Z"
   },
   {
    "duration": 989,
    "start_time": "2024-07-30T11:35:42.703Z"
   },
   {
    "duration": 16,
    "start_time": "2024-07-30T11:35:43.693Z"
   },
   {
    "duration": 945,
    "start_time": "2024-07-30T11:36:19.285Z"
   },
   {
    "duration": 1465,
    "start_time": "2024-07-30T11:36:24.422Z"
   },
   {
    "duration": 953,
    "start_time": "2024-07-30T11:36:25.889Z"
   },
   {
    "duration": 8,
    "start_time": "2024-07-30T11:36:26.844Z"
   },
   {
    "duration": 3,
    "start_time": "2024-07-30T11:36:36.108Z"
   },
   {
    "duration": 957,
    "start_time": "2024-07-30T11:36:43.249Z"
   },
   {
    "duration": 7,
    "start_time": "2024-07-30T11:36:44.208Z"
   },
   {
    "duration": 954,
    "start_time": "2024-07-30T11:36:52.985Z"
   },
   {
    "duration": 10,
    "start_time": "2024-07-30T11:36:53.941Z"
   },
   {
    "duration": 928,
    "start_time": "2024-07-30T11:36:58.935Z"
   },
   {
    "duration": 9,
    "start_time": "2024-07-30T11:37:00.029Z"
   },
   {
    "duration": 957,
    "start_time": "2024-07-30T11:37:04.747Z"
   },
   {
    "duration": 8,
    "start_time": "2024-07-30T11:37:05.706Z"
   },
   {
    "duration": 929,
    "start_time": "2024-07-30T11:37:10.893Z"
   },
   {
    "duration": 8,
    "start_time": "2024-07-30T11:37:11.824Z"
   },
   {
    "duration": 943,
    "start_time": "2024-07-30T11:39:37.220Z"
   },
   {
    "duration": 7,
    "start_time": "2024-07-30T11:39:38.164Z"
   },
   {
    "duration": 927,
    "start_time": "2024-07-30T11:39:41.350Z"
   },
   {
    "duration": 8,
    "start_time": "2024-07-30T11:39:42.282Z"
   },
   {
    "duration": 919,
    "start_time": "2024-07-30T11:39:50.599Z"
   },
   {
    "duration": 7,
    "start_time": "2024-07-30T11:39:51.520Z"
   },
   {
    "duration": 951,
    "start_time": "2024-07-30T11:39:58.692Z"
   },
   {
    "duration": 8,
    "start_time": "2024-07-30T11:39:59.645Z"
   },
   {
    "duration": 927,
    "start_time": "2024-07-30T11:40:04.181Z"
   },
   {
    "duration": 8,
    "start_time": "2024-07-30T11:40:05.109Z"
   },
   {
    "duration": 4,
    "start_time": "2024-07-30T11:40:31.285Z"
   },
   {
    "duration": 963,
    "start_time": "2024-07-30T11:43:44.908Z"
   },
   {
    "duration": 10,
    "start_time": "2024-07-30T11:43:46.761Z"
   },
   {
    "duration": 440,
    "start_time": "2024-07-30T11:44:04.967Z"
   },
   {
    "duration": 1043,
    "start_time": "2024-07-30T11:44:05.409Z"
   },
   {
    "duration": 15,
    "start_time": "2024-07-30T11:44:06.454Z"
   },
   {
    "duration": 14,
    "start_time": "2024-07-30T11:44:06.471Z"
   },
   {
    "duration": 28549,
    "start_time": "2024-07-30T11:46:44.244Z"
   },
   {
    "duration": 415,
    "start_time": "2024-07-30T12:06:35.513Z"
   },
   {
    "duration": 1111,
    "start_time": "2024-07-30T12:06:35.930Z"
   },
   {
    "duration": 15,
    "start_time": "2024-07-30T12:06:37.043Z"
   },
   {
    "duration": 149,
    "start_time": "2024-07-30T12:06:37.060Z"
   },
   {
    "duration": 1011,
    "start_time": "2024-07-30T12:06:44.561Z"
   },
   {
    "duration": 12,
    "start_time": "2024-07-30T12:06:45.575Z"
   },
   {
    "duration": 1077,
    "start_time": "2024-07-30T12:06:50.935Z"
   },
   {
    "duration": 8,
    "start_time": "2024-07-30T12:06:53.351Z"
   },
   {
    "duration": 435,
    "start_time": "2024-07-30T12:07:01.197Z"
   },
   {
    "duration": 1081,
    "start_time": "2024-07-30T12:07:01.634Z"
   },
   {
    "duration": 15,
    "start_time": "2024-07-30T12:07:02.717Z"
   },
   {
    "duration": 18,
    "start_time": "2024-07-30T12:07:02.735Z"
   },
   {
    "duration": 9,
    "start_time": "2024-07-30T12:07:09.236Z"
   },
   {
    "duration": 1020,
    "start_time": "2024-07-30T12:07:34.750Z"
   },
   {
    "duration": 9,
    "start_time": "2024-07-30T12:07:37.161Z"
   },
   {
    "duration": 12,
    "start_time": "2024-07-30T12:07:50.136Z"
   },
   {
    "duration": 949,
    "start_time": "2024-07-30T12:11:02.829Z"
   },
   {
    "duration": 12,
    "start_time": "2024-07-30T12:11:05.457Z"
   },
   {
    "duration": 414,
    "start_time": "2024-07-30T12:11:25.697Z"
   },
   {
    "duration": 1002,
    "start_time": "2024-07-30T12:11:26.112Z"
   },
   {
    "duration": 18,
    "start_time": "2024-07-30T12:11:27.116Z"
   },
   {
    "duration": 5,
    "start_time": "2024-07-30T12:11:27.136Z"
   },
   {
    "duration": 40,
    "start_time": "2024-07-30T12:29:10.835Z"
   },
   {
    "duration": 408,
    "start_time": "2024-07-30T12:30:28.623Z"
   },
   {
    "duration": 1060,
    "start_time": "2024-07-30T12:30:29.033Z"
   },
   {
    "duration": 26,
    "start_time": "2024-07-30T12:30:30.097Z"
   },
   {
    "duration": 78,
    "start_time": "2024-07-30T12:30:30.125Z"
   },
   {
    "duration": 15,
    "start_time": "2024-07-30T12:30:48.768Z"
   },
   {
    "duration": 16,
    "start_time": "2024-07-30T12:30:55.751Z"
   },
   {
    "duration": 967,
    "start_time": "2024-07-30T12:31:38.100Z"
   },
   {
    "duration": 20,
    "start_time": "2024-07-30T12:31:39.070Z"
   },
   {
    "duration": 12,
    "start_time": "2024-07-30T12:31:42.091Z"
   },
   {
    "duration": 23,
    "start_time": "2024-07-30T12:32:53.472Z"
   },
   {
    "duration": 12,
    "start_time": "2024-07-30T12:32:58.067Z"
   },
   {
    "duration": 12,
    "start_time": "2024-07-30T12:33:06.660Z"
   },
   {
    "duration": 664,
    "start_time": "2024-07-30T12:33:48.563Z"
   },
   {
    "duration": 7,
    "start_time": "2024-07-30T12:34:08.642Z"
   },
   {
    "duration": 417,
    "start_time": "2024-07-30T12:34:17.489Z"
   },
   {
    "duration": 117,
    "start_time": "2024-07-30T12:34:28.135Z"
   },
   {
    "duration": 79,
    "start_time": "2024-07-30T12:34:33.172Z"
   },
   {
    "duration": 115,
    "start_time": "2024-07-30T12:34:37.128Z"
   },
   {
    "duration": 17,
    "start_time": "2024-07-30T12:36:15.335Z"
   },
   {
    "duration": 17,
    "start_time": "2024-07-30T12:36:38.925Z"
   },
   {
    "duration": 17,
    "start_time": "2024-07-30T12:37:59.776Z"
   },
   {
    "duration": 11,
    "start_time": "2024-07-30T12:38:02.496Z"
   },
   {
    "duration": 11,
    "start_time": "2024-07-30T12:38:04.745Z"
   },
   {
    "duration": 15,
    "start_time": "2024-07-30T12:38:54.185Z"
   },
   {
    "duration": 3,
    "start_time": "2024-07-30T12:39:00.022Z"
   },
   {
    "duration": 8,
    "start_time": "2024-07-30T12:39:02.127Z"
   },
   {
    "duration": 8,
    "start_time": "2024-07-30T12:39:08.355Z"
   },
   {
    "duration": 16,
    "start_time": "2024-07-30T12:39:19.974Z"
   },
   {
    "duration": 12,
    "start_time": "2024-07-30T12:39:26.313Z"
   },
   {
    "duration": 13,
    "start_time": "2024-07-30T12:40:01.377Z"
   },
   {
    "duration": 21,
    "start_time": "2024-07-30T12:40:03.934Z"
   },
   {
    "duration": 12,
    "start_time": "2024-07-30T12:40:14.549Z"
   },
   {
    "duration": 15,
    "start_time": "2024-07-30T12:40:16.586Z"
   },
   {
    "duration": 17,
    "start_time": "2024-07-30T12:41:44.949Z"
   },
   {
    "duration": 11,
    "start_time": "2024-07-30T12:41:49.630Z"
   },
   {
    "duration": 12,
    "start_time": "2024-07-30T12:41:51.318Z"
   },
   {
    "duration": 905,
    "start_time": "2024-07-30T12:45:39.012Z"
   },
   {
    "duration": 911,
    "start_time": "2024-07-30T12:46:10.822Z"
   },
   {
    "duration": 12,
    "start_time": "2024-07-30T12:46:52.588Z"
   },
   {
    "duration": 4,
    "start_time": "2024-07-30T12:58:16.595Z"
   },
   {
    "duration": 675,
    "start_time": "2024-07-30T12:58:36.919Z"
   },
   {
    "duration": 1088,
    "start_time": "2024-07-30T12:58:37.596Z"
   },
   {
    "duration": 21,
    "start_time": "2024-07-30T12:58:38.687Z"
   },
   {
    "duration": 79,
    "start_time": "2024-07-30T12:58:38.711Z"
   },
   {
    "duration": 45,
    "start_time": "2024-07-30T12:58:38.792Z"
   },
   {
    "duration": 137,
    "start_time": "2024-07-30T12:58:38.839Z"
   },
   {
    "duration": 103,
    "start_time": "2024-07-30T13:00:14.191Z"
   },
   {
    "duration": 120,
    "start_time": "2024-07-30T13:00:32.700Z"
   },
   {
    "duration": 124,
    "start_time": "2024-07-30T13:00:39.003Z"
   },
   {
    "duration": 140,
    "start_time": "2024-07-30T13:00:44.874Z"
   },
   {
    "duration": 166,
    "start_time": "2024-07-30T13:00:50.368Z"
   },
   {
    "duration": 109,
    "start_time": "2024-07-30T13:00:58.629Z"
   },
   {
    "duration": 131,
    "start_time": "2024-07-30T13:01:04.685Z"
   },
   {
    "duration": 113,
    "start_time": "2024-07-30T13:01:14.498Z"
   },
   {
    "duration": 109,
    "start_time": "2024-07-30T13:01:25.021Z"
   },
   {
    "duration": 19,
    "start_time": "2024-07-30T13:02:11.067Z"
   },
   {
    "duration": 107,
    "start_time": "2024-07-30T13:03:11.308Z"
   },
   {
    "duration": 107,
    "start_time": "2024-07-30T13:05:34.148Z"
   },
   {
    "duration": 109,
    "start_time": "2024-07-30T13:06:09.002Z"
   },
   {
    "duration": 111,
    "start_time": "2024-07-30T13:06:28.298Z"
   },
   {
    "duration": 110,
    "start_time": "2024-07-30T13:06:35.203Z"
   },
   {
    "duration": 112,
    "start_time": "2024-07-30T13:06:49.784Z"
   },
   {
    "duration": 122,
    "start_time": "2024-07-30T13:07:03.150Z"
   },
   {
    "duration": 202,
    "start_time": "2024-07-30T13:07:11.381Z"
   },
   {
    "duration": 108,
    "start_time": "2024-07-30T13:07:18.383Z"
   },
   {
    "duration": 112,
    "start_time": "2024-07-30T13:07:26.442Z"
   },
   {
    "duration": 139,
    "start_time": "2024-07-30T13:09:32.366Z"
   },
   {
    "duration": 134,
    "start_time": "2024-07-30T13:09:45.027Z"
   },
   {
    "duration": 129,
    "start_time": "2024-07-30T13:10:00.116Z"
   },
   {
    "duration": 129,
    "start_time": "2024-07-30T13:10:14.712Z"
   },
   {
    "duration": 127,
    "start_time": "2024-07-30T13:10:32.618Z"
   },
   {
    "duration": 137,
    "start_time": "2024-07-30T13:11:04.757Z"
   },
   {
    "duration": 181,
    "start_time": "2024-07-30T13:11:12.765Z"
   },
   {
    "duration": 147,
    "start_time": "2024-07-30T13:11:46.871Z"
   },
   {
    "duration": 148,
    "start_time": "2024-07-30T13:13:13.460Z"
   },
   {
    "duration": 3,
    "start_time": "2024-07-30T13:13:32.357Z"
   },
   {
    "duration": 232,
    "start_time": "2024-07-30T13:13:39.000Z"
   },
   {
    "duration": 152,
    "start_time": "2024-07-30T13:13:48.912Z"
   },
   {
    "duration": 139,
    "start_time": "2024-07-30T13:16:00.131Z"
   },
   {
    "duration": 142,
    "start_time": "2024-07-30T13:16:05.597Z"
   },
   {
    "duration": 133,
    "start_time": "2024-07-30T13:16:49.143Z"
   },
   {
    "duration": 157,
    "start_time": "2024-07-30T13:17:18.765Z"
   },
   {
    "duration": 163,
    "start_time": "2024-07-30T13:17:41.121Z"
   },
   {
    "duration": 155,
    "start_time": "2024-07-30T13:19:28.967Z"
   },
   {
    "duration": 154,
    "start_time": "2024-07-30T13:19:36.220Z"
   },
   {
    "duration": 158,
    "start_time": "2024-07-30T13:21:00.589Z"
   },
   {
    "duration": 164,
    "start_time": "2024-07-30T13:21:10.943Z"
   },
   {
    "duration": 261,
    "start_time": "2024-07-30T13:21:32.290Z"
   },
   {
    "duration": 63,
    "start_time": "2024-07-30T13:28:09.034Z"
   },
   {
    "duration": 687,
    "start_time": "2024-07-30T13:29:56.394Z"
   },
   {
    "duration": 1076,
    "start_time": "2024-07-30T13:29:57.083Z"
   },
   {
    "duration": 16,
    "start_time": "2024-07-30T13:29:58.160Z"
   },
   {
    "duration": 117,
    "start_time": "2024-07-30T13:29:58.179Z"
   },
   {
    "duration": 18,
    "start_time": "2024-07-30T13:29:58.299Z"
   },
   {
    "duration": 83,
    "start_time": "2024-07-30T13:29:58.319Z"
   },
   {
    "duration": 193,
    "start_time": "2024-07-30T13:29:58.404Z"
   },
   {
    "duration": 78,
    "start_time": "2024-07-30T13:32:31.032Z"
   },
   {
    "duration": 8,
    "start_time": "2024-07-30T13:32:38.975Z"
   },
   {
    "duration": 29,
    "start_time": "2024-07-30T13:33:04.029Z"
   },
   {
    "duration": 169,
    "start_time": "2024-07-30T13:53:35.358Z"
   },
   {
    "duration": 175,
    "start_time": "2024-07-30T13:54:37.579Z"
   },
   {
    "duration": 2387,
    "start_time": "2024-07-30T14:05:11.363Z"
   },
   {
    "duration": 3,
    "start_time": "2024-07-30T14:14:22.040Z"
   },
   {
    "duration": 4,
    "start_time": "2024-07-30T14:32:38.950Z"
   },
   {
    "duration": 2651,
    "start_time": "2024-07-30T14:33:58.883Z"
   },
   {
    "duration": 5,
    "start_time": "2024-07-30T14:42:28.163Z"
   },
   {
    "duration": 37882,
    "start_time": "2024-07-30T14:42:34.460Z"
   },
   {
    "duration": 3,
    "start_time": "2024-07-30T14:43:41.940Z"
   },
   {
    "duration": 1734,
    "start_time": "2024-07-30T14:43:49.811Z"
   },
   {
    "duration": 1072,
    "start_time": "2024-07-30T14:43:51.547Z"
   },
   {
    "duration": 17,
    "start_time": "2024-07-30T14:43:52.622Z"
   },
   {
    "duration": 106,
    "start_time": "2024-07-30T14:43:52.641Z"
   },
   {
    "duration": 20,
    "start_time": "2024-07-30T14:43:52.748Z"
   },
   {
    "duration": 226,
    "start_time": "2024-07-30T14:43:52.770Z"
   },
   {
    "duration": 10,
    "start_time": "2024-07-30T14:43:52.998Z"
   },
   {
    "duration": 8,
    "start_time": "2024-07-30T14:43:53.010Z"
   },
   {
    "duration": 6,
    "start_time": "2024-07-30T14:43:53.020Z"
   },
   {
    "duration": 2755,
    "start_time": "2024-07-30T14:43:53.027Z"
   },
   {
    "duration": 142,
    "start_time": "2024-07-30T14:43:55.784Z"
   },
   {
    "duration": 6,
    "start_time": "2024-07-30T14:47:49.953Z"
   },
   {
    "duration": 4,
    "start_time": "2024-07-30T14:47:53.378Z"
   },
   {
    "duration": 1692,
    "start_time": "2024-07-30T14:47:55.800Z"
   },
   {
    "duration": 2066,
    "start_time": "2024-07-30T14:48:13.009Z"
   },
   {
    "duration": 1130,
    "start_time": "2024-07-30T14:48:15.078Z"
   },
   {
    "duration": 24,
    "start_time": "2024-07-30T14:48:16.211Z"
   },
   {
    "duration": 132,
    "start_time": "2024-07-30T14:48:16.237Z"
   },
   {
    "duration": 22,
    "start_time": "2024-07-30T14:48:16.372Z"
   },
   {
    "duration": 214,
    "start_time": "2024-07-30T14:48:16.396Z"
   },
   {
    "duration": 13,
    "start_time": "2024-07-30T14:48:16.613Z"
   },
   {
    "duration": 7,
    "start_time": "2024-07-30T14:48:16.629Z"
   },
   {
    "duration": 11,
    "start_time": "2024-07-30T14:48:16.638Z"
   },
   {
    "duration": 1783,
    "start_time": "2024-07-30T14:48:16.651Z"
   },
   {
    "duration": 0,
    "start_time": "2024-07-30T14:48:18.435Z"
   },
   {
    "duration": 4,
    "start_time": "2024-07-30T14:48:23.415Z"
   },
   {
    "duration": 38391,
    "start_time": "2024-07-30T14:48:24.914Z"
   },
   {
    "duration": 6,
    "start_time": "2024-07-30T14:49:13.407Z"
   },
   {
    "duration": 5,
    "start_time": "2024-07-30T14:51:02.796Z"
   },
   {
    "duration": 41072,
    "start_time": "2024-07-30T14:51:05.305Z"
   },
   {
    "duration": 3,
    "start_time": "2024-07-30T14:53:03.757Z"
   },
   {
    "duration": 4,
    "start_time": "2024-07-30T14:53:27.551Z"
   },
   {
    "duration": 39037,
    "start_time": "2024-07-30T14:54:06.468Z"
   },
   {
    "duration": 4,
    "start_time": "2024-07-30T14:55:11.442Z"
   },
   {
    "duration": 3,
    "start_time": "2024-07-30T14:55:16.986Z"
   },
   {
    "duration": 4,
    "start_time": "2024-07-30T14:55:18.954Z"
   },
   {
    "duration": 1718,
    "start_time": "2024-07-30T14:55:54.719Z"
   },
   {
    "duration": 1076,
    "start_time": "2024-07-30T14:55:56.439Z"
   },
   {
    "duration": 17,
    "start_time": "2024-07-30T14:55:57.517Z"
   },
   {
    "duration": 114,
    "start_time": "2024-07-30T14:55:57.536Z"
   },
   {
    "duration": 21,
    "start_time": "2024-07-30T14:55:57.652Z"
   },
   {
    "duration": 276,
    "start_time": "2024-07-30T14:55:57.682Z"
   },
   {
    "duration": 12,
    "start_time": "2024-07-30T14:55:57.960Z"
   },
   {
    "duration": 15,
    "start_time": "2024-07-30T14:55:57.974Z"
   },
   {
    "duration": 4,
    "start_time": "2024-07-30T14:55:57.991Z"
   },
   {
    "duration": 8,
    "start_time": "2024-07-30T14:55:57.998Z"
   },
   {
    "duration": 2880,
    "start_time": "2024-07-30T14:55:58.008Z"
   },
   {
    "duration": 6,
    "start_time": "2024-07-30T14:56:00.890Z"
   },
   {
    "duration": 144,
    "start_time": "2024-07-30T14:56:00.898Z"
   },
   {
    "duration": 1481,
    "start_time": "2024-07-30T14:56:01.044Z"
   },
   {
    "duration": 3,
    "start_time": "2024-07-30T14:56:28.723Z"
   },
   {
    "duration": 6,
    "start_time": "2024-07-30T14:56:30.860Z"
   },
   {
    "duration": 1920,
    "start_time": "2024-07-30T14:56:37.508Z"
   },
   {
    "duration": 1042,
    "start_time": "2024-07-30T14:56:39.430Z"
   },
   {
    "duration": 16,
    "start_time": "2024-07-30T14:56:40.474Z"
   },
   {
    "duration": 138,
    "start_time": "2024-07-30T14:56:40.492Z"
   },
   {
    "duration": 20,
    "start_time": "2024-07-30T14:56:40.632Z"
   },
   {
    "duration": 197,
    "start_time": "2024-07-30T14:56:40.654Z"
   },
   {
    "duration": 9,
    "start_time": "2024-07-30T14:56:40.852Z"
   },
   {
    "duration": 22,
    "start_time": "2024-07-30T14:56:40.862Z"
   },
   {
    "duration": 4,
    "start_time": "2024-07-30T14:56:40.886Z"
   },
   {
    "duration": 10,
    "start_time": "2024-07-30T14:56:40.892Z"
   },
   {
    "duration": 2537,
    "start_time": "2024-07-30T14:56:40.903Z"
   },
   {
    "duration": 4,
    "start_time": "2024-07-30T14:56:43.442Z"
   },
   {
    "duration": 3,
    "start_time": "2024-07-30T14:56:43.448Z"
   },
   {
    "duration": 1464,
    "start_time": "2024-07-30T14:56:43.453Z"
   },
   {
    "duration": 4,
    "start_time": "2024-07-30T14:57:21.471Z"
   },
   {
    "duration": 2667,
    "start_time": "2024-07-30T14:57:40.709Z"
   },
   {
    "duration": 4,
    "start_time": "2024-07-30T14:57:46.785Z"
   },
   {
    "duration": 3,
    "start_time": "2024-07-30T14:57:53.536Z"
   },
   {
    "duration": 4,
    "start_time": "2024-07-30T14:57:54.914Z"
   },
   {
    "duration": 5,
    "start_time": "2024-07-30T15:02:26.435Z"
   },
   {
    "duration": 68,
    "start_time": "2024-07-30T15:04:22.931Z"
   },
   {
    "duration": 65,
    "start_time": "2024-07-30T15:04:46.164Z"
   },
   {
    "duration": 5,
    "start_time": "2024-07-30T15:07:18.349Z"
   },
   {
    "duration": 5,
    "start_time": "2024-07-30T15:10:44.839Z"
   },
   {
    "duration": 4,
    "start_time": "2024-07-30T15:10:56.607Z"
   },
   {
    "duration": 6,
    "start_time": "2024-07-30T15:11:31.571Z"
   },
   {
    "duration": 4,
    "start_time": "2024-07-30T15:11:32.059Z"
   },
   {
    "duration": 5,
    "start_time": "2024-07-30T15:12:08.110Z"
   },
   {
    "duration": 21327,
    "start_time": "2024-07-30T15:12:24.408Z"
   },
   {
    "duration": 8,
    "start_time": "2024-07-30T15:12:58.146Z"
   },
   {
    "duration": 7,
    "start_time": "2024-07-30T15:13:09.463Z"
   },
   {
    "duration": 20300,
    "start_time": "2024-07-30T15:14:45.343Z"
   },
   {
    "duration": 9,
    "start_time": "2024-07-30T15:15:29.903Z"
   },
   {
    "duration": 20649,
    "start_time": "2024-07-30T15:20:14.892Z"
   },
   {
    "duration": 6,
    "start_time": "2024-07-30T15:21:27.104Z"
   },
   {
    "duration": 5,
    "start_time": "2024-07-30T15:21:35.434Z"
   },
   {
    "duration": 9,
    "start_time": "2024-07-30T15:21:43.976Z"
   },
   {
    "duration": 9,
    "start_time": "2024-07-30T15:23:50.445Z"
   },
   {
    "duration": 1875,
    "start_time": "2024-07-30T15:23:50.457Z"
   },
   {
    "duration": 6,
    "start_time": "2024-07-30T15:23:52.334Z"
   },
   {
    "duration": 1675,
    "start_time": "2024-07-30T15:23:52.383Z"
   },
   {
    "duration": 24,
    "start_time": "2024-07-30T15:23:54.061Z"
   },
   {
    "duration": 115,
    "start_time": "2024-07-30T15:23:54.087Z"
   },
   {
    "duration": 19,
    "start_time": "2024-07-30T15:23:54.204Z"
   },
   {
    "duration": 206,
    "start_time": "2024-07-30T15:23:54.224Z"
   },
   {
    "duration": 8,
    "start_time": "2024-07-30T15:23:54.432Z"
   },
   {
    "duration": 41383,
    "start_time": "2024-07-30T15:23:54.442Z"
   },
   {
    "duration": 6,
    "start_time": "2024-07-30T15:24:35.828Z"
   },
   {
    "duration": 6,
    "start_time": "2024-07-30T15:26:45.836Z"
   },
   {
    "duration": 6,
    "start_time": "2024-07-30T15:26:54.636Z"
   },
   {
    "duration": 138,
    "start_time": "2024-07-30T15:33:30.849Z"
   },
   {
    "duration": 6,
    "start_time": "2024-07-30T15:34:07.282Z"
   },
   {
    "duration": 71,
    "start_time": "2024-07-30T15:34:10.869Z"
   },
   {
    "duration": 6,
    "start_time": "2024-07-30T15:38:11.157Z"
   },
   {
    "duration": 11329,
    "start_time": "2024-07-30T15:59:56.147Z"
   },
   {
    "duration": 3256,
    "start_time": "2024-07-30T16:00:15.869Z"
   },
   {
    "duration": 2519,
    "start_time": "2024-07-30T16:00:19.127Z"
   },
   {
    "duration": 1089,
    "start_time": "2024-07-30T16:00:21.647Z"
   },
   {
    "duration": 16,
    "start_time": "2024-07-30T16:00:22.738Z"
   },
   {
    "duration": 117,
    "start_time": "2024-07-30T16:00:22.756Z"
   },
   {
    "duration": 23,
    "start_time": "2024-07-30T16:00:22.875Z"
   },
   {
    "duration": 208,
    "start_time": "2024-07-30T16:00:22.900Z"
   },
   {
    "duration": 8,
    "start_time": "2024-07-30T16:00:23.109Z"
   },
   {
    "duration": 40551,
    "start_time": "2024-07-30T16:00:23.119Z"
   },
   {
    "duration": 76,
    "start_time": "2024-07-30T16:01:03.672Z"
   },
   {
    "duration": 192,
    "start_time": "2024-07-30T16:31:53.823Z"
   },
   {
    "duration": 9,
    "start_time": "2024-07-30T16:32:58.099Z"
   },
   {
    "duration": 20,
    "start_time": "2024-07-30T16:33:07.926Z"
   },
   {
    "duration": 17,
    "start_time": "2024-07-30T16:33:34.600Z"
   },
   {
    "duration": 6,
    "start_time": "2024-07-30T16:35:06.662Z"
   },
   {
    "duration": 6,
    "start_time": "2024-07-30T16:35:12.076Z"
   },
   {
    "duration": 155,
    "start_time": "2024-07-30T16:35:20.483Z"
   },
   {
    "duration": 143,
    "start_time": "2024-07-30T16:35:25.223Z"
   },
   {
    "duration": 16,
    "start_time": "2024-07-30T16:35:51.351Z"
   },
   {
    "duration": 2472,
    "start_time": "2024-07-30T16:36:38.318Z"
   },
   {
    "duration": 4,
    "start_time": "2024-07-30T16:36:40.792Z"
   },
   {
    "duration": 10,
    "start_time": "2024-07-30T16:36:49.915Z"
   },
   {
    "duration": 4,
    "start_time": "2024-07-30T16:36:54.329Z"
   },
   {
    "duration": 3292,
    "start_time": "2024-07-30T16:37:27.903Z"
   },
   {
    "duration": 2226,
    "start_time": "2024-07-30T16:37:31.198Z"
   },
   {
    "duration": 1461,
    "start_time": "2024-07-30T16:37:33.426Z"
   },
   {
    "duration": 16,
    "start_time": "2024-07-30T16:37:34.890Z"
   },
   {
    "duration": 116,
    "start_time": "2024-07-30T16:37:34.908Z"
   },
   {
    "duration": 19,
    "start_time": "2024-07-30T16:37:35.025Z"
   },
   {
    "duration": 212,
    "start_time": "2024-07-30T16:37:35.046Z"
   },
   {
    "duration": 8,
    "start_time": "2024-07-30T16:37:35.259Z"
   },
   {
    "duration": 39379,
    "start_time": "2024-07-30T16:37:35.281Z"
   },
   {
    "duration": 2354,
    "start_time": "2024-07-30T16:38:14.663Z"
   },
   {
    "duration": 4,
    "start_time": "2024-07-30T16:38:17.019Z"
   },
   {
    "duration": 3318,
    "start_time": "2024-07-30T16:40:33.988Z"
   },
   {
    "duration": 2118,
    "start_time": "2024-07-30T16:40:37.309Z"
   },
   {
    "duration": 1441,
    "start_time": "2024-07-30T16:40:39.429Z"
   },
   {
    "duration": 16,
    "start_time": "2024-07-30T16:40:40.871Z"
   },
   {
    "duration": 112,
    "start_time": "2024-07-30T16:40:40.889Z"
   },
   {
    "duration": 18,
    "start_time": "2024-07-30T16:40:41.003Z"
   },
   {
    "duration": 197,
    "start_time": "2024-07-30T16:40:41.023Z"
   },
   {
    "duration": 9,
    "start_time": "2024-07-30T16:40:41.221Z"
   },
   {
    "duration": 39941,
    "start_time": "2024-07-30T16:40:41.232Z"
   },
   {
    "duration": 194,
    "start_time": "2024-07-30T16:41:21.174Z"
   },
   {
    "duration": 10,
    "start_time": "2024-07-30T16:41:21.369Z"
   },
   {
    "duration": 0,
    "start_time": "2024-07-30T16:41:21.381Z"
   },
   {
    "duration": 0,
    "start_time": "2024-07-30T16:41:21.382Z"
   },
   {
    "duration": 0,
    "start_time": "2024-07-30T16:41:21.383Z"
   },
   {
    "duration": 0,
    "start_time": "2024-07-30T16:41:21.384Z"
   },
   {
    "duration": 5,
    "start_time": "2024-07-30T16:41:54.317Z"
   },
   {
    "duration": 20479,
    "start_time": "2024-07-30T16:41:58.138Z"
   },
   {
    "duration": 8,
    "start_time": "2024-07-30T16:42:25.888Z"
   },
   {
    "duration": 36189,
    "start_time": "2024-07-30T16:42:29.481Z"
   },
   {
    "duration": 6901,
    "start_time": "2024-07-31T15:59:50.903Z"
   },
   {
    "duration": 1730,
    "start_time": "2024-07-31T15:59:57.807Z"
   },
   {
    "duration": 3985,
    "start_time": "2024-07-31T15:59:59.539Z"
   },
   {
    "duration": 15,
    "start_time": "2024-07-31T16:00:03.526Z"
   },
   {
    "duration": 113,
    "start_time": "2024-07-31T16:00:03.543Z"
   },
   {
    "duration": 17,
    "start_time": "2024-07-31T16:00:03.658Z"
   },
   {
    "duration": 195,
    "start_time": "2024-07-31T16:00:03.676Z"
   },
   {
    "duration": 8,
    "start_time": "2024-07-31T16:00:03.873Z"
   },
   {
    "duration": 15,
    "start_time": "2024-07-31T16:00:03.883Z"
   },
   {
    "duration": 34883,
    "start_time": "2024-07-31T16:00:03.900Z"
   },
   {
    "duration": 32266,
    "start_time": "2024-07-31T16:00:38.785Z"
   },
   {
    "duration": 32043,
    "start_time": "2024-07-31T16:22:15.926Z"
   },
   {
    "duration": 32681,
    "start_time": "2024-07-31T16:23:24.339Z"
   },
   {
    "duration": 32726,
    "start_time": "2024-07-31T16:25:13.436Z"
   },
   {
    "duration": 32663,
    "start_time": "2024-07-31T16:27:28.789Z"
   },
   {
    "duration": 33174,
    "start_time": "2024-07-31T16:36:24.573Z"
   },
   {
    "duration": 838,
    "start_time": "2024-07-31T18:51:18.014Z"
   },
   {
    "duration": 3365,
    "start_time": "2024-07-31T18:51:32.362Z"
   },
   {
    "duration": 1824,
    "start_time": "2024-07-31T18:51:35.730Z"
   },
   {
    "duration": 941,
    "start_time": "2024-07-31T18:51:37.556Z"
   },
   {
    "duration": 17,
    "start_time": "2024-07-31T18:51:38.499Z"
   },
   {
    "duration": 116,
    "start_time": "2024-07-31T18:51:38.518Z"
   },
   {
    "duration": 16,
    "start_time": "2024-07-31T18:51:38.635Z"
   },
   {
    "duration": 189,
    "start_time": "2024-07-31T18:51:38.653Z"
   },
   {
    "duration": 7,
    "start_time": "2024-07-31T18:51:38.844Z"
   },
   {
    "duration": 4,
    "start_time": "2024-07-31T18:51:38.853Z"
   },
   {
    "duration": 35619,
    "start_time": "2024-07-31T18:51:38.859Z"
   },
   {
    "duration": 31686,
    "start_time": "2024-07-31T18:52:14.479Z"
   },
   {
    "duration": 3,
    "start_time": "2024-07-31T18:56:32.862Z"
   },
   {
    "duration": 5,
    "start_time": "2024-07-31T18:57:56.205Z"
   },
   {
    "duration": 4,
    "start_time": "2024-07-31T18:58:10.284Z"
   },
   {
    "duration": 4,
    "start_time": "2024-07-31T19:05:10.484Z"
   },
   {
    "duration": 33882,
    "start_time": "2024-07-31T19:06:50.216Z"
   },
   {
    "duration": 2743,
    "start_time": "2024-07-31T20:27:42.953Z"
   },
   {
    "duration": 1416,
    "start_time": "2024-07-31T20:27:45.698Z"
   },
   {
    "duration": 871,
    "start_time": "2024-07-31T20:27:47.115Z"
   },
   {
    "duration": 17,
    "start_time": "2024-07-31T20:27:47.988Z"
   },
   {
    "duration": 105,
    "start_time": "2024-07-31T20:27:48.006Z"
   },
   {
    "duration": 16,
    "start_time": "2024-07-31T20:27:48.112Z"
   },
   {
    "duration": 172,
    "start_time": "2024-07-31T20:27:48.129Z"
   },
   {
    "duration": 7,
    "start_time": "2024-07-31T20:27:48.303Z"
   },
   {
    "duration": 4,
    "start_time": "2024-07-31T20:27:48.311Z"
   },
   {
    "duration": 32860,
    "start_time": "2024-07-31T20:27:48.317Z"
   },
   {
    "duration": 30073,
    "start_time": "2024-07-31T20:28:21.178Z"
   },
   {
    "duration": 12,
    "start_time": "2024-07-31T20:33:52.532Z"
   },
   {
    "duration": 2,
    "start_time": "2024-07-31T20:34:25.158Z"
   },
   {
    "duration": 27449,
    "start_time": "2024-07-31T20:34:33.524Z"
   },
   {
    "duration": 6,
    "start_time": "2024-07-31T20:41:43.558Z"
   },
   {
    "duration": 2297,
    "start_time": "2024-07-31T20:42:03.123Z"
   },
   {
    "duration": 5,
    "start_time": "2024-07-31T20:42:16.500Z"
   },
   {
    "duration": 4,
    "start_time": "2024-07-31T20:42:28.677Z"
   },
   {
    "duration": 298958,
    "start_time": "2024-07-31T20:42:29.448Z"
   },
   {
    "duration": 6630,
    "start_time": "2024-08-01T11:37:48.865Z"
   },
   {
    "duration": 1766,
    "start_time": "2024-08-01T11:37:55.497Z"
   },
   {
    "duration": 1240,
    "start_time": "2024-08-01T11:37:57.265Z"
   },
   {
    "duration": 19,
    "start_time": "2024-08-01T11:37:58.508Z"
   },
   {
    "duration": 112,
    "start_time": "2024-08-01T11:37:58.529Z"
   },
   {
    "duration": 18,
    "start_time": "2024-08-01T11:37:58.642Z"
   },
   {
    "duration": 178,
    "start_time": "2024-08-01T11:37:58.661Z"
   },
   {
    "duration": 7,
    "start_time": "2024-08-01T11:37:58.840Z"
   },
   {
    "duration": 4,
    "start_time": "2024-08-01T11:37:58.848Z"
   },
   {
    "duration": 32442,
    "start_time": "2024-08-01T11:37:58.855Z"
   },
   {
    "duration": 28002,
    "start_time": "2024-08-01T11:38:31.298Z"
   },
   {
    "duration": 4,
    "start_time": "2024-08-01T11:38:59.302Z"
   },
   {
    "duration": 259405,
    "start_time": "2024-08-01T11:38:59.308Z"
   },
   {
    "duration": 3,
    "start_time": "2024-08-01T11:45:27.034Z"
   },
   {
    "duration": 164200,
    "start_time": "2024-08-01T11:45:28.801Z"
   },
   {
    "duration": 189,
    "start_time": "2024-08-01T12:01:31.265Z"
   },
   {
    "duration": 32,
    "start_time": "2024-08-01T12:01:54.094Z"
   },
   {
    "duration": 86979,
    "start_time": "2024-08-01T12:02:00.529Z"
   },
   {
    "duration": 58,
    "start_time": "2024-08-01T12:10:13.276Z"
   },
   {
    "duration": 716962,
    "start_time": "2024-08-01T12:10:18.408Z"
   },
   {
    "duration": 10,
    "start_time": "2024-08-01T12:28:09.637Z"
   },
   {
    "duration": 68,
    "start_time": "2024-08-01T12:29:14.714Z"
   },
   {
    "duration": 10,
    "start_time": "2024-08-01T12:29:22.052Z"
   },
   {
    "duration": 30,
    "start_time": "2024-08-01T12:29:53.174Z"
   },
   {
    "duration": 184670,
    "start_time": "2024-08-01T12:30:03.262Z"
   },
   {
    "duration": 503737,
    "start_time": "2024-08-01T12:33:54.755Z"
   },
   {
    "duration": 235,
    "start_time": "2024-08-01T12:42:39.614Z"
   },
   {
    "duration": 12363,
    "start_time": "2024-08-01T12:43:13.197Z"
   },
   {
    "duration": 39276,
    "start_time": "2024-08-01T12:43:40.445Z"
   },
   {
    "duration": 123673,
    "start_time": "2024-08-01T12:46:42.932Z"
   },
   {
    "duration": 3014,
    "start_time": "2024-08-01T12:50:06.009Z"
   },
   {
    "duration": 1472,
    "start_time": "2024-08-01T12:50:09.026Z"
   },
   {
    "duration": 760,
    "start_time": "2024-08-01T12:50:10.500Z"
   },
   {
    "duration": 15,
    "start_time": "2024-08-01T12:50:11.262Z"
   },
   {
    "duration": 153,
    "start_time": "2024-08-01T12:50:11.278Z"
   },
   {
    "duration": 14,
    "start_time": "2024-08-01T12:50:11.432Z"
   },
   {
    "duration": 170,
    "start_time": "2024-08-01T12:50:11.448Z"
   },
   {
    "duration": 7,
    "start_time": "2024-08-01T12:50:11.619Z"
   },
   {
    "duration": 13,
    "start_time": "2024-08-01T12:50:11.627Z"
   },
   {
    "duration": 32085,
    "start_time": "2024-08-01T12:50:11.642Z"
   },
   {
    "duration": 27409,
    "start_time": "2024-08-01T12:50:43.729Z"
   },
   {
    "duration": 3,
    "start_time": "2024-08-01T12:51:11.139Z"
   },
   {
    "duration": 124657,
    "start_time": "2024-08-01T12:51:11.144Z"
   },
   {
    "duration": 88962,
    "start_time": "2024-08-01T12:53:15.803Z"
   },
   {
    "duration": 170,
    "start_time": "2024-08-01T12:54:44.766Z"
   },
   {
    "duration": 67,
    "start_time": "2024-08-01T12:54:59.953Z"
   },
   {
    "duration": 37799,
    "start_time": "2024-08-01T12:55:05.133Z"
   },
   {
    "duration": 4,
    "start_time": "2024-08-01T13:00:07.116Z"
   },
   {
    "duration": 992,
    "start_time": "2024-08-01T13:00:25.055Z"
   },
   {
    "duration": 3,
    "start_time": "2024-08-01T13:00:27.133Z"
   },
   {
    "duration": 915,
    "start_time": "2024-08-01T13:01:25.823Z"
   },
   {
    "duration": 64,
    "start_time": "2024-08-01T13:11:48.051Z"
   },
   {
    "duration": 2888,
    "start_time": "2024-08-01T13:23:47.266Z"
   },
   {
    "duration": 1335,
    "start_time": "2024-08-01T13:23:50.157Z"
   },
   {
    "duration": 766,
    "start_time": "2024-08-01T13:23:51.494Z"
   },
   {
    "duration": 12,
    "start_time": "2024-08-01T13:23:52.262Z"
   },
   {
    "duration": 96,
    "start_time": "2024-08-01T13:23:52.275Z"
   },
   {
    "duration": 11,
    "start_time": "2024-08-01T13:23:52.373Z"
   },
   {
    "duration": 299,
    "start_time": "2024-08-01T13:23:52.385Z"
   },
   {
    "duration": 7,
    "start_time": "2024-08-01T13:23:52.685Z"
   },
   {
    "duration": 8,
    "start_time": "2024-08-01T13:23:52.693Z"
   },
   {
    "duration": 31858,
    "start_time": "2024-08-01T13:23:52.703Z"
   },
   {
    "duration": 26802,
    "start_time": "2024-08-01T13:24:24.562Z"
   },
   {
    "duration": 3,
    "start_time": "2024-08-01T13:24:51.366Z"
   },
   {
    "duration": 126539,
    "start_time": "2024-08-01T13:24:51.370Z"
   },
   {
    "duration": 90740,
    "start_time": "2024-08-01T13:26:57.910Z"
   },
   {
    "duration": 38410,
    "start_time": "2024-08-01T13:28:28.652Z"
   },
   {
    "duration": 991,
    "start_time": "2024-08-01T13:29:07.063Z"
   },
   {
    "duration": 6995,
    "start_time": "2024-08-03T08:25:59.837Z"
   },
   {
    "duration": 1769,
    "start_time": "2024-08-03T08:26:07.493Z"
   },
   {
    "duration": 3792,
    "start_time": "2024-08-03T08:26:10.936Z"
   },
   {
    "duration": 15,
    "start_time": "2024-08-03T08:26:19.268Z"
   },
   {
    "duration": 99,
    "start_time": "2024-08-03T08:26:21.547Z"
   },
   {
    "duration": 17,
    "start_time": "2024-08-03T08:26:26.987Z"
   },
   {
    "duration": 281,
    "start_time": "2024-08-03T08:26:29.305Z"
   },
   {
    "duration": 8,
    "start_time": "2024-08-03T08:26:31.124Z"
   },
   {
    "duration": 5,
    "start_time": "2024-08-03T08:26:36.632Z"
   },
   {
    "duration": 34494,
    "start_time": "2024-08-03T08:27:26.360Z"
   },
   {
    "duration": 6,
    "start_time": "2024-08-03T08:36:07.461Z"
   },
   {
    "duration": 5,
    "start_time": "2024-08-03T08:36:12.235Z"
   },
   {
    "duration": 7,
    "start_time": "2024-08-03T08:38:06.732Z"
   },
   {
    "duration": 2,
    "start_time": "2024-08-03T09:21:12.926Z"
   },
   {
    "duration": 3,
    "start_time": "2024-08-03T09:21:33.749Z"
   },
   {
    "duration": 4,
    "start_time": "2024-08-03T09:22:47.825Z"
   },
   {
    "duration": 353,
    "start_time": "2024-08-03T09:22:55.817Z"
   },
   {
    "duration": 420,
    "start_time": "2024-08-03T09:25:36.041Z"
   },
   {
    "duration": 3,
    "start_time": "2024-08-03T09:25:38.819Z"
   },
   {
    "duration": 4,
    "start_time": "2024-08-03T09:25:40.779Z"
   },
   {
    "duration": 112,
    "start_time": "2024-08-03T09:25:43.126Z"
   },
   {
    "duration": 178,
    "start_time": "2024-08-03T09:27:01.550Z"
   },
   {
    "duration": 9,
    "start_time": "2024-08-03T09:28:30.503Z"
   },
   {
    "duration": 2686,
    "start_time": "2024-08-03T09:28:47.080Z"
   },
   {
    "duration": 1560,
    "start_time": "2024-08-03T09:28:49.768Z"
   },
   {
    "duration": 1100,
    "start_time": "2024-08-03T09:28:51.330Z"
   },
   {
    "duration": 54,
    "start_time": "2024-08-03T09:28:52.432Z"
   },
   {
    "duration": 200,
    "start_time": "2024-08-03T09:28:52.487Z"
   },
   {
    "duration": 16,
    "start_time": "2024-08-03T09:28:52.688Z"
   },
   {
    "duration": 317,
    "start_time": "2024-08-03T09:28:52.705Z"
   },
   {
    "duration": 60,
    "start_time": "2024-08-03T09:28:53.023Z"
   },
   {
    "duration": 6,
    "start_time": "2024-08-03T09:28:53.084Z"
   },
   {
    "duration": 4,
    "start_time": "2024-08-03T09:28:53.092Z"
   },
   {
    "duration": 1310,
    "start_time": "2024-08-03T09:28:53.098Z"
   },
   {
    "duration": 516847,
    "start_time": "2024-08-03T09:28:54.409Z"
   },
   {
    "duration": 13,
    "start_time": "2024-08-03T09:37:31.257Z"
   },
   {
    "duration": 0,
    "start_time": "2024-08-03T09:37:31.272Z"
   },
   {
    "duration": 0,
    "start_time": "2024-08-03T09:37:31.273Z"
   },
   {
    "duration": 0,
    "start_time": "2024-08-03T09:37:31.273Z"
   },
   {
    "duration": 0,
    "start_time": "2024-08-03T09:37:31.274Z"
   },
   {
    "duration": 0,
    "start_time": "2024-08-03T09:37:31.275Z"
   },
   {
    "duration": 6,
    "start_time": "2024-08-03T09:39:04.375Z"
   },
   {
    "duration": 2,
    "start_time": "2024-08-03T09:39:09.604Z"
   },
   {
    "duration": 3,
    "start_time": "2024-08-03T09:39:12.423Z"
   },
   {
    "duration": 2795,
    "start_time": "2024-08-03T09:41:28.953Z"
   },
   {
    "duration": 1566,
    "start_time": "2024-08-03T09:41:31.751Z"
   },
   {
    "duration": 799,
    "start_time": "2024-08-03T09:41:33.319Z"
   },
   {
    "duration": 15,
    "start_time": "2024-08-03T09:41:34.120Z"
   },
   {
    "duration": 111,
    "start_time": "2024-08-03T09:41:34.136Z"
   },
   {
    "duration": 15,
    "start_time": "2024-08-03T09:41:34.249Z"
   },
   {
    "duration": 228,
    "start_time": "2024-08-03T09:41:34.266Z"
   },
   {
    "duration": 7,
    "start_time": "2024-08-03T09:41:34.495Z"
   },
   {
    "duration": 4,
    "start_time": "2024-08-03T09:41:34.503Z"
   },
   {
    "duration": 3,
    "start_time": "2024-08-03T09:41:34.509Z"
   },
   {
    "duration": 1572,
    "start_time": "2024-08-03T09:41:34.514Z"
   },
   {
    "duration": 3,
    "start_time": "2024-08-03T09:41:36.087Z"
   },
   {
    "duration": 7,
    "start_time": "2024-08-03T09:41:36.091Z"
   },
   {
    "duration": 3983,
    "start_time": "2024-08-03T09:41:36.100Z"
   },
   {
    "duration": 0,
    "start_time": "2024-08-03T09:41:40.085Z"
   },
   {
    "duration": 0,
    "start_time": "2024-08-03T09:41:40.087Z"
   },
   {
    "duration": 0,
    "start_time": "2024-08-03T09:41:40.088Z"
   },
   {
    "duration": 0,
    "start_time": "2024-08-03T09:41:40.089Z"
   },
   {
    "duration": 0,
    "start_time": "2024-08-03T09:41:40.091Z"
   },
   {
    "duration": 0,
    "start_time": "2024-08-03T09:41:40.092Z"
   },
   {
    "duration": 0,
    "start_time": "2024-08-03T09:41:40.093Z"
   },
   {
    "duration": 2700,
    "start_time": "2024-08-03T09:45:04.860Z"
   },
   {
    "duration": 1553,
    "start_time": "2024-08-03T09:45:07.562Z"
   },
   {
    "duration": 1531,
    "start_time": "2024-08-03T09:45:09.116Z"
   },
   {
    "duration": 16,
    "start_time": "2024-08-03T09:45:10.649Z"
   },
   {
    "duration": 99,
    "start_time": "2024-08-03T09:45:10.667Z"
   },
   {
    "duration": 26,
    "start_time": "2024-08-03T09:45:10.768Z"
   },
   {
    "duration": 234,
    "start_time": "2024-08-03T09:45:10.795Z"
   },
   {
    "duration": 7,
    "start_time": "2024-08-03T09:45:11.030Z"
   },
   {
    "duration": 3,
    "start_time": "2024-08-03T09:45:11.038Z"
   },
   {
    "duration": 4,
    "start_time": "2024-08-03T09:45:11.043Z"
   },
   {
    "duration": 1229,
    "start_time": "2024-08-03T09:45:11.048Z"
   },
   {
    "duration": 1010885,
    "start_time": "2024-08-03T09:45:12.278Z"
   },
   {
    "duration": 29093,
    "start_time": "2024-08-03T10:02:03.166Z"
   },
   {
    "duration": 3,
    "start_time": "2024-08-03T10:02:32.261Z"
   },
   {
    "duration": 142418,
    "start_time": "2024-08-03T10:02:32.266Z"
   },
   {
    "duration": 92113,
    "start_time": "2024-08-03T10:04:54.686Z"
   },
   {
    "duration": 42575,
    "start_time": "2024-08-03T10:06:26.801Z"
   },
   {
    "duration": 1057,
    "start_time": "2024-08-03T10:07:09.382Z"
   },
   {
    "duration": 4,
    "start_time": "2024-08-03T10:08:06.764Z"
   },
   {
    "duration": 210812,
    "start_time": "2024-08-03T10:08:07.873Z"
   },
   {
    "duration": 2694,
    "start_time": "2024-08-03T10:14:11.569Z"
   },
   {
    "duration": 1478,
    "start_time": "2024-08-03T10:14:14.265Z"
   },
   {
    "duration": 817,
    "start_time": "2024-08-03T10:14:15.744Z"
   },
   {
    "duration": 23,
    "start_time": "2024-08-03T10:14:16.562Z"
   },
   {
    "duration": 102,
    "start_time": "2024-08-03T10:14:16.587Z"
   },
   {
    "duration": 16,
    "start_time": "2024-08-03T10:14:16.691Z"
   },
   {
    "duration": 248,
    "start_time": "2024-08-03T10:14:16.709Z"
   },
   {
    "duration": 8,
    "start_time": "2024-08-03T10:14:16.958Z"
   },
   {
    "duration": 3,
    "start_time": "2024-08-03T10:14:16.967Z"
   },
   {
    "duration": 13,
    "start_time": "2024-08-03T10:14:16.971Z"
   },
   {
    "duration": 1229,
    "start_time": "2024-08-03T10:14:16.985Z"
   },
   {
    "duration": 1019447,
    "start_time": "2024-08-03T10:14:18.215Z"
   },
   {
    "duration": 29045,
    "start_time": "2024-08-03T10:31:17.664Z"
   },
   {
    "duration": 3,
    "start_time": "2024-08-03T10:31:46.712Z"
   },
   {
    "duration": 208667,
    "start_time": "2024-08-03T10:31:46.716Z"
   },
   {
    "duration": 91674,
    "start_time": "2024-08-03T10:35:15.385Z"
   },
   {
    "duration": 41358,
    "start_time": "2024-08-03T10:36:47.060Z"
   },
   {
    "duration": 1013,
    "start_time": "2024-08-03T10:37:28.419Z"
   }
  ],
  "kernelspec": {
   "display_name": "Python 3 (ipykernel)",
   "language": "python",
   "name": "python3"
  },
  "language_info": {
   "codemirror_mode": {
    "name": "ipython",
    "version": 3
   },
   "file_extension": ".py",
   "mimetype": "text/x-python",
   "name": "python",
   "nbconvert_exporter": "python",
   "pygments_lexer": "ipython3",
   "version": "3.11.7"
  },
  "toc": {
   "base_numbering": 1,
   "nav_menu": {},
   "number_sections": true,
   "sideBar": true,
   "skip_h1_title": true,
   "title_cell": "Содержание",
   "title_sidebar": "Contents",
   "toc_cell": true,
   "toc_position": {
    "height": "calc(100% - 180px)",
    "left": "10px",
    "top": "150px",
    "width": "241.997px"
   },
   "toc_section_display": true,
   "toc_window_display": true
  }
 },
 "nbformat": 4,
 "nbformat_minor": 2
}

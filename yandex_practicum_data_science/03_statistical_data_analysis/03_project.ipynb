{
 "cells": [
  {
   "cell_type": "markdown",
   "id": "4f27e384",
   "metadata": {},
   "source": [
    "# Проект: Статистический анализ данных\n",
    "Вы аналитик популярного сервиса аренды самокатов GoFast. Вам передали данные о некоторых пользователях из нескольких городов, а также об их поездках. Проанализируйте данные и проверьте некоторые гипотезы, которые могут помочь бизнесу вырасти.\n",
    "\n",
    "Чтобы совершать поездки по городу, пользователи сервиса GoFast пользуются мобильным приложением. Сервисом можно пользоваться:\n",
    "\n",
    "- **Без подписки**  \n",
    "\n",
    "    > абонентская плата — ***отсутствует***\n",
    "    \n",
    "    > стоимость одной минуты поездки — ***8 рублей***\n",
    "    \n",
    "    > стоимость старта (начала поездки) — ***50 рублей***\n",
    "- **с подпиской *Ultra*:**\n",
    "    > абонентская плата — ***199 рублей в месяц***\n",
    "    \n",
    "    > стоимость одной минуты поездки — ***6 рублей***\n",
    "    \n",
    "    > стоимость старта — ***бесплатно***"
   ]
  },
  {
   "cell_type": "markdown",
   "id": "08f3477c",
   "metadata": {},
   "source": [
    "# План работ\n",
    "\n",
    "- [Шаг 1. Загрузка данных.](#section_1)\n",
    "\n",
    "- [Шаг 2. Предобработка данных.](#section_2)\n",
    "\n",
    "- [Шаг 3. Исследовательский анализ данных.](#section_3)\n",
    "\n",
    "- [Шаг 4. Объединение данных.](#section_4)\n",
    "\n",
    "- [Шаг 5. Подсчёт выручки.](#section_5)\n",
    "\n",
    "- [Шаг 6. Проверка гипотез.](#section_6)\n",
    "\n",
    "- [Шаг 7. Распределения.](#section_7)\n",
    "\n",
    "- [Шаг 8. Общий вывод.](#section_8)"
   ]
  },
  {
   "cell_type": "markdown",
   "id": "3550aa17",
   "metadata": {},
   "source": [
    "<a id='section_1'></a>"
   ]
  },
  {
   "cell_type": "markdown",
   "id": "c42cbe00",
   "metadata": {},
   "source": [
    "### Шаг 1. Загрузка данных"
   ]
  },
  {
   "cell_type": "markdown",
   "id": "50f19d0b",
   "metadata": {},
   "source": [
    "#### Считываем CSV-файлы с данными с помощью библиотеки pandas и сохраняем их в датафреймы"
   ]
  },
  {
   "cell_type": "code",
   "execution_count": 1,
   "id": "fcf0c271",
   "metadata": {},
   "outputs": [],
   "source": [
    "#Имортируем необходимые библиотеки:\n",
    "import pandas as pd\n",
    "import numpy as np\n",
    "import matplotlib.pyplot as plt\n",
    "from scipy import stats as st\n",
    "from scipy.stats import binom, norm\n",
    "from math import sqrt"
   ]
  },
  {
   "cell_type": "code",
   "execution_count": 2,
   "id": "eff9f206",
   "metadata": {},
   "outputs": [],
   "source": [
    "#Распаковываем и считываем данные:\n",
    "try:\n",
    "    #Данные о пользователях:\n",
    "    users = pd.read_csv('https://code.s3.yandex.net/datasets/users_go.csv')\n",
    "    \n",
    "    #Данные о поездках:\n",
    "    rides = pd.read_csv('https://code.s3.yandex.net/datasets/rides_go.csv')\n",
    "    \n",
    "    #Данные о подписках:\n",
    "    subscriptions = pd.read_csv('https://code.s3.yandex.net/datasets/subscriptions_go.csv')\n",
    "    \n",
    "#Если не получается выгрузить данные с сети, то считываем их из локальной папки:\n",
    "except:\n",
    "    users = pd.read_csv('/datasets/users_go.csv')\n",
    "    rides = pd.read_csv('/datasets/rides_go.csv')\n",
    "    subscriptions = pd.read_csv('/datasets/subscriptions_go.csv')"
   ]
  },
  {
   "cell_type": "markdown",
   "id": "304526fe",
   "metadata": {},
   "source": [
    "#### Изучаем общую информацию о каждом датафрейме"
   ]
  },
  {
   "cell_type": "code",
   "execution_count": 3,
   "id": "a715a023",
   "metadata": {},
   "outputs": [
    {
     "data": {
      "text/html": [
       "<div>\n",
       "<style scoped>\n",
       "    .dataframe tbody tr th:only-of-type {\n",
       "        vertical-align: middle;\n",
       "    }\n",
       "\n",
       "    .dataframe tbody tr th {\n",
       "        vertical-align: top;\n",
       "    }\n",
       "\n",
       "    .dataframe thead th {\n",
       "        text-align: right;\n",
       "    }\n",
       "</style>\n",
       "<table border=\"1\" class=\"dataframe\">\n",
       "  <thead>\n",
       "    <tr style=\"text-align: right;\">\n",
       "      <th></th>\n",
       "      <th>user_id</th>\n",
       "      <th>name</th>\n",
       "      <th>age</th>\n",
       "      <th>city</th>\n",
       "      <th>subscription_type</th>\n",
       "    </tr>\n",
       "  </thead>\n",
       "  <tbody>\n",
       "    <tr>\n",
       "      <th>0</th>\n",
       "      <td>1</td>\n",
       "      <td>Кира</td>\n",
       "      <td>22</td>\n",
       "      <td>Тюмень</td>\n",
       "      <td>ultra</td>\n",
       "    </tr>\n",
       "    <tr>\n",
       "      <th>1</th>\n",
       "      <td>2</td>\n",
       "      <td>Станислав</td>\n",
       "      <td>31</td>\n",
       "      <td>Омск</td>\n",
       "      <td>ultra</td>\n",
       "    </tr>\n",
       "    <tr>\n",
       "      <th>2</th>\n",
       "      <td>3</td>\n",
       "      <td>Алексей</td>\n",
       "      <td>20</td>\n",
       "      <td>Москва</td>\n",
       "      <td>ultra</td>\n",
       "    </tr>\n",
       "    <tr>\n",
       "      <th>3</th>\n",
       "      <td>4</td>\n",
       "      <td>Константин</td>\n",
       "      <td>26</td>\n",
       "      <td>Ростов-на-Дону</td>\n",
       "      <td>ultra</td>\n",
       "    </tr>\n",
       "    <tr>\n",
       "      <th>4</th>\n",
       "      <td>5</td>\n",
       "      <td>Адель</td>\n",
       "      <td>28</td>\n",
       "      <td>Омск</td>\n",
       "      <td>ultra</td>\n",
       "    </tr>\n",
       "    <tr>\n",
       "      <th>5</th>\n",
       "      <td>6</td>\n",
       "      <td>Регина</td>\n",
       "      <td>25</td>\n",
       "      <td>Краснодар</td>\n",
       "      <td>ultra</td>\n",
       "    </tr>\n",
       "    <tr>\n",
       "      <th>6</th>\n",
       "      <td>7</td>\n",
       "      <td>Игорь</td>\n",
       "      <td>23</td>\n",
       "      <td>Омск</td>\n",
       "      <td>ultra</td>\n",
       "    </tr>\n",
       "    <tr>\n",
       "      <th>7</th>\n",
       "      <td>8</td>\n",
       "      <td>Юрий</td>\n",
       "      <td>23</td>\n",
       "      <td>Краснодар</td>\n",
       "      <td>ultra</td>\n",
       "    </tr>\n",
       "    <tr>\n",
       "      <th>8</th>\n",
       "      <td>9</td>\n",
       "      <td>Ян</td>\n",
       "      <td>21</td>\n",
       "      <td>Пятигорск</td>\n",
       "      <td>ultra</td>\n",
       "    </tr>\n",
       "    <tr>\n",
       "      <th>9</th>\n",
       "      <td>10</td>\n",
       "      <td>Валерий</td>\n",
       "      <td>18</td>\n",
       "      <td>Екатеринбург</td>\n",
       "      <td>ultra</td>\n",
       "    </tr>\n",
       "    <tr>\n",
       "      <th>10</th>\n",
       "      <td>11</td>\n",
       "      <td>Агата</td>\n",
       "      <td>31</td>\n",
       "      <td>Краснодар</td>\n",
       "      <td>ultra</td>\n",
       "    </tr>\n",
       "    <tr>\n",
       "      <th>11</th>\n",
       "      <td>12</td>\n",
       "      <td>Марк</td>\n",
       "      <td>27</td>\n",
       "      <td>Тюмень</td>\n",
       "      <td>ultra</td>\n",
       "    </tr>\n",
       "    <tr>\n",
       "      <th>12</th>\n",
       "      <td>13</td>\n",
       "      <td>Ева</td>\n",
       "      <td>24</td>\n",
       "      <td>Краснодар</td>\n",
       "      <td>ultra</td>\n",
       "    </tr>\n",
       "    <tr>\n",
       "      <th>13</th>\n",
       "      <td>14</td>\n",
       "      <td>Антонина</td>\n",
       "      <td>18</td>\n",
       "      <td>Пятигорск</td>\n",
       "      <td>ultra</td>\n",
       "    </tr>\n",
       "    <tr>\n",
       "      <th>14</th>\n",
       "      <td>15</td>\n",
       "      <td>Валерия</td>\n",
       "      <td>24</td>\n",
       "      <td>Тюмень</td>\n",
       "      <td>ultra</td>\n",
       "    </tr>\n",
       "  </tbody>\n",
       "</table>\n",
       "</div>"
      ],
      "text/plain": [
       "    user_id        name  age            city subscription_type\n",
       "0         1        Кира   22          Тюмень             ultra\n",
       "1         2   Станислав   31            Омск             ultra\n",
       "2         3     Алексей   20          Москва             ultra\n",
       "3         4  Константин   26  Ростов-на-Дону             ultra\n",
       "4         5       Адель   28            Омск             ultra\n",
       "5         6      Регина   25       Краснодар             ultra\n",
       "6         7       Игорь   23            Омск             ultra\n",
       "7         8        Юрий   23       Краснодар             ultra\n",
       "8         9          Ян   21       Пятигорск             ultra\n",
       "9        10     Валерий   18    Екатеринбург             ultra\n",
       "10       11       Агата   31       Краснодар             ultra\n",
       "11       12        Марк   27          Тюмень             ultra\n",
       "12       13         Ева   24       Краснодар             ultra\n",
       "13       14    Антонина   18       Пятигорск             ultra\n",
       "14       15     Валерия   24          Тюмень             ultra"
      ]
     },
     "execution_count": 3,
     "metadata": {},
     "output_type": "execute_result"
    }
   ],
   "source": [
    "#Первые 15 строк данных о пользователях:\n",
    "users.head(15)"
   ]
  },
  {
   "cell_type": "code",
   "execution_count": 4,
   "id": "9ff83acb",
   "metadata": {},
   "outputs": [
    {
     "name": "stdout",
     "output_type": "stream",
     "text": [
      "<class 'pandas.core.frame.DataFrame'>\n",
      "RangeIndex: 1565 entries, 0 to 1564\n",
      "Data columns (total 5 columns):\n",
      " #   Column             Non-Null Count  Dtype \n",
      "---  ------             --------------  ----- \n",
      " 0   user_id            1565 non-null   int64 \n",
      " 1   name               1565 non-null   object\n",
      " 2   age                1565 non-null   int64 \n",
      " 3   city               1565 non-null   object\n",
      " 4   subscription_type  1565 non-null   object\n",
      "dtypes: int64(2), object(3)\n",
      "memory usage: 61.3+ KB\n"
     ]
    }
   ],
   "source": [
    "#Общая информация о таблице с пользователями:\n",
    "users.info()"
   ]
  },
  {
   "cell_type": "markdown",
   "id": "c5160778",
   "metadata": {},
   "source": [
    "- В датафрейме ***Users*** предоставлена информация о идентификаторе пользователя, его имени и возрасте, также указан город и тип подписки. \n",
    "- Таблица содержит **1565** строк."
   ]
  },
  {
   "cell_type": "code",
   "execution_count": 5,
   "id": "bb0138e8",
   "metadata": {},
   "outputs": [
    {
     "data": {
      "text/html": [
       "<div>\n",
       "<style scoped>\n",
       "    .dataframe tbody tr th:only-of-type {\n",
       "        vertical-align: middle;\n",
       "    }\n",
       "\n",
       "    .dataframe tbody tr th {\n",
       "        vertical-align: top;\n",
       "    }\n",
       "\n",
       "    .dataframe thead th {\n",
       "        text-align: right;\n",
       "    }\n",
       "</style>\n",
       "<table border=\"1\" class=\"dataframe\">\n",
       "  <thead>\n",
       "    <tr style=\"text-align: right;\">\n",
       "      <th></th>\n",
       "      <th>user_id</th>\n",
       "      <th>distance</th>\n",
       "      <th>duration</th>\n",
       "      <th>date</th>\n",
       "    </tr>\n",
       "  </thead>\n",
       "  <tbody>\n",
       "    <tr>\n",
       "      <th>0</th>\n",
       "      <td>1</td>\n",
       "      <td>4409.919140</td>\n",
       "      <td>25.599769</td>\n",
       "      <td>2021-01-01</td>\n",
       "    </tr>\n",
       "    <tr>\n",
       "      <th>1</th>\n",
       "      <td>1</td>\n",
       "      <td>2617.592153</td>\n",
       "      <td>15.816871</td>\n",
       "      <td>2021-01-18</td>\n",
       "    </tr>\n",
       "    <tr>\n",
       "      <th>2</th>\n",
       "      <td>1</td>\n",
       "      <td>754.159807</td>\n",
       "      <td>6.232113</td>\n",
       "      <td>2021-04-20</td>\n",
       "    </tr>\n",
       "    <tr>\n",
       "      <th>3</th>\n",
       "      <td>1</td>\n",
       "      <td>2694.783254</td>\n",
       "      <td>18.511000</td>\n",
       "      <td>2021-08-11</td>\n",
       "    </tr>\n",
       "    <tr>\n",
       "      <th>4</th>\n",
       "      <td>1</td>\n",
       "      <td>4028.687306</td>\n",
       "      <td>26.265803</td>\n",
       "      <td>2021-08-28</td>\n",
       "    </tr>\n",
       "    <tr>\n",
       "      <th>5</th>\n",
       "      <td>1</td>\n",
       "      <td>2770.890808</td>\n",
       "      <td>16.650138</td>\n",
       "      <td>2021-10-09</td>\n",
       "    </tr>\n",
       "    <tr>\n",
       "      <th>6</th>\n",
       "      <td>1</td>\n",
       "      <td>3039.020292</td>\n",
       "      <td>14.927879</td>\n",
       "      <td>2021-10-19</td>\n",
       "    </tr>\n",
       "    <tr>\n",
       "      <th>7</th>\n",
       "      <td>1</td>\n",
       "      <td>2842.118050</td>\n",
       "      <td>23.117468</td>\n",
       "      <td>2021-11-06</td>\n",
       "    </tr>\n",
       "    <tr>\n",
       "      <th>8</th>\n",
       "      <td>1</td>\n",
       "      <td>3412.690668</td>\n",
       "      <td>15.238072</td>\n",
       "      <td>2021-11-14</td>\n",
       "    </tr>\n",
       "    <tr>\n",
       "      <th>9</th>\n",
       "      <td>1</td>\n",
       "      <td>748.690645</td>\n",
       "      <td>15.041884</td>\n",
       "      <td>2021-11-22</td>\n",
       "    </tr>\n",
       "    <tr>\n",
       "      <th>10</th>\n",
       "      <td>1</td>\n",
       "      <td>4031.020195</td>\n",
       "      <td>17.674448</td>\n",
       "      <td>2021-12-14</td>\n",
       "    </tr>\n",
       "    <tr>\n",
       "      <th>11</th>\n",
       "      <td>1</td>\n",
       "      <td>2720.609748</td>\n",
       "      <td>9.529463</td>\n",
       "      <td>2021-12-22</td>\n",
       "    </tr>\n",
       "    <tr>\n",
       "      <th>12</th>\n",
       "      <td>2</td>\n",
       "      <td>3105.086678</td>\n",
       "      <td>24.307514</td>\n",
       "      <td>2021-03-15</td>\n",
       "    </tr>\n",
       "    <tr>\n",
       "      <th>13</th>\n",
       "      <td>2</td>\n",
       "      <td>3053.519401</td>\n",
       "      <td>11.543256</td>\n",
       "      <td>2021-03-18</td>\n",
       "    </tr>\n",
       "    <tr>\n",
       "      <th>14</th>\n",
       "      <td>2</td>\n",
       "      <td>4029.116927</td>\n",
       "      <td>25.109188</td>\n",
       "      <td>2021-03-23</td>\n",
       "    </tr>\n",
       "  </tbody>\n",
       "</table>\n",
       "</div>"
      ],
      "text/plain": [
       "    user_id     distance   duration        date\n",
       "0         1  4409.919140  25.599769  2021-01-01\n",
       "1         1  2617.592153  15.816871  2021-01-18\n",
       "2         1   754.159807   6.232113  2021-04-20\n",
       "3         1  2694.783254  18.511000  2021-08-11\n",
       "4         1  4028.687306  26.265803  2021-08-28\n",
       "5         1  2770.890808  16.650138  2021-10-09\n",
       "6         1  3039.020292  14.927879  2021-10-19\n",
       "7         1  2842.118050  23.117468  2021-11-06\n",
       "8         1  3412.690668  15.238072  2021-11-14\n",
       "9         1   748.690645  15.041884  2021-11-22\n",
       "10        1  4031.020195  17.674448  2021-12-14\n",
       "11        1  2720.609748   9.529463  2021-12-22\n",
       "12        2  3105.086678  24.307514  2021-03-15\n",
       "13        2  3053.519401  11.543256  2021-03-18\n",
       "14        2  4029.116927  25.109188  2021-03-23"
      ]
     },
     "execution_count": 5,
     "metadata": {},
     "output_type": "execute_result"
    }
   ],
   "source": [
    "#Первые 15 строк данных о поездках:\n",
    "rides.head(15)"
   ]
  },
  {
   "cell_type": "code",
   "execution_count": 6,
   "id": "dcd6fb42",
   "metadata": {},
   "outputs": [
    {
     "name": "stdout",
     "output_type": "stream",
     "text": [
      "<class 'pandas.core.frame.DataFrame'>\n",
      "RangeIndex: 18068 entries, 0 to 18067\n",
      "Data columns (total 4 columns):\n",
      " #   Column    Non-Null Count  Dtype  \n",
      "---  ------    --------------  -----  \n",
      " 0   user_id   18068 non-null  int64  \n",
      " 1   distance  18068 non-null  float64\n",
      " 2   duration  18068 non-null  float64\n",
      " 3   date      18068 non-null  object \n",
      "dtypes: float64(2), int64(1), object(1)\n",
      "memory usage: 564.8+ KB\n"
     ]
    }
   ],
   "source": [
    "#Общая информация о таблице с поездками:\n",
    "rides.info()"
   ]
  },
  {
   "cell_type": "markdown",
   "id": "83d67d25",
   "metadata": {},
   "source": [
    "- В датафрейме ***Rides*** предоставлена информация о поездках пользователей: расстояние, продолжительность и дата совершения поездки. \n",
    "- Таблица содержит **18068** строк."
   ]
  },
  {
   "cell_type": "code",
   "execution_count": 7,
   "id": "b2564510",
   "metadata": {},
   "outputs": [
    {
     "data": {
      "text/html": [
       "<div>\n",
       "<style scoped>\n",
       "    .dataframe tbody tr th:only-of-type {\n",
       "        vertical-align: middle;\n",
       "    }\n",
       "\n",
       "    .dataframe tbody tr th {\n",
       "        vertical-align: top;\n",
       "    }\n",
       "\n",
       "    .dataframe thead th {\n",
       "        text-align: right;\n",
       "    }\n",
       "</style>\n",
       "<table border=\"1\" class=\"dataframe\">\n",
       "  <thead>\n",
       "    <tr style=\"text-align: right;\">\n",
       "      <th></th>\n",
       "      <th>subscription_type</th>\n",
       "      <th>minute_price</th>\n",
       "      <th>start_ride_price</th>\n",
       "      <th>subscription_fee</th>\n",
       "    </tr>\n",
       "  </thead>\n",
       "  <tbody>\n",
       "    <tr>\n",
       "      <th>0</th>\n",
       "      <td>free</td>\n",
       "      <td>8</td>\n",
       "      <td>50</td>\n",
       "      <td>0</td>\n",
       "    </tr>\n",
       "    <tr>\n",
       "      <th>1</th>\n",
       "      <td>ultra</td>\n",
       "      <td>6</td>\n",
       "      <td>0</td>\n",
       "      <td>199</td>\n",
       "    </tr>\n",
       "  </tbody>\n",
       "</table>\n",
       "</div>"
      ],
      "text/plain": [
       "  subscription_type  minute_price  start_ride_price  subscription_fee\n",
       "0              free             8                50                 0\n",
       "1             ultra             6                 0               199"
      ]
     },
     "execution_count": 7,
     "metadata": {},
     "output_type": "execute_result"
    }
   ],
   "source": [
    "#Первые строки данных о подписках:\n",
    "subscriptions.head()"
   ]
  },
  {
   "cell_type": "code",
   "execution_count": 8,
   "id": "06304f36",
   "metadata": {},
   "outputs": [
    {
     "name": "stdout",
     "output_type": "stream",
     "text": [
      "<class 'pandas.core.frame.DataFrame'>\n",
      "RangeIndex: 2 entries, 0 to 1\n",
      "Data columns (total 4 columns):\n",
      " #   Column             Non-Null Count  Dtype \n",
      "---  ------             --------------  ----- \n",
      " 0   subscription_type  2 non-null      object\n",
      " 1   minute_price       2 non-null      int64 \n",
      " 2   start_ride_price   2 non-null      int64 \n",
      " 3   subscription_fee   2 non-null      int64 \n",
      "dtypes: int64(3), object(1)\n",
      "memory usage: 192.0+ bytes\n"
     ]
    }
   ],
   "source": [
    "#Общая информация о таблице с подписками:\n",
    "subscriptions.info()"
   ]
  },
  {
   "cell_type": "markdown",
   "id": "14d10a1b",
   "metadata": {},
   "source": [
    "- В датафрейме ***Subscriptions*** предоставлена информация связанная с подписками: тип подписки, цена поездки за минуту, стоимость начала поездки и ежемесячного платежа. \n",
    "- Таблица содержит **2** строки."
   ]
  },
  {
   "cell_type": "markdown",
   "id": "4ca722a8",
   "metadata": {},
   "source": [
    "**Самый большой массив данных из предоставленных - это данные о поездках. Это логично, ведь некоторые пользователи совершают поездки более одного раза. Объем информации о пользователях всегда будет меньше, чем о их поездах.**"
   ]
  },
  {
   "cell_type": "markdown",
   "id": "e3f48cee",
   "metadata": {},
   "source": [
    "<a id='section_2'></a>"
   ]
  },
  {
   "cell_type": "markdown",
   "id": "e95ebca7",
   "metadata": {},
   "source": [
    "### Шаг 2. Предобработка данных"
   ]
  },
  {
   "cell_type": "markdown",
   "id": "fa681316",
   "metadata": {},
   "source": [
    "#### Названия столбцов"
   ]
  },
  {
   "cell_type": "code",
   "execution_count": 9,
   "id": "664ccfb4",
   "metadata": {},
   "outputs": [
    {
     "name": "stdout",
     "output_type": "stream",
     "text": [
      "Index(['user_id', 'name', 'age', 'city', 'subscription_type'], dtype='object')\n",
      "Index(['user_id', 'distance', 'duration', 'date'], dtype='object')\n",
      "Index(['subscription_type', 'minute_price', 'start_ride_price',\n",
      "       'subscription_fee'],\n",
      "      dtype='object')\n"
     ]
    }
   ],
   "source": [
    "for name in users.columns, rides.columns, subscriptions.columns:\n",
    "    print(name)    "
   ]
  },
  {
   "cell_type": "markdown",
   "id": "94f130b0",
   "metadata": {},
   "source": [
    "- **Название переменных во всех столбцах соответсвует стандарту PEP8**"
   ]
  },
  {
   "cell_type": "markdown",
   "id": "9210d37c",
   "metadata": {},
   "source": [
    "#### Временные параметры"
   ]
  },
  {
   "cell_type": "markdown",
   "id": "5db238f1",
   "metadata": {},
   "source": [
    "- Приведем значение в столбце **date** датафрейма **rides** к временному типу:"
   ]
  },
  {
   "cell_type": "code",
   "execution_count": 10,
   "id": "c5135350",
   "metadata": {},
   "outputs": [],
   "source": [
    "#Приводим значения в столбце к временному типу:\n",
    "rides['date'] = pd.to_datetime(rides['date'], format='%Y-%m-%d')\n",
    "#Добавляем столбец с номером месяца:\n",
    "rides['month'] = rides['date'].dt.month"
   ]
  },
  {
   "cell_type": "code",
   "execution_count": 11,
   "id": "471b4232",
   "metadata": {},
   "outputs": [
    {
     "data": {
      "text/plain": [
       "Timestamp('2021-12-30 00:00:00')"
      ]
     },
     "execution_count": 11,
     "metadata": {},
     "output_type": "execute_result"
    }
   ],
   "source": [
    "rides['date'].max()"
   ]
  },
  {
   "cell_type": "code",
   "execution_count": 12,
   "id": "a104cfc5",
   "metadata": {},
   "outputs": [
    {
     "data": {
      "text/plain": [
       "Timestamp('2021-01-01 00:00:00')"
      ]
     },
     "execution_count": 12,
     "metadata": {},
     "output_type": "execute_result"
    }
   ],
   "source": [
    "rides['date'].min()"
   ]
  },
  {
   "cell_type": "code",
   "execution_count": 13,
   "id": "eb800e39",
   "metadata": {},
   "outputs": [
    {
     "data": {
      "text/html": [
       "<div>\n",
       "<style scoped>\n",
       "    .dataframe tbody tr th:only-of-type {\n",
       "        vertical-align: middle;\n",
       "    }\n",
       "\n",
       "    .dataframe tbody tr th {\n",
       "        vertical-align: top;\n",
       "    }\n",
       "\n",
       "    .dataframe thead th {\n",
       "        text-align: right;\n",
       "    }\n",
       "</style>\n",
       "<table border=\"1\" class=\"dataframe\">\n",
       "  <thead>\n",
       "    <tr style=\"text-align: right;\">\n",
       "      <th></th>\n",
       "      <th>user_id</th>\n",
       "      <th>distance</th>\n",
       "      <th>duration</th>\n",
       "      <th>date</th>\n",
       "      <th>month</th>\n",
       "    </tr>\n",
       "  </thead>\n",
       "  <tbody>\n",
       "  </tbody>\n",
       "</table>\n",
       "</div>"
      ],
      "text/plain": [
       "Empty DataFrame\n",
       "Columns: [user_id, distance, duration, date, month]\n",
       "Index: []"
      ]
     },
     "execution_count": 13,
     "metadata": {},
     "output_type": "execute_result"
    }
   ],
   "source": [
    "rides.query('\"2022\" in date')"
   ]
  },
  {
   "cell_type": "code",
   "execution_count": 14,
   "id": "658459a2",
   "metadata": {},
   "outputs": [
    {
     "data": {
      "text/html": [
       "<div>\n",
       "<style scoped>\n",
       "    .dataframe tbody tr th:only-of-type {\n",
       "        vertical-align: middle;\n",
       "    }\n",
       "\n",
       "    .dataframe tbody tr th {\n",
       "        vertical-align: top;\n",
       "    }\n",
       "\n",
       "    .dataframe thead th {\n",
       "        text-align: right;\n",
       "    }\n",
       "</style>\n",
       "<table border=\"1\" class=\"dataframe\">\n",
       "  <thead>\n",
       "    <tr style=\"text-align: right;\">\n",
       "      <th></th>\n",
       "      <th>user_id</th>\n",
       "      <th>distance</th>\n",
       "      <th>duration</th>\n",
       "      <th>date</th>\n",
       "      <th>month</th>\n",
       "    </tr>\n",
       "  </thead>\n",
       "  <tbody>\n",
       "    <tr>\n",
       "      <th>0</th>\n",
       "      <td>1</td>\n",
       "      <td>4409.919140</td>\n",
       "      <td>25.599769</td>\n",
       "      <td>2021-01-01</td>\n",
       "      <td>1</td>\n",
       "    </tr>\n",
       "    <tr>\n",
       "      <th>1</th>\n",
       "      <td>1</td>\n",
       "      <td>2617.592153</td>\n",
       "      <td>15.816871</td>\n",
       "      <td>2021-01-18</td>\n",
       "      <td>1</td>\n",
       "    </tr>\n",
       "    <tr>\n",
       "      <th>2</th>\n",
       "      <td>1</td>\n",
       "      <td>754.159807</td>\n",
       "      <td>6.232113</td>\n",
       "      <td>2021-04-20</td>\n",
       "      <td>4</td>\n",
       "    </tr>\n",
       "    <tr>\n",
       "      <th>3</th>\n",
       "      <td>1</td>\n",
       "      <td>2694.783254</td>\n",
       "      <td>18.511000</td>\n",
       "      <td>2021-08-11</td>\n",
       "      <td>8</td>\n",
       "    </tr>\n",
       "    <tr>\n",
       "      <th>4</th>\n",
       "      <td>1</td>\n",
       "      <td>4028.687306</td>\n",
       "      <td>26.265803</td>\n",
       "      <td>2021-08-28</td>\n",
       "      <td>8</td>\n",
       "    </tr>\n",
       "    <tr>\n",
       "      <th>5</th>\n",
       "      <td>1</td>\n",
       "      <td>2770.890808</td>\n",
       "      <td>16.650138</td>\n",
       "      <td>2021-10-09</td>\n",
       "      <td>10</td>\n",
       "    </tr>\n",
       "    <tr>\n",
       "      <th>6</th>\n",
       "      <td>1</td>\n",
       "      <td>3039.020292</td>\n",
       "      <td>14.927879</td>\n",
       "      <td>2021-10-19</td>\n",
       "      <td>10</td>\n",
       "    </tr>\n",
       "    <tr>\n",
       "      <th>7</th>\n",
       "      <td>1</td>\n",
       "      <td>2842.118050</td>\n",
       "      <td>23.117468</td>\n",
       "      <td>2021-11-06</td>\n",
       "      <td>11</td>\n",
       "    </tr>\n",
       "    <tr>\n",
       "      <th>8</th>\n",
       "      <td>1</td>\n",
       "      <td>3412.690668</td>\n",
       "      <td>15.238072</td>\n",
       "      <td>2021-11-14</td>\n",
       "      <td>11</td>\n",
       "    </tr>\n",
       "    <tr>\n",
       "      <th>9</th>\n",
       "      <td>1</td>\n",
       "      <td>748.690645</td>\n",
       "      <td>15.041884</td>\n",
       "      <td>2021-11-22</td>\n",
       "      <td>11</td>\n",
       "    </tr>\n",
       "  </tbody>\n",
       "</table>\n",
       "</div>"
      ],
      "text/plain": [
       "   user_id     distance   duration       date  month\n",
       "0        1  4409.919140  25.599769 2021-01-01      1\n",
       "1        1  2617.592153  15.816871 2021-01-18      1\n",
       "2        1   754.159807   6.232113 2021-04-20      4\n",
       "3        1  2694.783254  18.511000 2021-08-11      8\n",
       "4        1  4028.687306  26.265803 2021-08-28      8\n",
       "5        1  2770.890808  16.650138 2021-10-09     10\n",
       "6        1  3039.020292  14.927879 2021-10-19     10\n",
       "7        1  2842.118050  23.117468 2021-11-06     11\n",
       "8        1  3412.690668  15.238072 2021-11-14     11\n",
       "9        1   748.690645  15.041884 2021-11-22     11"
      ]
     },
     "execution_count": 14,
     "metadata": {},
     "output_type": "execute_result"
    }
   ],
   "source": [
    "rides.head(10)"
   ]
  },
  {
   "cell_type": "markdown",
   "id": "0abad40b",
   "metadata": {},
   "source": [
    "#### Изменение типов данных"
   ]
  },
  {
   "cell_type": "markdown",
   "id": "2410ab0b",
   "metadata": {},
   "source": [
    "- Округлим значение в столбце ***distance*** датафрейма ***rides*** до 2-х знаков после запятой:"
   ]
  },
  {
   "cell_type": "code",
   "execution_count": 15,
   "id": "11d4afb8",
   "metadata": {},
   "outputs": [],
   "source": [
    "rides['distance'] = rides['distance'].round(2)"
   ]
  },
  {
   "cell_type": "markdown",
   "id": "335fcec1",
   "metadata": {},
   "source": [
    "- Приведем столбец ***duration*** (время в столбце узказано в минутах) к целому типу, округлив значения:"
   ]
  },
  {
   "cell_type": "code",
   "execution_count": 16,
   "id": "2e5fbca8",
   "metadata": {},
   "outputs": [],
   "source": [
    "rides['duration'] = np.ceil(rides['duration']).astype(int)"
   ]
  },
  {
   "cell_type": "markdown",
   "id": "50c02d2e",
   "metadata": {},
   "source": [
    "- Приведем к нижнему регистру столбцы ***name*** и ***city*** датафрейма ***Users***:"
   ]
  },
  {
   "cell_type": "code",
   "execution_count": 17,
   "id": "f3756f59",
   "metadata": {},
   "outputs": [
    {
     "data": {
      "text/plain": [
       "0             кира\n",
       "1        станислав\n",
       "2          алексей\n",
       "3       константин\n",
       "4            адель\n",
       "           ...    \n",
       "1560         федор\n",
       "1561          юрий\n",
       "1562        ясмина\n",
       "1563          юрий\n",
       "1564       артемий\n",
       "Name: name, Length: 1565, dtype: object"
      ]
     },
     "execution_count": 17,
     "metadata": {},
     "output_type": "execute_result"
    }
   ],
   "source": [
    "users['name'].str.lower()"
   ]
  },
  {
   "cell_type": "code",
   "execution_count": 18,
   "id": "0f9dfba1",
   "metadata": {},
   "outputs": [
    {
     "data": {
      "text/plain": [
       "0               тюмень\n",
       "1                 омск\n",
       "2               москва\n",
       "3       ростов-на-дону\n",
       "4                 омск\n",
       "             ...      \n",
       "1560         пятигорск\n",
       "1561              сочи\n",
       "1562         краснодар\n",
       "1563            тюмень\n",
       "1564    ростов-на-дону\n",
       "Name: city, Length: 1565, dtype: object"
      ]
     },
     "execution_count": 18,
     "metadata": {},
     "output_type": "execute_result"
    }
   ],
   "source": [
    "users['city'].str.lower()"
   ]
  },
  {
   "cell_type": "markdown",
   "id": "2d3dc237",
   "metadata": {},
   "source": [
    "#### Поиск пропусков"
   ]
  },
  {
   "cell_type": "code",
   "execution_count": 19,
   "id": "b34eca37",
   "metadata": {},
   "outputs": [
    {
     "name": "stdout",
     "output_type": "stream",
     "text": [
      "user_id              0\n",
      "name                 0\n",
      "age                  0\n",
      "city                 0\n",
      "subscription_type    0\n",
      "dtype: int64\n",
      "\n",
      "user_id     0\n",
      "distance    0\n",
      "duration    0\n",
      "date        0\n",
      "month       0\n",
      "dtype: int64\n",
      "\n",
      "subscription_type    0\n",
      "minute_price         0\n",
      "start_ride_price     0\n",
      "subscription_fee     0\n",
      "dtype: int64\n",
      "\n"
     ]
    }
   ],
   "source": [
    "for i in users.isna().sum(), rides.isna().sum(), subscriptions.isna().sum():\n",
    "    print(i)\n",
    "    print()"
   ]
  },
  {
   "cell_type": "markdown",
   "id": "1795ea1b",
   "metadata": {},
   "source": [
    "- **В данных нет пропусов**"
   ]
  },
  {
   "cell_type": "markdown",
   "id": "3c108617",
   "metadata": {},
   "source": [
    "#### Поиск дубликатов"
   ]
  },
  {
   "cell_type": "code",
   "execution_count": 20,
   "id": "659f767b",
   "metadata": {},
   "outputs": [
    {
     "name": "stdout",
     "output_type": "stream",
     "text": [
      "Дубликатов: 31\n",
      "\n",
      "Дубликатов: 0\n",
      "\n",
      "Дубликатов: 0\n",
      "\n"
     ]
    }
   ],
   "source": [
    "for i in users.duplicated().sum(), rides.duplicated().sum(), subscriptions.duplicated().sum():\n",
    "    print(f'Дубликатов: {i}')\n",
    "    print()"
   ]
  },
  {
   "cell_type": "markdown",
   "id": "ec2d77d9",
   "metadata": {},
   "source": [
    "- **31 явный дубликат в таблице с пользователями *Users***"
   ]
  },
  {
   "cell_type": "code",
   "execution_count": 21,
   "id": "005d4dd5",
   "metadata": {},
   "outputs": [],
   "source": [
    "#Удалим все явные дубликаты:\n",
    "users = users.drop_duplicates()"
   ]
  },
  {
   "cell_type": "code",
   "execution_count": 22,
   "id": "fbada5bb",
   "metadata": {},
   "outputs": [
    {
     "data": {
      "text/plain": [
       "0"
      ]
     },
     "execution_count": 22,
     "metadata": {},
     "output_type": "execute_result"
    }
   ],
   "source": [
    "#Повторная проверка на наличие явных дубликатов:\n",
    "users.duplicated().sum()"
   ]
  },
  {
   "cell_type": "markdown",
   "id": "3ced8751",
   "metadata": {},
   "source": [
    "- **Теперь явных дубликатов не осталось**"
   ]
  },
  {
   "cell_type": "markdown",
   "id": "7c1d57d8",
   "metadata": {},
   "source": [
    "**Вывод: данные полностью предобработаны. В процессе работы с данными не было обнаружено пропусков. Был найден 31 дубликат, которые были удалены из данных. Остальные данные и значения были округлены и приведены к определенным типам, необходимым для дальнейшей работы.**"
   ]
  },
  {
   "cell_type": "markdown",
   "id": "46797813",
   "metadata": {},
   "source": [
    "<a id='section_3'></a>"
   ]
  },
  {
   "cell_type": "markdown",
   "id": "212593c7",
   "metadata": {},
   "source": [
    "### Шаг 3. Исследовательский анализ данных"
   ]
  },
  {
   "cell_type": "markdown",
   "id": "39603831",
   "metadata": {},
   "source": [
    "#### Частота встречаемости городов"
   ]
  },
  {
   "cell_type": "code",
   "execution_count": 23,
   "id": "048ccb81",
   "metadata": {},
   "outputs": [
    {
     "data": {
      "text/plain": [
       "Пятигорск         219\n",
       "Екатеринбург      204\n",
       "Ростов-на-Дону    198\n",
       "Краснодар         193\n",
       "Сочи              189\n",
       "Омск              183\n",
       "Тюмень            180\n",
       "Москва            168\n",
       "Name: city, dtype: int64"
      ]
     },
     "execution_count": 23,
     "metadata": {},
     "output_type": "execute_result"
    }
   ],
   "source": [
    "users['city'].value_counts()"
   ]
  },
  {
   "cell_type": "code",
   "execution_count": 24,
   "id": "55c27924",
   "metadata": {},
   "outputs": [
    {
     "data": {
      "image/png": "[encoded data removed]",
      "text/plain": [
       "<Figure size 936x432 with 1 Axes>"
      ]
     },
     "metadata": {
      "needs_background": "light"
     },
     "output_type": "display_data"
    }
   ],
   "source": [
    "(\n",
    "users\n",
    "    .pivot_table(index='city', values='user_id', aggfunc='count')\n",
    "    .sort_values('user_id', ascending=True)\n",
    "    .plot(kind='barh', legend=False, figsize=(13,6), grid=True, color='orange', fontsize=14)\n",
    ")\n",
    "plt.xlabel('Количество пользователей', size=14)\n",
    "plt.ylabel('Города', size=14)\n",
    "plt.title('Зависимость количества пользователей от городов', size=16)\n",
    "plt.show()"
   ]
  },
  {
   "cell_type": "markdown",
   "id": "3e7e2bd4",
   "metadata": {},
   "source": [
    "**В Пятигорске больше всего арендуют электросамокаты, в то время как в Москве меньше всего.**"
   ]
  },
  {
   "cell_type": "markdown",
   "id": "5f27775c",
   "metadata": {},
   "source": [
    "#### Соотношение пользователей с подпиской и без подписки"
   ]
  },
  {
   "cell_type": "code",
   "execution_count": 25,
   "id": "bbe805a8",
   "metadata": {},
   "outputs": [
    {
     "data": {
      "image/png": "[encoded data removed]",
      "text/plain": [
       "<Figure size 648x648 with 1 Axes>"
      ]
     },
     "metadata": {},
     "output_type": "display_data"
    }
   ],
   "source": [
    "(\n",
    "users\n",
    "    .groupby('subscription_type')['user_id'].count()\n",
    "    .plot(kind='pie', figsize=(9,9), autopct='%1.1f%%', fontsize=15)\n",
    ")\n",
    "plt.title('Соотношение пользователей с подпиской и без подсписки', size=15)\n",
    "plt.ylabel('')\n",
    "plt.show()"
   ]
  },
  {
   "cell_type": "code",
   "execution_count": 26,
   "id": "4cf9b907",
   "metadata": {},
   "outputs": [
    {
     "data": {
      "text/plain": [
       "free     835\n",
       "ultra    699\n",
       "Name: subscription_type, dtype: int64"
      ]
     },
     "execution_count": 26,
     "metadata": {},
     "output_type": "execute_result"
    }
   ],
   "source": [
    "users['subscription_type'].value_counts()"
   ]
  },
  {
   "cell_type": "markdown",
   "id": "d056b575",
   "metadata": {},
   "source": [
    "**Количесивтво пользователей, использующих подписку *Ultra*, составляет 45,6% от общего числа пользователей. Количество пользователей без подписки занимают немного большую долю, как видно из диаграммы.**"
   ]
  },
  {
   "cell_type": "markdown",
   "id": "975c8b6a",
   "metadata": {},
   "source": [
    "#### Возраст пользователей"
   ]
  },
  {
   "cell_type": "code",
   "execution_count": 27,
   "id": "a3c7944f",
   "metadata": {},
   "outputs": [
    {
     "data": {
      "image/png": "[encoded data removed]",
      "text/plain": [
       "<Figure size 864x432 with 1 Axes>"
      ]
     },
     "metadata": {
      "needs_background": "light"
     },
     "output_type": "display_data"
    }
   ],
   "source": [
    "(\n",
    "users\n",
    "    .pivot_table(index='age', values='user_id', aggfunc='count')\n",
    "    .sort_values('age', ascending=True)\n",
    "    .plot(kind='bar', figsize=(12,6), legend=False, fontsize=12, grid=True)\n",
    ")\n",
    "plt.xlabel('Возраст пользователей', size=14)\n",
    "plt.ylabel('Количество аренд', size=14)\n",
    "plt.title('Количество аренд самокатов от возраста пользователя', size=20)\n",
    "plt.annotate('Пиковое значение: 25', xy=(13.5, 143.5), xytext=(16,140),\n",
    "            arrowprops={'facecolor': 'orange', 'shrink': 0.1}, size=15, c='darkblue')\n",
    "plt.show()"
   ]
  },
  {
   "cell_type": "code",
   "execution_count": 28,
   "id": "ff1e906d",
   "metadata": {},
   "outputs": [
    {
     "data": {
      "text/plain": [
       "25"
      ]
     },
     "execution_count": 28,
     "metadata": {},
     "output_type": "execute_result"
    }
   ],
   "source": [
    "#Самое часто встречаемое значение:\n",
    "users['age'].mode()[0]"
   ]
  },
  {
   "cell_type": "markdown",
   "id": "eb489a09",
   "metadata": {},
   "source": [
    "**Самокаты арендуют пользователи начиная с 12 лет и заканчивая 43 годами. Самое большое число съемов самокатов наблюдается в возрасте 25 лет. Если посмотреть на столбчатую диаграмму, можно заметить, что по мере удаления от пикового знаечния другие значения равномерно убывают, нет больших всплесков и спадов.**"
   ]
  },
  {
   "cell_type": "markdown",
   "id": "7fadc410",
   "metadata": {},
   "source": [
    "#### Расстояние, которое пользователь преодолел за одну поездку"
   ]
  },
  {
   "cell_type": "code",
   "execution_count": 29,
   "id": "6553e376",
   "metadata": {},
   "outputs": [
    {
     "data": {
      "image/png": "[encoded data removed]",
      "text/plain": [
       "<Figure size 864x432 with 1 Axes>"
      ]
     },
     "metadata": {
      "needs_background": "light"
     },
     "output_type": "display_data"
    }
   ],
   "source": [
    "rides['distance'].hist(figsize=(12,6), bins=250)\n",
    "plt.xlabel('Расстояние в [м]', size=14)\n",
    "plt.ylabel('Количество аренд', size=14)\n",
    "plt.title('Зависимость количества аренд от дистанции', size=20)\n",
    "plt.show()"
   ]
  },
  {
   "cell_type": "code",
   "execution_count": 30,
   "id": "6d59f805",
   "metadata": {},
   "outputs": [
    {
     "data": {
      "text/plain": [
       "count    18068.000000\n",
       "mean      3070.659992\n",
       "std       1116.831222\n",
       "min          0.860000\n",
       "25%       2543.227500\n",
       "50%       3133.610000\n",
       "75%       3776.220000\n",
       "max       7211.010000\n",
       "Name: distance, dtype: float64"
      ]
     },
     "execution_count": 30,
     "metadata": {},
     "output_type": "execute_result"
    }
   ],
   "source": [
    "rides['distance'].describe()"
   ]
  },
  {
   "cell_type": "code",
   "execution_count": 31,
   "id": "24322717",
   "metadata": {
    "scrolled": true
   },
   "outputs": [
    {
     "data": {
      "text/plain": [
       "3546.79"
      ]
     },
     "execution_count": 31,
     "metadata": {},
     "output_type": "execute_result"
    }
   ],
   "source": [
    "#Определим моду\n",
    "rides['distance'].mode()[0]"
   ]
  },
  {
   "cell_type": "code",
   "execution_count": 32,
   "id": "366629ed",
   "metadata": {},
   "outputs": [
    {
     "data": {
      "image/png": "[encoded data removed]",
      "text/plain": [
       "<Figure size 864x432 with 1 Axes>"
      ]
     },
     "metadata": {
      "needs_background": "light"
     },
     "output_type": "display_data"
    }
   ],
   "source": [
    "#Интервал до 2км, для демонстрации второго пика гистограммы:\n",
    "(\n",
    "rides\n",
    "    .query('distance<2000')\n",
    "    .hist('distance', bins=50, figsize=(12,6))\n",
    ")\n",
    "plt.xlabel('Расстояние в [м]', size=14)\n",
    "plt.ylabel('Количество аренд', size=14)\n",
    "plt.title('Зависимость количества аренд от дистанции (приближенный к пику срез)', size=16)\n",
    "plt.show()"
   ]
  },
  {
   "cell_type": "markdown",
   "id": "6cfcd650",
   "metadata": {},
   "source": [
    "**Гистограмма имеет два пика. Первый пик 3.5 км - знаечние которое встречалось чаще всего. В среднем люди за ссесию проезжают порядка 2.5 - 3.7 км. (межквартильный размах). Второй пик в районе 700 м. настораживает. Скорей всего пик в данной области связан с простоем самоката.**"
   ]
  },
  {
   "cell_type": "markdown",
   "id": "e5528fbb",
   "metadata": {},
   "source": [
    "#### Продолжительность поездок"
   ]
  },
  {
   "cell_type": "code",
   "execution_count": 33,
   "id": "12d38607",
   "metadata": {},
   "outputs": [
    {
     "data": {
      "text/plain": [
       "41"
      ]
     },
     "execution_count": 33,
     "metadata": {},
     "output_type": "execute_result"
    }
   ],
   "source": [
    "#Рассмотрим максимально долгую поездку:\n",
    "rides['duration'].max()"
   ]
  },
  {
   "cell_type": "markdown",
   "id": "f83bd73a",
   "metadata": {},
   "source": [
    "**Так как поездки мы приводили к целочиленному типу, в местах между 1 и 2 мин, к примеру, у нас отсутвуют значения. Т.е. значения стали еще реже, хотя и без этого они были дискретны. Поэтому будем рассматривать интервал до максимального значения.**"
   ]
  },
  {
   "cell_type": "code",
   "execution_count": 34,
   "id": "1bbef6b9",
   "metadata": {},
   "outputs": [
    {
     "data": {
      "image/png": "[encoded data removed]",
      "text/plain": [
       "<Figure size 864x432 with 1 Axes>"
      ]
     },
     "metadata": {
      "needs_background": "light"
     },
     "output_type": "display_data"
    }
   ],
   "source": [
    "rides['duration'].hist(figsize=(12,6), bins=41, range=(0,41))\n",
    "plt.xlabel('Время поездки в [мин]', size=14)\n",
    "plt.ylabel('Количество аренд', size=14)\n",
    "plt.title('Зависимость количества и времени аренды', size=20)\n",
    "plt.show()"
   ]
  },
  {
   "cell_type": "code",
   "execution_count": 35,
   "id": "44c830e6",
   "metadata": {},
   "outputs": [
    {
     "data": {
      "text/plain": [
       "19"
      ]
     },
     "execution_count": 35,
     "metadata": {},
     "output_type": "execute_result"
    }
   ],
   "source": [
    "rides['duration'].mode()[0]"
   ]
  },
  {
   "cell_type": "code",
   "execution_count": 36,
   "id": "b08fefe4",
   "metadata": {},
   "outputs": [
    {
     "data": {
      "text/plain": [
       "count    18068.000000\n",
       "mean        18.303520\n",
       "std          6.094928\n",
       "min          1.000000\n",
       "25%         14.000000\n",
       "50%         18.000000\n",
       "75%         22.000000\n",
       "max         41.000000\n",
       "Name: duration, dtype: float64"
      ]
     },
     "execution_count": 36,
     "metadata": {},
     "output_type": "execute_result"
    }
   ],
   "source": [
    "rides['duration'].describe()"
   ]
  },
  {
   "cell_type": "markdown",
   "id": "e48ec76f",
   "metadata": {},
   "source": [
    "**Из гистограммы видно, что время стремится к нормальному распределению. Наиболее часто встречающееся знаечние состовляет 19 мин.**"
   ]
  },
  {
   "cell_type": "markdown",
   "id": "5af960ef",
   "metadata": {},
   "source": [
    "**Вывод:**\n",
    "\n",
    "- В Пятигорске арендуют самокаты чаще всего, реже всего в Москве.\n",
    "\n",
    "- Количество пользователей с подпиской и без почти одинаково. 45% от общего числа пользователей - имеют подписку.\n",
    "\n",
    "- Возраст на который приходится пик аренд - 25 лет.\n",
    "\n",
    "- Оснавная масса значений расстояния, которое проезжают пользователи, попадает в интервал от 2.5 до 3.7 км.\n",
    "\n",
    "- Медианное время аренды самоката состовлет 18 мин.\n",
    "\n",
    "**Возраст, расстояние и время, исходя из построенных гистограмм и графиков, стремятся к нормальному распределению.**"
   ]
  },
  {
   "cell_type": "code",
   "execution_count": 37,
   "id": "35e6e6aa",
   "metadata": {},
   "outputs": [
    {
     "data": {
      "image/png": "[encoded data removed]",
      "text/plain": [
       "<Figure size 720x576 with 1 Axes>"
      ]
     },
     "metadata": {
      "needs_background": "light"
     },
     "output_type": "display_data"
    }
   ],
   "source": [
    "plt.figure(figsize=(10,8))\n",
    "users.boxplot('age')\n",
    "plt.ylabel('Возраст пользователя', size=14)\n",
    "plt.title('Диаграмма размаха для возраста', size=16)\n",
    "plt.show()"
   ]
  },
  {
   "cell_type": "markdown",
   "id": "f2ca7ad8",
   "metadata": {},
   "source": [
    "**Диграмма размаха для возраста имеет малое количество выбросов.**"
   ]
  },
  {
   "cell_type": "code",
   "execution_count": 38,
   "id": "5d41b33d",
   "metadata": {
    "scrolled": false
   },
   "outputs": [
    {
     "data": {
      "image/png": "[encoded data removed]",
      "text/plain": [
       "<Figure size 720x576 with 1 Axes>"
      ]
     },
     "metadata": {
      "needs_background": "light"
     },
     "output_type": "display_data"
    }
   ],
   "source": [
    "plt.figure(figsize=(10,8))\n",
    "rides.boxplot('distance')\n",
    "plt.ylabel('Расстояние в [м]', size=14)\n",
    "plt.title('Диаграмма размаха для дистанции', size=16)\n",
    "plt.show()"
   ]
  },
  {
   "cell_type": "markdown",
   "id": "27f4bc32",
   "metadata": {},
   "source": [
    "**Диаграмма размаха для дистанции имеет много выбросов, это связано с величиной выборки, но удалять эти значения мы не можем, ввиду их корректности.**"
   ]
  },
  {
   "cell_type": "code",
   "execution_count": 39,
   "id": "0c924303",
   "metadata": {},
   "outputs": [
    {
     "data": {
      "image/png": "[encoded data removed]",
      "text/plain": [
       "<Figure size 720x576 with 1 Axes>"
      ]
     },
     "metadata": {
      "needs_background": "light"
     },
     "output_type": "display_data"
    }
   ],
   "source": [
    "plt.figure(figsize=(10,8))\n",
    "rides.boxplot('duration')\n",
    "plt.ylabel('Время в [м]', size=14)\n",
    "plt.title('Диаграмма размаха для продолжительности поездки', size=16)\n",
    "plt.show()"
   ]
  },
  {
   "cell_type": "markdown",
   "id": "c2b3a6bd",
   "metadata": {},
   "source": [
    "**Имеет мало выбросов, в основном поездки длятся от 14 до 22 мин**"
   ]
  },
  {
   "cell_type": "markdown",
   "id": "98059176",
   "metadata": {},
   "source": [
    "<a id='section_4'></a>"
   ]
  },
  {
   "cell_type": "markdown",
   "id": "4ef51331",
   "metadata": {},
   "source": [
    "### Шаг 4. Объединение данных"
   ]
  },
  {
   "cell_type": "markdown",
   "id": "c09f01aa",
   "metadata": {},
   "source": [
    "#### Объединяем три датафрейма с помощью merge"
   ]
  },
  {
   "cell_type": "markdown",
   "id": "8c365f90",
   "metadata": {},
   "source": [
    "**Проверим размеры датафреймев до объединения:**"
   ]
  },
  {
   "cell_type": "code",
   "execution_count": 40,
   "id": "1a396820",
   "metadata": {},
   "outputs": [
    {
     "name": "stdout",
     "output_type": "stream",
     "text": [
      "1534\n",
      "\n",
      "18068\n",
      "\n",
      "2\n",
      "\n"
     ]
    }
   ],
   "source": [
    "#Количество строк в каждом датафрейме до объединения:\n",
    "for i in [users, rides, subscriptions]:\n",
    "    print(i.shape[0])\n",
    "    print()"
   ]
  },
  {
   "cell_type": "code",
   "execution_count": 41,
   "id": "6bf288b5",
   "metadata": {},
   "outputs": [],
   "source": [
    "#Создадим копию датафрейма с пользователями, чтобы не потерять его:\n",
    "data = users.copy()"
   ]
  },
  {
   "cell_type": "code",
   "execution_count": 42,
   "id": "7b2ec727",
   "metadata": {},
   "outputs": [],
   "source": [
    "#Объеденим информацию о пользователях и поездках:\n",
    "data = data.merge(rides)"
   ]
  },
  {
   "cell_type": "code",
   "execution_count": 43,
   "id": "3500e7a8",
   "metadata": {},
   "outputs": [],
   "source": [
    "#Добавим информацию о подписках:\n",
    "data = data.merge(subscriptions)"
   ]
  },
  {
   "cell_type": "markdown",
   "id": "28053e11",
   "metadata": {},
   "source": [
    "**Проверим размеры после объединения:**"
   ]
  },
  {
   "cell_type": "code",
   "execution_count": 44,
   "id": "8825122a",
   "metadata": {},
   "outputs": [
    {
     "data": {
      "text/plain": [
       "18068"
      ]
     },
     "execution_count": 44,
     "metadata": {},
     "output_type": "execute_result"
    }
   ],
   "source": [
    "#Количество строк в датафрейме после объединения:\n",
    "data.shape[0]"
   ]
  },
  {
   "cell_type": "markdown",
   "id": "15ad6dc5",
   "metadata": {},
   "source": [
    "**Размер датафрейма совподает по количеству строк с наибольшим значением, следовательно ошибки нет.**"
   ]
  },
  {
   "cell_type": "code",
   "execution_count": 45,
   "id": "63de572c",
   "metadata": {},
   "outputs": [
    {
     "data": {
      "text/plain": [
       "user_id              0\n",
       "name                 0\n",
       "age                  0\n",
       "city                 0\n",
       "subscription_type    0\n",
       "distance             0\n",
       "duration             0\n",
       "date                 0\n",
       "month                0\n",
       "minute_price         0\n",
       "start_ride_price     0\n",
       "subscription_fee     0\n",
       "dtype: int64"
      ]
     },
     "execution_count": 45,
     "metadata": {},
     "output_type": "execute_result"
    }
   ],
   "source": [
    "#Проверим на наличие пропуском и явный дубликатов после объединения:\n",
    "data.isna().sum()"
   ]
  },
  {
   "cell_type": "code",
   "execution_count": 46,
   "id": "620bbe59",
   "metadata": {},
   "outputs": [
    {
     "data": {
      "text/plain": [
       "0"
      ]
     },
     "execution_count": 46,
     "metadata": {},
     "output_type": "execute_result"
    }
   ],
   "source": [
    "data.duplicated().sum()"
   ]
  },
  {
   "cell_type": "code",
   "execution_count": 47,
   "id": "d12bbe3f",
   "metadata": {
    "scrolled": true
   },
   "outputs": [
    {
     "data": {
      "text/html": [
       "<div>\n",
       "<style scoped>\n",
       "    .dataframe tbody tr th:only-of-type {\n",
       "        vertical-align: middle;\n",
       "    }\n",
       "\n",
       "    .dataframe tbody tr th {\n",
       "        vertical-align: top;\n",
       "    }\n",
       "\n",
       "    .dataframe thead th {\n",
       "        text-align: right;\n",
       "    }\n",
       "</style>\n",
       "<table border=\"1\" class=\"dataframe\">\n",
       "  <thead>\n",
       "    <tr style=\"text-align: right;\">\n",
       "      <th></th>\n",
       "      <th>user_id</th>\n",
       "      <th>name</th>\n",
       "      <th>age</th>\n",
       "      <th>city</th>\n",
       "      <th>subscription_type</th>\n",
       "      <th>distance</th>\n",
       "      <th>duration</th>\n",
       "      <th>date</th>\n",
       "      <th>month</th>\n",
       "      <th>minute_price</th>\n",
       "      <th>start_ride_price</th>\n",
       "      <th>subscription_fee</th>\n",
       "    </tr>\n",
       "  </thead>\n",
       "  <tbody>\n",
       "    <tr>\n",
       "      <th>0</th>\n",
       "      <td>1</td>\n",
       "      <td>Кира</td>\n",
       "      <td>22</td>\n",
       "      <td>Тюмень</td>\n",
       "      <td>ultra</td>\n",
       "      <td>4409.92</td>\n",
       "      <td>26</td>\n",
       "      <td>2021-01-01</td>\n",
       "      <td>1</td>\n",
       "      <td>6</td>\n",
       "      <td>0</td>\n",
       "      <td>199</td>\n",
       "    </tr>\n",
       "    <tr>\n",
       "      <th>1</th>\n",
       "      <td>1</td>\n",
       "      <td>Кира</td>\n",
       "      <td>22</td>\n",
       "      <td>Тюмень</td>\n",
       "      <td>ultra</td>\n",
       "      <td>2617.59</td>\n",
       "      <td>16</td>\n",
       "      <td>2021-01-18</td>\n",
       "      <td>1</td>\n",
       "      <td>6</td>\n",
       "      <td>0</td>\n",
       "      <td>199</td>\n",
       "    </tr>\n",
       "    <tr>\n",
       "      <th>2</th>\n",
       "      <td>1</td>\n",
       "      <td>Кира</td>\n",
       "      <td>22</td>\n",
       "      <td>Тюмень</td>\n",
       "      <td>ultra</td>\n",
       "      <td>754.16</td>\n",
       "      <td>7</td>\n",
       "      <td>2021-04-20</td>\n",
       "      <td>4</td>\n",
       "      <td>6</td>\n",
       "      <td>0</td>\n",
       "      <td>199</td>\n",
       "    </tr>\n",
       "    <tr>\n",
       "      <th>3</th>\n",
       "      <td>1</td>\n",
       "      <td>Кира</td>\n",
       "      <td>22</td>\n",
       "      <td>Тюмень</td>\n",
       "      <td>ultra</td>\n",
       "      <td>2694.78</td>\n",
       "      <td>19</td>\n",
       "      <td>2021-08-11</td>\n",
       "      <td>8</td>\n",
       "      <td>6</td>\n",
       "      <td>0</td>\n",
       "      <td>199</td>\n",
       "    </tr>\n",
       "    <tr>\n",
       "      <th>4</th>\n",
       "      <td>1</td>\n",
       "      <td>Кира</td>\n",
       "      <td>22</td>\n",
       "      <td>Тюмень</td>\n",
       "      <td>ultra</td>\n",
       "      <td>4028.69</td>\n",
       "      <td>27</td>\n",
       "      <td>2021-08-28</td>\n",
       "      <td>8</td>\n",
       "      <td>6</td>\n",
       "      <td>0</td>\n",
       "      <td>199</td>\n",
       "    </tr>\n",
       "    <tr>\n",
       "      <th>...</th>\n",
       "      <td>...</td>\n",
       "      <td>...</td>\n",
       "      <td>...</td>\n",
       "      <td>...</td>\n",
       "      <td>...</td>\n",
       "      <td>...</td>\n",
       "      <td>...</td>\n",
       "      <td>...</td>\n",
       "      <td>...</td>\n",
       "      <td>...</td>\n",
       "      <td>...</td>\n",
       "      <td>...</td>\n",
       "    </tr>\n",
       "    <tr>\n",
       "      <th>18063</th>\n",
       "      <td>1534</td>\n",
       "      <td>Альберт</td>\n",
       "      <td>25</td>\n",
       "      <td>Краснодар</td>\n",
       "      <td>free</td>\n",
       "      <td>3781.10</td>\n",
       "      <td>20</td>\n",
       "      <td>2021-11-04</td>\n",
       "      <td>11</td>\n",
       "      <td>8</td>\n",
       "      <td>50</td>\n",
       "      <td>0</td>\n",
       "    </tr>\n",
       "    <tr>\n",
       "      <th>18064</th>\n",
       "      <td>1534</td>\n",
       "      <td>Альберт</td>\n",
       "      <td>25</td>\n",
       "      <td>Краснодар</td>\n",
       "      <td>free</td>\n",
       "      <td>2840.42</td>\n",
       "      <td>22</td>\n",
       "      <td>2021-11-16</td>\n",
       "      <td>11</td>\n",
       "      <td>8</td>\n",
       "      <td>50</td>\n",
       "      <td>0</td>\n",
       "    </tr>\n",
       "    <tr>\n",
       "      <th>18065</th>\n",
       "      <td>1534</td>\n",
       "      <td>Альберт</td>\n",
       "      <td>25</td>\n",
       "      <td>Краснодар</td>\n",
       "      <td>free</td>\n",
       "      <td>3826.19</td>\n",
       "      <td>19</td>\n",
       "      <td>2021-11-18</td>\n",
       "      <td>11</td>\n",
       "      <td>8</td>\n",
       "      <td>50</td>\n",
       "      <td>0</td>\n",
       "    </tr>\n",
       "    <tr>\n",
       "      <th>18066</th>\n",
       "      <td>1534</td>\n",
       "      <td>Альберт</td>\n",
       "      <td>25</td>\n",
       "      <td>Краснодар</td>\n",
       "      <td>free</td>\n",
       "      <td>2902.31</td>\n",
       "      <td>17</td>\n",
       "      <td>2021-11-27</td>\n",
       "      <td>11</td>\n",
       "      <td>8</td>\n",
       "      <td>50</td>\n",
       "      <td>0</td>\n",
       "    </tr>\n",
       "    <tr>\n",
       "      <th>18067</th>\n",
       "      <td>1534</td>\n",
       "      <td>Альберт</td>\n",
       "      <td>25</td>\n",
       "      <td>Краснодар</td>\n",
       "      <td>free</td>\n",
       "      <td>2371.71</td>\n",
       "      <td>16</td>\n",
       "      <td>2021-12-29</td>\n",
       "      <td>12</td>\n",
       "      <td>8</td>\n",
       "      <td>50</td>\n",
       "      <td>0</td>\n",
       "    </tr>\n",
       "  </tbody>\n",
       "</table>\n",
       "<p>18068 rows × 12 columns</p>\n",
       "</div>"
      ],
      "text/plain": [
       "       user_id     name  age       city subscription_type  distance  duration  \\\n",
       "0            1     Кира   22     Тюмень             ultra   4409.92        26   \n",
       "1            1     Кира   22     Тюмень             ultra   2617.59        16   \n",
       "2            1     Кира   22     Тюмень             ultra    754.16         7   \n",
       "3            1     Кира   22     Тюмень             ultra   2694.78        19   \n",
       "4            1     Кира   22     Тюмень             ultra   4028.69        27   \n",
       "...        ...      ...  ...        ...               ...       ...       ...   \n",
       "18063     1534  Альберт   25  Краснодар              free   3781.10        20   \n",
       "18064     1534  Альберт   25  Краснодар              free   2840.42        22   \n",
       "18065     1534  Альберт   25  Краснодар              free   3826.19        19   \n",
       "18066     1534  Альберт   25  Краснодар              free   2902.31        17   \n",
       "18067     1534  Альберт   25  Краснодар              free   2371.71        16   \n",
       "\n",
       "            date  month  minute_price  start_ride_price  subscription_fee  \n",
       "0     2021-01-01      1             6                 0               199  \n",
       "1     2021-01-18      1             6                 0               199  \n",
       "2     2021-04-20      4             6                 0               199  \n",
       "3     2021-08-11      8             6                 0               199  \n",
       "4     2021-08-28      8             6                 0               199  \n",
       "...          ...    ...           ...               ...               ...  \n",
       "18063 2021-11-04     11             8                50                 0  \n",
       "18064 2021-11-16     11             8                50                 0  \n",
       "18065 2021-11-18     11             8                50                 0  \n",
       "18066 2021-11-27     11             8                50                 0  \n",
       "18067 2021-12-29     12             8                50                 0  \n",
       "\n",
       "[18068 rows x 12 columns]"
      ]
     },
     "execution_count": 47,
     "metadata": {},
     "output_type": "execute_result"
    }
   ],
   "source": [
    "#Рассмотрим полученный датафрейм:\n",
    "data"
   ]
  },
  {
   "cell_type": "markdown",
   "id": "0478cf7e",
   "metadata": {},
   "source": [
    "#### Разбиваем датафрейм *data* на два датафрейма с информацией о пользователях с подпиской и без"
   ]
  },
  {
   "cell_type": "code",
   "execution_count": 48,
   "id": "4cf5617a",
   "metadata": {},
   "outputs": [],
   "source": [
    "#Возьмем срез по данным с подписой и сохраним его в новый датафрейм:\n",
    "df_with_sub = data.query('subscription_type == \"ultra\"')"
   ]
  },
  {
   "cell_type": "code",
   "execution_count": 49,
   "id": "af1fba2d",
   "metadata": {},
   "outputs": [
    {
     "data": {
      "text/html": [
       "<div>\n",
       "<style scoped>\n",
       "    .dataframe tbody tr th:only-of-type {\n",
       "        vertical-align: middle;\n",
       "    }\n",
       "\n",
       "    .dataframe tbody tr th {\n",
       "        vertical-align: top;\n",
       "    }\n",
       "\n",
       "    .dataframe thead th {\n",
       "        text-align: right;\n",
       "    }\n",
       "</style>\n",
       "<table border=\"1\" class=\"dataframe\">\n",
       "  <thead>\n",
       "    <tr style=\"text-align: right;\">\n",
       "      <th></th>\n",
       "      <th>user_id</th>\n",
       "      <th>name</th>\n",
       "      <th>age</th>\n",
       "      <th>city</th>\n",
       "      <th>subscription_type</th>\n",
       "      <th>distance</th>\n",
       "      <th>duration</th>\n",
       "      <th>date</th>\n",
       "      <th>month</th>\n",
       "      <th>minute_price</th>\n",
       "      <th>start_ride_price</th>\n",
       "      <th>subscription_fee</th>\n",
       "    </tr>\n",
       "  </thead>\n",
       "  <tbody>\n",
       "    <tr>\n",
       "      <th>0</th>\n",
       "      <td>1</td>\n",
       "      <td>Кира</td>\n",
       "      <td>22</td>\n",
       "      <td>Тюмень</td>\n",
       "      <td>ultra</td>\n",
       "      <td>4409.92</td>\n",
       "      <td>26</td>\n",
       "      <td>2021-01-01</td>\n",
       "      <td>1</td>\n",
       "      <td>6</td>\n",
       "      <td>0</td>\n",
       "      <td>199</td>\n",
       "    </tr>\n",
       "    <tr>\n",
       "      <th>1</th>\n",
       "      <td>1</td>\n",
       "      <td>Кира</td>\n",
       "      <td>22</td>\n",
       "      <td>Тюмень</td>\n",
       "      <td>ultra</td>\n",
       "      <td>2617.59</td>\n",
       "      <td>16</td>\n",
       "      <td>2021-01-18</td>\n",
       "      <td>1</td>\n",
       "      <td>6</td>\n",
       "      <td>0</td>\n",
       "      <td>199</td>\n",
       "    </tr>\n",
       "    <tr>\n",
       "      <th>2</th>\n",
       "      <td>1</td>\n",
       "      <td>Кира</td>\n",
       "      <td>22</td>\n",
       "      <td>Тюмень</td>\n",
       "      <td>ultra</td>\n",
       "      <td>754.16</td>\n",
       "      <td>7</td>\n",
       "      <td>2021-04-20</td>\n",
       "      <td>4</td>\n",
       "      <td>6</td>\n",
       "      <td>0</td>\n",
       "      <td>199</td>\n",
       "    </tr>\n",
       "    <tr>\n",
       "      <th>3</th>\n",
       "      <td>1</td>\n",
       "      <td>Кира</td>\n",
       "      <td>22</td>\n",
       "      <td>Тюмень</td>\n",
       "      <td>ultra</td>\n",
       "      <td>2694.78</td>\n",
       "      <td>19</td>\n",
       "      <td>2021-08-11</td>\n",
       "      <td>8</td>\n",
       "      <td>6</td>\n",
       "      <td>0</td>\n",
       "      <td>199</td>\n",
       "    </tr>\n",
       "    <tr>\n",
       "      <th>4</th>\n",
       "      <td>1</td>\n",
       "      <td>Кира</td>\n",
       "      <td>22</td>\n",
       "      <td>Тюмень</td>\n",
       "      <td>ultra</td>\n",
       "      <td>4028.69</td>\n",
       "      <td>27</td>\n",
       "      <td>2021-08-28</td>\n",
       "      <td>8</td>\n",
       "      <td>6</td>\n",
       "      <td>0</td>\n",
       "      <td>199</td>\n",
       "    </tr>\n",
       "    <tr>\n",
       "      <th>...</th>\n",
       "      <td>...</td>\n",
       "      <td>...</td>\n",
       "      <td>...</td>\n",
       "      <td>...</td>\n",
       "      <td>...</td>\n",
       "      <td>...</td>\n",
       "      <td>...</td>\n",
       "      <td>...</td>\n",
       "      <td>...</td>\n",
       "      <td>...</td>\n",
       "      <td>...</td>\n",
       "      <td>...</td>\n",
       "    </tr>\n",
       "    <tr>\n",
       "      <th>6495</th>\n",
       "      <td>699</td>\n",
       "      <td>Оксана</td>\n",
       "      <td>22</td>\n",
       "      <td>Москва</td>\n",
       "      <td>ultra</td>\n",
       "      <td>3973.05</td>\n",
       "      <td>25</td>\n",
       "      <td>2021-08-29</td>\n",
       "      <td>8</td>\n",
       "      <td>6</td>\n",
       "      <td>0</td>\n",
       "      <td>199</td>\n",
       "    </tr>\n",
       "    <tr>\n",
       "      <th>6496</th>\n",
       "      <td>699</td>\n",
       "      <td>Оксана</td>\n",
       "      <td>22</td>\n",
       "      <td>Москва</td>\n",
       "      <td>ultra</td>\n",
       "      <td>3288.70</td>\n",
       "      <td>16</td>\n",
       "      <td>2021-09-12</td>\n",
       "      <td>9</td>\n",
       "      <td>6</td>\n",
       "      <td>0</td>\n",
       "      <td>199</td>\n",
       "    </tr>\n",
       "    <tr>\n",
       "      <th>6497</th>\n",
       "      <td>699</td>\n",
       "      <td>Оксана</td>\n",
       "      <td>22</td>\n",
       "      <td>Москва</td>\n",
       "      <td>ultra</td>\n",
       "      <td>3076.16</td>\n",
       "      <td>15</td>\n",
       "      <td>2021-09-26</td>\n",
       "      <td>9</td>\n",
       "      <td>6</td>\n",
       "      <td>0</td>\n",
       "      <td>199</td>\n",
       "    </tr>\n",
       "    <tr>\n",
       "      <th>6498</th>\n",
       "      <td>699</td>\n",
       "      <td>Оксана</td>\n",
       "      <td>22</td>\n",
       "      <td>Москва</td>\n",
       "      <td>ultra</td>\n",
       "      <td>4707.85</td>\n",
       "      <td>16</td>\n",
       "      <td>2021-10-17</td>\n",
       "      <td>10</td>\n",
       "      <td>6</td>\n",
       "      <td>0</td>\n",
       "      <td>199</td>\n",
       "    </tr>\n",
       "    <tr>\n",
       "      <th>6499</th>\n",
       "      <td>699</td>\n",
       "      <td>Оксана</td>\n",
       "      <td>22</td>\n",
       "      <td>Москва</td>\n",
       "      <td>ultra</td>\n",
       "      <td>3202.89</td>\n",
       "      <td>26</td>\n",
       "      <td>2021-12-03</td>\n",
       "      <td>12</td>\n",
       "      <td>6</td>\n",
       "      <td>0</td>\n",
       "      <td>199</td>\n",
       "    </tr>\n",
       "  </tbody>\n",
       "</table>\n",
       "<p>6500 rows × 12 columns</p>\n",
       "</div>"
      ],
      "text/plain": [
       "      user_id    name  age    city subscription_type  distance  duration  \\\n",
       "0           1    Кира   22  Тюмень             ultra   4409.92        26   \n",
       "1           1    Кира   22  Тюмень             ultra   2617.59        16   \n",
       "2           1    Кира   22  Тюмень             ultra    754.16         7   \n",
       "3           1    Кира   22  Тюмень             ultra   2694.78        19   \n",
       "4           1    Кира   22  Тюмень             ultra   4028.69        27   \n",
       "...       ...     ...  ...     ...               ...       ...       ...   \n",
       "6495      699  Оксана   22  Москва             ultra   3973.05        25   \n",
       "6496      699  Оксана   22  Москва             ultra   3288.70        16   \n",
       "6497      699  Оксана   22  Москва             ultra   3076.16        15   \n",
       "6498      699  Оксана   22  Москва             ultra   4707.85        16   \n",
       "6499      699  Оксана   22  Москва             ultra   3202.89        26   \n",
       "\n",
       "           date  month  minute_price  start_ride_price  subscription_fee  \n",
       "0    2021-01-01      1             6                 0               199  \n",
       "1    2021-01-18      1             6                 0               199  \n",
       "2    2021-04-20      4             6                 0               199  \n",
       "3    2021-08-11      8             6                 0               199  \n",
       "4    2021-08-28      8             6                 0               199  \n",
       "...         ...    ...           ...               ...               ...  \n",
       "6495 2021-08-29      8             6                 0               199  \n",
       "6496 2021-09-12      9             6                 0               199  \n",
       "6497 2021-09-26      9             6                 0               199  \n",
       "6498 2021-10-17     10             6                 0               199  \n",
       "6499 2021-12-03     12             6                 0               199  \n",
       "\n",
       "[6500 rows x 12 columns]"
      ]
     },
     "execution_count": 49,
     "metadata": {},
     "output_type": "execute_result"
    }
   ],
   "source": [
    "#Выведем этот дф:\n",
    "df_with_sub"
   ]
  },
  {
   "cell_type": "code",
   "execution_count": 50,
   "id": "d250dd03",
   "metadata": {},
   "outputs": [],
   "source": [
    "#Возьмем срез по данным без подписки и сохраним его в новый датафрейм:\n",
    "df_no_sub = data.query('subscription_type == \"free\"')"
   ]
  },
  {
   "cell_type": "code",
   "execution_count": 51,
   "id": "fa328654",
   "metadata": {},
   "outputs": [
    {
     "data": {
      "text/html": [
       "<div>\n",
       "<style scoped>\n",
       "    .dataframe tbody tr th:only-of-type {\n",
       "        vertical-align: middle;\n",
       "    }\n",
       "\n",
       "    .dataframe tbody tr th {\n",
       "        vertical-align: top;\n",
       "    }\n",
       "\n",
       "    .dataframe thead th {\n",
       "        text-align: right;\n",
       "    }\n",
       "</style>\n",
       "<table border=\"1\" class=\"dataframe\">\n",
       "  <thead>\n",
       "    <tr style=\"text-align: right;\">\n",
       "      <th></th>\n",
       "      <th>user_id</th>\n",
       "      <th>name</th>\n",
       "      <th>age</th>\n",
       "      <th>city</th>\n",
       "      <th>subscription_type</th>\n",
       "      <th>distance</th>\n",
       "      <th>duration</th>\n",
       "      <th>date</th>\n",
       "      <th>month</th>\n",
       "      <th>minute_price</th>\n",
       "      <th>start_ride_price</th>\n",
       "      <th>subscription_fee</th>\n",
       "    </tr>\n",
       "  </thead>\n",
       "  <tbody>\n",
       "    <tr>\n",
       "      <th>6500</th>\n",
       "      <td>700</td>\n",
       "      <td>Айдар</td>\n",
       "      <td>22</td>\n",
       "      <td>Омск</td>\n",
       "      <td>free</td>\n",
       "      <td>2515.69</td>\n",
       "      <td>15</td>\n",
       "      <td>2021-01-02</td>\n",
       "      <td>1</td>\n",
       "      <td>8</td>\n",
       "      <td>50</td>\n",
       "      <td>0</td>\n",
       "    </tr>\n",
       "    <tr>\n",
       "      <th>6501</th>\n",
       "      <td>700</td>\n",
       "      <td>Айдар</td>\n",
       "      <td>22</td>\n",
       "      <td>Омск</td>\n",
       "      <td>free</td>\n",
       "      <td>846.93</td>\n",
       "      <td>17</td>\n",
       "      <td>2021-02-01</td>\n",
       "      <td>2</td>\n",
       "      <td>8</td>\n",
       "      <td>50</td>\n",
       "      <td>0</td>\n",
       "    </tr>\n",
       "    <tr>\n",
       "      <th>6502</th>\n",
       "      <td>700</td>\n",
       "      <td>Айдар</td>\n",
       "      <td>22</td>\n",
       "      <td>Омск</td>\n",
       "      <td>free</td>\n",
       "      <td>4004.43</td>\n",
       "      <td>21</td>\n",
       "      <td>2021-02-04</td>\n",
       "      <td>2</td>\n",
       "      <td>8</td>\n",
       "      <td>50</td>\n",
       "      <td>0</td>\n",
       "    </tr>\n",
       "    <tr>\n",
       "      <th>6503</th>\n",
       "      <td>700</td>\n",
       "      <td>Айдар</td>\n",
       "      <td>22</td>\n",
       "      <td>Омск</td>\n",
       "      <td>free</td>\n",
       "      <td>1205.91</td>\n",
       "      <td>10</td>\n",
       "      <td>2021-02-10</td>\n",
       "      <td>2</td>\n",
       "      <td>8</td>\n",
       "      <td>50</td>\n",
       "      <td>0</td>\n",
       "    </tr>\n",
       "    <tr>\n",
       "      <th>6504</th>\n",
       "      <td>700</td>\n",
       "      <td>Айдар</td>\n",
       "      <td>22</td>\n",
       "      <td>Омск</td>\n",
       "      <td>free</td>\n",
       "      <td>3047.38</td>\n",
       "      <td>18</td>\n",
       "      <td>2021-02-14</td>\n",
       "      <td>2</td>\n",
       "      <td>8</td>\n",
       "      <td>50</td>\n",
       "      <td>0</td>\n",
       "    </tr>\n",
       "    <tr>\n",
       "      <th>...</th>\n",
       "      <td>...</td>\n",
       "      <td>...</td>\n",
       "      <td>...</td>\n",
       "      <td>...</td>\n",
       "      <td>...</td>\n",
       "      <td>...</td>\n",
       "      <td>...</td>\n",
       "      <td>...</td>\n",
       "      <td>...</td>\n",
       "      <td>...</td>\n",
       "      <td>...</td>\n",
       "      <td>...</td>\n",
       "    </tr>\n",
       "    <tr>\n",
       "      <th>18063</th>\n",
       "      <td>1534</td>\n",
       "      <td>Альберт</td>\n",
       "      <td>25</td>\n",
       "      <td>Краснодар</td>\n",
       "      <td>free</td>\n",
       "      <td>3781.10</td>\n",
       "      <td>20</td>\n",
       "      <td>2021-11-04</td>\n",
       "      <td>11</td>\n",
       "      <td>8</td>\n",
       "      <td>50</td>\n",
       "      <td>0</td>\n",
       "    </tr>\n",
       "    <tr>\n",
       "      <th>18064</th>\n",
       "      <td>1534</td>\n",
       "      <td>Альберт</td>\n",
       "      <td>25</td>\n",
       "      <td>Краснодар</td>\n",
       "      <td>free</td>\n",
       "      <td>2840.42</td>\n",
       "      <td>22</td>\n",
       "      <td>2021-11-16</td>\n",
       "      <td>11</td>\n",
       "      <td>8</td>\n",
       "      <td>50</td>\n",
       "      <td>0</td>\n",
       "    </tr>\n",
       "    <tr>\n",
       "      <th>18065</th>\n",
       "      <td>1534</td>\n",
       "      <td>Альберт</td>\n",
       "      <td>25</td>\n",
       "      <td>Краснодар</td>\n",
       "      <td>free</td>\n",
       "      <td>3826.19</td>\n",
       "      <td>19</td>\n",
       "      <td>2021-11-18</td>\n",
       "      <td>11</td>\n",
       "      <td>8</td>\n",
       "      <td>50</td>\n",
       "      <td>0</td>\n",
       "    </tr>\n",
       "    <tr>\n",
       "      <th>18066</th>\n",
       "      <td>1534</td>\n",
       "      <td>Альберт</td>\n",
       "      <td>25</td>\n",
       "      <td>Краснодар</td>\n",
       "      <td>free</td>\n",
       "      <td>2902.31</td>\n",
       "      <td>17</td>\n",
       "      <td>2021-11-27</td>\n",
       "      <td>11</td>\n",
       "      <td>8</td>\n",
       "      <td>50</td>\n",
       "      <td>0</td>\n",
       "    </tr>\n",
       "    <tr>\n",
       "      <th>18067</th>\n",
       "      <td>1534</td>\n",
       "      <td>Альберт</td>\n",
       "      <td>25</td>\n",
       "      <td>Краснодар</td>\n",
       "      <td>free</td>\n",
       "      <td>2371.71</td>\n",
       "      <td>16</td>\n",
       "      <td>2021-12-29</td>\n",
       "      <td>12</td>\n",
       "      <td>8</td>\n",
       "      <td>50</td>\n",
       "      <td>0</td>\n",
       "    </tr>\n",
       "  </tbody>\n",
       "</table>\n",
       "<p>11568 rows × 12 columns</p>\n",
       "</div>"
      ],
      "text/plain": [
       "       user_id     name  age       city subscription_type  distance  duration  \\\n",
       "6500       700    Айдар   22       Омск              free   2515.69        15   \n",
       "6501       700    Айдар   22       Омск              free    846.93        17   \n",
       "6502       700    Айдар   22       Омск              free   4004.43        21   \n",
       "6503       700    Айдар   22       Омск              free   1205.91        10   \n",
       "6504       700    Айдар   22       Омск              free   3047.38        18   \n",
       "...        ...      ...  ...        ...               ...       ...       ...   \n",
       "18063     1534  Альберт   25  Краснодар              free   3781.10        20   \n",
       "18064     1534  Альберт   25  Краснодар              free   2840.42        22   \n",
       "18065     1534  Альберт   25  Краснодар              free   3826.19        19   \n",
       "18066     1534  Альберт   25  Краснодар              free   2902.31        17   \n",
       "18067     1534  Альберт   25  Краснодар              free   2371.71        16   \n",
       "\n",
       "            date  month  minute_price  start_ride_price  subscription_fee  \n",
       "6500  2021-01-02      1             8                50                 0  \n",
       "6501  2021-02-01      2             8                50                 0  \n",
       "6502  2021-02-04      2             8                50                 0  \n",
       "6503  2021-02-10      2             8                50                 0  \n",
       "6504  2021-02-14      2             8                50                 0  \n",
       "...          ...    ...           ...               ...               ...  \n",
       "18063 2021-11-04     11             8                50                 0  \n",
       "18064 2021-11-16     11             8                50                 0  \n",
       "18065 2021-11-18     11             8                50                 0  \n",
       "18066 2021-11-27     11             8                50                 0  \n",
       "18067 2021-12-29     12             8                50                 0  \n",
       "\n",
       "[11568 rows x 12 columns]"
      ]
     },
     "execution_count": 51,
     "metadata": {},
     "output_type": "execute_result"
    }
   ],
   "source": [
    "#Выведем этот дф:\n",
    "df_no_sub"
   ]
  },
  {
   "cell_type": "code",
   "execution_count": 52,
   "id": "cdfe3638",
   "metadata": {
    "scrolled": true
   },
   "outputs": [
    {
     "name": "stdout",
     "output_type": "stream",
     "text": [
      "Количество строк разделенных датафреймов соответсвует количеству исходного!\n"
     ]
    }
   ],
   "source": [
    "try:\n",
    "    len(data) == len(df_with_sub) + len(df_no_sub)\n",
    "    print('Количество строк разделенных датафреймов соответсвует количеству исходного!')\n",
    "except:\n",
    "    print('Датафреймы поделились с ошибкой')"
   ]
  },
  {
   "cell_type": "markdown",
   "id": "5c03fd35",
   "metadata": {},
   "source": [
    "- Количество строк исходного датафрейма равно сумме количеств разделенных по подписке и без (проверка)"
   ]
  },
  {
   "cell_type": "markdown",
   "id": "b26b90d9",
   "metadata": {},
   "source": [
    "#### Визуализируем информацию о расстоянии и времени поездок для пользователей обеих категорий"
   ]
  },
  {
   "cell_type": "markdown",
   "id": "3fec7085",
   "metadata": {},
   "source": [
    "##### Расстояние и продолжительность поездок пользователей с подпиской:"
   ]
  },
  {
   "cell_type": "code",
   "execution_count": 53,
   "id": "18b361ca",
   "metadata": {
    "scrolled": false
   },
   "outputs": [
    {
     "data": {
      "image/png": "[encoded data removed]",
      "text/plain": [
       "<Figure size 864x432 with 1 Axes>"
      ]
     },
     "metadata": {
      "needs_background": "light"
     },
     "output_type": "display_data"
    }
   ],
   "source": [
    "df_with_sub['distance'].hist(figsize=(12,6), bins=150)\n",
    "plt.xlabel('Расстояние в [м]', size=14)\n",
    "plt.ylabel('Количество аренд', size=14)\n",
    "plt.title('Зависимость количетсва аренд от дистанции', size=14)\n",
    "plt.show()"
   ]
  },
  {
   "cell_type": "code",
   "execution_count": 54,
   "id": "06730dba",
   "metadata": {},
   "outputs": [
    {
     "data": {
      "text/plain": [
       "count    6500.000000\n",
       "mean     3115.445431\n",
       "std       836.895369\n",
       "min       244.210000\n",
       "25%      2785.447500\n",
       "50%      3148.640000\n",
       "75%      3560.577500\n",
       "max      5699.770000\n",
       "Name: distance, dtype: float64"
      ]
     },
     "execution_count": 54,
     "metadata": {},
     "output_type": "execute_result"
    }
   ],
   "source": [
    "df_with_sub['distance'].describe()"
   ]
  },
  {
   "cell_type": "markdown",
   "id": "8c633b74",
   "metadata": {},
   "source": [
    "**Остается пик в районе 700 м.**"
   ]
  },
  {
   "cell_type": "code",
   "execution_count": 55,
   "id": "8c7370f3",
   "metadata": {},
   "outputs": [
    {
     "data": {
      "image/png": "[encoded data removed]",
      "text/plain": [
       "<Figure size 864x432 with 1 Axes>"
      ]
     },
     "metadata": {
      "needs_background": "light"
     },
     "output_type": "display_data"
    }
   ],
   "source": [
    "df_with_sub['duration'].hist(figsize=(12,6), bins=41, range=(0,41))\n",
    "plt.xlabel('Время в [мин]', size=14)\n",
    "plt.ylabel('Количество аренд', size=14)\n",
    "plt.title('Зависимость количетсва аренд от времени', size=14)\n",
    "plt.show()"
   ]
  },
  {
   "cell_type": "code",
   "execution_count": 56,
   "id": "926908f2",
   "metadata": {},
   "outputs": [
    {
     "data": {
      "text/plain": [
       "4"
      ]
     },
     "execution_count": 56,
     "metadata": {},
     "output_type": "execute_result"
    }
   ],
   "source": [
    "#минимальное время аренды:\n",
    "df_with_sub['duration'].min()"
   ]
  },
  {
   "cell_type": "code",
   "execution_count": 57,
   "id": "b7457edf",
   "metadata": {},
   "outputs": [
    {
     "data": {
      "text/plain": [
       "count    6500.000000\n",
       "mean       19.037692\n",
       "std         5.577439\n",
       "min         4.000000\n",
       "25%        15.000000\n",
       "50%        19.000000\n",
       "75%        22.000000\n",
       "max        41.000000\n",
       "Name: duration, dtype: float64"
      ]
     },
     "execution_count": 57,
     "metadata": {},
     "output_type": "execute_result"
    }
   ],
   "source": [
    "df_with_sub['duration'].describe()"
   ]
  },
  {
   "cell_type": "code",
   "execution_count": 58,
   "id": "fc524466",
   "metadata": {},
   "outputs": [
    {
     "data": {
      "text/plain": [
       "19"
      ]
     },
     "execution_count": 58,
     "metadata": {},
     "output_type": "execute_result"
    }
   ],
   "source": [
    "df_with_sub['duration'].mode()[0]"
   ]
  },
  {
   "cell_type": "markdown",
   "id": "f63c01cb",
   "metadata": {},
   "source": [
    "**Значение моды не изменилось относительно общего**"
   ]
  },
  {
   "cell_type": "markdown",
   "id": "c4d18ff3",
   "metadata": {},
   "source": [
    "##### Расстояние и продолжительность поездок пользователей  без подписки:"
   ]
  },
  {
   "cell_type": "code",
   "execution_count": 59,
   "id": "52be8328",
   "metadata": {},
   "outputs": [
    {
     "data": {
      "image/png": "[encoded data removed]",
      "text/plain": [
       "<Figure size 864x432 with 1 Axes>"
      ]
     },
     "metadata": {
      "needs_background": "light"
     },
     "output_type": "display_data"
    }
   ],
   "source": [
    "df_no_sub['distance'].hist(figsize=(12,6), bins=150)\n",
    "plt.xlabel('Расстояние в [м]', size=14)\n",
    "plt.ylabel('Количество аренд', size=14)\n",
    "plt.title('Зависимость количетсва аренд от дистанции', size=14)\n",
    "plt.show()"
   ]
  },
  {
   "cell_type": "markdown",
   "id": "399844db",
   "metadata": {},
   "source": [
    "**Появилось смещение относительно центра**"
   ]
  },
  {
   "cell_type": "code",
   "execution_count": 60,
   "id": "b55e9d84",
   "metadata": {},
   "outputs": [
    {
     "data": {
      "text/plain": [
       "count    11568.000000\n",
       "mean      3045.495284\n",
       "std       1246.173810\n",
       "min          0.860000\n",
       "25%       2366.560000\n",
       "50%       3114.650000\n",
       "75%       3905.695000\n",
       "max       7211.010000\n",
       "Name: distance, dtype: float64"
      ]
     },
     "execution_count": 60,
     "metadata": {},
     "output_type": "execute_result"
    }
   ],
   "source": [
    "df_no_sub['distance'].describe()"
   ]
  },
  {
   "cell_type": "code",
   "execution_count": 61,
   "id": "49ce8dba",
   "metadata": {},
   "outputs": [
    {
     "data": {
      "image/png": "[encoded data removed]",
      "text/plain": [
       "<Figure size 864x432 with 1 Axes>"
      ]
     },
     "metadata": {
      "needs_background": "light"
     },
     "output_type": "display_data"
    }
   ],
   "source": [
    "df_no_sub['duration'].hist(figsize=(12,6), bins=41, range=(0,41))\n",
    "plt.xlabel('Время в [мин]', size=14)\n",
    "plt.ylabel('Количество аренд', size=14)\n",
    "plt.title('Зависимость количетсва аренд от времени', size=14)\n",
    "plt.show()"
   ]
  },
  {
   "cell_type": "code",
   "execution_count": 62,
   "id": "9939a781",
   "metadata": {},
   "outputs": [
    {
     "data": {
      "text/plain": [
       "count    11568.000000\n",
       "mean        17.890992\n",
       "std          6.330250\n",
       "min          1.000000\n",
       "25%         13.000000\n",
       "50%         18.000000\n",
       "75%         22.000000\n",
       "max         35.000000\n",
       "Name: duration, dtype: float64"
      ]
     },
     "execution_count": 62,
     "metadata": {},
     "output_type": "execute_result"
    }
   ],
   "source": [
    "df_no_sub['duration'].describe()"
   ]
  },
  {
   "cell_type": "code",
   "execution_count": 63,
   "id": "958945b3",
   "metadata": {},
   "outputs": [
    {
     "data": {
      "text/plain": [
       "18"
      ]
     },
     "execution_count": 63,
     "metadata": {},
     "output_type": "execute_result"
    }
   ],
   "source": [
    "df_no_sub['duration'].mode()[0]"
   ]
  },
  {
   "cell_type": "markdown",
   "id": "4d8f8299",
   "metadata": {},
   "source": [
    "**Изменилось медианной значение, стало 18. Мода равна медиане.**"
   ]
  },
  {
   "cell_type": "markdown",
   "id": "1f0fed74",
   "metadata": {},
   "source": [
    "##### Наложение графиков для лучшей иллюстрации"
   ]
  },
  {
   "cell_type": "code",
   "execution_count": 64,
   "id": "47585706",
   "metadata": {},
   "outputs": [
    {
     "data": {
      "image/png": "[encoded data removed]",
      "text/plain": [
       "<Figure size 864x432 with 1 Axes>"
      ]
     },
     "metadata": {
      "needs_background": "light"
     },
     "output_type": "display_data"
    }
   ],
   "source": [
    "plt.figure(figsize=(12,6))\n",
    "plt.hist([df_with_sub['distance'], df_no_sub['distance']], bins=100, alpha=1)\n",
    "plt.legend(['С подпиской', 'Без подписки'])\n",
    "plt.xlabel('Дистанция в [м]', size=14)\n",
    "plt.ylabel('Количество аренд', size=14)\n",
    "plt.title('Зависимость количетсва аренд от дистанции', size=18)\n",
    "plt.grid()\n",
    "plt.show()"
   ]
  },
  {
   "cell_type": "code",
   "execution_count": 65,
   "id": "2ffc5dbe",
   "metadata": {},
   "outputs": [
    {
     "data": {
      "image/png": "[encoded data removed]",
      "text/plain": [
       "<Figure size 864x432 with 1 Axes>"
      ]
     },
     "metadata": {
      "needs_background": "light"
     },
     "output_type": "display_data"
    }
   ],
   "source": [
    "plt.figure(figsize=(12,6))\n",
    "plt.hist([df_with_sub['duration'], df_no_sub['duration']], bins=41, alpha=0.8)\n",
    "plt.legend(['С подпиской', 'Без подписки'])\n",
    "plt.xlabel('Время в [мин]', size=14)\n",
    "plt.ylabel('Количество аренд', size=14)\n",
    "plt.title('Зависимость количетсва аренд от времени', size=18)\n",
    "plt.grid()\n",
    "plt.show()"
   ]
  },
  {
   "cell_type": "markdown",
   "id": "b5316801",
   "metadata": {},
   "source": [
    "**Теперь разница стала более наглядной.**\n",
    "> Графики расстояния:\n",
    "\n",
    "- Разброс значений без подписки больше, дисперсия выше. Следовательно стандартное отклонение у пользователей без подписки - больше. \n",
    "\n",
    "- Наибольшее количество аренд для пользователей без подписки сместилось влево - уменьшилось\n",
    "\n",
    "- Второй пик, который мы наблюдали в начале исследования также сместился влево. Причем количество аренд в данном пике больше у пользователей без подписки\n",
    "\n",
    "> Графики времени:\n",
    "\n",
    "- Из временных графиков виден перевес количества аренд людей с подпиской и без. Количество аренд у пользователей без подписки больше.\n",
    "\n",
    "- минимальное время аренды у пользователей с подпиской равно 4 минутам. Пользователи без подписки имеют значения ниже.\n",
    "\n",
    "- Имеется смещение моды и медианы. Для пользователей с подпиской: мода -19, медиана - 19. Для пользователей без подписки: мода - 18, медиана - 18."
   ]
  },
  {
   "cell_type": "markdown",
   "id": "3b2ffd25",
   "metadata": {},
   "source": [
    "<a id='section_5'></a>"
   ]
  },
  {
   "cell_type": "markdown",
   "id": "402d620f",
   "metadata": {},
   "source": [
    "### Шаг 5. Подсчёт выручки"
   ]
  },
  {
   "cell_type": "code",
   "execution_count": 82,
   "id": "bbc41389",
   "metadata": {},
   "outputs": [
    {
     "data": {
      "text/html": [
       "<div>\n",
       "<style scoped>\n",
       "    .dataframe tbody tr th:only-of-type {\n",
       "        vertical-align: middle;\n",
       "    }\n",
       "\n",
       "    .dataframe tbody tr th {\n",
       "        vertical-align: top;\n",
       "    }\n",
       "\n",
       "    .dataframe thead th {\n",
       "        text-align: right;\n",
       "    }\n",
       "</style>\n",
       "<table border=\"1\" class=\"dataframe\">\n",
       "  <thead>\n",
       "    <tr style=\"text-align: right;\">\n",
       "      <th></th>\n",
       "      <th>user_id</th>\n",
       "      <th>name</th>\n",
       "      <th>age</th>\n",
       "      <th>city</th>\n",
       "      <th>subscription_type</th>\n",
       "      <th>distance</th>\n",
       "      <th>duration</th>\n",
       "      <th>date</th>\n",
       "      <th>month</th>\n",
       "      <th>minute_price</th>\n",
       "      <th>start_ride_price</th>\n",
       "      <th>subscription_fee</th>\n",
       "    </tr>\n",
       "  </thead>\n",
       "  <tbody>\n",
       "    <tr>\n",
       "      <th>0</th>\n",
       "      <td>1</td>\n",
       "      <td>Кира</td>\n",
       "      <td>22</td>\n",
       "      <td>Тюмень</td>\n",
       "      <td>ultra</td>\n",
       "      <td>4409.92</td>\n",
       "      <td>26</td>\n",
       "      <td>2021-01-01</td>\n",
       "      <td>1</td>\n",
       "      <td>6</td>\n",
       "      <td>0</td>\n",
       "      <td>199</td>\n",
       "    </tr>\n",
       "    <tr>\n",
       "      <th>1</th>\n",
       "      <td>1</td>\n",
       "      <td>Кира</td>\n",
       "      <td>22</td>\n",
       "      <td>Тюмень</td>\n",
       "      <td>ultra</td>\n",
       "      <td>2617.59</td>\n",
       "      <td>16</td>\n",
       "      <td>2021-01-18</td>\n",
       "      <td>1</td>\n",
       "      <td>6</td>\n",
       "      <td>0</td>\n",
       "      <td>199</td>\n",
       "    </tr>\n",
       "    <tr>\n",
       "      <th>2</th>\n",
       "      <td>1</td>\n",
       "      <td>Кира</td>\n",
       "      <td>22</td>\n",
       "      <td>Тюмень</td>\n",
       "      <td>ultra</td>\n",
       "      <td>754.16</td>\n",
       "      <td>7</td>\n",
       "      <td>2021-04-20</td>\n",
       "      <td>4</td>\n",
       "      <td>6</td>\n",
       "      <td>0</td>\n",
       "      <td>199</td>\n",
       "    </tr>\n",
       "    <tr>\n",
       "      <th>3</th>\n",
       "      <td>1</td>\n",
       "      <td>Кира</td>\n",
       "      <td>22</td>\n",
       "      <td>Тюмень</td>\n",
       "      <td>ultra</td>\n",
       "      <td>2694.78</td>\n",
       "      <td>19</td>\n",
       "      <td>2021-08-11</td>\n",
       "      <td>8</td>\n",
       "      <td>6</td>\n",
       "      <td>0</td>\n",
       "      <td>199</td>\n",
       "    </tr>\n",
       "    <tr>\n",
       "      <th>4</th>\n",
       "      <td>1</td>\n",
       "      <td>Кира</td>\n",
       "      <td>22</td>\n",
       "      <td>Тюмень</td>\n",
       "      <td>ultra</td>\n",
       "      <td>4028.69</td>\n",
       "      <td>27</td>\n",
       "      <td>2021-08-28</td>\n",
       "      <td>8</td>\n",
       "      <td>6</td>\n",
       "      <td>0</td>\n",
       "      <td>199</td>\n",
       "    </tr>\n",
       "    <tr>\n",
       "      <th>...</th>\n",
       "      <td>...</td>\n",
       "      <td>...</td>\n",
       "      <td>...</td>\n",
       "      <td>...</td>\n",
       "      <td>...</td>\n",
       "      <td>...</td>\n",
       "      <td>...</td>\n",
       "      <td>...</td>\n",
       "      <td>...</td>\n",
       "      <td>...</td>\n",
       "      <td>...</td>\n",
       "      <td>...</td>\n",
       "    </tr>\n",
       "    <tr>\n",
       "      <th>18063</th>\n",
       "      <td>1534</td>\n",
       "      <td>Альберт</td>\n",
       "      <td>25</td>\n",
       "      <td>Краснодар</td>\n",
       "      <td>free</td>\n",
       "      <td>3781.10</td>\n",
       "      <td>20</td>\n",
       "      <td>2021-11-04</td>\n",
       "      <td>11</td>\n",
       "      <td>8</td>\n",
       "      <td>50</td>\n",
       "      <td>0</td>\n",
       "    </tr>\n",
       "    <tr>\n",
       "      <th>18064</th>\n",
       "      <td>1534</td>\n",
       "      <td>Альберт</td>\n",
       "      <td>25</td>\n",
       "      <td>Краснодар</td>\n",
       "      <td>free</td>\n",
       "      <td>2840.42</td>\n",
       "      <td>22</td>\n",
       "      <td>2021-11-16</td>\n",
       "      <td>11</td>\n",
       "      <td>8</td>\n",
       "      <td>50</td>\n",
       "      <td>0</td>\n",
       "    </tr>\n",
       "    <tr>\n",
       "      <th>18065</th>\n",
       "      <td>1534</td>\n",
       "      <td>Альберт</td>\n",
       "      <td>25</td>\n",
       "      <td>Краснодар</td>\n",
       "      <td>free</td>\n",
       "      <td>3826.19</td>\n",
       "      <td>19</td>\n",
       "      <td>2021-11-18</td>\n",
       "      <td>11</td>\n",
       "      <td>8</td>\n",
       "      <td>50</td>\n",
       "      <td>0</td>\n",
       "    </tr>\n",
       "    <tr>\n",
       "      <th>18066</th>\n",
       "      <td>1534</td>\n",
       "      <td>Альберт</td>\n",
       "      <td>25</td>\n",
       "      <td>Краснодар</td>\n",
       "      <td>free</td>\n",
       "      <td>2902.31</td>\n",
       "      <td>17</td>\n",
       "      <td>2021-11-27</td>\n",
       "      <td>11</td>\n",
       "      <td>8</td>\n",
       "      <td>50</td>\n",
       "      <td>0</td>\n",
       "    </tr>\n",
       "    <tr>\n",
       "      <th>18067</th>\n",
       "      <td>1534</td>\n",
       "      <td>Альберт</td>\n",
       "      <td>25</td>\n",
       "      <td>Краснодар</td>\n",
       "      <td>free</td>\n",
       "      <td>2371.71</td>\n",
       "      <td>16</td>\n",
       "      <td>2021-12-29</td>\n",
       "      <td>12</td>\n",
       "      <td>8</td>\n",
       "      <td>50</td>\n",
       "      <td>0</td>\n",
       "    </tr>\n",
       "  </tbody>\n",
       "</table>\n",
       "<p>18068 rows × 12 columns</p>\n",
       "</div>"
      ],
      "text/plain": [
       "       user_id     name  age       city subscription_type  distance  duration  \\\n",
       "0            1     Кира   22     Тюмень             ultra   4409.92        26   \n",
       "1            1     Кира   22     Тюмень             ultra   2617.59        16   \n",
       "2            1     Кира   22     Тюмень             ultra    754.16         7   \n",
       "3            1     Кира   22     Тюмень             ultra   2694.78        19   \n",
       "4            1     Кира   22     Тюмень             ultra   4028.69        27   \n",
       "...        ...      ...  ...        ...               ...       ...       ...   \n",
       "18063     1534  Альберт   25  Краснодар              free   3781.10        20   \n",
       "18064     1534  Альберт   25  Краснодар              free   2840.42        22   \n",
       "18065     1534  Альберт   25  Краснодар              free   3826.19        19   \n",
       "18066     1534  Альберт   25  Краснодар              free   2902.31        17   \n",
       "18067     1534  Альберт   25  Краснодар              free   2371.71        16   \n",
       "\n",
       "            date  month  minute_price  start_ride_price  subscription_fee  \n",
       "0     2021-01-01      1             6                 0               199  \n",
       "1     2021-01-18      1             6                 0               199  \n",
       "2     2021-04-20      4             6                 0               199  \n",
       "3     2021-08-11      8             6                 0               199  \n",
       "4     2021-08-28      8             6                 0               199  \n",
       "...          ...    ...           ...               ...               ...  \n",
       "18063 2021-11-04     11             8                50                 0  \n",
       "18064 2021-11-16     11             8                50                 0  \n",
       "18065 2021-11-18     11             8                50                 0  \n",
       "18066 2021-11-27     11             8                50                 0  \n",
       "18067 2021-12-29     12             8                50                 0  \n",
       "\n",
       "[18068 rows x 12 columns]"
      ]
     },
     "execution_count": 82,
     "metadata": {},
     "output_type": "execute_result"
    }
   ],
   "source": [
    "data"
   ]
  },
  {
   "cell_type": "code",
   "execution_count": null,
   "id": "5149592e",
   "metadata": {},
   "outputs": [],
   "source": []
  },
  {
   "cell_type": "code",
   "execution_count": 86,
   "id": "4d2a7547",
   "metadata": {},
   "outputs": [
    {
     "data": {
      "text/html": [
       "<div>\n",
       "<style scoped>\n",
       "    .dataframe tbody tr th:only-of-type {\n",
       "        vertical-align: middle;\n",
       "    }\n",
       "\n",
       "    .dataframe tbody tr th {\n",
       "        vertical-align: top;\n",
       "    }\n",
       "\n",
       "    .dataframe thead tr th {\n",
       "        text-align: left;\n",
       "    }\n",
       "\n",
       "    .dataframe thead tr:last-of-type th {\n",
       "        text-align: right;\n",
       "    }\n",
       "</style>\n",
       "<table border=\"1\" class=\"dataframe\">\n",
       "  <thead>\n",
       "    <tr>\n",
       "      <th></th>\n",
       "      <th></th>\n",
       "      <th colspan=\"2\" halign=\"left\">distance</th>\n",
       "      <th>duration</th>\n",
       "      <th>minute_price</th>\n",
       "      <th>start_ride_price</th>\n",
       "      <th>subscription_fee</th>\n",
       "    </tr>\n",
       "    <tr>\n",
       "      <th></th>\n",
       "      <th></th>\n",
       "      <th>sum</th>\n",
       "      <th>count</th>\n",
       "      <th>sum</th>\n",
       "      <th>mean</th>\n",
       "      <th>mean</th>\n",
       "      <th>mean</th>\n",
       "    </tr>\n",
       "    <tr>\n",
       "      <th>user_id</th>\n",
       "      <th>month</th>\n",
       "      <th></th>\n",
       "      <th></th>\n",
       "      <th></th>\n",
       "      <th></th>\n",
       "      <th></th>\n",
       "      <th></th>\n",
       "    </tr>\n",
       "  </thead>\n",
       "  <tbody>\n",
       "    <tr>\n",
       "      <th rowspan=\"5\" valign=\"top\">1</th>\n",
       "      <th>1</th>\n",
       "      <td>7027.51</td>\n",
       "      <td>2</td>\n",
       "      <td>42</td>\n",
       "      <td>6</td>\n",
       "      <td>0</td>\n",
       "      <td>199</td>\n",
       "    </tr>\n",
       "    <tr>\n",
       "      <th>4</th>\n",
       "      <td>754.16</td>\n",
       "      <td>1</td>\n",
       "      <td>7</td>\n",
       "      <td>6</td>\n",
       "      <td>0</td>\n",
       "      <td>199</td>\n",
       "    </tr>\n",
       "    <tr>\n",
       "      <th>8</th>\n",
       "      <td>6723.47</td>\n",
       "      <td>2</td>\n",
       "      <td>46</td>\n",
       "      <td>6</td>\n",
       "      <td>0</td>\n",
       "      <td>199</td>\n",
       "    </tr>\n",
       "    <tr>\n",
       "      <th>10</th>\n",
       "      <td>5809.91</td>\n",
       "      <td>2</td>\n",
       "      <td>32</td>\n",
       "      <td>6</td>\n",
       "      <td>0</td>\n",
       "      <td>199</td>\n",
       "    </tr>\n",
       "    <tr>\n",
       "      <th>11</th>\n",
       "      <td>7003.50</td>\n",
       "      <td>3</td>\n",
       "      <td>56</td>\n",
       "      <td>6</td>\n",
       "      <td>0</td>\n",
       "      <td>199</td>\n",
       "    </tr>\n",
       "    <tr>\n",
       "      <th>...</th>\n",
       "      <th>...</th>\n",
       "      <td>...</td>\n",
       "      <td>...</td>\n",
       "      <td>...</td>\n",
       "      <td>...</td>\n",
       "      <td>...</td>\n",
       "      <td>...</td>\n",
       "    </tr>\n",
       "    <tr>\n",
       "      <th rowspan=\"5\" valign=\"top\">1534</th>\n",
       "      <th>6</th>\n",
       "      <td>3409.47</td>\n",
       "      <td>2</td>\n",
       "      <td>26</td>\n",
       "      <td>8</td>\n",
       "      <td>50</td>\n",
       "      <td>0</td>\n",
       "    </tr>\n",
       "    <tr>\n",
       "      <th>8</th>\n",
       "      <td>7622.45</td>\n",
       "      <td>2</td>\n",
       "      <td>48</td>\n",
       "      <td>8</td>\n",
       "      <td>50</td>\n",
       "      <td>0</td>\n",
       "    </tr>\n",
       "    <tr>\n",
       "      <th>9</th>\n",
       "      <td>4928.17</td>\n",
       "      <td>1</td>\n",
       "      <td>23</td>\n",
       "      <td>8</td>\n",
       "      <td>50</td>\n",
       "      <td>0</td>\n",
       "    </tr>\n",
       "    <tr>\n",
       "      <th>11</th>\n",
       "      <td>13350.02</td>\n",
       "      <td>4</td>\n",
       "      <td>78</td>\n",
       "      <td>8</td>\n",
       "      <td>50</td>\n",
       "      <td>0</td>\n",
       "    </tr>\n",
       "    <tr>\n",
       "      <th>12</th>\n",
       "      <td>2371.71</td>\n",
       "      <td>1</td>\n",
       "      <td>16</td>\n",
       "      <td>8</td>\n",
       "      <td>50</td>\n",
       "      <td>0</td>\n",
       "    </tr>\n",
       "  </tbody>\n",
       "</table>\n",
       "<p>11331 rows × 6 columns</p>\n",
       "</div>"
      ],
      "text/plain": [
       "               distance       duration minute_price start_ride_price  \\\n",
       "                    sum count      sum         mean             mean   \n",
       "user_id month                                                          \n",
       "1       1       7027.51     2       42            6                0   \n",
       "        4        754.16     1        7            6                0   \n",
       "        8       6723.47     2       46            6                0   \n",
       "        10      5809.91     2       32            6                0   \n",
       "        11      7003.50     3       56            6                0   \n",
       "...                 ...   ...      ...          ...              ...   \n",
       "1534    6       3409.47     2       26            8               50   \n",
       "        8       7622.45     2       48            8               50   \n",
       "        9       4928.17     1       23            8               50   \n",
       "        11     13350.02     4       78            8               50   \n",
       "        12      2371.71     1       16            8               50   \n",
       "\n",
       "              subscription_fee  \n",
       "                          mean  \n",
       "user_id month                   \n",
       "1       1                  199  \n",
       "        4                  199  \n",
       "        8                  199  \n",
       "        10                 199  \n",
       "        11                 199  \n",
       "...                        ...  \n",
       "1534    6                    0  \n",
       "        8                    0  \n",
       "        9                    0  \n",
       "        11                   0  \n",
       "        12                   0  \n",
       "\n",
       "[11331 rows x 6 columns]"
      ]
     },
     "execution_count": 86,
     "metadata": {},
     "output_type": "execute_result"
    }
   ],
   "source": [
    "(\n",
    "data\n",
    "    .groupby(['user_id','month'])[['distance', 'duration', 'minute_price', 'start_ride_price', 'subscription_fee']]\n",
    "    .agg({'distance':['sum','count'], \n",
    "          'duration':'sum', \n",
    "          'minute_price':'mean', \n",
    "          'start_ride_price':'mean', \n",
    "          'subscription_fee':'mean' })\n",
    "    )"
   ]
  },
  {
   "cell_type": "markdown",
   "id": "4bb25045",
   "metadata": {},
   "source": [
    "#### Создадим датафрейм с агрегированными данными о поездках за месяц"
   ]
  },
  {
   "cell_type": "code",
   "execution_count": 66,
   "id": "27a21b6b",
   "metadata": {},
   "outputs": [],
   "source": [
    "# Cоздадим сводную таблицу по идентификаторам пользователей в соответсвии месяцам:\n",
    "data_of_month = data.pivot_table(\n",
    "        index=('user_id', 'month'), \n",
    "        values=('distance', 'duration', 'minute_price', 'start_ride_price', 'subscription_fee'), \n",
    "        #К каждому столбцу из values применим определенные математические операции:\n",
    "        aggfunc=({'distance':{'sum','count'},\n",
    "                  'duration':'sum', \n",
    "                  'minute_price':'mean', \n",
    "                  'start_ride_price':'mean', \n",
    "                  'subscription_fee':'mean'}))"
   ]
  },
  {
   "cell_type": "code",
   "execution_count": 67,
   "id": "98689afb",
   "metadata": {},
   "outputs": [],
   "source": [
    "#Переменуем столбцы (Избавимся от двухэтажности):\n",
    "data_of_month.columns = ['count','sum_distance','sum_duration_month', 'minute_price', 'start_ride_price', 'subscription_fee']\n"
   ]
  },
  {
   "cell_type": "code",
   "execution_count": 68,
   "id": "7d355c9f",
   "metadata": {
    "scrolled": false
   },
   "outputs": [
    {
     "data": {
      "text/html": [
       "<div>\n",
       "<style scoped>\n",
       "    .dataframe tbody tr th:only-of-type {\n",
       "        vertical-align: middle;\n",
       "    }\n",
       "\n",
       "    .dataframe tbody tr th {\n",
       "        vertical-align: top;\n",
       "    }\n",
       "\n",
       "    .dataframe thead th {\n",
       "        text-align: right;\n",
       "    }\n",
       "</style>\n",
       "<table border=\"1\" class=\"dataframe\">\n",
       "  <thead>\n",
       "    <tr style=\"text-align: right;\">\n",
       "      <th></th>\n",
       "      <th></th>\n",
       "      <th>count</th>\n",
       "      <th>sum_distance</th>\n",
       "      <th>sum_duration_month</th>\n",
       "      <th>minute_price</th>\n",
       "      <th>start_ride_price</th>\n",
       "      <th>subscription_fee</th>\n",
       "    </tr>\n",
       "    <tr>\n",
       "      <th>user_id</th>\n",
       "      <th>month</th>\n",
       "      <th></th>\n",
       "      <th></th>\n",
       "      <th></th>\n",
       "      <th></th>\n",
       "      <th></th>\n",
       "      <th></th>\n",
       "    </tr>\n",
       "  </thead>\n",
       "  <tbody>\n",
       "    <tr>\n",
       "      <th rowspan=\"6\" valign=\"top\">1</th>\n",
       "      <th>1</th>\n",
       "      <td>2</td>\n",
       "      <td>7027.51</td>\n",
       "      <td>42</td>\n",
       "      <td>6</td>\n",
       "      <td>0</td>\n",
       "      <td>199</td>\n",
       "    </tr>\n",
       "    <tr>\n",
       "      <th>4</th>\n",
       "      <td>1</td>\n",
       "      <td>754.16</td>\n",
       "      <td>7</td>\n",
       "      <td>6</td>\n",
       "      <td>0</td>\n",
       "      <td>199</td>\n",
       "    </tr>\n",
       "    <tr>\n",
       "      <th>8</th>\n",
       "      <td>2</td>\n",
       "      <td>6723.47</td>\n",
       "      <td>46</td>\n",
       "      <td>6</td>\n",
       "      <td>0</td>\n",
       "      <td>199</td>\n",
       "    </tr>\n",
       "    <tr>\n",
       "      <th>10</th>\n",
       "      <td>2</td>\n",
       "      <td>5809.91</td>\n",
       "      <td>32</td>\n",
       "      <td>6</td>\n",
       "      <td>0</td>\n",
       "      <td>199</td>\n",
       "    </tr>\n",
       "    <tr>\n",
       "      <th>11</th>\n",
       "      <td>3</td>\n",
       "      <td>7003.50</td>\n",
       "      <td>56</td>\n",
       "      <td>6</td>\n",
       "      <td>0</td>\n",
       "      <td>199</td>\n",
       "    </tr>\n",
       "    <tr>\n",
       "      <th>12</th>\n",
       "      <td>2</td>\n",
       "      <td>6751.63</td>\n",
       "      <td>28</td>\n",
       "      <td>6</td>\n",
       "      <td>0</td>\n",
       "      <td>199</td>\n",
       "    </tr>\n",
       "    <tr>\n",
       "      <th rowspan=\"7\" valign=\"top\">2</th>\n",
       "      <th>3</th>\n",
       "      <td>3</td>\n",
       "      <td>10187.73</td>\n",
       "      <td>63</td>\n",
       "      <td>6</td>\n",
       "      <td>0</td>\n",
       "      <td>199</td>\n",
       "    </tr>\n",
       "    <tr>\n",
       "      <th>4</th>\n",
       "      <td>2</td>\n",
       "      <td>6164.39</td>\n",
       "      <td>40</td>\n",
       "      <td>6</td>\n",
       "      <td>0</td>\n",
       "      <td>199</td>\n",
       "    </tr>\n",
       "    <tr>\n",
       "      <th>6</th>\n",
       "      <td>1</td>\n",
       "      <td>3255.34</td>\n",
       "      <td>14</td>\n",
       "      <td>6</td>\n",
       "      <td>0</td>\n",
       "      <td>199</td>\n",
       "    </tr>\n",
       "    <tr>\n",
       "      <th>7</th>\n",
       "      <td>2</td>\n",
       "      <td>6780.73</td>\n",
       "      <td>48</td>\n",
       "      <td>6</td>\n",
       "      <td>0</td>\n",
       "      <td>199</td>\n",
       "    </tr>\n",
       "    <tr>\n",
       "      <th>8</th>\n",
       "      <td>1</td>\n",
       "      <td>923.01</td>\n",
       "      <td>7</td>\n",
       "      <td>6</td>\n",
       "      <td>0</td>\n",
       "      <td>199</td>\n",
       "    </tr>\n",
       "    <tr>\n",
       "      <th>10</th>\n",
       "      <td>1</td>\n",
       "      <td>2824.64</td>\n",
       "      <td>19</td>\n",
       "      <td>6</td>\n",
       "      <td>0</td>\n",
       "      <td>199</td>\n",
       "    </tr>\n",
       "    <tr>\n",
       "      <th>12</th>\n",
       "      <td>1</td>\n",
       "      <td>3828.25</td>\n",
       "      <td>12</td>\n",
       "      <td>6</td>\n",
       "      <td>0</td>\n",
       "      <td>199</td>\n",
       "    </tr>\n",
       "    <tr>\n",
       "      <th rowspan=\"7\" valign=\"top\">3</th>\n",
       "      <th>1</th>\n",
       "      <td>1</td>\n",
       "      <td>3061.78</td>\n",
       "      <td>13</td>\n",
       "      <td>6</td>\n",
       "      <td>0</td>\n",
       "      <td>199</td>\n",
       "    </tr>\n",
       "    <tr>\n",
       "      <th>2</th>\n",
       "      <td>2</td>\n",
       "      <td>5421.16</td>\n",
       "      <td>39</td>\n",
       "      <td>6</td>\n",
       "      <td>0</td>\n",
       "      <td>199</td>\n",
       "    </tr>\n",
       "    <tr>\n",
       "      <th>4</th>\n",
       "      <td>1</td>\n",
       "      <td>2956.65</td>\n",
       "      <td>21</td>\n",
       "      <td>6</td>\n",
       "      <td>0</td>\n",
       "      <td>199</td>\n",
       "    </tr>\n",
       "    <tr>\n",
       "      <th>5</th>\n",
       "      <td>3</td>\n",
       "      <td>9064.03</td>\n",
       "      <td>63</td>\n",
       "      <td>6</td>\n",
       "      <td>0</td>\n",
       "      <td>199</td>\n",
       "    </tr>\n",
       "    <tr>\n",
       "      <th>7</th>\n",
       "      <td>3</td>\n",
       "      <td>10919.59</td>\n",
       "      <td>67</td>\n",
       "      <td>6</td>\n",
       "      <td>0</td>\n",
       "      <td>199</td>\n",
       "    </tr>\n",
       "    <tr>\n",
       "      <th>9</th>\n",
       "      <td>1</td>\n",
       "      <td>2891.01</td>\n",
       "      <td>23</td>\n",
       "      <td>6</td>\n",
       "      <td>0</td>\n",
       "      <td>199</td>\n",
       "    </tr>\n",
       "    <tr>\n",
       "      <th>12</th>\n",
       "      <td>1</td>\n",
       "      <td>2593.38</td>\n",
       "      <td>13</td>\n",
       "      <td>6</td>\n",
       "      <td>0</td>\n",
       "      <td>199</td>\n",
       "    </tr>\n",
       "  </tbody>\n",
       "</table>\n",
       "</div>"
      ],
      "text/plain": [
       "               count  sum_distance  sum_duration_month  minute_price  \\\n",
       "user_id month                                                          \n",
       "1       1          2       7027.51                  42             6   \n",
       "        4          1        754.16                   7             6   \n",
       "        8          2       6723.47                  46             6   \n",
       "        10         2       5809.91                  32             6   \n",
       "        11         3       7003.50                  56             6   \n",
       "        12         2       6751.63                  28             6   \n",
       "2       3          3      10187.73                  63             6   \n",
       "        4          2       6164.39                  40             6   \n",
       "        6          1       3255.34                  14             6   \n",
       "        7          2       6780.73                  48             6   \n",
       "        8          1        923.01                   7             6   \n",
       "        10         1       2824.64                  19             6   \n",
       "        12         1       3828.25                  12             6   \n",
       "3       1          1       3061.78                  13             6   \n",
       "        2          2       5421.16                  39             6   \n",
       "        4          1       2956.65                  21             6   \n",
       "        5          3       9064.03                  63             6   \n",
       "        7          3      10919.59                  67             6   \n",
       "        9          1       2891.01                  23             6   \n",
       "        12         1       2593.38                  13             6   \n",
       "\n",
       "               start_ride_price  subscription_fee  \n",
       "user_id month                                      \n",
       "1       1                     0               199  \n",
       "        4                     0               199  \n",
       "        8                     0               199  \n",
       "        10                    0               199  \n",
       "        11                    0               199  \n",
       "        12                    0               199  \n",
       "2       3                     0               199  \n",
       "        4                     0               199  \n",
       "        6                     0               199  \n",
       "        7                     0               199  \n",
       "        8                     0               199  \n",
       "        10                    0               199  \n",
       "        12                    0               199  \n",
       "3       1                     0               199  \n",
       "        2                     0               199  \n",
       "        4                     0               199  \n",
       "        5                     0               199  \n",
       "        7                     0               199  \n",
       "        9                     0               199  \n",
       "        12                    0               199  "
      ]
     },
     "execution_count": 68,
     "metadata": {},
     "output_type": "execute_result"
    }
   ],
   "source": [
    "#Выведем первые 20 строк полученного датафрейма:\n",
    "data_of_month.head(20)"
   ]
  },
  {
   "cell_type": "markdown",
   "id": "d0fcb0a1",
   "metadata": {},
   "source": [
    "#### Добавим в датафрейм столбец с выручкой от каждого пользователя по месяцам"
   ]
  },
  {
   "cell_type": "code",
   "execution_count": 69,
   "id": "75f89a3e",
   "metadata": {},
   "outputs": [],
   "source": [
    "#Цена начала поездки * количество поездок + цена за минуту * общая продолжительность поездок за месяц \n",
    "# + стоимость подписки, если она есть:\n",
    "data_of_month['income_month'] =(data_of_month['start_ride_price'] * data_of_month['count'] \n",
    "                            + data_of_month['minute_price'] * data_of_month['sum_duration_month']\n",
    "                            + data_of_month['subscription_fee'])"
   ]
  },
  {
   "cell_type": "code",
   "execution_count": 70,
   "id": "8d26c243",
   "metadata": {},
   "outputs": [
    {
     "data": {
      "text/html": [
       "<div>\n",
       "<style scoped>\n",
       "    .dataframe tbody tr th:only-of-type {\n",
       "        vertical-align: middle;\n",
       "    }\n",
       "\n",
       "    .dataframe tbody tr th {\n",
       "        vertical-align: top;\n",
       "    }\n",
       "\n",
       "    .dataframe thead th {\n",
       "        text-align: right;\n",
       "    }\n",
       "</style>\n",
       "<table border=\"1\" class=\"dataframe\">\n",
       "  <thead>\n",
       "    <tr style=\"text-align: right;\">\n",
       "      <th></th>\n",
       "      <th></th>\n",
       "      <th>count</th>\n",
       "      <th>sum_distance</th>\n",
       "      <th>sum_duration_month</th>\n",
       "      <th>minute_price</th>\n",
       "      <th>start_ride_price</th>\n",
       "      <th>subscription_fee</th>\n",
       "      <th>income_month</th>\n",
       "    </tr>\n",
       "    <tr>\n",
       "      <th>user_id</th>\n",
       "      <th>month</th>\n",
       "      <th></th>\n",
       "      <th></th>\n",
       "      <th></th>\n",
       "      <th></th>\n",
       "      <th></th>\n",
       "      <th></th>\n",
       "      <th></th>\n",
       "    </tr>\n",
       "  </thead>\n",
       "  <tbody>\n",
       "    <tr>\n",
       "      <th rowspan=\"6\" valign=\"top\">1</th>\n",
       "      <th>1</th>\n",
       "      <td>2</td>\n",
       "      <td>7027.51</td>\n",
       "      <td>42</td>\n",
       "      <td>6</td>\n",
       "      <td>0</td>\n",
       "      <td>199</td>\n",
       "      <td>451</td>\n",
       "    </tr>\n",
       "    <tr>\n",
       "      <th>4</th>\n",
       "      <td>1</td>\n",
       "      <td>754.16</td>\n",
       "      <td>7</td>\n",
       "      <td>6</td>\n",
       "      <td>0</td>\n",
       "      <td>199</td>\n",
       "      <td>241</td>\n",
       "    </tr>\n",
       "    <tr>\n",
       "      <th>8</th>\n",
       "      <td>2</td>\n",
       "      <td>6723.47</td>\n",
       "      <td>46</td>\n",
       "      <td>6</td>\n",
       "      <td>0</td>\n",
       "      <td>199</td>\n",
       "      <td>475</td>\n",
       "    </tr>\n",
       "    <tr>\n",
       "      <th>10</th>\n",
       "      <td>2</td>\n",
       "      <td>5809.91</td>\n",
       "      <td>32</td>\n",
       "      <td>6</td>\n",
       "      <td>0</td>\n",
       "      <td>199</td>\n",
       "      <td>391</td>\n",
       "    </tr>\n",
       "    <tr>\n",
       "      <th>11</th>\n",
       "      <td>3</td>\n",
       "      <td>7003.50</td>\n",
       "      <td>56</td>\n",
       "      <td>6</td>\n",
       "      <td>0</td>\n",
       "      <td>199</td>\n",
       "      <td>535</td>\n",
       "    </tr>\n",
       "    <tr>\n",
       "      <th>12</th>\n",
       "      <td>2</td>\n",
       "      <td>6751.63</td>\n",
       "      <td>28</td>\n",
       "      <td>6</td>\n",
       "      <td>0</td>\n",
       "      <td>199</td>\n",
       "      <td>367</td>\n",
       "    </tr>\n",
       "    <tr>\n",
       "      <th rowspan=\"4\" valign=\"top\">2</th>\n",
       "      <th>3</th>\n",
       "      <td>3</td>\n",
       "      <td>10187.73</td>\n",
       "      <td>63</td>\n",
       "      <td>6</td>\n",
       "      <td>0</td>\n",
       "      <td>199</td>\n",
       "      <td>577</td>\n",
       "    </tr>\n",
       "    <tr>\n",
       "      <th>4</th>\n",
       "      <td>2</td>\n",
       "      <td>6164.39</td>\n",
       "      <td>40</td>\n",
       "      <td>6</td>\n",
       "      <td>0</td>\n",
       "      <td>199</td>\n",
       "      <td>439</td>\n",
       "    </tr>\n",
       "    <tr>\n",
       "      <th>6</th>\n",
       "      <td>1</td>\n",
       "      <td>3255.34</td>\n",
       "      <td>14</td>\n",
       "      <td>6</td>\n",
       "      <td>0</td>\n",
       "      <td>199</td>\n",
       "      <td>283</td>\n",
       "    </tr>\n",
       "    <tr>\n",
       "      <th>7</th>\n",
       "      <td>2</td>\n",
       "      <td>6780.73</td>\n",
       "      <td>48</td>\n",
       "      <td>6</td>\n",
       "      <td>0</td>\n",
       "      <td>199</td>\n",
       "      <td>487</td>\n",
       "    </tr>\n",
       "  </tbody>\n",
       "</table>\n",
       "</div>"
      ],
      "text/plain": [
       "               count  sum_distance  sum_duration_month  minute_price  \\\n",
       "user_id month                                                          \n",
       "1       1          2       7027.51                  42             6   \n",
       "        4          1        754.16                   7             6   \n",
       "        8          2       6723.47                  46             6   \n",
       "        10         2       5809.91                  32             6   \n",
       "        11         3       7003.50                  56             6   \n",
       "        12         2       6751.63                  28             6   \n",
       "2       3          3      10187.73                  63             6   \n",
       "        4          2       6164.39                  40             6   \n",
       "        6          1       3255.34                  14             6   \n",
       "        7          2       6780.73                  48             6   \n",
       "\n",
       "               start_ride_price  subscription_fee  income_month  \n",
       "user_id month                                                    \n",
       "1       1                     0               199           451  \n",
       "        4                     0               199           241  \n",
       "        8                     0               199           475  \n",
       "        10                    0               199           391  \n",
       "        11                    0               199           535  \n",
       "        12                    0               199           367  \n",
       "2       3                     0               199           577  \n",
       "        4                     0               199           439  \n",
       "        6                     0               199           283  \n",
       "        7                     0               199           487  "
      ]
     },
     "execution_count": 70,
     "metadata": {},
     "output_type": "execute_result"
    }
   ],
   "source": [
    "#Добавился столбец с доходом за месяц:\n",
    "data_of_month.head(10)"
   ]
  },
  {
   "cell_type": "code",
   "execution_count": 71,
   "id": "2010a8aa",
   "metadata": {},
   "outputs": [
    {
     "data": {
      "text/plain": [
       "3878641"
      ]
     },
     "execution_count": 71,
     "metadata": {},
     "output_type": "execute_result"
    }
   ],
   "source": [
    "#Общий доход со всех пользователей за 2021 год:\n",
    "data_of_month['income_month'].sum()"
   ]
  },
  {
   "cell_type": "markdown",
   "id": "8d781f70",
   "metadata": {},
   "source": [
    "<a id='section_6'></a>"
   ]
  },
  {
   "cell_type": "markdown",
   "id": "41545ac0",
   "metadata": {},
   "source": [
    "### Шаг 6. Проверка гипотез"
   ]
  },
  {
   "cell_type": "markdown",
   "id": "f0c63c24",
   "metadata": {},
   "source": [
    "#### Гипотеза №1"
   ]
  },
  {
   "cell_type": "markdown",
   "id": "9571620a",
   "metadata": {},
   "source": [
    "**Тратят ли пользователи с подпиской больше времени на поездки?**"
   ]
  },
  {
   "cell_type": "markdown",
   "id": "3d2f536a",
   "metadata": {},
   "source": [
    "Чтобы проверить гипотезу о равенстве среднего генеральной совокупности:\n",
    "\n",
    "- Генеральной совокупности и среднего выборки: используется ttest с 1samp - с одинм образцов выборки (т.е. сравниваем среднее ГС с средним случайной выборки, заданного размера)\n",
    "\n",
    "- Для двух независимых ГС: ttest с independent - независимых выборок. (т.е. сравниваем два средних случайных выборкок одинакового размера. Сами ГС могут быть разных объемов)\n",
    "\n",
    "- Для двух зависимых ГС: ttest related - связанные выборки. (размер выборок одинаковый, их зависимость до/после изменений)"
   ]
  },
  {
   "cell_type": "markdown",
   "id": "ed8cc9ff",
   "metadata": {},
   "source": [
    "Рассмотрим каждую гипотезу и воспользуемся t-тестами:"
   ]
  },
  {
   "cell_type": "markdown",
   "id": "0c7dbefa",
   "metadata": {},
   "source": [
    "- Нулевая гипотеза: \"Среднее время поездок с подпиской равно среднему времени без подписки\" \n",
    "\n",
    "$$H_0: \\overline{t_с}(ultra)=\\overline{t_с}(free)$$ "
   ]
  },
  {
   "cell_type": "markdown",
   "id": "4244f00c",
   "metadata": {},
   "source": [
    "- Альтернативная гипотеза: \"Среднее время поездки с подпиской больше среднего времени без подписки\" \n",
    "\n",
    "$$H_1: \\overline{t_с}(ultra)>\\overline{t_с}(free)$$ "
   ]
  },
  {
   "cell_type": "markdown",
   "id": "29671d7f",
   "metadata": {},
   "source": [
    "Зададим уровень статистической значимости - **5%**. Мы рассматриваем две ГС независимые между собой с разным размером. Поэтому для проверки гипотезы мы используем t-тест independent - для независимых выборок."
   ]
  },
  {
   "cell_type": "code",
   "execution_count": 72,
   "id": "c04f4604",
   "metadata": {},
   "outputs": [
    {
     "name": "stdout",
     "output_type": "stream",
     "text": [
      "p-значение: 2.4959453720736625e-34\n",
      "Отвергаем нулевую гипотезу\n"
     ]
    }
   ],
   "source": [
    "alpha = .05 # уровень статистической значимости\n",
    "\n",
    "results = st.ttest_ind(df_with_sub['duration'], df_no_sub['duration'], alternative='greater') #greater - значение больше вправо.\n",
    "\n",
    "print('p-значение:', results.pvalue)\n",
    "\n",
    "if results.pvalue < alpha:\n",
    "    print('Отвергаем нулевую гипотезу')\n",
    "else:\n",
    "    print('Не отвергаем нулевую гипотезу') "
   ]
  },
  {
   "cell_type": "markdown",
   "id": "4f5a124d",
   "metadata": {},
   "source": [
    "**Получается, мы отвергаем нулевую гипотезу. Тогда на передний план выдвигается альтернативная гипотеза. Если выборочное среднее двух ГС не равно, а отсекали вероятность по значению вправо, можно сказать, что средняя продолжительность поездки людей с подпиской - больше, нежели без.**"
   ]
  },
  {
   "cell_type": "markdown",
   "id": "d0568ea2",
   "metadata": {},
   "source": [
    "#### Гипотеза №2"
   ]
  },
  {
   "cell_type": "markdown",
   "id": "bacf76bd",
   "metadata": {},
   "source": [
    "**Расстояние одной поездки в 3130 метров — оптимальное с точки зрения износа самоката. Можно ли сказать, что среднее расстояние, которое проезжают пользователи с подпиской за одну поездку, не превышает 3130 метров?**"
   ]
  },
  {
   "cell_type": "markdown",
   "id": "b63672cd",
   "metadata": {},
   "source": [
    "Рассмотрим каждую гипотезу и воспользуемся t-тестами:"
   ]
  },
  {
   "cell_type": "markdown",
   "id": "410dd31e",
   "metadata": {},
   "source": [
    "- Нулевая гипотеза: \"Среднее расстояние, которое проезжают пользователи с подпиской равно 3130 [м]\" \n",
    "\n",
    "$$H_0: \\overline{S_с}(ultra)=3130 [м]$$ "
   ]
  },
  {
   "cell_type": "markdown",
   "id": "37744cc8",
   "metadata": {},
   "source": [
    "- Альтернативная гипотеза: \"Среднее расстояние, которое проезжают пользователи с подпиской больше 3130 [м]\" \n",
    "\n",
    "$$H_1: \\overline{S_с}(ultra) > 3130 [м]$$ "
   ]
  },
  {
   "cell_type": "markdown",
   "id": "c28ff86c",
   "metadata": {},
   "source": [
    "Зададим уровень статистической значимости - **5%**. Мы рассматриваем среднее ГС с числом, т.е. имеем один образец выборки, следовательно, нужно воспользоваться t-тестом с 1samp."
   ]
  },
  {
   "cell_type": "code",
   "execution_count": 73,
   "id": "7e4a0667",
   "metadata": {},
   "outputs": [
    {
     "name": "stdout",
     "output_type": "stream",
     "text": [
      "p-значение: 0.9195362605842414\n",
      "Не отвергаем нулевую гипотезу\n"
     ]
    }
   ],
   "source": [
    "alpha = .05 # уровень статистической значимости\n",
    "\n",
    "way = 3130\n",
    "\n",
    "results = st.ttest_1samp(df_with_sub['distance'], way, alternative='greater') #greater - значение больше вправо.\n",
    "\n",
    "print('p-значение:', results.pvalue)\n",
    "\n",
    "if results.pvalue < alpha:\n",
    "    print('Отвергаем нулевую гипотезу')\n",
    "else:\n",
    "    print('Не отвергаем нулевую гипотезу') "
   ]
  },
  {
   "cell_type": "markdown",
   "id": "3cf7d9ff",
   "metadata": {},
   "source": [
    "**Нулевая гипотеза не отвергается. Средняя дистанция, которую проезжают пользователи с подпиской, не привышает 3130 м.**"
   ]
  },
  {
   "cell_type": "markdown",
   "id": "0d35b893",
   "metadata": {},
   "source": [
    "#### Гипотеза №3"
   ]
  },
  {
   "cell_type": "markdown",
   "id": "afa59bd0",
   "metadata": {},
   "source": [
    "**Будет ли помесячная выручка от пользователей с подпиской по месяцам выше, чем выручка от пользователей без подписки?**"
   ]
  },
  {
   "cell_type": "markdown",
   "id": "37571d45",
   "metadata": {},
   "source": [
    "Рассмотрим каждую гипотезу и воспользуемся t-тестами:"
   ]
  },
  {
   "cell_type": "markdown",
   "id": "5a1a6dd4",
   "metadata": {},
   "source": [
    "- Нулевая гипотеза: \"Помесячная выручка от пользователей с подпиской равна помесячной выручке пользователей без подписки\" \n",
    "\n",
    "$$H_0: {R_с}(ultra)={R_с}(free)$$ "
   ]
  },
  {
   "cell_type": "markdown",
   "id": "20948674",
   "metadata": {},
   "source": [
    "- Альтернативная гипотеза: \"Помесячная выручка от пользователей с подпиской больше помесячной выручки пользователей без подписки\" \n",
    "\n",
    "$$H_1: {R_с}(ultra)>{R_с}(free)$$  "
   ]
  },
  {
   "cell_type": "markdown",
   "id": "9f838e55",
   "metadata": {},
   "source": [
    "Зададим уровень статистической значимости - **5%**. Мы рассматриваем две ГС независимые между собой с разным размером. Поэтому для проверки гипотезы мы используем t-тест independent - для независимых выборок."
   ]
  },
  {
   "cell_type": "code",
   "execution_count": 74,
   "id": "45ccef93",
   "metadata": {},
   "outputs": [
    {
     "data": {
      "text/plain": [
       "array([199,   0])"
      ]
     },
     "execution_count": 74,
     "metadata": {},
     "output_type": "execute_result"
    }
   ],
   "source": [
    "data_of_month['subscription_fee'].unique()"
   ]
  },
  {
   "cell_type": "code",
   "execution_count": 75,
   "id": "bb8beea7",
   "metadata": {},
   "outputs": [
    {
     "name": "stdout",
     "output_type": "stream",
     "text": [
      "p-значение: 1.8850394384715216e-31\n",
      "Отвергаем нулевую гипотезу\n"
     ]
    }
   ],
   "source": [
    "alpha = .05 # уровень статистической значимости\n",
    "\n",
    "#Без подписки\n",
    "df_0 = data_of_month.loc[data_of_month['subscription_fee'] == 0, 'income_month']\n",
    "#С Подпиской\n",
    "df_1 = data_of_month.loc[data_of_month['subscription_fee'] == 199, 'income_month']\n",
    "\n",
    "results = st.ttest_ind(df_1, df_0, alternative='greater') #greater - значение больше вправо.\n",
    "\n",
    "print('p-значение:', results.pvalue)\n",
    "\n",
    "if results.pvalue < alpha:\n",
    "    print('Отвергаем нулевую гипотезу')\n",
    "else:\n",
    "    print('Не отвергаем нулевую гипотезу') "
   ]
  },
  {
   "cell_type": "markdown",
   "id": "0a4d3864",
   "metadata": {},
   "source": [
    "**Нулевая гипотеза отвергается. Получается можно предположить, что помесячная выручка от пользователей с подпиской больше помесячной выручки пользователей без подписки.**"
   ]
  },
  {
   "cell_type": "markdown",
   "id": "bbe47139",
   "metadata": {},
   "source": [
    "#### Выбор t-теста"
   ]
  },
  {
   "cell_type": "markdown",
   "id": "7ecd4e89",
   "metadata": {},
   "source": [
    "**Представьте такую ситуацию: техническая команда сервиса обновила сервера, с которыми взаимодействует мобильное приложение. Она надеется, что из-за этого количество обращений в техподдержку значимо снизилось. Некоторый файл содержит для каждого пользователя данные о количестве обращений до обновления и после него. Какой тест вам понадобился бы для проверки этой гипотезы?**"
   ]
  },
  {
   "cell_type": "markdown",
   "id": "07300e8a",
   "metadata": {},
   "source": [
    "**Как уже описывалось выше, имеется всего три вида t-тестов:**"
   ]
  },
  {
   "cell_type": "markdown",
   "id": "40c311cf",
   "metadata": {},
   "source": [
    "- Генеральной совокупности и среднего выборки: используется ttest с 1samp - с одинм образцов выборки (т.е. сравниваем среднее ГС с средним случайной выборки, заданного размера)\n",
    "\n",
    "- Для двух независимых ГС: ttest с independent - независимых выборок. (т.е. сравниваем два средних случайных выборкок одинакового размера. Сами ГС могут быть разных объемов)\n",
    "\n",
    "- Для двух зависимых ГС: ttest related - связанные выборки. (размер выборок одинаковый, их зависимость до/после изменений)"
   ]
  },
  {
   "cell_type": "markdown",
   "id": "b63395a3",
   "metadata": {},
   "source": [
    "Для двух **ГС** используются *t-тесты* с *_ind()* и *_rel()*. В нашем случае две ГС - являются связаными между собой. Это определяется из условия, что \"были сервера старые - их обновили\" т.е. взяли старые данные и преобразовали в новые, имеется промежуток **\"до/после\"**. Если обновление данных произошло с сохранением связи: используем метод *ttest_rel()*. Если связи между ГС нарушились или возникают сомнения, по поводу применения теста *rel()*, лучше воспользоваться методом *ttest_ind()* - в теории описывалось, как показывает практика, он с большой вероятностью также даст точный результат. После того, как мы выбрали тест, применяемый к ГС, необходимо соблюсти условие: (Проверка гипотезы: количество обращений - **снизилось**). Для этого можно воспользоваться отсечением хвостов с помощью параметра ***alternative***.  Т.е. необходимо посмотреть интервал: (количество обращений меньше), т.е. относительно среднего влево - ***less*** ."
   ]
  },
  {
   "cell_type": "markdown",
   "id": "ee6728ba",
   "metadata": {},
   "source": [
    "<a id='section_7'></a>"
   ]
  },
  {
   "cell_type": "markdown",
   "id": "61213c5e",
   "metadata": {},
   "source": [
    "### Шаг 7. Распределения"
   ]
  },
  {
   "cell_type": "markdown",
   "id": "7f4f0ff9",
   "metadata": {},
   "source": [
    "#### Акция"
   ]
  },
  {
   "cell_type": "markdown",
   "id": "19ecfa79",
   "metadata": {},
   "source": [
    "**Отделу маркетинга GoFast поставили задачу: нужно провести акцию с раздачей промокодов на один бесплатный месяц подписки, в рамках которой как минимум 100 существующих клиентов должны продлить эту подписку. То есть по завершении периода действия подписки пользователь может либо отказаться от неё, либо продлить, совершив соответствующий платёж. Эта акция уже проводилась ранее и по итогу выяснилось, что после бесплатного пробного периода подписку продлевают 10 % пользователей. Выясните, какое минимальное количество промокодов нужно разослать, чтобы вероятность не выполнить план была примерно 5 %. Подберите параметры распределения, описывающего эту ситуацию, постройте график распределения и сформулируйте ответ на вопрос о количестве промокодов.**"
   ]
  },
  {
   "cell_type": "markdown",
   "id": "7bad1f16",
   "metadata": {},
   "source": [
    "- предыдущий эксперемент: 10% от общего числа продлили подписки\n",
    "\n",
    "- требуемое количество людей, которые должны оформить подписку - 100\n",
    "\n",
    "- n (необходимое количество) 10% от 1000 пользоателей - 100 людей, продливших подписку. Т.е. в предыдущем эксперементе участвовало 1 тысяча человек\n",
    "\n",
    "- воспользуемся биномиальным распределением (пользователь - взял подписку, либо - нет). Всего 2 вида исходов\n",
    "\n",
    "- также события являются независимыми между собой"
   ]
  },
  {
   "cell_type": "markdown",
   "id": "6504d1f0",
   "metadata": {},
   "source": [
    "**Зададим параметры n=1000 и p=0.1, построим график Биномиального распределения:**"
   ]
  },
  {
   "cell_type": "code",
   "execution_count": 76,
   "id": "64abe40c",
   "metadata": {},
   "outputs": [
    {
     "name": "stderr",
     "output_type": "stream",
     "text": [
      "/opt/conda/lib/python3.9/site-packages/scipy/stats/_discrete_distns.py:78: RuntimeWarning: divide by zero encountered in _binom_pdf\n",
      "  return _boost._binom_pdf(x, n, p)\n"
     ]
    },
    {
     "data": {
      "image/png": "[encoded data removed]",
      "text/plain": [
       "<Figure size 864x432 with 1 Axes>"
      ]
     },
     "metadata": {
      "needs_background": "light"
     },
     "output_type": "display_data"
    }
   ],
   "source": [
    "n = 1000 # количество попыток\n",
    "p = 0.1 # вероятность успеха\n",
    "\n",
    "distr = []\n",
    "\n",
    "for k in range(1, n + 2):\n",
    "    current_value = binom.pmf(k, n, p)\n",
    "    distr.append(current_value)\n",
    "\n",
    "plt.figure(figsize=(12,6))    \n",
    "plt.bar(range(0, n+1), distr)\n",
    "plt.grid()\n",
    "plt.show()"
   ]
  },
  {
   "cell_type": "markdown",
   "id": "a363f8fc",
   "metadata": {},
   "source": [
    "**С увеличением количества пользователей, которым предложили акцию, вероятность выполнить план - растет, следовательно, вероятность не выполнить план - падает. Нам нужно, чтобы эта вероятность была равно приблизительно 5%**"
   ]
  },
  {
   "cell_type": "code",
   "execution_count": 77,
   "id": "ed7718aa",
   "metadata": {},
   "outputs": [
    {
     "data": {
      "text/plain": [
       "0.5265990812951653"
      ]
     },
     "execution_count": 77,
     "metadata": {},
     "output_type": "execute_result"
    }
   ],
   "source": [
    "#С помощью кумулятивной функции расчитаем вероятность:\n",
    "binom.cdf(100, 1000, 0.1)"
   ]
  },
  {
   "cell_type": "markdown",
   "id": "a11b8031",
   "metadata": {},
   "source": [
    "**Интерпритируюя на простой язык: Из 1000 пользователей с вероятностью 53% можно выбрать 100 пользователей, которые оформят подсписку. (С учетом, что каждый 10-ый оформляет)**\n",
    "\n",
    "- Увеличивая количество пользователей, с помощью цикла, добьемся вероятность в 5%"
   ]
  },
  {
   "cell_type": "code",
   "execution_count": 78,
   "id": "eba56917",
   "metadata": {},
   "outputs": [
    {
     "name": "stdout",
     "output_type": "stream",
     "text": [
      "Вероятность не выполнить план:0.04954795210203071\n",
      "\n",
      "Количетсво пользователей, которые должны поучаствовать в акции: 1172\n"
     ]
    }
   ],
   "source": [
    "n=1000 # - указывалось в предыдущих ячейках:\n",
    "for i in range(0,200):\n",
    "    n = 1000 + i\n",
    "    if binom.cdf(100, n, 0.1) < 0.05:\n",
    "        print(f'Вероятность не выполнить план:{binom.cdf(100, n, 0.1)}')\n",
    "        print()\n",
    "        print(f'Количетсво пользователей, которые должны поучаствовать в акции: {n}')\n",
    "        break    "
   ]
  },
  {
   "cell_type": "markdown",
   "id": "ffcccf5c",
   "metadata": {},
   "source": [
    "**Нужно, чтобы в акции участвовало минимум 1172 пользователя, тогда вероятность не выполнить план составит порядка 5%**\n",
    "\n",
    "- **Увеличим количество участников на 172**"
   ]
  },
  {
   "cell_type": "markdown",
   "id": "90d1257b",
   "metadata": {},
   "source": [
    "#### График распределения"
   ]
  },
  {
   "cell_type": "markdown",
   "id": "480550e0",
   "metadata": {},
   "source": [
    "**Отдел маркетинга рассылает клиентам push-уведомления в мобильном приложении. Клиенты могут открыть его или не открывать. Известно, что уведомления открывают около 40 % получивших клиентов. Отдел планирует разослать 1 млн уведомлений. С помощью аппроксимации постройте примерный график распределения и оцените вероятность того, что уведомление откроют не более 399,5 тыс. пользователей.**"
   ]
  },
  {
   "cell_type": "markdown",
   "id": "17bdf0bf",
   "metadata": {},
   "source": [
    "- Снова биномиальное распределение\n",
    "- p = 0,4\n",
    "- n = 1 млн уведомлений\n",
    "- нужно определить вероятность открытия более 399.5 тыс уведомлений"
   ]
  },
  {
   "cell_type": "markdown",
   "id": "8616fa5e",
   "metadata": {},
   "source": [
    "**Математическое ожидание и стандартное отклонение нормального распределения, которым аппроксимируют биномиальное, просто берутся равными мат.ожиданию и стандартному отклонению этого биномиального распределения.**"
   ]
  },
  {
   "cell_type": "code",
   "execution_count": 79,
   "id": "b6b705fd",
   "metadata": {},
   "outputs": [
    {
     "data": {
      "image/png": "[encoded data removed]",
      "text/plain": [
       "<Figure size 864x432 with 1 Axes>"
      ]
     },
     "metadata": {
      "needs_background": "light"
     },
     "output_type": "display_data"
    }
   ],
   "source": [
    "n = 1_000_000\n",
    "p = 0.4\n",
    "#мат.ожидание для биномиального и апроксимирующего нормального распределения:\n",
    "mu = n * p\n",
    "#стандартное отклонение по анлогии для обоих распределений:\n",
    "sigma = sqrt(n * p * (1 - p))\n",
    "\n",
    "#Границы интервала для графика:\n",
    "left = int(mu - 4 * sigma)\n",
    "right = int(mu + 4 * sigma)\n",
    "\n",
    "#Интервал:\n",
    "x = list(range(left, right, 1))\n",
    "\n",
    "plt.figure(figsize=(12,6))\n",
    "plt.plot(x, st.norm.pdf(x, mu, sigma), c='r')\n",
    "plt.grid()\n",
    "plt.show()"
   ]
  },
  {
   "cell_type": "markdown",
   "id": "8553d7aa",
   "metadata": {},
   "source": [
    "**Выведем вероятность попасть в интервал от нуля до 399.5 тыс:**"
   ]
  },
  {
   "cell_type": "code",
   "execution_count": 80,
   "id": "1296c5eb",
   "metadata": {},
   "outputs": [
    {
     "data": {
      "text/plain": [
       "0.15371708296369768"
      ]
     },
     "execution_count": 80,
     "metadata": {},
     "output_type": "execute_result"
    }
   ],
   "source": [
    "distr = st.norm(mu, sigma)\n",
    "distr.cdf(399_500)"
   ]
  },
  {
   "cell_type": "markdown",
   "id": "1ba59213",
   "metadata": {},
   "source": [
    "**Вероятность, что уведомления откроют не более 399.5 тыс. пользователей - порядка 15% процентов**"
   ]
  },
  {
   "cell_type": "markdown",
   "id": "4cd0760a",
   "metadata": {},
   "source": [
    "<a id='section_8'></a>"
   ]
  },
  {
   "cell_type": "markdown",
   "id": "6c3eee17",
   "metadata": {},
   "source": [
    "### Шаг 8. Общий вывод"
   ]
  },
  {
   "cell_type": "markdown",
   "id": "26e14ec3",
   "metadata": {},
   "source": [
    "**1. На первом шаге была выгружена и изучена общая информация**\n",
    "\n",
    "- Имеется 3 датафрейма с информацией о пользователях, их поездках и данные о подписках\n",
    "\n",
    "- Самый большой объем данных был у датафрейма с поездками 18 тысяч строк\n",
    "\n",
    "---\n",
    "\n",
    "**2. На втором шаге была выполнена предобработка данных**\n",
    "\n",
    "- Проверели назнание переменных в столбцах (ошибок не выявлено)\n",
    "\n",
    "- Изменили типы данных, преобразовали переменные в временные, где это было необходимо\n",
    "\n",
    "- Выполнили проверку на наличие пропусков (пропусков не выявлено)\n",
    "\n",
    "- Выполнили проверку на наличие дубликатов (выявлен **31** дубликат и устранен)\n",
    "\n",
    "Явные дубликаты были обнаружены в датафрейме *Users*\n",
    "\n",
    "---\n",
    "\n",
    "**3. Провели исследовательский анализ данных**\n",
    "\n",
    "По результатам анализа было выявлено:\n",
    "\n",
    "> Наибольшее количество пользователей за 2021 год, которые арендовали самокаты, это жители Пятигорска. Наименьшее количество арендующих пользователей оказалость в Москве.\n",
    "\n",
    "> Относительно всех пользователей, которые используют аренду самокатов, подписку имеют **45,6%** от общего числа. Это достаточно большая доля.\n",
    "\n",
    "> Самый маленький возраст, арендующих самокаты - **12 лет**. Самые старшие арендующие - **43 года**. Большой интервал, который включает детей, студентов и взрослых пользователей. Пиковое значение пришлосль на возраст **25 лет** - это пользователи, которые чаще всего арендуют самокаты.\n",
    "\n",
    "> Расстояние, которые проезжают пользователи, если смотреть на квартильный размах - в среднем меняется в интервале от **2.5 - 3.7 км**. Медианное значение **3133** метра.\n",
    "\n",
    "> Средняя продолжительность поездок составляет **18 мин**, если смотреть на медиану. Мода же показывает **19 минут** - чаще всего встречаемое значение.\n",
    "\n",
    "---\n",
    "\n",
    "**4. Объединенили данные**\n",
    "\n",
    "На данном этапе данные сначала были объеденены в один большой датафрейм, для удобства работы. В последсвии мы разбили большой датафрейм на два поменьше по признаку **наличие подписки**. Это было необходимо для анализа группы пользователей с подписками и без, ведь оценка этих групп по отдельности очень важна. После разделения на две группы, мы построили гистограммы для оценки дистанции, которую проезжают пользователи, и времени использования электросамокатов для каждой из групп в отдельности. Наложив гистограммы друг на друга, мы увидели больше отличий, а именно:\n",
    "\n",
    "- Разброс значений относительно среднего у пользователей без подписки намного выше на графике зависимоти количества аренд от дистанции. Также имеется небольшое смещение значений в меньшую сторону относительно среднего\n",
    "\n",
    "- Из временных графиков виден перевес количества аренд людей с подпиской и без. Количество аренд у пользователей без подписки больше. Минимальное время аренды у пользователей с подпиской равно 4 минутам. Пользователи без подписки имеют значения ниже\n",
    "\n",
    "---\n",
    "\n",
    "**5. Подсчёт выручки**\n",
    "\n",
    "Для удобства изначально была создата сводная таблица, сгруппированая по уникальному индентификатору пользователя и месяцам, в которую поместили следующие переменные:\n",
    "\n",
    "- Количество поездок\n",
    "\n",
    "- Суммарная дистанция за месяц\n",
    "\n",
    "- Суммарное время поездки за месяц\n",
    "\n",
    "- Цена минуты поездки\n",
    "\n",
    "- Цена начала поездки\n",
    "\n",
    "- Цена подписки (если она есть)\n",
    "\n",
    "Исходя из этих данных в таблицу был добавлен еще один столбец ***income_month***, который показывает, какую прибыль принес клиент за конкретный месяц. Проссумировав все значения для всех клиентов по месяцам, была подсчитана общая выручка с аренд самокатов за 2021 год. Она составила почти **3,9 млн.руб.**\n",
    "\n",
    "---\n",
    "\n",
    "**6. Проверка гипотез**\n",
    "\n",
    "Для того, чтобы понимать как увеличить количество пользователей с подписками, нужно проверить несколько гипотез связаных с ними:\n",
    "\n",
    "- Нулевая гипотеза: **\"Среднее время поездок с подпиской равно среднему времени без подписки\"**\n",
    "\n",
    "Данная гипотеза - отвергнута по результатам теста. Получается, что средняя продолжительность поездки людей с подпиской - больше, нежели без.\n",
    "\n",
    "- Нулевая гипотеза: **\"Среднее расстояние, которое проезжают пользователи с подпиской равно 3130 [м]\"**\n",
    "\n",
    "Нулевая гипотеза - не отвергается по результатам теста. Средняя дистанция, которую проезжают пользователи с подпиской, не привышает 3130 м.\n",
    "\n",
    "- Нулевая гипотеза: **\"Помесячная выручка от пользователей с подпиской равна помесячной выручке пользователей без подписки\"**\n",
    "\n",
    "Нулевая гипотеза - отвергается по результатам теста. Получается можно предположить, что помесячная выручка от пользователей с подпиской больше помесячной выручки пользователей без подписки\n",
    "\n",
    "---\n",
    "\n",
    "**7. Распределения**\n",
    "\n",
    "> Акция\n",
    "\n",
    "Был проведен эксперемент, в котором пользователям раздавали бесплатные подписки, а после истечения бесплатного периода - наблюдали, какая доля пользователей их **продлевала**. По результатам эксперемента 10% пользователей от общего числа - продлевало подписки. С помощью биномиального распределения мы определили, что необходимое количетсво пользователей, которые должны участвовать в акции, должно составлять **1172 участника**, чтобы с вероятностью в 95% 100 из них, продлили подписку.\n",
    "\n",
    "> График распределения\n",
    "\n",
    "Отдел маркетинга рассылает клиентам push-уведомления в мобильном приложении. Клиенты могут открыть его или не открывать. Известно, что уведомления открывают около 40 % получивших клиентов. Отдел планирует разослать 1 млн уведомлений. \n",
    "\n",
    "- С помощью апроксимации Биномиального распределения Нормальным, мы построили график распределения.\n",
    "\n",
    "- Определили, что вероятность того, что уведомления откроют не более 399.5 тыс. пользователей - порядка 15% процентов\n",
    "\n"
   ]
  },
  {
   "cell_type": "markdown",
   "id": "0dd94642",
   "metadata": {},
   "source": [
    "**8. Рекомендации по развитию аренды самокатов**\n",
    "\n",
    "Судя по полученным данным, можно сделать несколько логических рекомендаций по улучшению развития аренды самокатов:\n",
    "\n",
    "- В городах, которые находятся южнее - спрос выше (Пятигорск, Краснодар, Ростов-на-Дону, Сочи). Возможно это связано с погодными условиями. Т.к. на юге преобладает солнечная погода, люди чаще используют электросамокаты. В свою очередь в Москве - самый низкий спрос. Для улучшения арендыЯ, возможно, стоит пересмотреть цену за минуты в зависимости от погодных условий. (Инвертивно такси). Снижать цену при плохих погодных условиях.\n",
    "\n",
    "- Пиковое значение возраста 25 лет - для арендующих самокаты. Возможно стоит больше заинтересовать группы людей от 14 до 18 лет в использовании самокатов. Ввести скидки для студентов и школьников. Тогда клиентская база в этом сегменте - вырастет. Следовательно увеличится количество пользователей с подписками.\n",
    "\n",
    "- Увеличить среднюю выручку при аренде можно за счет увеличения среднего времени аренды самокатов. Это можно сделать, добавив промежуточные интервалы оплаты со скидками. Например: задать аренду заблаговременно на полчаса, на час, и т.п. Арендовав самокат на определенное время - будет дешевле, чем поминутно. Зато увеличиться среднее время и уменьшется количество людей, которые арендуют самокаты до 5 мин."
   ]
  }
 ],
 "metadata": {
  "ExecuteTimeLog": [
   {
    "duration": 350,
    "start_time": "2024-03-11T09:01:22.508Z"
   },
   {
    "duration": 2,
    "start_time": "2024-03-11T09:29:23.856Z"
   },
   {
    "duration": 77,
    "start_time": "2024-03-11T09:33:32.128Z"
   },
   {
    "duration": 15,
    "start_time": "2024-03-11T09:33:49.171Z"
   },
   {
    "duration": 9,
    "start_time": "2024-03-11T09:34:01.186Z"
   },
   {
    "duration": 2,
    "start_time": "2024-03-11T09:39:27.073Z"
   },
   {
    "duration": 46,
    "start_time": "2024-03-11T09:39:27.951Z"
   },
   {
    "duration": 9,
    "start_time": "2024-03-11T09:39:28.535Z"
   },
   {
    "duration": 2,
    "start_time": "2024-03-11T09:40:13.662Z"
   },
   {
    "duration": 41,
    "start_time": "2024-03-11T09:40:14.543Z"
   },
   {
    "duration": 7,
    "start_time": "2024-03-11T09:40:15.110Z"
   },
   {
    "duration": 43,
    "start_time": "2024-03-11T09:40:24.562Z"
   },
   {
    "duration": 9,
    "start_time": "2024-03-11T09:40:25.444Z"
   },
   {
    "duration": 50,
    "start_time": "2024-03-11T09:42:25.868Z"
   },
   {
    "duration": 255,
    "start_time": "2024-03-11T09:45:37.394Z"
   },
   {
    "duration": 9,
    "start_time": "2024-03-11T09:45:38.202Z"
   },
   {
    "duration": 149,
    "start_time": "2024-03-11T09:46:00.903Z"
   },
   {
    "duration": 137,
    "start_time": "2024-03-11T09:47:18.999Z"
   },
   {
    "duration": 144,
    "start_time": "2024-03-11T09:49:52.653Z"
   },
   {
    "duration": 2,
    "start_time": "2024-03-11T09:55:52.296Z"
   },
   {
    "duration": 139,
    "start_time": "2024-03-11T09:55:52.539Z"
   },
   {
    "duration": 9,
    "start_time": "2024-03-11T09:58:00.665Z"
   },
   {
    "duration": 10,
    "start_time": "2024-03-11T09:58:23.239Z"
   },
   {
    "duration": 9,
    "start_time": "2024-03-11T09:58:42.330Z"
   },
   {
    "duration": 12,
    "start_time": "2024-03-11T09:58:50.062Z"
   },
   {
    "duration": 9,
    "start_time": "2024-03-11T09:59:01.310Z"
   },
   {
    "duration": 7,
    "start_time": "2024-03-11T09:59:44.751Z"
   },
   {
    "duration": 8,
    "start_time": "2024-03-11T09:59:47.949Z"
   },
   {
    "duration": 8,
    "start_time": "2024-03-11T09:59:53.299Z"
   },
   {
    "duration": 58,
    "start_time": "2024-03-11T10:00:14.329Z"
   },
   {
    "duration": 9,
    "start_time": "2024-03-11T10:01:04.381Z"
   },
   {
    "duration": 11,
    "start_time": "2024-03-11T10:01:36.654Z"
   },
   {
    "duration": 7,
    "start_time": "2024-03-11T10:02:23.215Z"
   },
   {
    "duration": 9,
    "start_time": "2024-03-11T10:02:37.984Z"
   },
   {
    "duration": 7,
    "start_time": "2024-03-11T10:02:45.777Z"
   },
   {
    "duration": 9,
    "start_time": "2024-03-11T10:02:46.368Z"
   },
   {
    "duration": 9,
    "start_time": "2024-03-11T10:05:54.459Z"
   },
   {
    "duration": 10,
    "start_time": "2024-03-11T10:05:54.627Z"
   },
   {
    "duration": 9,
    "start_time": "2024-03-11T10:05:54.849Z"
   },
   {
    "duration": 10,
    "start_time": "2024-03-11T10:05:55.071Z"
   },
   {
    "duration": 7,
    "start_time": "2024-03-11T10:05:56.096Z"
   },
   {
    "duration": 9,
    "start_time": "2024-03-11T10:05:58.044Z"
   },
   {
    "duration": 10,
    "start_time": "2024-03-11T10:06:35.282Z"
   },
   {
    "duration": 10,
    "start_time": "2024-03-11T10:06:47.507Z"
   },
   {
    "duration": 10,
    "start_time": "2024-03-11T10:06:57.021Z"
   },
   {
    "duration": 9,
    "start_time": "2024-03-11T10:07:02.337Z"
   },
   {
    "duration": 7,
    "start_time": "2024-03-11T10:07:20.205Z"
   },
   {
    "duration": 10,
    "start_time": "2024-03-11T10:07:21.808Z"
   },
   {
    "duration": 2,
    "start_time": "2024-03-11T10:18:47.121Z"
   },
   {
    "duration": 117,
    "start_time": "2024-03-11T10:18:47.321Z"
   },
   {
    "duration": 8,
    "start_time": "2024-03-11T10:18:47.691Z"
   },
   {
    "duration": 9,
    "start_time": "2024-03-11T10:18:47.891Z"
   },
   {
    "duration": 8,
    "start_time": "2024-03-11T10:18:48.236Z"
   },
   {
    "duration": 11,
    "start_time": "2024-03-11T10:18:48.491Z"
   },
   {
    "duration": 6,
    "start_time": "2024-03-11T10:18:48.877Z"
   },
   {
    "duration": 13,
    "start_time": "2024-03-11T10:18:49.069Z"
   },
   {
    "duration": 6,
    "start_time": "2024-03-11T10:23:56.372Z"
   },
   {
    "duration": 4,
    "start_time": "2024-03-11T10:24:14.877Z"
   },
   {
    "duration": 5,
    "start_time": "2024-03-11T10:24:25.466Z"
   },
   {
    "duration": 4,
    "start_time": "2024-03-11T10:32:13.671Z"
   },
   {
    "duration": 7,
    "start_time": "2024-03-11T10:34:25.449Z"
   },
   {
    "duration": 2,
    "start_time": "2024-03-11T10:34:30.127Z"
   },
   {
    "duration": 3,
    "start_time": "2024-03-11T10:34:44.361Z"
   },
   {
    "duration": 4,
    "start_time": "2024-03-11T10:34:51.803Z"
   },
   {
    "duration": 4,
    "start_time": "2024-03-11T10:35:56.969Z"
   },
   {
    "duration": 4,
    "start_time": "2024-03-11T10:36:00.799Z"
   },
   {
    "duration": 83,
    "start_time": "2024-03-11T10:36:19.772Z"
   },
   {
    "duration": 3,
    "start_time": "2024-03-11T10:36:34.025Z"
   },
   {
    "duration": 3,
    "start_time": "2024-03-11T10:37:51.514Z"
   },
   {
    "duration": 585,
    "start_time": "2024-03-11T10:52:25.447Z"
   },
   {
    "duration": 568,
    "start_time": "2024-03-11T10:52:49.681Z"
   },
   {
    "duration": 612,
    "start_time": "2024-03-11T10:53:00.516Z"
   },
   {
    "duration": 7,
    "start_time": "2024-03-11T10:53:34.336Z"
   },
   {
    "duration": 10,
    "start_time": "2024-03-11T10:53:48.509Z"
   },
   {
    "duration": 10,
    "start_time": "2024-03-11T10:54:03.717Z"
   },
   {
    "duration": 48,
    "start_time": "2024-03-11T10:54:52.891Z"
   },
   {
    "duration": 9,
    "start_time": "2024-03-11T10:54:55.279Z"
   },
   {
    "duration": 12,
    "start_time": "2024-03-11T10:55:03.859Z"
   },
   {
    "duration": 9,
    "start_time": "2024-03-11T10:55:04.409Z"
   },
   {
    "duration": 12,
    "start_time": "2024-03-11T10:55:07.979Z"
   },
   {
    "duration": 10,
    "start_time": "2024-03-11T10:55:08.948Z"
   },
   {
    "duration": 352,
    "start_time": "2024-03-11T10:55:14.001Z"
   },
   {
    "duration": 322,
    "start_time": "2024-03-11T10:55:14.355Z"
   },
   {
    "duration": 14,
    "start_time": "2024-03-11T10:55:14.679Z"
   },
   {
    "duration": 20,
    "start_time": "2024-03-11T10:55:14.694Z"
   },
   {
    "duration": 13,
    "start_time": "2024-03-11T10:55:14.716Z"
   },
   {
    "duration": 10,
    "start_time": "2024-03-11T10:55:14.731Z"
   },
   {
    "duration": 6,
    "start_time": "2024-03-11T10:55:14.743Z"
   },
   {
    "duration": 8,
    "start_time": "2024-03-11T10:55:14.750Z"
   },
   {
    "duration": 8,
    "start_time": "2024-03-11T10:55:14.759Z"
   },
   {
    "duration": 8,
    "start_time": "2024-03-11T10:55:14.768Z"
   },
   {
    "duration": 8,
    "start_time": "2024-03-11T10:55:14.778Z"
   },
   {
    "duration": 47,
    "start_time": "2024-03-11T10:55:22.875Z"
   },
   {
    "duration": 9,
    "start_time": "2024-03-11T10:55:23.662Z"
   },
   {
    "duration": 12,
    "start_time": "2024-03-11T10:55:45.248Z"
   },
   {
    "duration": 9,
    "start_time": "2024-03-11T10:55:46.065Z"
   },
   {
    "duration": 12,
    "start_time": "2024-03-11T10:57:44.967Z"
   },
   {
    "duration": 9,
    "start_time": "2024-03-11T10:57:45.558Z"
   },
   {
    "duration": 11,
    "start_time": "2024-03-11T10:57:50.365Z"
   },
   {
    "duration": 14,
    "start_time": "2024-03-11T10:58:55.988Z"
   },
   {
    "duration": 10,
    "start_time": "2024-03-11T10:58:56.446Z"
   },
   {
    "duration": 13,
    "start_time": "2024-03-11T10:59:06.671Z"
   },
   {
    "duration": 10,
    "start_time": "2024-03-11T10:59:07.104Z"
   },
   {
    "duration": 12,
    "start_time": "2024-03-11T10:59:15.964Z"
   },
   {
    "duration": 9,
    "start_time": "2024-03-11T10:59:23.851Z"
   },
   {
    "duration": 14,
    "start_time": "2024-03-11T10:59:51.800Z"
   },
   {
    "duration": 10,
    "start_time": "2024-03-11T10:59:52.337Z"
   },
   {
    "duration": 14,
    "start_time": "2024-03-11T11:02:31.586Z"
   },
   {
    "duration": 10,
    "start_time": "2024-03-11T11:02:36.317Z"
   },
   {
    "duration": 8,
    "start_time": "2024-03-11T11:02:42.709Z"
   },
   {
    "duration": 15,
    "start_time": "2024-03-11T11:02:57.218Z"
   },
   {
    "duration": 9,
    "start_time": "2024-03-11T11:02:57.700Z"
   },
   {
    "duration": 43,
    "start_time": "2024-03-11T11:03:18.565Z"
   },
   {
    "duration": 9,
    "start_time": "2024-03-11T11:03:19.135Z"
   },
   {
    "duration": 13,
    "start_time": "2024-03-11T11:03:35.002Z"
   },
   {
    "duration": 9,
    "start_time": "2024-03-11T11:03:35.484Z"
   },
   {
    "duration": 13,
    "start_time": "2024-03-11T11:05:46.102Z"
   },
   {
    "duration": 10,
    "start_time": "2024-03-11T11:05:46.812Z"
   },
   {
    "duration": 14,
    "start_time": "2024-03-11T11:07:58.691Z"
   },
   {
    "duration": 9,
    "start_time": "2024-03-11T11:07:59.215Z"
   },
   {
    "duration": 6,
    "start_time": "2024-03-11T11:09:49.557Z"
   },
   {
    "duration": 8,
    "start_time": "2024-03-11T11:09:55.823Z"
   },
   {
    "duration": 3,
    "start_time": "2024-03-11T11:10:04.206Z"
   },
   {
    "duration": 8,
    "start_time": "2024-03-11T11:10:05.119Z"
   },
   {
    "duration": 3,
    "start_time": "2024-03-11T11:12:59.748Z"
   },
   {
    "duration": 3,
    "start_time": "2024-03-11T11:32:11.683Z"
   },
   {
    "duration": 380,
    "start_time": "2024-03-11T11:32:18.157Z"
   },
   {
    "duration": 150,
    "start_time": "2024-03-11T11:32:18.539Z"
   },
   {
    "duration": 14,
    "start_time": "2024-03-11T11:32:18.691Z"
   },
   {
    "duration": 10,
    "start_time": "2024-03-11T11:32:18.706Z"
   },
   {
    "duration": 9,
    "start_time": "2024-03-11T11:32:18.717Z"
   },
   {
    "duration": 9,
    "start_time": "2024-03-11T11:32:18.728Z"
   },
   {
    "duration": 7,
    "start_time": "2024-03-11T11:32:18.738Z"
   },
   {
    "duration": 16,
    "start_time": "2024-03-11T11:32:18.746Z"
   },
   {
    "duration": 9,
    "start_time": "2024-03-11T11:32:18.763Z"
   },
   {
    "duration": 20,
    "start_time": "2024-03-11T11:32:18.774Z"
   },
   {
    "duration": 8,
    "start_time": "2024-03-11T11:32:18.795Z"
   },
   {
    "duration": 6,
    "start_time": "2024-03-11T11:32:18.804Z"
   },
   {
    "duration": 11,
    "start_time": "2024-03-11T11:32:18.811Z"
   },
   {
    "duration": 3,
    "start_time": "2024-03-11T11:32:43.884Z"
   },
   {
    "duration": 10,
    "start_time": "2024-03-11T11:32:44.850Z"
   },
   {
    "duration": 3,
    "start_time": "2024-03-11T11:34:01.171Z"
   },
   {
    "duration": 9,
    "start_time": "2024-03-11T11:34:02.928Z"
   },
   {
    "duration": 8,
    "start_time": "2024-03-11T11:34:30.748Z"
   },
   {
    "duration": 3,
    "start_time": "2024-03-11T11:34:32.079Z"
   },
   {
    "duration": 388,
    "start_time": "2024-03-11T11:34:37.446Z"
   },
   {
    "duration": 161,
    "start_time": "2024-03-11T11:34:37.835Z"
   },
   {
    "duration": 13,
    "start_time": "2024-03-11T11:34:37.998Z"
   },
   {
    "duration": 9,
    "start_time": "2024-03-11T11:34:38.013Z"
   },
   {
    "duration": 7,
    "start_time": "2024-03-11T11:34:38.024Z"
   },
   {
    "duration": 10,
    "start_time": "2024-03-11T11:34:38.033Z"
   },
   {
    "duration": 8,
    "start_time": "2024-03-11T11:34:38.044Z"
   },
   {
    "duration": 26,
    "start_time": "2024-03-11T11:34:38.054Z"
   },
   {
    "duration": 28,
    "start_time": "2024-03-11T11:34:38.082Z"
   },
   {
    "duration": 12,
    "start_time": "2024-03-11T11:34:38.112Z"
   },
   {
    "duration": 20,
    "start_time": "2024-03-11T11:34:38.125Z"
   },
   {
    "duration": 15,
    "start_time": "2024-03-11T11:34:38.146Z"
   },
   {
    "duration": 28,
    "start_time": "2024-03-11T11:34:38.162Z"
   },
   {
    "duration": 3,
    "start_time": "2024-03-11T11:34:38.192Z"
   },
   {
    "duration": 11,
    "start_time": "2024-03-11T11:34:38.196Z"
   },
   {
    "duration": 11,
    "start_time": "2024-03-11T11:44:38.211Z"
   },
   {
    "duration": 6,
    "start_time": "2024-03-11T11:45:14.367Z"
   },
   {
    "duration": 6,
    "start_time": "2024-03-11T11:45:15.099Z"
   },
   {
    "duration": 6,
    "start_time": "2024-03-11T11:45:17.504Z"
   },
   {
    "duration": 6,
    "start_time": "2024-03-11T11:46:45.785Z"
   },
   {
    "duration": 7,
    "start_time": "2024-03-11T11:47:26.914Z"
   },
   {
    "duration": 8,
    "start_time": "2024-03-11T11:47:36.248Z"
   },
   {
    "duration": 10,
    "start_time": "2024-03-11T11:47:53.379Z"
   },
   {
    "duration": 8,
    "start_time": "2024-03-11T11:49:27.860Z"
   },
   {
    "duration": 8,
    "start_time": "2024-03-11T11:49:36.041Z"
   },
   {
    "duration": 8,
    "start_time": "2024-03-11T11:49:38.792Z"
   },
   {
    "duration": 8,
    "start_time": "2024-03-11T11:50:04.518Z"
   },
   {
    "duration": 5,
    "start_time": "2024-03-11T11:50:16.593Z"
   },
   {
    "duration": 9,
    "start_time": "2024-03-11T11:50:36.381Z"
   },
   {
    "duration": 73,
    "start_time": "2024-03-11T11:52:02.835Z"
   },
   {
    "duration": 9,
    "start_time": "2024-03-11T11:52:20.239Z"
   },
   {
    "duration": 8,
    "start_time": "2024-03-11T11:52:42.005Z"
   },
   {
    "duration": 9,
    "start_time": "2024-03-11T11:58:08.547Z"
   },
   {
    "duration": 8,
    "start_time": "2024-03-11T11:59:52.518Z"
   },
   {
    "duration": 8,
    "start_time": "2024-03-11T12:00:13.164Z"
   },
   {
    "duration": 8,
    "start_time": "2024-03-11T12:00:18.595Z"
   },
   {
    "duration": 6,
    "start_time": "2024-03-11T12:01:32.493Z"
   },
   {
    "duration": 6,
    "start_time": "2024-03-11T12:01:44.071Z"
   },
   {
    "duration": 6,
    "start_time": "2024-03-11T12:02:01.517Z"
   },
   {
    "duration": 5,
    "start_time": "2024-03-11T12:02:36.432Z"
   },
   {
    "duration": 4,
    "start_time": "2024-03-11T12:02:42.791Z"
   },
   {
    "duration": 13,
    "start_time": "2024-03-11T12:03:03.108Z"
   },
   {
    "duration": 9,
    "start_time": "2024-03-11T12:03:18.939Z"
   },
   {
    "duration": 404,
    "start_time": "2024-03-11T12:03:28.718Z"
   },
   {
    "duration": 475,
    "start_time": "2024-03-11T12:03:29.123Z"
   },
   {
    "duration": 14,
    "start_time": "2024-03-11T12:03:29.599Z"
   },
   {
    "duration": 9,
    "start_time": "2024-03-11T12:03:29.615Z"
   },
   {
    "duration": 12,
    "start_time": "2024-03-11T12:03:29.626Z"
   },
   {
    "duration": 14,
    "start_time": "2024-03-11T12:03:29.639Z"
   },
   {
    "duration": 6,
    "start_time": "2024-03-11T12:03:29.655Z"
   },
   {
    "duration": 9,
    "start_time": "2024-03-11T12:03:29.663Z"
   },
   {
    "duration": 4,
    "start_time": "2024-03-11T12:03:29.673Z"
   },
   {
    "duration": 11,
    "start_time": "2024-03-11T12:03:29.680Z"
   },
   {
    "duration": 17,
    "start_time": "2024-03-11T12:03:29.692Z"
   },
   {
    "duration": 4,
    "start_time": "2024-03-11T12:03:29.711Z"
   },
   {
    "duration": 29,
    "start_time": "2024-03-11T12:03:29.716Z"
   },
   {
    "duration": 8,
    "start_time": "2024-03-11T12:03:29.746Z"
   },
   {
    "duration": 9,
    "start_time": "2024-03-11T12:03:29.755Z"
   },
   {
    "duration": 17,
    "start_time": "2024-03-11T12:03:29.765Z"
   },
   {
    "duration": 8,
    "start_time": "2024-03-11T12:03:29.783Z"
   },
   {
    "duration": 4,
    "start_time": "2024-03-11T12:03:44.474Z"
   },
   {
    "duration": 9,
    "start_time": "2024-03-11T12:03:45.418Z"
   },
   {
    "duration": 5,
    "start_time": "2024-03-11T12:04:19.212Z"
   },
   {
    "duration": 9,
    "start_time": "2024-03-11T12:04:20.642Z"
   },
   {
    "duration": 8,
    "start_time": "2024-03-11T12:05:18.776Z"
   },
   {
    "duration": 7,
    "start_time": "2024-03-11T12:05:51.635Z"
   },
   {
    "duration": 6,
    "start_time": "2024-03-11T12:07:33.430Z"
   },
   {
    "duration": 1311,
    "start_time": "2024-03-11T12:07:42.690Z"
   },
   {
    "duration": 6,
    "start_time": "2024-03-11T12:07:54.568Z"
   },
   {
    "duration": 9,
    "start_time": "2024-03-11T12:07:59.816Z"
   },
   {
    "duration": 5,
    "start_time": "2024-03-11T12:10:05.598Z"
   },
   {
    "duration": 5,
    "start_time": "2024-03-11T12:10:16.581Z"
   },
   {
    "duration": 375,
    "start_time": "2024-03-11T12:10:58.411Z"
   },
   {
    "duration": 126,
    "start_time": "2024-03-11T12:10:58.787Z"
   },
   {
    "duration": 15,
    "start_time": "2024-03-11T12:10:58.914Z"
   },
   {
    "duration": 10,
    "start_time": "2024-03-11T12:10:58.930Z"
   },
   {
    "duration": 8,
    "start_time": "2024-03-11T12:10:58.943Z"
   },
   {
    "duration": 10,
    "start_time": "2024-03-11T12:10:58.953Z"
   },
   {
    "duration": 6,
    "start_time": "2024-03-11T12:10:58.964Z"
   },
   {
    "duration": 10,
    "start_time": "2024-03-11T12:10:58.971Z"
   },
   {
    "duration": 3,
    "start_time": "2024-03-11T12:10:58.983Z"
   },
   {
    "duration": 28,
    "start_time": "2024-03-11T12:10:58.988Z"
   },
   {
    "duration": 27,
    "start_time": "2024-03-11T12:10:59.018Z"
   },
   {
    "duration": 4,
    "start_time": "2024-03-11T12:10:59.046Z"
   },
   {
    "duration": 4,
    "start_time": "2024-03-11T12:10:59.051Z"
   },
   {
    "duration": 5,
    "start_time": "2024-03-11T12:10:59.058Z"
   },
   {
    "duration": 6,
    "start_time": "2024-03-11T12:10:59.065Z"
   },
   {
    "duration": 16,
    "start_time": "2024-03-11T12:10:59.072Z"
   },
   {
    "duration": 9,
    "start_time": "2024-03-11T12:10:59.089Z"
   },
   {
    "duration": 10,
    "start_time": "2024-03-11T12:10:59.099Z"
   },
   {
    "duration": 10,
    "start_time": "2024-03-11T12:10:59.110Z"
   },
   {
    "duration": 5,
    "start_time": "2024-03-11T12:16:30.286Z"
   },
   {
    "duration": 5,
    "start_time": "2024-03-11T12:28:12.425Z"
   },
   {
    "duration": 3,
    "start_time": "2024-03-11T12:28:43.977Z"
   },
   {
    "duration": 56,
    "start_time": "2024-03-11T12:32:52.022Z"
   },
   {
    "duration": 33,
    "start_time": "2024-03-11T12:32:58.050Z"
   },
   {
    "duration": 10,
    "start_time": "2024-03-11T12:33:27.605Z"
   },
   {
    "duration": 109,
    "start_time": "2024-03-11T12:34:01.135Z"
   },
   {
    "duration": 80,
    "start_time": "2024-03-11T12:34:08.425Z"
   },
   {
    "duration": 68,
    "start_time": "2024-03-11T12:34:16.192Z"
   },
   {
    "duration": 109,
    "start_time": "2024-03-11T12:34:21.355Z"
   },
   {
    "duration": 87,
    "start_time": "2024-03-11T12:34:46.515Z"
   },
   {
    "duration": 11,
    "start_time": "2024-03-11T12:34:57.786Z"
   },
   {
    "duration": 11,
    "start_time": "2024-03-11T12:35:05.909Z"
   },
   {
    "duration": 12,
    "start_time": "2024-03-11T12:35:20.307Z"
   },
   {
    "duration": 12,
    "start_time": "2024-03-11T12:35:26.775Z"
   },
   {
    "duration": 525,
    "start_time": "2024-03-11T12:36:00.605Z"
   },
   {
    "duration": 125,
    "start_time": "2024-03-11T12:36:42.393Z"
   },
   {
    "duration": 125,
    "start_time": "2024-03-11T12:36:53.799Z"
   },
   {
    "duration": 170,
    "start_time": "2024-03-11T12:37:07.323Z"
   },
   {
    "duration": 186,
    "start_time": "2024-03-11T12:37:15.929Z"
   },
   {
    "duration": 144,
    "start_time": "2024-03-11T12:38:08.931Z"
   },
   {
    "duration": 139,
    "start_time": "2024-03-11T12:38:32.967Z"
   },
   {
    "duration": 139,
    "start_time": "2024-03-11T12:38:40.415Z"
   },
   {
    "duration": 147,
    "start_time": "2024-03-11T12:38:48.618Z"
   },
   {
    "duration": 123,
    "start_time": "2024-03-11T12:38:56.500Z"
   },
   {
    "duration": 144,
    "start_time": "2024-03-11T12:38:59.668Z"
   },
   {
    "duration": 152,
    "start_time": "2024-03-11T12:39:05.608Z"
   },
   {
    "duration": 146,
    "start_time": "2024-03-11T12:39:36.305Z"
   },
   {
    "duration": 125,
    "start_time": "2024-03-11T12:39:41.299Z"
   },
   {
    "duration": 153,
    "start_time": "2024-03-11T12:39:44.158Z"
   },
   {
    "duration": 610,
    "start_time": "2024-03-11T12:41:08.730Z"
   },
   {
    "duration": 173,
    "start_time": "2024-03-11T12:41:09.342Z"
   },
   {
    "duration": 11,
    "start_time": "2024-03-11T12:41:09.516Z"
   },
   {
    "duration": 31,
    "start_time": "2024-03-11T12:41:09.528Z"
   },
   {
    "duration": 26,
    "start_time": "2024-03-11T12:41:09.561Z"
   },
   {
    "duration": 16,
    "start_time": "2024-03-11T12:41:09.588Z"
   },
   {
    "duration": 28,
    "start_time": "2024-03-11T12:41:09.606Z"
   },
   {
    "duration": 31,
    "start_time": "2024-03-11T12:41:09.635Z"
   },
   {
    "duration": 12,
    "start_time": "2024-03-11T12:41:09.668Z"
   },
   {
    "duration": 16,
    "start_time": "2024-03-11T12:41:09.681Z"
   },
   {
    "duration": 19,
    "start_time": "2024-03-11T12:41:09.698Z"
   },
   {
    "duration": 20,
    "start_time": "2024-03-11T12:41:09.719Z"
   },
   {
    "duration": 20,
    "start_time": "2024-03-11T12:41:09.740Z"
   },
   {
    "duration": 6,
    "start_time": "2024-03-11T12:41:09.762Z"
   },
   {
    "duration": 14,
    "start_time": "2024-03-11T12:41:09.769Z"
   },
   {
    "duration": 22,
    "start_time": "2024-03-11T12:41:09.785Z"
   },
   {
    "duration": 11,
    "start_time": "2024-03-11T12:41:09.808Z"
   },
   {
    "duration": 16,
    "start_time": "2024-03-11T12:41:09.820Z"
   },
   {
    "duration": 26,
    "start_time": "2024-03-11T12:41:09.838Z"
   },
   {
    "duration": 11,
    "start_time": "2024-03-11T12:41:09.865Z"
   },
   {
    "duration": 379,
    "start_time": "2024-03-11T12:41:09.877Z"
   },
   {
    "duration": 153,
    "start_time": "2024-03-11T12:41:41.527Z"
   },
   {
    "duration": 131,
    "start_time": "2024-03-11T12:43:02.967Z"
   },
   {
    "duration": 156,
    "start_time": "2024-03-11T12:44:35.464Z"
   },
   {
    "duration": 183,
    "start_time": "2024-03-11T12:45:10.577Z"
   },
   {
    "duration": 153,
    "start_time": "2024-03-11T12:46:25.559Z"
   },
   {
    "duration": 151,
    "start_time": "2024-03-11T12:46:32.758Z"
   },
   {
    "duration": 155,
    "start_time": "2024-03-11T12:46:38.240Z"
   },
   {
    "duration": 157,
    "start_time": "2024-03-11T12:46:49.350Z"
   },
   {
    "duration": 149,
    "start_time": "2024-03-11T12:50:32.225Z"
   },
   {
    "duration": 215,
    "start_time": "2024-03-11T12:51:34.715Z"
   },
   {
    "duration": 157,
    "start_time": "2024-03-11T12:53:05.922Z"
   },
   {
    "duration": 156,
    "start_time": "2024-03-11T12:53:16.376Z"
   },
   {
    "duration": 158,
    "start_time": "2024-03-11T12:53:20.229Z"
   },
   {
    "duration": 154,
    "start_time": "2024-03-11T12:55:42.513Z"
   },
   {
    "duration": 211,
    "start_time": "2024-03-11T12:56:00.242Z"
   },
   {
    "duration": 156,
    "start_time": "2024-03-11T12:56:14.472Z"
   },
   {
    "duration": 163,
    "start_time": "2024-03-11T12:56:24.181Z"
   },
   {
    "duration": 160,
    "start_time": "2024-03-11T12:56:36.844Z"
   },
   {
    "duration": 172,
    "start_time": "2024-03-11T12:56:42.131Z"
   },
   {
    "duration": 162,
    "start_time": "2024-03-11T12:56:56.078Z"
   },
   {
    "duration": 97,
    "start_time": "2024-03-11T12:57:13.890Z"
   },
   {
    "duration": 187,
    "start_time": "2024-03-11T12:57:18.149Z"
   },
   {
    "duration": 158,
    "start_time": "2024-03-11T12:57:24.416Z"
   },
   {
    "duration": 79,
    "start_time": "2024-03-11T12:57:30.763Z"
   },
   {
    "duration": 167,
    "start_time": "2024-03-11T12:57:35.742Z"
   },
   {
    "duration": 230,
    "start_time": "2024-03-11T12:57:40.596Z"
   },
   {
    "duration": 156,
    "start_time": "2024-03-11T12:57:52.247Z"
   },
   {
    "duration": 159,
    "start_time": "2024-03-11T12:58:04.227Z"
   },
   {
    "duration": 155,
    "start_time": "2024-03-11T12:59:48.068Z"
   },
   {
    "duration": 9,
    "start_time": "2024-03-11T13:09:46.459Z"
   },
   {
    "duration": 5,
    "start_time": "2024-03-11T13:10:17.875Z"
   },
   {
    "duration": 273,
    "start_time": "2024-03-11T13:12:02.462Z"
   },
   {
    "duration": 6,
    "start_time": "2024-03-11T13:12:53.927Z"
   },
   {
    "duration": 4,
    "start_time": "2024-03-11T13:13:00.840Z"
   },
   {
    "duration": 7,
    "start_time": "2024-03-11T13:13:01.548Z"
   },
   {
    "duration": 6,
    "start_time": "2024-03-11T13:13:15.846Z"
   },
   {
    "duration": 5,
    "start_time": "2024-03-11T13:13:45.332Z"
   },
   {
    "duration": 4,
    "start_time": "2024-03-11T13:13:52.295Z"
   },
   {
    "duration": 3,
    "start_time": "2024-03-11T13:13:54.872Z"
   },
   {
    "duration": 9,
    "start_time": "2024-03-11T13:14:10.436Z"
   },
   {
    "duration": 5,
    "start_time": "2024-03-11T13:14:24.103Z"
   },
   {
    "duration": 9,
    "start_time": "2024-03-11T13:15:18.288Z"
   },
   {
    "duration": 6,
    "start_time": "2024-03-11T13:15:26.601Z"
   },
   {
    "duration": 4,
    "start_time": "2024-03-11T13:16:12.295Z"
   },
   {
    "duration": 4,
    "start_time": "2024-03-11T13:16:18.460Z"
   },
   {
    "duration": 101,
    "start_time": "2024-03-11T13:16:39.846Z"
   },
   {
    "duration": 77,
    "start_time": "2024-03-11T13:17:00.517Z"
   },
   {
    "duration": 87,
    "start_time": "2024-03-11T13:17:08.208Z"
   },
   {
    "duration": 76,
    "start_time": "2024-03-11T13:18:18.685Z"
   },
   {
    "duration": 77,
    "start_time": "2024-03-11T13:18:30.601Z"
   },
   {
    "duration": 79,
    "start_time": "2024-03-11T13:19:28.972Z"
   },
   {
    "duration": 112,
    "start_time": "2024-03-11T13:19:33.716Z"
   },
   {
    "duration": 89,
    "start_time": "2024-03-11T13:19:52.555Z"
   },
   {
    "duration": 95,
    "start_time": "2024-03-11T13:21:34.027Z"
   },
   {
    "duration": 81,
    "start_time": "2024-03-11T13:21:37.130Z"
   },
   {
    "duration": 154,
    "start_time": "2024-03-11T13:21:41.795Z"
   },
   {
    "duration": 102,
    "start_time": "2024-03-11T13:23:29.897Z"
   },
   {
    "duration": 89,
    "start_time": "2024-03-11T13:23:33.861Z"
   },
   {
    "duration": 95,
    "start_time": "2024-03-11T13:23:52.666Z"
   },
   {
    "duration": 86,
    "start_time": "2024-03-11T13:24:05.718Z"
   },
   {
    "duration": 110,
    "start_time": "2024-03-11T13:24:17.227Z"
   },
   {
    "duration": 89,
    "start_time": "2024-03-11T13:24:26.698Z"
   },
   {
    "duration": 98,
    "start_time": "2024-03-11T13:25:03.701Z"
   },
   {
    "duration": 99,
    "start_time": "2024-03-11T13:25:08.418Z"
   },
   {
    "duration": 101,
    "start_time": "2024-03-11T13:25:15.350Z"
   },
   {
    "duration": 105,
    "start_time": "2024-03-11T13:25:18.194Z"
   },
   {
    "duration": 88,
    "start_time": "2024-03-11T13:25:21.822Z"
   },
   {
    "duration": 88,
    "start_time": "2024-03-11T13:25:33.362Z"
   },
   {
    "duration": 94,
    "start_time": "2024-03-11T13:25:51.002Z"
   },
   {
    "duration": 153,
    "start_time": "2024-03-11T13:26:47.312Z"
   },
   {
    "duration": 96,
    "start_time": "2024-03-11T13:26:57.842Z"
   },
   {
    "duration": 99,
    "start_time": "2024-03-11T13:27:27.230Z"
   },
   {
    "duration": 96,
    "start_time": "2024-03-11T13:27:35.586Z"
   },
   {
    "duration": 92,
    "start_time": "2024-03-11T13:27:55.158Z"
   },
   {
    "duration": 97,
    "start_time": "2024-03-11T13:28:00.577Z"
   },
   {
    "duration": 106,
    "start_time": "2024-03-11T13:29:04.542Z"
   },
   {
    "duration": 97,
    "start_time": "2024-03-11T13:29:12.504Z"
   },
   {
    "duration": 103,
    "start_time": "2024-03-11T13:29:23.931Z"
   },
   {
    "duration": 6,
    "start_time": "2024-03-11T13:30:37.685Z"
   },
   {
    "duration": 6,
    "start_time": "2024-03-11T13:37:28.843Z"
   },
   {
    "duration": 5,
    "start_time": "2024-03-11T13:37:41.438Z"
   },
   {
    "duration": 5,
    "start_time": "2024-03-11T13:37:51.697Z"
   },
   {
    "duration": 5,
    "start_time": "2024-03-11T13:37:58.082Z"
   },
   {
    "duration": 11,
    "start_time": "2024-03-11T13:39:26.577Z"
   },
   {
    "duration": 84,
    "start_time": "2024-03-11T13:39:53.499Z"
   },
   {
    "duration": 11,
    "start_time": "2024-03-11T13:40:01.051Z"
   },
   {
    "duration": 12,
    "start_time": "2024-03-11T13:40:21.997Z"
   },
   {
    "duration": 12,
    "start_time": "2024-03-11T13:40:34.260Z"
   },
   {
    "duration": 11,
    "start_time": "2024-03-11T13:40:39.889Z"
   },
   {
    "duration": 11,
    "start_time": "2024-03-11T13:40:54.790Z"
   },
   {
    "duration": 11,
    "start_time": "2024-03-11T13:41:06.473Z"
   },
   {
    "duration": 122,
    "start_time": "2024-03-11T13:41:32.549Z"
   },
   {
    "duration": 128,
    "start_time": "2024-03-11T13:41:45.794Z"
   },
   {
    "duration": 237,
    "start_time": "2024-03-11T13:43:15.284Z"
   },
   {
    "duration": 190,
    "start_time": "2024-03-11T13:46:23.968Z"
   },
   {
    "duration": 223,
    "start_time": "2024-03-11T13:46:40.152Z"
   },
   {
    "duration": 244,
    "start_time": "2024-03-11T13:47:03.651Z"
   },
   {
    "duration": 244,
    "start_time": "2024-03-11T13:47:15.790Z"
   },
   {
    "duration": 259,
    "start_time": "2024-03-11T13:47:26.498Z"
   },
   {
    "duration": 274,
    "start_time": "2024-03-11T13:50:22.028Z"
   },
   {
    "duration": 282,
    "start_time": "2024-03-11T13:50:32.138Z"
   },
   {
    "duration": 333,
    "start_time": "2024-03-11T13:50:47.290Z"
   },
   {
    "duration": 265,
    "start_time": "2024-03-11T13:51:44.349Z"
   },
   {
    "duration": 4,
    "start_time": "2024-03-11T13:53:08.686Z"
   },
   {
    "duration": 261,
    "start_time": "2024-03-11T13:55:47.701Z"
   },
   {
    "duration": 260,
    "start_time": "2024-03-11T13:56:08.786Z"
   },
   {
    "duration": 268,
    "start_time": "2024-03-11T13:59:18.399Z"
   },
   {
    "duration": 77,
    "start_time": "2024-03-11T13:59:23.732Z"
   },
   {
    "duration": 391,
    "start_time": "2024-03-11T13:59:30.313Z"
   },
   {
    "duration": 466,
    "start_time": "2024-03-11T13:59:38.657Z"
   },
   {
    "duration": 295,
    "start_time": "2024-03-11T13:59:44.359Z"
   },
   {
    "duration": 296,
    "start_time": "2024-03-11T13:59:56.688Z"
   },
   {
    "duration": 277,
    "start_time": "2024-03-11T14:00:01.639Z"
   },
   {
    "duration": 269,
    "start_time": "2024-03-11T14:00:16.677Z"
   },
   {
    "duration": 281,
    "start_time": "2024-03-11T14:00:26.503Z"
   },
   {
    "duration": 376,
    "start_time": "2024-03-11T14:00:38.132Z"
   },
   {
    "duration": 316,
    "start_time": "2024-03-11T14:01:04.593Z"
   },
   {
    "duration": 291,
    "start_time": "2024-03-11T14:01:15.300Z"
   },
   {
    "duration": 279,
    "start_time": "2024-03-11T14:01:23.960Z"
   },
   {
    "duration": 291,
    "start_time": "2024-03-11T14:01:28.985Z"
   },
   {
    "duration": 309,
    "start_time": "2024-03-11T14:01:35.260Z"
   },
   {
    "duration": 388,
    "start_time": "2024-03-11T14:01:41.775Z"
   },
   {
    "duration": 314,
    "start_time": "2024-03-11T14:01:51.491Z"
   },
   {
    "duration": 313,
    "start_time": "2024-03-11T14:01:55.433Z"
   },
   {
    "duration": 297,
    "start_time": "2024-03-11T14:01:59.373Z"
   },
   {
    "duration": 298,
    "start_time": "2024-03-11T14:02:07.983Z"
   },
   {
    "duration": 302,
    "start_time": "2024-03-11T14:02:31.495Z"
   },
   {
    "duration": 372,
    "start_time": "2024-03-11T14:02:45.575Z"
   },
   {
    "duration": 302,
    "start_time": "2024-03-11T14:02:51.889Z"
   },
   {
    "duration": 281,
    "start_time": "2024-03-11T14:02:58.723Z"
   },
   {
    "duration": 318,
    "start_time": "2024-03-11T14:03:13.944Z"
   },
   {
    "duration": 296,
    "start_time": "2024-03-11T14:03:22.316Z"
   },
   {
    "duration": 281,
    "start_time": "2024-03-11T14:03:26.610Z"
   },
   {
    "duration": 364,
    "start_time": "2024-03-11T14:03:32.239Z"
   },
   {
    "duration": 314,
    "start_time": "2024-03-11T14:03:37.020Z"
   },
   {
    "duration": 288,
    "start_time": "2024-03-11T14:03:41.406Z"
   },
   {
    "duration": 286,
    "start_time": "2024-03-11T14:03:45.318Z"
   },
   {
    "duration": 287,
    "start_time": "2024-03-11T14:03:51.832Z"
   },
   {
    "duration": 304,
    "start_time": "2024-03-11T14:03:55.447Z"
   },
   {
    "duration": 366,
    "start_time": "2024-03-11T14:04:00.247Z"
   },
   {
    "duration": 293,
    "start_time": "2024-03-11T14:04:06.366Z"
   },
   {
    "duration": 293,
    "start_time": "2024-03-11T14:04:31.847Z"
   },
   {
    "duration": 290,
    "start_time": "2024-03-11T14:04:38.304Z"
   },
   {
    "duration": 292,
    "start_time": "2024-03-11T14:04:50.053Z"
   },
   {
    "duration": 289,
    "start_time": "2024-03-11T14:04:57.404Z"
   },
   {
    "duration": 355,
    "start_time": "2024-03-11T14:05:03.791Z"
   },
   {
    "duration": 307,
    "start_time": "2024-03-11T14:06:07.034Z"
   },
   {
    "duration": 284,
    "start_time": "2024-03-11T14:06:48.387Z"
   },
   {
    "duration": 293,
    "start_time": "2024-03-11T14:07:06.567Z"
   },
   {
    "duration": 286,
    "start_time": "2024-03-11T14:14:35.408Z"
   },
   {
    "duration": 4,
    "start_time": "2024-03-11T14:15:08.017Z"
   },
   {
    "duration": 7,
    "start_time": "2024-03-11T14:17:46.172Z"
   },
   {
    "duration": 11,
    "start_time": "2024-03-11T14:18:25.624Z"
   },
   {
    "duration": 6,
    "start_time": "2024-03-11T14:18:31.675Z"
   },
   {
    "duration": 5,
    "start_time": "2024-03-11T14:18:42.542Z"
   },
   {
    "duration": 7,
    "start_time": "2024-03-11T14:19:13.199Z"
   },
   {
    "duration": 4,
    "start_time": "2024-03-11T14:19:23.332Z"
   },
   {
    "duration": 4,
    "start_time": "2024-03-11T14:21:15.155Z"
   },
   {
    "duration": 9,
    "start_time": "2024-03-11T14:21:31.932Z"
   },
   {
    "duration": 131,
    "start_time": "2024-03-11T14:22:57.416Z"
   },
   {
    "duration": 192,
    "start_time": "2024-03-11T14:23:16.683Z"
   },
   {
    "duration": 140,
    "start_time": "2024-03-11T14:23:44.589Z"
   },
   {
    "duration": 1322,
    "start_time": "2024-03-11T14:24:09.260Z"
   },
   {
    "duration": 1046,
    "start_time": "2024-03-11T14:24:25.671Z"
   },
   {
    "duration": 383,
    "start_time": "2024-03-11T14:24:31.602Z"
   },
   {
    "duration": 230,
    "start_time": "2024-03-11T14:25:02.002Z"
   },
   {
    "duration": 275,
    "start_time": "2024-03-11T14:25:09.535Z"
   },
   {
    "duration": 522,
    "start_time": "2024-03-11T14:25:15.931Z"
   },
   {
    "duration": 343,
    "start_time": "2024-03-11T14:28:34.213Z"
   },
   {
    "duration": 349,
    "start_time": "2024-03-11T14:28:57.877Z"
   },
   {
    "duration": 357,
    "start_time": "2024-03-11T14:29:06.474Z"
   },
   {
    "duration": 277,
    "start_time": "2024-03-11T14:29:25.087Z"
   },
   {
    "duration": 4,
    "start_time": "2024-03-11T14:29:26.977Z"
   },
   {
    "duration": 502,
    "start_time": "2024-03-11T14:29:39.681Z"
   },
   {
    "duration": 353,
    "start_time": "2024-03-11T14:29:52.719Z"
   },
   {
    "duration": 349,
    "start_time": "2024-03-11T14:30:06.725Z"
   },
   {
    "duration": 378,
    "start_time": "2024-03-11T14:30:19.155Z"
   },
   {
    "duration": 5,
    "start_time": "2024-03-11T14:31:53.243Z"
   },
   {
    "duration": 7,
    "start_time": "2024-03-11T14:33:28.338Z"
   },
   {
    "duration": 5,
    "start_time": "2024-03-11T14:33:29.329Z"
   },
   {
    "duration": 14,
    "start_time": "2024-03-11T14:35:22.251Z"
   },
   {
    "duration": 489,
    "start_time": "2024-03-11T14:35:30.302Z"
   },
   {
    "duration": 9,
    "start_time": "2024-03-11T14:35:50.760Z"
   },
   {
    "duration": 578,
    "start_time": "2024-03-11T14:35:58.764Z"
   },
   {
    "duration": 8,
    "start_time": "2024-03-11T14:36:20.344Z"
   },
   {
    "duration": 13,
    "start_time": "2024-03-11T14:36:25.632Z"
   },
   {
    "duration": 396,
    "start_time": "2024-03-11T14:44:55.732Z"
   },
   {
    "duration": 7,
    "start_time": "2024-03-11T14:44:56.960Z"
   },
   {
    "duration": 5,
    "start_time": "2024-03-11T14:45:40.019Z"
   },
   {
    "duration": 4,
    "start_time": "2024-03-11T14:46:04.195Z"
   },
   {
    "duration": 11,
    "start_time": "2024-03-11T14:46:21.040Z"
   },
   {
    "duration": 422,
    "start_time": "2024-03-11T14:47:06.639Z"
   },
   {
    "duration": 117,
    "start_time": "2024-03-11T14:47:17.839Z"
   },
   {
    "duration": 14,
    "start_time": "2024-03-11T14:48:01.817Z"
   },
   {
    "duration": 1066,
    "start_time": "2024-03-11T14:48:17.288Z"
   },
   {
    "duration": 75,
    "start_time": "2024-03-11T14:48:36.720Z"
   },
   {
    "duration": 198,
    "start_time": "2024-03-11T14:48:42.874Z"
   },
   {
    "duration": 122,
    "start_time": "2024-03-11T14:48:50.848Z"
   },
   {
    "duration": 125,
    "start_time": "2024-03-11T14:49:25.959Z"
   },
   {
    "duration": 122,
    "start_time": "2024-03-11T14:49:39.900Z"
   },
   {
    "duration": 111,
    "start_time": "2024-03-11T14:49:54.823Z"
   },
   {
    "duration": 172,
    "start_time": "2024-03-11T14:50:04.259Z"
   },
   {
    "duration": 176,
    "start_time": "2024-03-11T14:50:09.460Z"
   },
   {
    "duration": 211,
    "start_time": "2024-03-11T14:50:28.995Z"
   },
   {
    "duration": 691,
    "start_time": "2024-03-11T14:50:53.100Z"
   },
   {
    "duration": 594,
    "start_time": "2024-03-11T14:51:09.168Z"
   },
   {
    "duration": 383,
    "start_time": "2024-03-11T14:52:02.052Z"
   },
   {
    "duration": 201,
    "start_time": "2024-03-11T14:52:10.065Z"
   },
   {
    "duration": 193,
    "start_time": "2024-03-11T14:52:32.084Z"
   },
   {
    "duration": 198,
    "start_time": "2024-03-11T14:53:05.089Z"
   },
   {
    "duration": 188,
    "start_time": "2024-03-11T14:54:05.102Z"
   },
   {
    "duration": 187,
    "start_time": "2024-03-11T14:55:08.229Z"
   },
   {
    "duration": 180,
    "start_time": "2024-03-11T14:58:28.822Z"
   },
   {
    "duration": 193,
    "start_time": "2024-03-11T14:58:34.610Z"
   },
   {
    "duration": 194,
    "start_time": "2024-03-11T14:58:37.843Z"
   },
   {
    "duration": 206,
    "start_time": "2024-03-11T14:59:59.898Z"
   },
   {
    "duration": 182,
    "start_time": "2024-03-11T15:00:05.708Z"
   },
   {
    "duration": 10,
    "start_time": "2024-03-11T15:04:24.335Z"
   },
   {
    "duration": 353,
    "start_time": "2024-03-11T15:04:40.151Z"
   },
   {
    "duration": 116,
    "start_time": "2024-03-11T15:04:59.207Z"
   },
   {
    "duration": 683,
    "start_time": "2024-03-11T15:05:12.592Z"
   },
   {
    "duration": 173,
    "start_time": "2024-03-11T15:05:39.619Z"
   },
   {
    "duration": 151,
    "start_time": "2024-03-11T15:05:50.550Z"
   },
   {
    "duration": 3,
    "start_time": "2024-03-11T15:06:13.230Z"
   },
   {
    "duration": 5,
    "start_time": "2024-03-11T15:06:25.683Z"
   },
   {
    "duration": 158,
    "start_time": "2024-03-11T15:06:36.364Z"
   },
   {
    "duration": 150,
    "start_time": "2024-03-11T15:06:53.362Z"
   },
   {
    "duration": 177,
    "start_time": "2024-03-11T15:06:59.635Z"
   },
   {
    "duration": 166,
    "start_time": "2024-03-11T15:07:07.789Z"
   },
   {
    "duration": 171,
    "start_time": "2024-03-11T15:11:50.710Z"
   },
   {
    "duration": 5,
    "start_time": "2024-03-11T15:12:18.631Z"
   },
   {
    "duration": 8,
    "start_time": "2024-03-11T15:15:10.087Z"
   },
   {
    "duration": 23,
    "start_time": "2024-03-11T15:36:28.002Z"
   },
   {
    "duration": 2,
    "start_time": "2024-03-11T15:38:22.241Z"
   },
   {
    "duration": 10,
    "start_time": "2024-03-11T15:38:31.674Z"
   },
   {
    "duration": 31,
    "start_time": "2024-03-11T15:38:56.528Z"
   },
   {
    "duration": 15,
    "start_time": "2024-03-11T15:39:35.861Z"
   },
   {
    "duration": 16,
    "start_time": "2024-03-11T15:39:51.062Z"
   },
   {
    "duration": 23,
    "start_time": "2024-03-11T15:39:53.565Z"
   },
   {
    "duration": 9,
    "start_time": "2024-03-11T15:40:02.555Z"
   },
   {
    "duration": 23,
    "start_time": "2024-03-11T15:40:04.052Z"
   },
   {
    "duration": 9,
    "start_time": "2024-03-11T15:40:23.147Z"
   },
   {
    "duration": 12,
    "start_time": "2024-03-11T15:41:22.743Z"
   },
   {
    "duration": 10,
    "start_time": "2024-03-11T15:42:04.801Z"
   },
   {
    "duration": 11,
    "start_time": "2024-03-11T15:42:20.100Z"
   },
   {
    "duration": 15,
    "start_time": "2024-03-11T15:42:37.980Z"
   },
   {
    "duration": 18,
    "start_time": "2024-03-11T15:42:45.173Z"
   },
   {
    "duration": 3,
    "start_time": "2024-03-11T15:48:16.344Z"
   },
   {
    "duration": 5,
    "start_time": "2024-03-11T15:52:07.563Z"
   },
   {
    "duration": 11,
    "start_time": "2024-03-11T15:52:11.911Z"
   },
   {
    "duration": 15,
    "start_time": "2024-03-11T15:52:54.187Z"
   },
   {
    "duration": 15,
    "start_time": "2024-03-11T15:52:59.410Z"
   },
   {
    "duration": 12,
    "start_time": "2024-03-11T15:53:02.728Z"
   },
   {
    "duration": 3,
    "start_time": "2024-03-11T15:53:07.936Z"
   },
   {
    "duration": 10,
    "start_time": "2024-03-11T15:53:08.385Z"
   },
   {
    "duration": 9,
    "start_time": "2024-03-11T15:53:08.831Z"
   },
   {
    "duration": 8,
    "start_time": "2024-03-11T15:53:09.289Z"
   },
   {
    "duration": 12,
    "start_time": "2024-03-11T15:53:09.976Z"
   },
   {
    "duration": 18,
    "start_time": "2024-03-11T15:53:10.614Z"
   },
   {
    "duration": 8,
    "start_time": "2024-03-11T15:53:45.349Z"
   },
   {
    "duration": 18,
    "start_time": "2024-03-11T15:53:47.636Z"
   },
   {
    "duration": 6,
    "start_time": "2024-03-11T15:54:05.564Z"
   },
   {
    "duration": 6,
    "start_time": "2024-03-11T15:54:10.371Z"
   },
   {
    "duration": 18,
    "start_time": "2024-03-11T15:54:11.597Z"
   },
   {
    "duration": 5,
    "start_time": "2024-03-11T15:55:30.625Z"
   },
   {
    "duration": 16,
    "start_time": "2024-03-11T15:55:30.796Z"
   },
   {
    "duration": 5,
    "start_time": "2024-03-11T15:55:30.953Z"
   },
   {
    "duration": 18,
    "start_time": "2024-03-11T15:55:31.094Z"
   },
   {
    "duration": 17,
    "start_time": "2024-03-11T15:55:37.378Z"
   },
   {
    "duration": 3,
    "start_time": "2024-03-11T15:57:17.881Z"
   },
   {
    "duration": 16,
    "start_time": "2024-03-11T15:57:18.292Z"
   },
   {
    "duration": 10,
    "start_time": "2024-03-11T15:57:18.745Z"
   },
   {
    "duration": 8,
    "start_time": "2024-03-11T15:57:19.158Z"
   },
   {
    "duration": 11,
    "start_time": "2024-03-11T15:57:19.719Z"
   },
   {
    "duration": 17,
    "start_time": "2024-03-11T15:57:20.303Z"
   },
   {
    "duration": 7,
    "start_time": "2024-03-11T15:57:21.493Z"
   },
   {
    "duration": 17,
    "start_time": "2024-03-11T15:57:22.048Z"
   },
   {
    "duration": 6,
    "start_time": "2024-03-11T15:57:22.711Z"
   },
   {
    "duration": 17,
    "start_time": "2024-03-11T15:57:23.431Z"
   },
   {
    "duration": 105,
    "start_time": "2024-03-11T16:05:57.004Z"
   },
   {
    "duration": 119,
    "start_time": "2024-03-11T16:06:24.658Z"
   },
   {
    "duration": 221,
    "start_time": "2024-03-11T16:06:33.068Z"
   },
   {
    "duration": 233,
    "start_time": "2024-03-11T16:07:43.053Z"
   },
   {
    "duration": 161,
    "start_time": "2024-03-11T16:07:51.094Z"
   },
   {
    "duration": 164,
    "start_time": "2024-03-11T16:08:02.273Z"
   },
   {
    "duration": 156,
    "start_time": "2024-03-11T16:08:06.564Z"
   },
   {
    "duration": 255,
    "start_time": "2024-03-11T16:17:47.343Z"
   },
   {
    "duration": 538,
    "start_time": "2024-03-11T16:18:01.519Z"
   },
   {
    "duration": 233,
    "start_time": "2024-03-11T16:18:22.993Z"
   },
   {
    "duration": 185,
    "start_time": "2024-03-11T16:18:47.829Z"
   },
   {
    "duration": 300,
    "start_time": "2024-03-11T16:19:10.887Z"
   },
   {
    "duration": 8,
    "start_time": "2024-03-11T16:20:21.042Z"
   },
   {
    "duration": 7,
    "start_time": "2024-03-11T16:20:47.028Z"
   },
   {
    "duration": 4,
    "start_time": "2024-03-11T16:21:09.610Z"
   },
   {
    "duration": 312,
    "start_time": "2024-03-11T16:22:36.250Z"
   },
   {
    "duration": 8,
    "start_time": "2024-03-11T16:23:52.954Z"
   },
   {
    "duration": 7,
    "start_time": "2024-03-11T16:24:13.628Z"
   },
   {
    "duration": 189,
    "start_time": "2024-03-11T16:24:14.117Z"
   },
   {
    "duration": 8,
    "start_time": "2024-03-11T16:24:30.946Z"
   },
   {
    "duration": 6,
    "start_time": "2024-03-11T16:24:44.348Z"
   },
   {
    "duration": 3,
    "start_time": "2024-03-11T16:30:36.296Z"
   },
   {
    "duration": 4,
    "start_time": "2024-03-11T16:30:43.680Z"
   },
   {
    "duration": 173,
    "start_time": "2024-03-11T16:36:24.994Z"
   },
   {
    "duration": 436,
    "start_time": "2024-03-11T16:36:55.512Z"
   },
   {
    "duration": 446,
    "start_time": "2024-03-11T16:37:06.974Z"
   },
   {
    "duration": 448,
    "start_time": "2024-03-11T16:37:21.239Z"
   },
   {
    "duration": 791,
    "start_time": "2024-03-11T16:37:41.234Z"
   },
   {
    "duration": 446,
    "start_time": "2024-03-11T16:38:12.454Z"
   },
   {
    "duration": 335,
    "start_time": "2024-03-11T16:38:38.834Z"
   },
   {
    "duration": 349,
    "start_time": "2024-03-11T16:38:51.660Z"
   },
   {
    "duration": 346,
    "start_time": "2024-03-11T16:39:02.322Z"
   },
   {
    "duration": 341,
    "start_time": "2024-03-11T16:39:12.631Z"
   },
   {
    "duration": 401,
    "start_time": "2024-03-11T16:39:25.354Z"
   },
   {
    "duration": 341,
    "start_time": "2024-03-11T16:40:51.532Z"
   },
   {
    "duration": 358,
    "start_time": "2024-03-11T16:40:56.242Z"
   },
   {
    "duration": 760,
    "start_time": "2024-03-11T16:41:01.782Z"
   },
   {
    "duration": 365,
    "start_time": "2024-03-11T16:41:09.058Z"
   },
   {
    "duration": 359,
    "start_time": "2024-03-11T16:41:12.684Z"
   },
   {
    "duration": 375,
    "start_time": "2024-03-11T16:41:36.002Z"
   },
   {
    "duration": 360,
    "start_time": "2024-03-11T16:41:42.434Z"
   },
   {
    "duration": 370,
    "start_time": "2024-03-11T16:41:48.364Z"
   },
   {
    "duration": 254,
    "start_time": "2024-03-11T16:45:17.641Z"
   },
   {
    "duration": 245,
    "start_time": "2024-03-11T16:45:31.151Z"
   },
   {
    "duration": 237,
    "start_time": "2024-03-11T16:45:34.835Z"
   },
   {
    "duration": 253,
    "start_time": "2024-03-11T16:46:20.484Z"
   },
   {
    "duration": 12,
    "start_time": "2024-03-11T16:47:27.149Z"
   },
   {
    "duration": 11,
    "start_time": "2024-03-11T16:47:31.038Z"
   },
   {
    "duration": 10,
    "start_time": "2024-03-11T16:47:39.823Z"
   },
   {
    "duration": 364,
    "start_time": "2024-03-11T16:47:50.716Z"
   },
   {
    "duration": 864,
    "start_time": "2024-03-11T16:48:05.435Z"
   },
   {
    "duration": 454,
    "start_time": "2024-03-11T16:48:20.387Z"
   },
   {
    "duration": 449,
    "start_time": "2024-03-11T16:48:53.181Z"
   },
   {
    "duration": 461,
    "start_time": "2024-03-11T16:49:12.849Z"
   },
   {
    "duration": 413,
    "start_time": "2024-03-11T16:49:34.425Z"
   },
   {
    "duration": 449,
    "start_time": "2024-03-11T16:49:44.592Z"
   },
   {
    "duration": 415,
    "start_time": "2024-03-11T16:49:52.169Z"
   },
   {
    "duration": 433,
    "start_time": "2024-03-11T16:50:44.118Z"
   },
   {
    "duration": 281,
    "start_time": "2024-03-11T16:50:56.925Z"
   },
   {
    "duration": 674,
    "start_time": "2024-03-11T16:51:22.452Z"
   },
   {
    "duration": 398,
    "start_time": "2024-03-11T16:51:57.563Z"
   },
   {
    "duration": 437,
    "start_time": "2024-03-11T16:52:02.957Z"
   },
   {
    "duration": 5,
    "start_time": "2024-03-11T17:04:37.110Z"
   },
   {
    "duration": 4,
    "start_time": "2024-03-11T17:04:54.915Z"
   },
   {
    "duration": 16,
    "start_time": "2024-03-11T17:18:03.330Z"
   },
   {
    "duration": 6,
    "start_time": "2024-03-11T17:19:55.783Z"
   },
   {
    "duration": 590,
    "start_time": "2024-03-11T17:28:41.165Z"
   },
   {
    "duration": 352,
    "start_time": "2024-03-11T17:28:41.757Z"
   },
   {
    "duration": 11,
    "start_time": "2024-03-11T17:28:42.110Z"
   },
   {
    "duration": 9,
    "start_time": "2024-03-11T17:28:42.123Z"
   },
   {
    "duration": 13,
    "start_time": "2024-03-11T17:28:42.133Z"
   },
   {
    "duration": 10,
    "start_time": "2024-03-11T17:28:42.147Z"
   },
   {
    "duration": 12,
    "start_time": "2024-03-11T17:28:42.159Z"
   },
   {
    "duration": 10,
    "start_time": "2024-03-11T17:28:42.172Z"
   },
   {
    "duration": 4,
    "start_time": "2024-03-11T17:28:42.183Z"
   },
   {
    "duration": 13,
    "start_time": "2024-03-11T17:28:42.190Z"
   },
   {
    "duration": 8,
    "start_time": "2024-03-11T17:28:42.204Z"
   },
   {
    "duration": 3,
    "start_time": "2024-03-11T17:28:42.214Z"
   },
   {
    "duration": 26,
    "start_time": "2024-03-11T17:28:42.219Z"
   },
   {
    "duration": 5,
    "start_time": "2024-03-11T17:28:42.247Z"
   },
   {
    "duration": 6,
    "start_time": "2024-03-11T17:28:42.254Z"
   },
   {
    "duration": 8,
    "start_time": "2024-03-11T17:28:42.261Z"
   },
   {
    "duration": 8,
    "start_time": "2024-03-11T17:28:42.270Z"
   },
   {
    "duration": 3,
    "start_time": "2024-03-11T17:28:42.279Z"
   },
   {
    "duration": 5,
    "start_time": "2024-03-11T17:28:42.283Z"
   },
   {
    "duration": 4,
    "start_time": "2024-03-11T17:28:42.289Z"
   },
   {
    "duration": 205,
    "start_time": "2024-03-11T17:28:42.295Z"
   },
   {
    "duration": 97,
    "start_time": "2024-03-11T17:28:42.501Z"
   },
   {
    "duration": 4,
    "start_time": "2024-03-11T17:28:42.599Z"
   },
   {
    "duration": 286,
    "start_time": "2024-03-11T17:28:42.604Z"
   },
   {
    "duration": 4,
    "start_time": "2024-03-11T17:28:42.891Z"
   },
   {
    "duration": 460,
    "start_time": "2024-03-11T17:28:42.897Z"
   },
   {
    "duration": 8,
    "start_time": "2024-03-11T17:28:43.359Z"
   },
   {
    "duration": 3,
    "start_time": "2024-03-11T17:28:43.370Z"
   },
   {
    "duration": 206,
    "start_time": "2024-03-11T17:28:43.374Z"
   },
   {
    "duration": 4,
    "start_time": "2024-03-11T17:28:43.582Z"
   },
   {
    "duration": 182,
    "start_time": "2024-03-11T17:28:43.588Z"
   },
   {
    "duration": 4,
    "start_time": "2024-03-11T17:28:43.771Z"
   },
   {
    "duration": 10,
    "start_time": "2024-03-11T17:28:43.776Z"
   },
   {
    "duration": 3,
    "start_time": "2024-03-11T17:28:43.787Z"
   },
   {
    "duration": 20,
    "start_time": "2024-03-11T17:28:43.791Z"
   },
   {
    "duration": 13,
    "start_time": "2024-03-11T17:28:43.812Z"
   },
   {
    "duration": 19,
    "start_time": "2024-03-11T17:28:43.826Z"
   },
   {
    "duration": 12,
    "start_time": "2024-03-11T17:28:43.847Z"
   },
   {
    "duration": 18,
    "start_time": "2024-03-11T17:28:43.860Z"
   },
   {
    "duration": 7,
    "start_time": "2024-03-11T17:28:43.879Z"
   },
   {
    "duration": 16,
    "start_time": "2024-03-11T17:28:43.887Z"
   },
   {
    "duration": 6,
    "start_time": "2024-03-11T17:28:43.904Z"
   },
   {
    "duration": 52,
    "start_time": "2024-03-11T17:28:43.911Z"
   },
   {
    "duration": 3,
    "start_time": "2024-03-11T17:28:43.965Z"
   },
   {
    "duration": 308,
    "start_time": "2024-03-11T17:28:43.969Z"
   },
   {
    "duration": 7,
    "start_time": "2024-03-11T17:28:44.278Z"
   },
   {
    "duration": 180,
    "start_time": "2024-03-11T17:28:44.287Z"
   },
   {
    "duration": 4,
    "start_time": "2024-03-11T17:28:44.469Z"
   },
   {
    "duration": 8,
    "start_time": "2024-03-11T17:28:44.474Z"
   },
   {
    "duration": 4,
    "start_time": "2024-03-11T17:28:44.483Z"
   },
   {
    "duration": 362,
    "start_time": "2024-03-11T17:28:44.488Z"
   },
   {
    "duration": 7,
    "start_time": "2024-03-11T17:28:44.851Z"
   },
   {
    "duration": 186,
    "start_time": "2024-03-11T17:28:44.860Z"
   },
   {
    "duration": 7,
    "start_time": "2024-03-11T17:28:45.047Z"
   },
   {
    "duration": 118,
    "start_time": "2024-03-11T17:28:45.055Z"
   },
   {
    "duration": 523,
    "start_time": "2024-03-11T17:28:45.175Z"
   },
   {
    "duration": 288,
    "start_time": "2024-03-11T17:28:45.700Z"
   },
   {
    "duration": 7,
    "start_time": "2024-03-11T17:28:45.989Z"
   },
   {
    "duration": 21,
    "start_time": "2024-03-11T17:28:45.997Z"
   },
   {
    "duration": 3,
    "start_time": "2024-03-11T17:41:19.194Z"
   },
   {
    "duration": 76,
    "start_time": "2024-03-11T17:41:30.270Z"
   },
   {
    "duration": 87,
    "start_time": "2024-03-11T17:41:45.085Z"
   },
   {
    "duration": 74,
    "start_time": "2024-03-11T17:41:55.994Z"
   },
   {
    "duration": 21,
    "start_time": "2024-03-11T17:42:31.808Z"
   },
   {
    "duration": 68,
    "start_time": "2024-03-11T17:42:54.763Z"
   },
   {
    "duration": 3,
    "start_time": "2024-03-11T17:43:19.598Z"
   },
   {
    "duration": 23,
    "start_time": "2024-03-11T17:43:25.304Z"
   },
   {
    "duration": 15,
    "start_time": "2024-03-11T17:43:30.807Z"
   },
   {
    "duration": 1118,
    "start_time": "2024-03-11T17:44:39.102Z"
   },
   {
    "duration": 1182,
    "start_time": "2024-03-11T17:44:45.777Z"
   },
   {
    "duration": 21,
    "start_time": "2024-03-11T17:44:55.123Z"
   },
   {
    "duration": 1125,
    "start_time": "2024-03-11T17:44:55.685Z"
   },
   {
    "duration": 14,
    "start_time": "2024-03-11T17:45:06.911Z"
   },
   {
    "duration": 3,
    "start_time": "2024-03-11T17:48:03.568Z"
   },
   {
    "duration": 12,
    "start_time": "2024-03-11T17:48:09.967Z"
   },
   {
    "duration": 11,
    "start_time": "2024-03-11T17:48:24.686Z"
   },
   {
    "duration": 3,
    "start_time": "2024-03-11T17:50:42.297Z"
   },
   {
    "duration": 21,
    "start_time": "2024-03-11T17:50:46.232Z"
   },
   {
    "duration": 3,
    "start_time": "2024-03-11T17:50:46.628Z"
   },
   {
    "duration": 10,
    "start_time": "2024-03-11T17:50:47.091Z"
   },
   {
    "duration": 9,
    "start_time": "2024-03-11T17:51:01.817Z"
   },
   {
    "duration": 35,
    "start_time": "2024-03-11T17:58:40.083Z"
   },
   {
    "duration": 274,
    "start_time": "2024-03-11T17:58:40.580Z"
   },
   {
    "duration": 11,
    "start_time": "2024-03-11T17:58:41.096Z"
   },
   {
    "duration": 35,
    "start_time": "2024-03-11T17:59:09.669Z"
   },
   {
    "duration": 3,
    "start_time": "2024-03-11T17:59:10.106Z"
   },
   {
    "duration": 34,
    "start_time": "2024-03-11T17:59:35.650Z"
   },
   {
    "duration": 89,
    "start_time": "2024-03-11T17:59:36.154Z"
   },
   {
    "duration": 66,
    "start_time": "2024-03-11T17:59:47.648Z"
   },
   {
    "duration": 2,
    "start_time": "2024-03-11T18:00:03.804Z"
   },
   {
    "duration": 9,
    "start_time": "2024-03-11T18:00:04.655Z"
   },
   {
    "duration": 10,
    "start_time": "2024-03-11T18:00:19.938Z"
   },
   {
    "duration": 3,
    "start_time": "2024-03-11T18:04:11.746Z"
   },
   {
    "duration": 10,
    "start_time": "2024-03-11T18:04:12.827Z"
   },
   {
    "duration": 35,
    "start_time": "2024-03-11T18:04:15.730Z"
   },
   {
    "duration": 3,
    "start_time": "2024-03-11T18:04:16.162Z"
   },
   {
    "duration": 10,
    "start_time": "2024-03-11T18:04:16.652Z"
   },
   {
    "duration": 10,
    "start_time": "2024-03-11T18:08:47.329Z"
   },
   {
    "duration": 74,
    "start_time": "2024-03-11T18:22:33.403Z"
   },
   {
    "duration": 4,
    "start_time": "2024-03-11T18:22:44.807Z"
   },
   {
    "duration": 11,
    "start_time": "2024-03-11T18:22:52.713Z"
   },
   {
    "duration": 9,
    "start_time": "2024-03-11T18:23:08.014Z"
   },
   {
    "duration": 5,
    "start_time": "2024-03-11T18:25:37.724Z"
   },
   {
    "duration": 9,
    "start_time": "2024-03-11T18:25:38.249Z"
   },
   {
    "duration": 5,
    "start_time": "2024-03-11T18:25:57.982Z"
   },
   {
    "duration": 901,
    "start_time": "2024-03-11T22:07:15.117Z"
   },
   {
    "duration": 334,
    "start_time": "2024-03-11T22:07:16.020Z"
   },
   {
    "duration": 15,
    "start_time": "2024-03-11T22:07:16.356Z"
   },
   {
    "duration": 13,
    "start_time": "2024-03-11T22:07:16.373Z"
   },
   {
    "duration": 12,
    "start_time": "2024-03-11T22:07:16.389Z"
   },
   {
    "duration": 35,
    "start_time": "2024-03-11T22:07:16.403Z"
   },
   {
    "duration": 8,
    "start_time": "2024-03-11T22:07:16.440Z"
   },
   {
    "duration": 13,
    "start_time": "2024-03-11T22:07:16.449Z"
   },
   {
    "duration": 15,
    "start_time": "2024-03-11T22:07:16.464Z"
   },
   {
    "duration": 24,
    "start_time": "2024-03-11T22:07:16.481Z"
   },
   {
    "duration": 10,
    "start_time": "2024-03-11T22:07:16.507Z"
   },
   {
    "duration": 16,
    "start_time": "2024-03-11T22:07:16.523Z"
   },
   {
    "duration": 5,
    "start_time": "2024-03-11T22:07:16.541Z"
   },
   {
    "duration": 23,
    "start_time": "2024-03-11T22:07:16.549Z"
   },
   {
    "duration": 9,
    "start_time": "2024-03-11T22:07:16.574Z"
   },
   {
    "duration": 14,
    "start_time": "2024-03-11T22:07:16.584Z"
   },
   {
    "duration": 40,
    "start_time": "2024-03-11T22:07:16.599Z"
   },
   {
    "duration": 5,
    "start_time": "2024-03-11T22:07:16.641Z"
   },
   {
    "duration": 6,
    "start_time": "2024-03-11T22:07:16.647Z"
   },
   {
    "duration": 5,
    "start_time": "2024-03-11T22:07:16.655Z"
   },
   {
    "duration": 213,
    "start_time": "2024-03-11T22:07:16.662Z"
   },
   {
    "duration": 124,
    "start_time": "2024-03-11T22:07:16.877Z"
   },
   {
    "duration": 6,
    "start_time": "2024-03-11T22:07:17.003Z"
   },
   {
    "duration": 345,
    "start_time": "2024-03-11T22:07:17.010Z"
   },
   {
    "duration": 5,
    "start_time": "2024-03-11T22:07:17.357Z"
   },
   {
    "duration": 566,
    "start_time": "2024-03-11T22:07:17.363Z"
   },
   {
    "duration": 10,
    "start_time": "2024-03-11T22:07:17.931Z"
   },
   {
    "duration": 7,
    "start_time": "2024-03-11T22:07:17.943Z"
   },
   {
    "duration": 259,
    "start_time": "2024-03-11T22:07:17.952Z"
   },
   {
    "duration": 5,
    "start_time": "2024-03-11T22:07:18.222Z"
   },
   {
    "duration": 205,
    "start_time": "2024-03-11T22:07:18.228Z"
   },
   {
    "duration": 4,
    "start_time": "2024-03-11T22:07:18.435Z"
   },
   {
    "duration": 9,
    "start_time": "2024-03-11T22:07:18.440Z"
   },
   {
    "duration": 3,
    "start_time": "2024-03-11T22:07:18.450Z"
   },
   {
    "duration": 12,
    "start_time": "2024-03-11T22:07:18.455Z"
   },
   {
    "duration": 10,
    "start_time": "2024-03-11T22:07:18.469Z"
   },
   {
    "duration": 42,
    "start_time": "2024-03-11T22:07:18.481Z"
   },
   {
    "duration": 15,
    "start_time": "2024-03-11T22:07:18.525Z"
   },
   {
    "duration": 21,
    "start_time": "2024-03-11T22:07:18.541Z"
   },
   {
    "duration": 8,
    "start_time": "2024-03-11T22:07:18.563Z"
   },
   {
    "duration": 19,
    "start_time": "2024-03-11T22:07:18.575Z"
   },
   {
    "duration": 8,
    "start_time": "2024-03-11T22:07:18.622Z"
   },
   {
    "duration": 23,
    "start_time": "2024-03-11T22:07:18.632Z"
   },
   {
    "duration": 4,
    "start_time": "2024-03-11T22:07:18.657Z"
   },
   {
    "duration": 365,
    "start_time": "2024-03-11T22:07:18.662Z"
   },
   {
    "duration": 8,
    "start_time": "2024-03-11T22:07:19.029Z"
   },
   {
    "duration": 215,
    "start_time": "2024-03-11T22:07:19.039Z"
   },
   {
    "duration": 4,
    "start_time": "2024-03-11T22:07:19.256Z"
   },
   {
    "duration": 9,
    "start_time": "2024-03-11T22:07:19.262Z"
   },
   {
    "duration": 20,
    "start_time": "2024-03-11T22:07:19.273Z"
   },
   {
    "duration": 451,
    "start_time": "2024-03-11T22:07:19.295Z"
   },
   {
    "duration": 8,
    "start_time": "2024-03-11T22:07:19.748Z"
   },
   {
    "duration": 217,
    "start_time": "2024-03-11T22:07:19.758Z"
   },
   {
    "duration": 8,
    "start_time": "2024-03-11T22:07:19.977Z"
   },
   {
    "duration": 5,
    "start_time": "2024-03-11T22:07:19.986Z"
   },
   {
    "duration": 519,
    "start_time": "2024-03-11T22:07:19.992Z"
   },
   {
    "duration": 379,
    "start_time": "2024-03-11T22:07:20.513Z"
   },
   {
    "duration": 52,
    "start_time": "2024-03-11T22:07:20.893Z"
   },
   {
    "duration": 3,
    "start_time": "2024-03-11T22:07:20.946Z"
   },
   {
    "duration": 28,
    "start_time": "2024-03-11T22:07:20.951Z"
   },
   {
    "duration": 16,
    "start_time": "2024-03-11T22:07:20.981Z"
   },
   {
    "duration": 17,
    "start_time": "2024-03-11T22:07:20.999Z"
   },
   {
    "duration": 19,
    "start_time": "2024-03-11T22:07:21.018Z"
   },
   {
    "duration": 1220,
    "start_time": "2024-03-11T22:07:21.038Z"
   },
   {
    "duration": 1071,
    "start_time": "2024-03-11T22:08:38.489Z"
   },
   {
    "duration": 14,
    "start_time": "2024-03-11T22:09:06.956Z"
   },
   {
    "duration": 112,
    "start_time": "2024-03-11T22:09:41.533Z"
   },
   {
    "duration": 4,
    "start_time": "2024-03-11T22:11:26.913Z"
   },
   {
    "duration": 5,
    "start_time": "2024-03-11T22:11:33.175Z"
   },
   {
    "duration": 5,
    "start_time": "2024-03-11T22:11:40.161Z"
   },
   {
    "duration": 9,
    "start_time": "2024-03-11T22:12:04.223Z"
   },
   {
    "duration": 5,
    "start_time": "2024-03-11T22:12:14.186Z"
   },
   {
    "duration": 9,
    "start_time": "2024-03-11T22:12:14.681Z"
   },
   {
    "duration": 299,
    "start_time": "2024-03-11T22:33:49.205Z"
   },
   {
    "duration": 701,
    "start_time": "2024-03-11T22:34:01.906Z"
   },
   {
    "duration": 339,
    "start_time": "2024-03-11T22:34:02.609Z"
   },
   {
    "duration": 13,
    "start_time": "2024-03-11T22:34:02.950Z"
   },
   {
    "duration": 12,
    "start_time": "2024-03-11T22:34:02.965Z"
   },
   {
    "duration": 18,
    "start_time": "2024-03-11T22:34:02.978Z"
   },
   {
    "duration": 15,
    "start_time": "2024-03-11T22:34:02.998Z"
   },
   {
    "duration": 8,
    "start_time": "2024-03-11T22:34:03.015Z"
   },
   {
    "duration": 17,
    "start_time": "2024-03-11T22:34:03.025Z"
   },
   {
    "duration": 14,
    "start_time": "2024-03-11T22:34:03.044Z"
   },
   {
    "duration": 12,
    "start_time": "2024-03-11T22:34:03.060Z"
   },
   {
    "duration": 9,
    "start_time": "2024-03-11T22:34:03.074Z"
   },
   {
    "duration": 3,
    "start_time": "2024-03-11T22:34:03.085Z"
   },
   {
    "duration": 4,
    "start_time": "2024-03-11T22:34:03.090Z"
   },
   {
    "duration": 30,
    "start_time": "2024-03-11T22:34:03.095Z"
   },
   {
    "duration": 13,
    "start_time": "2024-03-11T22:34:03.126Z"
   },
   {
    "duration": 12,
    "start_time": "2024-03-11T22:34:03.141Z"
   },
   {
    "duration": 9,
    "start_time": "2024-03-11T22:34:03.155Z"
   },
   {
    "duration": 19,
    "start_time": "2024-03-11T22:34:03.166Z"
   },
   {
    "duration": 8,
    "start_time": "2024-03-11T22:34:03.187Z"
   },
   {
    "duration": 5,
    "start_time": "2024-03-11T22:34:03.196Z"
   },
   {
    "duration": 202,
    "start_time": "2024-03-11T22:34:03.223Z"
   },
   {
    "duration": 121,
    "start_time": "2024-03-11T22:34:03.427Z"
   },
   {
    "duration": 6,
    "start_time": "2024-03-11T22:34:03.550Z"
   },
   {
    "duration": 367,
    "start_time": "2024-03-11T22:34:03.557Z"
   },
   {
    "duration": 4,
    "start_time": "2024-03-11T22:34:03.926Z"
   },
   {
    "duration": 536,
    "start_time": "2024-03-11T22:34:03.931Z"
   },
   {
    "duration": 9,
    "start_time": "2024-03-11T22:34:04.469Z"
   },
   {
    "duration": 4,
    "start_time": "2024-03-11T22:34:04.481Z"
   },
   {
    "duration": 240,
    "start_time": "2024-03-11T22:34:04.487Z"
   },
   {
    "duration": 4,
    "start_time": "2024-03-11T22:34:04.728Z"
   },
   {
    "duration": 238,
    "start_time": "2024-03-11T22:34:04.734Z"
   },
   {
    "duration": 5,
    "start_time": "2024-03-11T22:34:04.974Z"
   },
   {
    "duration": 10,
    "start_time": "2024-03-11T22:34:04.981Z"
   },
   {
    "duration": 2,
    "start_time": "2024-03-11T22:34:04.993Z"
   },
   {
    "duration": 32,
    "start_time": "2024-03-11T22:34:04.997Z"
   },
   {
    "duration": 14,
    "start_time": "2024-03-11T22:34:05.031Z"
   },
   {
    "duration": 21,
    "start_time": "2024-03-11T22:34:05.047Z"
   },
   {
    "duration": 14,
    "start_time": "2024-03-11T22:34:05.070Z"
   },
   {
    "duration": 32,
    "start_time": "2024-03-11T22:34:05.085Z"
   },
   {
    "duration": 8,
    "start_time": "2024-03-11T22:34:05.123Z"
   },
   {
    "duration": 30,
    "start_time": "2024-03-11T22:34:05.133Z"
   },
   {
    "duration": 23,
    "start_time": "2024-03-11T22:34:05.165Z"
   },
   {
    "duration": 21,
    "start_time": "2024-03-11T22:34:05.189Z"
   },
   {
    "duration": 10,
    "start_time": "2024-03-11T22:34:05.213Z"
   },
   {
    "duration": 365,
    "start_time": "2024-03-11T22:34:05.225Z"
   },
   {
    "duration": 8,
    "start_time": "2024-03-11T22:34:05.592Z"
   },
   {
    "duration": 208,
    "start_time": "2024-03-11T22:34:05.601Z"
   },
   {
    "duration": 4,
    "start_time": "2024-03-11T22:34:05.811Z"
   },
   {
    "duration": 8,
    "start_time": "2024-03-11T22:34:05.823Z"
   },
   {
    "duration": 4,
    "start_time": "2024-03-11T22:34:05.833Z"
   },
   {
    "duration": 438,
    "start_time": "2024-03-11T22:34:05.838Z"
   },
   {
    "duration": 8,
    "start_time": "2024-03-11T22:34:06.278Z"
   },
   {
    "duration": 221,
    "start_time": "2024-03-11T22:34:06.287Z"
   },
   {
    "duration": 15,
    "start_time": "2024-03-11T22:34:06.509Z"
   },
   {
    "duration": 5,
    "start_time": "2024-03-11T22:34:06.525Z"
   },
   {
    "duration": 527,
    "start_time": "2024-03-11T22:34:06.532Z"
   },
   {
    "duration": 329,
    "start_time": "2024-03-11T22:34:07.060Z"
   },
   {
    "duration": 45,
    "start_time": "2024-03-11T22:34:07.390Z"
   },
   {
    "duration": 3,
    "start_time": "2024-03-11T22:34:07.436Z"
   },
   {
    "duration": 13,
    "start_time": "2024-03-11T22:34:07.441Z"
   },
   {
    "duration": 6,
    "start_time": "2024-03-11T22:34:07.455Z"
   },
   {
    "duration": 14,
    "start_time": "2024-03-11T22:34:07.462Z"
   },
   {
    "duration": 6,
    "start_time": "2024-03-11T22:34:07.477Z"
   },
   {
    "duration": 877,
    "start_time": "2024-03-12T08:00:16.378Z"
   },
   {
    "duration": 694,
    "start_time": "2024-03-12T08:00:17.257Z"
   },
   {
    "duration": 14,
    "start_time": "2024-03-12T08:00:17.953Z"
   },
   {
    "duration": 11,
    "start_time": "2024-03-12T08:00:17.970Z"
   },
   {
    "duration": 24,
    "start_time": "2024-03-12T08:00:17.983Z"
   },
   {
    "duration": 47,
    "start_time": "2024-03-12T08:00:18.009Z"
   },
   {
    "duration": 15,
    "start_time": "2024-03-12T08:00:18.058Z"
   },
   {
    "duration": 48,
    "start_time": "2024-03-12T08:00:18.079Z"
   },
   {
    "duration": 13,
    "start_time": "2024-03-12T08:00:18.129Z"
   },
   {
    "duration": 33,
    "start_time": "2024-03-12T08:00:18.146Z"
   },
   {
    "duration": 26,
    "start_time": "2024-03-12T08:00:18.181Z"
   },
   {
    "duration": 30,
    "start_time": "2024-03-12T08:00:18.208Z"
   },
   {
    "duration": 13,
    "start_time": "2024-03-12T08:00:18.240Z"
   },
   {
    "duration": 34,
    "start_time": "2024-03-12T08:00:18.254Z"
   },
   {
    "duration": 16,
    "start_time": "2024-03-12T08:00:18.290Z"
   },
   {
    "duration": 30,
    "start_time": "2024-03-12T08:00:18.308Z"
   },
   {
    "duration": 15,
    "start_time": "2024-03-12T08:00:18.339Z"
   },
   {
    "duration": 11,
    "start_time": "2024-03-12T08:00:18.356Z"
   },
   {
    "duration": 24,
    "start_time": "2024-03-12T08:00:18.368Z"
   },
   {
    "duration": 14,
    "start_time": "2024-03-12T08:00:18.394Z"
   },
   {
    "duration": 210,
    "start_time": "2024-03-12T08:00:18.410Z"
   },
   {
    "duration": 127,
    "start_time": "2024-03-12T08:00:18.622Z"
   },
   {
    "duration": 6,
    "start_time": "2024-03-12T08:00:18.751Z"
   },
   {
    "duration": 362,
    "start_time": "2024-03-12T08:00:18.759Z"
   },
   {
    "duration": 4,
    "start_time": "2024-03-12T08:00:19.124Z"
   },
   {
    "duration": 566,
    "start_time": "2024-03-12T08:00:19.130Z"
   },
   {
    "duration": 21,
    "start_time": "2024-03-12T08:00:19.697Z"
   },
   {
    "duration": 6,
    "start_time": "2024-03-12T08:00:19.723Z"
   },
   {
    "duration": 260,
    "start_time": "2024-03-12T08:00:19.731Z"
   },
   {
    "duration": 6,
    "start_time": "2024-03-12T08:00:19.993Z"
   },
   {
    "duration": 224,
    "start_time": "2024-03-12T08:00:20.000Z"
   },
   {
    "duration": 4,
    "start_time": "2024-03-12T08:00:20.227Z"
   },
   {
    "duration": 9,
    "start_time": "2024-03-12T08:00:20.233Z"
   },
   {
    "duration": 3,
    "start_time": "2024-03-12T08:00:20.243Z"
   },
   {
    "duration": 13,
    "start_time": "2024-03-12T08:00:20.247Z"
   },
   {
    "duration": 11,
    "start_time": "2024-03-12T08:00:20.261Z"
   },
   {
    "duration": 42,
    "start_time": "2024-03-12T08:00:20.274Z"
   },
   {
    "duration": 14,
    "start_time": "2024-03-12T08:00:20.317Z"
   },
   {
    "duration": 19,
    "start_time": "2024-03-12T08:00:20.333Z"
   },
   {
    "duration": 7,
    "start_time": "2024-03-12T08:00:20.354Z"
   },
   {
    "duration": 55,
    "start_time": "2024-03-12T08:00:20.363Z"
   },
   {
    "duration": 12,
    "start_time": "2024-03-12T08:00:20.420Z"
   },
   {
    "duration": 25,
    "start_time": "2024-03-12T08:00:20.434Z"
   },
   {
    "duration": 5,
    "start_time": "2024-03-12T08:00:20.461Z"
   },
   {
    "duration": 361,
    "start_time": "2024-03-12T08:00:20.468Z"
   },
   {
    "duration": 10,
    "start_time": "2024-03-12T08:00:20.831Z"
   },
   {
    "duration": 229,
    "start_time": "2024-03-12T08:00:20.843Z"
   },
   {
    "duration": 5,
    "start_time": "2024-03-12T08:00:21.074Z"
   },
   {
    "duration": 17,
    "start_time": "2024-03-12T08:00:21.081Z"
   },
   {
    "duration": 16,
    "start_time": "2024-03-12T08:00:21.100Z"
   },
   {
    "duration": 445,
    "start_time": "2024-03-12T08:00:21.117Z"
   },
   {
    "duration": 9,
    "start_time": "2024-03-12T08:00:21.564Z"
   },
   {
    "duration": 223,
    "start_time": "2024-03-12T08:00:21.575Z"
   },
   {
    "duration": 17,
    "start_time": "2024-03-12T08:00:21.799Z"
   },
   {
    "duration": 4,
    "start_time": "2024-03-12T08:00:21.818Z"
   },
   {
    "duration": 516,
    "start_time": "2024-03-12T08:00:21.824Z"
   },
   {
    "duration": 372,
    "start_time": "2024-03-12T08:00:22.342Z"
   },
   {
    "duration": 40,
    "start_time": "2024-03-12T08:00:22.716Z"
   },
   {
    "duration": 3,
    "start_time": "2024-03-12T08:00:22.758Z"
   },
   {
    "duration": 16,
    "start_time": "2024-03-12T08:00:22.763Z"
   },
   {
    "duration": 23,
    "start_time": "2024-03-12T08:00:22.781Z"
   },
   {
    "duration": 19,
    "start_time": "2024-03-12T08:00:22.805Z"
   },
   {
    "duration": 6,
    "start_time": "2024-03-12T08:00:22.826Z"
   },
   {
    "duration": 74,
    "start_time": "2024-03-12T08:21:36.200Z"
   },
   {
    "duration": 1273,
    "start_time": "2024-03-12T09:07:28.598Z"
   },
   {
    "duration": 461,
    "start_time": "2024-03-12T09:07:29.873Z"
   },
   {
    "duration": 15,
    "start_time": "2024-03-12T09:07:30.336Z"
   },
   {
    "duration": 35,
    "start_time": "2024-03-12T09:07:30.353Z"
   },
   {
    "duration": 69,
    "start_time": "2024-03-12T09:07:30.390Z"
   },
   {
    "duration": 81,
    "start_time": "2024-03-12T09:07:30.462Z"
   },
   {
    "duration": 109,
    "start_time": "2024-03-12T09:07:30.545Z"
   },
   {
    "duration": 183,
    "start_time": "2024-03-12T09:07:30.656Z"
   },
   {
    "duration": 34,
    "start_time": "2024-03-12T09:07:30.841Z"
   },
   {
    "duration": 54,
    "start_time": "2024-03-12T09:07:30.878Z"
   },
   {
    "duration": 44,
    "start_time": "2024-03-12T09:07:30.935Z"
   },
   {
    "duration": 46,
    "start_time": "2024-03-12T09:07:30.981Z"
   },
   {
    "duration": 41,
    "start_time": "2024-03-12T09:07:31.030Z"
   },
   {
    "duration": 50,
    "start_time": "2024-03-12T09:07:31.073Z"
   },
   {
    "duration": 54,
    "start_time": "2024-03-12T09:07:31.131Z"
   },
   {
    "duration": 54,
    "start_time": "2024-03-12T09:07:31.188Z"
   },
   {
    "duration": 32,
    "start_time": "2024-03-12T09:07:31.244Z"
   },
   {
    "duration": 43,
    "start_time": "2024-03-12T09:07:31.278Z"
   },
   {
    "duration": 17,
    "start_time": "2024-03-12T09:07:31.324Z"
   },
   {
    "duration": 31,
    "start_time": "2024-03-12T09:07:31.343Z"
   },
   {
    "duration": 241,
    "start_time": "2024-03-12T09:07:31.376Z"
   },
   {
    "duration": 118,
    "start_time": "2024-03-12T09:07:31.619Z"
   },
   {
    "duration": 6,
    "start_time": "2024-03-12T09:07:31.740Z"
   },
   {
    "duration": 358,
    "start_time": "2024-03-12T09:07:31.747Z"
   },
   {
    "duration": 11,
    "start_time": "2024-03-12T09:07:32.106Z"
   },
   {
    "duration": 725,
    "start_time": "2024-03-12T09:07:32.119Z"
   },
   {
    "duration": 10,
    "start_time": "2024-03-12T09:07:32.846Z"
   },
   {
    "duration": 8,
    "start_time": "2024-03-12T09:07:32.861Z"
   },
   {
    "duration": 336,
    "start_time": "2024-03-12T09:07:32.871Z"
   },
   {
    "duration": 20,
    "start_time": "2024-03-12T09:07:33.208Z"
   },
   {
    "duration": 237,
    "start_time": "2024-03-12T09:07:33.231Z"
   },
   {
    "duration": 5,
    "start_time": "2024-03-12T09:07:33.469Z"
   },
   {
    "duration": 12,
    "start_time": "2024-03-12T09:07:33.476Z"
   },
   {
    "duration": 2,
    "start_time": "2024-03-12T09:07:33.490Z"
   },
   {
    "duration": 17,
    "start_time": "2024-03-12T09:07:33.494Z"
   },
   {
    "duration": 19,
    "start_time": "2024-03-12T09:07:33.514Z"
   },
   {
    "duration": 10,
    "start_time": "2024-03-12T09:07:33.535Z"
   },
   {
    "duration": 13,
    "start_time": "2024-03-12T09:07:33.547Z"
   },
   {
    "duration": 26,
    "start_time": "2024-03-12T09:07:33.562Z"
   },
   {
    "duration": 21,
    "start_time": "2024-03-12T09:07:33.616Z"
   },
   {
    "duration": 27,
    "start_time": "2024-03-12T09:07:33.640Z"
   },
   {
    "duration": 8,
    "start_time": "2024-03-12T09:07:33.669Z"
   },
   {
    "duration": 38,
    "start_time": "2024-03-12T09:07:33.678Z"
   },
   {
    "duration": 6,
    "start_time": "2024-03-12T09:07:33.718Z"
   },
   {
    "duration": 375,
    "start_time": "2024-03-12T09:07:33.726Z"
   },
   {
    "duration": 13,
    "start_time": "2024-03-12T09:07:34.103Z"
   },
   {
    "duration": 226,
    "start_time": "2024-03-12T09:07:34.118Z"
   },
   {
    "duration": 5,
    "start_time": "2024-03-12T09:07:34.346Z"
   },
   {
    "duration": 13,
    "start_time": "2024-03-12T09:07:34.352Z"
   },
   {
    "duration": 5,
    "start_time": "2024-03-12T09:07:34.367Z"
   },
   {
    "duration": 377,
    "start_time": "2024-03-12T09:07:34.374Z"
   },
   {
    "duration": 9,
    "start_time": "2024-03-12T09:07:34.753Z"
   },
   {
    "duration": 258,
    "start_time": "2024-03-12T09:07:34.764Z"
   },
   {
    "duration": 10,
    "start_time": "2024-03-12T09:07:35.031Z"
   },
   {
    "duration": 5,
    "start_time": "2024-03-12T09:07:35.042Z"
   },
   {
    "duration": 698,
    "start_time": "2024-03-12T09:07:35.049Z"
   },
   {
    "duration": 372,
    "start_time": "2024-03-12T09:07:35.750Z"
   },
   {
    "duration": 41,
    "start_time": "2024-03-12T09:07:36.124Z"
   },
   {
    "duration": 3,
    "start_time": "2024-03-12T09:07:36.167Z"
   },
   {
    "duration": 13,
    "start_time": "2024-03-12T09:07:36.172Z"
   },
   {
    "duration": 31,
    "start_time": "2024-03-12T09:07:36.187Z"
   },
   {
    "duration": 32,
    "start_time": "2024-03-12T09:07:36.220Z"
   },
   {
    "duration": 8,
    "start_time": "2024-03-12T09:07:36.253Z"
   },
   {
    "duration": 21,
    "start_time": "2024-03-12T09:11:10.071Z"
   },
   {
    "duration": 20,
    "start_time": "2024-03-12T09:11:20.893Z"
   },
   {
    "duration": 6,
    "start_time": "2024-03-12T09:17:05.458Z"
   },
   {
    "duration": 6,
    "start_time": "2024-03-12T09:18:57.852Z"
   },
   {
    "duration": 6,
    "start_time": "2024-03-12T09:19:00.558Z"
   },
   {
    "duration": 7,
    "start_time": "2024-03-12T09:19:08.931Z"
   },
   {
    "duration": 6,
    "start_time": "2024-03-12T09:36:10.167Z"
   },
   {
    "duration": 6,
    "start_time": "2024-03-12T09:39:11.910Z"
   },
   {
    "duration": 5,
    "start_time": "2024-03-12T09:39:56.414Z"
   },
   {
    "duration": 6,
    "start_time": "2024-03-12T09:40:01.222Z"
   },
   {
    "duration": 17,
    "start_time": "2024-03-12T09:56:46.155Z"
   },
   {
    "duration": 5,
    "start_time": "2024-03-12T09:57:38.856Z"
   },
   {
    "duration": 10,
    "start_time": "2024-03-12T09:57:46.130Z"
   },
   {
    "duration": 125,
    "start_time": "2024-03-12T09:59:42.670Z"
   },
   {
    "duration": 17,
    "start_time": "2024-03-12T10:00:14.782Z"
   },
   {
    "duration": 16,
    "start_time": "2024-03-12T10:01:12.262Z"
   },
   {
    "duration": 7,
    "start_time": "2024-03-12T10:01:46.375Z"
   },
   {
    "duration": 12,
    "start_time": "2024-03-12T10:01:46.906Z"
   },
   {
    "duration": 8,
    "start_time": "2024-03-12T10:02:53.742Z"
   },
   {
    "duration": 20,
    "start_time": "2024-03-12T10:03:19.323Z"
   },
   {
    "duration": 6,
    "start_time": "2024-03-12T10:04:03.658Z"
   },
   {
    "duration": 8,
    "start_time": "2024-03-12T10:05:06.094Z"
   },
   {
    "duration": 13,
    "start_time": "2024-03-12T10:05:07.249Z"
   },
   {
    "duration": 7,
    "start_time": "2024-03-12T10:07:08.060Z"
   },
   {
    "duration": 5,
    "start_time": "2024-03-12T10:07:08.555Z"
   },
   {
    "duration": 5,
    "start_time": "2024-03-12T10:07:34.707Z"
   },
   {
    "duration": 6,
    "start_time": "2024-03-12T10:07:35.102Z"
   },
   {
    "duration": 3,
    "start_time": "2024-03-12T10:55:19.674Z"
   },
   {
    "duration": 1231,
    "start_time": "2024-03-12T10:55:25.598Z"
   },
   {
    "duration": 286,
    "start_time": "2024-03-12T10:55:26.832Z"
   },
   {
    "duration": 21,
    "start_time": "2024-03-12T10:55:27.121Z"
   },
   {
    "duration": 11,
    "start_time": "2024-03-12T10:55:27.144Z"
   },
   {
    "duration": 71,
    "start_time": "2024-03-12T10:55:27.158Z"
   },
   {
    "duration": 16,
    "start_time": "2024-03-12T10:55:27.232Z"
   },
   {
    "duration": 7,
    "start_time": "2024-03-12T10:55:27.250Z"
   },
   {
    "duration": 74,
    "start_time": "2024-03-12T10:55:27.258Z"
   },
   {
    "duration": 4,
    "start_time": "2024-03-12T10:55:27.334Z"
   },
   {
    "duration": 16,
    "start_time": "2024-03-12T10:55:27.340Z"
   },
   {
    "duration": 67,
    "start_time": "2024-03-12T10:55:27.358Z"
   },
   {
    "duration": 5,
    "start_time": "2024-03-12T10:55:27.427Z"
   },
   {
    "duration": 10,
    "start_time": "2024-03-12T10:55:27.435Z"
   },
   {
    "duration": 7,
    "start_time": "2024-03-12T10:55:27.448Z"
   },
   {
    "duration": 68,
    "start_time": "2024-03-12T10:55:27.456Z"
   },
   {
    "duration": 14,
    "start_time": "2024-03-12T10:55:27.527Z"
   },
   {
    "duration": 12,
    "start_time": "2024-03-12T10:55:27.543Z"
   },
   {
    "duration": 60,
    "start_time": "2024-03-12T10:55:27.556Z"
   },
   {
    "duration": 11,
    "start_time": "2024-03-12T10:55:27.620Z"
   },
   {
    "duration": 9,
    "start_time": "2024-03-12T10:55:27.634Z"
   },
   {
    "duration": 574,
    "start_time": "2024-03-12T10:55:27.644Z"
   },
   {
    "duration": 217,
    "start_time": "2024-03-12T10:55:28.220Z"
   },
   {
    "duration": 6,
    "start_time": "2024-03-12T10:55:28.439Z"
   },
   {
    "duration": 540,
    "start_time": "2024-03-12T10:55:28.447Z"
   },
   {
    "duration": 4,
    "start_time": "2024-03-12T10:55:28.989Z"
   },
   {
    "duration": 560,
    "start_time": "2024-03-12T10:55:28.994Z"
   },
   {
    "duration": 11,
    "start_time": "2024-03-12T10:55:29.556Z"
   },
   {
    "duration": 6,
    "start_time": "2024-03-12T10:55:29.569Z"
   },
   {
    "duration": 366,
    "start_time": "2024-03-12T10:55:29.577Z"
   },
   {
    "duration": 6,
    "start_time": "2024-03-12T10:55:29.946Z"
   },
   {
    "duration": 245,
    "start_time": "2024-03-12T10:55:29.954Z"
   },
   {
    "duration": 5,
    "start_time": "2024-03-12T10:55:30.200Z"
   },
   {
    "duration": 31,
    "start_time": "2024-03-12T10:55:30.216Z"
   },
   {
    "duration": 53,
    "start_time": "2024-03-12T10:55:30.249Z"
   },
   {
    "duration": 64,
    "start_time": "2024-03-12T10:55:30.304Z"
   },
   {
    "duration": 74,
    "start_time": "2024-03-12T10:55:30.370Z"
   },
   {
    "duration": 56,
    "start_time": "2024-03-12T10:55:30.446Z"
   },
   {
    "duration": 48,
    "start_time": "2024-03-12T10:55:30.504Z"
   },
   {
    "duration": 71,
    "start_time": "2024-03-12T10:55:30.553Z"
   },
   {
    "duration": 55,
    "start_time": "2024-03-12T10:55:30.626Z"
   },
   {
    "duration": 72,
    "start_time": "2024-03-12T10:55:30.688Z"
   },
   {
    "duration": 59,
    "start_time": "2024-03-12T10:55:30.761Z"
   },
   {
    "duration": 110,
    "start_time": "2024-03-12T10:55:30.823Z"
   },
   {
    "duration": 76,
    "start_time": "2024-03-12T10:55:30.936Z"
   },
   {
    "duration": 466,
    "start_time": "2024-03-12T10:55:31.013Z"
   },
   {
    "duration": 8,
    "start_time": "2024-03-12T10:55:31.481Z"
   },
   {
    "duration": 248,
    "start_time": "2024-03-12T10:55:31.491Z"
   },
   {
    "duration": 4,
    "start_time": "2024-03-12T10:55:31.742Z"
   },
   {
    "duration": 20,
    "start_time": "2024-03-12T10:55:31.747Z"
   },
   {
    "duration": 10,
    "start_time": "2024-03-12T10:55:31.769Z"
   },
   {
    "duration": 408,
    "start_time": "2024-03-12T10:55:31.781Z"
   },
   {
    "duration": 9,
    "start_time": "2024-03-12T10:55:32.191Z"
   },
   {
    "duration": 249,
    "start_time": "2024-03-12T10:55:32.201Z"
   },
   {
    "duration": 7,
    "start_time": "2024-03-12T10:55:32.452Z"
   },
   {
    "duration": 7,
    "start_time": "2024-03-12T10:55:32.461Z"
   },
   {
    "duration": 705,
    "start_time": "2024-03-12T10:55:32.469Z"
   },
   {
    "duration": 380,
    "start_time": "2024-03-12T10:55:33.175Z"
   },
   {
    "duration": 41,
    "start_time": "2024-03-12T10:55:33.556Z"
   },
   {
    "duration": 3,
    "start_time": "2024-03-12T10:55:33.598Z"
   },
   {
    "duration": 22,
    "start_time": "2024-03-12T10:55:33.615Z"
   },
   {
    "duration": 5,
    "start_time": "2024-03-12T10:55:33.639Z"
   },
   {
    "duration": 13,
    "start_time": "2024-03-12T10:55:33.646Z"
   },
   {
    "duration": 13,
    "start_time": "2024-03-12T10:55:33.661Z"
   },
   {
    "duration": 36,
    "start_time": "2024-03-12T10:55:33.675Z"
   },
   {
    "duration": 8,
    "start_time": "2024-03-12T10:55:33.712Z"
   },
   {
    "duration": 7,
    "start_time": "2024-03-12T10:55:33.724Z"
   },
   {
    "duration": 14,
    "start_time": "2024-03-12T10:55:33.734Z"
   },
   {
    "duration": 191,
    "start_time": "2024-03-12T10:55:33.750Z"
   },
   {
    "duration": 1636,
    "start_time": "2024-03-12T10:57:49.247Z"
   },
   {
    "duration": 316,
    "start_time": "2024-03-12T10:58:11.812Z"
   },
   {
    "duration": 978,
    "start_time": "2024-03-12T10:58:18.996Z"
   },
   {
    "duration": 313,
    "start_time": "2024-03-12T10:58:51.679Z"
   },
   {
    "duration": 793,
    "start_time": "2024-03-12T10:59:01.736Z"
   },
   {
    "duration": 1111,
    "start_time": "2024-03-12T10:59:19.680Z"
   },
   {
    "duration": 910,
    "start_time": "2024-03-12T10:59:57.414Z"
   },
   {
    "duration": 2520,
    "start_time": "2024-03-12T11:00:07.569Z"
   },
   {
    "duration": 393,
    "start_time": "2024-03-12T11:02:17.894Z"
   },
   {
    "duration": 388,
    "start_time": "2024-03-12T11:02:22.978Z"
   },
   {
    "duration": 1663,
    "start_time": "2024-03-12T11:02:28.931Z"
   },
   {
    "duration": 2764,
    "start_time": "2024-03-12T11:15:37.880Z"
   },
   {
    "duration": 1695,
    "start_time": "2024-03-12T11:16:54.353Z"
   },
   {
    "duration": 861,
    "start_time": "2024-03-12T11:17:02.161Z"
   },
   {
    "duration": 1813,
    "start_time": "2024-03-12T11:25:12.461Z"
   },
   {
    "duration": 542,
    "start_time": "2024-03-12T11:26:47.445Z"
   },
   {
    "duration": 11,
    "start_time": "2024-03-12T11:51:33.401Z"
   },
   {
    "duration": 15,
    "start_time": "2024-03-12T11:51:55.910Z"
   },
   {
    "duration": 13,
    "start_time": "2024-03-12T11:52:11.063Z"
   },
   {
    "duration": 6,
    "start_time": "2024-03-12T11:52:16.831Z"
   },
   {
    "duration": 6,
    "start_time": "2024-03-12T11:52:49.622Z"
   },
   {
    "duration": 5,
    "start_time": "2024-03-12T11:53:32.138Z"
   },
   {
    "duration": 5,
    "start_time": "2024-03-12T11:53:38.871Z"
   },
   {
    "duration": 4,
    "start_time": "2024-03-12T11:54:13.006Z"
   },
   {
    "duration": 4,
    "start_time": "2024-03-12T11:54:20.955Z"
   },
   {
    "duration": 5,
    "start_time": "2024-03-12T11:54:33.787Z"
   },
   {
    "duration": 5,
    "start_time": "2024-03-12T11:54:41.066Z"
   },
   {
    "duration": 8,
    "start_time": "2024-03-12T11:56:08.939Z"
   },
   {
    "duration": 5,
    "start_time": "2024-03-12T11:56:25.670Z"
   },
   {
    "duration": 8,
    "start_time": "2024-03-12T11:59:01.929Z"
   },
   {
    "duration": 4,
    "start_time": "2024-03-12T11:59:17.684Z"
   },
   {
    "duration": 4,
    "start_time": "2024-03-12T11:59:23.371Z"
   },
   {
    "duration": 5,
    "start_time": "2024-03-12T11:59:31.681Z"
   },
   {
    "duration": 5,
    "start_time": "2024-03-12T11:59:36.179Z"
   },
   {
    "duration": 6,
    "start_time": "2024-03-12T12:00:37.347Z"
   },
   {
    "duration": 4,
    "start_time": "2024-03-12T12:02:36.706Z"
   },
   {
    "duration": 7,
    "start_time": "2024-03-12T12:02:48.334Z"
   },
   {
    "duration": 5,
    "start_time": "2024-03-12T12:02:56.206Z"
   },
   {
    "duration": 4,
    "start_time": "2024-03-12T12:03:10.254Z"
   },
   {
    "duration": 5,
    "start_time": "2024-03-12T12:03:20.890Z"
   },
   {
    "duration": 3542,
    "start_time": "2024-03-12T12:03:54.574Z"
   },
   {
    "duration": 2275,
    "start_time": "2024-03-12T12:03:59.536Z"
   },
   {
    "duration": 4,
    "start_time": "2024-03-12T12:04:45.510Z"
   },
   {
    "duration": 7,
    "start_time": "2024-03-12T12:04:49.416Z"
   },
   {
    "duration": 5,
    "start_time": "2024-03-12T12:04:54.596Z"
   },
   {
    "duration": 4,
    "start_time": "2024-03-12T12:04:57.582Z"
   },
   {
    "duration": 4,
    "start_time": "2024-03-12T12:07:30.040Z"
   },
   {
    "duration": 4,
    "start_time": "2024-03-12T12:07:34.594Z"
   },
   {
    "duration": 4,
    "start_time": "2024-03-12T12:07:35.059Z"
   },
   {
    "duration": 2077,
    "start_time": "2024-03-12T12:11:24.283Z"
   },
   {
    "duration": 4,
    "start_time": "2024-03-12T12:15:46.593Z"
   },
   {
    "duration": 4,
    "start_time": "2024-03-12T12:18:43.260Z"
   },
   {
    "duration": 5,
    "start_time": "2024-03-12T12:19:13.827Z"
   },
   {
    "duration": 5,
    "start_time": "2024-03-12T12:19:26.470Z"
   },
   {
    "duration": 7,
    "start_time": "2024-03-12T12:20:14.531Z"
   },
   {
    "duration": 5,
    "start_time": "2024-03-12T12:20:38.524Z"
   },
   {
    "duration": 4,
    "start_time": "2024-03-12T12:20:58.229Z"
   },
   {
    "duration": 170,
    "start_time": "2024-03-12T12:30:35.955Z"
   },
   {
    "duration": 164,
    "start_time": "2024-03-12T12:30:47.479Z"
   },
   {
    "duration": 161,
    "start_time": "2024-03-12T12:30:52.560Z"
   },
   {
    "duration": 164,
    "start_time": "2024-03-12T12:31:00.584Z"
   },
   {
    "duration": 160,
    "start_time": "2024-03-12T12:31:11.530Z"
   },
   {
    "duration": 158,
    "start_time": "2024-03-12T12:31:37.975Z"
   },
   {
    "duration": 143,
    "start_time": "2024-03-12T12:38:23.880Z"
   },
   {
    "duration": 152,
    "start_time": "2024-03-12T12:38:50.638Z"
   },
   {
    "duration": 10,
    "start_time": "2024-03-12T12:50:24.651Z"
   },
   {
    "duration": 5,
    "start_time": "2024-03-12T12:50:38.272Z"
   },
   {
    "duration": 5,
    "start_time": "2024-03-12T12:50:50.664Z"
   },
   {
    "duration": 4,
    "start_time": "2024-03-12T12:51:13.778Z"
   },
   {
    "duration": 4,
    "start_time": "2024-03-12T12:51:23.692Z"
   },
   {
    "duration": 5,
    "start_time": "2024-03-12T12:51:46.793Z"
   },
   {
    "duration": 5,
    "start_time": "2024-03-12T12:51:52.022Z"
   },
   {
    "duration": 5,
    "start_time": "2024-03-12T12:52:21.594Z"
   },
   {
    "duration": 5,
    "start_time": "2024-03-12T12:52:25.699Z"
   },
   {
    "duration": 5,
    "start_time": "2024-03-12T12:52:29.657Z"
   },
   {
    "duration": 5,
    "start_time": "2024-03-12T12:52:33.482Z"
   },
   {
    "duration": 5,
    "start_time": "2024-03-12T12:52:40.601Z"
   },
   {
    "duration": 5,
    "start_time": "2024-03-12T12:52:44.457Z"
   },
   {
    "duration": 5,
    "start_time": "2024-03-12T12:52:47.875Z"
   },
   {
    "duration": 1127,
    "start_time": "2024-03-12T12:53:17.366Z"
   },
   {
    "duration": 275,
    "start_time": "2024-03-12T12:53:18.495Z"
   },
   {
    "duration": 13,
    "start_time": "2024-03-12T12:53:18.772Z"
   },
   {
    "duration": 22,
    "start_time": "2024-03-12T12:53:18.787Z"
   },
   {
    "duration": 16,
    "start_time": "2024-03-12T12:53:18.810Z"
   },
   {
    "duration": 20,
    "start_time": "2024-03-12T12:53:18.827Z"
   },
   {
    "duration": 6,
    "start_time": "2024-03-12T12:53:18.849Z"
   },
   {
    "duration": 10,
    "start_time": "2024-03-12T12:53:18.857Z"
   },
   {
    "duration": 5,
    "start_time": "2024-03-12T12:53:18.868Z"
   },
   {
    "duration": 14,
    "start_time": "2024-03-12T12:53:18.877Z"
   },
   {
    "duration": 27,
    "start_time": "2024-03-12T12:53:18.893Z"
   },
   {
    "duration": 9,
    "start_time": "2024-03-12T12:53:18.922Z"
   },
   {
    "duration": 4,
    "start_time": "2024-03-12T12:53:18.933Z"
   },
   {
    "duration": 6,
    "start_time": "2024-03-12T12:53:18.939Z"
   },
   {
    "duration": 7,
    "start_time": "2024-03-12T12:53:18.947Z"
   },
   {
    "duration": 9,
    "start_time": "2024-03-12T12:53:18.956Z"
   },
   {
    "duration": 10,
    "start_time": "2024-03-12T12:53:18.967Z"
   },
   {
    "duration": 38,
    "start_time": "2024-03-12T12:53:18.978Z"
   },
   {
    "duration": 6,
    "start_time": "2024-03-12T12:53:19.018Z"
   },
   {
    "duration": 6,
    "start_time": "2024-03-12T12:53:19.025Z"
   },
   {
    "duration": 236,
    "start_time": "2024-03-12T12:53:19.032Z"
   },
   {
    "duration": 132,
    "start_time": "2024-03-12T12:53:19.270Z"
   },
   {
    "duration": 7,
    "start_time": "2024-03-12T12:53:19.403Z"
   },
   {
    "duration": 351,
    "start_time": "2024-03-12T12:53:19.415Z"
   },
   {
    "duration": 4,
    "start_time": "2024-03-12T12:53:19.768Z"
   },
   {
    "duration": 502,
    "start_time": "2024-03-12T12:53:19.774Z"
   },
   {
    "duration": 8,
    "start_time": "2024-03-12T12:53:20.278Z"
   },
   {
    "duration": 5,
    "start_time": "2024-03-12T12:53:20.290Z"
   },
   {
    "duration": 321,
    "start_time": "2024-03-12T12:53:20.296Z"
   },
   {
    "duration": 12,
    "start_time": "2024-03-12T12:53:20.619Z"
   },
   {
    "duration": 207,
    "start_time": "2024-03-12T12:53:20.634Z"
   },
   {
    "duration": 6,
    "start_time": "2024-03-12T12:53:20.843Z"
   },
   {
    "duration": 9,
    "start_time": "2024-03-12T12:53:20.851Z"
   },
   {
    "duration": 2,
    "start_time": "2024-03-12T12:53:20.862Z"
   },
   {
    "duration": 10,
    "start_time": "2024-03-12T12:53:20.866Z"
   },
   {
    "duration": 39,
    "start_time": "2024-03-12T12:53:20.878Z"
   },
   {
    "duration": 9,
    "start_time": "2024-03-12T12:53:20.919Z"
   },
   {
    "duration": 13,
    "start_time": "2024-03-12T12:53:20.929Z"
   },
   {
    "duration": 20,
    "start_time": "2024-03-12T12:53:20.943Z"
   },
   {
    "duration": 8,
    "start_time": "2024-03-12T12:53:20.964Z"
   },
   {
    "duration": 50,
    "start_time": "2024-03-12T12:53:20.973Z"
   },
   {
    "duration": 8,
    "start_time": "2024-03-12T12:53:21.025Z"
   },
   {
    "duration": 32,
    "start_time": "2024-03-12T12:53:21.034Z"
   },
   {
    "duration": 5,
    "start_time": "2024-03-12T12:53:21.067Z"
   },
   {
    "duration": 358,
    "start_time": "2024-03-12T12:53:21.073Z"
   },
   {
    "duration": 9,
    "start_time": "2024-03-12T12:53:21.433Z"
   },
   {
    "duration": 216,
    "start_time": "2024-03-12T12:53:21.444Z"
   },
   {
    "duration": 5,
    "start_time": "2024-03-12T12:53:21.661Z"
   },
   {
    "duration": 8,
    "start_time": "2024-03-12T12:53:21.667Z"
   },
   {
    "duration": 9,
    "start_time": "2024-03-12T12:53:21.676Z"
   },
   {
    "duration": 379,
    "start_time": "2024-03-12T12:53:21.686Z"
   },
   {
    "duration": 9,
    "start_time": "2024-03-12T12:53:22.066Z"
   },
   {
    "duration": 219,
    "start_time": "2024-03-12T12:53:22.076Z"
   },
   {
    "duration": 19,
    "start_time": "2024-03-12T12:53:22.296Z"
   },
   {
    "duration": 4,
    "start_time": "2024-03-12T12:53:22.317Z"
   },
   {
    "duration": 636,
    "start_time": "2024-03-12T12:53:22.323Z"
   },
   {
    "duration": 338,
    "start_time": "2024-03-12T12:53:22.961Z"
   },
   {
    "duration": 55,
    "start_time": "2024-03-12T12:53:23.302Z"
   },
   {
    "duration": 3,
    "start_time": "2024-03-12T12:53:23.359Z"
   },
   {
    "duration": 20,
    "start_time": "2024-03-12T12:53:23.364Z"
   },
   {
    "duration": 13,
    "start_time": "2024-03-12T12:53:23.386Z"
   },
   {
    "duration": 18,
    "start_time": "2024-03-12T12:53:23.401Z"
   },
   {
    "duration": 7,
    "start_time": "2024-03-12T12:53:23.421Z"
   },
   {
    "duration": 6,
    "start_time": "2024-03-12T12:53:23.430Z"
   },
   {
    "duration": 5,
    "start_time": "2024-03-12T12:53:23.437Z"
   },
   {
    "duration": 9,
    "start_time": "2024-03-12T12:53:23.444Z"
   },
   {
    "duration": 9,
    "start_time": "2024-03-12T12:53:23.454Z"
   },
   {
    "duration": 1733,
    "start_time": "2024-03-12T12:53:23.465Z"
   },
   {
    "duration": 5,
    "start_time": "2024-03-12T12:53:25.199Z"
   },
   {
    "duration": 79,
    "start_time": "2024-03-12T12:53:25.205Z"
   },
   {
    "duration": 0,
    "start_time": "2024-03-12T12:53:25.286Z"
   },
   {
    "duration": 8,
    "start_time": "2024-03-12T12:53:31.212Z"
   },
   {
    "duration": 8,
    "start_time": "2024-03-12T12:54:01.056Z"
   },
   {
    "duration": 4,
    "start_time": "2024-03-12T12:54:02.024Z"
   },
   {
    "duration": 5,
    "start_time": "2024-03-12T12:54:09.735Z"
   },
   {
    "duration": 33,
    "start_time": "2024-03-12T12:54:41.492Z"
   },
   {
    "duration": 4,
    "start_time": "2024-03-12T12:54:42.263Z"
   },
   {
    "duration": 32,
    "start_time": "2024-03-12T12:55:39.996Z"
   },
   {
    "duration": 4,
    "start_time": "2024-03-12T12:55:40.576Z"
   },
   {
    "duration": 1651,
    "start_time": "2024-03-12T12:55:50.487Z"
   },
   {
    "duration": 5,
    "start_time": "2024-03-12T12:55:56.590Z"
   },
   {
    "duration": 29,
    "start_time": "2024-03-12T12:55:57.835Z"
   },
   {
    "duration": 8,
    "start_time": "2024-03-12T12:57:37.641Z"
   },
   {
    "duration": 5,
    "start_time": "2024-03-12T12:57:39.537Z"
   },
   {
    "duration": 4,
    "start_time": "2024-03-12T12:57:45.121Z"
   },
   {
    "duration": 4,
    "start_time": "2024-03-12T12:58:57.399Z"
   },
   {
    "duration": 10,
    "start_time": "2024-03-12T12:58:59.078Z"
   },
   {
    "duration": 4,
    "start_time": "2024-03-12T12:58:59.796Z"
   },
   {
    "duration": 10,
    "start_time": "2024-03-12T12:59:09.106Z"
   },
   {
    "duration": 5,
    "start_time": "2024-03-12T12:59:09.673Z"
   },
   {
    "duration": 35,
    "start_time": "2024-03-12T12:59:27.218Z"
   },
   {
    "duration": 4,
    "start_time": "2024-03-12T12:59:27.809Z"
   },
   {
    "duration": 27,
    "start_time": "2024-03-12T12:59:46.523Z"
   },
   {
    "duration": 5,
    "start_time": "2024-03-12T12:59:47.084Z"
   },
   {
    "duration": 27,
    "start_time": "2024-03-12T13:00:06.643Z"
   },
   {
    "duration": 4,
    "start_time": "2024-03-12T13:00:07.154Z"
   },
   {
    "duration": 29,
    "start_time": "2024-03-12T13:00:25.450Z"
   },
   {
    "duration": 4,
    "start_time": "2024-03-12T13:00:25.884Z"
   },
   {
    "duration": 33,
    "start_time": "2024-03-12T13:00:29.297Z"
   },
   {
    "duration": 5,
    "start_time": "2024-03-12T13:00:29.668Z"
   },
   {
    "duration": 27,
    "start_time": "2024-03-12T13:00:33.299Z"
   },
   {
    "duration": 4,
    "start_time": "2024-03-12T13:00:33.716Z"
   },
   {
    "duration": 28,
    "start_time": "2024-03-12T13:00:42.133Z"
   },
   {
    "duration": 29,
    "start_time": "2024-03-12T13:00:53.571Z"
   },
   {
    "duration": 27,
    "start_time": "2024-03-12T13:00:56.436Z"
   },
   {
    "duration": 4,
    "start_time": "2024-03-12T13:00:56.703Z"
   },
   {
    "duration": 29,
    "start_time": "2024-03-12T13:01:07.657Z"
   },
   {
    "duration": 4,
    "start_time": "2024-03-12T13:01:08.779Z"
   },
   {
    "duration": 28,
    "start_time": "2024-03-12T13:01:11.079Z"
   },
   {
    "duration": 4,
    "start_time": "2024-03-12T13:01:11.242Z"
   },
   {
    "duration": 11,
    "start_time": "2024-03-12T13:01:22.932Z"
   },
   {
    "duration": 8,
    "start_time": "2024-03-12T13:01:28.868Z"
   },
   {
    "duration": 4,
    "start_time": "2024-03-12T13:01:30.284Z"
   },
   {
    "duration": 8,
    "start_time": "2024-03-12T13:01:53.222Z"
   },
   {
    "duration": 4,
    "start_time": "2024-03-12T13:02:00.754Z"
   },
   {
    "duration": 4,
    "start_time": "2024-03-12T13:02:07.047Z"
   },
   {
    "duration": 5,
    "start_time": "2024-03-12T13:02:15.799Z"
   },
   {
    "duration": 4,
    "start_time": "2024-03-12T13:02:25.671Z"
   },
   {
    "duration": 11,
    "start_time": "2024-03-12T13:02:34.261Z"
   },
   {
    "duration": 5,
    "start_time": "2024-03-12T13:02:34.642Z"
   },
   {
    "duration": 10,
    "start_time": "2024-03-12T13:02:37.805Z"
   },
   {
    "duration": 5,
    "start_time": "2024-03-12T13:02:38.557Z"
   },
   {
    "duration": 9,
    "start_time": "2024-03-12T13:03:55.617Z"
   },
   {
    "duration": 5,
    "start_time": "2024-03-12T13:03:56.201Z"
   },
   {
    "duration": 31,
    "start_time": "2024-03-12T13:04:55.080Z"
   },
   {
    "duration": 5,
    "start_time": "2024-03-12T13:04:56.179Z"
   },
   {
    "duration": 37,
    "start_time": "2024-03-12T13:05:42.666Z"
   },
   {
    "duration": 5,
    "start_time": "2024-03-12T13:05:43.474Z"
   },
   {
    "duration": 31,
    "start_time": "2024-03-12T13:06:15.051Z"
   },
   {
    "duration": 26,
    "start_time": "2024-03-12T13:06:19.946Z"
   },
   {
    "duration": 26,
    "start_time": "2024-03-12T13:06:39.354Z"
   },
   {
    "duration": 31,
    "start_time": "2024-03-12T13:07:22.534Z"
   },
   {
    "duration": 1195,
    "start_time": "2024-03-12T13:16:50.307Z"
   },
   {
    "duration": 160,
    "start_time": "2024-03-12T13:16:51.504Z"
   },
   {
    "duration": 14,
    "start_time": "2024-03-12T13:16:51.665Z"
   },
   {
    "duration": 11,
    "start_time": "2024-03-12T13:16:51.681Z"
   },
   {
    "duration": 12,
    "start_time": "2024-03-12T13:16:51.693Z"
   },
   {
    "duration": 13,
    "start_time": "2024-03-12T13:16:51.707Z"
   },
   {
    "duration": 8,
    "start_time": "2024-03-12T13:16:51.722Z"
   },
   {
    "duration": 14,
    "start_time": "2024-03-12T13:16:51.731Z"
   },
   {
    "duration": 8,
    "start_time": "2024-03-12T13:16:51.748Z"
   },
   {
    "duration": 9,
    "start_time": "2024-03-12T13:16:51.760Z"
   },
   {
    "duration": 10,
    "start_time": "2024-03-12T13:16:51.771Z"
   },
   {
    "duration": 5,
    "start_time": "2024-03-12T13:16:51.815Z"
   },
   {
    "duration": 7,
    "start_time": "2024-03-12T13:16:51.823Z"
   },
   {
    "duration": 10,
    "start_time": "2024-03-12T13:16:51.832Z"
   },
   {
    "duration": 11,
    "start_time": "2024-03-12T13:16:51.844Z"
   },
   {
    "duration": 19,
    "start_time": "2024-03-12T13:16:51.858Z"
   },
   {
    "duration": 44,
    "start_time": "2024-03-12T13:16:51.878Z"
   },
   {
    "duration": 5,
    "start_time": "2024-03-12T13:16:51.923Z"
   },
   {
    "duration": 8,
    "start_time": "2024-03-12T13:16:51.929Z"
   },
   {
    "duration": 9,
    "start_time": "2024-03-12T13:16:51.939Z"
   },
   {
    "duration": 229,
    "start_time": "2024-03-12T13:16:51.949Z"
   },
   {
    "duration": 130,
    "start_time": "2024-03-12T13:16:52.180Z"
   },
   {
    "duration": 9,
    "start_time": "2024-03-12T13:16:52.311Z"
   },
   {
    "duration": 384,
    "start_time": "2024-03-12T13:16:52.323Z"
   },
   {
    "duration": 6,
    "start_time": "2024-03-12T13:16:52.709Z"
   },
   {
    "duration": 562,
    "start_time": "2024-03-12T13:16:52.717Z"
   },
   {
    "duration": 10,
    "start_time": "2024-03-12T13:16:53.280Z"
   },
   {
    "duration": 20,
    "start_time": "2024-03-12T13:16:53.295Z"
   },
   {
    "duration": 305,
    "start_time": "2024-03-12T13:16:53.316Z"
   },
   {
    "duration": 5,
    "start_time": "2024-03-12T13:16:53.622Z"
   },
   {
    "duration": 226,
    "start_time": "2024-03-12T13:16:53.629Z"
   },
   {
    "duration": 4,
    "start_time": "2024-03-12T13:16:53.858Z"
   },
   {
    "duration": 22,
    "start_time": "2024-03-12T13:16:53.864Z"
   },
   {
    "duration": 11,
    "start_time": "2024-03-12T13:16:53.888Z"
   },
   {
    "duration": 16,
    "start_time": "2024-03-12T13:16:53.901Z"
   },
   {
    "duration": 26,
    "start_time": "2024-03-12T13:16:53.919Z"
   },
   {
    "duration": 8,
    "start_time": "2024-03-12T13:16:53.947Z"
   },
   {
    "duration": 12,
    "start_time": "2024-03-12T13:16:53.957Z"
   },
   {
    "duration": 22,
    "start_time": "2024-03-12T13:16:53.971Z"
   },
   {
    "duration": 20,
    "start_time": "2024-03-12T13:16:53.995Z"
   },
   {
    "duration": 22,
    "start_time": "2024-03-12T13:16:54.017Z"
   },
   {
    "duration": 27,
    "start_time": "2024-03-12T13:16:54.041Z"
   },
   {
    "duration": 31,
    "start_time": "2024-03-12T13:16:54.070Z"
   },
   {
    "duration": 6,
    "start_time": "2024-03-12T13:16:54.103Z"
   },
   {
    "duration": 384,
    "start_time": "2024-03-12T13:16:54.111Z"
   },
   {
    "duration": 8,
    "start_time": "2024-03-12T13:16:54.497Z"
   },
   {
    "duration": 205,
    "start_time": "2024-03-12T13:16:54.507Z"
   },
   {
    "duration": 4,
    "start_time": "2024-03-12T13:16:54.715Z"
   },
   {
    "duration": 7,
    "start_time": "2024-03-12T13:16:54.721Z"
   },
   {
    "duration": 4,
    "start_time": "2024-03-12T13:16:54.730Z"
   },
   {
    "duration": 375,
    "start_time": "2024-03-12T13:16:54.735Z"
   },
   {
    "duration": 12,
    "start_time": "2024-03-12T13:16:55.112Z"
   },
   {
    "duration": 233,
    "start_time": "2024-03-12T13:16:55.126Z"
   },
   {
    "duration": 8,
    "start_time": "2024-03-12T13:16:55.361Z"
   },
   {
    "duration": 22,
    "start_time": "2024-03-12T13:16:55.371Z"
   },
   {
    "duration": 686,
    "start_time": "2024-03-12T13:16:55.394Z"
   },
   {
    "duration": 375,
    "start_time": "2024-03-12T13:16:56.083Z"
   },
   {
    "duration": 41,
    "start_time": "2024-03-12T13:16:56.460Z"
   },
   {
    "duration": 14,
    "start_time": "2024-03-12T13:16:56.502Z"
   },
   {
    "duration": 18,
    "start_time": "2024-03-12T13:16:56.521Z"
   },
   {
    "duration": 11,
    "start_time": "2024-03-12T13:16:56.541Z"
   },
   {
    "duration": 34,
    "start_time": "2024-03-12T13:16:56.553Z"
   },
   {
    "duration": 17,
    "start_time": "2024-03-12T13:16:56.589Z"
   },
   {
    "duration": 7,
    "start_time": "2024-03-12T13:16:56.608Z"
   },
   {
    "duration": 12,
    "start_time": "2024-03-12T13:16:56.618Z"
   },
   {
    "duration": 24,
    "start_time": "2024-03-12T13:16:56.632Z"
   },
   {
    "duration": 22,
    "start_time": "2024-03-12T13:16:56.658Z"
   },
   {
    "duration": 1760,
    "start_time": "2024-03-12T13:16:56.682Z"
   },
   {
    "duration": 5,
    "start_time": "2024-03-12T13:16:58.443Z"
   },
   {
    "duration": 37,
    "start_time": "2024-03-12T13:16:58.450Z"
   },
   {
    "duration": 1777,
    "start_time": "2024-03-12T13:16:58.489Z"
   },
   {
    "duration": 1754,
    "start_time": "2024-03-12T13:19:24.818Z"
   },
   {
    "duration": 268,
    "start_time": "2024-03-12T13:20:02.113Z"
   },
   {
    "duration": 238,
    "start_time": "2024-03-12T13:21:49.445Z"
   },
   {
    "duration": 72,
    "start_time": "2024-03-12T13:22:05.421Z"
   },
   {
    "duration": 320,
    "start_time": "2024-03-12T13:22:11.479Z"
   },
   {
    "duration": 129,
    "start_time": "2024-03-12T13:22:24.303Z"
   },
   {
    "duration": 83,
    "start_time": "2024-03-12T13:22:30.650Z"
   },
   {
    "duration": 391,
    "start_time": "2024-03-12T13:22:52.973Z"
   },
   {
    "duration": 185,
    "start_time": "2024-03-12T13:23:05.652Z"
   },
   {
    "duration": 238,
    "start_time": "2024-03-12T13:24:09.898Z"
   },
   {
    "duration": 11,
    "start_time": "2024-03-12T13:29:33.664Z"
   },
   {
    "duration": 266,
    "start_time": "2024-03-12T13:30:07.095Z"
   },
   {
    "duration": 14,
    "start_time": "2024-03-12T13:35:26.245Z"
   },
   {
    "duration": 2,
    "start_time": "2024-03-12T13:35:36.067Z"
   },
   {
    "duration": 33,
    "start_time": "2024-03-12T13:35:36.823Z"
   },
   {
    "duration": 2,
    "start_time": "2024-03-12T13:35:47.629Z"
   },
   {
    "duration": 178,
    "start_time": "2024-03-12T13:35:48.143Z"
   },
   {
    "duration": 1216,
    "start_time": "2024-03-12T13:36:11.390Z"
   },
   {
    "duration": 148,
    "start_time": "2024-03-12T13:36:12.609Z"
   },
   {
    "duration": 13,
    "start_time": "2024-03-12T13:36:12.758Z"
   },
   {
    "duration": 24,
    "start_time": "2024-03-12T13:36:12.773Z"
   },
   {
    "duration": 14,
    "start_time": "2024-03-12T13:36:12.799Z"
   },
   {
    "duration": 12,
    "start_time": "2024-03-12T13:36:12.815Z"
   },
   {
    "duration": 17,
    "start_time": "2024-03-12T13:36:12.828Z"
   },
   {
    "duration": 12,
    "start_time": "2024-03-12T13:36:12.847Z"
   },
   {
    "duration": 6,
    "start_time": "2024-03-12T13:36:12.860Z"
   },
   {
    "duration": 16,
    "start_time": "2024-03-12T13:36:12.869Z"
   },
   {
    "duration": 32,
    "start_time": "2024-03-12T13:36:12.887Z"
   },
   {
    "duration": 5,
    "start_time": "2024-03-12T13:36:12.921Z"
   },
   {
    "duration": 4,
    "start_time": "2024-03-12T13:36:12.928Z"
   },
   {
    "duration": 10,
    "start_time": "2024-03-12T13:36:12.934Z"
   },
   {
    "duration": 14,
    "start_time": "2024-03-12T13:36:12.945Z"
   },
   {
    "duration": 57,
    "start_time": "2024-03-12T13:36:12.960Z"
   },
   {
    "duration": 10,
    "start_time": "2024-03-12T13:36:13.019Z"
   },
   {
    "duration": 14,
    "start_time": "2024-03-12T13:36:13.031Z"
   },
   {
    "duration": 6,
    "start_time": "2024-03-12T13:36:13.047Z"
   },
   {
    "duration": 61,
    "start_time": "2024-03-12T13:36:13.055Z"
   },
   {
    "duration": 410,
    "start_time": "2024-03-12T13:36:13.118Z"
   },
   {
    "duration": 295,
    "start_time": "2024-03-12T13:36:13.529Z"
   },
   {
    "duration": 6,
    "start_time": "2024-03-12T13:36:13.825Z"
   },
   {
    "duration": 709,
    "start_time": "2024-03-12T13:36:13.832Z"
   },
   {
    "duration": 8,
    "start_time": "2024-03-12T13:36:14.543Z"
   },
   {
    "duration": 537,
    "start_time": "2024-03-12T13:36:14.553Z"
   },
   {
    "duration": 9,
    "start_time": "2024-03-12T13:36:15.092Z"
   },
   {
    "duration": 5,
    "start_time": "2024-03-12T13:36:15.114Z"
   },
   {
    "duration": 332,
    "start_time": "2024-03-12T13:36:15.120Z"
   },
   {
    "duration": 5,
    "start_time": "2024-03-12T13:36:15.453Z"
   },
   {
    "duration": 213,
    "start_time": "2024-03-12T13:36:15.459Z"
   },
   {
    "duration": 4,
    "start_time": "2024-03-12T13:36:15.674Z"
   },
   {
    "duration": 18,
    "start_time": "2024-03-12T13:36:15.680Z"
   },
   {
    "duration": 12,
    "start_time": "2024-03-12T13:36:15.699Z"
   },
   {
    "duration": 27,
    "start_time": "2024-03-12T13:36:15.712Z"
   },
   {
    "duration": 39,
    "start_time": "2024-03-12T13:36:15.740Z"
   },
   {
    "duration": 14,
    "start_time": "2024-03-12T13:36:15.781Z"
   },
   {
    "duration": 34,
    "start_time": "2024-03-12T13:36:15.797Z"
   },
   {
    "duration": 19,
    "start_time": "2024-03-12T13:36:15.833Z"
   },
   {
    "duration": 7,
    "start_time": "2024-03-12T13:36:15.854Z"
   },
   {
    "duration": 24,
    "start_time": "2024-03-12T13:36:15.862Z"
   },
   {
    "duration": 7,
    "start_time": "2024-03-12T13:36:15.887Z"
   },
   {
    "duration": 36,
    "start_time": "2024-03-12T13:36:15.895Z"
   },
   {
    "duration": 3,
    "start_time": "2024-03-12T13:36:15.933Z"
   },
   {
    "duration": 364,
    "start_time": "2024-03-12T13:36:15.938Z"
   },
   {
    "duration": 12,
    "start_time": "2024-03-12T13:36:16.304Z"
   },
   {
    "duration": 223,
    "start_time": "2024-03-12T13:36:16.318Z"
   },
   {
    "duration": 5,
    "start_time": "2024-03-12T13:36:16.542Z"
   },
   {
    "duration": 14,
    "start_time": "2024-03-12T13:36:16.548Z"
   },
   {
    "duration": 8,
    "start_time": "2024-03-12T13:36:16.563Z"
   },
   {
    "duration": 371,
    "start_time": "2024-03-12T13:36:16.573Z"
   },
   {
    "duration": 9,
    "start_time": "2024-03-12T13:36:16.945Z"
   },
   {
    "duration": 219,
    "start_time": "2024-03-12T13:36:16.956Z"
   },
   {
    "duration": 9,
    "start_time": "2024-03-12T13:36:17.176Z"
   },
   {
    "duration": 4,
    "start_time": "2024-03-12T13:36:17.187Z"
   },
   {
    "duration": 621,
    "start_time": "2024-03-12T13:36:17.193Z"
   },
   {
    "duration": 374,
    "start_time": "2024-03-12T13:36:17.817Z"
   },
   {
    "duration": 54,
    "start_time": "2024-03-12T13:36:18.192Z"
   },
   {
    "duration": 3,
    "start_time": "2024-03-12T13:36:18.247Z"
   },
   {
    "duration": 29,
    "start_time": "2024-03-12T13:36:18.252Z"
   },
   {
    "duration": 18,
    "start_time": "2024-03-12T13:36:18.283Z"
   },
   {
    "duration": 22,
    "start_time": "2024-03-12T13:36:18.303Z"
   },
   {
    "duration": 18,
    "start_time": "2024-03-12T13:36:18.327Z"
   },
   {
    "duration": 29,
    "start_time": "2024-03-12T13:36:18.346Z"
   },
   {
    "duration": 15,
    "start_time": "2024-03-12T13:36:18.377Z"
   },
   {
    "duration": 21,
    "start_time": "2024-03-12T13:36:18.394Z"
   },
   {
    "duration": 26,
    "start_time": "2024-03-12T13:36:18.417Z"
   },
   {
    "duration": 1725,
    "start_time": "2024-03-12T13:36:18.445Z"
   },
   {
    "duration": 5,
    "start_time": "2024-03-12T13:36:20.171Z"
   },
   {
    "duration": 43,
    "start_time": "2024-03-12T13:36:20.178Z"
   },
   {
    "duration": 11,
    "start_time": "2024-03-12T13:36:20.222Z"
   },
   {
    "duration": 37210,
    "start_time": "2024-03-12T13:36:20.235Z"
   },
   {
    "duration": 2,
    "start_time": "2024-03-12T13:37:02.952Z"
   },
   {
    "duration": 1189,
    "start_time": "2024-03-12T13:37:27.812Z"
   },
   {
    "duration": 160,
    "start_time": "2024-03-12T13:37:29.003Z"
   },
   {
    "duration": 18,
    "start_time": "2024-03-12T13:37:29.165Z"
   },
   {
    "duration": 11,
    "start_time": "2024-03-12T13:37:29.186Z"
   },
   {
    "duration": 11,
    "start_time": "2024-03-12T13:37:29.201Z"
   },
   {
    "duration": 15,
    "start_time": "2024-03-12T13:37:29.214Z"
   },
   {
    "duration": 8,
    "start_time": "2024-03-12T13:37:29.231Z"
   },
   {
    "duration": 22,
    "start_time": "2024-03-12T13:37:29.240Z"
   },
   {
    "duration": 23,
    "start_time": "2024-03-12T13:37:29.264Z"
   },
   {
    "duration": 16,
    "start_time": "2024-03-12T13:37:29.290Z"
   },
   {
    "duration": 10,
    "start_time": "2024-03-12T13:37:29.308Z"
   },
   {
    "duration": 15,
    "start_time": "2024-03-12T13:37:29.320Z"
   },
   {
    "duration": 6,
    "start_time": "2024-03-12T13:37:29.336Z"
   },
   {
    "duration": 11,
    "start_time": "2024-03-12T13:37:29.345Z"
   },
   {
    "duration": 27,
    "start_time": "2024-03-12T13:37:29.357Z"
   },
   {
    "duration": 16,
    "start_time": "2024-03-12T13:37:29.386Z"
   },
   {
    "duration": 11,
    "start_time": "2024-03-12T13:37:29.404Z"
   },
   {
    "duration": 16,
    "start_time": "2024-03-12T13:37:29.416Z"
   },
   {
    "duration": 18,
    "start_time": "2024-03-12T13:37:29.434Z"
   },
   {
    "duration": 7,
    "start_time": "2024-03-12T13:37:29.453Z"
   },
   {
    "duration": 210,
    "start_time": "2024-03-12T13:37:29.462Z"
   },
   {
    "duration": 112,
    "start_time": "2024-03-12T13:37:29.674Z"
   },
   {
    "duration": 5,
    "start_time": "2024-03-12T13:37:29.788Z"
   },
   {
    "duration": 350,
    "start_time": "2024-03-12T13:37:29.794Z"
   },
   {
    "duration": 5,
    "start_time": "2024-03-12T13:37:30.145Z"
   },
   {
    "duration": 564,
    "start_time": "2024-03-12T13:37:30.152Z"
   },
   {
    "duration": 11,
    "start_time": "2024-03-12T13:37:30.718Z"
   },
   {
    "duration": 60,
    "start_time": "2024-03-12T13:37:30.731Z"
   },
   {
    "duration": 372,
    "start_time": "2024-03-12T13:37:30.793Z"
   },
   {
    "duration": 5,
    "start_time": "2024-03-12T13:37:31.167Z"
   },
   {
    "duration": 245,
    "start_time": "2024-03-12T13:37:31.173Z"
   },
   {
    "duration": 5,
    "start_time": "2024-03-12T13:37:31.420Z"
   },
   {
    "duration": 45,
    "start_time": "2024-03-12T13:37:31.427Z"
   },
   {
    "duration": 21,
    "start_time": "2024-03-12T13:37:31.474Z"
   },
   {
    "duration": 43,
    "start_time": "2024-03-12T13:37:31.496Z"
   },
   {
    "duration": 28,
    "start_time": "2024-03-12T13:37:31.541Z"
   },
   {
    "duration": 35,
    "start_time": "2024-03-12T13:37:31.571Z"
   },
   {
    "duration": 36,
    "start_time": "2024-03-12T13:37:31.608Z"
   },
   {
    "duration": 45,
    "start_time": "2024-03-12T13:37:31.645Z"
   },
   {
    "duration": 26,
    "start_time": "2024-03-12T13:37:31.692Z"
   },
   {
    "duration": 43,
    "start_time": "2024-03-12T13:37:31.723Z"
   },
   {
    "duration": 15,
    "start_time": "2024-03-12T13:37:31.769Z"
   },
   {
    "duration": 31,
    "start_time": "2024-03-12T13:37:31.786Z"
   },
   {
    "duration": 12,
    "start_time": "2024-03-12T13:37:31.819Z"
   },
   {
    "duration": 366,
    "start_time": "2024-03-12T13:37:31.833Z"
   },
   {
    "duration": 14,
    "start_time": "2024-03-12T13:37:32.201Z"
   },
   {
    "duration": 197,
    "start_time": "2024-03-12T13:37:32.217Z"
   },
   {
    "duration": 5,
    "start_time": "2024-03-12T13:37:32.416Z"
   },
   {
    "duration": 12,
    "start_time": "2024-03-12T13:37:32.422Z"
   },
   {
    "duration": 7,
    "start_time": "2024-03-12T13:37:32.436Z"
   },
   {
    "duration": 355,
    "start_time": "2024-03-12T13:37:32.445Z"
   },
   {
    "duration": 18,
    "start_time": "2024-03-12T13:37:32.802Z"
   },
   {
    "duration": 229,
    "start_time": "2024-03-12T13:37:32.822Z"
   },
   {
    "duration": 10,
    "start_time": "2024-03-12T13:37:33.054Z"
   },
   {
    "duration": 5,
    "start_time": "2024-03-12T13:37:33.066Z"
   },
   {
    "duration": 657,
    "start_time": "2024-03-12T13:37:33.073Z"
   },
   {
    "duration": 334,
    "start_time": "2024-03-12T13:37:33.731Z"
   },
   {
    "duration": 47,
    "start_time": "2024-03-12T13:37:34.067Z"
   },
   {
    "duration": 3,
    "start_time": "2024-03-12T13:37:34.116Z"
   },
   {
    "duration": 13,
    "start_time": "2024-03-12T13:37:34.121Z"
   },
   {
    "duration": 6,
    "start_time": "2024-03-12T13:37:34.136Z"
   },
   {
    "duration": 25,
    "start_time": "2024-03-12T13:37:34.144Z"
   },
   {
    "duration": 5,
    "start_time": "2024-03-12T13:37:34.171Z"
   },
   {
    "duration": 12,
    "start_time": "2024-03-12T13:37:34.178Z"
   },
   {
    "duration": 25,
    "start_time": "2024-03-12T13:37:34.192Z"
   },
   {
    "duration": 5,
    "start_time": "2024-03-12T13:37:34.218Z"
   },
   {
    "duration": 13,
    "start_time": "2024-03-12T13:37:34.225Z"
   },
   {
    "duration": 1746,
    "start_time": "2024-03-12T13:37:34.240Z"
   },
   {
    "duration": 4,
    "start_time": "2024-03-12T13:37:35.988Z"
   },
   {
    "duration": 36,
    "start_time": "2024-03-12T13:37:35.994Z"
   },
   {
    "duration": 2,
    "start_time": "2024-03-12T13:37:36.032Z"
   },
   {
    "duration": 4,
    "start_time": "2024-03-12T13:38:14.226Z"
   },
   {
    "duration": 155,
    "start_time": "2024-03-12T13:38:14.847Z"
   },
   {
    "duration": 2047,
    "start_time": "2024-03-12T13:38:21.318Z"
   },
   {
    "duration": 128,
    "start_time": "2024-03-12T13:38:23.368Z"
   },
   {
    "duration": 14,
    "start_time": "2024-03-12T13:38:23.498Z"
   },
   {
    "duration": 17,
    "start_time": "2024-03-12T13:38:23.514Z"
   },
   {
    "duration": 14,
    "start_time": "2024-03-12T13:38:23.534Z"
   },
   {
    "duration": 14,
    "start_time": "2024-03-12T13:38:23.550Z"
   },
   {
    "duration": 7,
    "start_time": "2024-03-12T13:38:23.565Z"
   },
   {
    "duration": 14,
    "start_time": "2024-03-12T13:38:23.573Z"
   },
   {
    "duration": 16,
    "start_time": "2024-03-12T13:38:23.588Z"
   },
   {
    "duration": 12,
    "start_time": "2024-03-12T13:38:23.617Z"
   },
   {
    "duration": 23,
    "start_time": "2024-03-12T13:38:23.631Z"
   },
   {
    "duration": 7,
    "start_time": "2024-03-12T13:38:23.656Z"
   },
   {
    "duration": 14,
    "start_time": "2024-03-12T13:38:23.665Z"
   },
   {
    "duration": 8,
    "start_time": "2024-03-12T13:38:23.683Z"
   },
   {
    "duration": 16,
    "start_time": "2024-03-12T13:38:23.692Z"
   },
   {
    "duration": 14,
    "start_time": "2024-03-12T13:38:23.710Z"
   },
   {
    "duration": 21,
    "start_time": "2024-03-12T13:38:23.726Z"
   },
   {
    "duration": 5,
    "start_time": "2024-03-12T13:38:23.748Z"
   },
   {
    "duration": 9,
    "start_time": "2024-03-12T13:38:23.754Z"
   },
   {
    "duration": 6,
    "start_time": "2024-03-12T13:38:23.765Z"
   },
   {
    "duration": 215,
    "start_time": "2024-03-12T13:38:23.773Z"
   },
   {
    "duration": 110,
    "start_time": "2024-03-12T13:38:23.990Z"
   },
   {
    "duration": 1144,
    "start_time": "2024-03-12T13:38:25.864Z"
   },
   {
    "duration": 136,
    "start_time": "2024-03-12T13:38:27.011Z"
   },
   {
    "duration": 17,
    "start_time": "2024-03-12T13:38:27.148Z"
   },
   {
    "duration": 14,
    "start_time": "2024-03-12T13:38:27.167Z"
   },
   {
    "duration": 20,
    "start_time": "2024-03-12T13:38:27.184Z"
   },
   {
    "duration": 12,
    "start_time": "2024-03-12T13:38:27.207Z"
   },
   {
    "duration": 10,
    "start_time": "2024-03-12T13:38:27.221Z"
   },
   {
    "duration": 12,
    "start_time": "2024-03-12T13:38:27.232Z"
   },
   {
    "duration": 5,
    "start_time": "2024-03-12T13:38:27.245Z"
   },
   {
    "duration": 12,
    "start_time": "2024-03-12T13:38:27.252Z"
   },
   {
    "duration": 10,
    "start_time": "2024-03-12T13:38:27.265Z"
   },
   {
    "duration": 41,
    "start_time": "2024-03-12T13:38:27.276Z"
   },
   {
    "duration": 16,
    "start_time": "2024-03-12T13:38:27.319Z"
   },
   {
    "duration": 18,
    "start_time": "2024-03-12T13:38:27.337Z"
   },
   {
    "duration": 10,
    "start_time": "2024-03-12T13:38:27.357Z"
   },
   {
    "duration": 9,
    "start_time": "2024-03-12T13:38:27.369Z"
   },
   {
    "duration": 12,
    "start_time": "2024-03-12T13:38:27.380Z"
   },
   {
    "duration": 25,
    "start_time": "2024-03-12T13:38:27.394Z"
   },
   {
    "duration": 11,
    "start_time": "2024-03-12T13:38:27.421Z"
   },
   {
    "duration": 11,
    "start_time": "2024-03-12T13:38:27.434Z"
   },
   {
    "duration": 231,
    "start_time": "2024-03-12T13:38:27.447Z"
   },
   {
    "duration": 119,
    "start_time": "2024-03-12T13:38:27.681Z"
   },
   {
    "duration": 14,
    "start_time": "2024-03-12T13:38:27.801Z"
   },
   {
    "duration": 351,
    "start_time": "2024-03-12T13:38:27.817Z"
   },
   {
    "duration": 5,
    "start_time": "2024-03-12T13:38:28.170Z"
   },
   {
    "duration": 520,
    "start_time": "2024-03-12T13:38:28.177Z"
   },
   {
    "duration": 20,
    "start_time": "2024-03-12T13:38:28.699Z"
   },
   {
    "duration": 6,
    "start_time": "2024-03-12T13:38:28.725Z"
   },
   {
    "duration": 374,
    "start_time": "2024-03-12T13:38:28.733Z"
   },
   {
    "duration": 6,
    "start_time": "2024-03-12T13:38:29.114Z"
   },
   {
    "duration": 229,
    "start_time": "2024-03-12T13:38:29.121Z"
   },
   {
    "duration": 5,
    "start_time": "2024-03-12T13:38:29.352Z"
   },
   {
    "duration": 18,
    "start_time": "2024-03-12T13:38:29.359Z"
   },
   {
    "duration": 3,
    "start_time": "2024-03-12T13:38:29.379Z"
   },
   {
    "duration": 23,
    "start_time": "2024-03-12T13:38:29.383Z"
   },
   {
    "duration": 20,
    "start_time": "2024-03-12T13:38:29.408Z"
   },
   {
    "duration": 9,
    "start_time": "2024-03-12T13:38:29.430Z"
   },
   {
    "duration": 17,
    "start_time": "2024-03-12T13:38:29.441Z"
   },
   {
    "duration": 20,
    "start_time": "2024-03-12T13:38:29.459Z"
   },
   {
    "duration": 34,
    "start_time": "2024-03-12T13:38:29.481Z"
   },
   {
    "duration": 27,
    "start_time": "2024-03-12T13:38:29.517Z"
   },
   {
    "duration": 7,
    "start_time": "2024-03-12T13:38:29.545Z"
   },
   {
    "duration": 19,
    "start_time": "2024-03-12T13:38:29.554Z"
   },
   {
    "duration": 3,
    "start_time": "2024-03-12T13:38:29.575Z"
   },
   {
    "duration": 417,
    "start_time": "2024-03-12T13:38:29.580Z"
   },
   {
    "duration": 18,
    "start_time": "2024-03-12T13:38:29.998Z"
   },
   {
    "duration": 245,
    "start_time": "2024-03-12T13:38:30.018Z"
   },
   {
    "duration": 4,
    "start_time": "2024-03-12T13:38:30.265Z"
   },
   {
    "duration": 9,
    "start_time": "2024-03-12T13:38:30.271Z"
   },
   {
    "duration": 50,
    "start_time": "2024-03-12T13:38:30.283Z"
   },
   {
    "duration": 422,
    "start_time": "2024-03-12T13:38:30.339Z"
   },
   {
    "duration": 9,
    "start_time": "2024-03-12T13:38:30.762Z"
   },
   {
    "duration": 296,
    "start_time": "2024-03-12T13:38:30.773Z"
   },
   {
    "duration": 8,
    "start_time": "2024-03-12T13:38:31.071Z"
   },
   {
    "duration": 37,
    "start_time": "2024-03-12T13:38:31.081Z"
   },
   {
    "duration": 681,
    "start_time": "2024-03-12T13:38:31.120Z"
   },
   {
    "duration": 362,
    "start_time": "2024-03-12T13:38:31.803Z"
   },
   {
    "duration": 48,
    "start_time": "2024-03-12T13:38:32.167Z"
   },
   {
    "duration": 4,
    "start_time": "2024-03-12T13:38:32.217Z"
   },
   {
    "duration": 22,
    "start_time": "2024-03-12T13:38:32.223Z"
   },
   {
    "duration": 7,
    "start_time": "2024-03-12T13:38:32.246Z"
   },
   {
    "duration": 17,
    "start_time": "2024-03-12T13:38:32.254Z"
   },
   {
    "duration": 6,
    "start_time": "2024-03-12T13:38:32.273Z"
   },
   {
    "duration": 7,
    "start_time": "2024-03-12T13:38:32.280Z"
   },
   {
    "duration": 28,
    "start_time": "2024-03-12T13:38:32.290Z"
   },
   {
    "duration": 8,
    "start_time": "2024-03-12T13:38:32.320Z"
   },
   {
    "duration": 12,
    "start_time": "2024-03-12T13:38:32.330Z"
   },
   {
    "duration": 1763,
    "start_time": "2024-03-12T13:38:32.344Z"
   },
   {
    "duration": 12,
    "start_time": "2024-03-12T13:38:34.110Z"
   },
   {
    "duration": 48,
    "start_time": "2024-03-12T13:38:34.128Z"
   },
   {
    "duration": 4,
    "start_time": "2024-03-12T13:45:58.138Z"
   },
   {
    "duration": 100,
    "start_time": "2024-03-12T13:47:01.191Z"
   },
   {
    "duration": 1144,
    "start_time": "2024-03-12T13:47:28.451Z"
   },
   {
    "duration": 146,
    "start_time": "2024-03-12T13:47:29.597Z"
   },
   {
    "duration": 14,
    "start_time": "2024-03-12T13:47:29.745Z"
   },
   {
    "duration": 22,
    "start_time": "2024-03-12T13:47:29.761Z"
   },
   {
    "duration": 16,
    "start_time": "2024-03-12T13:47:29.786Z"
   },
   {
    "duration": 26,
    "start_time": "2024-03-12T13:47:29.804Z"
   },
   {
    "duration": 17,
    "start_time": "2024-03-12T13:47:29.832Z"
   },
   {
    "duration": 23,
    "start_time": "2024-03-12T13:47:29.851Z"
   },
   {
    "duration": 13,
    "start_time": "2024-03-12T13:47:29.876Z"
   },
   {
    "duration": 32,
    "start_time": "2024-03-12T13:47:29.891Z"
   },
   {
    "duration": 22,
    "start_time": "2024-03-12T13:47:29.925Z"
   },
   {
    "duration": 10,
    "start_time": "2024-03-12T13:47:29.949Z"
   },
   {
    "duration": 6,
    "start_time": "2024-03-12T13:47:29.960Z"
   },
   {
    "duration": 10,
    "start_time": "2024-03-12T13:47:29.970Z"
   },
   {
    "duration": 8,
    "start_time": "2024-03-12T13:47:29.981Z"
   },
   {
    "duration": 27,
    "start_time": "2024-03-12T13:47:29.991Z"
   },
   {
    "duration": 17,
    "start_time": "2024-03-12T13:47:30.020Z"
   },
   {
    "duration": 28,
    "start_time": "2024-03-12T13:47:30.039Z"
   },
   {
    "duration": 49,
    "start_time": "2024-03-12T13:47:30.068Z"
   },
   {
    "duration": 42,
    "start_time": "2024-03-12T13:47:30.119Z"
   },
   {
    "duration": 220,
    "start_time": "2024-03-12T13:47:30.162Z"
   },
   {
    "duration": 123,
    "start_time": "2024-03-12T13:47:30.384Z"
   },
   {
    "duration": 10,
    "start_time": "2024-03-12T13:47:30.508Z"
   },
   {
    "duration": 423,
    "start_time": "2024-03-12T13:47:30.519Z"
   },
   {
    "duration": 5,
    "start_time": "2024-03-12T13:47:30.943Z"
   },
   {
    "duration": 640,
    "start_time": "2024-03-12T13:47:30.950Z"
   },
   {
    "duration": 9,
    "start_time": "2024-03-12T13:47:31.592Z"
   },
   {
    "duration": 12,
    "start_time": "2024-03-12T13:47:31.615Z"
   },
   {
    "duration": 310,
    "start_time": "2024-03-12T13:47:31.628Z"
   },
   {
    "duration": 4,
    "start_time": "2024-03-12T13:47:31.940Z"
   },
   {
    "duration": 212,
    "start_time": "2024-03-12T13:47:31.945Z"
   },
   {
    "duration": 4,
    "start_time": "2024-03-12T13:47:32.159Z"
   },
   {
    "duration": 12,
    "start_time": "2024-03-12T13:47:32.165Z"
   },
   {
    "duration": 3,
    "start_time": "2024-03-12T13:47:32.178Z"
   },
   {
    "duration": 12,
    "start_time": "2024-03-12T13:47:32.183Z"
   },
   {
    "duration": 10,
    "start_time": "2024-03-12T13:47:32.214Z"
   },
   {
    "duration": 16,
    "start_time": "2024-03-12T13:47:32.226Z"
   },
   {
    "duration": 16,
    "start_time": "2024-03-12T13:47:32.244Z"
   },
   {
    "duration": 19,
    "start_time": "2024-03-12T13:47:32.261Z"
   },
   {
    "duration": 7,
    "start_time": "2024-03-12T13:47:32.282Z"
   },
   {
    "duration": 18,
    "start_time": "2024-03-12T13:47:32.314Z"
   },
   {
    "duration": 10,
    "start_time": "2024-03-12T13:47:32.333Z"
   },
   {
    "duration": 22,
    "start_time": "2024-03-12T13:47:32.344Z"
   },
   {
    "duration": 5,
    "start_time": "2024-03-12T13:47:32.368Z"
   },
   {
    "duration": 377,
    "start_time": "2024-03-12T13:47:32.375Z"
   },
   {
    "duration": 9,
    "start_time": "2024-03-12T13:47:32.754Z"
   },
   {
    "duration": 226,
    "start_time": "2024-03-12T13:47:32.765Z"
   },
   {
    "duration": 4,
    "start_time": "2024-03-12T13:47:32.992Z"
   },
   {
    "duration": 22,
    "start_time": "2024-03-12T13:47:32.998Z"
   },
   {
    "duration": 5,
    "start_time": "2024-03-12T13:47:33.022Z"
   },
   {
    "duration": 349,
    "start_time": "2024-03-12T13:47:33.028Z"
   },
   {
    "duration": 8,
    "start_time": "2024-03-12T13:47:33.379Z"
   },
   {
    "duration": 218,
    "start_time": "2024-03-12T13:47:33.389Z"
   },
   {
    "duration": 8,
    "start_time": "2024-03-12T13:47:33.614Z"
   },
   {
    "duration": 4,
    "start_time": "2024-03-12T13:47:33.624Z"
   },
   {
    "duration": 627,
    "start_time": "2024-03-12T13:47:33.630Z"
   },
   {
    "duration": 339,
    "start_time": "2024-03-12T13:47:34.259Z"
   },
   {
    "duration": 49,
    "start_time": "2024-03-12T13:47:34.599Z"
   },
   {
    "duration": 3,
    "start_time": "2024-03-12T13:47:34.649Z"
   },
   {
    "duration": 16,
    "start_time": "2024-03-12T13:47:34.654Z"
   },
   {
    "duration": 8,
    "start_time": "2024-03-12T13:47:34.672Z"
   },
   {
    "duration": 13,
    "start_time": "2024-03-12T13:47:34.682Z"
   },
   {
    "duration": 21,
    "start_time": "2024-03-12T13:47:34.696Z"
   },
   {
    "duration": 6,
    "start_time": "2024-03-12T13:47:34.719Z"
   },
   {
    "duration": 5,
    "start_time": "2024-03-12T13:47:34.726Z"
   },
   {
    "duration": 6,
    "start_time": "2024-03-12T13:47:34.733Z"
   },
   {
    "duration": 18,
    "start_time": "2024-03-12T13:47:34.740Z"
   },
   {
    "duration": 1692,
    "start_time": "2024-03-12T13:47:34.759Z"
   },
   {
    "duration": 5,
    "start_time": "2024-03-12T13:47:36.452Z"
   },
   {
    "duration": 28,
    "start_time": "2024-03-12T13:47:36.458Z"
   },
   {
    "duration": 3,
    "start_time": "2024-03-12T13:47:36.488Z"
   },
   {
    "duration": 4,
    "start_time": "2024-03-12T13:47:43.587Z"
   },
   {
    "duration": 4,
    "start_time": "2024-03-12T13:47:47.688Z"
   },
   {
    "duration": 32,
    "start_time": "2024-03-12T13:51:28.928Z"
   },
   {
    "duration": 3,
    "start_time": "2024-03-12T13:53:27.956Z"
   },
   {
    "duration": 5,
    "start_time": "2024-03-12T13:53:49.873Z"
   },
   {
    "duration": 2,
    "start_time": "2024-03-12T13:55:23.949Z"
   },
   {
    "duration": 3,
    "start_time": "2024-03-12T13:55:29.994Z"
   },
   {
    "duration": 4,
    "start_time": "2024-03-12T13:55:32.299Z"
   },
   {
    "duration": 3,
    "start_time": "2024-03-12T13:56:04.951Z"
   },
   {
    "duration": 5,
    "start_time": "2024-03-12T13:56:08.426Z"
   },
   {
    "duration": 3,
    "start_time": "2024-03-12T13:56:41.953Z"
   },
   {
    "duration": 5,
    "start_time": "2024-03-12T13:56:42.428Z"
   },
   {
    "duration": 178,
    "start_time": "2024-03-12T13:58:26.870Z"
   },
   {
    "duration": 220,
    "start_time": "2024-03-12T13:58:50.998Z"
   },
   {
    "duration": 229,
    "start_time": "2024-03-12T13:59:15.575Z"
   },
   {
    "duration": 176,
    "start_time": "2024-03-12T13:59:33.019Z"
   },
   {
    "duration": 307,
    "start_time": "2024-03-12T14:00:26.953Z"
   },
   {
    "duration": 267,
    "start_time": "2024-03-12T14:00:39.935Z"
   },
   {
    "duration": 6,
    "start_time": "2024-03-12T14:00:50.767Z"
   },
   {
    "duration": 293,
    "start_time": "2024-03-12T14:00:57.564Z"
   },
   {
    "duration": 144,
    "start_time": "2024-03-12T14:01:24.335Z"
   },
   {
    "duration": 158,
    "start_time": "2024-03-12T14:01:35.040Z"
   },
   {
    "duration": 171,
    "start_time": "2024-03-12T14:01:50.625Z"
   },
   {
    "duration": 189,
    "start_time": "2024-03-12T14:02:02.565Z"
   },
   {
    "duration": 7,
    "start_time": "2024-03-12T14:05:35.784Z"
   },
   {
    "duration": 180,
    "start_time": "2024-03-12T14:05:40.860Z"
   },
   {
    "duration": 6,
    "start_time": "2024-03-12T14:05:42.275Z"
   },
   {
    "duration": 6,
    "start_time": "2024-03-12T14:06:04.332Z"
   },
   {
    "duration": 7,
    "start_time": "2024-03-12T14:06:55.487Z"
   },
   {
    "duration": 1616,
    "start_time": "2024-03-12T14:15:37.051Z"
   },
   {
    "duration": 1203,
    "start_time": "2024-03-12T15:35:19.606Z"
   },
   {
    "duration": 478,
    "start_time": "2024-03-12T15:35:20.811Z"
   },
   {
    "duration": 13,
    "start_time": "2024-03-12T15:35:21.291Z"
   },
   {
    "duration": 15,
    "start_time": "2024-03-12T15:35:21.306Z"
   },
   {
    "duration": 11,
    "start_time": "2024-03-12T15:35:21.322Z"
   },
   {
    "duration": 14,
    "start_time": "2024-03-12T15:35:21.334Z"
   },
   {
    "duration": 7,
    "start_time": "2024-03-12T15:35:21.350Z"
   },
   {
    "duration": 12,
    "start_time": "2024-03-12T15:35:21.359Z"
   },
   {
    "duration": 7,
    "start_time": "2024-03-12T15:35:21.372Z"
   },
   {
    "duration": 10,
    "start_time": "2024-03-12T15:35:21.382Z"
   },
   {
    "duration": 30,
    "start_time": "2024-03-12T15:35:21.394Z"
   },
   {
    "duration": 4,
    "start_time": "2024-03-12T15:35:21.426Z"
   },
   {
    "duration": 4,
    "start_time": "2024-03-12T15:35:21.432Z"
   },
   {
    "duration": 14,
    "start_time": "2024-03-12T15:35:21.437Z"
   },
   {
    "duration": 7,
    "start_time": "2024-03-12T15:35:21.453Z"
   },
   {
    "duration": 9,
    "start_time": "2024-03-12T15:35:21.461Z"
   },
   {
    "duration": 10,
    "start_time": "2024-03-12T15:35:21.472Z"
   },
   {
    "duration": 34,
    "start_time": "2024-03-12T15:35:21.484Z"
   },
   {
    "duration": 7,
    "start_time": "2024-03-12T15:35:21.520Z"
   },
   {
    "duration": 22,
    "start_time": "2024-03-12T15:35:21.528Z"
   },
   {
    "duration": 237,
    "start_time": "2024-03-12T15:35:21.552Z"
   },
   {
    "duration": 115,
    "start_time": "2024-03-12T15:35:21.791Z"
   },
   {
    "duration": 7,
    "start_time": "2024-03-12T15:35:21.908Z"
   },
   {
    "duration": 356,
    "start_time": "2024-03-12T15:35:21.917Z"
   },
   {
    "duration": 5,
    "start_time": "2024-03-12T15:35:22.274Z"
   },
   {
    "duration": 515,
    "start_time": "2024-03-12T15:35:22.280Z"
   },
   {
    "duration": 9,
    "start_time": "2024-03-12T15:35:22.796Z"
   },
   {
    "duration": 10,
    "start_time": "2024-03-12T15:35:22.809Z"
   },
   {
    "duration": 356,
    "start_time": "2024-03-12T15:35:22.821Z"
   },
   {
    "duration": 4,
    "start_time": "2024-03-12T15:35:23.179Z"
   },
   {
    "duration": 222,
    "start_time": "2024-03-12T15:35:23.184Z"
   },
   {
    "duration": 10,
    "start_time": "2024-03-12T15:35:23.408Z"
   },
   {
    "duration": 12,
    "start_time": "2024-03-12T15:35:23.419Z"
   },
   {
    "duration": 4,
    "start_time": "2024-03-12T15:35:23.433Z"
   },
   {
    "duration": 15,
    "start_time": "2024-03-12T15:35:23.438Z"
   },
   {
    "duration": 23,
    "start_time": "2024-03-12T15:35:23.455Z"
   },
   {
    "duration": 10,
    "start_time": "2024-03-12T15:35:23.480Z"
   },
   {
    "duration": 26,
    "start_time": "2024-03-12T15:35:23.492Z"
   },
   {
    "duration": 19,
    "start_time": "2024-03-12T15:35:23.520Z"
   },
   {
    "duration": 8,
    "start_time": "2024-03-12T15:35:23.541Z"
   },
   {
    "duration": 35,
    "start_time": "2024-03-12T15:35:23.551Z"
   },
   {
    "duration": 19,
    "start_time": "2024-03-12T15:35:23.588Z"
   },
   {
    "duration": 30,
    "start_time": "2024-03-12T15:35:23.608Z"
   },
   {
    "duration": 7,
    "start_time": "2024-03-12T15:35:23.639Z"
   },
   {
    "duration": 370,
    "start_time": "2024-03-12T15:35:23.648Z"
   },
   {
    "duration": 9,
    "start_time": "2024-03-12T15:35:24.019Z"
   },
   {
    "duration": 212,
    "start_time": "2024-03-12T15:35:24.030Z"
   },
   {
    "duration": 4,
    "start_time": "2024-03-12T15:35:24.244Z"
   },
   {
    "duration": 16,
    "start_time": "2024-03-12T15:35:24.250Z"
   },
   {
    "duration": 8,
    "start_time": "2024-03-12T15:35:24.268Z"
   },
   {
    "duration": 388,
    "start_time": "2024-03-12T15:35:24.278Z"
   },
   {
    "duration": 8,
    "start_time": "2024-03-12T15:35:24.668Z"
   },
   {
    "duration": 230,
    "start_time": "2024-03-12T15:35:24.678Z"
   },
   {
    "duration": 8,
    "start_time": "2024-03-12T15:35:24.914Z"
   },
   {
    "duration": 8,
    "start_time": "2024-03-12T15:35:24.924Z"
   },
   {
    "duration": 618,
    "start_time": "2024-03-12T15:35:24.933Z"
   },
   {
    "duration": 382,
    "start_time": "2024-03-12T15:35:25.552Z"
   },
   {
    "duration": 41,
    "start_time": "2024-03-12T15:35:25.936Z"
   },
   {
    "duration": 3,
    "start_time": "2024-03-12T15:35:25.979Z"
   },
   {
    "duration": 31,
    "start_time": "2024-03-12T15:35:25.983Z"
   },
   {
    "duration": 6,
    "start_time": "2024-03-12T15:35:26.016Z"
   },
   {
    "duration": 24,
    "start_time": "2024-03-12T15:35:26.023Z"
   },
   {
    "duration": 10,
    "start_time": "2024-03-12T15:35:26.049Z"
   },
   {
    "duration": 35,
    "start_time": "2024-03-12T15:35:26.061Z"
   },
   {
    "duration": 18,
    "start_time": "2024-03-12T15:35:26.097Z"
   },
   {
    "duration": 5,
    "start_time": "2024-03-12T15:35:26.117Z"
   },
   {
    "duration": 9,
    "start_time": "2024-03-12T15:35:26.123Z"
   },
   {
    "duration": 1712,
    "start_time": "2024-03-12T15:35:26.134Z"
   },
   {
    "duration": 4,
    "start_time": "2024-03-12T15:35:27.848Z"
   },
   {
    "duration": 34,
    "start_time": "2024-03-12T15:35:27.853Z"
   },
   {
    "duration": 186,
    "start_time": "2024-03-12T15:35:27.889Z"
   },
   {
    "duration": 6,
    "start_time": "2024-03-12T15:35:28.077Z"
   },
   {
    "duration": 1713,
    "start_time": "2024-03-12T15:35:53.476Z"
   },
   {
    "duration": 1176,
    "start_time": "2024-03-12T16:43:17.983Z"
   },
   {
    "duration": 855,
    "start_time": "2024-03-12T16:43:19.161Z"
   },
   {
    "duration": 12,
    "start_time": "2024-03-12T16:43:20.018Z"
   },
   {
    "duration": 11,
    "start_time": "2024-03-12T16:43:20.033Z"
   },
   {
    "duration": 18,
    "start_time": "2024-03-12T16:43:20.046Z"
   },
   {
    "duration": 14,
    "start_time": "2024-03-12T16:43:20.066Z"
   },
   {
    "duration": 14,
    "start_time": "2024-03-12T16:43:20.082Z"
   },
   {
    "duration": 12,
    "start_time": "2024-03-12T16:43:20.098Z"
   },
   {
    "duration": 13,
    "start_time": "2024-03-12T16:43:20.112Z"
   },
   {
    "duration": 10,
    "start_time": "2024-03-12T16:43:20.128Z"
   },
   {
    "duration": 10,
    "start_time": "2024-03-12T16:43:20.140Z"
   },
   {
    "duration": 7,
    "start_time": "2024-03-12T16:43:20.151Z"
   },
   {
    "duration": 23,
    "start_time": "2024-03-12T16:43:20.160Z"
   },
   {
    "duration": 13,
    "start_time": "2024-03-12T16:43:20.184Z"
   },
   {
    "duration": 7,
    "start_time": "2024-03-12T16:43:20.198Z"
   },
   {
    "duration": 12,
    "start_time": "2024-03-12T16:43:20.206Z"
   },
   {
    "duration": 9,
    "start_time": "2024-03-12T16:43:20.220Z"
   },
   {
    "duration": 4,
    "start_time": "2024-03-12T16:43:20.231Z"
   },
   {
    "duration": 8,
    "start_time": "2024-03-12T16:43:20.236Z"
   },
   {
    "duration": 5,
    "start_time": "2024-03-12T16:43:20.246Z"
   },
   {
    "duration": 253,
    "start_time": "2024-03-12T16:43:20.252Z"
   },
   {
    "duration": 125,
    "start_time": "2024-03-12T16:43:20.507Z"
   },
   {
    "duration": 6,
    "start_time": "2024-03-12T16:43:20.634Z"
   },
   {
    "duration": 367,
    "start_time": "2024-03-12T16:43:20.642Z"
   },
   {
    "duration": 4,
    "start_time": "2024-03-12T16:43:21.011Z"
   },
   {
    "duration": 497,
    "start_time": "2024-03-12T16:43:21.017Z"
   },
   {
    "duration": 8,
    "start_time": "2024-03-12T16:43:21.516Z"
   },
   {
    "duration": 4,
    "start_time": "2024-03-12T16:43:21.528Z"
   },
   {
    "duration": 341,
    "start_time": "2024-03-12T16:43:21.534Z"
   },
   {
    "duration": 5,
    "start_time": "2024-03-12T16:43:21.881Z"
   },
   {
    "duration": 229,
    "start_time": "2024-03-12T16:43:21.887Z"
   },
   {
    "duration": 4,
    "start_time": "2024-03-12T16:43:22.118Z"
   },
   {
    "duration": 18,
    "start_time": "2024-03-12T16:43:22.124Z"
   },
   {
    "duration": 2,
    "start_time": "2024-03-12T16:43:22.144Z"
   },
   {
    "duration": 11,
    "start_time": "2024-03-12T16:43:22.148Z"
   },
   {
    "duration": 28,
    "start_time": "2024-03-12T16:43:22.161Z"
   },
   {
    "duration": 9,
    "start_time": "2024-03-12T16:43:22.191Z"
   },
   {
    "duration": 12,
    "start_time": "2024-03-12T16:43:22.201Z"
   },
   {
    "duration": 20,
    "start_time": "2024-03-12T16:43:22.215Z"
   },
   {
    "duration": 7,
    "start_time": "2024-03-12T16:43:22.237Z"
   },
   {
    "duration": 49,
    "start_time": "2024-03-12T16:43:22.246Z"
   },
   {
    "duration": 7,
    "start_time": "2024-03-12T16:43:22.297Z"
   },
   {
    "duration": 31,
    "start_time": "2024-03-12T16:43:22.305Z"
   },
   {
    "duration": 4,
    "start_time": "2024-03-12T16:43:22.337Z"
   },
   {
    "duration": 376,
    "start_time": "2024-03-12T16:43:22.343Z"
   },
   {
    "duration": 9,
    "start_time": "2024-03-12T16:43:22.720Z"
   },
   {
    "duration": 208,
    "start_time": "2024-03-12T16:43:22.731Z"
   },
   {
    "duration": 4,
    "start_time": "2024-03-12T16:43:22.940Z"
   },
   {
    "duration": 11,
    "start_time": "2024-03-12T16:43:22.945Z"
   },
   {
    "duration": 4,
    "start_time": "2024-03-12T16:43:22.957Z"
   },
   {
    "duration": 383,
    "start_time": "2024-03-12T16:43:22.963Z"
   },
   {
    "duration": 8,
    "start_time": "2024-03-12T16:43:23.348Z"
   },
   {
    "duration": 228,
    "start_time": "2024-03-12T16:43:23.358Z"
   },
   {
    "duration": 8,
    "start_time": "2024-03-12T16:43:23.588Z"
   },
   {
    "duration": 16,
    "start_time": "2024-03-12T16:43:23.597Z"
   },
   {
    "duration": 642,
    "start_time": "2024-03-12T16:43:23.615Z"
   },
   {
    "duration": 355,
    "start_time": "2024-03-12T16:43:24.259Z"
   },
   {
    "duration": 42,
    "start_time": "2024-03-12T16:43:24.615Z"
   },
   {
    "duration": 3,
    "start_time": "2024-03-12T16:43:24.658Z"
   },
   {
    "duration": 28,
    "start_time": "2024-03-12T16:43:24.663Z"
   },
   {
    "duration": 5,
    "start_time": "2024-03-12T16:43:24.693Z"
   },
   {
    "duration": 14,
    "start_time": "2024-03-12T16:43:24.700Z"
   },
   {
    "duration": 5,
    "start_time": "2024-03-12T16:43:24.716Z"
   },
   {
    "duration": 9,
    "start_time": "2024-03-12T16:43:24.723Z"
   },
   {
    "duration": 5,
    "start_time": "2024-03-12T16:43:24.734Z"
   },
   {
    "duration": 5,
    "start_time": "2024-03-12T16:43:24.741Z"
   },
   {
    "duration": 8,
    "start_time": "2024-03-12T16:43:24.783Z"
   },
   {
    "duration": 1684,
    "start_time": "2024-03-12T16:43:24.793Z"
   },
   {
    "duration": 5,
    "start_time": "2024-03-12T16:43:26.481Z"
   },
   {
    "duration": 35,
    "start_time": "2024-03-12T16:43:26.488Z"
   },
   {
    "duration": 181,
    "start_time": "2024-03-12T16:43:26.525Z"
   },
   {
    "duration": 5,
    "start_time": "2024-03-12T16:43:26.708Z"
   },
   {
    "duration": 18,
    "start_time": "2024-03-12T16:45:46.225Z"
   },
   {
    "duration": 46,
    "start_time": "2024-03-12T19:32:58.747Z"
   },
   {
    "duration": 1292,
    "start_time": "2024-03-12T19:33:12.558Z"
   },
   {
    "duration": 314,
    "start_time": "2024-03-12T19:33:13.852Z"
   },
   {
    "duration": 12,
    "start_time": "2024-03-12T19:33:14.167Z"
   },
   {
    "duration": 11,
    "start_time": "2024-03-12T19:33:14.181Z"
   },
   {
    "duration": 17,
    "start_time": "2024-03-12T19:33:14.194Z"
   },
   {
    "duration": 22,
    "start_time": "2024-03-12T19:33:14.213Z"
   },
   {
    "duration": 6,
    "start_time": "2024-03-12T19:33:14.237Z"
   },
   {
    "duration": 29,
    "start_time": "2024-03-12T19:33:14.245Z"
   },
   {
    "duration": 19,
    "start_time": "2024-03-12T19:33:14.275Z"
   },
   {
    "duration": 14,
    "start_time": "2024-03-12T19:33:14.297Z"
   },
   {
    "duration": 7,
    "start_time": "2024-03-12T19:33:14.312Z"
   },
   {
    "duration": 9,
    "start_time": "2024-03-12T19:33:14.321Z"
   },
   {
    "duration": 7,
    "start_time": "2024-03-12T19:33:14.331Z"
   },
   {
    "duration": 13,
    "start_time": "2024-03-12T19:33:14.340Z"
   },
   {
    "duration": 8,
    "start_time": "2024-03-12T19:33:14.354Z"
   },
   {
    "duration": 7,
    "start_time": "2024-03-12T19:33:14.363Z"
   },
   {
    "duration": 22,
    "start_time": "2024-03-12T19:33:14.371Z"
   },
   {
    "duration": 43,
    "start_time": "2024-03-12T19:33:14.395Z"
   },
   {
    "duration": 11,
    "start_time": "2024-03-12T19:33:14.440Z"
   },
   {
    "duration": 8,
    "start_time": "2024-03-12T19:33:14.452Z"
   },
   {
    "duration": 5,
    "start_time": "2024-03-12T19:33:14.462Z"
   },
   {
    "duration": 183,
    "start_time": "2024-03-12T19:33:14.469Z"
   },
   {
    "duration": 105,
    "start_time": "2024-03-12T19:33:14.654Z"
   },
   {
    "duration": 5,
    "start_time": "2024-03-12T19:33:14.760Z"
   },
   {
    "duration": 554,
    "start_time": "2024-03-12T19:33:14.767Z"
   },
   {
    "duration": 4,
    "start_time": "2024-03-12T19:33:15.323Z"
   },
   {
    "duration": 897,
    "start_time": "2024-03-12T19:33:15.328Z"
   },
   {
    "duration": 8,
    "start_time": "2024-03-12T19:33:16.228Z"
   },
   {
    "duration": 18,
    "start_time": "2024-03-12T19:33:16.237Z"
   },
   {
    "duration": 276,
    "start_time": "2024-03-12T19:33:16.257Z"
   },
   {
    "duration": 4,
    "start_time": "2024-03-12T19:33:16.534Z"
   },
   {
    "duration": 189,
    "start_time": "2024-03-12T19:33:16.540Z"
   },
   {
    "duration": 4,
    "start_time": "2024-03-12T19:33:16.731Z"
   },
   {
    "duration": 8,
    "start_time": "2024-03-12T19:33:16.736Z"
   },
   {
    "duration": 3,
    "start_time": "2024-03-12T19:33:16.745Z"
   },
   {
    "duration": 10,
    "start_time": "2024-03-12T19:33:16.749Z"
   },
   {
    "duration": 29,
    "start_time": "2024-03-12T19:33:16.760Z"
   },
   {
    "duration": 9,
    "start_time": "2024-03-12T19:33:16.790Z"
   },
   {
    "duration": 12,
    "start_time": "2024-03-12T19:33:16.800Z"
   },
   {
    "duration": 17,
    "start_time": "2024-03-12T19:33:16.813Z"
   },
   {
    "duration": 9,
    "start_time": "2024-03-12T19:33:16.831Z"
   },
   {
    "duration": 16,
    "start_time": "2024-03-12T19:33:16.841Z"
   },
   {
    "duration": 33,
    "start_time": "2024-03-12T19:33:16.858Z"
   },
   {
    "duration": 16,
    "start_time": "2024-03-12T19:33:16.892Z"
   },
   {
    "duration": 4,
    "start_time": "2024-03-12T19:33:16.909Z"
   },
   {
    "duration": 341,
    "start_time": "2024-03-12T19:33:16.915Z"
   },
   {
    "duration": 13,
    "start_time": "2024-03-12T19:33:17.258Z"
   },
   {
    "duration": 201,
    "start_time": "2024-03-12T19:33:17.273Z"
   },
   {
    "duration": 4,
    "start_time": "2024-03-12T19:33:17.476Z"
   },
   {
    "duration": 20,
    "start_time": "2024-03-12T19:33:17.481Z"
   },
   {
    "duration": 30,
    "start_time": "2024-03-12T19:33:17.502Z"
   },
   {
    "duration": 351,
    "start_time": "2024-03-12T19:33:17.533Z"
   },
   {
    "duration": 9,
    "start_time": "2024-03-12T19:33:17.885Z"
   },
   {
    "duration": 203,
    "start_time": "2024-03-12T19:33:17.896Z"
   },
   {
    "duration": 9,
    "start_time": "2024-03-12T19:33:18.100Z"
   },
   {
    "duration": 12,
    "start_time": "2024-03-12T19:33:18.111Z"
   },
   {
    "duration": 575,
    "start_time": "2024-03-12T19:33:18.124Z"
   },
   {
    "duration": 300,
    "start_time": "2024-03-12T19:33:18.701Z"
   },
   {
    "duration": 37,
    "start_time": "2024-03-12T19:33:19.003Z"
   },
   {
    "duration": 3,
    "start_time": "2024-03-12T19:33:19.042Z"
   },
   {
    "duration": 14,
    "start_time": "2024-03-12T19:33:19.046Z"
   },
   {
    "duration": 6,
    "start_time": "2024-03-12T19:33:19.061Z"
   },
   {
    "duration": 9,
    "start_time": "2024-03-12T19:33:19.087Z"
   },
   {
    "duration": 6,
    "start_time": "2024-03-12T19:33:19.098Z"
   },
   {
    "duration": 6,
    "start_time": "2024-03-12T19:33:19.106Z"
   },
   {
    "duration": 6,
    "start_time": "2024-03-12T19:33:19.113Z"
   },
   {
    "duration": 5,
    "start_time": "2024-03-12T19:33:19.121Z"
   },
   {
    "duration": 8,
    "start_time": "2024-03-12T19:33:19.128Z"
   },
   {
    "duration": 1545,
    "start_time": "2024-03-12T19:33:19.137Z"
   },
   {
    "duration": 5,
    "start_time": "2024-03-12T19:33:20.684Z"
   },
   {
    "duration": 29,
    "start_time": "2024-03-12T19:33:20.691Z"
   },
   {
    "duration": 172,
    "start_time": "2024-03-12T19:33:20.722Z"
   },
   {
    "duration": 5,
    "start_time": "2024-03-12T19:33:20.895Z"
   },
   {
    "duration": 6,
    "start_time": "2024-03-12T19:33:26.143Z"
   },
   {
    "duration": 6,
    "start_time": "2024-03-12T19:33:28.325Z"
   },
   {
    "duration": 15,
    "start_time": "2024-03-12T19:33:29.873Z"
   },
   {
    "duration": 6,
    "start_time": "2024-03-12T19:33:30.792Z"
   },
   {
    "duration": 9,
    "start_time": "2024-03-12T19:33:48.721Z"
   },
   {
    "duration": 94,
    "start_time": "2024-03-12T19:36:31.367Z"
   },
   {
    "duration": 5,
    "start_time": "2024-03-12T19:37:23.628Z"
   },
   {
    "duration": 16,
    "start_time": "2024-03-12T19:38:34.743Z"
   },
   {
    "duration": 9,
    "start_time": "2024-03-12T19:38:44.448Z"
   },
   {
    "duration": 14,
    "start_time": "2024-03-12T19:39:40.688Z"
   },
   {
    "duration": 53,
    "start_time": "2024-03-12T19:40:00.165Z"
   },
   {
    "duration": 16,
    "start_time": "2024-03-12T19:40:05.650Z"
   },
   {
    "duration": 7,
    "start_time": "2024-03-12T19:40:10.757Z"
   },
   {
    "duration": 22,
    "start_time": "2024-03-12T19:40:38.066Z"
   },
   {
    "duration": 9,
    "start_time": "2024-03-12T19:40:53.303Z"
   },
   {
    "duration": 8,
    "start_time": "2024-03-12T19:40:58.958Z"
   },
   {
    "duration": 4,
    "start_time": "2024-03-12T19:41:16.717Z"
   },
   {
    "duration": 5,
    "start_time": "2024-03-12T19:41:34.580Z"
   },
   {
    "duration": 219,
    "start_time": "2024-03-12T19:43:54.597Z"
   },
   {
    "duration": 212,
    "start_time": "2024-03-12T19:44:18.059Z"
   },
   {
    "duration": 331,
    "start_time": "2024-03-12T19:44:25.801Z"
   },
   {
    "duration": 213,
    "start_time": "2024-03-12T19:44:50.793Z"
   },
   {
    "duration": 223,
    "start_time": "2024-03-12T19:45:05.659Z"
   },
   {
    "duration": 9,
    "start_time": "2024-03-12T19:48:18.871Z"
   },
   {
    "duration": 174,
    "start_time": "2024-03-12T19:48:25.807Z"
   },
   {
    "duration": 105,
    "start_time": "2024-03-12T19:48:49.525Z"
   },
   {
    "duration": 128,
    "start_time": "2024-03-12T19:49:17.133Z"
   },
   {
    "duration": 160,
    "start_time": "2024-03-12T19:49:22.988Z"
   },
   {
    "duration": 127,
    "start_time": "2024-03-12T19:50:09.678Z"
   },
   {
    "duration": 128,
    "start_time": "2024-03-12T19:50:21.292Z"
   },
   {
    "duration": 215,
    "start_time": "2024-03-12T19:51:01.190Z"
   },
   {
    "duration": 144,
    "start_time": "2024-03-12T19:51:08.788Z"
   },
   {
    "duration": 625,
    "start_time": "2024-03-12T19:52:53.417Z"
   },
   {
    "duration": 181,
    "start_time": "2024-03-12T19:53:04.370Z"
   },
   {
    "duration": 137,
    "start_time": "2024-03-12T19:53:19.042Z"
   },
   {
    "duration": 140,
    "start_time": "2024-03-12T19:53:27.066Z"
   },
   {
    "duration": 140,
    "start_time": "2024-03-12T19:53:30.606Z"
   },
   {
    "duration": 223,
    "start_time": "2024-03-12T19:54:30.172Z"
   },
   {
    "duration": 150,
    "start_time": "2024-03-12T19:54:44.882Z"
   },
   {
    "duration": 152,
    "start_time": "2024-03-12T19:54:54.945Z"
   },
   {
    "duration": 153,
    "start_time": "2024-03-12T19:55:06.164Z"
   },
   {
    "duration": 136,
    "start_time": "2024-03-12T19:55:15.823Z"
   },
   {
    "duration": 140,
    "start_time": "2024-03-12T19:57:53.147Z"
   },
   {
    "duration": 113,
    "start_time": "2024-03-12T19:59:12.005Z"
   },
   {
    "duration": 129,
    "start_time": "2024-03-12T20:01:32.939Z"
   },
   {
    "duration": 144,
    "start_time": "2024-03-12T20:01:58.549Z"
   },
   {
    "duration": 148,
    "start_time": "2024-03-12T20:02:31.790Z"
   },
   {
    "duration": 4,
    "start_time": "2024-03-12T20:06:07.454Z"
   },
   {
    "duration": 8,
    "start_time": "2024-03-12T20:07:01.964Z"
   },
   {
    "duration": 5,
    "start_time": "2024-03-12T20:07:04.409Z"
   },
   {
    "duration": 3,
    "start_time": "2024-03-12T20:08:12.126Z"
   },
   {
    "duration": 4,
    "start_time": "2024-03-12T20:08:41.093Z"
   },
   {
    "duration": 3,
    "start_time": "2024-03-12T20:09:21.830Z"
   },
   {
    "duration": 4,
    "start_time": "2024-03-12T20:09:42.088Z"
   },
   {
    "duration": 1154,
    "start_time": "2024-03-13T09:29:18.692Z"
   },
   {
    "duration": 382,
    "start_time": "2024-03-13T09:29:19.848Z"
   },
   {
    "duration": 12,
    "start_time": "2024-03-13T09:29:20.231Z"
   },
   {
    "duration": 9,
    "start_time": "2024-03-13T09:29:20.245Z"
   },
   {
    "duration": 22,
    "start_time": "2024-03-13T09:29:20.256Z"
   },
   {
    "duration": 10,
    "start_time": "2024-03-13T09:29:20.279Z"
   },
   {
    "duration": 7,
    "start_time": "2024-03-13T09:29:20.290Z"
   },
   {
    "duration": 17,
    "start_time": "2024-03-13T09:29:20.298Z"
   },
   {
    "duration": 5,
    "start_time": "2024-03-13T09:29:20.317Z"
   },
   {
    "duration": 16,
    "start_time": "2024-03-13T09:29:20.325Z"
   },
   {
    "duration": 10,
    "start_time": "2024-03-13T09:29:20.342Z"
   },
   {
    "duration": 7,
    "start_time": "2024-03-13T09:29:20.353Z"
   },
   {
    "duration": 16,
    "start_time": "2024-03-13T09:29:20.361Z"
   },
   {
    "duration": 10,
    "start_time": "2024-03-13T09:29:20.378Z"
   },
   {
    "duration": 19,
    "start_time": "2024-03-13T09:29:20.389Z"
   },
   {
    "duration": 3,
    "start_time": "2024-03-13T09:29:20.410Z"
   },
   {
    "duration": 7,
    "start_time": "2024-03-13T09:29:20.414Z"
   },
   {
    "duration": 6,
    "start_time": "2024-03-13T09:29:20.422Z"
   },
   {
    "duration": 6,
    "start_time": "2024-03-13T09:29:20.429Z"
   },
   {
    "duration": 9,
    "start_time": "2024-03-13T09:29:20.437Z"
   },
   {
    "duration": 4,
    "start_time": "2024-03-13T09:29:20.448Z"
   },
   {
    "duration": 6,
    "start_time": "2024-03-13T09:29:20.454Z"
   },
   {
    "duration": 27,
    "start_time": "2024-03-13T09:29:20.461Z"
   },
   {
    "duration": 207,
    "start_time": "2024-03-13T09:29:20.490Z"
   },
   {
    "duration": 106,
    "start_time": "2024-03-13T09:29:20.698Z"
   },
   {
    "duration": 5,
    "start_time": "2024-03-13T09:29:20.806Z"
   },
   {
    "duration": 318,
    "start_time": "2024-03-13T09:29:20.813Z"
   },
   {
    "duration": 4,
    "start_time": "2024-03-13T09:29:21.136Z"
   },
   {
    "duration": 478,
    "start_time": "2024-03-13T09:29:21.142Z"
   },
   {
    "duration": 8,
    "start_time": "2024-03-13T09:29:21.622Z"
   },
   {
    "duration": 4,
    "start_time": "2024-03-13T09:29:21.631Z"
   },
   {
    "duration": 269,
    "start_time": "2024-03-13T09:29:21.637Z"
   },
   {
    "duration": 4,
    "start_time": "2024-03-13T09:29:21.907Z"
   },
   {
    "duration": 287,
    "start_time": "2024-03-13T09:29:21.913Z"
   },
   {
    "duration": 4,
    "start_time": "2024-03-13T09:29:22.202Z"
   },
   {
    "duration": 13,
    "start_time": "2024-03-13T09:29:22.208Z"
   },
   {
    "duration": 140,
    "start_time": "2024-03-13T09:29:22.222Z"
   },
   {
    "duration": 151,
    "start_time": "2024-03-13T09:29:22.363Z"
   },
   {
    "duration": 156,
    "start_time": "2024-03-13T09:29:22.516Z"
   },
   {
    "duration": 4,
    "start_time": "2024-03-13T09:29:22.674Z"
   },
   {
    "duration": 4,
    "start_time": "2024-03-13T09:29:22.688Z"
   },
   {
    "duration": 45,
    "start_time": "2024-03-13T09:29:22.693Z"
   },
   {
    "duration": 14,
    "start_time": "2024-03-13T09:29:22.740Z"
   },
   {
    "duration": 5,
    "start_time": "2024-03-13T09:29:22.756Z"
   },
   {
    "duration": 12,
    "start_time": "2024-03-13T09:29:22.762Z"
   },
   {
    "duration": 17,
    "start_time": "2024-03-13T09:29:22.775Z"
   },
   {
    "duration": 19,
    "start_time": "2024-03-13T09:29:22.794Z"
   },
   {
    "duration": 13,
    "start_time": "2024-03-13T09:29:22.815Z"
   },
   {
    "duration": 17,
    "start_time": "2024-03-13T09:29:22.830Z"
   },
   {
    "duration": 11,
    "start_time": "2024-03-13T09:29:22.849Z"
   },
   {
    "duration": 41,
    "start_time": "2024-03-13T09:29:22.862Z"
   },
   {
    "duration": 3,
    "start_time": "2024-03-13T09:29:22.905Z"
   },
   {
    "duration": 347,
    "start_time": "2024-03-13T09:29:22.910Z"
   },
   {
    "duration": 8,
    "start_time": "2024-03-13T09:29:23.259Z"
   },
   {
    "duration": 198,
    "start_time": "2024-03-13T09:29:23.269Z"
   },
   {
    "duration": 4,
    "start_time": "2024-03-13T09:29:23.469Z"
   },
   {
    "duration": 15,
    "start_time": "2024-03-13T09:29:23.474Z"
   },
   {
    "duration": 7,
    "start_time": "2024-03-13T09:29:23.490Z"
   },
   {
    "duration": 345,
    "start_time": "2024-03-13T09:29:23.498Z"
   },
   {
    "duration": 8,
    "start_time": "2024-03-13T09:29:23.845Z"
   },
   {
    "duration": 295,
    "start_time": "2024-03-13T09:29:23.854Z"
   },
   {
    "duration": 8,
    "start_time": "2024-03-13T09:29:24.150Z"
   },
   {
    "duration": 4,
    "start_time": "2024-03-13T09:29:24.159Z"
   },
   {
    "duration": 502,
    "start_time": "2024-03-13T09:29:24.165Z"
   },
   {
    "duration": 303,
    "start_time": "2024-03-13T09:29:24.669Z"
   },
   {
    "duration": 47,
    "start_time": "2024-03-13T09:29:24.974Z"
   },
   {
    "duration": 3,
    "start_time": "2024-03-13T09:29:25.022Z"
   },
   {
    "duration": 15,
    "start_time": "2024-03-13T09:29:25.027Z"
   },
   {
    "duration": 8,
    "start_time": "2024-03-13T09:29:25.044Z"
   },
   {
    "duration": 19,
    "start_time": "2024-03-13T09:29:25.054Z"
   },
   {
    "duration": 13,
    "start_time": "2024-03-13T09:29:25.075Z"
   },
   {
    "duration": 5,
    "start_time": "2024-03-13T09:29:25.090Z"
   },
   {
    "duration": 6,
    "start_time": "2024-03-13T09:29:25.097Z"
   },
   {
    "duration": 4,
    "start_time": "2024-03-13T09:29:25.105Z"
   },
   {
    "duration": 8,
    "start_time": "2024-03-13T09:29:25.111Z"
   },
   {
    "duration": 1531,
    "start_time": "2024-03-13T09:29:25.121Z"
   },
   {
    "duration": 4,
    "start_time": "2024-03-13T09:29:26.654Z"
   },
   {
    "duration": 34,
    "start_time": "2024-03-13T09:29:26.660Z"
   },
   {
    "duration": 170,
    "start_time": "2024-03-13T09:29:26.696Z"
   },
   {
    "duration": 5,
    "start_time": "2024-03-13T09:29:26.868Z"
   },
   {
    "duration": 118,
    "start_time": "2024-03-13T15:50:15.386Z"
   },
   {
    "duration": 1394,
    "start_time": "2024-03-20T13:00:05.349Z"
   },
   {
    "duration": 160,
    "start_time": "2024-03-20T13:00:06.746Z"
   },
   {
    "duration": 17,
    "start_time": "2024-03-20T13:00:06.908Z"
   },
   {
    "duration": 31,
    "start_time": "2024-03-20T13:00:06.928Z"
   },
   {
    "duration": 22,
    "start_time": "2024-03-20T13:00:06.961Z"
   },
   {
    "duration": 29,
    "start_time": "2024-03-20T13:00:06.985Z"
   },
   {
    "duration": 43,
    "start_time": "2024-03-20T13:00:07.016Z"
   },
   {
    "duration": 27,
    "start_time": "2024-03-20T13:00:07.060Z"
   },
   {
    "duration": 28,
    "start_time": "2024-03-20T13:00:07.089Z"
   },
   {
    "duration": 29,
    "start_time": "2024-03-20T13:00:07.120Z"
   },
   {
    "duration": 13,
    "start_time": "2024-03-20T13:00:07.151Z"
   },
   {
    "duration": 9,
    "start_time": "2024-03-20T13:00:07.166Z"
   },
   {
    "duration": 24,
    "start_time": "2024-03-20T13:00:07.177Z"
   },
   {
    "duration": 10,
    "start_time": "2024-03-20T13:00:07.203Z"
   },
   {
    "duration": 23,
    "start_time": "2024-03-20T13:00:07.215Z"
   },
   {
    "duration": 18,
    "start_time": "2024-03-20T13:00:07.239Z"
   },
   {
    "duration": 10,
    "start_time": "2024-03-20T13:00:07.259Z"
   },
   {
    "duration": 13,
    "start_time": "2024-03-20T13:00:07.271Z"
   },
   {
    "duration": 13,
    "start_time": "2024-03-20T13:00:07.286Z"
   },
   {
    "duration": 12,
    "start_time": "2024-03-20T13:00:07.301Z"
   },
   {
    "duration": 21,
    "start_time": "2024-03-20T13:00:07.315Z"
   },
   {
    "duration": 13,
    "start_time": "2024-03-20T13:00:07.338Z"
   },
   {
    "duration": 14,
    "start_time": "2024-03-20T13:00:07.352Z"
   },
   {
    "duration": 226,
    "start_time": "2024-03-20T13:00:07.368Z"
   },
   {
    "duration": 123,
    "start_time": "2024-03-20T13:00:07.596Z"
   },
   {
    "duration": 6,
    "start_time": "2024-03-20T13:00:07.721Z"
   },
   {
    "duration": 362,
    "start_time": "2024-03-20T13:00:07.729Z"
   },
   {
    "duration": 5,
    "start_time": "2024-03-20T13:00:08.097Z"
   },
   {
    "duration": 515,
    "start_time": "2024-03-20T13:00:08.104Z"
   },
   {
    "duration": 9,
    "start_time": "2024-03-20T13:00:08.620Z"
   },
   {
    "duration": 6,
    "start_time": "2024-03-20T13:00:08.631Z"
   },
   {
    "duration": 268,
    "start_time": "2024-03-20T13:00:08.639Z"
   },
   {
    "duration": 5,
    "start_time": "2024-03-20T13:00:08.908Z"
   },
   {
    "duration": 296,
    "start_time": "2024-03-20T13:00:08.914Z"
   },
   {
    "duration": 5,
    "start_time": "2024-03-20T13:00:09.212Z"
   },
   {
    "duration": 56,
    "start_time": "2024-03-20T13:00:09.218Z"
   },
   {
    "duration": 143,
    "start_time": "2024-03-20T13:00:09.276Z"
   },
   {
    "duration": 174,
    "start_time": "2024-03-20T13:00:09.420Z"
   },
   {
    "duration": 168,
    "start_time": "2024-03-20T13:00:09.595Z"
   },
   {
    "duration": 4,
    "start_time": "2024-03-20T13:00:09.764Z"
   },
   {
    "duration": 46,
    "start_time": "2024-03-20T13:00:09.769Z"
   },
   {
    "duration": 19,
    "start_time": "2024-03-20T13:00:09.817Z"
   },
   {
    "duration": 10,
    "start_time": "2024-03-20T13:00:09.838Z"
   },
   {
    "duration": 4,
    "start_time": "2024-03-20T13:00:09.849Z"
   },
   {
    "duration": 25,
    "start_time": "2024-03-20T13:00:09.854Z"
   },
   {
    "duration": 31,
    "start_time": "2024-03-20T13:00:09.880Z"
   },
   {
    "duration": 26,
    "start_time": "2024-03-20T13:00:09.912Z"
   },
   {
    "duration": 10,
    "start_time": "2024-03-20T13:00:09.939Z"
   },
   {
    "duration": 19,
    "start_time": "2024-03-20T13:00:09.950Z"
   },
   {
    "duration": 32,
    "start_time": "2024-03-20T13:00:09.971Z"
   },
   {
    "duration": 55,
    "start_time": "2024-03-20T13:00:10.005Z"
   },
   {
    "duration": 10,
    "start_time": "2024-03-20T13:00:10.061Z"
   },
   {
    "duration": 368,
    "start_time": "2024-03-20T13:00:10.073Z"
   },
   {
    "duration": 16,
    "start_time": "2024-03-20T13:00:10.443Z"
   },
   {
    "duration": 209,
    "start_time": "2024-03-20T13:00:10.461Z"
   },
   {
    "duration": 5,
    "start_time": "2024-03-20T13:00:10.672Z"
   },
   {
    "duration": 8,
    "start_time": "2024-03-20T13:00:10.678Z"
   },
   {
    "duration": 4,
    "start_time": "2024-03-20T13:00:10.688Z"
   },
   {
    "duration": 390,
    "start_time": "2024-03-20T13:00:10.694Z"
   },
   {
    "duration": 8,
    "start_time": "2024-03-20T13:00:11.086Z"
   },
   {
    "duration": 663,
    "start_time": "2024-03-20T13:00:11.096Z"
   },
   {
    "duration": 9,
    "start_time": "2024-03-20T13:00:11.760Z"
   },
   {
    "duration": 18,
    "start_time": "2024-03-20T13:00:11.771Z"
   },
   {
    "duration": 990,
    "start_time": "2024-03-20T13:00:11.792Z"
   },
   {
    "duration": 346,
    "start_time": "2024-03-20T13:00:12.784Z"
   },
   {
    "duration": 51,
    "start_time": "2024-03-20T13:00:13.132Z"
   },
   {
    "duration": 4,
    "start_time": "2024-03-20T13:00:13.184Z"
   },
   {
    "duration": 30,
    "start_time": "2024-03-20T13:00:13.189Z"
   },
   {
    "duration": 10,
    "start_time": "2024-03-20T13:00:13.221Z"
   },
   {
    "duration": 33,
    "start_time": "2024-03-20T13:00:13.233Z"
   },
   {
    "duration": 21,
    "start_time": "2024-03-20T13:00:13.268Z"
   },
   {
    "duration": 9,
    "start_time": "2024-03-20T13:00:13.291Z"
   },
   {
    "duration": 5,
    "start_time": "2024-03-20T13:00:13.302Z"
   },
   {
    "duration": 10,
    "start_time": "2024-03-20T13:00:13.309Z"
   },
   {
    "duration": 12,
    "start_time": "2024-03-20T13:00:13.320Z"
   },
   {
    "duration": 456,
    "start_time": "2024-03-20T13:00:13.334Z"
   },
   {
    "duration": 0,
    "start_time": "2024-03-20T13:00:13.791Z"
   },
   {
    "duration": 0,
    "start_time": "2024-03-20T13:00:13.793Z"
   },
   {
    "duration": 0,
    "start_time": "2024-03-20T13:00:13.794Z"
   },
   {
    "duration": 0,
    "start_time": "2024-03-20T13:00:13.795Z"
   },
   {
    "duration": 1665,
    "start_time": "2024-03-20T13:00:40.020Z"
   },
   {
    "duration": 4,
    "start_time": "2024-03-20T13:04:13.041Z"
   },
   {
    "duration": 29,
    "start_time": "2024-03-20T13:04:14.600Z"
   },
   {
    "duration": 166,
    "start_time": "2024-03-20T13:06:44.981Z"
   },
   {
    "duration": 5,
    "start_time": "2024-03-20T13:06:47.768Z"
   },
   {
    "duration": 1105,
    "start_time": "2024-03-24T09:25:11.483Z"
   },
   {
    "duration": 148,
    "start_time": "2024-03-24T09:25:12.590Z"
   },
   {
    "duration": 10,
    "start_time": "2024-03-24T09:25:12.740Z"
   },
   {
    "duration": 9,
    "start_time": "2024-03-24T09:25:12.752Z"
   },
   {
    "duration": 11,
    "start_time": "2024-03-24T09:25:12.762Z"
   },
   {
    "duration": 12,
    "start_time": "2024-03-24T09:25:12.774Z"
   },
   {
    "duration": 5,
    "start_time": "2024-03-24T09:25:12.787Z"
   },
   {
    "duration": 14,
    "start_time": "2024-03-24T09:25:12.794Z"
   },
   {
    "duration": 3,
    "start_time": "2024-03-24T09:25:12.809Z"
   },
   {
    "duration": 9,
    "start_time": "2024-03-24T09:25:12.814Z"
   },
   {
    "duration": 23,
    "start_time": "2024-03-24T09:25:12.824Z"
   },
   {
    "duration": 8,
    "start_time": "2024-03-24T09:25:12.848Z"
   },
   {
    "duration": 11,
    "start_time": "2024-03-24T09:25:12.857Z"
   },
   {
    "duration": 7,
    "start_time": "2024-03-24T09:25:12.869Z"
   },
   {
    "duration": 8,
    "start_time": "2024-03-24T09:25:12.878Z"
   },
   {
    "duration": 19,
    "start_time": "2024-03-24T09:25:12.887Z"
   },
   {
    "duration": 8,
    "start_time": "2024-03-24T09:25:12.907Z"
   },
   {
    "duration": 13,
    "start_time": "2024-03-24T09:25:12.916Z"
   },
   {
    "duration": 22,
    "start_time": "2024-03-24T09:25:12.930Z"
   },
   {
    "duration": 8,
    "start_time": "2024-03-24T09:25:12.954Z"
   },
   {
    "duration": 4,
    "start_time": "2024-03-24T09:25:12.963Z"
   },
   {
    "duration": 9,
    "start_time": "2024-03-24T09:25:12.968Z"
   },
   {
    "duration": 8,
    "start_time": "2024-03-24T09:25:12.978Z"
   },
   {
    "duration": 172,
    "start_time": "2024-03-24T09:25:12.987Z"
   },
   {
    "duration": 105,
    "start_time": "2024-03-24T09:25:13.161Z"
   },
   {
    "duration": 5,
    "start_time": "2024-03-24T09:25:13.267Z"
   },
   {
    "duration": 283,
    "start_time": "2024-03-24T09:25:13.273Z"
   },
   {
    "duration": 5,
    "start_time": "2024-03-24T09:25:13.561Z"
   },
   {
    "duration": 394,
    "start_time": "2024-03-24T09:25:13.568Z"
   },
   {
    "duration": 7,
    "start_time": "2024-03-24T09:25:13.963Z"
   },
   {
    "duration": 18,
    "start_time": "2024-03-24T09:25:13.971Z"
   },
   {
    "duration": 224,
    "start_time": "2024-03-24T09:25:13.990Z"
   },
   {
    "duration": 4,
    "start_time": "2024-03-24T09:25:14.215Z"
   },
   {
    "duration": 243,
    "start_time": "2024-03-24T09:25:14.220Z"
   },
   {
    "duration": 3,
    "start_time": "2024-03-24T09:25:14.465Z"
   },
   {
    "duration": 34,
    "start_time": "2024-03-24T09:25:14.469Z"
   },
   {
    "duration": 130,
    "start_time": "2024-03-24T09:25:14.504Z"
   },
   {
    "duration": 141,
    "start_time": "2024-03-24T09:25:14.635Z"
   },
   {
    "duration": 137,
    "start_time": "2024-03-24T09:25:14.777Z"
   },
   {
    "duration": 3,
    "start_time": "2024-03-24T09:25:14.916Z"
   },
   {
    "duration": 27,
    "start_time": "2024-03-24T09:25:14.920Z"
   },
   {
    "duration": 35,
    "start_time": "2024-03-24T09:25:14.948Z"
   },
   {
    "duration": 45,
    "start_time": "2024-03-24T09:25:14.984Z"
   },
   {
    "duration": 39,
    "start_time": "2024-03-24T09:25:15.030Z"
   },
   {
    "duration": 40,
    "start_time": "2024-03-24T09:25:15.071Z"
   },
   {
    "duration": 54,
    "start_time": "2024-03-24T09:25:15.112Z"
   },
   {
    "duration": 33,
    "start_time": "2024-03-24T09:25:15.167Z"
   },
   {
    "duration": 70,
    "start_time": "2024-03-24T09:25:15.201Z"
   },
   {
    "duration": 45,
    "start_time": "2024-03-24T09:25:15.273Z"
   },
   {
    "duration": 80,
    "start_time": "2024-03-24T09:25:15.320Z"
   },
   {
    "duration": 31,
    "start_time": "2024-03-24T09:25:15.402Z"
   },
   {
    "duration": 13,
    "start_time": "2024-03-24T09:25:15.435Z"
   },
   {
    "duration": 314,
    "start_time": "2024-03-24T09:25:15.449Z"
   },
   {
    "duration": 7,
    "start_time": "2024-03-24T09:25:15.764Z"
   },
   {
    "duration": 188,
    "start_time": "2024-03-24T09:25:15.772Z"
   },
   {
    "duration": 5,
    "start_time": "2024-03-24T09:25:15.961Z"
   },
   {
    "duration": 23,
    "start_time": "2024-03-24T09:25:15.967Z"
   },
   {
    "duration": 21,
    "start_time": "2024-03-24T09:25:15.991Z"
   },
   {
    "duration": 309,
    "start_time": "2024-03-24T09:25:16.013Z"
   },
   {
    "duration": 7,
    "start_time": "2024-03-24T09:25:16.323Z"
   },
   {
    "duration": 269,
    "start_time": "2024-03-24T09:25:16.332Z"
   },
   {
    "duration": 7,
    "start_time": "2024-03-24T09:25:16.602Z"
   },
   {
    "duration": 25,
    "start_time": "2024-03-24T09:25:16.610Z"
   },
   {
    "duration": 457,
    "start_time": "2024-03-24T09:25:16.636Z"
   },
   {
    "duration": 305,
    "start_time": "2024-03-24T09:25:17.094Z"
   },
   {
    "duration": 44,
    "start_time": "2024-03-24T09:25:17.401Z"
   },
   {
    "duration": 3,
    "start_time": "2024-03-24T09:25:17.446Z"
   },
   {
    "duration": 41,
    "start_time": "2024-03-24T09:25:17.450Z"
   },
   {
    "duration": 23,
    "start_time": "2024-03-24T09:25:17.492Z"
   },
   {
    "duration": 39,
    "start_time": "2024-03-24T09:25:17.517Z"
   },
   {
    "duration": 37,
    "start_time": "2024-03-24T09:25:17.558Z"
   },
   {
    "duration": 6,
    "start_time": "2024-03-24T09:25:17.596Z"
   },
   {
    "duration": 5,
    "start_time": "2024-03-24T09:25:17.604Z"
   },
   {
    "duration": 12,
    "start_time": "2024-03-24T09:25:17.610Z"
   },
   {
    "duration": 12,
    "start_time": "2024-03-24T09:25:17.624Z"
   },
   {
    "duration": 1534,
    "start_time": "2024-03-24T09:25:17.637Z"
   },
   {
    "duration": 4,
    "start_time": "2024-03-24T09:25:19.173Z"
   },
   {
    "duration": 73,
    "start_time": "2024-03-24T09:25:19.178Z"
   },
   {
    "duration": 298,
    "start_time": "2024-03-24T09:25:19.252Z"
   },
   {
    "duration": 4,
    "start_time": "2024-03-24T09:25:19.552Z"
   },
   {
    "duration": 93,
    "start_time": "2024-03-24T09:27:42.594Z"
   },
   {
    "duration": 17,
    "start_time": "2024-03-24T09:28:15.692Z"
   },
   {
    "duration": 19,
    "start_time": "2024-03-24T09:28:39.274Z"
   },
   {
    "duration": 17,
    "start_time": "2024-03-24T09:29:43.971Z"
   },
   {
    "duration": 18,
    "start_time": "2024-03-24T09:30:14.001Z"
   },
   {
    "duration": 30,
    "start_time": "2024-03-24T09:31:56.597Z"
   }
  ],
  "kernelspec": {
   "display_name": "Python 3 (ipykernel)",
   "language": "python",
   "name": "python3"
  },
  "language_info": {
   "codemirror_mode": {
    "name": "ipython",
    "version": 3
   },
   "file_extension": ".py",
   "mimetype": "text/x-python",
   "name": "python",
   "nbconvert_exporter": "python",
   "pygments_lexer": "ipython3",
   "version": "3.11.7"
  },
  "toc": {
   "base_numbering": 1,
   "nav_menu": {
    "height": "139px",
    "width": "346px"
   },
   "number_sections": true,
   "sideBar": true,
   "skip_h1_title": true,
   "title_cell": "Table of Contents",
   "title_sidebar": "Contents",
   "toc_cell": false,
   "toc_position": {
    "height": "calc(100% - 180px)",
    "left": "10px",
    "top": "150px",
    "width": "260.954px"
   },
   "toc_section_display": true,
   "toc_window_display": true
  }
 },
 "nbformat": 4,
 "nbformat_minor": 5
}

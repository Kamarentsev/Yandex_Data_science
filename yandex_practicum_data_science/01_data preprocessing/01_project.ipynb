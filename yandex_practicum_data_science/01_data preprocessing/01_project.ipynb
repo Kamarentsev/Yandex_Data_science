{
 "cells": [
  {
   "cell_type": "markdown",
   "id": "b19a452b",
   "metadata": {
    "deletable": false,
    "editable": false,
    "id": "c81daeeb"
   },
   "source": [
    "# Исследование надежности заемщиков\n"
   ]
  },
  {
   "cell_type": "markdown",
   "id": "6f3abd24",
   "metadata": {
    "deletable": false,
    "editable": false,
    "id": "827c20bf"
   },
   "source": [
    "Во второй части проекта вы выполните шаги 3 и 4. Их вручную проверит ревьюер.\n",
    "Чтобы вам не пришлось писать код заново для шагов 1 и 2, мы добавили авторские решения в ячейки с кодом. \n",
    "\n"
   ]
  },
  {
   "cell_type": "markdown",
   "id": "f1d01486",
   "metadata": {
    "deletable": false,
    "editable": false,
    "id": "744d7639"
   },
   "source": [
    "## Откройте таблицу и изучите общую информацию о данных"
   ]
  },
  {
   "cell_type": "markdown",
   "id": "851d860d",
   "metadata": {
    "deletable": false,
    "editable": false,
    "id": "e7a14c31"
   },
   "source": [
    "**Задание 1. Импортируйте библиотеку pandas. Считайте данные из csv-файла в датафрейм и сохраните в переменную `data`. Путь к файлу:**\n",
    "\n",
    "`/datasets/data.csv`"
   ]
  },
  {
   "cell_type": "code",
   "execution_count": 1,
   "id": "5421750a",
   "metadata": {
    "deletable": false,
    "id": "7bcf75c9"
   },
   "outputs": [],
   "source": [
    "import pandas as pd\n",
    "import matplotlib.pyplot as plt\n",
    "\n",
    "try:\n",
    "    data = pd.read_csv('/datasets/data.csv')\n",
    "except:\n",
    "    data = pd.read_csv('https://code.s3.yandex.net/datasets/data.csv')"
   ]
  },
  {
   "cell_type": "markdown",
   "id": "46f621dc",
   "metadata": {
    "deletable": false,
    "editable": false,
    "id": "b8038fe3"
   },
   "source": [
    "**Задание 2. Выведите первые 20 строчек датафрейма `data` на экран.**"
   ]
  },
  {
   "cell_type": "code",
   "execution_count": 2,
   "id": "30b65a10",
   "metadata": {
    "deletable": false,
    "id": "2a7cab99",
    "outputId": "1a8f3ef2-d323-4ec2-ddf7-89670b5944c4",
    "scrolled": true
   },
   "outputs": [
    {
     "data": {
      "text/html": [
       "<div>\n",
       "<style scoped>\n",
       "    .dataframe tbody tr th:only-of-type {\n",
       "        vertical-align: middle;\n",
       "    }\n",
       "\n",
       "    .dataframe tbody tr th {\n",
       "        vertical-align: top;\n",
       "    }\n",
       "\n",
       "    .dataframe thead th {\n",
       "        text-align: right;\n",
       "    }\n",
       "</style>\n",
       "<table border=\"1\" class=\"dataframe\">\n",
       "  <thead>\n",
       "    <tr style=\"text-align: right;\">\n",
       "      <th></th>\n",
       "      <th>children</th>\n",
       "      <th>days_employed</th>\n",
       "      <th>dob_years</th>\n",
       "      <th>education</th>\n",
       "      <th>education_id</th>\n",
       "      <th>family_status</th>\n",
       "      <th>family_status_id</th>\n",
       "      <th>gender</th>\n",
       "      <th>income_type</th>\n",
       "      <th>debt</th>\n",
       "      <th>total_income</th>\n",
       "      <th>purpose</th>\n",
       "    </tr>\n",
       "  </thead>\n",
       "  <tbody>\n",
       "    <tr>\n",
       "      <th>0</th>\n",
       "      <td>1</td>\n",
       "      <td>-8437.673028</td>\n",
       "      <td>42</td>\n",
       "      <td>высшее</td>\n",
       "      <td>0</td>\n",
       "      <td>женат / замужем</td>\n",
       "      <td>0</td>\n",
       "      <td>F</td>\n",
       "      <td>сотрудник</td>\n",
       "      <td>0</td>\n",
       "      <td>253875.639453</td>\n",
       "      <td>покупка жилья</td>\n",
       "    </tr>\n",
       "    <tr>\n",
       "      <th>1</th>\n",
       "      <td>1</td>\n",
       "      <td>-4024.803754</td>\n",
       "      <td>36</td>\n",
       "      <td>среднее</td>\n",
       "      <td>1</td>\n",
       "      <td>женат / замужем</td>\n",
       "      <td>0</td>\n",
       "      <td>F</td>\n",
       "      <td>сотрудник</td>\n",
       "      <td>0</td>\n",
       "      <td>112080.014102</td>\n",
       "      <td>приобретение автомобиля</td>\n",
       "    </tr>\n",
       "    <tr>\n",
       "      <th>2</th>\n",
       "      <td>0</td>\n",
       "      <td>-5623.422610</td>\n",
       "      <td>33</td>\n",
       "      <td>Среднее</td>\n",
       "      <td>1</td>\n",
       "      <td>женат / замужем</td>\n",
       "      <td>0</td>\n",
       "      <td>M</td>\n",
       "      <td>сотрудник</td>\n",
       "      <td>0</td>\n",
       "      <td>145885.952297</td>\n",
       "      <td>покупка жилья</td>\n",
       "    </tr>\n",
       "    <tr>\n",
       "      <th>3</th>\n",
       "      <td>3</td>\n",
       "      <td>-4124.747207</td>\n",
       "      <td>32</td>\n",
       "      <td>среднее</td>\n",
       "      <td>1</td>\n",
       "      <td>женат / замужем</td>\n",
       "      <td>0</td>\n",
       "      <td>M</td>\n",
       "      <td>сотрудник</td>\n",
       "      <td>0</td>\n",
       "      <td>267628.550329</td>\n",
       "      <td>дополнительное образование</td>\n",
       "    </tr>\n",
       "    <tr>\n",
       "      <th>4</th>\n",
       "      <td>0</td>\n",
       "      <td>340266.072047</td>\n",
       "      <td>53</td>\n",
       "      <td>среднее</td>\n",
       "      <td>1</td>\n",
       "      <td>гражданский брак</td>\n",
       "      <td>1</td>\n",
       "      <td>F</td>\n",
       "      <td>пенсионер</td>\n",
       "      <td>0</td>\n",
       "      <td>158616.077870</td>\n",
       "      <td>сыграть свадьбу</td>\n",
       "    </tr>\n",
       "    <tr>\n",
       "      <th>5</th>\n",
       "      <td>0</td>\n",
       "      <td>-926.185831</td>\n",
       "      <td>27</td>\n",
       "      <td>высшее</td>\n",
       "      <td>0</td>\n",
       "      <td>гражданский брак</td>\n",
       "      <td>1</td>\n",
       "      <td>M</td>\n",
       "      <td>компаньон</td>\n",
       "      <td>0</td>\n",
       "      <td>255763.565419</td>\n",
       "      <td>покупка жилья</td>\n",
       "    </tr>\n",
       "    <tr>\n",
       "      <th>6</th>\n",
       "      <td>0</td>\n",
       "      <td>-2879.202052</td>\n",
       "      <td>43</td>\n",
       "      <td>высшее</td>\n",
       "      <td>0</td>\n",
       "      <td>женат / замужем</td>\n",
       "      <td>0</td>\n",
       "      <td>F</td>\n",
       "      <td>компаньон</td>\n",
       "      <td>0</td>\n",
       "      <td>240525.971920</td>\n",
       "      <td>операции с жильем</td>\n",
       "    </tr>\n",
       "    <tr>\n",
       "      <th>7</th>\n",
       "      <td>0</td>\n",
       "      <td>-152.779569</td>\n",
       "      <td>50</td>\n",
       "      <td>СРЕДНЕЕ</td>\n",
       "      <td>1</td>\n",
       "      <td>женат / замужем</td>\n",
       "      <td>0</td>\n",
       "      <td>M</td>\n",
       "      <td>сотрудник</td>\n",
       "      <td>0</td>\n",
       "      <td>135823.934197</td>\n",
       "      <td>образование</td>\n",
       "    </tr>\n",
       "    <tr>\n",
       "      <th>8</th>\n",
       "      <td>2</td>\n",
       "      <td>-6929.865299</td>\n",
       "      <td>35</td>\n",
       "      <td>ВЫСШЕЕ</td>\n",
       "      <td>0</td>\n",
       "      <td>гражданский брак</td>\n",
       "      <td>1</td>\n",
       "      <td>F</td>\n",
       "      <td>сотрудник</td>\n",
       "      <td>0</td>\n",
       "      <td>95856.832424</td>\n",
       "      <td>на проведение свадьбы</td>\n",
       "    </tr>\n",
       "    <tr>\n",
       "      <th>9</th>\n",
       "      <td>0</td>\n",
       "      <td>-2188.756445</td>\n",
       "      <td>41</td>\n",
       "      <td>среднее</td>\n",
       "      <td>1</td>\n",
       "      <td>женат / замужем</td>\n",
       "      <td>0</td>\n",
       "      <td>M</td>\n",
       "      <td>сотрудник</td>\n",
       "      <td>0</td>\n",
       "      <td>144425.938277</td>\n",
       "      <td>покупка жилья для семьи</td>\n",
       "    </tr>\n",
       "    <tr>\n",
       "      <th>10</th>\n",
       "      <td>2</td>\n",
       "      <td>-4171.483647</td>\n",
       "      <td>36</td>\n",
       "      <td>высшее</td>\n",
       "      <td>0</td>\n",
       "      <td>женат / замужем</td>\n",
       "      <td>0</td>\n",
       "      <td>M</td>\n",
       "      <td>компаньон</td>\n",
       "      <td>0</td>\n",
       "      <td>113943.491460</td>\n",
       "      <td>покупка недвижимости</td>\n",
       "    </tr>\n",
       "    <tr>\n",
       "      <th>11</th>\n",
       "      <td>0</td>\n",
       "      <td>-792.701887</td>\n",
       "      <td>40</td>\n",
       "      <td>среднее</td>\n",
       "      <td>1</td>\n",
       "      <td>женат / замужем</td>\n",
       "      <td>0</td>\n",
       "      <td>F</td>\n",
       "      <td>сотрудник</td>\n",
       "      <td>0</td>\n",
       "      <td>77069.234271</td>\n",
       "      <td>покупка коммерческой недвижимости</td>\n",
       "    </tr>\n",
       "    <tr>\n",
       "      <th>12</th>\n",
       "      <td>0</td>\n",
       "      <td>NaN</td>\n",
       "      <td>65</td>\n",
       "      <td>среднее</td>\n",
       "      <td>1</td>\n",
       "      <td>гражданский брак</td>\n",
       "      <td>1</td>\n",
       "      <td>M</td>\n",
       "      <td>пенсионер</td>\n",
       "      <td>0</td>\n",
       "      <td>NaN</td>\n",
       "      <td>сыграть свадьбу</td>\n",
       "    </tr>\n",
       "    <tr>\n",
       "      <th>13</th>\n",
       "      <td>0</td>\n",
       "      <td>-1846.641941</td>\n",
       "      <td>54</td>\n",
       "      <td>неоконченное высшее</td>\n",
       "      <td>2</td>\n",
       "      <td>женат / замужем</td>\n",
       "      <td>0</td>\n",
       "      <td>F</td>\n",
       "      <td>сотрудник</td>\n",
       "      <td>0</td>\n",
       "      <td>130458.228857</td>\n",
       "      <td>приобретение автомобиля</td>\n",
       "    </tr>\n",
       "    <tr>\n",
       "      <th>14</th>\n",
       "      <td>0</td>\n",
       "      <td>-1844.956182</td>\n",
       "      <td>56</td>\n",
       "      <td>высшее</td>\n",
       "      <td>0</td>\n",
       "      <td>гражданский брак</td>\n",
       "      <td>1</td>\n",
       "      <td>F</td>\n",
       "      <td>компаньон</td>\n",
       "      <td>1</td>\n",
       "      <td>165127.911772</td>\n",
       "      <td>покупка жилой недвижимости</td>\n",
       "    </tr>\n",
       "    <tr>\n",
       "      <th>15</th>\n",
       "      <td>1</td>\n",
       "      <td>-972.364419</td>\n",
       "      <td>26</td>\n",
       "      <td>среднее</td>\n",
       "      <td>1</td>\n",
       "      <td>женат / замужем</td>\n",
       "      <td>0</td>\n",
       "      <td>F</td>\n",
       "      <td>сотрудник</td>\n",
       "      <td>0</td>\n",
       "      <td>116820.904450</td>\n",
       "      <td>строительство собственной недвижимости</td>\n",
       "    </tr>\n",
       "    <tr>\n",
       "      <th>16</th>\n",
       "      <td>0</td>\n",
       "      <td>-1719.934226</td>\n",
       "      <td>35</td>\n",
       "      <td>среднее</td>\n",
       "      <td>1</td>\n",
       "      <td>женат / замужем</td>\n",
       "      <td>0</td>\n",
       "      <td>F</td>\n",
       "      <td>сотрудник</td>\n",
       "      <td>0</td>\n",
       "      <td>289202.704229</td>\n",
       "      <td>недвижимость</td>\n",
       "    </tr>\n",
       "    <tr>\n",
       "      <th>17</th>\n",
       "      <td>0</td>\n",
       "      <td>-2369.999720</td>\n",
       "      <td>33</td>\n",
       "      <td>высшее</td>\n",
       "      <td>0</td>\n",
       "      <td>гражданский брак</td>\n",
       "      <td>1</td>\n",
       "      <td>M</td>\n",
       "      <td>сотрудник</td>\n",
       "      <td>0</td>\n",
       "      <td>90410.586745</td>\n",
       "      <td>строительство недвижимости</td>\n",
       "    </tr>\n",
       "    <tr>\n",
       "      <th>18</th>\n",
       "      <td>0</td>\n",
       "      <td>400281.136913</td>\n",
       "      <td>53</td>\n",
       "      <td>среднее</td>\n",
       "      <td>1</td>\n",
       "      <td>вдовец / вдова</td>\n",
       "      <td>2</td>\n",
       "      <td>F</td>\n",
       "      <td>пенсионер</td>\n",
       "      <td>0</td>\n",
       "      <td>56823.777243</td>\n",
       "      <td>на покупку подержанного автомобиля</td>\n",
       "    </tr>\n",
       "    <tr>\n",
       "      <th>19</th>\n",
       "      <td>0</td>\n",
       "      <td>-10038.818549</td>\n",
       "      <td>48</td>\n",
       "      <td>СРЕДНЕЕ</td>\n",
       "      <td>1</td>\n",
       "      <td>в разводе</td>\n",
       "      <td>3</td>\n",
       "      <td>F</td>\n",
       "      <td>сотрудник</td>\n",
       "      <td>0</td>\n",
       "      <td>242831.107982</td>\n",
       "      <td>на покупку своего автомобиля</td>\n",
       "    </tr>\n",
       "  </tbody>\n",
       "</table>\n",
       "</div>"
      ],
      "text/plain": [
       "    children  days_employed  dob_years            education  education_id  \\\n",
       "0          1   -8437.673028         42               высшее             0   \n",
       "1          1   -4024.803754         36              среднее             1   \n",
       "2          0   -5623.422610         33              Среднее             1   \n",
       "3          3   -4124.747207         32              среднее             1   \n",
       "4          0  340266.072047         53              среднее             1   \n",
       "5          0    -926.185831         27               высшее             0   \n",
       "6          0   -2879.202052         43               высшее             0   \n",
       "7          0    -152.779569         50              СРЕДНЕЕ             1   \n",
       "8          2   -6929.865299         35               ВЫСШЕЕ             0   \n",
       "9          0   -2188.756445         41              среднее             1   \n",
       "10         2   -4171.483647         36               высшее             0   \n",
       "11         0    -792.701887         40              среднее             1   \n",
       "12         0            NaN         65              среднее             1   \n",
       "13         0   -1846.641941         54  неоконченное высшее             2   \n",
       "14         0   -1844.956182         56               высшее             0   \n",
       "15         1    -972.364419         26              среднее             1   \n",
       "16         0   -1719.934226         35              среднее             1   \n",
       "17         0   -2369.999720         33               высшее             0   \n",
       "18         0  400281.136913         53              среднее             1   \n",
       "19         0  -10038.818549         48              СРЕДНЕЕ             1   \n",
       "\n",
       "       family_status  family_status_id gender income_type  debt  \\\n",
       "0    женат / замужем                 0      F   сотрудник     0   \n",
       "1    женат / замужем                 0      F   сотрудник     0   \n",
       "2    женат / замужем                 0      M   сотрудник     0   \n",
       "3    женат / замужем                 0      M   сотрудник     0   \n",
       "4   гражданский брак                 1      F   пенсионер     0   \n",
       "5   гражданский брак                 1      M   компаньон     0   \n",
       "6    женат / замужем                 0      F   компаньон     0   \n",
       "7    женат / замужем                 0      M   сотрудник     0   \n",
       "8   гражданский брак                 1      F   сотрудник     0   \n",
       "9    женат / замужем                 0      M   сотрудник     0   \n",
       "10   женат / замужем                 0      M   компаньон     0   \n",
       "11   женат / замужем                 0      F   сотрудник     0   \n",
       "12  гражданский брак                 1      M   пенсионер     0   \n",
       "13   женат / замужем                 0      F   сотрудник     0   \n",
       "14  гражданский брак                 1      F   компаньон     1   \n",
       "15   женат / замужем                 0      F   сотрудник     0   \n",
       "16   женат / замужем                 0      F   сотрудник     0   \n",
       "17  гражданский брак                 1      M   сотрудник     0   \n",
       "18    вдовец / вдова                 2      F   пенсионер     0   \n",
       "19         в разводе                 3      F   сотрудник     0   \n",
       "\n",
       "     total_income                                 purpose  \n",
       "0   253875.639453                           покупка жилья  \n",
       "1   112080.014102                 приобретение автомобиля  \n",
       "2   145885.952297                           покупка жилья  \n",
       "3   267628.550329              дополнительное образование  \n",
       "4   158616.077870                         сыграть свадьбу  \n",
       "5   255763.565419                           покупка жилья  \n",
       "6   240525.971920                       операции с жильем  \n",
       "7   135823.934197                             образование  \n",
       "8    95856.832424                   на проведение свадьбы  \n",
       "9   144425.938277                 покупка жилья для семьи  \n",
       "10  113943.491460                    покупка недвижимости  \n",
       "11   77069.234271       покупка коммерческой недвижимости  \n",
       "12            NaN                         сыграть свадьбу  \n",
       "13  130458.228857                 приобретение автомобиля  \n",
       "14  165127.911772              покупка жилой недвижимости  \n",
       "15  116820.904450  строительство собственной недвижимости  \n",
       "16  289202.704229                            недвижимость  \n",
       "17   90410.586745              строительство недвижимости  \n",
       "18   56823.777243      на покупку подержанного автомобиля  \n",
       "19  242831.107982            на покупку своего автомобиля  "
      ]
     },
     "execution_count": 2,
     "metadata": {},
     "output_type": "execute_result"
    }
   ],
   "source": [
    "data.head(20)"
   ]
  },
  {
   "cell_type": "markdown",
   "id": "019d275c",
   "metadata": {
    "deletable": false,
    "editable": false,
    "id": "1c12e233"
   },
   "source": [
    "**Задание 3. Выведите основную информацию о датафрейме с помощью метода `info()`.**"
   ]
  },
  {
   "cell_type": "code",
   "execution_count": 3,
   "id": "190e96b3",
   "metadata": {
    "deletable": false,
    "id": "2b757bca",
    "outputId": "15376089-8dad-46c9-b520-c05248d43158"
   },
   "outputs": [
    {
     "name": "stdout",
     "output_type": "stream",
     "text": [
      "<class 'pandas.core.frame.DataFrame'>\n",
      "RangeIndex: 21525 entries, 0 to 21524\n",
      "Data columns (total 12 columns):\n",
      " #   Column            Non-Null Count  Dtype  \n",
      "---  ------            --------------  -----  \n",
      " 0   children          21525 non-null  int64  \n",
      " 1   days_employed     19351 non-null  float64\n",
      " 2   dob_years         21525 non-null  int64  \n",
      " 3   education         21525 non-null  object \n",
      " 4   education_id      21525 non-null  int64  \n",
      " 5   family_status     21525 non-null  object \n",
      " 6   family_status_id  21525 non-null  int64  \n",
      " 7   gender            21525 non-null  object \n",
      " 8   income_type       21525 non-null  object \n",
      " 9   debt              21525 non-null  int64  \n",
      " 10  total_income      19351 non-null  float64\n",
      " 11  purpose           21525 non-null  object \n",
      "dtypes: float64(2), int64(5), object(5)\n",
      "memory usage: 2.0+ MB\n"
     ]
    }
   ],
   "source": [
    "data.info()"
   ]
  },
  {
   "cell_type": "markdown",
   "id": "b5958da5",
   "metadata": {
    "deletable": false,
    "editable": false,
    "id": "333ec665"
   },
   "source": [
    "## Предобработка данных"
   ]
  },
  {
   "cell_type": "markdown",
   "id": "33fa595f",
   "metadata": {
    "deletable": false,
    "editable": false,
    "id": "02d92d53"
   },
   "source": [
    "### Удаление пропусков"
   ]
  },
  {
   "cell_type": "markdown",
   "id": "9f79a257",
   "metadata": {
    "deletable": false,
    "editable": false,
    "id": "cd84967c"
   },
   "source": [
    "**Задание 4. Выведите количество пропущенных значений для каждого столбца. Используйте комбинацию двух методов.**"
   ]
  },
  {
   "cell_type": "code",
   "execution_count": 4,
   "id": "bb6bcc33",
   "metadata": {
    "deletable": false,
    "id": "7f9b2309",
    "outputId": "81f4d817-781c-465c-ed15-91ce4446810d"
   },
   "outputs": [
    {
     "data": {
      "text/plain": [
       "children               0\n",
       "days_employed       2174\n",
       "dob_years              0\n",
       "education              0\n",
       "education_id           0\n",
       "family_status          0\n",
       "family_status_id       0\n",
       "gender                 0\n",
       "income_type            0\n",
       "debt                   0\n",
       "total_income        2174\n",
       "purpose                0\n",
       "dtype: int64"
      ]
     },
     "execution_count": 4,
     "metadata": {},
     "output_type": "execute_result"
    }
   ],
   "source": [
    "data.isna().sum()"
   ]
  },
  {
   "cell_type": "markdown",
   "id": "33e12b99",
   "metadata": {
    "deletable": false,
    "editable": false,
    "id": "db86e27b"
   },
   "source": [
    "**Задание 5. В двух столбцах есть пропущенные значения. Один из них — `days_employed`. Пропуски в этом столбце вы обработаете на следующем этапе. Другой столбец с пропущенными значениями — `total_income` — хранит данные о доходах. На сумму дохода сильнее всего влияет тип занятости, поэтому заполнить пропуски в этом столбце нужно медианным значением по каждому типу из столбца `income_type`. Например, у человека с типом занятости `сотрудник` пропуск в столбце `total_income` должен быть заполнен медианным доходом среди всех записей с тем же типом.**"
   ]
  },
  {
   "cell_type": "code",
   "execution_count": 5,
   "id": "9fdeebaa",
   "metadata": {
    "deletable": false,
    "id": "42006a93"
   },
   "outputs": [],
   "source": [
    "for t in data['income_type'].unique():\n",
    "    data.loc[(data['income_type'] == t) & (data['total_income'].isna()), 'total_income'] = \\\n",
    "    data.loc[(data['income_type'] == t), 'total_income'].median()"
   ]
  },
  {
   "cell_type": "markdown",
   "id": "79d1d9ec",
   "metadata": {
    "deletable": false,
    "editable": false,
    "id": "89da5ece"
   },
   "source": [
    "### Обработка аномальных значений"
   ]
  },
  {
   "cell_type": "markdown",
   "id": "ae876fb7",
   "metadata": {
    "deletable": false,
    "editable": false,
    "id": "57964554"
   },
   "source": [
    "**Задание 6. В данных могут встречаться артефакты (аномалии) — значения, которые не отражают действительность и появились по какой-то ошибке. таким артефактом будет отрицательное количество дней трудового стажа в столбце `days_employed`. Для реальных данных это нормально. Обработайте значения в этом столбце: замените все отрицательные значения положительными с помощью метода `abs()`.**"
   ]
  },
  {
   "cell_type": "code",
   "execution_count": 6,
   "id": "5da902a7",
   "metadata": {
    "deletable": false,
    "id": "f6f055bf"
   },
   "outputs": [],
   "source": [
    "data['days_employed'] = data['days_employed'].abs()"
   ]
  },
  {
   "cell_type": "markdown",
   "id": "4414beee",
   "metadata": {
    "deletable": false,
    "editable": false,
    "id": "6107dd2f"
   },
   "source": [
    "**Задание 7. Для каждого типа занятости выведите медианное значение трудового стажа `days_employed` в днях.**"
   ]
  },
  {
   "cell_type": "code",
   "execution_count": 7,
   "id": "59d7e4df",
   "metadata": {
    "deletable": false,
    "id": "85a5faf6",
    "outputId": "801ef80e-522b-4668-f34e-565af7432bcf"
   },
   "outputs": [
    {
     "data": {
      "text/plain": [
       "income_type\n",
       "безработный        366413.652744\n",
       "в декрете            3296.759962\n",
       "госслужащий          2689.368353\n",
       "компаньон            1547.382223\n",
       "пенсионер          365213.306266\n",
       "предприниматель       520.848083\n",
       "сотрудник            1574.202821\n",
       "студент               578.751554\n",
       "Name: days_employed, dtype: float64"
      ]
     },
     "execution_count": 7,
     "metadata": {},
     "output_type": "execute_result"
    }
   ],
   "source": [
    "data.groupby('income_type')['days_employed'].agg('median')"
   ]
  },
  {
   "cell_type": "markdown",
   "id": "ca4d5212",
   "metadata": {
    "deletable": false,
    "editable": false,
    "id": "38d1a030"
   },
   "source": [
    "У двух типов (безработные и пенсионеры) получатся аномально большие значения. Исправить такие значения сложно, поэтому оставьте их как есть. Тем более этот столбец не понадобится вам для исследования."
   ]
  },
  {
   "cell_type": "markdown",
   "id": "fddda331",
   "metadata": {
    "deletable": false,
    "editable": false,
    "id": "d8a9f147"
   },
   "source": [
    "**Задание 8. Выведите перечень уникальных значений столбца `children`.**"
   ]
  },
  {
   "cell_type": "code",
   "execution_count": 8,
   "id": "7eba1dac",
   "metadata": {
    "deletable": false,
    "id": "ef5056eb",
    "outputId": "6975b15c-7f95-4697-d16d-a0c79b657b03"
   },
   "outputs": [
    {
     "data": {
      "text/plain": [
       "array([ 1,  0,  3,  2, -1,  4, 20,  5])"
      ]
     },
     "execution_count": 8,
     "metadata": {},
     "output_type": "execute_result"
    }
   ],
   "source": [
    "data['children'].unique()"
   ]
  },
  {
   "cell_type": "markdown",
   "id": "4c8ba7e9",
   "metadata": {
    "deletable": false,
    "editable": false,
    "id": "40b9ebf2"
   },
   "source": [
    "**Задание 9. В столбце `children` есть два аномальных значения. Удалите строки, в которых встречаются такие аномальные значения из датафрейма `data`.**"
   ]
  },
  {
   "cell_type": "code",
   "execution_count": 9,
   "id": "67bf02a2",
   "metadata": {
    "deletable": false,
    "id": "3ff9801d"
   },
   "outputs": [],
   "source": [
    "data = data[(data['children'] != -1) & (data['children'] != 20)]"
   ]
  },
  {
   "cell_type": "markdown",
   "id": "aae96048",
   "metadata": {
    "deletable": false,
    "editable": false,
    "id": "bbc4d0ce"
   },
   "source": [
    "**Задание 10. Ещё раз выведите перечень уникальных значений столбца `children`, чтобы убедиться, что артефакты удалены.**"
   ]
  },
  {
   "cell_type": "code",
   "execution_count": 10,
   "id": "2fe2f84e",
   "metadata": {
    "deletable": false,
    "id": "ad4fa8b7",
    "outputId": "b2097101-d49d-44d9-901b-32a65c9463d1"
   },
   "outputs": [
    {
     "data": {
      "text/plain": [
       "array([1, 0, 3, 2, 4, 5])"
      ]
     },
     "execution_count": 10,
     "metadata": {},
     "output_type": "execute_result"
    }
   ],
   "source": [
    "data['children'].unique()"
   ]
  },
  {
   "cell_type": "markdown",
   "id": "9c2470a0",
   "metadata": {
    "deletable": false,
    "editable": false,
    "id": "75440b63"
   },
   "source": [
    "### Удаление пропусков (продолжение)"
   ]
  },
  {
   "cell_type": "markdown",
   "id": "e0340bd1",
   "metadata": {
    "deletable": false,
    "editable": false,
    "id": "f4ea573f"
   },
   "source": [
    "**Задание 11. Заполните пропуски в столбце `days_employed` медианными значениями по каждого типа занятости `income_type`.**"
   ]
  },
  {
   "cell_type": "code",
   "execution_count": 11,
   "id": "89a11669",
   "metadata": {
    "deletable": false,
    "id": "af6b1a7e"
   },
   "outputs": [],
   "source": [
    "for t in data['income_type'].unique():\n",
    "    data.loc[(data['income_type'] == t) & (data['days_employed'].isna()), 'days_employed'] = \\\n",
    "    data.loc[(data['income_type'] == t), 'days_employed'].median()"
   ]
  },
  {
   "cell_type": "markdown",
   "id": "a9a29009",
   "metadata": {
    "deletable": false,
    "editable": false,
    "id": "2753f40d"
   },
   "source": [
    "**Задание 12. Убедитесь, что все пропуски заполнены. Проверьте себя и ещё раз выведите количество пропущенных значений для каждого столбца с помощью двух методов.**"
   ]
  },
  {
   "cell_type": "code",
   "execution_count": 12,
   "id": "7e7c6a38",
   "metadata": {
    "deletable": false,
    "id": "55f78bc2",
    "outputId": "8da1e4e1-358e-4e87-98c9-f261bce0a7b2",
    "scrolled": true
   },
   "outputs": [
    {
     "data": {
      "text/plain": [
       "children            0\n",
       "days_employed       0\n",
       "dob_years           0\n",
       "education           0\n",
       "education_id        0\n",
       "family_status       0\n",
       "family_status_id    0\n",
       "gender              0\n",
       "income_type         0\n",
       "debt                0\n",
       "total_income        0\n",
       "purpose             0\n",
       "dtype: int64"
      ]
     },
     "execution_count": 12,
     "metadata": {},
     "output_type": "execute_result"
    }
   ],
   "source": [
    "data.isna().sum()"
   ]
  },
  {
   "cell_type": "markdown",
   "id": "91ab810f",
   "metadata": {
    "deletable": false,
    "editable": false,
    "id": "ddc81e43"
   },
   "source": [
    "### Изменение типов данных"
   ]
  },
  {
   "cell_type": "markdown",
   "id": "028d189d",
   "metadata": {
    "deletable": false,
    "editable": false,
    "id": "42d19d24"
   },
   "source": [
    "**Задание 13. Замените вещественный тип данных в столбце `total_income` на целочисленный с помощью метода `astype()`.**"
   ]
  },
  {
   "cell_type": "code",
   "execution_count": 13,
   "id": "de31cb76",
   "metadata": {
    "deletable": false,
    "id": "920b65ad"
   },
   "outputs": [],
   "source": [
    "data['total_income'] = data['total_income'].astype(int)"
   ]
  },
  {
   "cell_type": "markdown",
   "id": "bb3482e2",
   "metadata": {
    "deletable": false,
    "editable": false,
    "id": "80c420ba"
   },
   "source": [
    "### Обработка дубликатов"
   ]
  },
  {
   "cell_type": "markdown",
   "id": "f5115d9c",
   "metadata": {
    "deletable": false,
    "editable": false
   },
   "source": [
    "**Задание 14. Обработайте неявные дубликаты в столбце `education`. В этом столбце есть одни и те же значения, но записанные по-разному: с использованием заглавных и строчных букв. Приведите их к нижнему регистру. Проверьте остальные столбцы.**"
   ]
  },
  {
   "cell_type": "code",
   "execution_count": 14,
   "id": "c811814b",
   "metadata": {
    "deletable": false
   },
   "outputs": [],
   "source": [
    "data['education'] = data['education'].str.lower()"
   ]
  },
  {
   "cell_type": "markdown",
   "id": "1fe8b730",
   "metadata": {
    "deletable": false,
    "editable": false,
    "id": "dc587695"
   },
   "source": [
    "**Задание 15. Выведите на экран количество строк-дубликатов в данных. Если такие строки присутствуют, удалите их.**"
   ]
  },
  {
   "cell_type": "code",
   "execution_count": 15,
   "id": "47c8438c",
   "metadata": {
    "deletable": false,
    "id": "3ee445e4",
    "outputId": "9684deba-1934-42d1-99e1-cda61740f822"
   },
   "outputs": [
    {
     "data": {
      "text/plain": [
       "71"
      ]
     },
     "execution_count": 15,
     "metadata": {},
     "output_type": "execute_result"
    }
   ],
   "source": [
    "data.duplicated().sum()"
   ]
  },
  {
   "cell_type": "code",
   "execution_count": 16,
   "id": "86472049",
   "metadata": {
    "deletable": false,
    "id": "8575fe05"
   },
   "outputs": [],
   "source": [
    "data = data.drop_duplicates()"
   ]
  },
  {
   "cell_type": "markdown",
   "id": "fe207e06",
   "metadata": {
    "deletable": false,
    "editable": false,
    "id": "9904cf55"
   },
   "source": [
    "### Категоризация данных"
   ]
  },
  {
   "cell_type": "markdown",
   "id": "50cb2d3c",
   "metadata": {
    "deletable": false,
    "editable": false,
    "id": "72fcc8a2"
   },
   "source": [
    "**Задание 16. На основании диапазонов, указанных ниже, создайте в датафрейме `data` столбец `total_income_category` с категориями:**\n",
    "\n",
    "- 0–30000 — `'E'`;\n",
    "- 30001–50000 — `'D'`;\n",
    "- 50001–200000 — `'C'`;\n",
    "- 200001–1000000 — `'B'`;\n",
    "- 1000001 и выше — `'A'`.\n",
    "\n",
    "\n",
    "**Например, кредитополучателю с доходом 25000 нужно назначить категорию `'E'`, а клиенту, получающему 235000, — `'B'`. Используйте собственную функцию с именем `categorize_income()` и метод `apply()`.**"
   ]
  },
  {
   "cell_type": "code",
   "execution_count": 17,
   "id": "6165a040",
   "metadata": {
    "deletable": false,
    "id": "e1771346"
   },
   "outputs": [],
   "source": [
    "def categorize_income(income):\n",
    "    try:\n",
    "        if 0 <= income <= 30000:\n",
    "            return 'E'\n",
    "        elif 30001 <= income <= 50000:\n",
    "            return 'D'\n",
    "        elif 50001 <= income <= 200000:\n",
    "            return 'C'\n",
    "        elif 200001 <= income <= 1000000:\n",
    "            return 'B'\n",
    "        elif income >= 1000001:\n",
    "            return 'A'\n",
    "    except:\n",
    "        pass"
   ]
  },
  {
   "cell_type": "code",
   "execution_count": 18,
   "id": "5c612777",
   "metadata": {
    "deletable": false,
    "id": "d5f3586d"
   },
   "outputs": [],
   "source": [
    "data['total_income_category'] = data['total_income'].apply(categorize_income)"
   ]
  },
  {
   "cell_type": "markdown",
   "id": "20877aad",
   "metadata": {
    "deletable": false,
    "editable": false,
    "id": "dde49b5c"
   },
   "source": [
    "**Задание 17. Выведите на экран перечень уникальных целей взятия кредита из столбца `purpose`.**"
   ]
  },
  {
   "cell_type": "code",
   "execution_count": 19,
   "id": "e59fd951",
   "metadata": {
    "deletable": false,
    "id": "f67ce9b3",
    "outputId": "673c12d9-7d7e-4ae0-9812-c622c89dd244"
   },
   "outputs": [
    {
     "data": {
      "text/plain": [
       "array(['покупка жилья', 'приобретение автомобиля',\n",
       "       'дополнительное образование', 'сыграть свадьбу',\n",
       "       'операции с жильем', 'образование', 'на проведение свадьбы',\n",
       "       'покупка жилья для семьи', 'покупка недвижимости',\n",
       "       'покупка коммерческой недвижимости', 'покупка жилой недвижимости',\n",
       "       'строительство собственной недвижимости', 'недвижимость',\n",
       "       'строительство недвижимости', 'на покупку подержанного автомобиля',\n",
       "       'на покупку своего автомобиля',\n",
       "       'операции с коммерческой недвижимостью',\n",
       "       'строительство жилой недвижимости', 'жилье',\n",
       "       'операции со своей недвижимостью', 'автомобили',\n",
       "       'заняться образованием', 'сделка с подержанным автомобилем',\n",
       "       'получение образования', 'автомобиль', 'свадьба',\n",
       "       'получение дополнительного образования', 'покупка своего жилья',\n",
       "       'операции с недвижимостью', 'получение высшего образования',\n",
       "       'свой автомобиль', 'сделка с автомобилем',\n",
       "       'профильное образование', 'высшее образование',\n",
       "       'покупка жилья для сдачи', 'на покупку автомобиля', 'ремонт жилью',\n",
       "       'заняться высшим образованием'], dtype=object)"
      ]
     },
     "execution_count": 19,
     "metadata": {},
     "output_type": "execute_result"
    }
   ],
   "source": [
    "data['purpose'].unique()"
   ]
  },
  {
   "cell_type": "markdown",
   "id": "8dffc604",
   "metadata": {
    "deletable": false,
    "editable": false,
    "id": "85d0aef0"
   },
   "source": [
    "**Задание 18. Создайте функцию, которая на основании данных из столбца `purpose` сформирует новый столбец `purpose_category`, в который войдут следующие категории:**\n",
    "\n",
    "- `'операции с автомобилем'`,\n",
    "- `'операции с недвижимостью'`,\n",
    "- `'проведение свадьбы'`,\n",
    "- `'получение образования'`.\n",
    "\n",
    "**Например, если в столбце `purpose` находится подстрока `'на покупку автомобиля'`, то в столбце `purpose_category` должна появиться строка `'операции с автомобилем'`.**\n",
    "\n",
    "**Используйте собственную функцию с именем `categorize_purpose()` и метод `apply()`. Изучите данные в столбце `purpose` и определите, какие подстроки помогут вам правильно определить категорию.**"
   ]
  },
  {
   "cell_type": "code",
   "execution_count": 20,
   "id": "aa7f4299",
   "metadata": {
    "deletable": false,
    "id": "e149fab4"
   },
   "outputs": [],
   "source": [
    "def categorize_purpose(row):\n",
    "    try:\n",
    "        if 'автом' in row:\n",
    "            return 'операции с автомобилем'\n",
    "        elif 'жил' in row or 'недвиж' in row:\n",
    "            return 'операции с недвижимостью'\n",
    "        elif 'свад' in row:\n",
    "            return 'проведение свадьбы'\n",
    "        elif 'образов' in row:\n",
    "            return 'получение образования'\n",
    "    except:\n",
    "        return 'нет категории'"
   ]
  },
  {
   "cell_type": "code",
   "execution_count": 21,
   "id": "6e97206c",
   "metadata": {
    "deletable": false,
    "id": "bf36e69b"
   },
   "outputs": [],
   "source": [
    "data['purpose_category'] = data['purpose'].apply(categorize_purpose)"
   ]
  },
  {
   "cell_type": "markdown",
   "id": "a32da980",
   "metadata": {
    "deletable": false,
    "editable": false,
    "id": "09b242bf"
   },
   "source": [
    "### Шаг 3. Исследуйте данные и ответьте на вопросы"
   ]
  },
  {
   "cell_type": "markdown",
   "id": "ebe44cde",
   "metadata": {
    "deletable": false,
    "editable": false,
    "id": "c5d66278"
   },
   "source": [
    "#### 3.1 Есть ли зависимость между количеством детей и возвратом кредита в срок?"
   ]
  },
  {
   "cell_type": "code",
   "execution_count": 22,
   "id": "4086512a",
   "metadata": {
    "deletable": false,
    "id": "2cacfc4a",
    "scrolled": true
   },
   "outputs": [
    {
     "data": {
      "text/html": [
       "<div>\n",
       "<style scoped>\n",
       "    .dataframe tbody tr th:only-of-type {\n",
       "        vertical-align: middle;\n",
       "    }\n",
       "\n",
       "    .dataframe tbody tr th {\n",
       "        vertical-align: top;\n",
       "    }\n",
       "\n",
       "    .dataframe thead th {\n",
       "        text-align: right;\n",
       "    }\n",
       "</style>\n",
       "<table border=\"1\" class=\"dataframe\">\n",
       "  <thead>\n",
       "    <tr style=\"text-align: right;\">\n",
       "      <th></th>\n",
       "      <th>count</th>\n",
       "      <th>count_debt</th>\n",
       "      <th>percent_debt</th>\n",
       "    </tr>\n",
       "    <tr>\n",
       "      <th>children</th>\n",
       "      <th></th>\n",
       "      <th></th>\n",
       "      <th></th>\n",
       "    </tr>\n",
       "  </thead>\n",
       "  <tbody>\n",
       "    <tr>\n",
       "      <th>0</th>\n",
       "      <td>14091</td>\n",
       "      <td>1063</td>\n",
       "      <td>7.5%</td>\n",
       "    </tr>\n",
       "    <tr>\n",
       "      <th>1</th>\n",
       "      <td>4808</td>\n",
       "      <td>444</td>\n",
       "      <td>9.2%</td>\n",
       "    </tr>\n",
       "    <tr>\n",
       "      <th>2</th>\n",
       "      <td>2052</td>\n",
       "      <td>194</td>\n",
       "      <td>9.5%</td>\n",
       "    </tr>\n",
       "    <tr>\n",
       "      <th>3</th>\n",
       "      <td>330</td>\n",
       "      <td>27</td>\n",
       "      <td>8.2%</td>\n",
       "    </tr>\n",
       "    <tr>\n",
       "      <th>4</th>\n",
       "      <td>41</td>\n",
       "      <td>4</td>\n",
       "      <td>9.8%</td>\n",
       "    </tr>\n",
       "    <tr>\n",
       "      <th>5</th>\n",
       "      <td>9</td>\n",
       "      <td>0</td>\n",
       "      <td>0.0%</td>\n",
       "    </tr>\n",
       "  </tbody>\n",
       "</table>\n",
       "</div>"
      ],
      "text/plain": [
       "          count count_debt percent_debt\n",
       "children                               \n",
       "0         14091       1063         7.5%\n",
       "1          4808        444         9.2%\n",
       "2          2052        194         9.5%\n",
       "3           330         27         8.2%\n",
       "4            41          4         9.8%\n",
       "5             9          0         0.0%"
      ]
     },
     "execution_count": 22,
     "metadata": {},
     "output_type": "execute_result"
    }
   ],
   "source": [
    "# Функция count_debt - считает количество людей, имеющих долг, из выборки \n",
    "def count_debt(value):\n",
    "    return f'{value.mean() * value.count():.0f}'\n",
    "\n",
    "# Функция percent_debt - считает процент людей, имеющих долг, из выборки \n",
    "def percent_debt(value):\n",
    "    return f'{value.mean():.1%}'\n",
    "\n",
    "# Группируем данные по столбцу children, применяем к столбцу debt функции c помощью метода agg()\n",
    "data.groupby('children')['debt'].agg(['count', count_debt, percent_debt])\n"
   ]
  },
  {
   "cell_type": "code",
   "execution_count": 23,
   "id": "ed1dfba6",
   "metadata": {},
   "outputs": [
    {
     "data": {
      "text/plain": [
       "<BarContainer object of 6 artists>"
      ]
     },
     "execution_count": 23,
     "metadata": {},
     "output_type": "execute_result"
    },
    {
     "data": {
      "image/png": "[encoded data removed]",
      "text/plain": [
       "<Figure size 432x288 with 1 Axes>"
      ]
     },
     "metadata": {
      "needs_background": "light"
     },
     "output_type": "display_data"
    }
   ],
   "source": [
    "# Результирующую таблицу сохраняем в отдельной переменной, для сохранения столбца со значением процентов.\n",
    "table_1 = data.groupby('children')['debt'].agg(['count', count_debt, percent_debt])\n",
    "\n",
    "# С помощью генератора списков пробегаемся по столбцу и меняем строковые значения на float. \n",
    "value = [float(i[:-1]) for i in table_1['percent_debt']]\n",
    "names = ['нет детей','один','два','три','четыре','пять']\n",
    "\n",
    "# Строим столбчатую диаграмму:\n",
    "plt.bar(names, height = value, width=0.6)\n",
    "plt.show()"
   ]
  },
  {
   "cell_type": "code",
   "execution_count": 24,
   "id": "e3b689eb",
   "metadata": {},
   "outputs": [
    {
     "data": {
      "image/png": "[encoded data removed]",
      "text/plain": [
       "<Figure size 432x288 with 1 Axes>"
      ]
     },
     "metadata": {
      "needs_background": "light"
     },
     "output_type": "display_data"
    }
   ],
   "source": [
    "# Код ревьюера\n",
    "\n",
    "import matplotlib.pyplot as plt\n",
    "\n",
    "# группируем данные по количеству детей ('children'), затем применяем агрегирующие функции к столбцу 'debt'\n",
    "grouped_data = data.groupby('children')['debt'].agg(['count', 'mean', 'sum'])\n",
    "# функция reset_index используется для преобразования индекса в столбец данных\n",
    "grouped_data.reset_index(inplace=True)\n",
    "# используем график к таблице\n",
    "plt.bar(grouped_data['children'], grouped_data['mean']*100) # умножаем на 100, чтобы перевести в проценты\n",
    "# подписываем\n",
    "plt.title(\"Влияние количества детей на процент просроченных кредитов\")\n",
    "plt.xlabel(\"Количество детей у клиента\")\n",
    "plt.ylabel(\"Просрочено платежей, %\")\n",
    "plt.xticks(grouped_data['children'])\n",
    "plt.show()"
   ]
  },
  {
   "cell_type": "markdown",
   "id": "0c66cc30",
   "metadata": {
    "deletable": false,
    "id": "3a6b99ec"
   },
   "source": [
    "**Вывод:** Наибольшая часть выборки - это люди, не имеющие детей. Поэтому разумно проводить сравнение относительно данной группы. Процент должников в семьях с одним и двумя детьми на 1,5-2% больше, чем у группы без детей. Рассматривая группы людей, имеющих 3-4 ребенка, можно также наблюдать повышение проценnа на 0,7-2,3%. С увеличением количества детей в семьях - уменьшается выборка, что может сказаться на точности результатов. В семьях с 5-ю детьми должников не наблюдается, т.к. количество таких семей всего 9. Подводя итоги можно сказать, что **зависимость**, между количеством детей и возвратом кредита в срок, **имеется**. **С увеличением количества детей, процент задолжников растет.**"
   ]
  },
  {
   "cell_type": "markdown",
   "id": "4d37fa55",
   "metadata": {
    "deletable": false,
    "editable": false,
    "id": "97be82ca"
   },
   "source": [
    "#### 3.2 Есть ли зависимость между семейным положением и возвратом кредита в срок?"
   ]
  },
  {
   "cell_type": "code",
   "execution_count": 25,
   "id": "f4de5b0b",
   "metadata": {
    "deletable": false,
    "id": "dc3f7ee8"
   },
   "outputs": [
    {
     "data": {
      "text/html": [
       "<div>\n",
       "<style scoped>\n",
       "    .dataframe tbody tr th:only-of-type {\n",
       "        vertical-align: middle;\n",
       "    }\n",
       "\n",
       "    .dataframe tbody tr th {\n",
       "        vertical-align: top;\n",
       "    }\n",
       "\n",
       "    .dataframe thead th {\n",
       "        text-align: right;\n",
       "    }\n",
       "</style>\n",
       "<table border=\"1\" class=\"dataframe\">\n",
       "  <thead>\n",
       "    <tr style=\"text-align: right;\">\n",
       "      <th></th>\n",
       "      <th></th>\n",
       "      <th>count</th>\n",
       "      <th>count_debt</th>\n",
       "      <th>percent_debt</th>\n",
       "    </tr>\n",
       "    <tr>\n",
       "      <th>family_status</th>\n",
       "      <th>family_status_id</th>\n",
       "      <th></th>\n",
       "      <th></th>\n",
       "      <th></th>\n",
       "    </tr>\n",
       "  </thead>\n",
       "  <tbody>\n",
       "    <tr>\n",
       "      <th>женат / замужем</th>\n",
       "      <th>0</th>\n",
       "      <td>12261</td>\n",
       "      <td>927</td>\n",
       "      <td>7.6%</td>\n",
       "    </tr>\n",
       "    <tr>\n",
       "      <th>гражданский брак</th>\n",
       "      <th>1</th>\n",
       "      <td>4134</td>\n",
       "      <td>385</td>\n",
       "      <td>9.3%</td>\n",
       "    </tr>\n",
       "    <tr>\n",
       "      <th>вдовец / вдова</th>\n",
       "      <th>2</th>\n",
       "      <td>951</td>\n",
       "      <td>63</td>\n",
       "      <td>6.6%</td>\n",
       "    </tr>\n",
       "    <tr>\n",
       "      <th>в разводе</th>\n",
       "      <th>3</th>\n",
       "      <td>1189</td>\n",
       "      <td>84</td>\n",
       "      <td>7.1%</td>\n",
       "    </tr>\n",
       "    <tr>\n",
       "      <th>Не женат / не замужем</th>\n",
       "      <th>4</th>\n",
       "      <td>2796</td>\n",
       "      <td>273</td>\n",
       "      <td>9.8%</td>\n",
       "    </tr>\n",
       "  </tbody>\n",
       "</table>\n",
       "</div>"
      ],
      "text/plain": [
       "                                        count count_debt percent_debt\n",
       "family_status         family_status_id                               \n",
       "женат / замужем       0                 12261        927         7.6%\n",
       "гражданский брак      1                  4134        385         9.3%\n",
       "вдовец / вдова        2                   951         63         6.6%\n",
       "в разводе             3                  1189         84         7.1%\n",
       "Не женат / не замужем 4                  2796        273         9.8%"
      ]
     },
     "execution_count": 25,
     "metadata": {},
     "output_type": "execute_result"
    }
   ],
   "source": [
    "# Группируем данные по столбцам family_status и family_status_id, проводим со столбцом debt аналогичные предыдущему заданию операции.\n",
    "# Отсортируем значения для удобства восприятия информации.\n",
    "data.groupby(['family_status','family_status_id'])['debt'].agg(['count', count_debt, percent_debt]).sort_values('family_status_id')"
   ]
  },
  {
   "cell_type": "code",
   "execution_count": 26,
   "id": "2fbaa601",
   "metadata": {},
   "outputs": [
    {
     "data": {
      "image/png": "[encoded data removed]",
      "text/plain": [
       "<Figure size 432x288 with 1 Axes>"
      ]
     },
     "metadata": {
      "needs_background": "light"
     },
     "output_type": "display_data"
    }
   ],
   "source": [
    "table_2 = data.groupby(['family_status','family_status_id'])['debt'].agg(['count', count_debt, percent_debt]).sort_values('family_status_id')\n",
    "\n",
    "value = [float(i[:-1]) for i in table_2['percent_debt']]\n",
    "names = ['в браке','гражданский',' вдовец(ва)','развод','Нет брака']\n",
    "\n",
    "# Строим столбчатую диаграмму (зависимость между количеством задолжников в процентах от семейного статуса):\n",
    "plt.bar(names, height = value, width=0.5)\n",
    "plt.show()"
   ]
  },
  {
   "cell_type": "markdown",
   "id": "422d48bc",
   "metadata": {
    "deletable": false,
    "id": "1cef7837"
   },
   "source": [
    "**Вывод:** Самый большой процент задолжников имееют заемщики со статусом: \"гражданский брак\" и \"Не женат / не замужем\". Данная группа людей не обременена семейными обязательсвами, скорей всего это молодые люди. Задолжники со статусом: \"женат / замужем\" и \"в разводе\", имеют процент поменьше, скорей всего это люди среднего возраста, которые сформировались в финансовом плане. Самый маленький процент задолжников среди группы \"вдовец / вдова\", много вероятно это люди пожилого возраста, как правило они более ответсвенные. **Зависимость между семейным положением и возвратом кредита - имеется.**\n"
   ]
  },
  {
   "cell_type": "markdown",
   "id": "0bd42d91",
   "metadata": {
    "deletable": false,
    "editable": false,
    "id": "1e8b2fca"
   },
   "source": [
    "#### 3.3 Есть ли зависимость между уровнем дохода и возвратом кредита в срок?"
   ]
  },
  {
   "cell_type": "code",
   "execution_count": 27,
   "id": "fba9d785",
   "metadata": {
    "deletable": false,
    "id": "cd7e3720"
   },
   "outputs": [
    {
     "data": {
      "text/html": [
       "<div>\n",
       "<style scoped>\n",
       "    .dataframe tbody tr th:only-of-type {\n",
       "        vertical-align: middle;\n",
       "    }\n",
       "\n",
       "    .dataframe tbody tr th {\n",
       "        vertical-align: top;\n",
       "    }\n",
       "\n",
       "    .dataframe thead th {\n",
       "        text-align: right;\n",
       "    }\n",
       "</style>\n",
       "<table border=\"1\" class=\"dataframe\">\n",
       "  <thead>\n",
       "    <tr style=\"text-align: right;\">\n",
       "      <th></th>\n",
       "      <th>count</th>\n",
       "      <th>count_debt</th>\n",
       "      <th>percent_debt</th>\n",
       "    </tr>\n",
       "    <tr>\n",
       "      <th>total_income_category</th>\n",
       "      <th></th>\n",
       "      <th></th>\n",
       "      <th></th>\n",
       "    </tr>\n",
       "  </thead>\n",
       "  <tbody>\n",
       "    <tr>\n",
       "      <th>A</th>\n",
       "      <td>25</td>\n",
       "      <td>2</td>\n",
       "      <td>8.0%</td>\n",
       "    </tr>\n",
       "    <tr>\n",
       "      <th>B</th>\n",
       "      <td>5014</td>\n",
       "      <td>354</td>\n",
       "      <td>7.1%</td>\n",
       "    </tr>\n",
       "    <tr>\n",
       "      <th>C</th>\n",
       "      <td>15921</td>\n",
       "      <td>1353</td>\n",
       "      <td>8.5%</td>\n",
       "    </tr>\n",
       "    <tr>\n",
       "      <th>D</th>\n",
       "      <td>349</td>\n",
       "      <td>21</td>\n",
       "      <td>6.0%</td>\n",
       "    </tr>\n",
       "    <tr>\n",
       "      <th>E</th>\n",
       "      <td>22</td>\n",
       "      <td>2</td>\n",
       "      <td>9.1%</td>\n",
       "    </tr>\n",
       "  </tbody>\n",
       "</table>\n",
       "</div>"
      ],
      "text/plain": [
       "                       count count_debt percent_debt\n",
       "total_income_category                               \n",
       "A                         25          2         8.0%\n",
       "B                       5014        354         7.1%\n",
       "C                      15921       1353         8.5%\n",
       "D                        349         21         6.0%\n",
       "E                         22          2         9.1%"
      ]
     },
     "execution_count": 27,
     "metadata": {},
     "output_type": "execute_result"
    }
   ],
   "source": [
    "# Группируем данные по уровню уровню дохода. Данные уже отсортированы в порядке уменьшения доходов клиентов.\n",
    "data.groupby('total_income_category')['debt'].agg(['count', count_debt, percent_debt])"
   ]
  },
  {
   "cell_type": "code",
   "execution_count": 28,
   "id": "bcaf35a1",
   "metadata": {},
   "outputs": [
    {
     "data": {
      "image/png": "[encoded data removed]",
      "text/plain": [
       "<Figure size 432x288 with 1 Axes>"
      ]
     },
     "metadata": {
      "needs_background": "light"
     },
     "output_type": "display_data"
    }
   ],
   "source": [
    "table_3 = data.groupby('total_income_category')['debt'].agg(['count', count_debt, percent_debt])\n",
    "x = []\n",
    "for i in range(0,125,25):\n",
    "    x.append(i)\n",
    "y = [int(i) for i in table_3['count_debt']]\n",
    "x1 = x\n",
    "y1 = [int(i) for i in table_3['count']]\n",
    "location_a = [0, 2]\n",
    "location_b = [25, 354]\n",
    "location_c = [50, 1353]\n",
    "location_d = [75, 21]\n",
    "location_e = [100, 2]\n",
    "plt.plot(x, y, label='Должники')\n",
    "plt.plot(x1, y1, label='Количество заещиков')\n",
    "plt.plot(location_a[0], location_a[1], 'or')\n",
    "plt.annotate('A', xy = location_a, xytext=(location_a[0]-1, location_a[1]+500))\n",
    "plt.plot(location_b[0], location_b[1], 'or')\n",
    "plt.annotate('B', xy = location_b, xytext=(location_b[0]-2, location_b[1]+500))\n",
    "plt.plot(location_c[0], location_c[1], 'or')\n",
    "plt.annotate('С', xy = location_c, xytext=(location_c[0], location_c[1]+500))\n",
    "plt.plot(location_d[0], location_d[1], 'or')\n",
    "plt.annotate('D', xy = location_d, xytext=(location_d[0], location_d[1]+600))\n",
    "plt.plot(location_e[0], location_e[1], 'or')\n",
    "plt.annotate('E', xy = location_e, xytext=(location_e[0], location_e[1]+500))\n",
    "plt.grid(axis='x')\n",
    "plt.grid(axis='y')\n",
    "plt.xlabel('Категории доходов заемщиков от \"А\" до \"Е\"')\n",
    "plt.ylabel('Выборка из количества заемщиков')\n",
    "plt.legend()\n",
    "plt.show()\n",
    "# Из графика видно, что количество должников от общего количества заемщиков слишком мало в категориях А, D и Е, поэтому \n",
    "# сложно делать какие-либо выводы по ним и сравнивать их с другими категориями в выборке."
   ]
  },
  {
   "cell_type": "markdown",
   "id": "bb030437",
   "metadata": {
    "deletable": false,
    "id": "e8593def"
   },
   "source": [
    "**Вывод:** Категории \"А\" и \"Е\" с самыми болишими и маленькими доходами соответственно, имеют наименьшую выборку, поэтому сложно делать выводы на основании полученных данных. Категория \"D\" - интервал дохода от 30 до 50 т.руб, имеет наименьший процент должников. Учитывая доходы, скорей всего это молодые люди, которым одобряют небольшие кредиты. Самые большие выборки имеют категории \"С\" и \"В\", уровень дохода варьируется от 50-200 т.руб и 200-1000 т.руб. В данных группах процент должников состовляет 7,1-8,5%. Сравнивать две смежные по доходам категории с большой выборкой относительно остальных, имеющих маленькую - нецелесообразно. Поэтому лучше проводить анализ между категориями \"С\" и \"В\". Исходя из данных по этим категориям видно, что с увеливением доходов процент должников падает. По полученным данным можно сказать, что **зависимости между уровнем дохода и возвратом кредита - имеется.**"
   ]
  },
  {
   "cell_type": "markdown",
   "id": "ff6a038b",
   "metadata": {
    "deletable": false,
    "editable": false,
    "id": "99ecbd1f"
   },
   "source": [
    "#### 3.4 Как разные цели кредита влияют на его возврат в срок?"
   ]
  },
  {
   "cell_type": "code",
   "execution_count": 29,
   "id": "cb029e1f",
   "metadata": {
    "deletable": false,
    "id": "2b687290"
   },
   "outputs": [
    {
     "data": {
      "text/html": [
       "<div>\n",
       "<style scoped>\n",
       "    .dataframe tbody tr th:only-of-type {\n",
       "        vertical-align: middle;\n",
       "    }\n",
       "\n",
       "    .dataframe tbody tr th {\n",
       "        vertical-align: top;\n",
       "    }\n",
       "\n",
       "    .dataframe thead th {\n",
       "        text-align: right;\n",
       "    }\n",
       "</style>\n",
       "<table border=\"1\" class=\"dataframe\">\n",
       "  <thead>\n",
       "    <tr style=\"text-align: right;\">\n",
       "      <th></th>\n",
       "      <th>count</th>\n",
       "      <th>count_debt</th>\n",
       "      <th>percent_debt</th>\n",
       "    </tr>\n",
       "    <tr>\n",
       "      <th>purpose_category</th>\n",
       "      <th></th>\n",
       "      <th></th>\n",
       "      <th></th>\n",
       "    </tr>\n",
       "  </thead>\n",
       "  <tbody>\n",
       "    <tr>\n",
       "      <th>операции с автомобилем</th>\n",
       "      <td>4279</td>\n",
       "      <td>400</td>\n",
       "      <td>9.3%</td>\n",
       "    </tr>\n",
       "    <tr>\n",
       "      <th>получение образования</th>\n",
       "      <td>3988</td>\n",
       "      <td>369</td>\n",
       "      <td>9.3%</td>\n",
       "    </tr>\n",
       "    <tr>\n",
       "      <th>проведение свадьбы</th>\n",
       "      <td>2313</td>\n",
       "      <td>183</td>\n",
       "      <td>7.9%</td>\n",
       "    </tr>\n",
       "    <tr>\n",
       "      <th>операции с недвижимостью</th>\n",
       "      <td>10751</td>\n",
       "      <td>780</td>\n",
       "      <td>7.3%</td>\n",
       "    </tr>\n",
       "  </tbody>\n",
       "</table>\n",
       "</div>"
      ],
      "text/plain": [
       "                          count count_debt percent_debt\n",
       "purpose_category                                       \n",
       "операции с автомобилем     4279        400         9.3%\n",
       "получение образования      3988        369         9.3%\n",
       "проведение свадьбы         2313        183         7.9%\n",
       "операции с недвижимостью  10751        780         7.3%"
      ]
     },
     "execution_count": 29,
     "metadata": {},
     "output_type": "execute_result"
    }
   ],
   "source": [
    "# Группируем по категориям кредитов, сортируем в порядке убывания задолжников\n",
    "data.groupby('purpose_category')['debt'].agg(['count', count_debt, percent_debt]).sort_values('percent_debt', ascending=False)"
   ]
  },
  {
   "cell_type": "code",
   "execution_count": 30,
   "id": "ce84b00a",
   "metadata": {},
   "outputs": [
    {
     "data": {
      "image/png": "[encoded data removed]",
      "text/plain": [
       "<Figure size 432x288 with 1 Axes>"
      ]
     },
     "metadata": {
      "needs_background": "light"
     },
     "output_type": "display_data"
    }
   ],
   "source": [
    "table_4 = data.groupby('purpose_category')['debt'].agg(['count', count_debt, percent_debt]).sort_values('percent_debt', ascending=False)\n",
    "\n",
    "value = [float(i[:-1]) for i in table_4['percent_debt']]\n",
    "names = ['авто','образование','свадьба','недвижимость']\n",
    "\n",
    "# Строим столбчатую диаграмму (зависимость между количеством задолжников в процентах от семейного статуса):\n",
    "plt.bar(names, height = value, width=0.3)\n",
    "plt.show()"
   ]
  },
  {
   "cell_type": "markdown",
   "id": "c7043044",
   "metadata": {
    "deletable": false,
    "id": "b4bb2ce6"
   },
   "source": [
    "**Вывод:** Первое место задолжников делят между собой группы людей с кредитами на автомобиль и образование. Второе место задолжников - это люди, которые берут кредит на проведение свадьбы. Самые ответвенные клиенты те, кто взял кредит на недвижимость. "
   ]
  },
  {
   "cell_type": "markdown",
   "id": "a8bd33df",
   "metadata": {
    "deletable": false,
    "editable": false,
    "id": "09c3ac4c"
   },
   "source": [
    "#### 3.5 Приведите возможные причины появления пропусков в исходных данных."
   ]
  },
  {
   "cell_type": "markdown",
   "id": "249099dc",
   "metadata": {
    "deletable": false,
    "id": "9da2ceda"
   },
   "source": [
    "*Ответ:* В банке не оформят кредит не взяв у заемщика определенные данные. Пропуска в данных скорей всего связаны с человеческим фактором - ручное заполнение. Так же при импорте и экспорте, сохранении файлов мог менятся формат или теряться данные, что в последвии привело к пропускам."
   ]
  },
  {
   "cell_type": "markdown",
   "id": "290745c7",
   "metadata": {
    "deletable": false,
    "editable": false,
    "id": "7b0487d6"
   },
   "source": [
    "#### 3.6 Объясните, почему заполнить пропуски медианным значением — лучшее решение для количественных переменных."
   ]
  },
  {
   "cell_type": "markdown",
   "id": "3ceae956",
   "metadata": {
    "deletable": false,
    "id": "7ecf2b8e"
   },
   "source": [
    "*Ответ:* Количественные переменные - могут принимать любые значения из диапазона. Отсортировывая данные в порядке возрастания или убывания значений, мы не можем говорить о плавных переходах, потому что существуют дискретные значения, которые лежат в диапазоне, но могут сильно отличаться от других. Медианное значение как раз игнорирует такие величины, чего не делает среднее арефметическое."
   ]
  },
  {
   "cell_type": "markdown",
   "id": "1ed0e077",
   "metadata": {
    "deletable": false,
    "editable": false,
    "id": "6db5255a"
   },
   "source": [
    "### Шаг 4: общий вывод."
   ]
  },
  {
   "cell_type": "markdown",
   "id": "5e53afbf",
   "metadata": {
    "deletable": false,
    "id": "bad65432"
   },
   "source": [
    "**1. Исследование зависимости между количеством детей и возвратом кредита в срок.**"
   ]
  },
  {
   "cell_type": "markdown",
   "id": "23ccf366",
   "metadata": {},
   "source": [
    "Исходя из данных, полученных в резутате исследования, можно наблюдать небольшую закономерность: категория, имеющая наименьший процент задолжников, - это люди без детей. С увеличением количества детей в семьях процент задолжников поднимается. Наивысший процент по задолжникам показала группа с четыремя детьми. Так же следует сказать о группе семей, имеющих пять детей. Данную группу лучше не использовать для оценки результатов, т.к. выборка очень мала. **Вывод: с увеличением количества детей - количество задолжников растет.**"
   ]
  },
  {
   "cell_type": "markdown",
   "id": "fd665351",
   "metadata": {},
   "source": [
    "**2. Исследование зависимости между семейным положением и возвратом кредита в срок.**"
   ]
  },
  {
   "cell_type": "markdown",
   "id": "f98154a1",
   "metadata": {},
   "source": [
    "Проанализировав данные, полученные при исследование этой зависимости, можно выделить три основные группы:"
   ]
  },
  {
   "cell_type": "markdown",
   "id": "6c3f9635",
   "metadata": {},
   "source": [
    "**2.1.** К первой группе относятся задолжники с семейным статусом: \"гражданский брак\" и \"Не женат / не замужем\". В данных категориях наивысший процент задолжников. Есть предположение, что основная масса данной категории это молодые люди, которые, как правило имеют маленький жизненный опыт и являются более безответсвенными по сравнению с другими группами."
   ]
  },
  {
   "cell_type": "markdown",
   "id": "ca425888",
   "metadata": {},
   "source": [
    "**2.2.** Ко второй группе относятся задолжники с семейным статусом: \"женат / замужем\" и \"в разводе\". Данные категории имеют средний процент задолжников относительно других категорий. Скорей всего это группа людей среднего возраста, которые более ответсвенно подходят к различным вещам."
   ]
  },
  {
   "cell_type": "markdown",
   "id": "21d576f0",
   "metadata": {},
   "source": [
    "**2.3.** К третьей группе относятся задолжники с семейным статусом: \"вдовец / вдова\". Данная категория имеет наименьший процент задолжников. С большой точностью можно сказать, что это категория людей пожилого возраста, которая является еще более пунктуальной, нежели остальные категории."
   ]
  },
  {
   "cell_type": "markdown",
   "id": "3d29d58d",
   "metadata": {},
   "source": [
    "Анализируя данные группы, можно сделать выврод, что **семейное положение, определенных групп, влияет на возврат кредита в срок.**"
   ]
  },
  {
   "cell_type": "markdown",
   "id": "78566fad",
   "metadata": {},
   "source": [
    "**3. Исследование зависимости между уровнем дохода и возвратом кредита в срок.**"
   ]
  },
  {
   "cell_type": "markdown",
   "id": "d11f3375",
   "metadata": {},
   "source": [
    "Для удолбства работы с данными в этом разделе было принято разделить категории людей по уровню дохода на пять групп:"
   ]
  },
  {
   "cell_type": "markdown",
   "id": "b330458a",
   "metadata": {},
   "source": [
    "Категория \"A\" - доход свыше 1 млн.руб."
   ]
  },
  {
   "cell_type": "markdown",
   "id": "a4044353",
   "metadata": {},
   "source": [
    "Категория \"B\" - доход от 200 тыс.руб. до 1 млн.руб."
   ]
  },
  {
   "cell_type": "markdown",
   "id": "90e0dc0a",
   "metadata": {},
   "source": [
    "Категория \"C\" - доход от 50 тыс.руб. до 200 тыс.руб."
   ]
  },
  {
   "cell_type": "markdown",
   "id": "4e31bc9a",
   "metadata": {},
   "source": [
    "Категория \"D\" - доход от 30 тыс.руб. до 50 тыс.руб."
   ]
  },
  {
   "cell_type": "markdown",
   "id": "52fd559d",
   "metadata": {},
   "source": [
    "Категория \"E\" - доход до 30 тыс.руб."
   ]
  },
  {
   "cell_type": "markdown",
   "id": "079c8838",
   "metadata": {},
   "source": [
    "Работая с данными в этом разделе, возникла проблема выборки из малого количества, которая влечет за собой неточность вывода относительно категорий с хорошей выборкой. В группах категорий A, D и E выборка - **очень мала**, в связи с этим данные не целесообразно учитывать. Поэтому сравнение проводилось между группами с большой выборкой, а именно B и С. Рассматривая данные группы, можно сделать тривиальный вывод о том, что **с увеличением доходов заемщиков, количество задолжников - падает.**"
   ]
  },
  {
   "cell_type": "markdown",
   "id": "cee29fb7",
   "metadata": {},
   "source": [
    "**4. Исследование о том, как разные цели кредита влияют на его возврат в срок.**"
   ]
  },
  {
   "cell_type": "markdown",
   "id": "2b684bb9",
   "metadata": {},
   "source": [
    "Всех заемщиков можно раздилить на четыре основные группы по целям взятия кредита:"
   ]
  },
  {
   "cell_type": "markdown",
   "id": "118c04a9",
   "metadata": {},
   "source": [
    "**4.1.** Заемщики, взявшие кредит на: **операции с автомобилем**. Процент должников состовляет: 9.3%"
   ]
  },
  {
   "cell_type": "markdown",
   "id": "e2a0776d",
   "metadata": {},
   "source": [
    "**4.2.** Заемщики, взявшие кредит на: **получение образования**. Процент должников состовляет: 9.3%"
   ]
  },
  {
   "cell_type": "markdown",
   "id": "57d32a74",
   "metadata": {},
   "source": [
    "**4.3.** Заемщики, взявшие кредит на: **проведение свадьбы**. Процент должников состовляет: 7.9%"
   ]
  },
  {
   "cell_type": "markdown",
   "id": "0e23f893",
   "metadata": {},
   "source": [
    "**4.4.** Заемщики, взявшие кредит на: **операции с недвижимостью**. Процент должников состовляет: 7.3%"
   ]
  },
  {
   "cell_type": "markdown",
   "id": "50537241",
   "metadata": {},
   "source": [
    "Сухая аналитика, выборка во всех группах достаточно большая, поэтому можно смело говорить, что первое место по должникам делят группы взявшие кредит на транспортное средство и получение образования. Скорей всего, большая часть лудей этих групп - молодые люди. Лучше вопрос обстоит с группами людей, взявших кредит на проведение свадьбы и операциями с недвижимостью. Данные группы показывают лучшие показатели по количеству должников - их меньше всего. Вывод простой, **цели кредита влияют на его возврат в срок.** "
   ]
  },
  {
   "cell_type": "markdown",
   "id": "88ad430a",
   "metadata": {},
   "source": [
    "**5. Возможные причины появления пропусков в исходных данных**"
   ]
  },
  {
   "cell_type": "markdown",
   "id": "cf5098ca",
   "metadata": {},
   "source": [
    "Среди основных причин появления пропусков в исходных данных можно выделить две главных: **1. Человеческий фактор.** Люди слишком часто допускают ошибки при заполнении различного рода форм, это не является ни для кого загадкой. **2. Обработка и выгрузка данных.** Информация имеет свойство терятся, когда различного рода данные экспортируют и импортируют в другие среды разработки, а потом сохраняют, что впоследсвии и влечет за собой потерю."
   ]
  },
  {
   "cell_type": "markdown",
   "id": "c3c0cf96",
   "metadata": {},
   "source": [
    "**6. Заполнение пропусков медианным значением — лучшее решение для количественных переменных.**"
   ]
  },
  {
   "cell_type": "markdown",
   "id": "447f9ff0",
   "metadata": {},
   "source": [
    "Действительно так, использовать среднее арифметическое значение - не всегда лучший вариант, при работе с количественными переменными. Это связано с тем, что в данных могут присутствовать аномальные значения, которые будут сильно влиять на конечный результат. Медиана - решение этой проблемы, она игнорирует эти экстремумы и аномальные значения."
   ]
  }
 ],
 "metadata": {
  "ExecuteTimeLog": [
   {
    "duration": 625,
    "start_time": "2024-02-13T15:53:28.261Z"
   },
   {
    "duration": 19,
    "start_time": "2024-02-13T15:53:39.900Z"
   },
   {
    "duration": 13,
    "start_time": "2024-02-13T15:53:45.836Z"
   },
   {
    "duration": 8,
    "start_time": "2024-02-13T15:53:49.112Z"
   },
   {
    "duration": 27,
    "start_time": "2024-02-13T15:53:56.229Z"
   },
   {
    "duration": 3,
    "start_time": "2024-02-13T15:53:58.498Z"
   },
   {
    "duration": 6,
    "start_time": "2024-02-13T15:54:01.503Z"
   },
   {
    "duration": 4,
    "start_time": "2024-02-13T15:54:08.842Z"
   },
   {
    "duration": 5,
    "start_time": "2024-02-13T15:54:09.814Z"
   },
   {
    "duration": 4,
    "start_time": "2024-02-13T15:54:11.302Z"
   },
   {
    "duration": 26,
    "start_time": "2024-02-13T15:54:13.076Z"
   },
   {
    "duration": 8,
    "start_time": "2024-02-13T15:54:14.014Z"
   },
   {
    "duration": 3,
    "start_time": "2024-02-13T15:54:15.687Z"
   },
   {
    "duration": 10,
    "start_time": "2024-02-13T15:54:16.449Z"
   },
   {
    "duration": 17,
    "start_time": "2024-02-13T15:54:16.780Z"
   },
   {
    "duration": 14,
    "start_time": "2024-02-13T15:54:16.950Z"
   },
   {
    "duration": 2,
    "start_time": "2024-02-13T15:54:18.901Z"
   },
   {
    "duration": 9,
    "start_time": "2024-02-13T15:54:19.794Z"
   },
   {
    "duration": 4,
    "start_time": "2024-02-13T15:54:24.640Z"
   },
   {
    "duration": 2,
    "start_time": "2024-02-13T15:54:29.551Z"
   },
   {
    "duration": 7,
    "start_time": "2024-02-13T15:54:30.432Z"
   },
   {
    "duration": 5,
    "start_time": "2024-02-13T15:57:34.778Z"
   },
   {
    "duration": 20,
    "start_time": "2024-02-13T15:58:36.582Z"
   },
   {
    "duration": 6,
    "start_time": "2024-02-13T15:58:54.307Z"
   },
   {
    "duration": 10,
    "start_time": "2024-02-13T16:01:56.887Z"
   },
   {
    "duration": 8,
    "start_time": "2024-02-13T16:03:28.566Z"
   },
   {
    "duration": 8,
    "start_time": "2024-02-13T16:08:07.602Z"
   },
   {
    "duration": 9,
    "start_time": "2024-02-13T16:08:42.014Z"
   },
   {
    "duration": 78,
    "start_time": "2024-02-13T16:21:10.761Z"
   },
   {
    "duration": 121,
    "start_time": "2024-02-13T16:21:16.349Z"
   },
   {
    "duration": 106,
    "start_time": "2024-02-13T16:21:41.443Z"
   },
   {
    "duration": 12,
    "start_time": "2024-02-13T16:23:48.876Z"
   },
   {
    "duration": 66,
    "start_time": "2024-02-13T16:24:25.268Z"
   },
   {
    "duration": 15,
    "start_time": "2024-02-13T16:24:38.615Z"
   },
   {
    "duration": 11,
    "start_time": "2024-02-13T16:24:46.328Z"
   },
   {
    "duration": 9,
    "start_time": "2024-02-13T16:26:35.727Z"
   },
   {
    "duration": 11,
    "start_time": "2024-02-13T16:31:00.143Z"
   },
   {
    "duration": 10,
    "start_time": "2024-02-13T16:32:02.930Z"
   },
   {
    "duration": 10,
    "start_time": "2024-02-13T16:33:49.953Z"
   },
   {
    "duration": 12,
    "start_time": "2024-02-13T16:34:11.731Z"
   },
   {
    "duration": 11,
    "start_time": "2024-02-13T16:34:41.869Z"
   },
   {
    "duration": 11,
    "start_time": "2024-02-13T16:36:04.520Z"
   },
   {
    "duration": 10,
    "start_time": "2024-02-13T16:36:26.159Z"
   },
   {
    "duration": 11,
    "start_time": "2024-02-13T16:48:11.737Z"
   },
   {
    "duration": 13,
    "start_time": "2024-02-13T16:50:27.156Z"
   },
   {
    "duration": 11,
    "start_time": "2024-02-13T16:52:01.877Z"
   },
   {
    "duration": 11,
    "start_time": "2024-02-13T16:55:02.114Z"
   },
   {
    "duration": 11,
    "start_time": "2024-02-13T16:56:04.212Z"
   },
   {
    "duration": 8,
    "start_time": "2024-02-13T17:36:30.885Z"
   },
   {
    "duration": 11,
    "start_time": "2024-02-13T17:37:49.261Z"
   },
   {
    "duration": 12,
    "start_time": "2024-02-13T17:38:26.492Z"
   },
   {
    "duration": 14,
    "start_time": "2024-02-13T17:39:00.575Z"
   },
   {
    "duration": 12,
    "start_time": "2024-02-13T17:39:47.274Z"
   },
   {
    "duration": 11,
    "start_time": "2024-02-13T17:39:52.080Z"
   },
   {
    "duration": 11,
    "start_time": "2024-02-13T17:40:04.996Z"
   },
   {
    "duration": 16,
    "start_time": "2024-02-13T17:40:10.029Z"
   },
   {
    "duration": 12,
    "start_time": "2024-02-13T17:40:27.769Z"
   },
   {
    "duration": 14,
    "start_time": "2024-02-13T17:40:34.608Z"
   },
   {
    "duration": 14,
    "start_time": "2024-02-13T17:44:06.469Z"
   },
   {
    "duration": 11,
    "start_time": "2024-02-13T18:23:34.633Z"
   },
   {
    "duration": 11,
    "start_time": "2024-02-13T18:25:38.369Z"
   },
   {
    "duration": 14,
    "start_time": "2024-02-13T18:26:49.801Z"
   },
   {
    "duration": 11,
    "start_time": "2024-02-13T18:26:55.502Z"
   },
   {
    "duration": 12,
    "start_time": "2024-02-13T18:27:12.729Z"
   },
   {
    "duration": 12,
    "start_time": "2024-02-13T18:28:21.425Z"
   },
   {
    "duration": 11,
    "start_time": "2024-02-13T18:28:26.631Z"
   },
   {
    "duration": 11,
    "start_time": "2024-02-13T18:28:40.764Z"
   },
   {
    "duration": 12,
    "start_time": "2024-02-13T18:28:46.793Z"
   },
   {
    "duration": 11,
    "start_time": "2024-02-13T18:29:00.944Z"
   },
   {
    "duration": 11,
    "start_time": "2024-02-13T18:29:27.449Z"
   },
   {
    "duration": 12,
    "start_time": "2024-02-13T18:30:48.539Z"
   },
   {
    "duration": 12,
    "start_time": "2024-02-13T18:31:16.967Z"
   },
   {
    "duration": 11,
    "start_time": "2024-02-13T18:31:32.203Z"
   },
   {
    "duration": 11,
    "start_time": "2024-02-13T18:36:32.728Z"
   },
   {
    "duration": 11,
    "start_time": "2024-02-13T19:02:21.492Z"
   },
   {
    "duration": 12,
    "start_time": "2024-02-13T19:02:44.999Z"
   },
   {
    "duration": 11,
    "start_time": "2024-02-13T19:13:11.191Z"
   },
   {
    "duration": 12,
    "start_time": "2024-02-13T19:13:27.064Z"
   },
   {
    "duration": 62,
    "start_time": "2024-02-13T20:23:33.954Z"
   },
   {
    "duration": 507,
    "start_time": "2024-02-13T21:16:40.209Z"
   },
   {
    "duration": 22,
    "start_time": "2024-02-13T21:16:40.718Z"
   },
   {
    "duration": 35,
    "start_time": "2024-02-13T21:16:40.741Z"
   },
   {
    "duration": 16,
    "start_time": "2024-02-13T21:16:40.778Z"
   },
   {
    "duration": 35,
    "start_time": "2024-02-13T21:16:40.796Z"
   },
   {
    "duration": 2,
    "start_time": "2024-02-13T21:16:40.833Z"
   },
   {
    "duration": 29,
    "start_time": "2024-02-13T21:16:40.837Z"
   },
   {
    "duration": 22,
    "start_time": "2024-02-13T21:16:40.868Z"
   },
   {
    "duration": 12,
    "start_time": "2024-02-13T21:16:40.891Z"
   },
   {
    "duration": 4,
    "start_time": "2024-02-13T21:16:40.906Z"
   },
   {
    "duration": 43,
    "start_time": "2024-02-13T21:16:40.912Z"
   },
   {
    "duration": 19,
    "start_time": "2024-02-13T21:16:40.957Z"
   },
   {
    "duration": 7,
    "start_time": "2024-02-13T21:16:40.977Z"
   },
   {
    "duration": 19,
    "start_time": "2024-02-13T21:16:40.986Z"
   },
   {
    "duration": 40,
    "start_time": "2024-02-13T21:16:41.006Z"
   },
   {
    "duration": 18,
    "start_time": "2024-02-13T21:16:41.048Z"
   },
   {
    "duration": 4,
    "start_time": "2024-02-13T21:16:41.068Z"
   },
   {
    "duration": 12,
    "start_time": "2024-02-13T21:16:41.074Z"
   },
   {
    "duration": 9,
    "start_time": "2024-02-13T21:16:41.087Z"
   },
   {
    "duration": 23,
    "start_time": "2024-02-13T21:16:41.098Z"
   },
   {
    "duration": 17,
    "start_time": "2024-02-13T21:16:41.122Z"
   },
   {
    "duration": 15,
    "start_time": "2024-02-13T21:16:41.141Z"
   },
   {
    "duration": 22,
    "start_time": "2024-02-13T21:16:41.158Z"
   },
   {
    "duration": 13,
    "start_time": "2024-02-13T21:16:41.182Z"
   },
   {
    "duration": 32,
    "start_time": "2024-02-13T21:16:41.197Z"
   },
   {
    "duration": 928,
    "start_time": "2024-02-14T16:58:02.279Z"
   },
   {
    "duration": 19,
    "start_time": "2024-02-14T16:58:04.177Z"
   },
   {
    "duration": 16,
    "start_time": "2024-02-14T16:58:07.655Z"
   },
   {
    "duration": 10,
    "start_time": "2024-02-14T16:58:09.168Z"
   },
   {
    "duration": 37,
    "start_time": "2024-02-14T16:58:09.480Z"
   },
   {
    "duration": 3,
    "start_time": "2024-02-14T16:58:09.969Z"
   },
   {
    "duration": 8,
    "start_time": "2024-02-14T16:58:10.272Z"
   },
   {
    "duration": 5,
    "start_time": "2024-02-14T16:58:10.816Z"
   },
   {
    "duration": 7,
    "start_time": "2024-02-14T16:58:11.389Z"
   },
   {
    "duration": 4,
    "start_time": "2024-02-14T16:58:11.714Z"
   },
   {
    "duration": 36,
    "start_time": "2024-02-14T16:58:12.433Z"
   },
   {
    "duration": 11,
    "start_time": "2024-02-14T16:58:12.754Z"
   },
   {
    "duration": 3,
    "start_time": "2024-02-14T16:58:13.899Z"
   },
   {
    "duration": 14,
    "start_time": "2024-02-14T16:58:14.462Z"
   },
   {
    "duration": 20,
    "start_time": "2024-02-14T16:58:16.383Z"
   },
   {
    "duration": 17,
    "start_time": "2024-02-14T16:58:16.560Z"
   },
   {
    "duration": 3,
    "start_time": "2024-02-14T16:58:17.072Z"
   },
   {
    "duration": 11,
    "start_time": "2024-02-14T16:58:17.596Z"
   },
   {
    "duration": 6,
    "start_time": "2024-02-14T16:58:19.067Z"
   },
   {
    "duration": 3,
    "start_time": "2024-02-14T16:58:20.156Z"
   },
   {
    "duration": 9,
    "start_time": "2024-02-14T16:58:20.603Z"
   },
   {
    "duration": 14,
    "start_time": "2024-02-14T17:00:06.253Z"
   },
   {
    "duration": 130,
    "start_time": "2024-02-14T17:06:08.950Z"
   },
   {
    "duration": 1213,
    "start_time": "2024-02-14T17:09:41.331Z"
   },
   {
    "duration": 14,
    "start_time": "2024-02-14T17:09:52.408Z"
   },
   {
    "duration": 1122,
    "start_time": "2024-02-14T17:09:54.007Z"
   },
   {
    "duration": 104,
    "start_time": "2024-02-14T17:10:41.166Z"
   },
   {
    "duration": 115,
    "start_time": "2024-02-14T17:18:06.251Z"
   },
   {
    "duration": 86,
    "start_time": "2024-02-14T17:18:59.034Z"
   },
   {
    "duration": 165,
    "start_time": "2024-02-14T17:19:39.445Z"
   },
   {
    "duration": 115,
    "start_time": "2024-02-14T17:22:21.316Z"
   },
   {
    "duration": 136,
    "start_time": "2024-02-14T17:24:15.433Z"
   },
   {
    "duration": 97,
    "start_time": "2024-02-14T17:25:39.418Z"
   },
   {
    "duration": 116,
    "start_time": "2024-02-14T17:25:46.676Z"
   },
   {
    "duration": 91,
    "start_time": "2024-02-14T17:26:15.374Z"
   },
   {
    "duration": 1178,
    "start_time": "2024-02-14T17:26:41.587Z"
   },
   {
    "duration": 343,
    "start_time": "2024-02-14T17:27:06.311Z"
   },
   {
    "duration": 19,
    "start_time": "2024-02-14T17:28:04.445Z"
   },
   {
    "duration": 125,
    "start_time": "2024-02-14T17:29:09.388Z"
   },
   {
    "duration": 114,
    "start_time": "2024-02-14T17:29:28.264Z"
   },
   {
    "duration": 14,
    "start_time": "2024-02-14T17:29:47.744Z"
   },
   {
    "duration": 1202,
    "start_time": "2024-02-14T17:30:35.459Z"
   },
   {
    "duration": 128,
    "start_time": "2024-02-14T17:31:01.491Z"
   },
   {
    "duration": 116,
    "start_time": "2024-02-14T17:31:30.058Z"
   },
   {
    "duration": 96,
    "start_time": "2024-02-14T17:34:39.645Z"
   },
   {
    "duration": 95,
    "start_time": "2024-02-14T17:34:57.978Z"
   },
   {
    "duration": 109,
    "start_time": "2024-02-14T17:35:09.151Z"
   },
   {
    "duration": 94,
    "start_time": "2024-02-14T17:35:14.505Z"
   },
   {
    "duration": 134,
    "start_time": "2024-02-14T17:35:23.789Z"
   },
   {
    "duration": 119,
    "start_time": "2024-02-14T17:35:38.200Z"
   },
   {
    "duration": 16,
    "start_time": "2024-02-14T17:36:05.648Z"
   },
   {
    "duration": 15,
    "start_time": "2024-02-14T17:37:19.482Z"
   },
   {
    "duration": 188,
    "start_time": "2024-02-14T17:37:30.099Z"
   },
   {
    "duration": 94,
    "start_time": "2024-02-14T17:37:58.946Z"
   },
   {
    "duration": 142,
    "start_time": "2024-02-14T17:38:04.088Z"
   },
   {
    "duration": 115,
    "start_time": "2024-02-14T17:38:09.773Z"
   },
   {
    "duration": 124,
    "start_time": "2024-02-14T17:40:05.810Z"
   },
   {
    "duration": 121,
    "start_time": "2024-02-14T17:44:29.660Z"
   },
   {
    "duration": 115,
    "start_time": "2024-02-14T17:44:43.669Z"
   },
   {
    "duration": 114,
    "start_time": "2024-02-14T17:46:16.282Z"
   },
   {
    "duration": 121,
    "start_time": "2024-02-14T17:48:36.583Z"
   },
   {
    "duration": 192,
    "start_time": "2024-02-14T17:49:34.002Z"
   },
   {
    "duration": 120,
    "start_time": "2024-02-14T17:49:50.567Z"
   },
   {
    "duration": 117,
    "start_time": "2024-02-14T17:50:39.244Z"
   },
   {
    "duration": 121,
    "start_time": "2024-02-14T17:50:57.896Z"
   },
   {
    "duration": 129,
    "start_time": "2024-02-14T17:51:10.184Z"
   },
   {
    "duration": 121,
    "start_time": "2024-02-14T17:51:21.380Z"
   },
   {
    "duration": 199,
    "start_time": "2024-02-14T17:51:33.221Z"
   },
   {
    "duration": 118,
    "start_time": "2024-02-14T17:51:40.608Z"
   },
   {
    "duration": 118,
    "start_time": "2024-02-14T17:51:51.900Z"
   },
   {
    "duration": 111,
    "start_time": "2024-02-14T17:52:30.848Z"
   },
   {
    "duration": 117,
    "start_time": "2024-02-14T17:54:55.456Z"
   },
   {
    "duration": 114,
    "start_time": "2024-02-14T17:55:06.211Z"
   },
   {
    "duration": 115,
    "start_time": "2024-02-14T17:55:19.024Z"
   },
   {
    "duration": 113,
    "start_time": "2024-02-14T17:56:26.836Z"
   },
   {
    "duration": 122,
    "start_time": "2024-02-14T17:56:34.567Z"
   },
   {
    "duration": 111,
    "start_time": "2024-02-14T17:56:49.770Z"
   },
   {
    "duration": 17,
    "start_time": "2024-02-14T18:00:34.180Z"
   },
   {
    "duration": 20,
    "start_time": "2024-02-14T18:17:00.396Z"
   },
   {
    "duration": 16,
    "start_time": "2024-02-14T18:17:09.548Z"
   },
   {
    "duration": 138,
    "start_time": "2024-02-14T18:17:32.947Z"
   },
   {
    "duration": 144,
    "start_time": "2024-02-14T18:17:44.940Z"
   },
   {
    "duration": 129,
    "start_time": "2024-02-14T18:18:13.607Z"
   },
   {
    "duration": 211,
    "start_time": "2024-02-14T18:18:59.243Z"
   },
   {
    "duration": 119,
    "start_time": "2024-02-14T18:19:21.844Z"
   },
   {
    "duration": 135,
    "start_time": "2024-02-14T18:23:08.612Z"
   },
   {
    "duration": 270,
    "start_time": "2024-02-14T18:23:17.002Z"
   },
   {
    "duration": 153,
    "start_time": "2024-02-14T18:23:49.286Z"
   },
   {
    "duration": 159,
    "start_time": "2024-02-14T18:24:50.457Z"
   },
   {
    "duration": 141,
    "start_time": "2024-02-14T18:25:20.531Z"
   },
   {
    "duration": 147,
    "start_time": "2024-02-14T18:25:46.151Z"
   },
   {
    "duration": 154,
    "start_time": "2024-02-14T18:28:56.672Z"
   },
   {
    "duration": 142,
    "start_time": "2024-02-14T18:34:25.743Z"
   },
   {
    "duration": 163,
    "start_time": "2024-02-14T18:36:05.140Z"
   },
   {
    "duration": 156,
    "start_time": "2024-02-14T18:36:52.444Z"
   },
   {
    "duration": 142,
    "start_time": "2024-02-14T18:39:04.793Z"
   },
   {
    "duration": 212,
    "start_time": "2024-02-14T18:39:18.032Z"
   },
   {
    "duration": 130,
    "start_time": "2024-02-14T18:39:46.939Z"
   },
   {
    "duration": 133,
    "start_time": "2024-02-14T18:39:53.310Z"
   },
   {
    "duration": 136,
    "start_time": "2024-02-14T18:39:58.236Z"
   },
   {
    "duration": 144,
    "start_time": "2024-02-14T18:40:01.772Z"
   },
   {
    "duration": 140,
    "start_time": "2024-02-14T18:40:08.542Z"
   },
   {
    "duration": 174,
    "start_time": "2024-02-14T18:43:10.926Z"
   },
   {
    "duration": 163,
    "start_time": "2024-02-14T18:44:25.105Z"
   },
   {
    "duration": 196,
    "start_time": "2024-02-14T18:44:40.045Z"
   },
   {
    "duration": 173,
    "start_time": "2024-02-14T18:45:05.537Z"
   },
   {
    "duration": 186,
    "start_time": "2024-02-14T18:45:10.675Z"
   },
   {
    "duration": 283,
    "start_time": "2024-02-14T18:45:17.358Z"
   },
   {
    "duration": 169,
    "start_time": "2024-02-14T18:47:23.521Z"
   },
   {
    "duration": 238,
    "start_time": "2024-02-14T18:48:24.289Z"
   },
   {
    "duration": 178,
    "start_time": "2024-02-14T18:48:37.933Z"
   },
   {
    "duration": 164,
    "start_time": "2024-02-14T18:48:42.713Z"
   },
   {
    "duration": 184,
    "start_time": "2024-02-14T18:49:07.370Z"
   },
   {
    "duration": 189,
    "start_time": "2024-02-14T18:49:18.174Z"
   },
   {
    "duration": 164,
    "start_time": "2024-02-14T18:49:24.009Z"
   },
   {
    "duration": 162,
    "start_time": "2024-02-14T18:51:14.507Z"
   },
   {
    "duration": 171,
    "start_time": "2024-02-14T18:57:11.709Z"
   },
   {
    "duration": 210,
    "start_time": "2024-02-14T19:00:39.241Z"
   },
   {
    "duration": 255,
    "start_time": "2024-02-14T19:01:18.526Z"
   },
   {
    "duration": 167,
    "start_time": "2024-02-14T19:01:31.695Z"
   },
   {
    "duration": 171,
    "start_time": "2024-02-14T19:01:36.649Z"
   },
   {
    "duration": 197,
    "start_time": "2024-02-14T19:01:42.578Z"
   },
   {
    "duration": 177,
    "start_time": "2024-02-14T19:01:47.783Z"
   },
   {
    "duration": 172,
    "start_time": "2024-02-14T19:01:56.679Z"
   },
   {
    "duration": 185,
    "start_time": "2024-02-14T19:02:10.366Z"
   },
   {
    "duration": 185,
    "start_time": "2024-02-14T19:02:17.499Z"
   },
   {
    "duration": 175,
    "start_time": "2024-02-14T19:02:22.100Z"
   },
   {
    "duration": 179,
    "start_time": "2024-02-14T19:02:58.775Z"
   },
   {
    "duration": 199,
    "start_time": "2024-02-14T19:03:15.286Z"
   },
   {
    "duration": 276,
    "start_time": "2024-02-14T19:03:35.309Z"
   },
   {
    "duration": 193,
    "start_time": "2024-02-14T19:03:45.262Z"
   },
   {
    "duration": 185,
    "start_time": "2024-02-14T19:09:05.614Z"
   },
   {
    "duration": 166,
    "start_time": "2024-02-14T19:09:24.611Z"
   },
   {
    "duration": 193,
    "start_time": "2024-02-14T19:09:30.233Z"
   },
   {
    "duration": 179,
    "start_time": "2024-02-14T19:10:08.253Z"
   },
   {
    "duration": 179,
    "start_time": "2024-02-14T19:10:20.687Z"
   },
   {
    "duration": 163,
    "start_time": "2024-02-14T19:15:17.040Z"
   },
   {
    "duration": 187,
    "start_time": "2024-02-14T19:15:59.130Z"
   },
   {
    "duration": 102,
    "start_time": "2024-02-14T19:16:30.299Z"
   },
   {
    "duration": 104,
    "start_time": "2024-02-14T19:16:36.382Z"
   },
   {
    "duration": 185,
    "start_time": "2024-02-14T19:16:47.987Z"
   },
   {
    "duration": 185,
    "start_time": "2024-02-14T19:17:29.271Z"
   },
   {
    "duration": 282,
    "start_time": "2024-02-14T19:18:12.884Z"
   },
   {
    "duration": 216,
    "start_time": "2024-02-14T19:19:03.251Z"
   },
   {
    "duration": 243,
    "start_time": "2024-02-14T19:19:30.181Z"
   },
   {
    "duration": 220,
    "start_time": "2024-02-14T19:20:05.970Z"
   },
   {
    "duration": 106,
    "start_time": "2024-02-14T19:21:52.295Z"
   },
   {
    "duration": 99,
    "start_time": "2024-02-14T19:22:11.804Z"
   },
   {
    "duration": 110,
    "start_time": "2024-02-14T19:23:00.763Z"
   },
   {
    "duration": 228,
    "start_time": "2024-02-14T19:24:44.785Z"
   },
   {
    "duration": 92,
    "start_time": "2024-02-14T19:44:26.604Z"
   },
   {
    "duration": 123,
    "start_time": "2024-02-14T19:55:13.292Z"
   },
   {
    "duration": 104,
    "start_time": "2024-02-14T21:50:01.103Z"
   },
   {
    "duration": 546,
    "start_time": "2024-02-15T10:44:50.468Z"
   },
   {
    "duration": 758,
    "start_time": "2024-02-15T10:44:55.296Z"
   },
   {
    "duration": 19,
    "start_time": "2024-02-15T10:44:56.056Z"
   },
   {
    "duration": 17,
    "start_time": "2024-02-15T10:44:56.077Z"
   },
   {
    "duration": 12,
    "start_time": "2024-02-15T10:44:56.097Z"
   },
   {
    "duration": 52,
    "start_time": "2024-02-15T10:44:56.111Z"
   },
   {
    "duration": 4,
    "start_time": "2024-02-15T10:44:56.165Z"
   },
   {
    "duration": 27,
    "start_time": "2024-02-15T10:44:56.171Z"
   },
   {
    "duration": 12,
    "start_time": "2024-02-15T10:44:56.199Z"
   },
   {
    "duration": 14,
    "start_time": "2024-02-15T10:44:56.213Z"
   },
   {
    "duration": 45,
    "start_time": "2024-02-15T10:44:56.230Z"
   },
   {
    "duration": 57,
    "start_time": "2024-02-15T10:44:56.276Z"
   },
   {
    "duration": 12,
    "start_time": "2024-02-15T10:44:56.334Z"
   },
   {
    "duration": 17,
    "start_time": "2024-02-15T10:44:56.348Z"
   },
   {
    "duration": 26,
    "start_time": "2024-02-15T10:44:56.366Z"
   },
   {
    "duration": 27,
    "start_time": "2024-02-15T10:44:56.394Z"
   },
   {
    "duration": 18,
    "start_time": "2024-02-15T10:44:56.423Z"
   },
   {
    "duration": 5,
    "start_time": "2024-02-15T10:44:56.443Z"
   },
   {
    "duration": 22,
    "start_time": "2024-02-15T10:44:56.449Z"
   },
   {
    "duration": 19,
    "start_time": "2024-02-15T10:44:56.473Z"
   },
   {
    "duration": 4,
    "start_time": "2024-02-15T10:44:56.494Z"
   },
   {
    "duration": 15,
    "start_time": "2024-02-15T10:44:56.500Z"
   },
   {
    "duration": 20,
    "start_time": "2024-02-15T10:44:56.517Z"
   },
   {
    "duration": 135,
    "start_time": "2024-02-15T10:44:56.539Z"
   },
   {
    "duration": 144,
    "start_time": "2024-02-15T10:44:56.676Z"
   },
   {
    "duration": 18,
    "start_time": "2024-02-15T10:44:56.821Z"
   },
   {
    "duration": 210,
    "start_time": "2024-02-15T10:44:56.841Z"
   },
   {
    "duration": 14,
    "start_time": "2024-02-15T10:44:57.052Z"
   },
   {
    "duration": 237,
    "start_time": "2024-02-15T10:44:57.070Z"
   },
   {
    "duration": 16,
    "start_time": "2024-02-15T10:44:57.308Z"
   },
   {
    "duration": 174,
    "start_time": "2024-02-15T10:44:57.325Z"
   },
   {
    "duration": 48,
    "start_time": "2024-02-20T08:24:34.156Z"
   },
   {
    "duration": 224,
    "start_time": "2024-02-20T08:58:08.845Z"
   },
   {
    "duration": 707,
    "start_time": "2024-02-20T08:58:16.137Z"
   },
   {
    "duration": 21,
    "start_time": "2024-02-20T08:58:16.846Z"
   },
   {
    "duration": 26,
    "start_time": "2024-02-20T08:58:16.868Z"
   },
   {
    "duration": 32,
    "start_time": "2024-02-20T08:58:16.896Z"
   },
   {
    "duration": 55,
    "start_time": "2024-02-20T08:58:16.929Z"
   },
   {
    "duration": 34,
    "start_time": "2024-02-20T08:58:16.986Z"
   },
   {
    "duration": 19,
    "start_time": "2024-02-20T08:58:17.022Z"
   },
   {
    "duration": 10,
    "start_time": "2024-02-20T08:58:17.042Z"
   },
   {
    "duration": 43,
    "start_time": "2024-02-20T08:58:17.054Z"
   },
   {
    "duration": 14,
    "start_time": "2024-02-20T08:58:17.100Z"
   },
   {
    "duration": 67,
    "start_time": "2024-02-20T08:58:17.115Z"
   },
   {
    "duration": 13,
    "start_time": "2024-02-20T08:58:17.183Z"
   },
   {
    "duration": 22,
    "start_time": "2024-02-20T08:58:17.198Z"
   },
   {
    "duration": 15,
    "start_time": "2024-02-20T08:58:17.222Z"
   },
   {
    "duration": 30,
    "start_time": "2024-02-20T08:58:17.239Z"
   },
   {
    "duration": 18,
    "start_time": "2024-02-20T08:58:17.271Z"
   },
   {
    "duration": 6,
    "start_time": "2024-02-20T08:58:17.291Z"
   },
   {
    "duration": 23,
    "start_time": "2024-02-20T08:58:17.299Z"
   },
   {
    "duration": 23,
    "start_time": "2024-02-20T08:58:17.324Z"
   },
   {
    "duration": 13,
    "start_time": "2024-02-20T08:58:17.349Z"
   },
   {
    "duration": 16,
    "start_time": "2024-02-20T08:58:17.363Z"
   },
   {
    "duration": 34,
    "start_time": "2024-02-20T08:58:17.380Z"
   },
   {
    "duration": 137,
    "start_time": "2024-02-20T08:58:17.415Z"
   },
   {
    "duration": 145,
    "start_time": "2024-02-20T08:58:17.554Z"
   },
   {
    "duration": 18,
    "start_time": "2024-02-20T08:58:17.701Z"
   },
   {
    "duration": 129,
    "start_time": "2024-02-20T08:58:17.721Z"
   },
   {
    "duration": 14,
    "start_time": "2024-02-20T08:58:17.852Z"
   },
   {
    "duration": 240,
    "start_time": "2024-02-20T08:58:17.869Z"
   },
   {
    "duration": 16,
    "start_time": "2024-02-20T08:58:18.111Z"
   },
   {
    "duration": 166,
    "start_time": "2024-02-20T08:58:18.129Z"
   }
  ],
  "colab": {
   "name": "dpp_template_part2.ipynb",
   "provenance": []
  },
  "kernelspec": {
   "display_name": "Python 3 (ipykernel)",
   "language": "python",
   "name": "python3"
  },
  "language_info": {
   "codemirror_mode": {
    "name": "ipython",
    "version": 3
   },
   "file_extension": ".py",
   "mimetype": "text/x-python",
   "name": "python",
   "nbconvert_exporter": "python",
   "pygments_lexer": "ipython3",
   "version": "3.11.7"
  },
  "toc": {
   "base_numbering": 1,
   "nav_menu": {},
   "number_sections": true,
   "sideBar": true,
   "skip_h1_title": true,
   "title_cell": "Table of Contents",
   "title_sidebar": "Contents",
   "toc_cell": false,
   "toc_position": {},
   "toc_section_display": true,
   "toc_window_display": false
  }
 },
 "nbformat": 4,
 "nbformat_minor": 5
}

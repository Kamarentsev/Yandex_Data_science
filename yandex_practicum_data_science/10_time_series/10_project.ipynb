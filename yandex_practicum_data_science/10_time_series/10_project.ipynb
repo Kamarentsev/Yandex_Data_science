{
 "cells": [
  {
   "cell_type": "markdown",
   "metadata": {
    "toc": true
   },
   "source": [
    "<h1>Содержание<span class=\"tocSkip\"></span></h1>\n",
    "<div class=\"toc\"><ul class=\"toc-item\"><li><span><a href=\"#Подготовка\" data-toc-modified-id=\"Подготовка-1\"><span class=\"toc-item-num\">1&nbsp;&nbsp;</span>Подготовка</a></span><ul class=\"toc-item\"><li><span><a href=\"#Установка-и-импортирование-библиотек\" data-toc-modified-id=\"Установка-и-импортирование-библиотек-1.1\"><span class=\"toc-item-num\">1.1&nbsp;&nbsp;</span>Установка и импортирование библиотек</a></span></li><li><span><a href=\"#Выгрузка-и-первичный-осмотр-данных\" data-toc-modified-id=\"Выгрузка-и-первичный-осмотр-данных-1.2\"><span class=\"toc-item-num\">1.2&nbsp;&nbsp;</span>Выгрузка и первичный осмотр данных</a></span></li></ul></li><li><span><a href=\"#Анализ\" data-toc-modified-id=\"Анализ-2\"><span class=\"toc-item-num\">2&nbsp;&nbsp;</span>Анализ</a></span></li><li><span><a href=\"#Обучение\" data-toc-modified-id=\"Обучение-3\"><span class=\"toc-item-num\">3&nbsp;&nbsp;</span>Обучение</a></span><ul class=\"toc-item\"><li><span><a href=\"#Создаем-признаки-для-прогнозирования\" data-toc-modified-id=\"Создаем-признаки-для-прогнозирования-3.1\"><span class=\"toc-item-num\">3.1&nbsp;&nbsp;</span>Создаем признаки для прогнозирования</a></span></li><li><span><a href=\"#Делим-данные-на-выборки\" data-toc-modified-id=\"Делим-данные-на-выборки-3.2\"><span class=\"toc-item-num\">3.2&nbsp;&nbsp;</span>Делим данные на выборки</a></span></li><li><span><a href=\"#Создаем-пайплайн\" data-toc-modified-id=\"Создаем-пайплайн-3.3\"><span class=\"toc-item-num\">3.3&nbsp;&nbsp;</span>Создаем пайплайн</a></span></li><li><span><a href=\"#Перебор-параметров-и-обучение-модели\" data-toc-modified-id=\"Перебор-параметров-и-обучение-модели-3.4\"><span class=\"toc-item-num\">3.4&nbsp;&nbsp;</span>Перебор параметров и обучение модели</a></span><ul class=\"toc-item\"><li><span><a href=\"#Модель-линейной-регрессии\" data-toc-modified-id=\"Модель-линейной-регрессии-3.4.1\"><span class=\"toc-item-num\">3.4.1&nbsp;&nbsp;</span>Модель линейной регрессии</a></span></li><li><span><a href=\"#Модель-DecisionTreeRegressor\" data-toc-modified-id=\"Модель-DecisionTreeRegressor-3.4.2\"><span class=\"toc-item-num\">3.4.2&nbsp;&nbsp;</span>Модель DecisionTreeRegressor</a></span></li><li><span><a href=\"#Модель-LightGBM\" data-toc-modified-id=\"Модель-LightGBM-3.4.3\"><span class=\"toc-item-num\">3.4.3&nbsp;&nbsp;</span>Модель LightGBM</a></span></li></ul></li></ul></li><li><span><a href=\"#Тестирование\" data-toc-modified-id=\"Тестирование-4\"><span class=\"toc-item-num\">4&nbsp;&nbsp;</span>Тестирование</a></span></li><li><span><a href=\"#Вывод\" data-toc-modified-id=\"Вывод-5\"><span class=\"toc-item-num\">5&nbsp;&nbsp;</span>Вывод</a></span></li><li><span><a href=\"#Чек-лист-проверки\" data-toc-modified-id=\"Чек-лист-проверки-6\"><span class=\"toc-item-num\">6&nbsp;&nbsp;</span>Чек-лист проверки</a></span></li></ul></div>"
   ]
  },
  {
   "cell_type": "markdown",
   "metadata": {},
   "source": [
    "# Проект \"Прогнозирование заказов такси\" \n",
    "\n",
    "---\n",
    "\n",
    "# Описание исследования\n",
    "\n",
    "---\n",
    "\n",
    "Компания ***«Чётенькое такси»*** собрала исторические данные о заказах такси в аэропортах. Чтобы привлекать больше водителей в период пиковой нагрузки, нужно спрогнозировать количество заказов такси на следующий час.\n",
    "\n",
    "---\n",
    "\n",
    "# Цель исследования\n",
    "\n",
    "---\n",
    "\n",
    "Создать модель, которая сможет предсказывать количество заказов такси на следующий час\n",
    "\n",
    "---\n",
    "\n",
    "# Задачи исследования\n",
    "\n",
    "---\n",
    "\n",
    "1. Загрузить данные и выполнить их ресемплирование по одному часу\n",
    "2. Проанализировать данные\n",
    "3. Обучить разные модели с различными гиперпараметрами. Сделать тестовую выборку размером 10% от исходных данных\n",
    "4. Проверить данные на тестовой выборке и сделать выводы\n",
    "\n",
    "---\n",
    "\n",
    "# Исходные данные\n",
    "\n",
    "---\n",
    "\n",
    "Для проведения исследования заказчик передал нам *CSV*-файл с данными о заказах такси: `taxi.csv`\n",
    "\n",
    "Количество заказов находится в столбце `num_orders`\n",
    "\n",
    "---"
   ]
  },
  {
   "cell_type": "markdown",
   "metadata": {},
   "source": [
    "## Подготовка"
   ]
  },
  {
   "cell_type": "markdown",
   "metadata": {},
   "source": [
    "### Установка и импортирование библиотек"
   ]
  },
  {
   "cell_type": "code",
   "execution_count": 1,
   "metadata": {},
   "outputs": [],
   "source": [
    "!pip install -U scikit-learn -q"
   ]
  },
  {
   "cell_type": "code",
   "execution_count": 2,
   "metadata": {},
   "outputs": [],
   "source": [
    "#Импорт библиотек:\n",
    "\n",
    "#Библиотека для взаимодействия с ОС:\n",
    "import os\n",
    "\n",
    "#Библиотеки для работы с табличными данными и массивами:\n",
    "import pandas as pd\n",
    "import numpy as np\n",
    "\n",
    "#Библиотека для анализа временного ряда:\n",
    "from statsmodels.tsa.seasonal import seasonal_decompose\n",
    "from statsmodels.graphics.tsaplots import plot_acf, plot_pacf\n",
    "\n",
    "#Библиотеки для графической иллюстрации:\n",
    "import matplotlib.pyplot as plt\n",
    "\n",
    "#Инструменты для создания пайплайнов:\n",
    "from sklearn.pipeline import Pipeline\n",
    "from sklearn.compose import ColumnTransformer\n",
    "\n",
    "#Класс для работы с пропусками\n",
    "from sklearn.impute import SimpleImputer\n",
    "\n",
    "#Библиотеки для масштабирования и кодирования данных:\n",
    "from sklearn.preprocessing import (\n",
    "    OneHotEncoder,\n",
    "    RobustScaler,\n",
    "    StandardScaler, \n",
    "    MinMaxScaler)\n",
    "\n",
    "#Модель линейной регрессии:\n",
    "from sklearn.linear_model import LinearRegression\n",
    "\n",
    "#Модель дерева регрессии:\n",
    "from sklearn.tree import DecisionTreeRegressor\n",
    "\n",
    "#Библиотеки для создания выборок:\n",
    "from sklearn.model_selection import train_test_split, TimeSeriesSplit, RandomizedSearchCV, GridSearchCV\n",
    "\n",
    "#Библиотеки для метрик:\n",
    "from sklearn.metrics import mean_squared_error, make_scorer, root_mean_squared_error\n",
    "\n",
    "#Иморт библиотеки для градиентного бустинга:\n",
    "from lightgbm import LGBMRegressor\n",
    "from xgboost import XGBRegressor\n",
    "\n",
    "#Игнорирование предупреждений:\n",
    "import warnings\n",
    "\n",
    "#Задаем константы:\n",
    "RANDOM_STATE = 42\n",
    "TEST_SIZE = 0.1\n",
    "\n",
    "# игнорирование предупреждений\n",
    "warnings.filterwarnings(\"ignore\")"
   ]
  },
  {
   "cell_type": "markdown",
   "metadata": {},
   "source": [
    "### Выгрузка и первичный осмотр данных"
   ]
  },
  {
   "cell_type": "code",
   "execution_count": 3,
   "metadata": {},
   "outputs": [
    {
     "name": "stdout",
     "output_type": "stream",
     "text": [
      "Данные загружены из локального файла\n"
     ]
    }
   ],
   "source": [
    "#Локальный путь к файлу:\n",
    "local_path = '/datasets/taxi.csv'\n",
    "\n",
    "#Сетевой путь к файлу:\n",
    "url_path = 'https://code.s3.yandex.net/datasets/taxi.csv'\n",
    "\n",
    "#Проверяем наличие файла по заданному локальному пути:\n",
    "if os.path.exists(local_path):\n",
    "    df = pd.read_csv(local_path, index_col=[0], parse_dates=[0])\n",
    "    print(\"Данные загружены из локального файла\")\n",
    "\n",
    "#Проверяем наличие файла по заданному сетевому пути:    \n",
    "elif os.path.exists(url_path):\n",
    "    df = pd.read_csv(url_path, index_col=[0], parse_dates=[0])\n",
    "    print(\"Данные загружены из сети\")\n",
    "    \n",
    "#Генерируем исключение (в случае отстуствия файлов по заданным путям):    \n",
    "else:\n",
    "    print(\"Данных о файле нет в локальной и сетевой директориях\")\n",
    "    \n",
    "#Используем специальную команду отображения таблиц, для наглядного просмотра всех данных:    \n",
    "pd.set_option('display.max_columns', None)"
   ]
  },
  {
   "cell_type": "code",
   "execution_count": 4,
   "metadata": {},
   "outputs": [
    {
     "data": {
      "text/html": [
       "<div>\n",
       "<style scoped>\n",
       "    .dataframe tbody tr th:only-of-type {\n",
       "        vertical-align: middle;\n",
       "    }\n",
       "\n",
       "    .dataframe tbody tr th {\n",
       "        vertical-align: top;\n",
       "    }\n",
       "\n",
       "    .dataframe thead th {\n",
       "        text-align: right;\n",
       "    }\n",
       "</style>\n",
       "<table border=\"1\" class=\"dataframe\">\n",
       "  <thead>\n",
       "    <tr style=\"text-align: right;\">\n",
       "      <th></th>\n",
       "      <th>num_orders</th>\n",
       "    </tr>\n",
       "    <tr>\n",
       "      <th>datetime</th>\n",
       "      <th></th>\n",
       "    </tr>\n",
       "  </thead>\n",
       "  <tbody>\n",
       "    <tr>\n",
       "      <th>2018-03-01 00:00:00</th>\n",
       "      <td>9</td>\n",
       "    </tr>\n",
       "    <tr>\n",
       "      <th>2018-03-01 00:10:00</th>\n",
       "      <td>14</td>\n",
       "    </tr>\n",
       "    <tr>\n",
       "      <th>2018-03-01 00:20:00</th>\n",
       "      <td>28</td>\n",
       "    </tr>\n",
       "    <tr>\n",
       "      <th>2018-03-01 00:30:00</th>\n",
       "      <td>20</td>\n",
       "    </tr>\n",
       "    <tr>\n",
       "      <th>2018-03-01 00:40:00</th>\n",
       "      <td>32</td>\n",
       "    </tr>\n",
       "  </tbody>\n",
       "</table>\n",
       "</div>"
      ],
      "text/plain": [
       "                     num_orders\n",
       "datetime                       \n",
       "2018-03-01 00:00:00           9\n",
       "2018-03-01 00:10:00          14\n",
       "2018-03-01 00:20:00          28\n",
       "2018-03-01 00:30:00          20\n",
       "2018-03-01 00:40:00          32"
      ]
     },
     "execution_count": 4,
     "metadata": {},
     "output_type": "execute_result"
    }
   ],
   "source": [
    "#Результат выгрузки:\n",
    "df.head()"
   ]
  },
  {
   "cell_type": "code",
   "execution_count": 5,
   "metadata": {},
   "outputs": [
    {
     "name": "stdout",
     "output_type": "stream",
     "text": [
      "<class 'pandas.core.frame.DataFrame'>\n",
      "DatetimeIndex: 26496 entries, 2018-03-01 00:00:00 to 2018-08-31 23:50:00\n",
      "Data columns (total 1 columns):\n",
      " #   Column      Non-Null Count  Dtype\n",
      "---  ------      --------------  -----\n",
      " 0   num_orders  26496 non-null  int64\n",
      "dtypes: int64(1)\n",
      "memory usage: 414.0 KB\n"
     ]
    }
   ],
   "source": [
    "#Общая информация о таблице:\n",
    "df.info()"
   ]
  },
  {
   "cell_type": "code",
   "execution_count": 6,
   "metadata": {},
   "outputs": [
    {
     "data": {
      "text/plain": [
       "True"
      ]
     },
     "execution_count": 6,
     "metadata": {},
     "output_type": "execute_result"
    }
   ],
   "source": [
    "#Проверка хронологического порядка расположения даты и времени:\n",
    "df.index.is_monotonic"
   ]
  },
  {
   "cell_type": "markdown",
   "metadata": {},
   "source": [
    "Итак, мы имеем Датафрейм, в котором:\n",
    "\n",
    "> **26496 строк** и **1 столбец**\n",
    "\n",
    "> **Пропусков** - нет\n",
    "\n",
    "> Индекс датафрейма *Datetime* - **временной ряд**\n",
    "\n",
    "> Интервал ряда - **10 мин**\n",
    "\n",
    "> Данные распологаются в хронологическом порядке\n",
    "\n",
    "Требуется поменять интервал временного ряда на 1 час в связи с поставленной задачей:"
   ]
  },
  {
   "cell_type": "code",
   "execution_count": 7,
   "metadata": {},
   "outputs": [
    {
     "data": {
      "text/html": [
       "<div>\n",
       "<style scoped>\n",
       "    .dataframe tbody tr th:only-of-type {\n",
       "        vertical-align: middle;\n",
       "    }\n",
       "\n",
       "    .dataframe tbody tr th {\n",
       "        vertical-align: top;\n",
       "    }\n",
       "\n",
       "    .dataframe thead th {\n",
       "        text-align: right;\n",
       "    }\n",
       "</style>\n",
       "<table border=\"1\" class=\"dataframe\">\n",
       "  <thead>\n",
       "    <tr style=\"text-align: right;\">\n",
       "      <th></th>\n",
       "      <th>num_orders</th>\n",
       "    </tr>\n",
       "    <tr>\n",
       "      <th>datetime</th>\n",
       "      <th></th>\n",
       "    </tr>\n",
       "  </thead>\n",
       "  <tbody>\n",
       "    <tr>\n",
       "      <th>2018-03-01 00:00:00</th>\n",
       "      <td>124</td>\n",
       "    </tr>\n",
       "    <tr>\n",
       "      <th>2018-03-01 01:00:00</th>\n",
       "      <td>85</td>\n",
       "    </tr>\n",
       "    <tr>\n",
       "      <th>2018-03-01 02:00:00</th>\n",
       "      <td>71</td>\n",
       "    </tr>\n",
       "    <tr>\n",
       "      <th>2018-03-01 03:00:00</th>\n",
       "      <td>66</td>\n",
       "    </tr>\n",
       "    <tr>\n",
       "      <th>2018-03-01 04:00:00</th>\n",
       "      <td>43</td>\n",
       "    </tr>\n",
       "  </tbody>\n",
       "</table>\n",
       "</div>"
      ],
      "text/plain": [
       "                     num_orders\n",
       "datetime                       \n",
       "2018-03-01 00:00:00         124\n",
       "2018-03-01 01:00:00          85\n",
       "2018-03-01 02:00:00          71\n",
       "2018-03-01 03:00:00          66\n",
       "2018-03-01 04:00:00          43"
      ]
     },
     "execution_count": 7,
     "metadata": {},
     "output_type": "execute_result"
    }
   ],
   "source": [
    "#Меняем интервал на 1ч:\n",
    "df = df.resample('h').sum() #Считаем по агрегации сумму количества заказов\n",
    "\n",
    "#проверка интервала:\n",
    "df.head()"
   ]
  },
  {
   "cell_type": "markdown",
   "metadata": {},
   "source": [
    "Теперь данные подготовленны и можно переходить к их анализу"
   ]
  },
  {
   "cell_type": "markdown",
   "metadata": {},
   "source": [
    "## Анализ"
   ]
  },
  {
   "cell_type": "markdown",
   "metadata": {},
   "source": [
    "Проанализируем имеющийся временной ряд. Посмотрим на его сезонность, тренды и остатки:"
   ]
  },
  {
   "cell_type": "code",
   "execution_count": 8,
   "metadata": {},
   "outputs": [
    {
     "name": "stdout",
     "output_type": "stream",
     "text": [
      "Начало временного ряда: 2018-03-01 00:00:00 \n",
      "Конец временного ряда: 2018-08-31 23:00:00\n"
     ]
    }
   ],
   "source": [
    "print(f'Начало временного ряда: {df.head(1).index[0]} \\nКонец временного ряда: {df.tail(1).index[0]}')"
   ]
  },
  {
   "cell_type": "markdown",
   "metadata": {},
   "source": [
    "Данные временного ряды выгружены с **1-го марта по 31-ое августа 2018 года**, т.е. у нас данные за последние 6 месяцев.\n",
    "\n",
    "Построим графики трендов, сезонности и остатков для данного временного ряда:"
   ]
  },
  {
   "cell_type": "code",
   "execution_count": 9,
   "metadata": {},
   "outputs": [
    {
     "data": {
      "image/png": "[encoded data removed]",
      "text/plain": [
       "<Figure size 1152x576 with 1 Axes>"
      ]
     },
     "metadata": {
      "needs_background": "light"
     },
     "output_type": "display_data"
    },
    {
     "data": {
      "image/png": "[encoded data removed]",
      "text/plain": [
       "<Figure size 1152x576 with 1 Axes>"
      ]
     },
     "metadata": {
      "needs_background": "light"
     },
     "output_type": "display_data"
    },
    {
     "data": {
      "image/png": "[encoded data removed]",
      "text/plain": [
       "<Figure size 1152x576 with 1 Axes>"
      ]
     },
     "metadata": {
      "needs_background": "light"
     },
     "output_type": "display_data"
    }
   ],
   "source": [
    "#Выполним разделение с помощью seasonal_decompose():\n",
    "decomposed = seasonal_decompose(df)\n",
    "\n",
    "#Построим графики трендов, сезонности и остатков в цикле:\n",
    "for key, name_op in [(decomposed.trend, 'трендов'),\n",
    "                     (decomposed.seasonal['2018-03-01':'2018-03-07'], 'сезонности'),\n",
    "                     (decomposed.resid, 'остатков')]:\n",
    "\n",
    "    fig, ax = plt.subplots(figsize=(16, 8))\n",
    "    key.plot(ax=plt.gca())\n",
    "    plt.title(f'График {name_op} временного ряда', fontsize=18)\n",
    "    plt.xlabel('Временная шкала', fontsize=16)\n",
    "    plt.ylabel('Количество заказов такси', fontsize=16)\n",
    "    plt.show()"
   ]
  },
  {
   "cell_type": "markdown",
   "metadata": {},
   "source": [
    "> **График трендов:** Количество заказов начиная с марта растет, пока не достигает пика под конец августа. Данный тренд является восходяшим\n",
    "\n",
    "> **График сезонности:** Данный график отображает циклическое повторение данных по заданному временному интервалу. Значения колеблятся в пределах 60 заказов\n",
    "\n",
    "> **График остатков:** Остатки колеблятся вокруг нулевого значения, под конец выделенного периода заметны выбросы\n",
    "\n",
    "Посмотрим на общий график временного ряда, добавив скользящее среднее и стандартное отклоненние:"
   ]
  },
  {
   "cell_type": "code",
   "execution_count": 10,
   "metadata": {},
   "outputs": [
    {
     "data": {
      "image/png": "[encoded data removed]",
      "text/plain": [
       "<Figure size 1152x720 with 1 Axes>"
      ]
     },
     "metadata": {
      "needs_background": "light"
     },
     "output_type": "display_data"
    }
   ],
   "source": [
    "#Добавляем столбец скользящего среднего:\n",
    "df['rolling_mean'] = df['num_orders'].rolling(24).mean()\n",
    "\n",
    "#Добавляем столбец стандартного отклонения:\n",
    "df['std'] = df['num_orders'].rolling(24).std()\n",
    "\n",
    "fig, ax = plt.subplots(figsize=(16, 10))  # Указываем нужный размер\n",
    "df.plot(ax=ax)\n",
    "plt.title('График временного ряда', fontsize=18)\n",
    "plt.xlabel('Время', fontsize=16)\n",
    "plt.ylabel('Количество заказов такси', fontsize=16)\n",
    "plt.show()"
   ]
  },
  {
   "cell_type": "markdown",
   "metadata": {},
   "source": [
    "- Среднее значение временного ряда меняется - медленно растет\n",
    "\n",
    "- Стандартное отклонение - меняется (в конце интервала есть значения с большим разбросом)\n",
    "\n",
    "> По данным результатам можно сделать вывод о том, что данный график временного ряда - **нестационарный**"
   ]
  },
  {
   "cell_type": "markdown",
   "metadata": {},
   "source": [
    "## Обучение"
   ]
  },
  {
   "cell_type": "markdown",
   "metadata": {},
   "source": [
    "### Создаем признаки для прогнозирования"
   ]
  },
  {
   "cell_type": "markdown",
   "metadata": {},
   "source": [
    "- Удалим столбцы с признаками скользящего среднего и стандартного отклонения, чтобы перезадать их с другими параметрами:"
   ]
  },
  {
   "cell_type": "code",
   "execution_count": 12,
   "metadata": {},
   "outputs": [],
   "source": [
    "#Вначале удалим признаки скользящего среднего и стандартного отклонения:\n",
    "df = df.drop('rolling_mean', axis=1)\n",
    "df = df.drop('std', axis=1)"
   ]
  },
  {
   "cell_type": "markdown",
   "metadata": {},
   "source": [
    "Исследуем автокорреляцию:"
   ]
  },
  {
   "cell_type": "code",
   "execution_count": 13,
   "metadata": {},
   "outputs": [
    {
     "data": {
      "image/png": "[encoded data removed]",
      "text/plain": [
       "<Figure size 1440x432 with 1 Axes>"
      ]
     },
     "metadata": {
      "needs_background": "light"
     },
     "output_type": "display_data"
    },
    {
     "data": {
      "image/png": "[encoded data removed]",
      "text/plain": [
       "<Figure size 1296x432 with 1 Axes>"
      ]
     },
     "metadata": {
      "needs_background": "light"
     },
     "output_type": "display_data"
    }
   ],
   "source": [
    "plot_pacf(df['num_orders'], lags=168, alpha=None).set_size_inches(20, 6)\n",
    "plt.show()\n",
    "\n",
    "plot_acf(df['num_orders'], lags=168, alpha=None).set_size_inches(18, 6)\n",
    "plt.show()"
   ]
  },
  {
   "cell_type": "markdown",
   "metadata": {},
   "source": [
    "> Исходя из графиков автокорреляции можно выделить пики от 24 до 170, чтобы не перегружать модель, используем значение **24** для разделения скользящего окна и добавления признаков"
   ]
  },
  {
   "cell_type": "code",
   "execution_count": 14,
   "metadata": {
    "scrolled": false
   },
   "outputs": [
    {
     "data": {
      "text/html": [
       "<div>\n",
       "<style scoped>\n",
       "    .dataframe tbody tr th:only-of-type {\n",
       "        vertical-align: middle;\n",
       "    }\n",
       "\n",
       "    .dataframe tbody tr th {\n",
       "        vertical-align: top;\n",
       "    }\n",
       "\n",
       "    .dataframe thead th {\n",
       "        text-align: right;\n",
       "    }\n",
       "</style>\n",
       "<table border=\"1\" class=\"dataframe\">\n",
       "  <thead>\n",
       "    <tr style=\"text-align: right;\">\n",
       "      <th></th>\n",
       "      <th>num_orders</th>\n",
       "      <th>dayofweek</th>\n",
       "      <th>hour</th>\n",
       "      <th>lag_1</th>\n",
       "      <th>lag_2</th>\n",
       "      <th>lag_3</th>\n",
       "      <th>lag_4</th>\n",
       "      <th>lag_5</th>\n",
       "      <th>lag_6</th>\n",
       "      <th>lag_7</th>\n",
       "      <th>lag_8</th>\n",
       "      <th>lag_9</th>\n",
       "      <th>lag_10</th>\n",
       "      <th>lag_11</th>\n",
       "      <th>lag_12</th>\n",
       "      <th>lag_13</th>\n",
       "      <th>lag_14</th>\n",
       "      <th>lag_15</th>\n",
       "      <th>lag_16</th>\n",
       "      <th>lag_17</th>\n",
       "      <th>lag_18</th>\n",
       "      <th>lag_19</th>\n",
       "      <th>lag_20</th>\n",
       "      <th>lag_21</th>\n",
       "      <th>lag_22</th>\n",
       "      <th>lag_23</th>\n",
       "      <th>lag_24</th>\n",
       "      <th>rolling_mean</th>\n",
       "    </tr>\n",
       "    <tr>\n",
       "      <th>datetime</th>\n",
       "      <th></th>\n",
       "      <th></th>\n",
       "      <th></th>\n",
       "      <th></th>\n",
       "      <th></th>\n",
       "      <th></th>\n",
       "      <th></th>\n",
       "      <th></th>\n",
       "      <th></th>\n",
       "      <th></th>\n",
       "      <th></th>\n",
       "      <th></th>\n",
       "      <th></th>\n",
       "      <th></th>\n",
       "      <th></th>\n",
       "      <th></th>\n",
       "      <th></th>\n",
       "      <th></th>\n",
       "      <th></th>\n",
       "      <th></th>\n",
       "      <th></th>\n",
       "      <th></th>\n",
       "      <th></th>\n",
       "      <th></th>\n",
       "      <th></th>\n",
       "      <th></th>\n",
       "      <th></th>\n",
       "      <th></th>\n",
       "    </tr>\n",
       "  </thead>\n",
       "  <tbody>\n",
       "    <tr>\n",
       "      <th>2018-03-01 00:00:00</th>\n",
       "      <td>124</td>\n",
       "      <td>3</td>\n",
       "      <td>0</td>\n",
       "      <td>NaN</td>\n",
       "      <td>NaN</td>\n",
       "      <td>NaN</td>\n",
       "      <td>NaN</td>\n",
       "      <td>NaN</td>\n",
       "      <td>NaN</td>\n",
       "      <td>NaN</td>\n",
       "      <td>NaN</td>\n",
       "      <td>NaN</td>\n",
       "      <td>NaN</td>\n",
       "      <td>NaN</td>\n",
       "      <td>NaN</td>\n",
       "      <td>NaN</td>\n",
       "      <td>NaN</td>\n",
       "      <td>NaN</td>\n",
       "      <td>NaN</td>\n",
       "      <td>NaN</td>\n",
       "      <td>NaN</td>\n",
       "      <td>NaN</td>\n",
       "      <td>NaN</td>\n",
       "      <td>NaN</td>\n",
       "      <td>NaN</td>\n",
       "      <td>NaN</td>\n",
       "      <td>NaN</td>\n",
       "      <td>NaN</td>\n",
       "    </tr>\n",
       "    <tr>\n",
       "      <th>2018-03-01 01:00:00</th>\n",
       "      <td>85</td>\n",
       "      <td>3</td>\n",
       "      <td>1</td>\n",
       "      <td>124.0</td>\n",
       "      <td>NaN</td>\n",
       "      <td>NaN</td>\n",
       "      <td>NaN</td>\n",
       "      <td>NaN</td>\n",
       "      <td>NaN</td>\n",
       "      <td>NaN</td>\n",
       "      <td>NaN</td>\n",
       "      <td>NaN</td>\n",
       "      <td>NaN</td>\n",
       "      <td>NaN</td>\n",
       "      <td>NaN</td>\n",
       "      <td>NaN</td>\n",
       "      <td>NaN</td>\n",
       "      <td>NaN</td>\n",
       "      <td>NaN</td>\n",
       "      <td>NaN</td>\n",
       "      <td>NaN</td>\n",
       "      <td>NaN</td>\n",
       "      <td>NaN</td>\n",
       "      <td>NaN</td>\n",
       "      <td>NaN</td>\n",
       "      <td>NaN</td>\n",
       "      <td>NaN</td>\n",
       "      <td>NaN</td>\n",
       "    </tr>\n",
       "    <tr>\n",
       "      <th>2018-03-01 02:00:00</th>\n",
       "      <td>71</td>\n",
       "      <td>3</td>\n",
       "      <td>2</td>\n",
       "      <td>85.0</td>\n",
       "      <td>124.0</td>\n",
       "      <td>NaN</td>\n",
       "      <td>NaN</td>\n",
       "      <td>NaN</td>\n",
       "      <td>NaN</td>\n",
       "      <td>NaN</td>\n",
       "      <td>NaN</td>\n",
       "      <td>NaN</td>\n",
       "      <td>NaN</td>\n",
       "      <td>NaN</td>\n",
       "      <td>NaN</td>\n",
       "      <td>NaN</td>\n",
       "      <td>NaN</td>\n",
       "      <td>NaN</td>\n",
       "      <td>NaN</td>\n",
       "      <td>NaN</td>\n",
       "      <td>NaN</td>\n",
       "      <td>NaN</td>\n",
       "      <td>NaN</td>\n",
       "      <td>NaN</td>\n",
       "      <td>NaN</td>\n",
       "      <td>NaN</td>\n",
       "      <td>NaN</td>\n",
       "      <td>NaN</td>\n",
       "    </tr>\n",
       "    <tr>\n",
       "      <th>2018-03-01 03:00:00</th>\n",
       "      <td>66</td>\n",
       "      <td>3</td>\n",
       "      <td>3</td>\n",
       "      <td>71.0</td>\n",
       "      <td>85.0</td>\n",
       "      <td>124.0</td>\n",
       "      <td>NaN</td>\n",
       "      <td>NaN</td>\n",
       "      <td>NaN</td>\n",
       "      <td>NaN</td>\n",
       "      <td>NaN</td>\n",
       "      <td>NaN</td>\n",
       "      <td>NaN</td>\n",
       "      <td>NaN</td>\n",
       "      <td>NaN</td>\n",
       "      <td>NaN</td>\n",
       "      <td>NaN</td>\n",
       "      <td>NaN</td>\n",
       "      <td>NaN</td>\n",
       "      <td>NaN</td>\n",
       "      <td>NaN</td>\n",
       "      <td>NaN</td>\n",
       "      <td>NaN</td>\n",
       "      <td>NaN</td>\n",
       "      <td>NaN</td>\n",
       "      <td>NaN</td>\n",
       "      <td>NaN</td>\n",
       "      <td>NaN</td>\n",
       "    </tr>\n",
       "    <tr>\n",
       "      <th>2018-03-01 04:00:00</th>\n",
       "      <td>43</td>\n",
       "      <td>3</td>\n",
       "      <td>4</td>\n",
       "      <td>66.0</td>\n",
       "      <td>71.0</td>\n",
       "      <td>85.0</td>\n",
       "      <td>124.0</td>\n",
       "      <td>NaN</td>\n",
       "      <td>NaN</td>\n",
       "      <td>NaN</td>\n",
       "      <td>NaN</td>\n",
       "      <td>NaN</td>\n",
       "      <td>NaN</td>\n",
       "      <td>NaN</td>\n",
       "      <td>NaN</td>\n",
       "      <td>NaN</td>\n",
       "      <td>NaN</td>\n",
       "      <td>NaN</td>\n",
       "      <td>NaN</td>\n",
       "      <td>NaN</td>\n",
       "      <td>NaN</td>\n",
       "      <td>NaN</td>\n",
       "      <td>NaN</td>\n",
       "      <td>NaN</td>\n",
       "      <td>NaN</td>\n",
       "      <td>NaN</td>\n",
       "      <td>NaN</td>\n",
       "      <td>NaN</td>\n",
       "    </tr>\n",
       "  </tbody>\n",
       "</table>\n",
       "</div>"
      ],
      "text/plain": [
       "                     num_orders  dayofweek  hour  lag_1  lag_2  lag_3  lag_4  \\\n",
       "datetime                                                                       \n",
       "2018-03-01 00:00:00         124          3     0    NaN    NaN    NaN    NaN   \n",
       "2018-03-01 01:00:00          85          3     1  124.0    NaN    NaN    NaN   \n",
       "2018-03-01 02:00:00          71          3     2   85.0  124.0    NaN    NaN   \n",
       "2018-03-01 03:00:00          66          3     3   71.0   85.0  124.0    NaN   \n",
       "2018-03-01 04:00:00          43          3     4   66.0   71.0   85.0  124.0   \n",
       "\n",
       "                     lag_5  lag_6  lag_7  lag_8  lag_9  lag_10  lag_11  \\\n",
       "datetime                                                                 \n",
       "2018-03-01 00:00:00    NaN    NaN    NaN    NaN    NaN     NaN     NaN   \n",
       "2018-03-01 01:00:00    NaN    NaN    NaN    NaN    NaN     NaN     NaN   \n",
       "2018-03-01 02:00:00    NaN    NaN    NaN    NaN    NaN     NaN     NaN   \n",
       "2018-03-01 03:00:00    NaN    NaN    NaN    NaN    NaN     NaN     NaN   \n",
       "2018-03-01 04:00:00    NaN    NaN    NaN    NaN    NaN     NaN     NaN   \n",
       "\n",
       "                     lag_12  lag_13  lag_14  lag_15  lag_16  lag_17  lag_18  \\\n",
       "datetime                                                                      \n",
       "2018-03-01 00:00:00     NaN     NaN     NaN     NaN     NaN     NaN     NaN   \n",
       "2018-03-01 01:00:00     NaN     NaN     NaN     NaN     NaN     NaN     NaN   \n",
       "2018-03-01 02:00:00     NaN     NaN     NaN     NaN     NaN     NaN     NaN   \n",
       "2018-03-01 03:00:00     NaN     NaN     NaN     NaN     NaN     NaN     NaN   \n",
       "2018-03-01 04:00:00     NaN     NaN     NaN     NaN     NaN     NaN     NaN   \n",
       "\n",
       "                     lag_19  lag_20  lag_21  lag_22  lag_23  lag_24  \\\n",
       "datetime                                                              \n",
       "2018-03-01 00:00:00     NaN     NaN     NaN     NaN     NaN     NaN   \n",
       "2018-03-01 01:00:00     NaN     NaN     NaN     NaN     NaN     NaN   \n",
       "2018-03-01 02:00:00     NaN     NaN     NaN     NaN     NaN     NaN   \n",
       "2018-03-01 03:00:00     NaN     NaN     NaN     NaN     NaN     NaN   \n",
       "2018-03-01 04:00:00     NaN     NaN     NaN     NaN     NaN     NaN   \n",
       "\n",
       "                     rolling_mean  \n",
       "datetime                           \n",
       "2018-03-01 00:00:00           NaN  \n",
       "2018-03-01 01:00:00           NaN  \n",
       "2018-03-01 02:00:00           NaN  \n",
       "2018-03-01 03:00:00           NaN  \n",
       "2018-03-01 04:00:00           NaN  "
      ]
     },
     "execution_count": 14,
     "metadata": {},
     "output_type": "execute_result"
    }
   ],
   "source": [
    "def make_features(df, max_lag, rolling_mean_size):\n",
    "    \n",
    "    #Добавляем столбцы: номер дня в неделе, час    \n",
    "    df['dayofweek'] = df.index.dayofweek\n",
    "    df['hour'] = df.index.hour\n",
    "    \n",
    "    #Добавляем лаги, чтобы модель понимала, когда функция зависимости количества заказов от времени растет, а когда убывает:\n",
    "    for lag in range(1, max_lag + 1):\n",
    "        df['lag_{}'.format(lag)] = df['num_orders'].shift(lag)\n",
    "\n",
    "    #Добавляем скользящее среднее расчитаное со смещением исходного столбца \n",
    "    df['rolling_mean'] = df['num_orders'].shift().rolling(rolling_mean_size).mean()\n",
    "    #df['std'] = df['num_orders'].shift().rolling(rolling_mean_size).std()    \n",
    "    \n",
    "#Глобальные параметры для генерации признаков:\n",
    "max_lag = 24\n",
    "rolling_mean_size = 24\n",
    "\n",
    "#Вызовем функцию для создания признаков:\n",
    "make_features(df, max_lag, rolling_mean_size)\n",
    "\n",
    "#Посмотрим на полученный ДФ:\n",
    "df.head(5)"
   ]
  },
  {
   "cell_type": "markdown",
   "metadata": {},
   "source": [
    "1. Из-за добавлении новых признаков **появились пропуска**, их нужно обработать\n",
    "\n",
    "2. Получить признаки для первых значений обучающей выборки нельзя: исторических данных по ним нет. Значения в этих наблюдениях равны **Nan** - их нужно удалить "
   ]
  },
  {
   "cell_type": "code",
   "execution_count": 15,
   "metadata": {},
   "outputs": [
    {
     "data": {
      "text/html": [
       "<div>\n",
       "<style scoped>\n",
       "    .dataframe tbody tr th:only-of-type {\n",
       "        vertical-align: middle;\n",
       "    }\n",
       "\n",
       "    .dataframe tbody tr th {\n",
       "        vertical-align: top;\n",
       "    }\n",
       "\n",
       "    .dataframe thead th {\n",
       "        text-align: right;\n",
       "    }\n",
       "</style>\n",
       "<table border=\"1\" class=\"dataframe\">\n",
       "  <thead>\n",
       "    <tr style=\"text-align: right;\">\n",
       "      <th></th>\n",
       "      <th>num_orders</th>\n",
       "      <th>dayofweek</th>\n",
       "      <th>hour</th>\n",
       "      <th>lag_1</th>\n",
       "      <th>lag_2</th>\n",
       "      <th>lag_3</th>\n",
       "      <th>lag_4</th>\n",
       "      <th>lag_5</th>\n",
       "      <th>lag_6</th>\n",
       "      <th>lag_7</th>\n",
       "      <th>lag_8</th>\n",
       "      <th>lag_9</th>\n",
       "      <th>lag_10</th>\n",
       "      <th>lag_11</th>\n",
       "      <th>lag_12</th>\n",
       "      <th>lag_13</th>\n",
       "      <th>lag_14</th>\n",
       "      <th>lag_15</th>\n",
       "      <th>lag_16</th>\n",
       "      <th>lag_17</th>\n",
       "      <th>lag_18</th>\n",
       "      <th>lag_19</th>\n",
       "      <th>lag_20</th>\n",
       "      <th>lag_21</th>\n",
       "      <th>lag_22</th>\n",
       "      <th>lag_23</th>\n",
       "      <th>lag_24</th>\n",
       "      <th>rolling_mean</th>\n",
       "    </tr>\n",
       "    <tr>\n",
       "      <th>datetime</th>\n",
       "      <th></th>\n",
       "      <th></th>\n",
       "      <th></th>\n",
       "      <th></th>\n",
       "      <th></th>\n",
       "      <th></th>\n",
       "      <th></th>\n",
       "      <th></th>\n",
       "      <th></th>\n",
       "      <th></th>\n",
       "      <th></th>\n",
       "      <th></th>\n",
       "      <th></th>\n",
       "      <th></th>\n",
       "      <th></th>\n",
       "      <th></th>\n",
       "      <th></th>\n",
       "      <th></th>\n",
       "      <th></th>\n",
       "      <th></th>\n",
       "      <th></th>\n",
       "      <th></th>\n",
       "      <th></th>\n",
       "      <th></th>\n",
       "      <th></th>\n",
       "      <th></th>\n",
       "      <th></th>\n",
       "      <th></th>\n",
       "    </tr>\n",
       "  </thead>\n",
       "  <tbody>\n",
       "    <tr>\n",
       "      <th>2018-03-02 00:00:00</th>\n",
       "      <td>90</td>\n",
       "      <td>4</td>\n",
       "      <td>0</td>\n",
       "      <td>58.0</td>\n",
       "      <td>113.0</td>\n",
       "      <td>66.0</td>\n",
       "      <td>61.0</td>\n",
       "      <td>45.0</td>\n",
       "      <td>73.0</td>\n",
       "      <td>44.0</td>\n",
       "      <td>43.0</td>\n",
       "      <td>66.0</td>\n",
       "      <td>48.0</td>\n",
       "      <td>32.0</td>\n",
       "      <td>30.0</td>\n",
       "      <td>96.0</td>\n",
       "      <td>64.0</td>\n",
       "      <td>69.0</td>\n",
       "      <td>34.0</td>\n",
       "      <td>15.0</td>\n",
       "      <td>12.0</td>\n",
       "      <td>6.0</td>\n",
       "      <td>43.0</td>\n",
       "      <td>66.0</td>\n",
       "      <td>71.0</td>\n",
       "      <td>85.0</td>\n",
       "      <td>124.0</td>\n",
       "      <td>56.833333</td>\n",
       "    </tr>\n",
       "    <tr>\n",
       "      <th>2018-03-02 01:00:00</th>\n",
       "      <td>120</td>\n",
       "      <td>4</td>\n",
       "      <td>1</td>\n",
       "      <td>90.0</td>\n",
       "      <td>58.0</td>\n",
       "      <td>113.0</td>\n",
       "      <td>66.0</td>\n",
       "      <td>61.0</td>\n",
       "      <td>45.0</td>\n",
       "      <td>73.0</td>\n",
       "      <td>44.0</td>\n",
       "      <td>43.0</td>\n",
       "      <td>66.0</td>\n",
       "      <td>48.0</td>\n",
       "      <td>32.0</td>\n",
       "      <td>30.0</td>\n",
       "      <td>96.0</td>\n",
       "      <td>64.0</td>\n",
       "      <td>69.0</td>\n",
       "      <td>34.0</td>\n",
       "      <td>15.0</td>\n",
       "      <td>12.0</td>\n",
       "      <td>6.0</td>\n",
       "      <td>43.0</td>\n",
       "      <td>66.0</td>\n",
       "      <td>71.0</td>\n",
       "      <td>85.0</td>\n",
       "      <td>55.416667</td>\n",
       "    </tr>\n",
       "    <tr>\n",
       "      <th>2018-03-02 02:00:00</th>\n",
       "      <td>75</td>\n",
       "      <td>4</td>\n",
       "      <td>2</td>\n",
       "      <td>120.0</td>\n",
       "      <td>90.0</td>\n",
       "      <td>58.0</td>\n",
       "      <td>113.0</td>\n",
       "      <td>66.0</td>\n",
       "      <td>61.0</td>\n",
       "      <td>45.0</td>\n",
       "      <td>73.0</td>\n",
       "      <td>44.0</td>\n",
       "      <td>43.0</td>\n",
       "      <td>66.0</td>\n",
       "      <td>48.0</td>\n",
       "      <td>32.0</td>\n",
       "      <td>30.0</td>\n",
       "      <td>96.0</td>\n",
       "      <td>64.0</td>\n",
       "      <td>69.0</td>\n",
       "      <td>34.0</td>\n",
       "      <td>15.0</td>\n",
       "      <td>12.0</td>\n",
       "      <td>6.0</td>\n",
       "      <td>43.0</td>\n",
       "      <td>66.0</td>\n",
       "      <td>71.0</td>\n",
       "      <td>56.875000</td>\n",
       "    </tr>\n",
       "    <tr>\n",
       "      <th>2018-03-02 03:00:00</th>\n",
       "      <td>64</td>\n",
       "      <td>4</td>\n",
       "      <td>3</td>\n",
       "      <td>75.0</td>\n",
       "      <td>120.0</td>\n",
       "      <td>90.0</td>\n",
       "      <td>58.0</td>\n",
       "      <td>113.0</td>\n",
       "      <td>66.0</td>\n",
       "      <td>61.0</td>\n",
       "      <td>45.0</td>\n",
       "      <td>73.0</td>\n",
       "      <td>44.0</td>\n",
       "      <td>43.0</td>\n",
       "      <td>66.0</td>\n",
       "      <td>48.0</td>\n",
       "      <td>32.0</td>\n",
       "      <td>30.0</td>\n",
       "      <td>96.0</td>\n",
       "      <td>64.0</td>\n",
       "      <td>69.0</td>\n",
       "      <td>34.0</td>\n",
       "      <td>15.0</td>\n",
       "      <td>12.0</td>\n",
       "      <td>6.0</td>\n",
       "      <td>43.0</td>\n",
       "      <td>66.0</td>\n",
       "      <td>57.041667</td>\n",
       "    </tr>\n",
       "    <tr>\n",
       "      <th>2018-03-02 04:00:00</th>\n",
       "      <td>20</td>\n",
       "      <td>4</td>\n",
       "      <td>4</td>\n",
       "      <td>64.0</td>\n",
       "      <td>75.0</td>\n",
       "      <td>120.0</td>\n",
       "      <td>90.0</td>\n",
       "      <td>58.0</td>\n",
       "      <td>113.0</td>\n",
       "      <td>66.0</td>\n",
       "      <td>61.0</td>\n",
       "      <td>45.0</td>\n",
       "      <td>73.0</td>\n",
       "      <td>44.0</td>\n",
       "      <td>43.0</td>\n",
       "      <td>66.0</td>\n",
       "      <td>48.0</td>\n",
       "      <td>32.0</td>\n",
       "      <td>30.0</td>\n",
       "      <td>96.0</td>\n",
       "      <td>64.0</td>\n",
       "      <td>69.0</td>\n",
       "      <td>34.0</td>\n",
       "      <td>15.0</td>\n",
       "      <td>12.0</td>\n",
       "      <td>6.0</td>\n",
       "      <td>43.0</td>\n",
       "      <td>56.958333</td>\n",
       "    </tr>\n",
       "  </tbody>\n",
       "</table>\n",
       "</div>"
      ],
      "text/plain": [
       "                     num_orders  dayofweek  hour  lag_1  lag_2  lag_3  lag_4  \\\n",
       "datetime                                                                       \n",
       "2018-03-02 00:00:00          90          4     0   58.0  113.0   66.0   61.0   \n",
       "2018-03-02 01:00:00         120          4     1   90.0   58.0  113.0   66.0   \n",
       "2018-03-02 02:00:00          75          4     2  120.0   90.0   58.0  113.0   \n",
       "2018-03-02 03:00:00          64          4     3   75.0  120.0   90.0   58.0   \n",
       "2018-03-02 04:00:00          20          4     4   64.0   75.0  120.0   90.0   \n",
       "\n",
       "                     lag_5  lag_6  lag_7  lag_8  lag_9  lag_10  lag_11  \\\n",
       "datetime                                                                 \n",
       "2018-03-02 00:00:00   45.0   73.0   44.0   43.0   66.0    48.0    32.0   \n",
       "2018-03-02 01:00:00   61.0   45.0   73.0   44.0   43.0    66.0    48.0   \n",
       "2018-03-02 02:00:00   66.0   61.0   45.0   73.0   44.0    43.0    66.0   \n",
       "2018-03-02 03:00:00  113.0   66.0   61.0   45.0   73.0    44.0    43.0   \n",
       "2018-03-02 04:00:00   58.0  113.0   66.0   61.0   45.0    73.0    44.0   \n",
       "\n",
       "                     lag_12  lag_13  lag_14  lag_15  lag_16  lag_17  lag_18  \\\n",
       "datetime                                                                      \n",
       "2018-03-02 00:00:00    30.0    96.0    64.0    69.0    34.0    15.0    12.0   \n",
       "2018-03-02 01:00:00    32.0    30.0    96.0    64.0    69.0    34.0    15.0   \n",
       "2018-03-02 02:00:00    48.0    32.0    30.0    96.0    64.0    69.0    34.0   \n",
       "2018-03-02 03:00:00    66.0    48.0    32.0    30.0    96.0    64.0    69.0   \n",
       "2018-03-02 04:00:00    43.0    66.0    48.0    32.0    30.0    96.0    64.0   \n",
       "\n",
       "                     lag_19  lag_20  lag_21  lag_22  lag_23  lag_24  \\\n",
       "datetime                                                              \n",
       "2018-03-02 00:00:00     6.0    43.0    66.0    71.0    85.0   124.0   \n",
       "2018-03-02 01:00:00    12.0     6.0    43.0    66.0    71.0    85.0   \n",
       "2018-03-02 02:00:00    15.0    12.0     6.0    43.0    66.0    71.0   \n",
       "2018-03-02 03:00:00    34.0    15.0    12.0     6.0    43.0    66.0   \n",
       "2018-03-02 04:00:00    69.0    34.0    15.0    12.0     6.0    43.0   \n",
       "\n",
       "                     rolling_mean  \n",
       "datetime                           \n",
       "2018-03-02 00:00:00     56.833333  \n",
       "2018-03-02 01:00:00     55.416667  \n",
       "2018-03-02 02:00:00     56.875000  \n",
       "2018-03-02 03:00:00     57.041667  \n",
       "2018-03-02 04:00:00     56.958333  "
      ]
     },
     "execution_count": 15,
     "metadata": {},
     "output_type": "execute_result"
    }
   ],
   "source": [
    "#Удаляем наблюдения с пропущенными значениями:\n",
    "df = df.dropna()\n",
    "\n",
    "#Проверка удаления:\n",
    "df.head(5)"
   ]
  },
  {
   "cell_type": "markdown",
   "metadata": {},
   "source": [
    "### Делим данные на выборки"
   ]
  },
  {
   "cell_type": "code",
   "execution_count": 16,
   "metadata": {},
   "outputs": [
    {
     "data": {
      "text/plain": [
       "True"
      ]
     },
     "execution_count": 16,
     "metadata": {},
     "output_type": "execute_result"
    }
   ],
   "source": [
    "#Отделяем входные и целевой признаки:\n",
    "X = df.drop('num_orders', axis=1)\n",
    "\n",
    "y = df['num_orders']\n",
    "\n",
    "\n",
    "#Делим данные на тренеровочную и тестовую выборки:\n",
    "X_train, X_test, y_train, y_test = train_test_split(X, y, shuffle=False, test_size=TEST_SIZE) \n",
    "\n",
    "#shuffle=False - данные не перемешиваюся\n",
    "\n",
    "#Проверка размерности:\n",
    "X_train.shape[0]  + X_test.shape[0] == df.shape[0]"
   ]
  },
  {
   "cell_type": "markdown",
   "metadata": {},
   "source": [
    "### Создаем пайплайн"
   ]
  },
  {
   "cell_type": "code",
   "execution_count": 17,
   "metadata": {},
   "outputs": [
    {
     "data": {
      "text/html": [
       "<style>#sk-container-id-1 {\n",
       "  /* Definition of color scheme common for light and dark mode */\n",
       "  --sklearn-color-text: black;\n",
       "  --sklearn-color-line: gray;\n",
       "  /* Definition of color scheme for unfitted estimators */\n",
       "  --sklearn-color-unfitted-level-0: #fff5e6;\n",
       "  --sklearn-color-unfitted-level-1: #f6e4d2;\n",
       "  --sklearn-color-unfitted-level-2: #ffe0b3;\n",
       "  --sklearn-color-unfitted-level-3: chocolate;\n",
       "  /* Definition of color scheme for fitted estimators */\n",
       "  --sklearn-color-fitted-level-0: #f0f8ff;\n",
       "  --sklearn-color-fitted-level-1: #d4ebff;\n",
       "  --sklearn-color-fitted-level-2: #b3dbfd;\n",
       "  --sklearn-color-fitted-level-3: cornflowerblue;\n",
       "\n",
       "  /* Specific color for light theme */\n",
       "  --sklearn-color-text-on-default-background: var(--sg-text-color, var(--theme-code-foreground, var(--jp-content-font-color1, black)));\n",
       "  --sklearn-color-background: var(--sg-background-color, var(--theme-background, var(--jp-layout-color0, white)));\n",
       "  --sklearn-color-border-box: var(--sg-text-color, var(--theme-code-foreground, var(--jp-content-font-color1, black)));\n",
       "  --sklearn-color-icon: #696969;\n",
       "\n",
       "  @media (prefers-color-scheme: dark) {\n",
       "    /* Redefinition of color scheme for dark theme */\n",
       "    --sklearn-color-text-on-default-background: var(--sg-text-color, var(--theme-code-foreground, var(--jp-content-font-color1, white)));\n",
       "    --sklearn-color-background: var(--sg-background-color, var(--theme-background, var(--jp-layout-color0, #111)));\n",
       "    --sklearn-color-border-box: var(--sg-text-color, var(--theme-code-foreground, var(--jp-content-font-color1, white)));\n",
       "    --sklearn-color-icon: #878787;\n",
       "  }\n",
       "}\n",
       "\n",
       "#sk-container-id-1 {\n",
       "  color: var(--sklearn-color-text);\n",
       "}\n",
       "\n",
       "#sk-container-id-1 pre {\n",
       "  padding: 0;\n",
       "}\n",
       "\n",
       "#sk-container-id-1 input.sk-hidden--visually {\n",
       "  border: 0;\n",
       "  clip: rect(1px 1px 1px 1px);\n",
       "  clip: rect(1px, 1px, 1px, 1px);\n",
       "  height: 1px;\n",
       "  margin: -1px;\n",
       "  overflow: hidden;\n",
       "  padding: 0;\n",
       "  position: absolute;\n",
       "  width: 1px;\n",
       "}\n",
       "\n",
       "#sk-container-id-1 div.sk-dashed-wrapped {\n",
       "  border: 1px dashed var(--sklearn-color-line);\n",
       "  margin: 0 0.4em 0.5em 0.4em;\n",
       "  box-sizing: border-box;\n",
       "  padding-bottom: 0.4em;\n",
       "  background-color: var(--sklearn-color-background);\n",
       "}\n",
       "\n",
       "#sk-container-id-1 div.sk-container {\n",
       "  /* jupyter's `normalize.less` sets `[hidden] { display: none; }`\n",
       "     but bootstrap.min.css set `[hidden] { display: none !important; }`\n",
       "     so we also need the `!important` here to be able to override the\n",
       "     default hidden behavior on the sphinx rendered scikit-learn.org.\n",
       "     See: https://github.com/scikit-learn/scikit-learn/issues/21755 */\n",
       "  display: inline-block !important;\n",
       "  position: relative;\n",
       "}\n",
       "\n",
       "#sk-container-id-1 div.sk-text-repr-fallback {\n",
       "  display: none;\n",
       "}\n",
       "\n",
       "div.sk-parallel-item,\n",
       "div.sk-serial,\n",
       "div.sk-item {\n",
       "  /* draw centered vertical line to link estimators */\n",
       "  background-image: linear-gradient(var(--sklearn-color-text-on-default-background), var(--sklearn-color-text-on-default-background));\n",
       "  background-size: 2px 100%;\n",
       "  background-repeat: no-repeat;\n",
       "  background-position: center center;\n",
       "}\n",
       "\n",
       "/* Parallel-specific style estimator block */\n",
       "\n",
       "#sk-container-id-1 div.sk-parallel-item::after {\n",
       "  content: \"\";\n",
       "  width: 100%;\n",
       "  border-bottom: 2px solid var(--sklearn-color-text-on-default-background);\n",
       "  flex-grow: 1;\n",
       "}\n",
       "\n",
       "#sk-container-id-1 div.sk-parallel {\n",
       "  display: flex;\n",
       "  align-items: stretch;\n",
       "  justify-content: center;\n",
       "  background-color: var(--sklearn-color-background);\n",
       "  position: relative;\n",
       "}\n",
       "\n",
       "#sk-container-id-1 div.sk-parallel-item {\n",
       "  display: flex;\n",
       "  flex-direction: column;\n",
       "}\n",
       "\n",
       "#sk-container-id-1 div.sk-parallel-item:first-child::after {\n",
       "  align-self: flex-end;\n",
       "  width: 50%;\n",
       "}\n",
       "\n",
       "#sk-container-id-1 div.sk-parallel-item:last-child::after {\n",
       "  align-self: flex-start;\n",
       "  width: 50%;\n",
       "}\n",
       "\n",
       "#sk-container-id-1 div.sk-parallel-item:only-child::after {\n",
       "  width: 0;\n",
       "}\n",
       "\n",
       "/* Serial-specific style estimator block */\n",
       "\n",
       "#sk-container-id-1 div.sk-serial {\n",
       "  display: flex;\n",
       "  flex-direction: column;\n",
       "  align-items: center;\n",
       "  background-color: var(--sklearn-color-background);\n",
       "  padding-right: 1em;\n",
       "  padding-left: 1em;\n",
       "}\n",
       "\n",
       "\n",
       "/* Toggleable style: style used for estimator/Pipeline/ColumnTransformer box that is\n",
       "clickable and can be expanded/collapsed.\n",
       "- Pipeline and ColumnTransformer use this feature and define the default style\n",
       "- Estimators will overwrite some part of the style using the `sk-estimator` class\n",
       "*/\n",
       "\n",
       "/* Pipeline and ColumnTransformer style (default) */\n",
       "\n",
       "#sk-container-id-1 div.sk-toggleable {\n",
       "  /* Default theme specific background. It is overwritten whether we have a\n",
       "  specific estimator or a Pipeline/ColumnTransformer */\n",
       "  background-color: var(--sklearn-color-background);\n",
       "}\n",
       "\n",
       "/* Toggleable label */\n",
       "#sk-container-id-1 label.sk-toggleable__label {\n",
       "  cursor: pointer;\n",
       "  display: block;\n",
       "  width: 100%;\n",
       "  margin-bottom: 0;\n",
       "  padding: 0.5em;\n",
       "  box-sizing: border-box;\n",
       "  text-align: center;\n",
       "}\n",
       "\n",
       "#sk-container-id-1 label.sk-toggleable__label-arrow:before {\n",
       "  /* Arrow on the left of the label */\n",
       "  content: \"▸\";\n",
       "  float: left;\n",
       "  margin-right: 0.25em;\n",
       "  color: var(--sklearn-color-icon);\n",
       "}\n",
       "\n",
       "#sk-container-id-1 label.sk-toggleable__label-arrow:hover:before {\n",
       "  color: var(--sklearn-color-text);\n",
       "}\n",
       "\n",
       "/* Toggleable content - dropdown */\n",
       "\n",
       "#sk-container-id-1 div.sk-toggleable__content {\n",
       "  max-height: 0;\n",
       "  max-width: 0;\n",
       "  overflow: hidden;\n",
       "  text-align: left;\n",
       "  /* unfitted */\n",
       "  background-color: var(--sklearn-color-unfitted-level-0);\n",
       "}\n",
       "\n",
       "#sk-container-id-1 div.sk-toggleable__content.fitted {\n",
       "  /* fitted */\n",
       "  background-color: var(--sklearn-color-fitted-level-0);\n",
       "}\n",
       "\n",
       "#sk-container-id-1 div.sk-toggleable__content pre {\n",
       "  margin: 0.2em;\n",
       "  border-radius: 0.25em;\n",
       "  color: var(--sklearn-color-text);\n",
       "  /* unfitted */\n",
       "  background-color: var(--sklearn-color-unfitted-level-0);\n",
       "}\n",
       "\n",
       "#sk-container-id-1 div.sk-toggleable__content.fitted pre {\n",
       "  /* unfitted */\n",
       "  background-color: var(--sklearn-color-fitted-level-0);\n",
       "}\n",
       "\n",
       "#sk-container-id-1 input.sk-toggleable__control:checked~div.sk-toggleable__content {\n",
       "  /* Expand drop-down */\n",
       "  max-height: 200px;\n",
       "  max-width: 100%;\n",
       "  overflow: auto;\n",
       "}\n",
       "\n",
       "#sk-container-id-1 input.sk-toggleable__control:checked~label.sk-toggleable__label-arrow:before {\n",
       "  content: \"▾\";\n",
       "}\n",
       "\n",
       "/* Pipeline/ColumnTransformer-specific style */\n",
       "\n",
       "#sk-container-id-1 div.sk-label input.sk-toggleable__control:checked~label.sk-toggleable__label {\n",
       "  color: var(--sklearn-color-text);\n",
       "  background-color: var(--sklearn-color-unfitted-level-2);\n",
       "}\n",
       "\n",
       "#sk-container-id-1 div.sk-label.fitted input.sk-toggleable__control:checked~label.sk-toggleable__label {\n",
       "  background-color: var(--sklearn-color-fitted-level-2);\n",
       "}\n",
       "\n",
       "/* Estimator-specific style */\n",
       "\n",
       "/* Colorize estimator box */\n",
       "#sk-container-id-1 div.sk-estimator input.sk-toggleable__control:checked~label.sk-toggleable__label {\n",
       "  /* unfitted */\n",
       "  background-color: var(--sklearn-color-unfitted-level-2);\n",
       "}\n",
       "\n",
       "#sk-container-id-1 div.sk-estimator.fitted input.sk-toggleable__control:checked~label.sk-toggleable__label {\n",
       "  /* fitted */\n",
       "  background-color: var(--sklearn-color-fitted-level-2);\n",
       "}\n",
       "\n",
       "#sk-container-id-1 div.sk-label label.sk-toggleable__label,\n",
       "#sk-container-id-1 div.sk-label label {\n",
       "  /* The background is the default theme color */\n",
       "  color: var(--sklearn-color-text-on-default-background);\n",
       "}\n",
       "\n",
       "/* On hover, darken the color of the background */\n",
       "#sk-container-id-1 div.sk-label:hover label.sk-toggleable__label {\n",
       "  color: var(--sklearn-color-text);\n",
       "  background-color: var(--sklearn-color-unfitted-level-2);\n",
       "}\n",
       "\n",
       "/* Label box, darken color on hover, fitted */\n",
       "#sk-container-id-1 div.sk-label.fitted:hover label.sk-toggleable__label.fitted {\n",
       "  color: var(--sklearn-color-text);\n",
       "  background-color: var(--sklearn-color-fitted-level-2);\n",
       "}\n",
       "\n",
       "/* Estimator label */\n",
       "\n",
       "#sk-container-id-1 div.sk-label label {\n",
       "  font-family: monospace;\n",
       "  font-weight: bold;\n",
       "  display: inline-block;\n",
       "  line-height: 1.2em;\n",
       "}\n",
       "\n",
       "#sk-container-id-1 div.sk-label-container {\n",
       "  text-align: center;\n",
       "}\n",
       "\n",
       "/* Estimator-specific */\n",
       "#sk-container-id-1 div.sk-estimator {\n",
       "  font-family: monospace;\n",
       "  border: 1px dotted var(--sklearn-color-border-box);\n",
       "  border-radius: 0.25em;\n",
       "  box-sizing: border-box;\n",
       "  margin-bottom: 0.5em;\n",
       "  /* unfitted */\n",
       "  background-color: var(--sklearn-color-unfitted-level-0);\n",
       "}\n",
       "\n",
       "#sk-container-id-1 div.sk-estimator.fitted {\n",
       "  /* fitted */\n",
       "  background-color: var(--sklearn-color-fitted-level-0);\n",
       "}\n",
       "\n",
       "/* on hover */\n",
       "#sk-container-id-1 div.sk-estimator:hover {\n",
       "  /* unfitted */\n",
       "  background-color: var(--sklearn-color-unfitted-level-2);\n",
       "}\n",
       "\n",
       "#sk-container-id-1 div.sk-estimator.fitted:hover {\n",
       "  /* fitted */\n",
       "  background-color: var(--sklearn-color-fitted-level-2);\n",
       "}\n",
       "\n",
       "/* Specification for estimator info (e.g. \"i\" and \"?\") */\n",
       "\n",
       "/* Common style for \"i\" and \"?\" */\n",
       "\n",
       ".sk-estimator-doc-link,\n",
       "a:link.sk-estimator-doc-link,\n",
       "a:visited.sk-estimator-doc-link {\n",
       "  float: right;\n",
       "  font-size: smaller;\n",
       "  line-height: 1em;\n",
       "  font-family: monospace;\n",
       "  background-color: var(--sklearn-color-background);\n",
       "  border-radius: 1em;\n",
       "  height: 1em;\n",
       "  width: 1em;\n",
       "  text-decoration: none !important;\n",
       "  margin-left: 1ex;\n",
       "  /* unfitted */\n",
       "  border: var(--sklearn-color-unfitted-level-1) 1pt solid;\n",
       "  color: var(--sklearn-color-unfitted-level-1);\n",
       "}\n",
       "\n",
       ".sk-estimator-doc-link.fitted,\n",
       "a:link.sk-estimator-doc-link.fitted,\n",
       "a:visited.sk-estimator-doc-link.fitted {\n",
       "  /* fitted */\n",
       "  border: var(--sklearn-color-fitted-level-1) 1pt solid;\n",
       "  color: var(--sklearn-color-fitted-level-1);\n",
       "}\n",
       "\n",
       "/* On hover */\n",
       "div.sk-estimator:hover .sk-estimator-doc-link:hover,\n",
       ".sk-estimator-doc-link:hover,\n",
       "div.sk-label-container:hover .sk-estimator-doc-link:hover,\n",
       ".sk-estimator-doc-link:hover {\n",
       "  /* unfitted */\n",
       "  background-color: var(--sklearn-color-unfitted-level-3);\n",
       "  color: var(--sklearn-color-background);\n",
       "  text-decoration: none;\n",
       "}\n",
       "\n",
       "div.sk-estimator.fitted:hover .sk-estimator-doc-link.fitted:hover,\n",
       ".sk-estimator-doc-link.fitted:hover,\n",
       "div.sk-label-container:hover .sk-estimator-doc-link.fitted:hover,\n",
       ".sk-estimator-doc-link.fitted:hover {\n",
       "  /* fitted */\n",
       "  background-color: var(--sklearn-color-fitted-level-3);\n",
       "  color: var(--sklearn-color-background);\n",
       "  text-decoration: none;\n",
       "}\n",
       "\n",
       "/* Span, style for the box shown on hovering the info icon */\n",
       ".sk-estimator-doc-link span {\n",
       "  display: none;\n",
       "  z-index: 9999;\n",
       "  position: relative;\n",
       "  font-weight: normal;\n",
       "  right: .2ex;\n",
       "  padding: .5ex;\n",
       "  margin: .5ex;\n",
       "  width: min-content;\n",
       "  min-width: 20ex;\n",
       "  max-width: 50ex;\n",
       "  color: var(--sklearn-color-text);\n",
       "  box-shadow: 2pt 2pt 4pt #999;\n",
       "  /* unfitted */\n",
       "  background: var(--sklearn-color-unfitted-level-0);\n",
       "  border: .5pt solid var(--sklearn-color-unfitted-level-3);\n",
       "}\n",
       "\n",
       ".sk-estimator-doc-link.fitted span {\n",
       "  /* fitted */\n",
       "  background: var(--sklearn-color-fitted-level-0);\n",
       "  border: var(--sklearn-color-fitted-level-3);\n",
       "}\n",
       "\n",
       ".sk-estimator-doc-link:hover span {\n",
       "  display: block;\n",
       "}\n",
       "\n",
       "/* \"?\"-specific style due to the `<a>` HTML tag */\n",
       "\n",
       "#sk-container-id-1 a.estimator_doc_link {\n",
       "  float: right;\n",
       "  font-size: 1rem;\n",
       "  line-height: 1em;\n",
       "  font-family: monospace;\n",
       "  background-color: var(--sklearn-color-background);\n",
       "  border-radius: 1rem;\n",
       "  height: 1rem;\n",
       "  width: 1rem;\n",
       "  text-decoration: none;\n",
       "  /* unfitted */\n",
       "  color: var(--sklearn-color-unfitted-level-1);\n",
       "  border: var(--sklearn-color-unfitted-level-1) 1pt solid;\n",
       "}\n",
       "\n",
       "#sk-container-id-1 a.estimator_doc_link.fitted {\n",
       "  /* fitted */\n",
       "  border: var(--sklearn-color-fitted-level-1) 1pt solid;\n",
       "  color: var(--sklearn-color-fitted-level-1);\n",
       "}\n",
       "\n",
       "/* On hover */\n",
       "#sk-container-id-1 a.estimator_doc_link:hover {\n",
       "  /* unfitted */\n",
       "  background-color: var(--sklearn-color-unfitted-level-3);\n",
       "  color: var(--sklearn-color-background);\n",
       "  text-decoration: none;\n",
       "}\n",
       "\n",
       "#sk-container-id-1 a.estimator_doc_link.fitted:hover {\n",
       "  /* fitted */\n",
       "  background-color: var(--sklearn-color-fitted-level-3);\n",
       "}\n",
       "</style><div id=\"sk-container-id-1\" class=\"sk-top-container\"><div class=\"sk-text-repr-fallback\"><pre>Pipeline(steps=[(&#x27;preprocessor&#x27;,\n",
       "                 ColumnTransformer(remainder=&#x27;passthrough&#x27;,\n",
       "                                   transformers=[(&#x27;ohe&#x27;,\n",
       "                                                  Pipeline(steps=[(&#x27;simpleImputer_ohe&#x27;,\n",
       "                                                                   SimpleImputer(strategy=&#x27;most_frequent&#x27;)),\n",
       "                                                                  (&#x27;ohe&#x27;,\n",
       "                                                                   OneHotEncoder(drop=&#x27;first&#x27;,\n",
       "                                                                                 handle_unknown=&#x27;ignore&#x27;,\n",
       "                                                                                 sparse_output=False))]),\n",
       "                                                  [&#x27;dayofweek&#x27;, &#x27;hour&#x27;]),\n",
       "                                                 (&#x27;num&#x27;, StandardScaler(),\n",
       "                                                  [&#x27;lag_1&#x27;, &#x27;lag_2&#x27;, &#x27;lag_3&#x27;,\n",
       "                                                   &#x27;lag_4&#x27;, &#x27;lag_5&#x27;, &#x27;lag_6&#x27;,\n",
       "                                                   &#x27;lag_7&#x27;, &#x27;lag_8&#x27;, &#x27;lag_9&#x27;,\n",
       "                                                   &#x27;lag_10&#x27;, &#x27;lag_11&#x27;, &#x27;lag_12&#x27;,\n",
       "                                                   &#x27;lag_13&#x27;, &#x27;lag_14&#x27;, &#x27;lag_15&#x27;,\n",
       "                                                   &#x27;lag_16&#x27;, &#x27;lag_17&#x27;, &#x27;lag_18&#x27;,\n",
       "                                                   &#x27;lag_19&#x27;, &#x27;lag_20&#x27;, &#x27;lag_21&#x27;,\n",
       "                                                   &#x27;lag_22&#x27;, &#x27;lag_23&#x27;, &#x27;lag_24&#x27;,\n",
       "                                                   &#x27;rolling_mean&#x27;])])),\n",
       "                (&#x27;models&#x27;, LinearRegression())])</pre><b>In a Jupyter environment, please rerun this cell to show the HTML representation or trust the notebook. <br />On GitHub, the HTML representation is unable to render, please try loading this page with nbviewer.org.</b></div><div class=\"sk-container\" hidden><div class=\"sk-item sk-dashed-wrapped\"><div class=\"sk-label-container\"><div class=\"sk-label  sk-toggleable\"><input class=\"sk-toggleable__control sk-hidden--visually\" id=\"sk-estimator-id-1\" type=\"checkbox\" ><label for=\"sk-estimator-id-1\" class=\"sk-toggleable__label  sk-toggleable__label-arrow \">&nbsp;&nbsp;Pipeline<a class=\"sk-estimator-doc-link \" rel=\"noreferrer\" target=\"_blank\" href=\"https://scikit-learn.org/1.5/modules/generated/sklearn.pipeline.Pipeline.html\">?<span>Documentation for Pipeline</span></a><span class=\"sk-estimator-doc-link \">i<span>Not fitted</span></span></label><div class=\"sk-toggleable__content \"><pre>Pipeline(steps=[(&#x27;preprocessor&#x27;,\n",
       "                 ColumnTransformer(remainder=&#x27;passthrough&#x27;,\n",
       "                                   transformers=[(&#x27;ohe&#x27;,\n",
       "                                                  Pipeline(steps=[(&#x27;simpleImputer_ohe&#x27;,\n",
       "                                                                   SimpleImputer(strategy=&#x27;most_frequent&#x27;)),\n",
       "                                                                  (&#x27;ohe&#x27;,\n",
       "                                                                   OneHotEncoder(drop=&#x27;first&#x27;,\n",
       "                                                                                 handle_unknown=&#x27;ignore&#x27;,\n",
       "                                                                                 sparse_output=False))]),\n",
       "                                                  [&#x27;dayofweek&#x27;, &#x27;hour&#x27;]),\n",
       "                                                 (&#x27;num&#x27;, StandardScaler(),\n",
       "                                                  [&#x27;lag_1&#x27;, &#x27;lag_2&#x27;, &#x27;lag_3&#x27;,\n",
       "                                                   &#x27;lag_4&#x27;, &#x27;lag_5&#x27;, &#x27;lag_6&#x27;,\n",
       "                                                   &#x27;lag_7&#x27;, &#x27;lag_8&#x27;, &#x27;lag_9&#x27;,\n",
       "                                                   &#x27;lag_10&#x27;, &#x27;lag_11&#x27;, &#x27;lag_12&#x27;,\n",
       "                                                   &#x27;lag_13&#x27;, &#x27;lag_14&#x27;, &#x27;lag_15&#x27;,\n",
       "                                                   &#x27;lag_16&#x27;, &#x27;lag_17&#x27;, &#x27;lag_18&#x27;,\n",
       "                                                   &#x27;lag_19&#x27;, &#x27;lag_20&#x27;, &#x27;lag_21&#x27;,\n",
       "                                                   &#x27;lag_22&#x27;, &#x27;lag_23&#x27;, &#x27;lag_24&#x27;,\n",
       "                                                   &#x27;rolling_mean&#x27;])])),\n",
       "                (&#x27;models&#x27;, LinearRegression())])</pre></div> </div></div><div class=\"sk-serial\"><div class=\"sk-item sk-dashed-wrapped\"><div class=\"sk-label-container\"><div class=\"sk-label  sk-toggleable\"><input class=\"sk-toggleable__control sk-hidden--visually\" id=\"sk-estimator-id-2\" type=\"checkbox\" ><label for=\"sk-estimator-id-2\" class=\"sk-toggleable__label  sk-toggleable__label-arrow \">&nbsp;preprocessor: ColumnTransformer<a class=\"sk-estimator-doc-link \" rel=\"noreferrer\" target=\"_blank\" href=\"https://scikit-learn.org/1.5/modules/generated/sklearn.compose.ColumnTransformer.html\">?<span>Documentation for preprocessor: ColumnTransformer</span></a></label><div class=\"sk-toggleable__content \"><pre>ColumnTransformer(remainder=&#x27;passthrough&#x27;,\n",
       "                  transformers=[(&#x27;ohe&#x27;,\n",
       "                                 Pipeline(steps=[(&#x27;simpleImputer_ohe&#x27;,\n",
       "                                                  SimpleImputer(strategy=&#x27;most_frequent&#x27;)),\n",
       "                                                 (&#x27;ohe&#x27;,\n",
       "                                                  OneHotEncoder(drop=&#x27;first&#x27;,\n",
       "                                                                handle_unknown=&#x27;ignore&#x27;,\n",
       "                                                                sparse_output=False))]),\n",
       "                                 [&#x27;dayofweek&#x27;, &#x27;hour&#x27;]),\n",
       "                                (&#x27;num&#x27;, StandardScaler(),\n",
       "                                 [&#x27;lag_1&#x27;, &#x27;lag_2&#x27;, &#x27;lag_3&#x27;, &#x27;lag_4&#x27;, &#x27;lag_5&#x27;,\n",
       "                                  &#x27;lag_6&#x27;, &#x27;lag_7&#x27;, &#x27;lag_8&#x27;, &#x27;lag_9&#x27;, &#x27;lag_10&#x27;,\n",
       "                                  &#x27;lag_11&#x27;, &#x27;lag_12&#x27;, &#x27;lag_13&#x27;, &#x27;lag_14&#x27;,\n",
       "                                  &#x27;lag_15&#x27;, &#x27;lag_16&#x27;, &#x27;lag_17&#x27;, &#x27;lag_18&#x27;,\n",
       "                                  &#x27;lag_19&#x27;, &#x27;lag_20&#x27;, &#x27;lag_21&#x27;, &#x27;lag_22&#x27;,\n",
       "                                  &#x27;lag_23&#x27;, &#x27;lag_24&#x27;, &#x27;rolling_mean&#x27;])])</pre></div> </div></div><div class=\"sk-parallel\"><div class=\"sk-parallel-item\"><div class=\"sk-item\"><div class=\"sk-label-container\"><div class=\"sk-label  sk-toggleable\"><input class=\"sk-toggleable__control sk-hidden--visually\" id=\"sk-estimator-id-3\" type=\"checkbox\" ><label for=\"sk-estimator-id-3\" class=\"sk-toggleable__label  sk-toggleable__label-arrow \">ohe</label><div class=\"sk-toggleable__content \"><pre>[&#x27;dayofweek&#x27;, &#x27;hour&#x27;]</pre></div> </div></div><div class=\"sk-serial\"><div class=\"sk-item\"><div class=\"sk-serial\"><div class=\"sk-item\"><div class=\"sk-estimator  sk-toggleable\"><input class=\"sk-toggleable__control sk-hidden--visually\" id=\"sk-estimator-id-4\" type=\"checkbox\" ><label for=\"sk-estimator-id-4\" class=\"sk-toggleable__label  sk-toggleable__label-arrow \">&nbsp;SimpleImputer<a class=\"sk-estimator-doc-link \" rel=\"noreferrer\" target=\"_blank\" href=\"https://scikit-learn.org/1.5/modules/generated/sklearn.impute.SimpleImputer.html\">?<span>Documentation for SimpleImputer</span></a></label><div class=\"sk-toggleable__content \"><pre>SimpleImputer(strategy=&#x27;most_frequent&#x27;)</pre></div> </div></div><div class=\"sk-item\"><div class=\"sk-estimator  sk-toggleable\"><input class=\"sk-toggleable__control sk-hidden--visually\" id=\"sk-estimator-id-5\" type=\"checkbox\" ><label for=\"sk-estimator-id-5\" class=\"sk-toggleable__label  sk-toggleable__label-arrow \">&nbsp;OneHotEncoder<a class=\"sk-estimator-doc-link \" rel=\"noreferrer\" target=\"_blank\" href=\"https://scikit-learn.org/1.5/modules/generated/sklearn.preprocessing.OneHotEncoder.html\">?<span>Documentation for OneHotEncoder</span></a></label><div class=\"sk-toggleable__content \"><pre>OneHotEncoder(drop=&#x27;first&#x27;, handle_unknown=&#x27;ignore&#x27;, sparse_output=False)</pre></div> </div></div></div></div></div></div></div><div class=\"sk-parallel-item\"><div class=\"sk-item\"><div class=\"sk-label-container\"><div class=\"sk-label  sk-toggleable\"><input class=\"sk-toggleable__control sk-hidden--visually\" id=\"sk-estimator-id-6\" type=\"checkbox\" ><label for=\"sk-estimator-id-6\" class=\"sk-toggleable__label  sk-toggleable__label-arrow \">num</label><div class=\"sk-toggleable__content \"><pre>[&#x27;lag_1&#x27;, &#x27;lag_2&#x27;, &#x27;lag_3&#x27;, &#x27;lag_4&#x27;, &#x27;lag_5&#x27;, &#x27;lag_6&#x27;, &#x27;lag_7&#x27;, &#x27;lag_8&#x27;, &#x27;lag_9&#x27;, &#x27;lag_10&#x27;, &#x27;lag_11&#x27;, &#x27;lag_12&#x27;, &#x27;lag_13&#x27;, &#x27;lag_14&#x27;, &#x27;lag_15&#x27;, &#x27;lag_16&#x27;, &#x27;lag_17&#x27;, &#x27;lag_18&#x27;, &#x27;lag_19&#x27;, &#x27;lag_20&#x27;, &#x27;lag_21&#x27;, &#x27;lag_22&#x27;, &#x27;lag_23&#x27;, &#x27;lag_24&#x27;, &#x27;rolling_mean&#x27;]</pre></div> </div></div><div class=\"sk-serial\"><div class=\"sk-item\"><div class=\"sk-estimator  sk-toggleable\"><input class=\"sk-toggleable__control sk-hidden--visually\" id=\"sk-estimator-id-7\" type=\"checkbox\" ><label for=\"sk-estimator-id-7\" class=\"sk-toggleable__label  sk-toggleable__label-arrow \">&nbsp;StandardScaler<a class=\"sk-estimator-doc-link \" rel=\"noreferrer\" target=\"_blank\" href=\"https://scikit-learn.org/1.5/modules/generated/sklearn.preprocessing.StandardScaler.html\">?<span>Documentation for StandardScaler</span></a></label><div class=\"sk-toggleable__content \"><pre>StandardScaler()</pre></div> </div></div></div></div></div><div class=\"sk-parallel-item\"><div class=\"sk-item\"><div class=\"sk-label-container\"><div class=\"sk-label  sk-toggleable\"><input class=\"sk-toggleable__control sk-hidden--visually\" id=\"sk-estimator-id-8\" type=\"checkbox\" ><label for=\"sk-estimator-id-8\" class=\"sk-toggleable__label  sk-toggleable__label-arrow \">remainder</label><div class=\"sk-toggleable__content \"><pre></pre></div> </div></div><div class=\"sk-serial\"><div class=\"sk-item\"><div class=\"sk-estimator  sk-toggleable\"><input class=\"sk-toggleable__control sk-hidden--visually\" id=\"sk-estimator-id-9\" type=\"checkbox\" ><label for=\"sk-estimator-id-9\" class=\"sk-toggleable__label  sk-toggleable__label-arrow \">passthrough</label><div class=\"sk-toggleable__content \"><pre>passthrough</pre></div> </div></div></div></div></div></div></div><div class=\"sk-item\"><div class=\"sk-estimator  sk-toggleable\"><input class=\"sk-toggleable__control sk-hidden--visually\" id=\"sk-estimator-id-10\" type=\"checkbox\" ><label for=\"sk-estimator-id-10\" class=\"sk-toggleable__label  sk-toggleable__label-arrow \">&nbsp;LinearRegression<a class=\"sk-estimator-doc-link \" rel=\"noreferrer\" target=\"_blank\" href=\"https://scikit-learn.org/1.5/modules/generated/sklearn.linear_model.LinearRegression.html\">?<span>Documentation for LinearRegression</span></a></label><div class=\"sk-toggleable__content \"><pre>LinearRegression()</pre></div> </div></div></div></div></div></div>"
      ],
      "text/plain": [
       "Pipeline(steps=[('preprocessor',\n",
       "                 ColumnTransformer(remainder='passthrough',\n",
       "                                   transformers=[('ohe',\n",
       "                                                  Pipeline(steps=[('simpleImputer_ohe',\n",
       "                                                                   SimpleImputer(strategy='most_frequent')),\n",
       "                                                                  ('ohe',\n",
       "                                                                   OneHotEncoder(drop='first',\n",
       "                                                                                 handle_unknown='ignore',\n",
       "                                                                                 sparse_output=False))]),\n",
       "                                                  ['dayofweek', 'hour']),\n",
       "                                                 ('num', StandardScaler(),\n",
       "                                                  ['lag_1', 'lag_2', 'lag_3',\n",
       "                                                   'lag_4', 'lag_5', 'lag_6',\n",
       "                                                   'lag_7', 'lag_8', 'lag_9',\n",
       "                                                   'lag_10', 'lag_11', 'lag_12',\n",
       "                                                   'lag_13', 'lag_14', 'lag_15',\n",
       "                                                   'lag_16', 'lag_17', 'lag_18',\n",
       "                                                   'lag_19', 'lag_20', 'lag_21',\n",
       "                                                   'lag_22', 'lag_23', 'lag_24',\n",
       "                                                   'rolling_mean'])])),\n",
       "                ('models', LinearRegression())])"
      ]
     },
     "execution_count": 17,
     "metadata": {},
     "output_type": "execute_result"
    }
   ],
   "source": [
    "#Создадим списпики для кодирования и масштабирования:\n",
    "\n",
    "#Список для кодирования с помощью OneHotEncoder:\n",
    "ohe_columns = ['dayofweek', 'hour']\n",
    "\n",
    "#Список для кодирования количественных перменных:\n",
    "num_columns = ['lag_{}'.format(i) for i in range(1, max_lag+1)] + ['rolling_mean']\n",
    "\n",
    "\n",
    "#SimpleImputer + OHE:\n",
    "ohe_pipe = Pipeline(\n",
    "    [\n",
    "        (\n",
    "            'simpleImputer_ohe', \n",
    "            SimpleImputer(missing_values=np.nan, strategy='most_frequent')\n",
    "        ),\n",
    "        (\n",
    "            'ohe', \n",
    "            OneHotEncoder(drop='first', handle_unknown='ignore', sparse_output=False)\n",
    "        )\n",
    "    ]\n",
    " )\n",
    "\n",
    "\n",
    "#Создаем общий пайплайн для подготовки данных:\n",
    "data_preprocessor = ColumnTransformer(\n",
    "    [\n",
    "        ('ohe', ohe_pipe, ohe_columns),        \n",
    "        ('num', StandardScaler(), num_columns)    \n",
    "    ], \n",
    "    remainder =  'passthrough'\n",
    ")\n",
    "\n",
    "#Создаем финальный пайплайн, в котором будем перебирать методы масштабирования и различные модели:\n",
    "\n",
    "pipe = Pipeline(\n",
    "    [\n",
    "        ('preprocessor', data_preprocessor),\n",
    "        ('models', LinearRegression())\n",
    "    ]\n",
    ")\n",
    "\n",
    "#Вызовем финальный пайплайн:\n",
    "pipe"
   ]
  },
  {
   "cell_type": "markdown",
   "metadata": {},
   "source": [
    "### Перебор параметров и обучение модели"
   ]
  },
  {
   "cell_type": "markdown",
   "metadata": {},
   "source": [
    "> Использовать обычныю кросс-валидацию мы не можешь, т.к. данные будут перемешиваться, для этого используем специальное разделение на блоки из библиотеки *sklearn.model_selection* ***TimeSeriesSplit***, данная функция принимает аргумент ***n_split*** - количество K-fold, как при кросс валидации"
   ]
  },
  {
   "cell_type": "code",
   "execution_count": 18,
   "metadata": {},
   "outputs": [],
   "source": [
    "# Используем TimeSeriesSplit для кросс-валидации\n",
    "tscv = TimeSeriesSplit(n_splits=5)\n",
    "\n",
    "#Задаем метрику RMSE:\n",
    "rmse_scorer = make_scorer(mean_squared_error, squared=False, greater_is_better=False)"
   ]
  },
  {
   "cell_type": "markdown",
   "metadata": {},
   "source": [
    "#### Модель линейной регрессии"
   ]
  },
  {
   "cell_type": "code",
   "execution_count": 19,
   "metadata": {},
   "outputs": [
    {
     "name": "stdout",
     "output_type": "stream",
     "text": [
      "Модель Линейной регрессии:\n",
      "-------------------------\n",
      "Лучшая модель и её гиперпараметры: Pipeline(steps=[('preprocessor',\n",
      "                 ColumnTransformer(remainder='passthrough',\n",
      "                                   transformers=[('ohe',\n",
      "                                                  Pipeline(steps=[('simpleImputer_ohe',\n",
      "                                                                   SimpleImputer(strategy='most_frequent')),\n",
      "                                                                  ('ohe',\n",
      "                                                                   OneHotEncoder(drop='first',\n",
      "                                                                                 handle_unknown='ignore',\n",
      "                                                                                 sparse_output=False))]),\n",
      "                                                  ['dayofweek', 'hour']),\n",
      "                                                 ('num', MinMaxScaler(),\n",
      "                                                  ['lag_1', 'lag_2', 'lag_3',\n",
      "                                                   'lag_4', 'lag_5', 'lag_6',\n",
      "                                                   'lag_7', 'lag_8', 'lag_9',\n",
      "                                                   'lag_10', 'lag_11', 'lag_12',\n",
      "                                                   'lag_13', 'lag_14', 'lag_15',\n",
      "                                                   'lag_16', 'lag_17', 'lag_18',\n",
      "                                                   'lag_19', 'lag_20', 'lag_21',\n",
      "                                                   'lag_22', 'lag_23', 'lag_24',\n",
      "                                                   'rolling_mean'])])),\n",
      "                ('models', LinearRegression())])\n",
      "-------------------------\n",
      "Лучшая метрика RMSE на кросс-валидации: 25\n"
     ]
    }
   ],
   "source": [
    "#Перебор методов масштабирования и гиперпараметров: \n",
    "param_distributions = [  \n",
    "    {'models': [LinearRegression()],          \n",
    "     'preprocessor__num': [StandardScaler(), MinMaxScaler(), 'passthrough']}]\n",
    "\n",
    "#Поиск гиперпараметров:    \n",
    "randomized_search = RandomizedSearchCV(\n",
    "    pipe, \n",
    "    param_distributions=param_distributions, \n",
    "    cv=tscv,\n",
    "    random_state=RANDOM_STATE,   \n",
    "    scoring=rmse_scorer,    \n",
    "    n_jobs=-1\n",
    ")\n",
    "\n",
    "#Обучение модели:\n",
    "randomized_search.fit(X_train, y_train)\n",
    "\n",
    "#Лучшая модель\n",
    "model_linear = randomized_search.best_estimator_\n",
    "\n",
    "#Лучшая метрика RMSE\n",
    "best_score_linear_model = randomized_search.best_score_\n",
    "\n",
    "print('Модель Линейной регрессии:')\n",
    "print('-'*25)\n",
    "print(f'Лучшая модель и её гиперпараметры: {model_linear}')\n",
    "print('-'*25)\n",
    "print(f'Лучшая метрика RMSE на кросс-валидации: {abs(round(best_score_linear_model))}')"
   ]
  },
  {
   "cell_type": "markdown",
   "metadata": {},
   "source": [
    "#### Модель DecisionTreeRegressor"
   ]
  },
  {
   "cell_type": "code",
   "execution_count": 20,
   "metadata": {},
   "outputs": [
    {
     "name": "stdout",
     "output_type": "stream",
     "text": [
      "Модель DecisionTreeRegressor:\n",
      "-------------------------\n",
      "Лучшая модель и её гиперпараметры: Pipeline(steps=[('preprocessor',\n",
      "                 ColumnTransformer(remainder='passthrough',\n",
      "                                   transformers=[('ohe',\n",
      "                                                  Pipeline(steps=[('simpleImputer_ohe',\n",
      "                                                                   SimpleImputer(strategy='most_frequent')),\n",
      "                                                                  ('ohe',\n",
      "                                                                   OneHotEncoder(drop='first',\n",
      "                                                                                 handle_unknown='ignore',\n",
      "                                                                                 sparse_output=False))]),\n",
      "                                                  ['dayofweek', 'hour']),\n",
      "                                                 ('num', StandardScaler(),\n",
      "                                                  ['lag_1', 'lag_2', 'lag_3',\n",
      "                                                   'lag_4', 'lag_5', 'lag_6',\n",
      "                                                   'lag_7', 'lag_8', 'lag_9',\n",
      "                                                   'lag_10', 'lag_11', 'lag_12',\n",
      "                                                   'lag_13', 'lag_14', 'lag_15',\n",
      "                                                   'lag_16', 'lag_17', 'lag_18',\n",
      "                                                   'lag_19', 'lag_20', 'lag_21',\n",
      "                                                   'lag_22', 'lag_23', 'lag_24',\n",
      "                                                   'rolling_mean'])])),\n",
      "                ('models',\n",
      "                 DecisionTreeRegressor(max_depth=4, min_samples_leaf=7,\n",
      "                                       min_samples_split=3, random_state=42))])\n",
      "-------------------------\n",
      "Лучшая метрика RMSE на кросс-валидации: 30\n"
     ]
    }
   ],
   "source": [
    "#Перебор методов масштабирования и гиперпараметров: \n",
    "param_distributions = [  \n",
    "    {'models': [DecisionTreeRegressor(random_state=RANDOM_STATE)],\n",
    "     'models__max_depth': range(1,10),\n",
    "     'models__min_samples_split': range(2,10),\n",
    "     'models__min_samples_leaf': range(2,10),     \n",
    "     'preprocessor__num': [StandardScaler(), 'passthrough']}]\n",
    "\n",
    "#Поиск гиперпараметров:    \n",
    "randomized_search = RandomizedSearchCV(\n",
    "    pipe, \n",
    "    param_distributions=param_distributions, \n",
    "    cv=tscv,\n",
    "    random_state=RANDOM_STATE,   \n",
    "    scoring=rmse_scorer,    \n",
    "    n_jobs=-1\n",
    ")\n",
    "\n",
    "#Обучение модели:\n",
    "randomized_search.fit(X_train, y_train)\n",
    "\n",
    "#Лучшая модель\n",
    "model_tree = randomized_search.best_estimator_\n",
    "\n",
    "#Лучшая метрика RMSE\n",
    "best_score_tree_model = randomized_search.best_score_\n",
    "\n",
    "print('Модель DecisionTreeRegressor:')\n",
    "print('-'*25)\n",
    "print(f'Лучшая модель и её гиперпараметры: {model_tree}')\n",
    "print('-'*25)\n",
    "print(f'Лучшая метрика RMSE на кросс-валидации: {abs(round(best_score_tree_model))}')"
   ]
  },
  {
   "cell_type": "markdown",
   "metadata": {},
   "source": [
    "#### Модель LightGBM"
   ]
  },
  {
   "cell_type": "code",
   "execution_count": 21,
   "metadata": {},
   "outputs": [
    {
     "name": "stdout",
     "output_type": "stream",
     "text": [
      "Модель LightGBM:\n",
      "-------------------------\n",
      "Лучшая модель и её гиперпараметры: Pipeline(steps=[('preprocessor',\n",
      "                 ColumnTransformer(remainder='passthrough',\n",
      "                                   transformers=[('ohe',\n",
      "                                                  Pipeline(steps=[('simpleImputer_ohe',\n",
      "                                                                   SimpleImputer(strategy='most_frequent')),\n",
      "                                                                  ('ohe',\n",
      "                                                                   OneHotEncoder(drop='first',\n",
      "                                                                                 handle_unknown='ignore',\n",
      "                                                                                 sparse_output=False))]),\n",
      "                                                  ['dayofweek', 'hour']),\n",
      "                                                 ('num', MinMaxScaler(),\n",
      "                                                  ['lag_1', 'lag_2', 'lag_3',\n",
      "                                                   'lag_4', 'lag_5', 'lag_6',\n",
      "                                                   'lag_7', 'lag_8', 'lag_9',\n",
      "                                                   'lag_10', 'lag_11', 'lag_12',\n",
      "                                                   'lag_13', 'lag_14', 'lag_15',\n",
      "                                                   'lag_16', 'lag_17', 'lag_18',\n",
      "                                                   'lag_19', 'lag_20', 'lag_21',\n",
      "                                                   'lag_22', 'lag_23', 'lag_24',\n",
      "                                                   'rolling_mean'])])),\n",
      "                ('models',\n",
      "                 LGBMRegressor(learning_rate=0.3, max_depth=3, n_estimators=10,\n",
      "                               num_leaves=30))])\n",
      "-------------------------\n",
      "Лучшая метрика RMSE на кросс-валидации: 27\n"
     ]
    }
   ],
   "source": [
    "#Перебор методов масштабирования и гиперпараметров: \n",
    "param_distributions = [  \n",
    "    {'models': [LGBMRegressor(max_depth=3, n_estimators=10)],\n",
    "     'models__num_leaves': [20, 30],\n",
    "     'models__learning_rate': [0.2, 0.3],     \n",
    "     'preprocessor__num': [StandardScaler(), MinMaxScaler(), 'passthrough']}]\n",
    "\n",
    "#Поиск гиперпараметров:\n",
    "    \n",
    "randomized_search = RandomizedSearchCV(\n",
    "    pipe, \n",
    "    param_distributions=param_distributions, \n",
    "    cv=tscv,    \n",
    "    random_state=RANDOM_STATE,\n",
    "    scoring=rmse_scorer,\n",
    "    n_iter=10,\n",
    "    n_jobs=1\n",
    ")\n",
    "\n",
    "#Обучение модели:\n",
    "randomized_search.fit(X_train, y_train)\n",
    "\n",
    "#Лучшая модель\n",
    "model_lgbm = randomized_search.best_estimator_\n",
    "\n",
    "#Лучшая метрика RMSE\n",
    "best_score_lgbm_model = randomized_search.best_score_\n",
    "\n",
    "print('Модель LightGBM:')\n",
    "print('-'*25)\n",
    "print(f'Лучшая модель и её гиперпараметры: {model_lgbm}')\n",
    "print('-'*25)\n",
    "print(f'Лучшая метрика RMSE на кросс-валидации: {abs(round(best_score_lgbm_model))}')"
   ]
  },
  {
   "cell_type": "markdown",
   "metadata": {},
   "source": [
    "## Тестирование"
   ]
  },
  {
   "cell_type": "markdown",
   "metadata": {},
   "source": [
    "В результате обучения трёх моделей лучшую метрику RMSE показала модель линейной регрессии - именно эту модель мы будем использовать для предсказаний значений тестовой выборки:"
   ]
  },
  {
   "cell_type": "code",
   "execution_count": 22,
   "metadata": {},
   "outputs": [
    {
     "name": "stdout",
     "output_type": "stream",
     "text": [
      "Модель Линейной регрессии:\n",
      "Значение метрики RMSE (лучшей модели) на тесте: 41.91\n"
     ]
    }
   ],
   "source": [
    "#Делаем предикты по лучшей модели:\n",
    "y_pred_linear_reg = model_linear.predict(X_test)\n",
    "\n",
    "#Метрика RMSE на тестовых данных:\n",
    "print('Модель Линейной регрессии:')\n",
    "print(f'Значение метрики RMSE (лучшей модели) на тесте: {round(root_mean_squared_error(y_pred_linear_reg, y_test),2)}')"
   ]
  },
  {
   "cell_type": "markdown",
   "metadata": {},
   "source": [
    "Значение метрики RMSE на тестовых данных оказалось меньше 48, что подходит под требования заказчика"
   ]
  },
  {
   "cell_type": "markdown",
   "metadata": {},
   "source": [
    "## Вывод"
   ]
  },
  {
   "cell_type": "markdown",
   "metadata": {},
   "source": [
    "**Постановленная задача**\n",
    "\n",
    "Компания «Чётенькое такси» собрала исторические данные о заказах такси в аэропортах. Чтобы привлекать больше водителей в период пиковой нагрузки, нужно спрогнозировать количество заказов такси на следующий час. Постройте модель для такого предсказания.\n",
    "Значение метрики RMSE на тестовой выборке должно быть не больше 48.\n",
    "\n",
    "---\n",
    "\n",
    "**Шаг №1. Подготовка данных**\n",
    "\n",
    "Обработка исходного CSV-файла c данными о количестве заказов такси. В результате выгрузки данных получили сравнительно небольшой датафрейм состоящий из двух столбцов `num_orders` (количество заказов такси) и `datetime` (временной ряд), размер самого датафрейма - **26496 строк**. \n",
    "\n",
    "Для дальнейшего прогнозирования потребовалась проверка на монотонность временного ряда, а также изменение интервала наблюдейний (ресемплирование данных на интервал в 1 час).\n",
    "\n",
    "---\n",
    "\n",
    "**Шаг №2. Анализ модели**\n",
    "\n",
    "Данные выгружены за полгода с начала марта и по конец августа 2018 года.\n",
    "\n",
    "Для детального анализа были разобраны тренды, сезонность и остатки, которые показали, что под конец временного периода наблюдается увеличение разброса и количества заказов.\n",
    "\n",
    "Построен общий график временного ряда, исходя из его анализа он оказался - **нестационарным** (по таким графима сложно делать предсказания), поэтому было решено привести его к стационарному виду с помощью разности временных рядов со сдвигом в 1 позицию.\n",
    "\n",
    "---\n",
    "\n",
    "\n",
    "**Шаг №3. Обучение модели**\n",
    "\n",
    "Для обучения мы использовали следующие модели:\n",
    "\n",
    "- Линейная регрессия\n",
    "\n",
    "- Дерево регрессий \n",
    "\n",
    "- LightGBM\n",
    "\n",
    "Для каждой из моделей был сделан перебор гиперпараметров и выявлена лучшая метрика RMSE и лучшая модель. Т.к. использовать обычную кросс-валидацию для временного ряда нельзя из-за перемешивания параметров, мы использовали разделение специальной функцией `TimeSeriesSplit` из sklearn, которая предназначена для работы с временными рядами\n",
    "\n",
    "---\n",
    "\n",
    "**Шаг №4. Тестирование**\n",
    "\n",
    "В результате обучения трёх моделей лучшую метрику RMSE показала модель линейной регрессии - именно эту модель мы будем использовать для предсказаний значений тестовой выборки:\n",
    "\n",
    "> **Метрика RMSE** на тесте: **41.91**\n",
    "\n",
    "Значение метрики RMSE на тестовых данных оказалось меньше 48, что подходит под требования заказчика. Данную модель можно использовать для предсказания количества заказов такси в будущем. \n",
    "\n",
    "\n",
    "Исходя из полученных результатов и требования заказчика (метрика по RMSE меньше 48), можно выделить модель линейной регрессии, которая показала лучшие значения метрики как на кросс-валидации, так и на тетовой выборке"
   ]
  },
  {
   "cell_type": "markdown",
   "metadata": {},
   "source": [
    "## Чек-лист проверки"
   ]
  },
  {
   "cell_type": "markdown",
   "metadata": {},
   "source": [
    "- [x]  Jupyter Notebook открыт\n",
    "- [x]  Весь код выполняется без ошибок\n",
    "- [x]  Ячейки с кодом расположены в порядке исполнения\n",
    "- [x]  Данные загружены и подготовлены\n",
    "- [x]  Данные проанализированы\n",
    "- [x]  Модель обучена, гиперпараметры подобраны\n",
    "- [x]  Качество моделей проверено, выводы сделаны\n",
    "- [x]  Значение *RMSE* на тестовой выборке не больше 48"
   ]
  }
 ],
 "metadata": {
  "ExecuteTimeLog": [
   {
    "duration": 454,
    "start_time": "2024-07-15T16:47:55.072Z"
   },
   {
    "duration": 3,
    "start_time": "2024-07-15T16:52:12.336Z"
   },
   {
    "duration": 74,
    "start_time": "2024-07-15T17:00:22.457Z"
   },
   {
    "duration": 91,
    "start_time": "2024-07-15T17:02:59.833Z"
   },
   {
    "duration": 45,
    "start_time": "2024-07-15T17:03:31.728Z"
   },
   {
    "duration": 2,
    "start_time": "2024-07-15T17:04:02.744Z"
   },
   {
    "duration": 42,
    "start_time": "2024-07-15T17:04:52.654Z"
   },
   {
    "duration": 14,
    "start_time": "2024-07-15T17:07:50.360Z"
   },
   {
    "duration": 12,
    "start_time": "2024-07-15T17:08:07.125Z"
   },
   {
    "duration": 10,
    "start_time": "2024-07-15T17:09:52.307Z"
   },
   {
    "duration": 12,
    "start_time": "2024-07-15T17:09:52.628Z"
   },
   {
    "duration": 47,
    "start_time": "2024-07-15T17:13:14.441Z"
   },
   {
    "duration": 8,
    "start_time": "2024-07-15T17:13:15.613Z"
   },
   {
    "duration": 13,
    "start_time": "2024-07-15T17:13:17.757Z"
   },
   {
    "duration": 5,
    "start_time": "2024-07-15T17:20:08.625Z"
   },
   {
    "duration": 88,
    "start_time": "2024-07-15T17:34:35.652Z"
   },
   {
    "duration": 17,
    "start_time": "2024-07-15T17:34:47.492Z"
   },
   {
    "duration": 13,
    "start_time": "2024-07-15T17:35:35.402Z"
   },
   {
    "duration": 391,
    "start_time": "2024-07-15T17:35:43.611Z"
   },
   {
    "duration": 53,
    "start_time": "2024-07-15T17:35:44.004Z"
   },
   {
    "duration": 15,
    "start_time": "2024-07-15T17:35:44.059Z"
   },
   {
    "duration": 14,
    "start_time": "2024-07-15T17:35:44.075Z"
   },
   {
    "duration": 4,
    "start_time": "2024-07-15T17:35:44.092Z"
   },
   {
    "duration": 15,
    "start_time": "2024-07-15T17:35:44.098Z"
   },
   {
    "duration": 9,
    "start_time": "2024-07-15T17:36:28.942Z"
   },
   {
    "duration": 4,
    "start_time": "2024-07-15T17:36:38.287Z"
   },
   {
    "duration": 11,
    "start_time": "2024-07-15T17:37:46.960Z"
   },
   {
    "duration": 5,
    "start_time": "2024-07-15T17:37:55.286Z"
   },
   {
    "duration": 454,
    "start_time": "2024-07-15T17:44:56.912Z"
   },
   {
    "duration": 10,
    "start_time": "2024-07-15T17:46:41.757Z"
   },
   {
    "duration": 669,
    "start_time": "2024-07-15T17:47:08.696Z"
   },
   {
    "duration": 214,
    "start_time": "2024-07-15T17:48:39.973Z"
   },
   {
    "duration": 3,
    "start_time": "2024-07-15T17:49:28.599Z"
   },
   {
    "duration": 231,
    "start_time": "2024-07-15T17:49:55.927Z"
   },
   {
    "duration": 251,
    "start_time": "2024-07-15T17:50:10.061Z"
   },
   {
    "duration": 308,
    "start_time": "2024-07-15T17:50:15.823Z"
   },
   {
    "duration": 221,
    "start_time": "2024-07-15T17:50:25.745Z"
   },
   {
    "duration": 217,
    "start_time": "2024-07-15T17:55:58.153Z"
   },
   {
    "duration": 262,
    "start_time": "2024-07-15T17:56:55.719Z"
   },
   {
    "duration": 236,
    "start_time": "2024-07-15T17:57:08.025Z"
   },
   {
    "duration": 279,
    "start_time": "2024-07-15T17:57:14.669Z"
   },
   {
    "duration": 398,
    "start_time": "2024-07-15T17:57:23.090Z"
   },
   {
    "duration": 297,
    "start_time": "2024-07-15T17:59:49.243Z"
   },
   {
    "duration": 194,
    "start_time": "2024-07-15T17:59:55.061Z"
   },
   {
    "duration": 309,
    "start_time": "2024-07-15T18:00:01.593Z"
   },
   {
    "duration": 459,
    "start_time": "2024-07-15T18:00:08.575Z"
   },
   {
    "duration": 403,
    "start_time": "2024-07-15T18:00:19.697Z"
   },
   {
    "duration": 416,
    "start_time": "2024-07-15T18:00:28.122Z"
   },
   {
    "duration": 276,
    "start_time": "2024-07-15T18:00:36.128Z"
   },
   {
    "duration": 12,
    "start_time": "2024-07-15T18:02:31.495Z"
   },
   {
    "duration": 5,
    "start_time": "2024-07-15T18:04:59.966Z"
   },
   {
    "duration": 12,
    "start_time": "2024-07-15T18:06:29.112Z"
   },
   {
    "duration": 8,
    "start_time": "2024-07-15T18:06:34.341Z"
   },
   {
    "duration": 5,
    "start_time": "2024-07-15T18:06:43.358Z"
   },
   {
    "duration": 5,
    "start_time": "2024-07-15T18:06:59.638Z"
   },
   {
    "duration": 5,
    "start_time": "2024-07-15T18:07:15.159Z"
   },
   {
    "duration": 10,
    "start_time": "2024-07-15T18:07:22.679Z"
   },
   {
    "duration": 9,
    "start_time": "2024-07-15T18:07:26.754Z"
   },
   {
    "duration": 4,
    "start_time": "2024-07-15T18:07:29.721Z"
   },
   {
    "duration": 4,
    "start_time": "2024-07-15T18:07:43.114Z"
   },
   {
    "duration": 4,
    "start_time": "2024-07-15T18:08:06.545Z"
   },
   {
    "duration": 4,
    "start_time": "2024-07-15T18:08:12.512Z"
   },
   {
    "duration": 5,
    "start_time": "2024-07-15T18:08:25.423Z"
   },
   {
    "duration": 4,
    "start_time": "2024-07-15T18:08:36.563Z"
   },
   {
    "duration": 5,
    "start_time": "2024-07-15T18:08:45.974Z"
   },
   {
    "duration": 4,
    "start_time": "2024-07-15T18:08:50.635Z"
   },
   {
    "duration": 4,
    "start_time": "2024-07-15T18:09:07.216Z"
   },
   {
    "duration": 286,
    "start_time": "2024-07-15T18:18:11.916Z"
   },
   {
    "duration": 401,
    "start_time": "2024-07-15T18:18:18.904Z"
   },
   {
    "duration": 306,
    "start_time": "2024-07-15T18:35:39.030Z"
   },
   {
    "duration": 281,
    "start_time": "2024-07-15T18:36:03.210Z"
   },
   {
    "duration": 345,
    "start_time": "2024-07-15T18:36:09.653Z"
   },
   {
    "duration": 287,
    "start_time": "2024-07-15T18:37:10.193Z"
   },
   {
    "duration": 72,
    "start_time": "2024-07-15T18:37:32.680Z"
   },
   {
    "duration": 310,
    "start_time": "2024-07-15T18:37:37.571Z"
   },
   {
    "duration": 399,
    "start_time": "2024-07-15T18:38:53.471Z"
   },
   {
    "duration": 618,
    "start_time": "2024-07-15T18:39:23.772Z"
   },
   {
    "duration": 282,
    "start_time": "2024-07-15T18:39:40.551Z"
   },
   {
    "duration": 314,
    "start_time": "2024-07-15T18:39:46.708Z"
   },
   {
    "duration": 283,
    "start_time": "2024-07-15T18:40:33.387Z"
   },
   {
    "duration": 5,
    "start_time": "2024-07-15T18:44:30.760Z"
   },
   {
    "duration": 9,
    "start_time": "2024-07-15T18:44:47.282Z"
   },
   {
    "duration": 9,
    "start_time": "2024-07-15T18:44:50.286Z"
   },
   {
    "duration": 10,
    "start_time": "2024-07-15T18:44:55.439Z"
   },
   {
    "duration": 4,
    "start_time": "2024-07-15T18:44:59.816Z"
   },
   {
    "duration": 3,
    "start_time": "2024-07-15T18:46:18.103Z"
   },
   {
    "duration": 6,
    "start_time": "2024-07-15T18:46:25.677Z"
   },
   {
    "duration": 4,
    "start_time": "2024-07-15T18:46:38.035Z"
   },
   {
    "duration": 9,
    "start_time": "2024-07-15T18:46:48.715Z"
   },
   {
    "duration": 4,
    "start_time": "2024-07-15T18:46:58.316Z"
   },
   {
    "duration": 9,
    "start_time": "2024-07-15T18:48:21.822Z"
   },
   {
    "duration": 8,
    "start_time": "2024-07-15T18:48:27.908Z"
   },
   {
    "duration": 4,
    "start_time": "2024-07-15T18:48:36.343Z"
   },
   {
    "duration": 393,
    "start_time": "2024-07-15T18:51:07.099Z"
   },
   {
    "duration": 16,
    "start_time": "2024-07-15T18:54:54.332Z"
   },
   {
    "duration": 9,
    "start_time": "2024-07-15T18:55:15.794Z"
   },
   {
    "duration": 16,
    "start_time": "2024-07-15T18:55:54.154Z"
   },
   {
    "duration": 14,
    "start_time": "2024-07-15T18:56:11.270Z"
   },
   {
    "duration": 138,
    "start_time": "2024-07-15T18:56:19.611Z"
   },
   {
    "duration": 923,
    "start_time": "2024-07-15T18:56:34.964Z"
   },
   {
    "duration": 15,
    "start_time": "2024-07-15T18:57:47.466Z"
   },
   {
    "duration": 948,
    "start_time": "2024-07-15T19:00:16.525Z"
   },
   {
    "duration": 909,
    "start_time": "2024-07-15T19:00:29.501Z"
   },
   {
    "duration": 7,
    "start_time": "2024-07-15T19:14:10.125Z"
   },
   {
    "duration": 363,
    "start_time": "2024-07-15T19:14:11.239Z"
   },
   {
    "duration": 6,
    "start_time": "2024-07-15T19:14:29.822Z"
   },
   {
    "duration": 445,
    "start_time": "2024-07-15T19:14:32.636Z"
   },
   {
    "duration": 5,
    "start_time": "2024-07-15T19:14:41.423Z"
   },
   {
    "duration": 5,
    "start_time": "2024-07-15T19:14:53.373Z"
   },
   {
    "duration": 4,
    "start_time": "2024-07-15T19:15:04.993Z"
   },
   {
    "duration": 331,
    "start_time": "2024-07-15T19:15:06.032Z"
   },
   {
    "duration": 15,
    "start_time": "2024-07-15T19:17:05.371Z"
   },
   {
    "duration": 12,
    "start_time": "2024-07-15T19:17:10.690Z"
   },
   {
    "duration": 1150,
    "start_time": "2024-07-15T19:18:07.257Z"
   },
   {
    "duration": 124,
    "start_time": "2024-07-15T19:18:08.409Z"
   },
   {
    "duration": 11,
    "start_time": "2024-07-15T19:18:08.535Z"
   },
   {
    "duration": 12,
    "start_time": "2024-07-15T19:18:08.548Z"
   },
   {
    "duration": 8,
    "start_time": "2024-07-15T19:18:08.564Z"
   },
   {
    "duration": 13,
    "start_time": "2024-07-15T19:18:08.574Z"
   },
   {
    "duration": 4,
    "start_time": "2024-07-15T19:18:08.588Z"
   },
   {
    "duration": 964,
    "start_time": "2024-07-15T19:18:08.593Z"
   },
   {
    "duration": 7,
    "start_time": "2024-07-15T19:18:09.559Z"
   },
   {
    "duration": 372,
    "start_time": "2024-07-15T19:18:09.567Z"
   },
   {
    "duration": 125,
    "start_time": "2024-07-15T21:56:01.845Z"
   },
   {
    "duration": 1114,
    "start_time": "2024-07-15T21:56:09.880Z"
   },
   {
    "duration": 6,
    "start_time": "2024-07-15T21:58:47.287Z"
   },
   {
    "duration": 460,
    "start_time": "2024-07-15T21:58:48.563Z"
   },
   {
    "duration": 407,
    "start_time": "2024-07-15T21:59:02.315Z"
   },
   {
    "duration": 5,
    "start_time": "2024-07-15T21:59:16.610Z"
   },
   {
    "duration": 5,
    "start_time": "2024-07-15T21:59:19.069Z"
   },
   {
    "duration": 399,
    "start_time": "2024-07-15T21:59:19.698Z"
   },
   {
    "duration": 5,
    "start_time": "2024-07-15T21:59:28.429Z"
   },
   {
    "duration": 392,
    "start_time": "2024-07-15T21:59:29.116Z"
   },
   {
    "duration": 4,
    "start_time": "2024-07-15T21:59:35.843Z"
   },
   {
    "duration": 449,
    "start_time": "2024-07-15T21:59:37.187Z"
   },
   {
    "duration": 4,
    "start_time": "2024-07-15T21:59:43.940Z"
   },
   {
    "duration": 390,
    "start_time": "2024-07-15T21:59:44.644Z"
   },
   {
    "duration": 5,
    "start_time": "2024-07-15T22:00:22.803Z"
   },
   {
    "duration": 388,
    "start_time": "2024-07-15T22:00:23.270Z"
   },
   {
    "duration": 5,
    "start_time": "2024-07-15T22:00:31.552Z"
   },
   {
    "duration": 382,
    "start_time": "2024-07-15T22:00:31.969Z"
   },
   {
    "duration": 5,
    "start_time": "2024-07-15T22:00:43.299Z"
   },
   {
    "duration": 483,
    "start_time": "2024-07-15T22:00:43.899Z"
   },
   {
    "duration": 6,
    "start_time": "2024-07-15T22:01:35.763Z"
   },
   {
    "duration": 376,
    "start_time": "2024-07-15T22:01:36.806Z"
   },
   {
    "duration": 54,
    "start_time": "2024-07-16T16:30:31.703Z"
   },
   {
    "duration": 1149,
    "start_time": "2024-07-16T16:30:45.047Z"
   },
   {
    "duration": 99,
    "start_time": "2024-07-16T16:30:46.197Z"
   },
   {
    "duration": 8,
    "start_time": "2024-07-16T16:30:46.297Z"
   },
   {
    "duration": 24,
    "start_time": "2024-07-16T16:30:46.306Z"
   },
   {
    "duration": 13,
    "start_time": "2024-07-16T16:30:46.332Z"
   },
   {
    "duration": 12,
    "start_time": "2024-07-16T16:30:46.346Z"
   },
   {
    "duration": 7,
    "start_time": "2024-07-16T16:30:46.359Z"
   },
   {
    "duration": 779,
    "start_time": "2024-07-16T16:30:46.367Z"
   },
   {
    "duration": 413,
    "start_time": "2024-07-16T16:30:47.147Z"
   },
   {
    "duration": 3,
    "start_time": "2024-07-16T16:47:42.227Z"
   },
   {
    "duration": 342,
    "start_time": "2024-07-16T16:47:49.823Z"
   },
   {
    "duration": 334,
    "start_time": "2024-07-16T16:53:25.164Z"
   },
   {
    "duration": 89,
    "start_time": "2024-07-16T16:55:10.822Z"
   },
   {
    "duration": 327,
    "start_time": "2024-07-16T16:56:02.092Z"
   },
   {
    "duration": 8,
    "start_time": "2024-07-16T17:08:28.668Z"
   },
   {
    "duration": 8,
    "start_time": "2024-07-16T17:13:09.023Z"
   },
   {
    "duration": 24,
    "start_time": "2024-07-16T17:13:14.739Z"
   },
   {
    "duration": 15,
    "start_time": "2024-07-16T17:13:27.006Z"
   },
   {
    "duration": 21,
    "start_time": "2024-07-16T17:13:34.941Z"
   },
   {
    "duration": 6,
    "start_time": "2024-07-16T17:13:49.097Z"
   },
   {
    "duration": 6,
    "start_time": "2024-07-16T17:13:52.227Z"
   },
   {
    "duration": 30,
    "start_time": "2024-07-16T17:13:52.715Z"
   },
   {
    "duration": 1249,
    "start_time": "2024-07-16T17:14:24.824Z"
   },
   {
    "duration": 90,
    "start_time": "2024-07-16T17:14:26.074Z"
   },
   {
    "duration": 9,
    "start_time": "2024-07-16T17:14:26.165Z"
   },
   {
    "duration": 24,
    "start_time": "2024-07-16T17:14:26.177Z"
   },
   {
    "duration": 4,
    "start_time": "2024-07-16T17:14:26.203Z"
   },
   {
    "duration": 14,
    "start_time": "2024-07-16T17:14:26.208Z"
   },
   {
    "duration": 16,
    "start_time": "2024-07-16T17:14:26.224Z"
   },
   {
    "duration": 872,
    "start_time": "2024-07-16T17:14:26.242Z"
   },
   {
    "duration": 334,
    "start_time": "2024-07-16T17:14:27.116Z"
   },
   {
    "duration": 378,
    "start_time": "2024-07-16T17:14:27.452Z"
   },
   {
    "duration": 10,
    "start_time": "2024-07-16T17:14:27.832Z"
   },
   {
    "duration": 22,
    "start_time": "2024-07-16T17:14:27.843Z"
   },
   {
    "duration": 964,
    "start_time": "2024-07-16T17:17:35.131Z"
   },
   {
    "duration": 87,
    "start_time": "2024-07-16T17:17:36.097Z"
   },
   {
    "duration": 9,
    "start_time": "2024-07-16T17:17:36.185Z"
   },
   {
    "duration": 9,
    "start_time": "2024-07-16T17:17:36.195Z"
   },
   {
    "duration": 3,
    "start_time": "2024-07-16T17:17:36.205Z"
   },
   {
    "duration": 13,
    "start_time": "2024-07-16T17:17:36.209Z"
   },
   {
    "duration": 3,
    "start_time": "2024-07-16T17:17:36.223Z"
   },
   {
    "duration": 816,
    "start_time": "2024-07-16T17:17:36.227Z"
   },
   {
    "duration": 7,
    "start_time": "2024-07-16T17:17:37.044Z"
   },
   {
    "duration": 332,
    "start_time": "2024-07-16T17:17:37.053Z"
   },
   {
    "duration": 16,
    "start_time": "2024-07-16T17:17:37.386Z"
   },
   {
    "duration": 365,
    "start_time": "2024-07-16T17:17:37.404Z"
   },
   {
    "duration": 8,
    "start_time": "2024-07-16T17:17:37.770Z"
   },
   {
    "duration": 32,
    "start_time": "2024-07-16T17:17:37.779Z"
   },
   {
    "duration": 4,
    "start_time": "2024-07-16T17:20:39.526Z"
   },
   {
    "duration": 987,
    "start_time": "2024-07-16T17:24:30.398Z"
   },
   {
    "duration": 102,
    "start_time": "2024-07-16T17:24:31.387Z"
   },
   {
    "duration": 13,
    "start_time": "2024-07-16T17:24:31.490Z"
   },
   {
    "duration": 57,
    "start_time": "2024-07-16T17:24:31.505Z"
   },
   {
    "duration": 36,
    "start_time": "2024-07-16T17:24:31.563Z"
   },
   {
    "duration": 36,
    "start_time": "2024-07-16T17:24:31.600Z"
   },
   {
    "duration": 4,
    "start_time": "2024-07-16T17:24:31.638Z"
   },
   {
    "duration": 832,
    "start_time": "2024-07-16T17:24:31.643Z"
   },
   {
    "duration": 355,
    "start_time": "2024-07-16T17:24:32.476Z"
   },
   {
    "duration": 372,
    "start_time": "2024-07-16T17:24:32.833Z"
   },
   {
    "duration": 5,
    "start_time": "2024-07-16T17:24:33.206Z"
   },
   {
    "duration": 37,
    "start_time": "2024-07-16T17:24:33.212Z"
   },
   {
    "duration": 20,
    "start_time": "2024-07-16T17:24:33.250Z"
   },
   {
    "duration": 13,
    "start_time": "2024-07-16T17:24:53.964Z"
   },
   {
    "duration": 944,
    "start_time": "2024-07-16T17:26:12.726Z"
   },
   {
    "duration": 89,
    "start_time": "2024-07-16T17:26:13.672Z"
   },
   {
    "duration": 8,
    "start_time": "2024-07-16T17:26:13.763Z"
   },
   {
    "duration": 9,
    "start_time": "2024-07-16T17:26:13.772Z"
   },
   {
    "duration": 3,
    "start_time": "2024-07-16T17:26:13.783Z"
   },
   {
    "duration": 19,
    "start_time": "2024-07-16T17:26:13.787Z"
   },
   {
    "duration": 3,
    "start_time": "2024-07-16T17:26:13.807Z"
   },
   {
    "duration": 778,
    "start_time": "2024-07-16T17:26:13.811Z"
   },
   {
    "duration": 319,
    "start_time": "2024-07-16T17:26:14.590Z"
   },
   {
    "duration": 369,
    "start_time": "2024-07-16T17:26:14.911Z"
   },
   {
    "duration": 4,
    "start_time": "2024-07-16T17:26:15.282Z"
   },
   {
    "duration": 54,
    "start_time": "2024-07-16T17:26:15.292Z"
   },
   {
    "duration": 990,
    "start_time": "2024-07-16T17:26:52.905Z"
   },
   {
    "duration": 81,
    "start_time": "2024-07-16T17:26:53.897Z"
   },
   {
    "duration": 8,
    "start_time": "2024-07-16T17:26:53.979Z"
   },
   {
    "duration": 30,
    "start_time": "2024-07-16T17:26:53.988Z"
   },
   {
    "duration": 7,
    "start_time": "2024-07-16T17:26:54.020Z"
   },
   {
    "duration": 14,
    "start_time": "2024-07-16T17:26:54.029Z"
   },
   {
    "duration": 17,
    "start_time": "2024-07-16T17:26:54.044Z"
   },
   {
    "duration": 769,
    "start_time": "2024-07-16T17:26:54.062Z"
   },
   {
    "duration": 349,
    "start_time": "2024-07-16T17:26:54.832Z"
   },
   {
    "duration": 375,
    "start_time": "2024-07-16T17:26:55.182Z"
   },
   {
    "duration": 4,
    "start_time": "2024-07-16T17:26:55.559Z"
   },
   {
    "duration": 52,
    "start_time": "2024-07-16T17:26:55.564Z"
   },
   {
    "duration": 1003,
    "start_time": "2024-07-16T17:27:11.943Z"
   },
   {
    "duration": 101,
    "start_time": "2024-07-16T17:27:12.948Z"
   },
   {
    "duration": 9,
    "start_time": "2024-07-16T17:27:13.051Z"
   },
   {
    "duration": 9,
    "start_time": "2024-07-16T17:27:13.061Z"
   },
   {
    "duration": 3,
    "start_time": "2024-07-16T17:27:13.071Z"
   },
   {
    "duration": 14,
    "start_time": "2024-07-16T17:27:13.076Z"
   },
   {
    "duration": 4,
    "start_time": "2024-07-16T17:27:13.091Z"
   },
   {
    "duration": 768,
    "start_time": "2024-07-16T17:27:13.096Z"
   },
   {
    "duration": 317,
    "start_time": "2024-07-16T17:27:13.866Z"
   },
   {
    "duration": 369,
    "start_time": "2024-07-16T17:27:14.185Z"
   },
   {
    "duration": 5,
    "start_time": "2024-07-16T17:27:14.556Z"
   },
   {
    "duration": 33,
    "start_time": "2024-07-16T17:27:14.562Z"
   },
   {
    "duration": 16,
    "start_time": "2024-07-16T17:33:34.553Z"
   },
   {
    "duration": 4,
    "start_time": "2024-07-16T17:42:16.722Z"
   },
   {
    "duration": 3,
    "start_time": "2024-07-16T17:43:02.485Z"
   },
   {
    "duration": 14,
    "start_time": "2024-07-16T17:43:07.359Z"
   },
   {
    "duration": 5,
    "start_time": "2024-07-16T17:43:14.350Z"
   },
   {
    "duration": 6923,
    "start_time": "2024-07-16T17:59:07.816Z"
   },
   {
    "duration": 93,
    "start_time": "2024-07-16T18:13:38.674Z"
   },
   {
    "duration": 6,
    "start_time": "2024-07-16T18:13:42.221Z"
   },
   {
    "duration": 111,
    "start_time": "2024-07-16T18:13:54.688Z"
   },
   {
    "duration": 5,
    "start_time": "2024-07-16T18:13:58.557Z"
   },
   {
    "duration": 17,
    "start_time": "2024-07-16T18:13:59.777Z"
   },
   {
    "duration": 6,
    "start_time": "2024-07-16T18:15:42.682Z"
   },
   {
    "duration": 9,
    "start_time": "2024-07-16T18:16:26.389Z"
   },
   {
    "duration": 20,
    "start_time": "2024-07-16T18:22:30.098Z"
   },
   {
    "duration": 3,
    "start_time": "2024-07-16T18:27:11.144Z"
   },
   {
    "duration": 4,
    "start_time": "2024-07-16T18:27:14.791Z"
   },
   {
    "duration": 19,
    "start_time": "2024-07-16T18:28:10.979Z"
   },
   {
    "duration": 3,
    "start_time": "2024-07-16T18:28:18.800Z"
   },
   {
    "duration": 21,
    "start_time": "2024-07-16T18:28:26.105Z"
   },
   {
    "duration": 3,
    "start_time": "2024-07-16T18:28:41.010Z"
   },
   {
    "duration": 25,
    "start_time": "2024-07-16T18:29:01.859Z"
   },
   {
    "duration": 4,
    "start_time": "2024-07-16T18:29:06.891Z"
   },
   {
    "duration": 22,
    "start_time": "2024-07-16T18:29:24.022Z"
   },
   {
    "duration": 22,
    "start_time": "2024-07-16T18:29:29.450Z"
   },
   {
    "duration": 19,
    "start_time": "2024-07-16T18:29:37.237Z"
   },
   {
    "duration": 21,
    "start_time": "2024-07-16T18:32:08.817Z"
   },
   {
    "duration": 2928,
    "start_time": "2024-07-16T18:32:50.066Z"
   },
   {
    "duration": 1150,
    "start_time": "2024-07-16T18:32:52.997Z"
   },
   {
    "duration": 47,
    "start_time": "2024-07-16T18:32:54.149Z"
   },
   {
    "duration": 8,
    "start_time": "2024-07-16T18:32:54.197Z"
   },
   {
    "duration": 7,
    "start_time": "2024-07-16T18:32:54.206Z"
   },
   {
    "duration": 3,
    "start_time": "2024-07-16T18:32:54.214Z"
   },
   {
    "duration": 17,
    "start_time": "2024-07-16T18:32:54.218Z"
   },
   {
    "duration": 3,
    "start_time": "2024-07-16T18:32:54.236Z"
   },
   {
    "duration": 924,
    "start_time": "2024-07-16T18:32:54.241Z"
   },
   {
    "duration": 379,
    "start_time": "2024-07-16T18:32:55.168Z"
   },
   {
    "duration": 314,
    "start_time": "2024-07-16T18:32:55.548Z"
   },
   {
    "duration": 4,
    "start_time": "2024-07-16T18:32:55.864Z"
   },
   {
    "duration": 38,
    "start_time": "2024-07-16T18:32:55.869Z"
   },
   {
    "duration": 20,
    "start_time": "2024-07-16T18:32:55.908Z"
   },
   {
    "duration": 6,
    "start_time": "2024-07-16T18:32:55.929Z"
   },
   {
    "duration": 20,
    "start_time": "2024-07-16T18:32:55.937Z"
   },
   {
    "duration": 115,
    "start_time": "2024-07-16T18:32:55.958Z"
   },
   {
    "duration": 0,
    "start_time": "2024-07-16T18:32:56.075Z"
   },
   {
    "duration": 2965,
    "start_time": "2024-07-16T18:33:08.825Z"
   },
   {
    "duration": 1145,
    "start_time": "2024-07-16T18:33:11.792Z"
   },
   {
    "duration": 48,
    "start_time": "2024-07-16T18:33:12.938Z"
   },
   {
    "duration": 8,
    "start_time": "2024-07-16T18:33:12.987Z"
   },
   {
    "duration": 63,
    "start_time": "2024-07-16T18:33:12.997Z"
   },
   {
    "duration": 3,
    "start_time": "2024-07-16T18:33:13.062Z"
   },
   {
    "duration": 21,
    "start_time": "2024-07-16T18:33:13.066Z"
   },
   {
    "duration": 8,
    "start_time": "2024-07-16T18:33:13.088Z"
   },
   {
    "duration": 792,
    "start_time": "2024-07-16T18:33:13.097Z"
   },
   {
    "duration": 381,
    "start_time": "2024-07-16T18:33:13.891Z"
   },
   {
    "duration": 322,
    "start_time": "2024-07-16T18:33:14.273Z"
   },
   {
    "duration": 3,
    "start_time": "2024-07-16T18:33:14.601Z"
   },
   {
    "duration": 47,
    "start_time": "2024-07-16T18:33:14.605Z"
   },
   {
    "duration": 21,
    "start_time": "2024-07-16T18:33:14.654Z"
   },
   {
    "duration": 16,
    "start_time": "2024-07-16T18:33:14.676Z"
   },
   {
    "duration": 94,
    "start_time": "2024-07-16T18:33:14.694Z"
   },
   {
    "duration": 103,
    "start_time": "2024-07-16T18:33:14.789Z"
   },
   {
    "duration": 0,
    "start_time": "2024-07-16T18:33:14.893Z"
   },
   {
    "duration": 13,
    "start_time": "2024-07-16T18:33:36.417Z"
   },
   {
    "duration": 22,
    "start_time": "2024-07-16T18:33:53.412Z"
   },
   {
    "duration": 2929,
    "start_time": "2024-07-16T18:34:00.032Z"
   },
   {
    "duration": 1039,
    "start_time": "2024-07-16T18:34:02.963Z"
   },
   {
    "duration": 47,
    "start_time": "2024-07-16T18:34:04.003Z"
   },
   {
    "duration": 8,
    "start_time": "2024-07-16T18:34:04.051Z"
   },
   {
    "duration": 9,
    "start_time": "2024-07-16T18:34:04.060Z"
   },
   {
    "duration": 3,
    "start_time": "2024-07-16T18:34:04.070Z"
   },
   {
    "duration": 9,
    "start_time": "2024-07-16T18:34:04.074Z"
   },
   {
    "duration": 3,
    "start_time": "2024-07-16T18:34:04.084Z"
   },
   {
    "duration": 824,
    "start_time": "2024-07-16T18:34:04.088Z"
   },
   {
    "duration": 379,
    "start_time": "2024-07-16T18:34:04.913Z"
   },
   {
    "duration": 324,
    "start_time": "2024-07-16T18:34:05.293Z"
   },
   {
    "duration": 4,
    "start_time": "2024-07-16T18:34:05.618Z"
   },
   {
    "duration": 41,
    "start_time": "2024-07-16T18:34:05.623Z"
   },
   {
    "duration": 14,
    "start_time": "2024-07-16T18:34:05.666Z"
   },
   {
    "duration": 24,
    "start_time": "2024-07-16T18:34:05.681Z"
   },
   {
    "duration": 89,
    "start_time": "2024-07-16T18:34:05.706Z"
   },
   {
    "duration": 38,
    "start_time": "2024-07-16T18:34:05.796Z"
   },
   {
    "duration": 4,
    "start_time": "2024-07-16T18:40:45.332Z"
   },
   {
    "duration": 3,
    "start_time": "2024-07-16T18:42:14.269Z"
   },
   {
    "duration": 3,
    "start_time": "2024-07-16T18:42:19.448Z"
   },
   {
    "duration": 3,
    "start_time": "2024-07-16T18:43:07.646Z"
   },
   {
    "duration": 182,
    "start_time": "2024-07-16T18:44:24.046Z"
   },
   {
    "duration": 98,
    "start_time": "2024-07-16T18:45:50.397Z"
   },
   {
    "duration": 207,
    "start_time": "2024-07-16T18:45:51.423Z"
   },
   {
    "duration": 4,
    "start_time": "2024-07-16T18:46:34.968Z"
   },
   {
    "duration": 4,
    "start_time": "2024-07-16T18:46:40.161Z"
   },
   {
    "duration": 208,
    "start_time": "2024-07-16T18:46:40.621Z"
   },
   {
    "duration": 206,
    "start_time": "2024-07-16T18:46:57.414Z"
   },
   {
    "duration": 205,
    "start_time": "2024-07-16T18:47:26.915Z"
   },
   {
    "duration": 10,
    "start_time": "2024-07-16T18:49:50.603Z"
   },
   {
    "duration": 7,
    "start_time": "2024-07-16T18:50:02.541Z"
   },
   {
    "duration": 10,
    "start_time": "2024-07-16T18:50:33.871Z"
   },
   {
    "duration": 10,
    "start_time": "2024-07-16T18:51:07.493Z"
   },
   {
    "duration": 4,
    "start_time": "2024-07-16T18:51:35.976Z"
   },
   {
    "duration": 6,
    "start_time": "2024-07-16T18:51:42.034Z"
   },
   {
    "duration": 6,
    "start_time": "2024-07-16T18:52:05.828Z"
   },
   {
    "duration": 7,
    "start_time": "2024-07-16T18:52:30.746Z"
   },
   {
    "duration": 8,
    "start_time": "2024-07-16T18:53:23.513Z"
   },
   {
    "duration": 13066,
    "start_time": "2024-07-16T18:56:01.137Z"
   },
   {
    "duration": 7,
    "start_time": "2024-07-16T18:57:18.631Z"
   },
   {
    "duration": 2856,
    "start_time": "2024-07-16T18:57:47.106Z"
   },
   {
    "duration": 1113,
    "start_time": "2024-07-16T18:57:49.965Z"
   },
   {
    "duration": 47,
    "start_time": "2024-07-16T18:57:51.079Z"
   },
   {
    "duration": 35,
    "start_time": "2024-07-16T18:57:51.127Z"
   },
   {
    "duration": 8,
    "start_time": "2024-07-16T18:57:51.164Z"
   },
   {
    "duration": 3,
    "start_time": "2024-07-16T18:57:51.173Z"
   },
   {
    "duration": 17,
    "start_time": "2024-07-16T18:57:51.177Z"
   },
   {
    "duration": 3,
    "start_time": "2024-07-16T18:57:51.196Z"
   },
   {
    "duration": 790,
    "start_time": "2024-07-16T18:57:51.200Z"
   },
   {
    "duration": 363,
    "start_time": "2024-07-16T18:57:51.991Z"
   },
   {
    "duration": 330,
    "start_time": "2024-07-16T18:57:52.355Z"
   },
   {
    "duration": 4,
    "start_time": "2024-07-16T18:57:52.687Z"
   },
   {
    "duration": 28,
    "start_time": "2024-07-16T18:57:52.692Z"
   },
   {
    "duration": 13,
    "start_time": "2024-07-16T18:57:52.722Z"
   },
   {
    "duration": 15,
    "start_time": "2024-07-16T18:57:52.737Z"
   },
   {
    "duration": 38,
    "start_time": "2024-07-16T18:57:52.754Z"
   },
   {
    "duration": 2,
    "start_time": "2024-07-16T18:57:52.794Z"
   },
   {
    "duration": 1887,
    "start_time": "2024-07-16T18:57:52.798Z"
   },
   {
    "duration": 0,
    "start_time": "2024-07-16T18:57:54.686Z"
   },
   {
    "duration": 0,
    "start_time": "2024-07-16T18:57:54.688Z"
   },
   {
    "duration": 0,
    "start_time": "2024-07-16T18:57:54.689Z"
   },
   {
    "duration": 11,
    "start_time": "2024-07-16T18:58:13.668Z"
   },
   {
    "duration": 3,
    "start_time": "2024-07-16T18:58:16.898Z"
   },
   {
    "duration": 182,
    "start_time": "2024-07-16T18:58:18.249Z"
   },
   {
    "duration": 8,
    "start_time": "2024-07-16T18:58:19.904Z"
   },
   {
    "duration": 14059,
    "start_time": "2024-07-16T18:58:21.959Z"
   },
   {
    "duration": 102,
    "start_time": "2024-07-16T18:58:36.105Z"
   },
   {
    "duration": 29,
    "start_time": "2024-07-16T18:59:06.718Z"
   },
   {
    "duration": 18,
    "start_time": "2024-07-16T18:59:11.679Z"
   },
   {
    "duration": 8,
    "start_time": "2024-07-16T18:59:14.676Z"
   },
   {
    "duration": 11,
    "start_time": "2024-07-16T18:59:16.663Z"
   },
   {
    "duration": 2,
    "start_time": "2024-07-16T18:59:23.935Z"
   },
   {
    "duration": 282,
    "start_time": "2024-07-16T18:59:25.840Z"
   },
   {
    "duration": 6,
    "start_time": "2024-07-16T18:59:28.829Z"
   },
   {
    "duration": 14899,
    "start_time": "2024-07-16T18:59:31.309Z"
   },
   {
    "duration": 97,
    "start_time": "2024-07-16T18:59:46.209Z"
   },
   {
    "duration": 2975,
    "start_time": "2024-07-16T19:00:07.292Z"
   },
   {
    "duration": 1087,
    "start_time": "2024-07-16T19:00:10.270Z"
   },
   {
    "duration": 47,
    "start_time": "2024-07-16T19:00:11.361Z"
   },
   {
    "duration": 8,
    "start_time": "2024-07-16T19:00:11.409Z"
   },
   {
    "duration": 11,
    "start_time": "2024-07-16T19:00:11.418Z"
   },
   {
    "duration": 4,
    "start_time": "2024-07-16T19:00:11.430Z"
   },
   {
    "duration": 12,
    "start_time": "2024-07-16T19:00:11.435Z"
   },
   {
    "duration": 3,
    "start_time": "2024-07-16T19:00:11.448Z"
   },
   {
    "duration": 763,
    "start_time": "2024-07-16T19:00:11.453Z"
   },
   {
    "duration": 390,
    "start_time": "2024-07-16T19:00:12.218Z"
   },
   {
    "duration": 330,
    "start_time": "2024-07-16T19:00:12.610Z"
   },
   {
    "duration": 5,
    "start_time": "2024-07-16T19:00:12.941Z"
   },
   {
    "duration": 23,
    "start_time": "2024-07-16T19:00:12.947Z"
   },
   {
    "duration": 14,
    "start_time": "2024-07-16T19:00:12.971Z"
   },
   {
    "duration": 18,
    "start_time": "2024-07-16T19:00:12.986Z"
   },
   {
    "duration": 13,
    "start_time": "2024-07-16T19:00:13.005Z"
   },
   {
    "duration": 8,
    "start_time": "2024-07-16T19:00:13.019Z"
   },
   {
    "duration": 208,
    "start_time": "2024-07-16T19:00:13.028Z"
   },
   {
    "duration": 7,
    "start_time": "2024-07-16T19:00:13.237Z"
   },
   {
    "duration": 14107,
    "start_time": "2024-07-16T19:00:13.302Z"
   },
   {
    "duration": 94,
    "start_time": "2024-07-16T19:00:27.410Z"
   },
   {
    "duration": 3,
    "start_time": "2024-07-16T19:05:59.871Z"
   },
   {
    "duration": 405,
    "start_time": "2024-07-16T19:06:01.538Z"
   },
   {
    "duration": 9,
    "start_time": "2024-07-16T19:06:04.817Z"
   },
   {
    "duration": 3,
    "start_time": "2024-07-16T19:06:13.011Z"
   },
   {
    "duration": 104,
    "start_time": "2024-07-16T19:06:14.229Z"
   },
   {
    "duration": 7,
    "start_time": "2024-07-16T19:06:15.273Z"
   },
   {
    "duration": 3,
    "start_time": "2024-07-16T19:06:20.263Z"
   },
   {
    "duration": 641,
    "start_time": "2024-07-16T19:06:21.282Z"
   },
   {
    "duration": 7,
    "start_time": "2024-07-16T19:06:22.825Z"
   },
   {
    "duration": 3,
    "start_time": "2024-07-16T19:06:26.878Z"
   },
   {
    "duration": 232,
    "start_time": "2024-07-16T19:06:28.005Z"
   },
   {
    "duration": 6,
    "start_time": "2024-07-16T19:06:28.917Z"
   },
   {
    "duration": 4,
    "start_time": "2024-07-16T19:08:09.410Z"
   },
   {
    "duration": 13082,
    "start_time": "2024-07-16T19:08:13.620Z"
   },
   {
    "duration": 74,
    "start_time": "2024-07-16T19:08:29.830Z"
   },
   {
    "duration": 4,
    "start_time": "2024-07-16T19:09:08.454Z"
   },
   {
    "duration": 2,
    "start_time": "2024-07-16T19:09:54.852Z"
   },
   {
    "duration": 21088,
    "start_time": "2024-07-16T19:10:18.916Z"
   },
   {
    "duration": 12,
    "start_time": "2024-07-16T19:10:42.279Z"
   },
   {
    "duration": 2,
    "start_time": "2024-07-16T19:10:52.370Z"
   },
   {
    "duration": 13416,
    "start_time": "2024-07-16T19:11:02.586Z"
   },
   {
    "duration": 71,
    "start_time": "2024-07-16T19:11:19.434Z"
   },
   {
    "duration": 2929,
    "start_time": "2024-07-16T19:11:52.928Z"
   },
   {
    "duration": 1081,
    "start_time": "2024-07-16T19:11:55.859Z"
   },
   {
    "duration": 48,
    "start_time": "2024-07-16T19:11:56.941Z"
   },
   {
    "duration": 8,
    "start_time": "2024-07-16T19:11:56.990Z"
   },
   {
    "duration": 18,
    "start_time": "2024-07-16T19:11:57.000Z"
   },
   {
    "duration": 4,
    "start_time": "2024-07-16T19:11:57.020Z"
   },
   {
    "duration": 10,
    "start_time": "2024-07-16T19:11:57.025Z"
   },
   {
    "duration": 3,
    "start_time": "2024-07-16T19:11:57.037Z"
   },
   {
    "duration": 821,
    "start_time": "2024-07-16T19:11:57.042Z"
   },
   {
    "duration": 368,
    "start_time": "2024-07-16T19:11:57.864Z"
   },
   {
    "duration": 327,
    "start_time": "2024-07-16T19:11:58.234Z"
   },
   {
    "duration": 4,
    "start_time": "2024-07-16T19:11:58.563Z"
   },
   {
    "duration": 31,
    "start_time": "2024-07-16T19:11:58.568Z"
   },
   {
    "duration": 14,
    "start_time": "2024-07-16T19:11:58.600Z"
   },
   {
    "duration": 6,
    "start_time": "2024-07-16T19:11:58.615Z"
   },
   {
    "duration": 15,
    "start_time": "2024-07-16T19:11:58.623Z"
   },
   {
    "duration": 5,
    "start_time": "2024-07-16T19:11:58.640Z"
   },
   {
    "duration": 258,
    "start_time": "2024-07-16T19:11:58.646Z"
   },
   {
    "duration": 5,
    "start_time": "2024-07-16T19:11:58.906Z"
   },
   {
    "duration": 42,
    "start_time": "2024-07-16T19:11:58.912Z"
   },
   {
    "duration": 15155,
    "start_time": "2024-07-16T19:11:58.955Z"
   },
   {
    "duration": 93,
    "start_time": "2024-07-16T19:12:14.112Z"
   },
   {
    "duration": 287761,
    "start_time": "2024-07-16T19:13:53.584Z"
   },
   {
    "duration": 4950,
    "start_time": "2024-07-16T19:18:51.369Z"
   },
   {
    "duration": 95773,
    "start_time": "2024-07-16T19:19:03.429Z"
   },
   {
    "duration": 13,
    "start_time": "2024-07-16T19:20:54.216Z"
   },
   {
    "duration": 4,
    "start_time": "2024-07-16T19:21:23.813Z"
   },
   {
    "duration": 17557,
    "start_time": "2024-07-16T19:21:44.047Z"
   },
   {
    "duration": 73,
    "start_time": "2024-07-16T19:22:04.928Z"
   },
   {
    "duration": 10,
    "start_time": "2024-07-16T19:25:15.597Z"
   },
   {
    "duration": 29,
    "start_time": "2024-07-16T19:25:52.985Z"
   },
   {
    "duration": 642,
    "start_time": "2024-07-16T19:25:57.389Z"
   },
   {
    "duration": 6,
    "start_time": "2024-07-16T19:26:00.337Z"
   },
   {
    "duration": 8232,
    "start_time": "2024-07-16T19:26:16.577Z"
   },
   {
    "duration": 8,
    "start_time": "2024-07-16T19:26:28.296Z"
   },
   {
    "duration": 13556,
    "start_time": "2024-07-16T19:26:33.456Z"
   },
   {
    "duration": 98,
    "start_time": "2024-07-16T19:26:47.013Z"
   },
   {
    "duration": 17,
    "start_time": "2024-07-16T19:27:57.393Z"
   },
   {
    "duration": 3,
    "start_time": "2024-07-16T19:28:01.530Z"
   },
   {
    "duration": 226,
    "start_time": "2024-07-16T19:28:03.007Z"
   },
   {
    "duration": 7,
    "start_time": "2024-07-16T19:28:05.442Z"
   },
   {
    "duration": 649,
    "start_time": "2024-07-16T19:28:07.462Z"
   },
   {
    "duration": 7,
    "start_time": "2024-07-16T19:28:09.412Z"
   },
   {
    "duration": 149113,
    "start_time": "2024-07-16T19:28:12.197Z"
   },
   {
    "duration": 8,
    "start_time": "2024-07-16T19:30:44.032Z"
   },
   {
    "duration": 11,
    "start_time": "2024-07-16T19:33:23.552Z"
   },
   {
    "duration": 4,
    "start_time": "2024-07-16T19:33:27.784Z"
   },
   {
    "duration": 9,
    "start_time": "2024-07-16T19:33:30.823Z"
   },
   {
    "duration": 15,
    "start_time": "2024-07-16T19:33:58.600Z"
   },
   {
    "duration": 9,
    "start_time": "2024-07-16T19:34:09.413Z"
   },
   {
    "duration": 185,
    "start_time": "2024-07-16T19:34:15.547Z"
   },
   {
    "duration": 11,
    "start_time": "2024-07-16T19:34:17.195Z"
   },
   {
    "duration": 6,
    "start_time": "2024-07-16T19:35:14.954Z"
   },
   {
    "duration": 423074,
    "start_time": "2024-07-16T19:36:01.867Z"
   },
   {
    "duration": 97027,
    "start_time": "2024-07-16T19:43:19.586Z"
   },
   {
    "duration": 2972,
    "start_time": "2024-07-16T19:45:05.672Z"
   },
   {
    "duration": 1591,
    "start_time": "2024-07-16T19:45:08.646Z"
   },
   {
    "duration": 87,
    "start_time": "2024-07-16T19:45:10.239Z"
   },
   {
    "duration": 9,
    "start_time": "2024-07-16T19:45:10.328Z"
   },
   {
    "duration": 7,
    "start_time": "2024-07-16T19:45:10.339Z"
   },
   {
    "duration": 3,
    "start_time": "2024-07-16T19:45:10.348Z"
   },
   {
    "duration": 72,
    "start_time": "2024-07-16T19:45:10.352Z"
   },
   {
    "duration": 4,
    "start_time": "2024-07-16T19:45:10.425Z"
   },
   {
    "duration": 803,
    "start_time": "2024-07-16T19:45:10.430Z"
   },
   {
    "duration": 384,
    "start_time": "2024-07-16T19:45:11.237Z"
   },
   {
    "duration": 324,
    "start_time": "2024-07-16T19:45:11.622Z"
   },
   {
    "duration": 4,
    "start_time": "2024-07-16T19:45:11.948Z"
   },
   {
    "duration": 86,
    "start_time": "2024-07-16T19:45:11.953Z"
   },
   {
    "duration": 15,
    "start_time": "2024-07-16T19:45:12.040Z"
   },
   {
    "duration": 8,
    "start_time": "2024-07-16T19:45:12.057Z"
   },
   {
    "duration": 23,
    "start_time": "2024-07-16T19:45:12.066Z"
   },
   {
    "duration": 2,
    "start_time": "2024-07-16T19:45:12.090Z"
   },
   {
    "duration": 248,
    "start_time": "2024-07-16T19:45:12.094Z"
   },
   {
    "duration": 69,
    "start_time": "2024-07-16T19:45:12.345Z"
   },
   {
    "duration": 710,
    "start_time": "2024-07-16T19:45:12.415Z"
   },
   {
    "duration": 6,
    "start_time": "2024-07-16T19:45:13.126Z"
   },
   {
    "duration": 173291,
    "start_time": "2024-07-16T19:45:13.134Z"
   },
   {
    "duration": 184,
    "start_time": "2024-07-16T19:48:06.427Z"
   },
   {
    "duration": 179936,
    "start_time": "2024-07-16T19:52:11.269Z"
   },
   {
    "duration": 10,
    "start_time": "2024-07-16T21:42:23.113Z"
   },
   {
    "duration": 30,
    "start_time": "2024-07-16T21:44:16.703Z"
   },
   {
    "duration": 156,
    "start_time": "2024-07-16T21:46:07.728Z"
   },
   {
    "duration": 10,
    "start_time": "2024-07-16T21:46:21.732Z"
   },
   {
    "duration": 3205,
    "start_time": "2024-07-16T21:46:45.563Z"
   },
   {
    "duration": 1414,
    "start_time": "2024-07-16T21:46:48.770Z"
   },
   {
    "duration": 62,
    "start_time": "2024-07-16T21:46:50.185Z"
   },
   {
    "duration": 8,
    "start_time": "2024-07-16T21:46:50.249Z"
   },
   {
    "duration": 8,
    "start_time": "2024-07-16T21:46:50.258Z"
   },
   {
    "duration": 18,
    "start_time": "2024-07-16T21:46:50.268Z"
   },
   {
    "duration": 55,
    "start_time": "2024-07-16T21:46:50.288Z"
   },
   {
    "duration": 65,
    "start_time": "2024-07-16T21:46:50.345Z"
   },
   {
    "duration": 955,
    "start_time": "2024-07-16T21:46:50.411Z"
   },
   {
    "duration": 350,
    "start_time": "2024-07-16T21:46:51.368Z"
   },
   {
    "duration": 356,
    "start_time": "2024-07-16T21:46:51.719Z"
   },
   {
    "duration": 4,
    "start_time": "2024-07-16T21:46:52.076Z"
   },
   {
    "duration": 62,
    "start_time": "2024-07-16T21:46:52.081Z"
   },
   {
    "duration": 17,
    "start_time": "2024-07-16T21:46:52.146Z"
   },
   {
    "duration": 7,
    "start_time": "2024-07-16T21:46:52.164Z"
   },
   {
    "duration": 69,
    "start_time": "2024-07-16T21:46:52.172Z"
   },
   {
    "duration": 3,
    "start_time": "2024-07-16T21:46:52.242Z"
   },
   {
    "duration": 1983,
    "start_time": "2024-07-16T21:46:52.246Z"
   },
   {
    "duration": 1,
    "start_time": "2024-07-16T21:46:54.231Z"
   },
   {
    "duration": 0,
    "start_time": "2024-07-16T21:46:54.233Z"
   },
   {
    "duration": 0,
    "start_time": "2024-07-16T21:46:54.234Z"
   },
   {
    "duration": 0,
    "start_time": "2024-07-16T21:46:54.236Z"
   },
   {
    "duration": 0,
    "start_time": "2024-07-16T21:46:54.237Z"
   },
   {
    "duration": 0,
    "start_time": "2024-07-16T21:46:54.238Z"
   },
   {
    "duration": 56,
    "start_time": "2024-07-16T21:47:51.734Z"
   },
   {
    "duration": 2,
    "start_time": "2024-07-16T21:47:56.898Z"
   },
   {
    "duration": 1822,
    "start_time": "2024-07-16T21:47:58.423Z"
   },
   {
    "duration": 40,
    "start_time": "2024-07-16T21:48:18.952Z"
   },
   {
    "duration": 4,
    "start_time": "2024-07-16T21:48:24.424Z"
   },
   {
    "duration": 9420,
    "start_time": "2024-07-16T21:48:25.387Z"
   },
   {
    "duration": 9,
    "start_time": "2024-07-16T21:48:41.485Z"
   },
   {
    "duration": 1191,
    "start_time": "2024-07-16T21:49:11.764Z"
   },
   {
    "duration": 17,
    "start_time": "2024-07-16T21:49:15.614Z"
   },
   {
    "duration": 5307,
    "start_time": "2024-07-16T21:49:54.716Z"
   },
   {
    "duration": 49,
    "start_time": "2024-07-16T21:50:03.865Z"
   },
   {
    "duration": 22,
    "start_time": "2024-07-16T21:51:04.812Z"
   },
   {
    "duration": 9,
    "start_time": "2024-07-16T21:51:10.528Z"
   },
   {
    "duration": 5461,
    "start_time": "2024-07-16T21:51:25.648Z"
   },
   {
    "duration": 3049,
    "start_time": "2024-07-16T21:51:36.349Z"
   },
   {
    "duration": 1419,
    "start_time": "2024-07-16T21:51:39.400Z"
   },
   {
    "duration": 48,
    "start_time": "2024-07-16T21:51:40.821Z"
   },
   {
    "duration": 11,
    "start_time": "2024-07-16T21:51:40.870Z"
   },
   {
    "duration": 11,
    "start_time": "2024-07-16T21:51:40.882Z"
   },
   {
    "duration": 3,
    "start_time": "2024-07-16T21:51:40.895Z"
   },
   {
    "duration": 22,
    "start_time": "2024-07-16T21:51:40.900Z"
   },
   {
    "duration": 3,
    "start_time": "2024-07-16T21:51:40.924Z"
   },
   {
    "duration": 906,
    "start_time": "2024-07-16T21:51:40.928Z"
   },
   {
    "duration": 324,
    "start_time": "2024-07-16T21:51:41.837Z"
   },
   {
    "duration": 335,
    "start_time": "2024-07-16T21:51:42.162Z"
   },
   {
    "duration": 14,
    "start_time": "2024-07-16T21:51:42.501Z"
   },
   {
    "duration": 29,
    "start_time": "2024-07-16T21:51:42.516Z"
   },
   {
    "duration": 15,
    "start_time": "2024-07-16T21:51:42.547Z"
   },
   {
    "duration": 8,
    "start_time": "2024-07-16T21:51:42.563Z"
   },
   {
    "duration": 68,
    "start_time": "2024-07-16T21:51:42.573Z"
   },
   {
    "duration": 4,
    "start_time": "2024-07-16T21:51:42.645Z"
   },
   {
    "duration": 6175,
    "start_time": "2024-07-16T21:51:42.651Z"
   },
   {
    "duration": 11,
    "start_time": "2024-07-16T21:51:48.906Z"
   },
   {
    "duration": 1304,
    "start_time": "2024-07-16T21:51:48.919Z"
   },
   {
    "duration": 9,
    "start_time": "2024-07-16T21:51:50.225Z"
   },
   {
    "duration": 0,
    "start_time": "2024-07-16T22:01:40.759Z"
   },
   {
    "duration": 0,
    "start_time": "2024-07-16T22:01:40.760Z"
   },
   {
    "duration": 0,
    "start_time": "2024-07-16T22:01:40.761Z"
   },
   {
    "duration": 5681,
    "start_time": "2024-07-16T22:02:33.834Z"
   },
   {
    "duration": 6358,
    "start_time": "2024-07-16T22:02:54.454Z"
   },
   {
    "duration": 668248,
    "start_time": "2024-07-16T22:04:03.783Z"
   },
   {
    "duration": 115512,
    "start_time": "2024-07-16T22:15:41.236Z"
   },
   {
    "duration": 481501,
    "start_time": "2024-07-16T22:17:49.631Z"
   },
   {
    "duration": 10,
    "start_time": "2024-07-16T22:26:36.738Z"
   },
   {
    "duration": 1157665,
    "start_time": "2024-07-16T22:26:53.790Z"
   },
   {
    "duration": 15,
    "start_time": "2024-07-16T22:48:00.782Z"
   },
   {
    "duration": 9,
    "start_time": "2024-07-16T22:48:18.449Z"
   },
   {
    "duration": 9,
    "start_time": "2024-07-16T22:48:43.766Z"
   },
   {
    "duration": 8866,
    "start_time": "2024-07-16T22:48:52.451Z"
   },
   {
    "duration": 10,
    "start_time": "2024-07-16T22:49:56.150Z"
   },
   {
    "duration": 9,
    "start_time": "2024-07-16T22:51:01.472Z"
   },
   {
    "duration": 114,
    "start_time": "2024-07-16T22:51:02.101Z"
   },
   {
    "duration": 35,
    "start_time": "2024-07-16T22:52:12.623Z"
   },
   {
    "duration": 8,
    "start_time": "2024-07-16T22:52:13.450Z"
   },
   {
    "duration": 9,
    "start_time": "2024-07-16T22:52:14.469Z"
   },
   {
    "duration": 2987,
    "start_time": "2024-07-16T23:19:24.180Z"
   },
   {
    "duration": 1292,
    "start_time": "2024-07-16T23:19:27.169Z"
   },
   {
    "duration": 57,
    "start_time": "2024-07-16T23:19:28.462Z"
   },
   {
    "duration": 10,
    "start_time": "2024-07-16T23:19:28.521Z"
   },
   {
    "duration": 9,
    "start_time": "2024-07-16T23:19:28.532Z"
   },
   {
    "duration": 3,
    "start_time": "2024-07-16T23:19:28.542Z"
   },
   {
    "duration": 10,
    "start_time": "2024-07-16T23:19:28.547Z"
   },
   {
    "duration": 3,
    "start_time": "2024-07-16T23:19:28.558Z"
   },
   {
    "duration": 1935,
    "start_time": "2024-07-16T23:19:28.562Z"
   },
   {
    "duration": 338,
    "start_time": "2024-07-16T23:19:30.507Z"
   },
   {
    "duration": 349,
    "start_time": "2024-07-16T23:19:30.846Z"
   },
   {
    "duration": 27,
    "start_time": "2024-07-16T23:19:31.196Z"
   },
   {
    "duration": 59,
    "start_time": "2024-07-16T23:19:31.234Z"
   },
   {
    "duration": 42,
    "start_time": "2024-07-16T23:19:31.294Z"
   },
   {
    "duration": 45,
    "start_time": "2024-07-16T23:19:31.337Z"
   },
   {
    "duration": 94,
    "start_time": "2024-07-16T23:19:31.383Z"
   },
   {
    "duration": 4,
    "start_time": "2024-07-16T23:19:31.478Z"
   },
   {
    "duration": 9124,
    "start_time": "2024-07-16T23:19:31.483Z"
   },
   {
    "duration": 1163,
    "start_time": "2024-07-16T23:19:40.612Z"
   },
   {
    "duration": 283643,
    "start_time": "2024-07-16T23:19:41.776Z"
   },
   {
    "duration": 107,
    "start_time": "2024-07-16T23:24:25.420Z"
   },
   {
    "duration": 89,
    "start_time": "2024-07-16T23:24:25.530Z"
   },
   {
    "duration": 91,
    "start_time": "2024-07-16T23:24:25.628Z"
   },
   {
    "duration": 6936,
    "start_time": "2024-07-17T08:59:10.243Z"
   },
   {
    "duration": 4122,
    "start_time": "2024-07-17T08:59:17.182Z"
   },
   {
    "duration": 97,
    "start_time": "2024-07-17T08:59:21.306Z"
   },
   {
    "duration": 14,
    "start_time": "2024-07-17T08:59:21.405Z"
   },
   {
    "duration": 12,
    "start_time": "2024-07-17T08:59:21.422Z"
   },
   {
    "duration": 5,
    "start_time": "2024-07-17T08:59:21.435Z"
   },
   {
    "duration": 13,
    "start_time": "2024-07-17T08:59:21.442Z"
   },
   {
    "duration": 3,
    "start_time": "2024-07-17T08:59:21.457Z"
   },
   {
    "duration": 1670,
    "start_time": "2024-07-17T08:59:21.462Z"
   },
   {
    "duration": 499,
    "start_time": "2024-07-17T08:59:23.133Z"
   },
   {
    "duration": 390,
    "start_time": "2024-07-17T08:59:23.634Z"
   },
   {
    "duration": 4,
    "start_time": "2024-07-17T08:59:24.026Z"
   },
   {
    "duration": 115,
    "start_time": "2024-07-17T08:59:24.031Z"
   },
   {
    "duration": 26,
    "start_time": "2024-07-17T08:59:24.149Z"
   },
   {
    "duration": 8,
    "start_time": "2024-07-17T08:59:24.177Z"
   },
   {
    "duration": 39,
    "start_time": "2024-07-17T08:59:24.186Z"
   },
   {
    "duration": 3,
    "start_time": "2024-07-17T08:59:24.226Z"
   },
   {
    "duration": 5334,
    "start_time": "2024-07-17T08:59:24.231Z"
   },
   {
    "duration": 2529,
    "start_time": "2024-07-17T08:59:29.567Z"
   },
   {
    "duration": 24677,
    "start_time": "2024-07-17T08:59:32.098Z"
   },
   {
    "duration": 13,
    "start_time": "2024-07-17T08:59:56.776Z"
   },
   {
    "duration": 173,
    "start_time": "2024-07-17T08:59:56.791Z"
   },
   {
    "duration": 18,
    "start_time": "2024-07-17T08:59:56.965Z"
   },
   {
    "duration": 6886,
    "start_time": "2024-07-17T18:01:44.607Z"
   },
   {
    "duration": 1582,
    "start_time": "2024-07-17T18:01:51.496Z"
   },
   {
    "duration": 97,
    "start_time": "2024-07-17T18:01:55.415Z"
   },
   {
    "duration": 9,
    "start_time": "2024-07-17T18:01:57.557Z"
   },
   {
    "duration": 9,
    "start_time": "2024-07-17T18:01:58.093Z"
   },
   {
    "duration": 3,
    "start_time": "2024-07-17T18:01:58.573Z"
   },
   {
    "duration": 10,
    "start_time": "2024-07-17T18:02:01.364Z"
   },
   {
    "duration": 4,
    "start_time": "2024-07-17T18:02:04.278Z"
   },
   {
    "duration": 885,
    "start_time": "2024-07-17T18:02:05.585Z"
   },
   {
    "duration": 679,
    "start_time": "2024-07-17T18:03:08.361Z"
   },
   {
    "duration": 714,
    "start_time": "2024-07-17T18:03:19.491Z"
   },
   {
    "duration": 653,
    "start_time": "2024-07-17T18:04:40.069Z"
   },
   {
    "duration": 765,
    "start_time": "2024-07-17T18:04:50.175Z"
   },
   {
    "duration": 317,
    "start_time": "2024-07-17T18:08:23.573Z"
   },
   {
    "duration": 342,
    "start_time": "2024-07-17T18:08:32.931Z"
   },
   {
    "duration": 2,
    "start_time": "2024-07-17T18:13:07.779Z"
   },
   {
    "duration": 136,
    "start_time": "2024-07-17T18:33:54.350Z"
   },
   {
    "duration": 39,
    "start_time": "2024-07-17T18:34:08.064Z"
   },
   {
    "duration": 94,
    "start_time": "2024-07-17T18:34:55.442Z"
   },
   {
    "duration": 34,
    "start_time": "2024-07-17T18:35:57.597Z"
   },
   {
    "duration": 61,
    "start_time": "2024-07-17T18:36:02.877Z"
   },
   {
    "duration": 8,
    "start_time": "2024-07-17T18:36:09.328Z"
   },
   {
    "duration": 102,
    "start_time": "2024-07-17T18:36:22.972Z"
   },
   {
    "duration": 695,
    "start_time": "2024-07-17T18:36:45.669Z"
   },
   {
    "duration": 5,
    "start_time": "2024-07-17T18:37:23.604Z"
   },
   {
    "duration": 3072,
    "start_time": "2024-07-17T18:37:36.056Z"
   },
   {
    "duration": 1425,
    "start_time": "2024-07-17T18:37:39.131Z"
   },
   {
    "duration": 50,
    "start_time": "2024-07-17T18:37:40.557Z"
   },
   {
    "duration": 11,
    "start_time": "2024-07-17T18:37:40.609Z"
   },
   {
    "duration": 132,
    "start_time": "2024-07-17T18:37:40.622Z"
   },
   {
    "duration": 3,
    "start_time": "2024-07-17T18:37:40.756Z"
   },
   {
    "duration": 12,
    "start_time": "2024-07-17T18:37:40.760Z"
   },
   {
    "duration": 3,
    "start_time": "2024-07-17T18:37:40.774Z"
   },
   {
    "duration": 827,
    "start_time": "2024-07-17T18:37:40.778Z"
   },
   {
    "duration": 356,
    "start_time": "2024-07-17T18:37:41.607Z"
   },
   {
    "duration": 2,
    "start_time": "2024-07-17T18:37:41.965Z"
   },
   {
    "duration": 6,
    "start_time": "2024-07-17T18:37:41.968Z"
   },
   {
    "duration": 53,
    "start_time": "2024-07-17T18:37:41.975Z"
   },
   {
    "duration": 620,
    "start_time": "2024-07-17T18:37:42.030Z"
   },
   {
    "duration": 32,
    "start_time": "2024-07-17T18:37:42.652Z"
   },
   {
    "duration": 628,
    "start_time": "2024-07-17T18:37:42.685Z"
   },
   {
    "duration": 7,
    "start_time": "2024-07-17T18:37:43.315Z"
   },
   {
    "duration": 113,
    "start_time": "2024-07-17T18:37:43.323Z"
   },
   {
    "duration": 3,
    "start_time": "2024-07-17T18:37:43.437Z"
   },
   {
    "duration": 2020,
    "start_time": "2024-07-17T18:37:43.441Z"
   },
   {
    "duration": 0,
    "start_time": "2024-07-17T18:37:45.462Z"
   },
   {
    "duration": 0,
    "start_time": "2024-07-17T18:37:45.463Z"
   },
   {
    "duration": 0,
    "start_time": "2024-07-17T18:37:45.464Z"
   },
   {
    "duration": 0,
    "start_time": "2024-07-17T18:37:45.466Z"
   },
   {
    "duration": 0,
    "start_time": "2024-07-17T18:37:45.467Z"
   },
   {
    "duration": 25,
    "start_time": "2024-07-17T18:38:50.395Z"
   },
   {
    "duration": 149,
    "start_time": "2024-07-17T19:06:37.979Z"
   },
   {
    "duration": 633,
    "start_time": "2024-07-17T19:06:42.116Z"
   },
   {
    "duration": 3659,
    "start_time": "2024-07-17T19:07:01.765Z"
   },
   {
    "duration": 1442,
    "start_time": "2024-07-17T19:07:05.426Z"
   },
   {
    "duration": 50,
    "start_time": "2024-07-17T19:07:06.870Z"
   },
   {
    "duration": 8,
    "start_time": "2024-07-17T19:07:06.922Z"
   },
   {
    "duration": 12,
    "start_time": "2024-07-17T19:07:06.932Z"
   },
   {
    "duration": 3,
    "start_time": "2024-07-17T19:07:06.946Z"
   },
   {
    "duration": 12,
    "start_time": "2024-07-17T19:07:06.950Z"
   },
   {
    "duration": 4,
    "start_time": "2024-07-17T19:07:06.964Z"
   },
   {
    "duration": 827,
    "start_time": "2024-07-17T19:07:06.969Z"
   },
   {
    "duration": 348,
    "start_time": "2024-07-17T19:07:07.798Z"
   },
   {
    "duration": 2,
    "start_time": "2024-07-17T19:07:08.148Z"
   },
   {
    "duration": 5,
    "start_time": "2024-07-17T19:07:08.151Z"
   },
   {
    "duration": 175,
    "start_time": "2024-07-17T19:07:08.158Z"
   },
   {
    "duration": 622,
    "start_time": "2024-07-17T19:07:08.334Z"
   },
   {
    "duration": 142,
    "start_time": "2024-07-17T19:07:08.957Z"
   },
   {
    "duration": 18,
    "start_time": "2024-07-17T19:07:09.100Z"
   },
   {
    "duration": 42,
    "start_time": "2024-07-17T19:07:09.119Z"
   },
   {
    "duration": 7,
    "start_time": "2024-07-17T19:07:09.163Z"
   },
   {
    "duration": 2353,
    "start_time": "2024-07-17T19:07:09.172Z"
   },
   {
    "duration": 0,
    "start_time": "2024-07-17T19:07:11.527Z"
   },
   {
    "duration": 0,
    "start_time": "2024-07-17T19:07:11.528Z"
   },
   {
    "duration": 0,
    "start_time": "2024-07-17T19:07:11.529Z"
   },
   {
    "duration": 0,
    "start_time": "2024-07-17T19:07:11.530Z"
   },
   {
    "duration": 0,
    "start_time": "2024-07-17T19:07:11.531Z"
   },
   {
    "duration": 600,
    "start_time": "2024-07-17T19:08:52.767Z"
   },
   {
    "duration": 655,
    "start_time": "2024-07-17T19:08:58.917Z"
   },
   {
    "duration": 2433,
    "start_time": "2024-07-17T19:21:52.519Z"
   },
   {
    "duration": 2620,
    "start_time": "2024-07-17T19:22:07.125Z"
   },
   {
    "duration": 2934,
    "start_time": "2024-07-17T19:22:19.095Z"
   },
   {
    "duration": 2769,
    "start_time": "2024-07-17T19:22:34.298Z"
   },
   {
    "duration": 2715,
    "start_time": "2024-07-17T19:22:52.043Z"
   },
   {
    "duration": 2742,
    "start_time": "2024-07-17T19:23:11.950Z"
   },
   {
    "duration": 2685,
    "start_time": "2024-07-17T19:24:59.285Z"
   },
   {
    "duration": 2459,
    "start_time": "2024-07-17T19:25:08.620Z"
   },
   {
    "duration": 3351,
    "start_time": "2024-07-17T19:26:33.469Z"
   },
   {
    "duration": 1691,
    "start_time": "2024-07-17T19:26:36.822Z"
   },
   {
    "duration": 50,
    "start_time": "2024-07-17T19:26:38.515Z"
   },
   {
    "duration": 9,
    "start_time": "2024-07-17T19:26:38.568Z"
   },
   {
    "duration": 8,
    "start_time": "2024-07-17T19:26:38.578Z"
   },
   {
    "duration": 4,
    "start_time": "2024-07-17T19:26:38.587Z"
   },
   {
    "duration": 21,
    "start_time": "2024-07-17T19:26:38.592Z"
   },
   {
    "duration": 7,
    "start_time": "2024-07-17T19:26:38.614Z"
   },
   {
    "duration": 795,
    "start_time": "2024-07-17T19:26:38.623Z"
   },
   {
    "duration": 353,
    "start_time": "2024-07-17T19:26:39.420Z"
   },
   {
    "duration": 2,
    "start_time": "2024-07-17T19:26:39.774Z"
   },
   {
    "duration": 6,
    "start_time": "2024-07-17T19:26:39.778Z"
   },
   {
    "duration": 28,
    "start_time": "2024-07-17T19:26:39.785Z"
   },
   {
    "duration": 2565,
    "start_time": "2024-07-17T19:26:39.814Z"
   },
   {
    "duration": 12,
    "start_time": "2024-07-17T19:26:42.380Z"
   },
   {
    "duration": 23,
    "start_time": "2024-07-17T19:26:42.393Z"
   },
   {
    "duration": 50,
    "start_time": "2024-07-17T19:26:42.417Z"
   },
   {
    "duration": 3,
    "start_time": "2024-07-17T19:26:42.468Z"
   },
   {
    "duration": 2121,
    "start_time": "2024-07-17T19:26:42.473Z"
   },
   {
    "duration": 0,
    "start_time": "2024-07-17T19:26:44.595Z"
   },
   {
    "duration": 0,
    "start_time": "2024-07-17T19:26:44.596Z"
   },
   {
    "duration": 0,
    "start_time": "2024-07-17T19:26:44.597Z"
   },
   {
    "duration": 0,
    "start_time": "2024-07-17T19:26:44.598Z"
   },
   {
    "duration": 0,
    "start_time": "2024-07-17T19:26:44.599Z"
   },
   {
    "duration": 17,
    "start_time": "2024-07-17T19:27:33.615Z"
   },
   {
    "duration": 2595,
    "start_time": "2024-07-17T19:27:48.288Z"
   },
   {
    "duration": 105,
    "start_time": "2024-07-17T19:39:20.261Z"
   },
   {
    "duration": 34,
    "start_time": "2024-07-17T19:41:53.944Z"
   },
   {
    "duration": 3371,
    "start_time": "2024-07-17T19:41:59.961Z"
   },
   {
    "duration": 1671,
    "start_time": "2024-07-17T19:42:03.335Z"
   },
   {
    "duration": 48,
    "start_time": "2024-07-17T19:42:05.007Z"
   },
   {
    "duration": 8,
    "start_time": "2024-07-17T19:42:05.057Z"
   },
   {
    "duration": 12,
    "start_time": "2024-07-17T19:42:05.066Z"
   },
   {
    "duration": 3,
    "start_time": "2024-07-17T19:42:05.079Z"
   },
   {
    "duration": 24,
    "start_time": "2024-07-17T19:42:05.083Z"
   },
   {
    "duration": 6,
    "start_time": "2024-07-17T19:42:05.108Z"
   },
   {
    "duration": 789,
    "start_time": "2024-07-17T19:42:05.116Z"
   },
   {
    "duration": 339,
    "start_time": "2024-07-17T19:42:05.907Z"
   },
   {
    "duration": 2,
    "start_time": "2024-07-17T19:42:06.248Z"
   },
   {
    "duration": 9,
    "start_time": "2024-07-17T19:42:06.251Z"
   },
   {
    "duration": 3213,
    "start_time": "2024-07-17T19:42:06.261Z"
   },
   {
    "duration": 45,
    "start_time": "2024-07-17T19:42:09.475Z"
   },
   {
    "duration": 28,
    "start_time": "2024-07-17T19:42:09.521Z"
   },
   {
    "duration": 7,
    "start_time": "2024-07-17T19:42:09.550Z"
   },
   {
    "duration": 63,
    "start_time": "2024-07-17T19:42:09.558Z"
   },
   {
    "duration": 2,
    "start_time": "2024-07-17T19:42:09.623Z"
   },
   {
    "duration": 2041,
    "start_time": "2024-07-17T19:42:09.627Z"
   },
   {
    "duration": 0,
    "start_time": "2024-07-17T19:42:11.669Z"
   },
   {
    "duration": 0,
    "start_time": "2024-07-17T19:42:11.671Z"
   },
   {
    "duration": 0,
    "start_time": "2024-07-17T19:42:11.672Z"
   },
   {
    "duration": 0,
    "start_time": "2024-07-17T19:42:11.673Z"
   },
   {
    "duration": 0,
    "start_time": "2024-07-17T19:42:11.673Z"
   },
   {
    "duration": 37,
    "start_time": "2024-07-17T19:44:40.574Z"
   },
   {
    "duration": 4078,
    "start_time": "2024-07-17T19:44:48.235Z"
   },
   {
    "duration": 3777,
    "start_time": "2024-07-17T19:45:49.235Z"
   },
   {
    "duration": 1947,
    "start_time": "2024-07-17T19:58:02.636Z"
   },
   {
    "duration": 447327,
    "start_time": "2024-07-17T20:00:33.294Z"
   },
   {
    "duration": 44,
    "start_time": "2024-07-17T20:12:04.668Z"
   },
   {
    "duration": 3152,
    "start_time": "2024-07-17T20:14:27.408Z"
   },
   {
    "duration": 1375,
    "start_time": "2024-07-17T20:14:30.562Z"
   },
   {
    "duration": 49,
    "start_time": "2024-07-17T20:14:31.938Z"
   },
   {
    "duration": 8,
    "start_time": "2024-07-17T20:14:31.989Z"
   },
   {
    "duration": 28,
    "start_time": "2024-07-17T20:14:31.999Z"
   },
   {
    "duration": 7,
    "start_time": "2024-07-17T20:14:32.028Z"
   },
   {
    "duration": 19,
    "start_time": "2024-07-17T20:14:32.036Z"
   },
   {
    "duration": 4,
    "start_time": "2024-07-17T20:14:32.057Z"
   },
   {
    "duration": 768,
    "start_time": "2024-07-17T20:14:32.062Z"
   },
   {
    "duration": 349,
    "start_time": "2024-07-17T20:14:32.833Z"
   },
   {
    "duration": 2,
    "start_time": "2024-07-17T20:14:33.184Z"
   },
   {
    "duration": 6,
    "start_time": "2024-07-17T20:14:33.187Z"
   },
   {
    "duration": 2985,
    "start_time": "2024-07-17T20:14:33.195Z"
   },
   {
    "duration": 45,
    "start_time": "2024-07-17T20:14:36.182Z"
   },
   {
    "duration": 26,
    "start_time": "2024-07-17T20:14:36.228Z"
   },
   {
    "duration": 7,
    "start_time": "2024-07-17T20:14:36.255Z"
   },
   {
    "duration": 54,
    "start_time": "2024-07-17T20:14:36.263Z"
   },
   {
    "duration": 2,
    "start_time": "2024-07-17T20:14:36.319Z"
   },
   {
    "duration": 3690,
    "start_time": "2024-07-17T20:14:36.323Z"
   },
   {
    "duration": 1962,
    "start_time": "2024-07-17T20:14:40.015Z"
   },
   {
    "duration": 10546,
    "start_time": "2024-07-17T20:14:41.978Z"
   },
   {
    "duration": 11,
    "start_time": "2024-07-17T20:14:52.525Z"
   },
   {
    "duration": 3119,
    "start_time": "2024-07-17T20:15:30.789Z"
   },
   {
    "duration": 2007,
    "start_time": "2024-07-17T20:15:33.910Z"
   },
   {
    "duration": 57,
    "start_time": "2024-07-17T20:15:35.919Z"
   },
   {
    "duration": 54,
    "start_time": "2024-07-17T20:15:35.978Z"
   },
   {
    "duration": 23,
    "start_time": "2024-07-17T20:15:36.033Z"
   },
   {
    "duration": 3,
    "start_time": "2024-07-17T20:15:36.057Z"
   },
   {
    "duration": 26,
    "start_time": "2024-07-17T20:15:36.061Z"
   },
   {
    "duration": 3,
    "start_time": "2024-07-17T20:15:36.089Z"
   },
   {
    "duration": 748,
    "start_time": "2024-07-17T20:15:36.093Z"
   },
   {
    "duration": 359,
    "start_time": "2024-07-17T20:15:36.844Z"
   },
   {
    "duration": 2,
    "start_time": "2024-07-17T20:15:37.205Z"
   },
   {
    "duration": 116,
    "start_time": "2024-07-17T20:15:37.208Z"
   },
   {
    "duration": 2754,
    "start_time": "2024-07-17T20:15:37.325Z"
   },
   {
    "duration": 45,
    "start_time": "2024-07-17T20:15:40.081Z"
   },
   {
    "duration": 28,
    "start_time": "2024-07-17T20:15:40.127Z"
   },
   {
    "duration": 8,
    "start_time": "2024-07-17T20:15:40.156Z"
   },
   {
    "duration": 61,
    "start_time": "2024-07-17T20:15:40.165Z"
   },
   {
    "duration": 3,
    "start_time": "2024-07-17T20:15:40.228Z"
   },
   {
    "duration": 3880,
    "start_time": "2024-07-17T20:15:40.232Z"
   },
   {
    "duration": 1854,
    "start_time": "2024-07-17T20:15:44.113Z"
   },
   {
    "duration": 10856,
    "start_time": "2024-07-17T20:15:45.969Z"
   },
   {
    "duration": 11,
    "start_time": "2024-07-17T20:15:56.827Z"
   }
  ],
  "kernelspec": {
   "display_name": "Python 3 (ipykernel)",
   "language": "python",
   "name": "python3"
  },
  "language_info": {
   "codemirror_mode": {
    "name": "ipython",
    "version": 3
   },
   "file_extension": ".py",
   "mimetype": "text/x-python",
   "name": "python",
   "nbconvert_exporter": "python",
   "pygments_lexer": "ipython3",
   "version": "3.11.7"
  },
  "toc": {
   "base_numbering": 1,
   "nav_menu": {},
   "number_sections": true,
   "sideBar": true,
   "skip_h1_title": true,
   "title_cell": "Содержание",
   "title_sidebar": "Contents",
   "toc_cell": true,
   "toc_position": {
    "height": "calc(100% - 180px)",
    "left": "10px",
    "top": "150px",
    "width": "415.977px"
   },
   "toc_section_display": true,
   "toc_window_display": true
  }
 },
 "nbformat": 4,
 "nbformat_minor": 2
}

{
 "cells": [
  {
   "cell_type": "markdown",
   "metadata": {},
   "source": [
    "# Выбор локации для скважины"
   ]
  },
  {
   "cell_type": "markdown",
   "metadata": {},
   "source": [
    "Допустим, вы работаете в добывающей компании «ГлавРосГосНефть». Нужно решить, где бурить новую скважину.\n",
    "\n",
    "Вам предоставлены пробы нефти в трёх регионах: в каждом 10 0000 месторождений, где измерили качество нефти и объём её запасов. Постройте модель машинного обучения, которая поможет определить регион, где добыча принесёт наибольшую прибыль. Проанализируйте возможную прибыль и риски техникой *Bootstrap.*\n",
    "\n",
    "Шаги для выбора локации:\n",
    "\n",
    "- В избранном регионе ищут месторождения, для каждого определяют значения признаков;\n",
    "- Строят модель и оценивают объём запасов;\n",
    "- Выбирают месторождения с самым высокими оценками значений. Количество месторождений зависит от бюджета компании и стоимости разработки одной скважины;\n",
    "- Прибыль равна суммарной прибыли отобранных месторождений.\n",
    "\n",
    "---"
   ]
  },
  {
   "cell_type": "markdown",
   "metadata": {},
   "source": [
    "# План работ"
   ]
  },
  {
   "cell_type": "markdown",
   "metadata": {},
   "source": [
    "- [Шаг 1. Загрузка и подготовка данных](#section_1)\n",
    "\n",
    "- [Шаг 2. Обучение и проверка модели](#section_2)\n",
    "\n",
    "- [Шаг 3. Подготовка к расчёту прибыли](#section_3)\n",
    "\n",
    "- [Шаг 4. Расчёт прибыли и рисков](#section_4)\n",
    "\n",
    "- [Шаг 5. Общий вывод](#section_5)\n",
    "\n",
    "- [Шаг 6. Чек-лист готовности проекта](#section_6)\n",
    "\n",
    "---"
   ]
  },
  {
   "cell_type": "markdown",
   "metadata": {},
   "source": [
    "<a id='section_1'></a>"
   ]
  },
  {
   "cell_type": "markdown",
   "metadata": {},
   "source": [
    "## Загрузка и подготовка данных"
   ]
  },
  {
   "cell_type": "markdown",
   "metadata": {},
   "source": [
    "### Установка и импортирование библиотек"
   ]
  },
  {
   "cell_type": "code",
   "execution_count": 1,
   "metadata": {},
   "outputs": [
    {
     "name": "stdout",
     "output_type": "stream",
     "text": [
      "Requirement already satisfied: scikit-learn in /opt/conda/lib/python3.9/site-packages (1.5.0)\n",
      "Requirement already satisfied: joblib>=1.2.0 in /opt/conda/lib/python3.9/site-packages (from scikit-learn) (1.4.2)\n",
      "Requirement already satisfied: scipy>=1.6.0 in /opt/conda/lib/python3.9/site-packages (from scikit-learn) (1.9.1)\n",
      "Requirement already satisfied: threadpoolctl>=3.1.0 in /opt/conda/lib/python3.9/site-packages (from scikit-learn) (3.1.0)\n",
      "Requirement already satisfied: numpy>=1.19.5 in /opt/conda/lib/python3.9/site-packages (from scikit-learn) (1.21.1)\n",
      "Requirement already satisfied: phik in /opt/conda/lib/python3.9/site-packages (0.12.4)\n",
      "Requirement already satisfied: scipy>=1.5.2 in /opt/conda/lib/python3.9/site-packages (from phik) (1.9.1)\n",
      "Requirement already satisfied: numpy>=1.18.0 in /opt/conda/lib/python3.9/site-packages (from phik) (1.21.1)\n",
      "Requirement already satisfied: joblib>=0.14.1 in /opt/conda/lib/python3.9/site-packages (from phik) (1.4.2)\n",
      "Requirement already satisfied: pandas>=0.25.1 in /opt/conda/lib/python3.9/site-packages (from phik) (1.2.4)\n",
      "Requirement already satisfied: matplotlib>=2.2.3 in /opt/conda/lib/python3.9/site-packages (from phik) (3.3.4)\n",
      "Requirement already satisfied: cycler>=0.10 in /opt/conda/lib/python3.9/site-packages (from matplotlib>=2.2.3->phik) (0.11.0)\n",
      "Requirement already satisfied: kiwisolver>=1.0.1 in /opt/conda/lib/python3.9/site-packages (from matplotlib>=2.2.3->phik) (1.4.4)\n",
      "Requirement already satisfied: python-dateutil>=2.1 in /opt/conda/lib/python3.9/site-packages (from matplotlib>=2.2.3->phik) (2.8.1)\n",
      "Requirement already satisfied: pyparsing!=2.0.4,!=2.1.2,!=2.1.6,>=2.0.3 in /opt/conda/lib/python3.9/site-packages (from matplotlib>=2.2.3->phik) (2.4.7)\n",
      "Requirement already satisfied: pillow>=6.2.0 in /opt/conda/lib/python3.9/site-packages (from matplotlib>=2.2.3->phik) (8.4.0)\n",
      "Requirement already satisfied: pytz>=2017.3 in /opt/conda/lib/python3.9/site-packages (from pandas>=0.25.1->phik) (2021.1)\n",
      "Requirement already satisfied: six>=1.5 in /opt/conda/lib/python3.9/site-packages (from python-dateutil>=2.1->matplotlib>=2.2.3->phik) (1.16.0)\n"
     ]
    }
   ],
   "source": [
    "#Установка библиотек:\n",
    "!pip install -U scikit-learn\n",
    "!pip install phik"
   ]
  },
  {
   "cell_type": "code",
   "execution_count": 2,
   "metadata": {},
   "outputs": [],
   "source": [
    "#Импорт библиотек:\n",
    "\n",
    "#Библиотеки для работы с табличными данными и массивами:\n",
    "import pandas as pd\n",
    "import numpy as np\n",
    "\n",
    "#Библиотеки для графической иллюстрации:\n",
    "import matplotlib.pyplot as plt\n",
    "import seaborn as sns\n",
    "\n",
    "#Библиотека для стат.анализа:\n",
    "from scipy import stats as st\n",
    "\n",
    "#Библиотеки для корреляционного анализа:\n",
    "import phik\n",
    "from phik import phik_matrix\n",
    "from phik.report import plot_correlation_matrix\n",
    "\n",
    "#Инструменты для создания пайплайнов:\n",
    "from sklearn.pipeline import Pipeline\n",
    "from sklearn.compose import ColumnTransformer\n",
    "\n",
    "#Библиотеки для масштабирования данных:\n",
    "from sklearn.preprocessing import StandardScaler, MinMaxScaler\n",
    "\n",
    "#Модели МО:\n",
    "from sklearn.linear_model import LinearRegression, Ridge\n",
    "\n",
    "#Библиотеки для создания выборок:\n",
    "from sklearn.model_selection import train_test_split, RandomizedSearchCV\n",
    "\n",
    "#Библиотеки для метрик:\n",
    "from sklearn.metrics import root_mean_squared_error"
   ]
  },
  {
   "cell_type": "markdown",
   "metadata": {},
   "source": [
    "### Выгрузка данных и первичный осмотр"
   ]
  },
  {
   "cell_type": "code",
   "execution_count": 3,
   "metadata": {},
   "outputs": [],
   "source": [
    "#Считываем и распаковываем исходные данные, представленные в формате CSV:\n",
    "#Считываем с сети:\n",
    "try:\n",
    "    #Тренировочная выборка:\n",
    "    data_0 = pd.read_csv('https://code.s3.yandex.net/datasets/geo_data_0.csv')\n",
    "    \n",
    "    #Входные признаки тестовой выборки:\n",
    "    data_1 = pd.read_csv('https://code.s3.yandex.net/datasets/geo_data_1.csv')\n",
    "    \n",
    "    #Целевой признак тестовой выборки:\n",
    "    data_2 = pd.read_csv('https://code.s3.yandex.net/datasets/geo_data_2.csv')\n",
    "        \n",
    "#В случае изменения ссылки или отсутсвия сети:\n",
    "except:\n",
    "    \n",
    "    data_0 = pd.read_csv('/datasets/geo_data_0.csv')\n",
    "    \n",
    "    data_0 = pd.read_csv('/datasets/geo_data_1.csv')\n",
    "    \n",
    "    data_0 = pd.read_csv('/datasets/geo_data_2.csv')\n",
    "        \n",
    "#Используем специальную команду отображения таблиц, для наглядного просмотра всех данных:    \n",
    "pd.set_option('display.max_columns', None)"
   ]
  },
  {
   "cell_type": "code",
   "execution_count": 4,
   "metadata": {},
   "outputs": [
    {
     "data": {
      "text/html": [
       "<div>\n",
       "<style scoped>\n",
       "    .dataframe tbody tr th:only-of-type {\n",
       "        vertical-align: middle;\n",
       "    }\n",
       "\n",
       "    .dataframe tbody tr th {\n",
       "        vertical-align: top;\n",
       "    }\n",
       "\n",
       "    .dataframe thead th {\n",
       "        text-align: right;\n",
       "    }\n",
       "</style>\n",
       "<table border=\"1\" class=\"dataframe\">\n",
       "  <thead>\n",
       "    <tr style=\"text-align: right;\">\n",
       "      <th></th>\n",
       "      <th>id</th>\n",
       "      <th>f0</th>\n",
       "      <th>f1</th>\n",
       "      <th>f2</th>\n",
       "      <th>product</th>\n",
       "    </tr>\n",
       "  </thead>\n",
       "  <tbody>\n",
       "    <tr>\n",
       "      <th>0</th>\n",
       "      <td>txEyH</td>\n",
       "      <td>0.705745</td>\n",
       "      <td>-0.497823</td>\n",
       "      <td>1.221170</td>\n",
       "      <td>105.280062</td>\n",
       "    </tr>\n",
       "    <tr>\n",
       "      <th>1</th>\n",
       "      <td>2acmU</td>\n",
       "      <td>1.334711</td>\n",
       "      <td>-0.340164</td>\n",
       "      <td>4.365080</td>\n",
       "      <td>73.037750</td>\n",
       "    </tr>\n",
       "    <tr>\n",
       "      <th>2</th>\n",
       "      <td>409Wp</td>\n",
       "      <td>1.022732</td>\n",
       "      <td>0.151990</td>\n",
       "      <td>1.419926</td>\n",
       "      <td>85.265647</td>\n",
       "    </tr>\n",
       "    <tr>\n",
       "      <th>3</th>\n",
       "      <td>iJLyR</td>\n",
       "      <td>-0.032172</td>\n",
       "      <td>0.139033</td>\n",
       "      <td>2.978566</td>\n",
       "      <td>168.620776</td>\n",
       "    </tr>\n",
       "    <tr>\n",
       "      <th>4</th>\n",
       "      <td>Xdl7t</td>\n",
       "      <td>1.988431</td>\n",
       "      <td>0.155413</td>\n",
       "      <td>4.751769</td>\n",
       "      <td>154.036647</td>\n",
       "    </tr>\n",
       "    <tr>\n",
       "      <th>5</th>\n",
       "      <td>wX4Hy</td>\n",
       "      <td>0.969570</td>\n",
       "      <td>0.489775</td>\n",
       "      <td>-0.735383</td>\n",
       "      <td>64.741541</td>\n",
       "    </tr>\n",
       "    <tr>\n",
       "      <th>6</th>\n",
       "      <td>tL6pL</td>\n",
       "      <td>0.645075</td>\n",
       "      <td>0.530656</td>\n",
       "      <td>1.780266</td>\n",
       "      <td>49.055285</td>\n",
       "    </tr>\n",
       "    <tr>\n",
       "      <th>7</th>\n",
       "      <td>BYPU6</td>\n",
       "      <td>-0.400648</td>\n",
       "      <td>0.808337</td>\n",
       "      <td>-5.624670</td>\n",
       "      <td>72.943292</td>\n",
       "    </tr>\n",
       "    <tr>\n",
       "      <th>8</th>\n",
       "      <td>j9Oui</td>\n",
       "      <td>0.643105</td>\n",
       "      <td>-0.551583</td>\n",
       "      <td>2.372141</td>\n",
       "      <td>113.356160</td>\n",
       "    </tr>\n",
       "    <tr>\n",
       "      <th>9</th>\n",
       "      <td>OLuZU</td>\n",
       "      <td>2.173381</td>\n",
       "      <td>0.563698</td>\n",
       "      <td>9.441852</td>\n",
       "      <td>127.910945</td>\n",
       "    </tr>\n",
       "  </tbody>\n",
       "</table>\n",
       "</div>"
      ],
      "text/plain": [
       "      id        f0        f1        f2     product\n",
       "0  txEyH  0.705745 -0.497823  1.221170  105.280062\n",
       "1  2acmU  1.334711 -0.340164  4.365080   73.037750\n",
       "2  409Wp  1.022732  0.151990  1.419926   85.265647\n",
       "3  iJLyR -0.032172  0.139033  2.978566  168.620776\n",
       "4  Xdl7t  1.988431  0.155413  4.751769  154.036647\n",
       "5  wX4Hy  0.969570  0.489775 -0.735383   64.741541\n",
       "6  tL6pL  0.645075  0.530656  1.780266   49.055285\n",
       "7  BYPU6 -0.400648  0.808337 -5.624670   72.943292\n",
       "8  j9Oui  0.643105 -0.551583  2.372141  113.356160\n",
       "9  OLuZU  2.173381  0.563698  9.441852  127.910945"
      ]
     },
     "metadata": {},
     "output_type": "display_data"
    },
    {
     "name": "stdout",
     "output_type": "stream",
     "text": [
      "\n",
      "<class 'pandas.core.frame.DataFrame'>\n",
      "RangeIndex: 100000 entries, 0 to 99999\n",
      "Data columns (total 5 columns):\n",
      " #   Column   Non-Null Count   Dtype  \n",
      "---  ------   --------------   -----  \n",
      " 0   id       100000 non-null  object \n",
      " 1   f0       100000 non-null  float64\n",
      " 2   f1       100000 non-null  float64\n",
      " 3   f2       100000 non-null  float64\n",
      " 4   product  100000 non-null  float64\n",
      "dtypes: float64(4), object(1)\n",
      "memory usage: 3.8+ MB\n",
      "\n",
      "-----------------------------------------------------------------------------------------------------------------------------\n"
     ]
    },
    {
     "data": {
      "text/html": [
       "<div>\n",
       "<style scoped>\n",
       "    .dataframe tbody tr th:only-of-type {\n",
       "        vertical-align: middle;\n",
       "    }\n",
       "\n",
       "    .dataframe tbody tr th {\n",
       "        vertical-align: top;\n",
       "    }\n",
       "\n",
       "    .dataframe thead th {\n",
       "        text-align: right;\n",
       "    }\n",
       "</style>\n",
       "<table border=\"1\" class=\"dataframe\">\n",
       "  <thead>\n",
       "    <tr style=\"text-align: right;\">\n",
       "      <th></th>\n",
       "      <th>id</th>\n",
       "      <th>f0</th>\n",
       "      <th>f1</th>\n",
       "      <th>f2</th>\n",
       "      <th>product</th>\n",
       "    </tr>\n",
       "  </thead>\n",
       "  <tbody>\n",
       "    <tr>\n",
       "      <th>0</th>\n",
       "      <td>kBEdx</td>\n",
       "      <td>-15.001348</td>\n",
       "      <td>-8.276000</td>\n",
       "      <td>-0.005876</td>\n",
       "      <td>3.179103</td>\n",
       "    </tr>\n",
       "    <tr>\n",
       "      <th>1</th>\n",
       "      <td>62mP7</td>\n",
       "      <td>14.272088</td>\n",
       "      <td>-3.475083</td>\n",
       "      <td>0.999183</td>\n",
       "      <td>26.953261</td>\n",
       "    </tr>\n",
       "    <tr>\n",
       "      <th>2</th>\n",
       "      <td>vyE1P</td>\n",
       "      <td>6.263187</td>\n",
       "      <td>-5.948386</td>\n",
       "      <td>5.001160</td>\n",
       "      <td>134.766305</td>\n",
       "    </tr>\n",
       "    <tr>\n",
       "      <th>3</th>\n",
       "      <td>KcrkZ</td>\n",
       "      <td>-13.081196</td>\n",
       "      <td>-11.506057</td>\n",
       "      <td>4.999415</td>\n",
       "      <td>137.945408</td>\n",
       "    </tr>\n",
       "    <tr>\n",
       "      <th>4</th>\n",
       "      <td>AHL4O</td>\n",
       "      <td>12.702195</td>\n",
       "      <td>-8.147433</td>\n",
       "      <td>5.004363</td>\n",
       "      <td>134.766305</td>\n",
       "    </tr>\n",
       "    <tr>\n",
       "      <th>5</th>\n",
       "      <td>HHckp</td>\n",
       "      <td>-3.327590</td>\n",
       "      <td>-2.205276</td>\n",
       "      <td>3.003647</td>\n",
       "      <td>84.038886</td>\n",
       "    </tr>\n",
       "    <tr>\n",
       "      <th>6</th>\n",
       "      <td>h5Ujo</td>\n",
       "      <td>-11.142655</td>\n",
       "      <td>-10.133399</td>\n",
       "      <td>4.002382</td>\n",
       "      <td>110.992147</td>\n",
       "    </tr>\n",
       "    <tr>\n",
       "      <th>7</th>\n",
       "      <td>muH9x</td>\n",
       "      <td>4.234715</td>\n",
       "      <td>-0.001354</td>\n",
       "      <td>2.004588</td>\n",
       "      <td>53.906522</td>\n",
       "    </tr>\n",
       "    <tr>\n",
       "      <th>8</th>\n",
       "      <td>YiRkx</td>\n",
       "      <td>13.355129</td>\n",
       "      <td>-0.332068</td>\n",
       "      <td>4.998647</td>\n",
       "      <td>134.766305</td>\n",
       "    </tr>\n",
       "    <tr>\n",
       "      <th>9</th>\n",
       "      <td>jG6Gi</td>\n",
       "      <td>1.069227</td>\n",
       "      <td>-11.025667</td>\n",
       "      <td>4.997844</td>\n",
       "      <td>137.945408</td>\n",
       "    </tr>\n",
       "  </tbody>\n",
       "</table>\n",
       "</div>"
      ],
      "text/plain": [
       "      id         f0         f1        f2     product\n",
       "0  kBEdx -15.001348  -8.276000 -0.005876    3.179103\n",
       "1  62mP7  14.272088  -3.475083  0.999183   26.953261\n",
       "2  vyE1P   6.263187  -5.948386  5.001160  134.766305\n",
       "3  KcrkZ -13.081196 -11.506057  4.999415  137.945408\n",
       "4  AHL4O  12.702195  -8.147433  5.004363  134.766305\n",
       "5  HHckp  -3.327590  -2.205276  3.003647   84.038886\n",
       "6  h5Ujo -11.142655 -10.133399  4.002382  110.992147\n",
       "7  muH9x   4.234715  -0.001354  2.004588   53.906522\n",
       "8  YiRkx  13.355129  -0.332068  4.998647  134.766305\n",
       "9  jG6Gi   1.069227 -11.025667  4.997844  137.945408"
      ]
     },
     "metadata": {},
     "output_type": "display_data"
    },
    {
     "name": "stdout",
     "output_type": "stream",
     "text": [
      "\n",
      "<class 'pandas.core.frame.DataFrame'>\n",
      "RangeIndex: 100000 entries, 0 to 99999\n",
      "Data columns (total 5 columns):\n",
      " #   Column   Non-Null Count   Dtype  \n",
      "---  ------   --------------   -----  \n",
      " 0   id       100000 non-null  object \n",
      " 1   f0       100000 non-null  float64\n",
      " 2   f1       100000 non-null  float64\n",
      " 3   f2       100000 non-null  float64\n",
      " 4   product  100000 non-null  float64\n",
      "dtypes: float64(4), object(1)\n",
      "memory usage: 3.8+ MB\n",
      "\n",
      "-----------------------------------------------------------------------------------------------------------------------------\n"
     ]
    },
    {
     "data": {
      "text/html": [
       "<div>\n",
       "<style scoped>\n",
       "    .dataframe tbody tr th:only-of-type {\n",
       "        vertical-align: middle;\n",
       "    }\n",
       "\n",
       "    .dataframe tbody tr th {\n",
       "        vertical-align: top;\n",
       "    }\n",
       "\n",
       "    .dataframe thead th {\n",
       "        text-align: right;\n",
       "    }\n",
       "</style>\n",
       "<table border=\"1\" class=\"dataframe\">\n",
       "  <thead>\n",
       "    <tr style=\"text-align: right;\">\n",
       "      <th></th>\n",
       "      <th>id</th>\n",
       "      <th>f0</th>\n",
       "      <th>f1</th>\n",
       "      <th>f2</th>\n",
       "      <th>product</th>\n",
       "    </tr>\n",
       "  </thead>\n",
       "  <tbody>\n",
       "    <tr>\n",
       "      <th>0</th>\n",
       "      <td>fwXo0</td>\n",
       "      <td>-1.146987</td>\n",
       "      <td>0.963328</td>\n",
       "      <td>-0.828965</td>\n",
       "      <td>27.758673</td>\n",
       "    </tr>\n",
       "    <tr>\n",
       "      <th>1</th>\n",
       "      <td>WJtFt</td>\n",
       "      <td>0.262778</td>\n",
       "      <td>0.269839</td>\n",
       "      <td>-2.530187</td>\n",
       "      <td>56.069697</td>\n",
       "    </tr>\n",
       "    <tr>\n",
       "      <th>2</th>\n",
       "      <td>ovLUW</td>\n",
       "      <td>0.194587</td>\n",
       "      <td>0.289035</td>\n",
       "      <td>-5.586433</td>\n",
       "      <td>62.871910</td>\n",
       "    </tr>\n",
       "    <tr>\n",
       "      <th>3</th>\n",
       "      <td>q6cA6</td>\n",
       "      <td>2.236060</td>\n",
       "      <td>-0.553760</td>\n",
       "      <td>0.930038</td>\n",
       "      <td>114.572842</td>\n",
       "    </tr>\n",
       "    <tr>\n",
       "      <th>4</th>\n",
       "      <td>WPMUX</td>\n",
       "      <td>-0.515993</td>\n",
       "      <td>1.716266</td>\n",
       "      <td>5.899011</td>\n",
       "      <td>149.600746</td>\n",
       "    </tr>\n",
       "    <tr>\n",
       "      <th>5</th>\n",
       "      <td>LzZXx</td>\n",
       "      <td>-0.758092</td>\n",
       "      <td>0.710691</td>\n",
       "      <td>2.585887</td>\n",
       "      <td>90.222465</td>\n",
       "    </tr>\n",
       "    <tr>\n",
       "      <th>6</th>\n",
       "      <td>WBHRv</td>\n",
       "      <td>-0.574891</td>\n",
       "      <td>0.317727</td>\n",
       "      <td>1.773745</td>\n",
       "      <td>45.641478</td>\n",
       "    </tr>\n",
       "    <tr>\n",
       "      <th>7</th>\n",
       "      <td>XO8fn</td>\n",
       "      <td>-1.906649</td>\n",
       "      <td>-2.458350</td>\n",
       "      <td>-0.177097</td>\n",
       "      <td>72.480640</td>\n",
       "    </tr>\n",
       "    <tr>\n",
       "      <th>8</th>\n",
       "      <td>ybmQ5</td>\n",
       "      <td>1.776292</td>\n",
       "      <td>-0.279356</td>\n",
       "      <td>3.004156</td>\n",
       "      <td>106.616832</td>\n",
       "    </tr>\n",
       "    <tr>\n",
       "      <th>9</th>\n",
       "      <td>OilcN</td>\n",
       "      <td>-1.214452</td>\n",
       "      <td>-0.439314</td>\n",
       "      <td>5.922514</td>\n",
       "      <td>52.954532</td>\n",
       "    </tr>\n",
       "  </tbody>\n",
       "</table>\n",
       "</div>"
      ],
      "text/plain": [
       "      id        f0        f1        f2     product\n",
       "0  fwXo0 -1.146987  0.963328 -0.828965   27.758673\n",
       "1  WJtFt  0.262778  0.269839 -2.530187   56.069697\n",
       "2  ovLUW  0.194587  0.289035 -5.586433   62.871910\n",
       "3  q6cA6  2.236060 -0.553760  0.930038  114.572842\n",
       "4  WPMUX -0.515993  1.716266  5.899011  149.600746\n",
       "5  LzZXx -0.758092  0.710691  2.585887   90.222465\n",
       "6  WBHRv -0.574891  0.317727  1.773745   45.641478\n",
       "7  XO8fn -1.906649 -2.458350 -0.177097   72.480640\n",
       "8  ybmQ5  1.776292 -0.279356  3.004156  106.616832\n",
       "9  OilcN -1.214452 -0.439314  5.922514   52.954532"
      ]
     },
     "metadata": {},
     "output_type": "display_data"
    },
    {
     "name": "stdout",
     "output_type": "stream",
     "text": [
      "\n",
      "<class 'pandas.core.frame.DataFrame'>\n",
      "RangeIndex: 100000 entries, 0 to 99999\n",
      "Data columns (total 5 columns):\n",
      " #   Column   Non-Null Count   Dtype  \n",
      "---  ------   --------------   -----  \n",
      " 0   id       100000 non-null  object \n",
      " 1   f0       100000 non-null  float64\n",
      " 2   f1       100000 non-null  float64\n",
      " 3   f2       100000 non-null  float64\n",
      " 4   product  100000 non-null  float64\n",
      "dtypes: float64(4), object(1)\n",
      "memory usage: 3.8+ MB\n",
      "\n",
      "-----------------------------------------------------------------------------------------------------------------------------\n"
     ]
    }
   ],
   "source": [
    "#Создадим список, в который положим все исходные датафреймы:\n",
    "all_data = [data_0, data_1, data_2]\n",
    "\n",
    "#С помощью цикла просмотрим все данные о каждой таблице:\n",
    "for data in all_data:    \n",
    "    display(data.head(10))\n",
    "    print()\n",
    "    data.info()\n",
    "    print()\n",
    "    print('-'*125)"
   ]
  },
  {
   "cell_type": "code",
   "execution_count": 5,
   "metadata": {},
   "outputs": [
    {
     "name": "stdout",
     "output_type": "stream",
     "text": [
      "0\n",
      "\n",
      "0\n",
      "\n",
      "0\n",
      "\n"
     ]
    }
   ],
   "source": [
    "#Проверка на наличие дубликатов:\n",
    "for data in all_data:\n",
    "    print(data.duplicated().sum())\n",
    "    print()"
   ]
  },
  {
   "cell_type": "markdown",
   "metadata": {},
   "source": [
    "**По предварительному анализу выгруженных данных можно сделать выводы:**\n",
    "\n",
    "> Каждый датасет, из трёх представленных, имеет **5 столбцов** и **100000 строк**\n",
    "\n",
    "**Имена столбцов в каждом датасете корректны и совпадают:**\n",
    "\n",
    "- ***id*** — уникальный идентификатор скважины\n",
    "- ***f0, f1, f2*** — три признака точек (неважно, что они означают, но сами признаки значимы)\n",
    "- ***product*** — объём запасов в скважине (тыс. баррелей)\n",
    "\n",
    "> Все типы данных соответсвуют всем значениям типов в столбцах\n",
    "\n",
    "> Дубликатов в данных нет\n",
    "\n",
    "> Пропусков в данных нет"
   ]
  },
  {
   "cell_type": "markdown",
   "metadata": {},
   "source": [
    "### Исследовательский анализ\n",
    "\n",
    "#### Анализ входных признаков"
   ]
  },
  {
   "cell_type": "markdown",
   "metadata": {},
   "source": [
    "Сначала проведем анализ всех входных признаков по всем датасетам. Для удобства построения создадим функцию:"
   ]
  },
  {
   "cell_type": "code",
   "execution_count": 6,
   "metadata": {},
   "outputs": [
    {
     "data": {
      "image/png": "[encoded data removed]",
      "text/plain": [
       "<Figure size 1008x576 with 1 Axes>"
      ]
     },
     "metadata": {
      "needs_background": "light"
     },
     "output_type": "display_data"
    },
    {
     "data": {
      "image/png": "[encoded data removed]",
      "text/plain": [
       "<Figure size 1008x576 with 1 Axes>"
      ]
     },
     "metadata": {
      "needs_background": "light"
     },
     "output_type": "display_data"
    }
   ],
   "source": [
    "#Определяем функцию:\n",
    "def graph(data):\n",
    "    \n",
    "    #Построение графиков распределения для входных признаков f0, f1, f2:\n",
    "    plt.figure(figsize=(14,8))\n",
    "    sns.kdeplot(data['f0'], shade=True, label='признак f0')\n",
    "    sns.kdeplot(data['f1'], shade=True, label='признак f1')\n",
    "    sns.kdeplot(data['f2'], shade=True, label='признак f2')\n",
    "    plt.title(f'График распределения признаков f0, f1, f2', fontsize=14)\n",
    "    plt.xlabel('Интервал значений признаков', fontsize=12)\n",
    "    plt.ylabel('Плотность распределения ', fontsize=12)\n",
    "    plt.legend(loc='upper right', fontsize=12)\n",
    "    plt.show()\n",
    "    \n",
    "    #Построения ящиков с усами:\n",
    "    plt.figure(figsize=(14,8))\n",
    "    sns.boxplot(data=data.loc[:,'f0':'f2'], flierprops=dict(marker='o', markerfacecolor='red', markersize=5))\n",
    "    plt.xlabel('Признаки', fontsize=12)\n",
    "    plt.ylabel('Интервал значений признаков', fontsize=12)\n",
    "    plt.title('Boxplot', fontsize=14)\n",
    "\n",
    "#вызываем функцию для data_0:\n",
    "graph(data_0)"
   ]
  },
  {
   "cell_type": "markdown",
   "metadata": {},
   "source": [
    "> Все признаки лежат в интервале допустимых значений **(аномалий - нет)**\n",
    "\n",
    "> Признак ***f2*** - имеет выбросы (избавляться от данных выбросов мы не будем, аргументируя это тем, что данные лежат в допустимом диапозоне)\n",
    "\n",
    "> Признак ***f2*** - имеет нормальное распределение\n",
    "\n",
    "> Признаки ***f0, f1*** - лежат в допустимом интервале и не имеют выбросов, но их распределение назвать нормальным - трудно. Данные распределения имеют множество пиков, но маленький разброс, по сравнению с признаком ***f2***\n",
    "\n",
    "Теперь рассмотрим теже признаки для второго датасета ***data_1***:"
   ]
  },
  {
   "cell_type": "code",
   "execution_count": 7,
   "metadata": {},
   "outputs": [
    {
     "data": {
      "image/png": "[encoded data removed]",
      "text/plain": [
       "<Figure size 1008x576 with 1 Axes>"
      ]
     },
     "metadata": {
      "needs_background": "light"
     },
     "output_type": "display_data"
    },
    {
     "data": {
      "image/png": "[encoded data removed]",
      "text/plain": [
       "<Figure size 1008x576 with 1 Axes>"
      ]
     },
     "metadata": {
      "needs_background": "light"
     },
     "output_type": "display_data"
    }
   ],
   "source": [
    "#вызываем функцию для data_1:\n",
    "graph(data_1)"
   ]
  },
  {
   "cell_type": "markdown",
   "metadata": {},
   "source": [
    "> Все признаки лежат в интервале допустимых значений **(аномалий - нет)**\n",
    "\n",
    "> Признаки ***f0,f1*** - имеют выбросы (избавляться от данных выбросов мы не будем, аргументируя это тем, что данные лежат в допустимом диапозоне)\n",
    "\n",
    "> Признак ***f1*** - имеет нормальное распределение\n",
    "\n",
    "> Признак ***f0*** - имеет две выпуклости, схоже с нормальным распределением с двумя горбами\n",
    "\n",
    "> Признак ***f2*** - имеет маленький разброс значений, и множество пиков\n",
    "\n",
    "Теперь рассмотрим теже признаки для третьего датасета ***data_2***:"
   ]
  },
  {
   "cell_type": "code",
   "execution_count": 8,
   "metadata": {},
   "outputs": [
    {
     "data": {
      "image/png": "[encoded data removed]",
      "text/plain": [
       "<Figure size 1008x576 with 1 Axes>"
      ]
     },
     "metadata": {
      "needs_background": "light"
     },
     "output_type": "display_data"
    },
    {
     "data": {
      "image/png": "[encoded data removed]",
      "text/plain": [
       "<Figure size 1008x576 with 1 Axes>"
      ]
     },
     "metadata": {
      "needs_background": "light"
     },
     "output_type": "display_data"
    }
   ],
   "source": [
    "#вызываем функцию для data_1:\n",
    "graph(data_2)"
   ]
  },
  {
   "cell_type": "markdown",
   "metadata": {},
   "source": [
    "> Все признаки имеют нормальное распределение\n",
    "\n",
    "> Все признаки имееют выбросы, но аномальные значения - отсутствуют\n",
    "\n",
    "> Все признаки лежат в допустимых интервалах\n",
    "\n",
    "> Наибольший разброс имеет признак ***f2***"
   ]
  },
  {
   "cell_type": "markdown",
   "metadata": {},
   "source": [
    "#### Анализ целевого признака"
   ]
  },
  {
   "cell_type": "code",
   "execution_count": 9,
   "metadata": {},
   "outputs": [
    {
     "data": {
      "image/png": "[encoded data removed]",
      "text/plain": [
       "<Figure size 1008x576 with 1 Axes>"
      ]
     },
     "metadata": {
      "needs_background": "light"
     },
     "output_type": "display_data"
    }
   ],
   "source": [
    "#Построение графиков распределения для входных признаков f0, f1, f2:\n",
    "plt.figure(figsize=(14,8))\n",
    "sns.kdeplot(data_0['product'], shade=True, label='признак product data_0')\n",
    "sns.kdeplot(data_1['product'], shade=True, label='признак product data_1')\n",
    "sns.kdeplot(data_2['product'], shade=True, label='признак product data_2')\n",
    "plt.title(f'График распределения признака product', fontsize=16)\n",
    "plt.xlabel('Интервал значений признака', fontsize=14)\n",
    "plt.ylabel('Плотность распределения', fontsize=14)\n",
    "plt.legend(loc='upper right', fontsize=12)\n",
    "plt.show() "
   ]
  },
  {
   "cell_type": "markdown",
   "metadata": {},
   "source": [
    "> Данные лежат в допустимом диапозоне (аномалий - нет)\n",
    "\n",
    "> Признаки для первого и второго датасета почти идентично распределены, и схожи с нормальным распределением\n",
    "\n",
    "> Признак ***product*** второго датасета имеет значения, которые распределены дискретно\n",
    "\n",
    "**Подводя итоги исследовательского анализа данных, можно сказать, что большеснтво данных имеет нормальное распределение и лежит в допустимых диапозонах. Есть признаки как входные, так и целевые, распределение которых сложно назвать нормальным, но удалять их мы не будем, т.к. они понадобятся для обучения модели (при постановке задачи, было сказано, что входные признаки *f0,f1,f2* - значимы). Также в данных нет аномалий, но наблюдаются выбросы, это также необходимо учесть для дальнейшего анализа.**"
   ]
  },
  {
   "cell_type": "markdown",
   "metadata": {},
   "source": [
    "### Корреляционный анализ"
   ]
  },
  {
   "cell_type": "code",
   "execution_count": 10,
   "metadata": {
    "scrolled": false
   },
   "outputs": [
    {
     "data": {
      "image/png": "[encoded data removed]",
      "text/plain": [
       "<Figure size 504x504 with 2 Axes>"
      ]
     },
     "metadata": {
      "needs_background": "light"
     },
     "output_type": "display_data"
    },
    {
     "data": {
      "image/png": "[encoded data removed]",
      "text/plain": [
       "<Figure size 504x504 with 2 Axes>"
      ]
     },
     "metadata": {
      "needs_background": "light"
     },
     "output_type": "display_data"
    },
    {
     "data": {
      "image/png": "[encoded data removed]",
      "text/plain": [
       "<Figure size 504x504 with 2 Axes>"
      ]
     },
     "metadata": {
      "needs_background": "light"
     },
     "output_type": "display_data"
    }
   ],
   "source": [
    "#Создаем список непрерывных переменных:\n",
    "interval_cols = ['f0', 'f1', 'f2', 'product']\n",
    "\n",
    "#Строим матрицу корреляции Phik для всех датасетов в цикле:\n",
    "for data in all_data:\n",
    "    \n",
    "    #Считаем корреляции данных:\n",
    "    phik_overview = phik_matrix(data.drop('id', axis=1), interval_cols=interval_cols)\n",
    "\n",
    "    plot_correlation_matrix(\n",
    "        phik_overview.values,\n",
    "        x_labels=phik_overview.columns,\n",
    "        y_labels=phik_overview.index,\n",
    "        vmin=0, vmax=1, color_map='Greens',\n",
    "        title=r'Корреляция по $\\phi_K$',\n",
    "        fontsize_factor=1.5,\n",
    "        figsize=(7, 7)\n",
    "    )"
   ]
  },
  {
   "cell_type": "markdown",
   "metadata": {},
   "source": [
    "> **Утечка целового признака** - наблюдается во втором датасете между целевым признаком и входным ***f2*** и составляет **0.98**\n",
    "\n",
    "> Мультиколлинеарности не наблюдается\n",
    "\n",
    "Мы обнаружили утечку целового признака, требуется удалить данный входной признак, но по условию задачи мы не можем этого сделать, потому что признаки, как было сказано ранее, **значимы**. Поэтому мы используем ***L2-регуляризацию***, при обучении модели, которая уменьшит влияние входного признака ***f2***, наложив штраф на большие коэффициенты, не обнуляя их."
   ]
  },
  {
   "cell_type": "markdown",
   "metadata": {},
   "source": [
    "<a id='section_2'></a>"
   ]
  },
  {
   "cell_type": "markdown",
   "metadata": {},
   "source": [
    "## Обучение и проверка модели"
   ]
  },
  {
   "cell_type": "markdown",
   "metadata": {},
   "source": [
    "### Создание пайплайна"
   ]
  },
  {
   "cell_type": "code",
   "execution_count": 11,
   "metadata": {},
   "outputs": [
    {
     "data": {
      "text/html": [
       "<style>#sk-container-id-1 {\n",
       "  /* Definition of color scheme common for light and dark mode */\n",
       "  --sklearn-color-text: black;\n",
       "  --sklearn-color-line: gray;\n",
       "  /* Definition of color scheme for unfitted estimators */\n",
       "  --sklearn-color-unfitted-level-0: #fff5e6;\n",
       "  --sklearn-color-unfitted-level-1: #f6e4d2;\n",
       "  --sklearn-color-unfitted-level-2: #ffe0b3;\n",
       "  --sklearn-color-unfitted-level-3: chocolate;\n",
       "  /* Definition of color scheme for fitted estimators */\n",
       "  --sklearn-color-fitted-level-0: #f0f8ff;\n",
       "  --sklearn-color-fitted-level-1: #d4ebff;\n",
       "  --sklearn-color-fitted-level-2: #b3dbfd;\n",
       "  --sklearn-color-fitted-level-3: cornflowerblue;\n",
       "\n",
       "  /* Specific color for light theme */\n",
       "  --sklearn-color-text-on-default-background: var(--sg-text-color, var(--theme-code-foreground, var(--jp-content-font-color1, black)));\n",
       "  --sklearn-color-background: var(--sg-background-color, var(--theme-background, var(--jp-layout-color0, white)));\n",
       "  --sklearn-color-border-box: var(--sg-text-color, var(--theme-code-foreground, var(--jp-content-font-color1, black)));\n",
       "  --sklearn-color-icon: #696969;\n",
       "\n",
       "  @media (prefers-color-scheme: dark) {\n",
       "    /* Redefinition of color scheme for dark theme */\n",
       "    --sklearn-color-text-on-default-background: var(--sg-text-color, var(--theme-code-foreground, var(--jp-content-font-color1, white)));\n",
       "    --sklearn-color-background: var(--sg-background-color, var(--theme-background, var(--jp-layout-color0, #111)));\n",
       "    --sklearn-color-border-box: var(--sg-text-color, var(--theme-code-foreground, var(--jp-content-font-color1, white)));\n",
       "    --sklearn-color-icon: #878787;\n",
       "  }\n",
       "}\n",
       "\n",
       "#sk-container-id-1 {\n",
       "  color: var(--sklearn-color-text);\n",
       "}\n",
       "\n",
       "#sk-container-id-1 pre {\n",
       "  padding: 0;\n",
       "}\n",
       "\n",
       "#sk-container-id-1 input.sk-hidden--visually {\n",
       "  border: 0;\n",
       "  clip: rect(1px 1px 1px 1px);\n",
       "  clip: rect(1px, 1px, 1px, 1px);\n",
       "  height: 1px;\n",
       "  margin: -1px;\n",
       "  overflow: hidden;\n",
       "  padding: 0;\n",
       "  position: absolute;\n",
       "  width: 1px;\n",
       "}\n",
       "\n",
       "#sk-container-id-1 div.sk-dashed-wrapped {\n",
       "  border: 1px dashed var(--sklearn-color-line);\n",
       "  margin: 0 0.4em 0.5em 0.4em;\n",
       "  box-sizing: border-box;\n",
       "  padding-bottom: 0.4em;\n",
       "  background-color: var(--sklearn-color-background);\n",
       "}\n",
       "\n",
       "#sk-container-id-1 div.sk-container {\n",
       "  /* jupyter's `normalize.less` sets `[hidden] { display: none; }`\n",
       "     but bootstrap.min.css set `[hidden] { display: none !important; }`\n",
       "     so we also need the `!important` here to be able to override the\n",
       "     default hidden behavior on the sphinx rendered scikit-learn.org.\n",
       "     See: https://github.com/scikit-learn/scikit-learn/issues/21755 */\n",
       "  display: inline-block !important;\n",
       "  position: relative;\n",
       "}\n",
       "\n",
       "#sk-container-id-1 div.sk-text-repr-fallback {\n",
       "  display: none;\n",
       "}\n",
       "\n",
       "div.sk-parallel-item,\n",
       "div.sk-serial,\n",
       "div.sk-item {\n",
       "  /* draw centered vertical line to link estimators */\n",
       "  background-image: linear-gradient(var(--sklearn-color-text-on-default-background), var(--sklearn-color-text-on-default-background));\n",
       "  background-size: 2px 100%;\n",
       "  background-repeat: no-repeat;\n",
       "  background-position: center center;\n",
       "}\n",
       "\n",
       "/* Parallel-specific style estimator block */\n",
       "\n",
       "#sk-container-id-1 div.sk-parallel-item::after {\n",
       "  content: \"\";\n",
       "  width: 100%;\n",
       "  border-bottom: 2px solid var(--sklearn-color-text-on-default-background);\n",
       "  flex-grow: 1;\n",
       "}\n",
       "\n",
       "#sk-container-id-1 div.sk-parallel {\n",
       "  display: flex;\n",
       "  align-items: stretch;\n",
       "  justify-content: center;\n",
       "  background-color: var(--sklearn-color-background);\n",
       "  position: relative;\n",
       "}\n",
       "\n",
       "#sk-container-id-1 div.sk-parallel-item {\n",
       "  display: flex;\n",
       "  flex-direction: column;\n",
       "}\n",
       "\n",
       "#sk-container-id-1 div.sk-parallel-item:first-child::after {\n",
       "  align-self: flex-end;\n",
       "  width: 50%;\n",
       "}\n",
       "\n",
       "#sk-container-id-1 div.sk-parallel-item:last-child::after {\n",
       "  align-self: flex-start;\n",
       "  width: 50%;\n",
       "}\n",
       "\n",
       "#sk-container-id-1 div.sk-parallel-item:only-child::after {\n",
       "  width: 0;\n",
       "}\n",
       "\n",
       "/* Serial-specific style estimator block */\n",
       "\n",
       "#sk-container-id-1 div.sk-serial {\n",
       "  display: flex;\n",
       "  flex-direction: column;\n",
       "  align-items: center;\n",
       "  background-color: var(--sklearn-color-background);\n",
       "  padding-right: 1em;\n",
       "  padding-left: 1em;\n",
       "}\n",
       "\n",
       "\n",
       "/* Toggleable style: style used for estimator/Pipeline/ColumnTransformer box that is\n",
       "clickable and can be expanded/collapsed.\n",
       "- Pipeline and ColumnTransformer use this feature and define the default style\n",
       "- Estimators will overwrite some part of the style using the `sk-estimator` class\n",
       "*/\n",
       "\n",
       "/* Pipeline and ColumnTransformer style (default) */\n",
       "\n",
       "#sk-container-id-1 div.sk-toggleable {\n",
       "  /* Default theme specific background. It is overwritten whether we have a\n",
       "  specific estimator or a Pipeline/ColumnTransformer */\n",
       "  background-color: var(--sklearn-color-background);\n",
       "}\n",
       "\n",
       "/* Toggleable label */\n",
       "#sk-container-id-1 label.sk-toggleable__label {\n",
       "  cursor: pointer;\n",
       "  display: block;\n",
       "  width: 100%;\n",
       "  margin-bottom: 0;\n",
       "  padding: 0.5em;\n",
       "  box-sizing: border-box;\n",
       "  text-align: center;\n",
       "}\n",
       "\n",
       "#sk-container-id-1 label.sk-toggleable__label-arrow:before {\n",
       "  /* Arrow on the left of the label */\n",
       "  content: \"▸\";\n",
       "  float: left;\n",
       "  margin-right: 0.25em;\n",
       "  color: var(--sklearn-color-icon);\n",
       "}\n",
       "\n",
       "#sk-container-id-1 label.sk-toggleable__label-arrow:hover:before {\n",
       "  color: var(--sklearn-color-text);\n",
       "}\n",
       "\n",
       "/* Toggleable content - dropdown */\n",
       "\n",
       "#sk-container-id-1 div.sk-toggleable__content {\n",
       "  max-height: 0;\n",
       "  max-width: 0;\n",
       "  overflow: hidden;\n",
       "  text-align: left;\n",
       "  /* unfitted */\n",
       "  background-color: var(--sklearn-color-unfitted-level-0);\n",
       "}\n",
       "\n",
       "#sk-container-id-1 div.sk-toggleable__content.fitted {\n",
       "  /* fitted */\n",
       "  background-color: var(--sklearn-color-fitted-level-0);\n",
       "}\n",
       "\n",
       "#sk-container-id-1 div.sk-toggleable__content pre {\n",
       "  margin: 0.2em;\n",
       "  border-radius: 0.25em;\n",
       "  color: var(--sklearn-color-text);\n",
       "  /* unfitted */\n",
       "  background-color: var(--sklearn-color-unfitted-level-0);\n",
       "}\n",
       "\n",
       "#sk-container-id-1 div.sk-toggleable__content.fitted pre {\n",
       "  /* unfitted */\n",
       "  background-color: var(--sklearn-color-fitted-level-0);\n",
       "}\n",
       "\n",
       "#sk-container-id-1 input.sk-toggleable__control:checked~div.sk-toggleable__content {\n",
       "  /* Expand drop-down */\n",
       "  max-height: 200px;\n",
       "  max-width: 100%;\n",
       "  overflow: auto;\n",
       "}\n",
       "\n",
       "#sk-container-id-1 input.sk-toggleable__control:checked~label.sk-toggleable__label-arrow:before {\n",
       "  content: \"▾\";\n",
       "}\n",
       "\n",
       "/* Pipeline/ColumnTransformer-specific style */\n",
       "\n",
       "#sk-container-id-1 div.sk-label input.sk-toggleable__control:checked~label.sk-toggleable__label {\n",
       "  color: var(--sklearn-color-text);\n",
       "  background-color: var(--sklearn-color-unfitted-level-2);\n",
       "}\n",
       "\n",
       "#sk-container-id-1 div.sk-label.fitted input.sk-toggleable__control:checked~label.sk-toggleable__label {\n",
       "  background-color: var(--sklearn-color-fitted-level-2);\n",
       "}\n",
       "\n",
       "/* Estimator-specific style */\n",
       "\n",
       "/* Colorize estimator box */\n",
       "#sk-container-id-1 div.sk-estimator input.sk-toggleable__control:checked~label.sk-toggleable__label {\n",
       "  /* unfitted */\n",
       "  background-color: var(--sklearn-color-unfitted-level-2);\n",
       "}\n",
       "\n",
       "#sk-container-id-1 div.sk-estimator.fitted input.sk-toggleable__control:checked~label.sk-toggleable__label {\n",
       "  /* fitted */\n",
       "  background-color: var(--sklearn-color-fitted-level-2);\n",
       "}\n",
       "\n",
       "#sk-container-id-1 div.sk-label label.sk-toggleable__label,\n",
       "#sk-container-id-1 div.sk-label label {\n",
       "  /* The background is the default theme color */\n",
       "  color: var(--sklearn-color-text-on-default-background);\n",
       "}\n",
       "\n",
       "/* On hover, darken the color of the background */\n",
       "#sk-container-id-1 div.sk-label:hover label.sk-toggleable__label {\n",
       "  color: var(--sklearn-color-text);\n",
       "  background-color: var(--sklearn-color-unfitted-level-2);\n",
       "}\n",
       "\n",
       "/* Label box, darken color on hover, fitted */\n",
       "#sk-container-id-1 div.sk-label.fitted:hover label.sk-toggleable__label.fitted {\n",
       "  color: var(--sklearn-color-text);\n",
       "  background-color: var(--sklearn-color-fitted-level-2);\n",
       "}\n",
       "\n",
       "/* Estimator label */\n",
       "\n",
       "#sk-container-id-1 div.sk-label label {\n",
       "  font-family: monospace;\n",
       "  font-weight: bold;\n",
       "  display: inline-block;\n",
       "  line-height: 1.2em;\n",
       "}\n",
       "\n",
       "#sk-container-id-1 div.sk-label-container {\n",
       "  text-align: center;\n",
       "}\n",
       "\n",
       "/* Estimator-specific */\n",
       "#sk-container-id-1 div.sk-estimator {\n",
       "  font-family: monospace;\n",
       "  border: 1px dotted var(--sklearn-color-border-box);\n",
       "  border-radius: 0.25em;\n",
       "  box-sizing: border-box;\n",
       "  margin-bottom: 0.5em;\n",
       "  /* unfitted */\n",
       "  background-color: var(--sklearn-color-unfitted-level-0);\n",
       "}\n",
       "\n",
       "#sk-container-id-1 div.sk-estimator.fitted {\n",
       "  /* fitted */\n",
       "  background-color: var(--sklearn-color-fitted-level-0);\n",
       "}\n",
       "\n",
       "/* on hover */\n",
       "#sk-container-id-1 div.sk-estimator:hover {\n",
       "  /* unfitted */\n",
       "  background-color: var(--sklearn-color-unfitted-level-2);\n",
       "}\n",
       "\n",
       "#sk-container-id-1 div.sk-estimator.fitted:hover {\n",
       "  /* fitted */\n",
       "  background-color: var(--sklearn-color-fitted-level-2);\n",
       "}\n",
       "\n",
       "/* Specification for estimator info (e.g. \"i\" and \"?\") */\n",
       "\n",
       "/* Common style for \"i\" and \"?\" */\n",
       "\n",
       ".sk-estimator-doc-link,\n",
       "a:link.sk-estimator-doc-link,\n",
       "a:visited.sk-estimator-doc-link {\n",
       "  float: right;\n",
       "  font-size: smaller;\n",
       "  line-height: 1em;\n",
       "  font-family: monospace;\n",
       "  background-color: var(--sklearn-color-background);\n",
       "  border-radius: 1em;\n",
       "  height: 1em;\n",
       "  width: 1em;\n",
       "  text-decoration: none !important;\n",
       "  margin-left: 1ex;\n",
       "  /* unfitted */\n",
       "  border: var(--sklearn-color-unfitted-level-1) 1pt solid;\n",
       "  color: var(--sklearn-color-unfitted-level-1);\n",
       "}\n",
       "\n",
       ".sk-estimator-doc-link.fitted,\n",
       "a:link.sk-estimator-doc-link.fitted,\n",
       "a:visited.sk-estimator-doc-link.fitted {\n",
       "  /* fitted */\n",
       "  border: var(--sklearn-color-fitted-level-1) 1pt solid;\n",
       "  color: var(--sklearn-color-fitted-level-1);\n",
       "}\n",
       "\n",
       "/* On hover */\n",
       "div.sk-estimator:hover .sk-estimator-doc-link:hover,\n",
       ".sk-estimator-doc-link:hover,\n",
       "div.sk-label-container:hover .sk-estimator-doc-link:hover,\n",
       ".sk-estimator-doc-link:hover {\n",
       "  /* unfitted */\n",
       "  background-color: var(--sklearn-color-unfitted-level-3);\n",
       "  color: var(--sklearn-color-background);\n",
       "  text-decoration: none;\n",
       "}\n",
       "\n",
       "div.sk-estimator.fitted:hover .sk-estimator-doc-link.fitted:hover,\n",
       ".sk-estimator-doc-link.fitted:hover,\n",
       "div.sk-label-container:hover .sk-estimator-doc-link.fitted:hover,\n",
       ".sk-estimator-doc-link.fitted:hover {\n",
       "  /* fitted */\n",
       "  background-color: var(--sklearn-color-fitted-level-3);\n",
       "  color: var(--sklearn-color-background);\n",
       "  text-decoration: none;\n",
       "}\n",
       "\n",
       "/* Span, style for the box shown on hovering the info icon */\n",
       ".sk-estimator-doc-link span {\n",
       "  display: none;\n",
       "  z-index: 9999;\n",
       "  position: relative;\n",
       "  font-weight: normal;\n",
       "  right: .2ex;\n",
       "  padding: .5ex;\n",
       "  margin: .5ex;\n",
       "  width: min-content;\n",
       "  min-width: 20ex;\n",
       "  max-width: 50ex;\n",
       "  color: var(--sklearn-color-text);\n",
       "  box-shadow: 2pt 2pt 4pt #999;\n",
       "  /* unfitted */\n",
       "  background: var(--sklearn-color-unfitted-level-0);\n",
       "  border: .5pt solid var(--sklearn-color-unfitted-level-3);\n",
       "}\n",
       "\n",
       ".sk-estimator-doc-link.fitted span {\n",
       "  /* fitted */\n",
       "  background: var(--sklearn-color-fitted-level-0);\n",
       "  border: var(--sklearn-color-fitted-level-3);\n",
       "}\n",
       "\n",
       ".sk-estimator-doc-link:hover span {\n",
       "  display: block;\n",
       "}\n",
       "\n",
       "/* \"?\"-specific style due to the `<a>` HTML tag */\n",
       "\n",
       "#sk-container-id-1 a.estimator_doc_link {\n",
       "  float: right;\n",
       "  font-size: 1rem;\n",
       "  line-height: 1em;\n",
       "  font-family: monospace;\n",
       "  background-color: var(--sklearn-color-background);\n",
       "  border-radius: 1rem;\n",
       "  height: 1rem;\n",
       "  width: 1rem;\n",
       "  text-decoration: none;\n",
       "  /* unfitted */\n",
       "  color: var(--sklearn-color-unfitted-level-1);\n",
       "  border: var(--sklearn-color-unfitted-level-1) 1pt solid;\n",
       "}\n",
       "\n",
       "#sk-container-id-1 a.estimator_doc_link.fitted {\n",
       "  /* fitted */\n",
       "  border: var(--sklearn-color-fitted-level-1) 1pt solid;\n",
       "  color: var(--sklearn-color-fitted-level-1);\n",
       "}\n",
       "\n",
       "/* On hover */\n",
       "#sk-container-id-1 a.estimator_doc_link:hover {\n",
       "  /* unfitted */\n",
       "  background-color: var(--sklearn-color-unfitted-level-3);\n",
       "  color: var(--sklearn-color-background);\n",
       "  text-decoration: none;\n",
       "}\n",
       "\n",
       "#sk-container-id-1 a.estimator_doc_link.fitted:hover {\n",
       "  /* fitted */\n",
       "  background-color: var(--sklearn-color-fitted-level-3);\n",
       "}\n",
       "</style><div id=\"sk-container-id-1\" class=\"sk-top-container\"><div class=\"sk-text-repr-fallback\"><pre>Pipeline(steps=[(&#x27;preprocessor&#x27;,\n",
       "                 ColumnTransformer(remainder=&#x27;passthrough&#x27;,\n",
       "                                   transformers=[(&#x27;num&#x27;, StandardScaler(),\n",
       "                                                  [&#x27;f0&#x27;, &#x27;f1&#x27;, &#x27;f2&#x27;])])),\n",
       "                (&#x27;models&#x27;, LinearRegression())])</pre><b>In a Jupyter environment, please rerun this cell to show the HTML representation or trust the notebook. <br />On GitHub, the HTML representation is unable to render, please try loading this page with nbviewer.org.</b></div><div class=\"sk-container\" hidden><div class=\"sk-item sk-dashed-wrapped\"><div class=\"sk-label-container\"><div class=\"sk-label  sk-toggleable\"><input class=\"sk-toggleable__control sk-hidden--visually\" id=\"sk-estimator-id-1\" type=\"checkbox\" ><label for=\"sk-estimator-id-1\" class=\"sk-toggleable__label  sk-toggleable__label-arrow \">&nbsp;&nbsp;Pipeline<a class=\"sk-estimator-doc-link \" rel=\"noreferrer\" target=\"_blank\" href=\"https://scikit-learn.org/1.5/modules/generated/sklearn.pipeline.Pipeline.html\">?<span>Documentation for Pipeline</span></a><span class=\"sk-estimator-doc-link \">i<span>Not fitted</span></span></label><div class=\"sk-toggleable__content \"><pre>Pipeline(steps=[(&#x27;preprocessor&#x27;,\n",
       "                 ColumnTransformer(remainder=&#x27;passthrough&#x27;,\n",
       "                                   transformers=[(&#x27;num&#x27;, StandardScaler(),\n",
       "                                                  [&#x27;f0&#x27;, &#x27;f1&#x27;, &#x27;f2&#x27;])])),\n",
       "                (&#x27;models&#x27;, LinearRegression())])</pre></div> </div></div><div class=\"sk-serial\"><div class=\"sk-item sk-dashed-wrapped\"><div class=\"sk-label-container\"><div class=\"sk-label  sk-toggleable\"><input class=\"sk-toggleable__control sk-hidden--visually\" id=\"sk-estimator-id-2\" type=\"checkbox\" ><label for=\"sk-estimator-id-2\" class=\"sk-toggleable__label  sk-toggleable__label-arrow \">&nbsp;preprocessor: ColumnTransformer<a class=\"sk-estimator-doc-link \" rel=\"noreferrer\" target=\"_blank\" href=\"https://scikit-learn.org/1.5/modules/generated/sklearn.compose.ColumnTransformer.html\">?<span>Documentation for preprocessor: ColumnTransformer</span></a></label><div class=\"sk-toggleable__content \"><pre>ColumnTransformer(remainder=&#x27;passthrough&#x27;,\n",
       "                  transformers=[(&#x27;num&#x27;, StandardScaler(), [&#x27;f0&#x27;, &#x27;f1&#x27;, &#x27;f2&#x27;])])</pre></div> </div></div><div class=\"sk-parallel\"><div class=\"sk-parallel-item\"><div class=\"sk-item\"><div class=\"sk-label-container\"><div class=\"sk-label  sk-toggleable\"><input class=\"sk-toggleable__control sk-hidden--visually\" id=\"sk-estimator-id-3\" type=\"checkbox\" ><label for=\"sk-estimator-id-3\" class=\"sk-toggleable__label  sk-toggleable__label-arrow \">num</label><div class=\"sk-toggleable__content \"><pre>[&#x27;f0&#x27;, &#x27;f1&#x27;, &#x27;f2&#x27;]</pre></div> </div></div><div class=\"sk-serial\"><div class=\"sk-item\"><div class=\"sk-estimator  sk-toggleable\"><input class=\"sk-toggleable__control sk-hidden--visually\" id=\"sk-estimator-id-4\" type=\"checkbox\" ><label for=\"sk-estimator-id-4\" class=\"sk-toggleable__label  sk-toggleable__label-arrow \">&nbsp;StandardScaler<a class=\"sk-estimator-doc-link \" rel=\"noreferrer\" target=\"_blank\" href=\"https://scikit-learn.org/1.5/modules/generated/sklearn.preprocessing.StandardScaler.html\">?<span>Documentation for StandardScaler</span></a></label><div class=\"sk-toggleable__content \"><pre>StandardScaler()</pre></div> </div></div></div></div></div><div class=\"sk-parallel-item\"><div class=\"sk-item\"><div class=\"sk-label-container\"><div class=\"sk-label  sk-toggleable\"><input class=\"sk-toggleable__control sk-hidden--visually\" id=\"sk-estimator-id-5\" type=\"checkbox\" ><label for=\"sk-estimator-id-5\" class=\"sk-toggleable__label  sk-toggleable__label-arrow \">remainder</label><div class=\"sk-toggleable__content \"><pre></pre></div> </div></div><div class=\"sk-serial\"><div class=\"sk-item\"><div class=\"sk-estimator  sk-toggleable\"><input class=\"sk-toggleable__control sk-hidden--visually\" id=\"sk-estimator-id-6\" type=\"checkbox\" ><label for=\"sk-estimator-id-6\" class=\"sk-toggleable__label  sk-toggleable__label-arrow \">passthrough</label><div class=\"sk-toggleable__content \"><pre>passthrough</pre></div> </div></div></div></div></div></div></div><div class=\"sk-item\"><div class=\"sk-estimator  sk-toggleable\"><input class=\"sk-toggleable__control sk-hidden--visually\" id=\"sk-estimator-id-7\" type=\"checkbox\" ><label for=\"sk-estimator-id-7\" class=\"sk-toggleable__label  sk-toggleable__label-arrow \">&nbsp;LinearRegression<a class=\"sk-estimator-doc-link \" rel=\"noreferrer\" target=\"_blank\" href=\"https://scikit-learn.org/1.5/modules/generated/sklearn.linear_model.LinearRegression.html\">?<span>Documentation for LinearRegression</span></a></label><div class=\"sk-toggleable__content \"><pre>LinearRegression()</pre></div> </div></div></div></div></div></div>"
      ],
      "text/plain": [
       "Pipeline(steps=[('preprocessor',\n",
       "                 ColumnTransformer(remainder='passthrough',\n",
       "                                   transformers=[('num', StandardScaler(),\n",
       "                                                  ['f0', 'f1', 'f2'])])),\n",
       "                ('models', LinearRegression())])"
      ]
     },
     "execution_count": 11,
     "metadata": {},
     "output_type": "execute_result"
    }
   ],
   "source": [
    "#Список для кодирования количественных перменных:\n",
    "num_columns = ['f0', 'f1', 'f2']\n",
    "\n",
    "data_preprocessor = ColumnTransformer(\n",
    "    [     \n",
    "        ('num', StandardScaler(), num_columns)    \n",
    "    ], \n",
    "    remainder =  'passthrough'\n",
    ")\n",
    "\n",
    "#Создаем пайплайн, в котором будем перебирать методы масштабирования модели:\n",
    "pipe = Pipeline(\n",
    "    [\n",
    "        ('preprocessor', data_preprocessor),\n",
    "        ('models', LinearRegression())\n",
    "    ]\n",
    ")\n",
    "\n",
    "#Вызовем пайплайн и посмотрим что получилось:\n",
    "pipe"
   ]
  },
  {
   "cell_type": "markdown",
   "metadata": {},
   "source": [
    "### Обучение модели LinearRegression для data_0"
   ]
  },
  {
   "cell_type": "code",
   "execution_count": 12,
   "metadata": {},
   "outputs": [
    {
     "data": {
      "text/plain": [
       "37.75660035026169"
      ]
     },
     "execution_count": 12,
     "metadata": {},
     "output_type": "execute_result"
    }
   ],
   "source": [
    "#Константы:\n",
    "RANDOM_STATE = 42\n",
    "TEST_SIZE = 0.25\n",
    "\n",
    "#Отделяем входные признаки от целевого\n",
    "\n",
    "#Входные признаки:\n",
    "X = data_0.drop(['id', 'product'], axis=1)\n",
    "#Целевой признак:\n",
    "y = data_0['product']\n",
    "\n",
    "#Создаем тренеровочную и тестовую выборки (стратифицируем по целевому признаку):\n",
    "X_train, X_valid, y_train, y_valid_0 = train_test_split(X, y, test_size=TEST_SIZE, random_state=RANDOM_STATE,)\n",
    "\n",
    "#Перебор методов масштабирования и гиперпараметров: \n",
    "param_distributions = [  \n",
    "    {'models': [LinearRegression()],          \n",
    "     'preprocessor__num': [StandardScaler(), MinMaxScaler(), 'passthrough']}]\n",
    "\n",
    "#Поиск гиперпараметров:  \n",
    "randomized_search = RandomizedSearchCV(\n",
    "    pipe, \n",
    "    param_distributions=param_distributions, \n",
    "    cv=5,\n",
    "    random_state=RANDOM_STATE,\n",
    "    n_iter=3,\n",
    "    n_jobs=-1\n",
    ")\n",
    "\n",
    "#Обучаем модель:\n",
    "randomized_search.fit(X_train, y_train)\n",
    "\n",
    "#Предсказываем значение целевого признака по валидационной выборке:\n",
    "y_pred_0 = randomized_search.predict(X_valid)\n",
    "\n",
    "#Считаем метрику RMSE:\n",
    "rmse_0 = root_mean_squared_error(y_valid_0, y_pred_0)\n",
    "\n",
    "#Сразу посмотрим значение этой метрики:\n",
    "rmse_0"
   ]
  },
  {
   "cell_type": "code",
   "execution_count": 13,
   "metadata": {},
   "outputs": [
    {
     "data": {
      "text/plain": [
       "92.39879990657768"
      ]
     },
     "execution_count": 13,
     "metadata": {},
     "output_type": "execute_result"
    }
   ],
   "source": [
    "y_pred_0.mean()"
   ]
  },
  {
   "cell_type": "markdown",
   "metadata": {},
   "source": [
    "Значение метрики ***RMSE*** говорит о том, насколько в среднем модель ошибается в предсказаниях:\n",
    "\n",
    "> ***product*** - объём запасов в скважине (тыс. баррелей)\n",
    "\n",
    "> В среднем модель ошибается на **37-38** тыс. баррелей нефти при предсказании значений объема в скважине\n",
    "\n",
    "> Среднее значение по столбцу предсказаний равно **92.39**"
   ]
  },
  {
   "cell_type": "markdown",
   "metadata": {},
   "source": [
    "### Обучение модели LinearRegression для data_1"
   ]
  },
  {
   "cell_type": "markdown",
   "metadata": {},
   "source": [
    "> При обучении второй модели мы обусловились, что будем использовать **L2-регуляризацию** в связи с **мультиколлинеарностью**:\n",
    "\n",
    "Для этого используем ***модель Ridge()*** - она является моделью линейной регрессии с регуляризацией  ***L2*** и параметром ***alpha***, данный параметр определяет силу регуляризации"
   ]
  },
  {
   "cell_type": "code",
   "execution_count": 14,
   "metadata": {},
   "outputs": [
    {
     "data": {
      "text/plain": [
       "0.8902794322311556"
      ]
     },
     "execution_count": 14,
     "metadata": {},
     "output_type": "execute_result"
    }
   ],
   "source": [
    "#Отделяем входные признаки от целевого\n",
    "\n",
    "#Входные признаки:\n",
    "X = data_1.drop(['id', 'product'], axis=1)\n",
    "#Целевой признак:\n",
    "y = data_1['product']\n",
    "\n",
    "#Создаем тренеровочную и тестовую выборки (стратифицируем по целевому признаку):\n",
    "X_train, X_valid, y_train, y_valid_1 = train_test_split(X, y, test_size=TEST_SIZE, random_state=RANDOM_STATE,)\n",
    "\n",
    "#Перебор методов масштабирования и гиперпараметров: \n",
    "param_distributions = [  \n",
    "    {'models': [Ridge()],\n",
    "     'models__alpha': [0.1, 1.0, 10.0], #гиперпараметр alpha определяет силу регуляризации\n",
    "     'preprocessor__num': [StandardScaler(), MinMaxScaler(), 'passthrough']}]\n",
    "\n",
    "#Поиск гиперпараметров:  \n",
    "randomized_search = RandomizedSearchCV(\n",
    "    pipe, \n",
    "    param_distributions=param_distributions, \n",
    "    cv=5,\n",
    "    random_state=RANDOM_STATE,\n",
    "    n_iter=9,\n",
    "    n_jobs=-1\n",
    ")\n",
    "\n",
    "#Обучаем модель:\n",
    "randomized_search.fit(X_train, y_train)\n",
    "\n",
    "#Предсказываем значение целевого признака по валидационной выборке:\n",
    "y_pred_1 = randomized_search.predict(X_valid)\n",
    "\n",
    "#Считаем метрику RMSE:\n",
    "rmse_1 = root_mean_squared_error(y_valid_1, y_pred_1)\n",
    "\n",
    "#Сразу посмотрим значение этой метрики:\n",
    "rmse_1"
   ]
  },
  {
   "cell_type": "code",
   "execution_count": 15,
   "metadata": {},
   "outputs": [
    {
     "data": {
      "text/plain": [
       "68.71287822921359"
      ]
     },
     "execution_count": 15,
     "metadata": {},
     "output_type": "execute_result"
    }
   ],
   "source": [
    "y_pred_1.mean()"
   ]
  },
  {
   "cell_type": "markdown",
   "metadata": {},
   "source": [
    "> В среднем модель ошибается на **0.9** тыс. баррелей нефти при предсказании значений объема в скважине\n",
    "\n",
    "> Среднее значение по столбцу предсказаний равно **68.71**"
   ]
  },
  {
   "cell_type": "markdown",
   "metadata": {},
   "source": [
    "### Обучение модели LinearRegression для data_2"
   ]
  },
  {
   "cell_type": "code",
   "execution_count": 16,
   "metadata": {},
   "outputs": [
    {
     "data": {
      "text/plain": [
       "40.14587231134218"
      ]
     },
     "execution_count": 16,
     "metadata": {},
     "output_type": "execute_result"
    }
   ],
   "source": [
    "#Отделяем входные признаки от целевого\n",
    "\n",
    "#Входные признаки:\n",
    "X = data_2.drop(['id', 'product'], axis=1)\n",
    "#Целевой признак:\n",
    "y = data_2['product']\n",
    "\n",
    "#Создаем тренеровочную и тестовую выборки (стратифицируем по целевому признаку):\n",
    "X_train, X_valid, y_train, y_valid_2 = train_test_split(X, y, test_size=TEST_SIZE, random_state=RANDOM_STATE,)\n",
    "\n",
    "#Перебор методов масштабирования и гиперпараметров: \n",
    "param_distributions = [  \n",
    "    {'models': [LinearRegression()],     \n",
    "     'preprocessor__num': [StandardScaler(), MinMaxScaler(), 'passthrough']}]\n",
    "\n",
    "#Поиск гиперпараметров:  \n",
    "randomized_search = RandomizedSearchCV(\n",
    "    pipe, \n",
    "    param_distributions=param_distributions, \n",
    "    cv=5,\n",
    "    random_state=RANDOM_STATE,\n",
    "    n_iter=3,\n",
    "    n_jobs=-1\n",
    ")\n",
    "\n",
    "#Обучаем модель:\n",
    "randomized_search.fit(X_train, y_train)\n",
    "\n",
    "#Предсказываем значение целевого признака по валидационной выборке:\n",
    "y_pred_2 = randomized_search.predict(X_valid)\n",
    "\n",
    "#Считаем метрику RMSE:\n",
    "rmse_2 = root_mean_squared_error(y_valid_2, y_pred_2)\n",
    "\n",
    "#Сразу посмотрим значение этой метрики:\n",
    "rmse_2"
   ]
  },
  {
   "cell_type": "code",
   "execution_count": 17,
   "metadata": {},
   "outputs": [
    {
     "data": {
      "text/plain": [
       "94.77102387765939"
      ]
     },
     "execution_count": 17,
     "metadata": {},
     "output_type": "execute_result"
    }
   ],
   "source": [
    "y_pred_2.mean()"
   ]
  },
  {
   "cell_type": "markdown",
   "metadata": {},
   "source": [
    "> В среднем модель ошибается на **40** тыс. баррелей нефти при предсказании значений объема в скважине\n",
    "\n",
    "> Среднее значение по столбцу предсказаний равно **94.77**\n",
    "\n",
    "Выведем все значения RMSE и средние значения предсказаний:"
   ]
  },
  {
   "cell_type": "code",
   "execution_count": 18,
   "metadata": {},
   "outputs": [
    {
     "name": "stdout",
     "output_type": "stream",
     "text": [
      "Метрика RMSE для первого региона: 37.76 | Среднее значение предсказаний 92.40\n",
      "Метрика RMSE для второго региона: 0.89 | Среднее значение предсказаний 68.71\n",
      "Метрика RMSE для третьего региона: 40.15 | Среднее значение предсказаний 94.77\n"
     ]
    }
   ],
   "source": [
    "print(f'Метрика RMSE для первого региона: {rmse_0:.2f} | Среднее значение предсказаний {y_pred_0.mean():.2f}')\n",
    "print(f'Метрика RMSE для второго региона: {rmse_1:.2f} | Среднее значение предсказаний {y_pred_1.mean():.2f}')\n",
    "print(f'Метрика RMSE для третьего региона: {rmse_2:.2f} | Среднее значение предсказаний {y_pred_2.mean():.2f}')"
   ]
  },
  {
   "cell_type": "markdown",
   "metadata": {},
   "source": [
    "Из метрики ***RMSE*** видно, что в первом и третьем регионе, по обученным данным, средняя ошибка предсказания в сравнении с истынными составляет порядка 40 тыс. баррелей - что достаточно много. В свою очередь модель обученная на признаках для второго региона показала очень хорошую метрику. В среднем модель ошибается всего на 1 тыс. баррелей. Средние значения предсказаний составляют 92 и 94 тыс. баррелей для 1 и 3 регионов и 68 тыс. для второго. Возможные причины:\n",
    "\n",
    "- Мультиколлинеарность мы невелировали, когда наложили штраф на модель с помощью Ridge регуляризации\n",
    "- Из исследовательского анализа мы выяснили, что целевой признак во втором регионе распределен не нормально, но при этом имеет меньший разброс, чем в 1 и 3 регионах\n",
    "\n",
    "Если данные в одном регионе более равномерны или имеют меньшую вариативность, модель может делать более точные предсказания, что приводит к более низкой метрике ***RMSE***"
   ]
  },
  {
   "cell_type": "markdown",
   "metadata": {},
   "source": [
    "<a id='section_3'></a>"
   ]
  },
  {
   "cell_type": "markdown",
   "metadata": {},
   "source": [
    "## Подготовка к расчёту прибыли"
   ]
  },
  {
   "cell_type": "markdown",
   "metadata": {},
   "source": [
    "Рассчитаем достаточный объём сырья для безубыточной разработки новой скважины. Сравним полученный объём сырья со средним запасом в каждом регионе.\n",
    "\n",
    "- Бюджет на разработку скважин в регионе — 10 млрд рублей\n",
    "\n",
    "- При нынешних ценах один баррель сырья приносит 450 рублей дохода\n",
    "\n",
    "- Доход с каждой единицы продукта составляет 450 тыс. рублей, поскольку объём указан в тысячах баррелей"
   ]
  },
  {
   "cell_type": "code",
   "execution_count": 19,
   "metadata": {},
   "outputs": [
    {
     "name": "stdout",
     "output_type": "stream",
     "text": [
      "Для разработки 1 скажины необходимо продать: 22222 тыс.баррелей нефти\n"
     ]
    }
   ],
   "source": [
    "#Рассчёт необходимого количества сырья для разработки одной скважины:\n",
    "\n",
    "#Бюджет на разработку новой скважины:\n",
    "budget = 10_000_000_000\n",
    "\n",
    "#Цена за 1 тыс. баррелейя:\n",
    "price_one_thousand = 450_000\n",
    "\n",
    "#Необходимый объем сырья, которое нужно продать, для разработки новой скважины:\n",
    "volume = budget / price_one_thousand\n",
    "\n",
    "print(f'Для разработки 1 скажины необходимо продать: {volume:.0f} тыс.баррелей нефти')"
   ]
  },
  {
   "cell_type": "markdown",
   "metadata": {},
   "source": [
    "Посмотрим средний объем запасов в скважинах каждого региона:"
   ]
  },
  {
   "cell_type": "code",
   "execution_count": 20,
   "metadata": {},
   "outputs": [
    {
     "name": "stdout",
     "output_type": "stream",
     "text": [
      "Средней объем запасов в скважине 1-региона: 92.50 тыс.баррелей\n",
      "Средней объем запасов в скважине 2-региона: 68.83 тыс.баррелей\n",
      "Средней объем запасов в скважине 3-региона: 95.00 тыс.баррелей\n"
     ]
    }
   ],
   "source": [
    "print(f'Средней объем запасов в скважине 1-региона: {data_0[\"product\"].mean():.2f} тыс.баррелей')\n",
    "print(f'Средней объем запасов в скважине 2-региона: {data_1[\"product\"].mean():.2f} тыс.баррелей')\n",
    "print(f'Средней объем запасов в скважине 3-региона: {data_2[\"product\"].mean():.2f} тыс.баррелей')"
   ]
  },
  {
   "cell_type": "markdown",
   "metadata": {},
   "source": [
    "Посчитаем необходимое число скважин, для безубыточной разработки новой в каждом регионе:"
   ]
  },
  {
   "cell_type": "code",
   "execution_count": 21,
   "metadata": {},
   "outputs": [
    {
     "name": "stdout",
     "output_type": "stream",
     "text": [
      "Необходимое число скважин для разработки скважины в 1-ом регионе: 240\n",
      "Необходимое число скважин для разработки скважины в 2-ом регионе: 323\n",
      "Необходимое число скважин для разработки скважины в 3-ем регионе: 234\n"
     ]
    }
   ],
   "source": [
    "print(f'Необходимое число скважин для разработки скважины в 1-ом регионе: {volume / data_0[\"product\"].mean():.0f}')\n",
    "print(f'Необходимое число скважин для разработки скважины в 2-ом регионе: {volume / data_1[\"product\"].mean():.0f}')\n",
    "print(f'Необходимое число скважин для разработки скважины в 3-ем регионе: {volume / data_2[\"product\"].mean():.0f}')"
   ]
  },
  {
   "cell_type": "markdown",
   "metadata": {},
   "source": [
    "> Для разработки одной новой скважины в каждом регионе требуется 10 млрд.руб, следовательно, требуется продать **22222** тыс.баррелей запасов\n",
    "\n",
    "> В средний запас свкажин в каждом регионе:\n",
    "\n",
    "- 1-ый регион средний запас скважины: **92.50** тыс.баррелей\n",
    "\n",
    "- 2-ой регион средний запас скважины: **68.83** тыс.баррелей\n",
    "\n",
    "- 3-ий регион средний запас скважины: **95.00** тыс.баррелей\n",
    "\n",
    "> Для разработки новой скажины в 1-ом регионе требуется опустошить запасы **240** скважин, во 2-ом - **323**, а в третьем - **234**\n",
    "\n",
    "Т.е. порядка 200-300 скважин необходимо опустошить, чтобы разработать новую."
   ]
  },
  {
   "cell_type": "markdown",
   "metadata": {},
   "source": [
    "<a id='section_4'></a>"
   ]
  },
  {
   "cell_type": "markdown",
   "metadata": {},
   "source": [
    "## Расчёт прибыли и рисков "
   ]
  },
  {
   "cell_type": "markdown",
   "metadata": {},
   "source": [
    "- При разведке региона исследуют 500 точек, из которых с помощью машинного обучения выбирают 200 лучших для разработки\n",
    "\n",
    "Всего для разработки выбирают 200 лучших скважин. Напишем функцию для подсчёта прибыли в каждом регионе, с учетом затрат на разработку скважины:\n",
    "\n",
    "- для этого объединим предсказанные и валидационные значения\n",
    "- сортировать будем по предсказанным лушим 200, а брать будем реальные валидационные значения"
   ]
  },
  {
   "cell_type": "markdown",
   "metadata": {},
   "source": [
    "### Соединияем предсказанные и истинные значения"
   ]
  },
  {
   "cell_type": "code",
   "execution_count": 22,
   "metadata": {},
   "outputs": [
    {
     "data": {
      "text/html": [
       "<div>\n",
       "<style scoped>\n",
       "    .dataframe tbody tr th:only-of-type {\n",
       "        vertical-align: middle;\n",
       "    }\n",
       "\n",
       "    .dataframe tbody tr th {\n",
       "        vertical-align: top;\n",
       "    }\n",
       "\n",
       "    .dataframe thead th {\n",
       "        text-align: right;\n",
       "    }\n",
       "</style>\n",
       "<table border=\"1\" class=\"dataframe\">\n",
       "  <thead>\n",
       "    <tr style=\"text-align: right;\">\n",
       "      <th></th>\n",
       "      <th>predictions</th>\n",
       "      <th>true</th>\n",
       "    </tr>\n",
       "  </thead>\n",
       "  <tbody>\n",
       "    <tr>\n",
       "      <th>0</th>\n",
       "      <td>101.901017</td>\n",
       "      <td>122.073350</td>\n",
       "    </tr>\n",
       "    <tr>\n",
       "      <th>1</th>\n",
       "      <td>78.217774</td>\n",
       "      <td>48.738540</td>\n",
       "    </tr>\n",
       "    <tr>\n",
       "      <th>2</th>\n",
       "      <td>115.266901</td>\n",
       "      <td>131.338088</td>\n",
       "    </tr>\n",
       "    <tr>\n",
       "      <th>3</th>\n",
       "      <td>105.618618</td>\n",
       "      <td>88.327757</td>\n",
       "    </tr>\n",
       "    <tr>\n",
       "      <th>4</th>\n",
       "      <td>97.980185</td>\n",
       "      <td>36.959266</td>\n",
       "    </tr>\n",
       "    <tr>\n",
       "      <th>5</th>\n",
       "      <td>80.915367</td>\n",
       "      <td>93.988227</td>\n",
       "    </tr>\n",
       "    <tr>\n",
       "      <th>6</th>\n",
       "      <td>81.485852</td>\n",
       "      <td>31.768403</td>\n",
       "    </tr>\n",
       "    <tr>\n",
       "      <th>7</th>\n",
       "      <td>94.663975</td>\n",
       "      <td>74.856619</td>\n",
       "    </tr>\n",
       "    <tr>\n",
       "      <th>8</th>\n",
       "      <td>81.526376</td>\n",
       "      <td>99.380950</td>\n",
       "    </tr>\n",
       "    <tr>\n",
       "      <th>9</th>\n",
       "      <td>99.389740</td>\n",
       "      <td>108.728916</td>\n",
       "    </tr>\n",
       "  </tbody>\n",
       "</table>\n",
       "</div>"
      ],
      "text/plain": [
       "   predictions        true\n",
       "0   101.901017  122.073350\n",
       "1    78.217774   48.738540\n",
       "2   115.266901  131.338088\n",
       "3   105.618618   88.327757\n",
       "4    97.980185   36.959266\n",
       "5    80.915367   93.988227\n",
       "6    81.485852   31.768403\n",
       "7    94.663975   74.856619\n",
       "8    81.526376   99.380950\n",
       "9    99.389740  108.728916"
      ]
     },
     "execution_count": 22,
     "metadata": {},
     "output_type": "execute_result"
    }
   ],
   "source": [
    "reg_0 = pd.concat([pd.Series(y_pred_0), y_valid_0.reset_index(drop=True)], axis=1).rename(\n",
    "    columns={0:'predictions', 'product':'true'})\n",
    "\n",
    "reg_0.head(10)"
   ]
  },
  {
   "cell_type": "code",
   "execution_count": 23,
   "metadata": {},
   "outputs": [
    {
     "data": {
      "text/html": [
       "<div>\n",
       "<style scoped>\n",
       "    .dataframe tbody tr th:only-of-type {\n",
       "        vertical-align: middle;\n",
       "    }\n",
       "\n",
       "    .dataframe tbody tr th {\n",
       "        vertical-align: top;\n",
       "    }\n",
       "\n",
       "    .dataframe thead th {\n",
       "        text-align: right;\n",
       "    }\n",
       "</style>\n",
       "<table border=\"1\" class=\"dataframe\">\n",
       "  <thead>\n",
       "    <tr style=\"text-align: right;\">\n",
       "      <th></th>\n",
       "      <th>predictions</th>\n",
       "      <th>true</th>\n",
       "    </tr>\n",
       "  </thead>\n",
       "  <tbody>\n",
       "    <tr>\n",
       "      <th>0</th>\n",
       "      <td>0.844828</td>\n",
       "      <td>0.000000</td>\n",
       "    </tr>\n",
       "    <tr>\n",
       "      <th>1</th>\n",
       "      <td>52.921632</td>\n",
       "      <td>53.906522</td>\n",
       "    </tr>\n",
       "    <tr>\n",
       "      <th>2</th>\n",
       "      <td>135.110296</td>\n",
       "      <td>134.766305</td>\n",
       "    </tr>\n",
       "    <tr>\n",
       "      <th>3</th>\n",
       "      <td>109.494809</td>\n",
       "      <td>107.813044</td>\n",
       "    </tr>\n",
       "    <tr>\n",
       "      <th>4</th>\n",
       "      <td>-0.047200</td>\n",
       "      <td>0.000000</td>\n",
       "    </tr>\n",
       "    <tr>\n",
       "      <th>5</th>\n",
       "      <td>136.356474</td>\n",
       "      <td>134.766305</td>\n",
       "    </tr>\n",
       "    <tr>\n",
       "      <th>6</th>\n",
       "      <td>2.660977</td>\n",
       "      <td>3.179103</td>\n",
       "    </tr>\n",
       "    <tr>\n",
       "      <th>7</th>\n",
       "      <td>26.796268</td>\n",
       "      <td>26.953261</td>\n",
       "    </tr>\n",
       "    <tr>\n",
       "      <th>8</th>\n",
       "      <td>30.318373</td>\n",
       "      <td>30.132364</td>\n",
       "    </tr>\n",
       "    <tr>\n",
       "      <th>9</th>\n",
       "      <td>81.733123</td>\n",
       "      <td>80.859783</td>\n",
       "    </tr>\n",
       "  </tbody>\n",
       "</table>\n",
       "</div>"
      ],
      "text/plain": [
       "   predictions        true\n",
       "0     0.844828    0.000000\n",
       "1    52.921632   53.906522\n",
       "2   135.110296  134.766305\n",
       "3   109.494809  107.813044\n",
       "4    -0.047200    0.000000\n",
       "5   136.356474  134.766305\n",
       "6     2.660977    3.179103\n",
       "7    26.796268   26.953261\n",
       "8    30.318373   30.132364\n",
       "9    81.733123   80.859783"
      ]
     },
     "execution_count": 23,
     "metadata": {},
     "output_type": "execute_result"
    }
   ],
   "source": [
    "reg_1 = pd.concat([pd.Series(y_pred_1), y_valid_1.reset_index(drop=True)], axis=1).rename(\n",
    "    columns={0:'predictions', 'product':'true'})\n",
    "\n",
    "reg_1.head(10)"
   ]
  },
  {
   "cell_type": "code",
   "execution_count": 24,
   "metadata": {},
   "outputs": [
    {
     "data": {
      "text/html": [
       "<div>\n",
       "<style scoped>\n",
       "    .dataframe tbody tr th:only-of-type {\n",
       "        vertical-align: middle;\n",
       "    }\n",
       "\n",
       "    .dataframe tbody tr th {\n",
       "        vertical-align: top;\n",
       "    }\n",
       "\n",
       "    .dataframe thead th {\n",
       "        text-align: right;\n",
       "    }\n",
       "</style>\n",
       "<table border=\"1\" class=\"dataframe\">\n",
       "  <thead>\n",
       "    <tr style=\"text-align: right;\">\n",
       "      <th></th>\n",
       "      <th>predictions</th>\n",
       "      <th>true</th>\n",
       "    </tr>\n",
       "  </thead>\n",
       "  <tbody>\n",
       "    <tr>\n",
       "      <th>0</th>\n",
       "      <td>98.301916</td>\n",
       "      <td>117.441301</td>\n",
       "    </tr>\n",
       "    <tr>\n",
       "      <th>1</th>\n",
       "      <td>101.592461</td>\n",
       "      <td>47.841249</td>\n",
       "    </tr>\n",
       "    <tr>\n",
       "      <th>2</th>\n",
       "      <td>52.449099</td>\n",
       "      <td>45.883483</td>\n",
       "    </tr>\n",
       "    <tr>\n",
       "      <th>3</th>\n",
       "      <td>109.922127</td>\n",
       "      <td>139.014608</td>\n",
       "    </tr>\n",
       "    <tr>\n",
       "      <th>4</th>\n",
       "      <td>72.411847</td>\n",
       "      <td>84.004276</td>\n",
       "    </tr>\n",
       "    <tr>\n",
       "      <th>5</th>\n",
       "      <td>104.142542</td>\n",
       "      <td>60.527247</td>\n",
       "    </tr>\n",
       "    <tr>\n",
       "      <th>6</th>\n",
       "      <td>64.127656</td>\n",
       "      <td>61.429286</td>\n",
       "    </tr>\n",
       "    <tr>\n",
       "      <th>7</th>\n",
       "      <td>91.918582</td>\n",
       "      <td>60.632764</td>\n",
       "    </tr>\n",
       "    <tr>\n",
       "      <th>8</th>\n",
       "      <td>104.937986</td>\n",
       "      <td>135.749821</td>\n",
       "    </tr>\n",
       "    <tr>\n",
       "      <th>9</th>\n",
       "      <td>92.218485</td>\n",
       "      <td>104.381643</td>\n",
       "    </tr>\n",
       "  </tbody>\n",
       "</table>\n",
       "</div>"
      ],
      "text/plain": [
       "   predictions        true\n",
       "0    98.301916  117.441301\n",
       "1   101.592461   47.841249\n",
       "2    52.449099   45.883483\n",
       "3   109.922127  139.014608\n",
       "4    72.411847   84.004276\n",
       "5   104.142542   60.527247\n",
       "6    64.127656   61.429286\n",
       "7    91.918582   60.632764\n",
       "8   104.937986  135.749821\n",
       "9    92.218485  104.381643"
      ]
     },
     "execution_count": 24,
     "metadata": {},
     "output_type": "execute_result"
    }
   ],
   "source": [
    "reg_2 = pd.concat([pd.Series(y_pred_2), y_valid_2.reset_index(drop=True)], axis=1).rename(\n",
    "    columns={0:'predictions', 'product':'true'})\n",
    "\n",
    "reg_2.head(10)"
   ]
  },
  {
   "cell_type": "markdown",
   "metadata": {},
   "source": [
    "Получили три датафрейма с предсазаниями и истинными занчениями по трём регионам"
   ]
  },
  {
   "cell_type": "markdown",
   "metadata": {},
   "source": [
    "### Рассчет прибыли для полученного объёма сырья"
   ]
  },
  {
   "cell_type": "markdown",
   "metadata": {},
   "source": [
    "Просуммируем целевое значение объёма сырья, соответствующее этим предсказаниям:"
   ]
  },
  {
   "cell_type": "code",
   "execution_count": 43,
   "metadata": {},
   "outputs": [],
   "source": [
    "#Определим функцию для подсчёта выручки:\n",
    "def profit(reg):\n",
    "    \n",
    "    #Сортируем и выбираем топ200:\n",
    "    top_200 = reg.sort_values(by='predictions', ascending=False)['true'].head(200)\n",
    "    \n",
    "    #Суммируем значения объемов запасов, умножаем на 450 тыс. - цена за тыс.баррель, вычитаем расход на разработку:\n",
    "    return (top_200.sum()*price_one_thousand - budget)/1_000_000_000\n"
   ]
  },
  {
   "cell_type": "markdown",
   "metadata": {},
   "source": [
    "Расчет прибыли 200 лучших из 25 тысяч строк для каждого региона:"
   ]
  },
  {
   "cell_type": "code",
   "execution_count": 44,
   "metadata": {},
   "outputs": [
    {
     "name": "stdout",
     "output_type": "stream",
     "text": [
      "Прибыль по 1-му региону: 3.359141114462179 млрд.руб.\n",
      "Прибыль по 2-му региону: 2.4150866966815108 млрд.руб.\n",
      "Прибыль по 3-му региону: 2.5985717593741113 млрд.руб.\n"
     ]
    }
   ],
   "source": [
    "print(f'Прибыль по 1-му региону: {profit(reg_0)} млрд.руб.')\n",
    "print(f'Прибыль по 2-му региону: {profit(reg_1)} млрд.руб.')\n",
    "print(f'Прибыль по 3-му региону: {profit(reg_2)} млрд.руб.')"
   ]
  },
  {
   "cell_type": "markdown",
   "metadata": {},
   "source": [
    "### Применение техники Bootstrap"
   ]
  },
  {
   "cell_type": "markdown",
   "metadata": {},
   "source": [
    "Применим технику ***Bootstrap*** для 1000 выборок, чтобы найти среднее распределение прибыли:"
   ]
  },
  {
   "cell_type": "code",
   "execution_count": 45,
   "metadata": {},
   "outputs": [],
   "source": [
    "def analys_of_reg(reg):  \n",
    "    \n",
    "    #Случайный элемент для выбора из выборки, чтобы не был один и тот же:\n",
    "    state = np.random.RandomState(12345)\n",
    "\n",
    "    #Создадим пустой список:\n",
    "    profit_mean = []\n",
    "\n",
    "    #Количество Bootstrap выборок:\n",
    "    n_bootstraps = 1000\n",
    "    \n",
    "    #Счётчик отрицательной прибыли:\n",
    "    s = 0\n",
    "\n",
    "    for i in range(n_bootstraps):\n",
    "\n",
    "        #Создаем подвыборки, выбираем 500 элементов с возвращением:\n",
    "        subsample = reg.sample(500, replace=True, random_state=state)\n",
    "\n",
    "        #Определим среднюю прибыль по подвыборке на каждой итерации цикла, чтобы получить распределение средних:\n",
    "        profit_mean.append(profit(subsample))\n",
    "        \n",
    "        #Определение отрицательной прибыли:\n",
    "        if profit(subsample) < 0:\n",
    "            s+=1            \n",
    "\n",
    "    #Определим среднюю прибыль, для данного распределения, для этого вызовем функцию подсчёта прибыли:\n",
    "    print(f'Средняя прибыль: {pd.Series(profit_mean).mean()} млрд.руб.')\n",
    "\n",
    "    #Найдем доверительный интервал для данного распределения:\n",
    "    #confidence_interval = st.t.interval(0.95, len(profit_mean)-1, loc=pd.Series(profit_mean).mean(), scale=st.sem(profit_mean))\n",
    "\n",
    "    #print(\"95%-ый доверительный интервал:\", confidence_interval)\n",
    "    \n",
    "    # Вычисление 2.5% и 97.5% квантилей для доверительного интервала 95%\n",
    "    lower_bound = np.percentile(profit_mean, 2.5)\n",
    "    upper_bound = np.percentile(profit_mean, 97.5)\n",
    "    \n",
    "    print(\"95%-ый доверительный интервал:\", (lower_bound, upper_bound))\n",
    "    \n",
    "    #Доля отрицательной прибыли относительно общего числа (риск):\n",
    "    print(f'Риск: {(s/len(pd.Series(profit_mean)))*100} %')"
   ]
  },
  {
   "cell_type": "code",
   "execution_count": 46,
   "metadata": {},
   "outputs": [
    {
     "name": "stdout",
     "output_type": "stream",
     "text": [
      "Средняя прибыль: 0.406278783424419 млрд.руб.\n",
      "95%-ый доверительный интервал: (-0.11774213649486832, 0.9117370507514055)\n",
      "Риск: 6.7 %\n"
     ]
    }
   ],
   "source": [
    "analys_of_reg(reg_0)"
   ]
  },
  {
   "cell_type": "code",
   "execution_count": 47,
   "metadata": {},
   "outputs": [
    {
     "name": "stdout",
     "output_type": "stream",
     "text": [
      "Средняя прибыль: 0.4326241318131374 млрд.руб.\n",
      "95%-ый доверительный интервал: (0.016846174932430125, 0.8159725262857513)\n",
      "Риск: 1.9 %\n"
     ]
    }
   ],
   "source": [
    "analys_of_reg(reg_1)"
   ]
  },
  {
   "cell_type": "code",
   "execution_count": 48,
   "metadata": {},
   "outputs": [
    {
     "name": "stdout",
     "output_type": "stream",
     "text": [
      "Средняя прибыль: 0.37736219242291646 млрд.руб.\n",
      "95%-ый доверительный интервал: (-0.1707804177057271, 0.9017721313864455)\n",
      "Риск: 7.3999999999999995 %\n"
     ]
    }
   ],
   "source": [
    "analys_of_reg(reg_2)"
   ]
  },
  {
   "cell_type": "markdown",
   "metadata": {},
   "source": [
    "> Исходя из полученных результатов, наибольшая прибыль и наименьший риск наблюдается во втором регионе\n",
    "\n",
    "> **Выбираем 2-ой регион**"
   ]
  },
  {
   "cell_type": "markdown",
   "metadata": {},
   "source": [
    "<a id='section_5'></a>"
   ]
  },
  {
   "cell_type": "markdown",
   "metadata": {},
   "source": [
    "## Общий вывод"
   ]
  },
  {
   "cell_type": "markdown",
   "metadata": {},
   "source": [
    "Мы работаем в добывающей компании **«ГлавРосГосНефть»**. Нужно решить, где бурить новую скважину. Изначально нам предоставленны данные  пробы нефти в трёх регионах: в каждом 100 000 месторождений, где измерили качество нефти и объём её запасов. Требовалось определить регион для разработки новой скажины и посчитать всю прибыль и риски на этапе разработки. Для выполнения задания нам предоставили три датасета с данными о трёх регионах. Решение данной задачи было разбито на несколько этапов:\n",
    "\n",
    "> Загрузка и подготовка данных\n",
    "\n",
    "На этапе загрузки мы выгрузили три датасета с форматом CSV и сделали первичный анализ данных, который показал:\n",
    "\n",
    "- Все типы данных соответсвуют всем значениям типов в столбцах\n",
    "\n",
    "- Дубликатов в данных нет\n",
    "\n",
    "- Пропусков в данных нет\n",
    "\n",
    "> Исследовательский анализ данных\n",
    "\n",
    "Исследовательский анализ показал, что большеснтво данных имеет нормальное распределение и лежит в допустимых диапозонах. Наблюдались признаки как входные, так и целевые, распределение которых сложно было назвать нормальным, но было принято решение оставить их без изменений, для дальнейшего обучения модели\n",
    "\n",
    "> Обучение и проверка модели\n",
    "\n",
    "Для обучения модели мы использовали линейную регрессию, заведомо разделив данные на тренировачную и валидационную выборки в соотношении 1 к 4. Для оценки результатов моделирования было принято решение использовать метрику ***RMSE***, которая показала следующие результаты:\n",
    "\n",
    "- Метрика RMSE для первого региона: 37.76\n",
    "\n",
    "- Метрика RMSE для второго региона: 0.89\n",
    "\n",
    "- Метрика RMSE для третьего региона: 40.15\n",
    "\n",
    "Данная метрика показывает насколько в среднем предсказанные значения отличаются от истынных, т.е. предсказанные значения на тренеровочной выборке от истиных значений на валидационной\n",
    "\n",
    "> Расчёт прибыли и рисков\n",
    "\n",
    "Для расчёта прибыли и рисков требовалось учесть определенные условия:\n",
    "\n",
    "1. При разведке региона исследуют 500 точек, из которых с помощью машинного обучения выбирают 200 лучших для разработки.\n",
    "\n",
    "2. Бюджет на разработку скважин в регионе — 10 млрд рублей.\n",
    "\n",
    "3. При нынешних ценах один баррель сырья приносит 450 рублей дохода. Доход с каждой единицы продукта составляет 450 тыс. рублей, поскольку объём указан в тысячах баррелей.\n",
    "\n",
    "4. После оценки рисков нужно оставить лишь те регионы, в которых вероятность убытков меньше 2.5%. Среди них выбирают регион с наибольшей средней прибылью.\n",
    "\n",
    "Исходя из данных условий была создана функция расчёта прибыли. Также мы решили воспользоваться техникой ***Bootstrap*** для определения распределения прибыли. После определения распределения прибыли были построены доверительные интервалы, спрогнозирована прибыль с учетом предсказаний и валидационных данных, а также подсчитана прибыль. \n",
    "\n",
    "В результате проведенных расчётов было принято решение, что самое выгодное местоположение для разработки новой скажины это:\n",
    "\n",
    ">**2 регион**\n"
   ]
  },
  {
   "cell_type": "markdown",
   "metadata": {},
   "source": [
    "<a id='section_6'></a>"
   ]
  },
  {
   "cell_type": "markdown",
   "metadata": {},
   "source": [
    "## Чек-лист готовности проекта"
   ]
  },
  {
   "cell_type": "markdown",
   "metadata": {},
   "source": [
    "Поставьте 'x' в выполненных пунктах. Далее нажмите Shift+Enter."
   ]
  },
  {
   "cell_type": "markdown",
   "metadata": {},
   "source": [
    "- [x]  Jupyter Notebook открыт\n",
    "- [x]  Весь код выполняется без ошибок\n",
    "- [x]  Ячейки с кодом расположены в порядке исполнения\n",
    "- [x]  Выполнен шаг 1: данные подготовлены\n",
    "- [x]  Выполнен шаг 2: модели обучены и проверены\n",
    "    - [x]  Данные корректно разбиты на обучающую и валидационную выборки\n",
    "    - [x]  Модели обучены, предсказания сделаны\n",
    "    - [x]  Предсказания и правильные ответы на валидационной выборке сохранены\n",
    "    - [x]  На экране напечатаны результаты\n",
    "    - [x]  Сделаны выводы\n",
    "- [x]  Выполнен шаг 3: проведена подготовка к расчёту прибыли\n",
    "    - [x]  Для всех ключевых значений созданы константы Python\n",
    "    - [x]  Посчитано минимальное среднее количество продукта в месторождениях региона, достаточное для разработки\n",
    "    - [x]  По предыдущему пункту сделаны выводы\n",
    "    - [x]  Написана функция расчёта прибыли\n",
    "- [x]  Выполнен шаг 4: посчитаны риски и прибыль\n",
    "    - [x]  Проведена процедура *Bootstrap*\n",
    "    - [x]  Все параметры бутстрепа соответствуют условию\n",
    "    - [x]  Найдены все нужные величины\n",
    "    - [x]  Предложен регион для разработки месторождения\n",
    "    - [x]  Выбор региона обоснован"
   ]
  }
 ],
 "metadata": {
  "ExecuteTimeLog": [
   {
    "duration": 8944,
    "start_time": "2024-06-01T11:01:37.793Z"
   },
   {
    "duration": 1319,
    "start_time": "2024-06-01T11:02:45.778Z"
   },
   {
    "duration": 1360,
    "start_time": "2024-06-01T11:08:15.821Z"
   },
   {
    "duration": 62,
    "start_time": "2024-06-01T11:10:23.731Z"
   },
   {
    "duration": 107,
    "start_time": "2024-06-01T11:32:07.701Z"
   },
   {
    "duration": 124,
    "start_time": "2024-06-01T11:33:05.900Z"
   },
   {
    "duration": 107,
    "start_time": "2024-06-01T11:33:14.967Z"
   },
   {
    "duration": 4962,
    "start_time": "2024-06-01T11:34:39.808Z"
   },
   {
    "duration": 1141,
    "start_time": "2024-06-01T11:34:44.773Z"
   },
   {
    "duration": 1147,
    "start_time": "2024-06-01T11:34:45.915Z"
   },
   {
    "duration": 65,
    "start_time": "2024-06-01T11:34:47.064Z"
   },
   {
    "duration": 119,
    "start_time": "2024-06-01T11:34:47.130Z"
   },
   {
    "duration": 11,
    "start_time": "2024-06-01T11:35:02.792Z"
   },
   {
    "duration": 9,
    "start_time": "2024-06-01T11:35:06.719Z"
   },
   {
    "duration": 9,
    "start_time": "2024-06-01T11:35:14.215Z"
   },
   {
    "duration": 256,
    "start_time": "2024-06-01T11:48:34.079Z"
   },
   {
    "duration": 219,
    "start_time": "2024-06-01T11:48:45.230Z"
   },
   {
    "duration": 243,
    "start_time": "2024-06-01T11:48:49.865Z"
   },
   {
    "duration": 226,
    "start_time": "2024-06-01T11:49:16.172Z"
   },
   {
    "duration": 195,
    "start_time": "2024-06-01T11:49:21.136Z"
   },
   {
    "duration": 534,
    "start_time": "2024-06-01T11:53:27.004Z"
   },
   {
    "duration": 536,
    "start_time": "2024-06-01T11:53:44.593Z"
   },
   {
    "duration": 588,
    "start_time": "2024-06-01T11:53:49.151Z"
   },
   {
    "duration": 549,
    "start_time": "2024-06-01T11:54:06.643Z"
   },
   {
    "duration": 569,
    "start_time": "2024-06-01T11:54:10.690Z"
   },
   {
    "duration": 216,
    "start_time": "2024-06-01T12:00:09.767Z"
   },
   {
    "duration": 221,
    "start_time": "2024-06-01T12:00:17.263Z"
   },
   {
    "duration": 198,
    "start_time": "2024-06-01T12:00:21.265Z"
   },
   {
    "duration": 194,
    "start_time": "2024-06-01T12:00:30.950Z"
   },
   {
    "duration": 189,
    "start_time": "2024-06-01T12:00:34.189Z"
   },
   {
    "duration": 190,
    "start_time": "2024-06-01T12:00:37.174Z"
   },
   {
    "duration": 235,
    "start_time": "2024-06-01T12:04:35.456Z"
   },
   {
    "duration": 317,
    "start_time": "2024-06-01T12:04:56.400Z"
   },
   {
    "duration": 40,
    "start_time": "2024-06-01T12:05:23.249Z"
   },
   {
    "duration": 4,
    "start_time": "2024-06-01T12:05:33.913Z"
   },
   {
    "duration": 599,
    "start_time": "2024-06-01T12:05:46.980Z"
   },
   {
    "duration": 631,
    "start_time": "2024-06-01T12:06:36.790Z"
   },
   {
    "duration": 1040,
    "start_time": "2024-06-01T12:06:46.943Z"
   },
   {
    "duration": 806,
    "start_time": "2024-06-01T12:07:37.721Z"
   },
   {
    "duration": 929,
    "start_time": "2024-06-01T12:08:10.216Z"
   },
   {
    "duration": 814,
    "start_time": "2024-06-01T12:08:34.591Z"
   },
   {
    "duration": 722,
    "start_time": "2024-06-01T12:09:47.226Z"
   },
   {
    "duration": 622,
    "start_time": "2024-06-01T12:10:02.704Z"
   },
   {
    "duration": 466,
    "start_time": "2024-06-01T12:10:41.924Z"
   },
   {
    "duration": 458,
    "start_time": "2024-06-01T12:11:03.068Z"
   },
   {
    "duration": 647,
    "start_time": "2024-06-01T12:11:12.837Z"
   },
   {
    "duration": 643,
    "start_time": "2024-06-01T12:11:39.681Z"
   },
   {
    "duration": 729,
    "start_time": "2024-06-01T12:11:50.616Z"
   },
   {
    "duration": 657,
    "start_time": "2024-06-01T12:11:57.502Z"
   },
   {
    "duration": 684,
    "start_time": "2024-06-01T12:12:05.721Z"
   },
   {
    "duration": 277,
    "start_time": "2024-06-01T12:12:53.157Z"
   },
   {
    "duration": 181,
    "start_time": "2024-06-01T12:12:58.338Z"
   },
   {
    "duration": 683,
    "start_time": "2024-06-01T12:13:01.743Z"
   },
   {
    "duration": 654,
    "start_time": "2024-06-01T12:13:11.224Z"
   },
   {
    "duration": 750,
    "start_time": "2024-06-01T12:13:19.339Z"
   },
   {
    "duration": 680,
    "start_time": "2024-06-01T12:14:10.978Z"
   },
   {
    "duration": 656,
    "start_time": "2024-06-01T12:15:04.603Z"
   },
   {
    "duration": 781,
    "start_time": "2024-06-01T12:15:21.370Z"
   },
   {
    "duration": 304,
    "start_time": "2024-06-01T12:16:06.262Z"
   },
   {
    "duration": 527,
    "start_time": "2024-06-01T12:17:11.705Z"
   },
   {
    "duration": 601,
    "start_time": "2024-06-01T12:17:33.603Z"
   },
   {
    "duration": 481,
    "start_time": "2024-06-01T12:17:48.818Z"
   },
   {
    "duration": 569,
    "start_time": "2024-06-01T12:17:55.968Z"
   },
   {
    "duration": 536,
    "start_time": "2024-06-01T12:18:08.671Z"
   },
   {
    "duration": 629,
    "start_time": "2024-06-01T12:18:13.844Z"
   },
   {
    "duration": 558,
    "start_time": "2024-06-01T12:18:21.682Z"
   },
   {
    "duration": 671,
    "start_time": "2024-06-01T12:18:32.317Z"
   },
   {
    "duration": 670,
    "start_time": "2024-06-01T12:18:47.695Z"
   },
   {
    "duration": 522,
    "start_time": "2024-06-01T12:21:33.562Z"
   },
   {
    "duration": 540,
    "start_time": "2024-06-01T12:21:49.259Z"
   },
   {
    "duration": 535,
    "start_time": "2024-06-01T12:25:57.057Z"
   },
   {
    "duration": 637,
    "start_time": "2024-06-01T12:26:07.520Z"
   },
   {
    "duration": 397,
    "start_time": "2024-06-01T12:26:16.090Z"
   },
   {
    "duration": 417,
    "start_time": "2024-06-01T12:26:22.606Z"
   },
   {
    "duration": 271,
    "start_time": "2024-06-01T12:26:34.979Z"
   },
   {
    "duration": 546,
    "start_time": "2024-06-01T12:26:54.876Z"
   },
   {
    "duration": 638,
    "start_time": "2024-06-01T12:28:10.196Z"
   },
   {
    "duration": 476,
    "start_time": "2024-06-01T12:28:23.770Z"
   },
   {
    "duration": 611,
    "start_time": "2024-06-01T12:28:38.740Z"
   },
   {
    "duration": 723,
    "start_time": "2024-06-01T12:28:48.868Z"
   },
   {
    "duration": 631,
    "start_time": "2024-06-01T12:28:58.182Z"
   },
   {
    "duration": 622,
    "start_time": "2024-06-01T12:29:03.620Z"
   },
   {
    "duration": 710,
    "start_time": "2024-06-01T12:29:18.451Z"
   },
   {
    "duration": 544,
    "start_time": "2024-06-01T12:29:28.462Z"
   },
   {
    "duration": 519,
    "start_time": "2024-06-01T12:29:41.287Z"
   },
   {
    "duration": 617,
    "start_time": "2024-06-01T12:30:13.822Z"
   },
   {
    "duration": 499,
    "start_time": "2024-06-01T12:30:31.048Z"
   },
   {
    "duration": 502,
    "start_time": "2024-06-01T12:30:39.773Z"
   },
   {
    "duration": 501,
    "start_time": "2024-06-01T12:30:51.760Z"
   },
   {
    "duration": 607,
    "start_time": "2024-06-01T12:30:57.240Z"
   },
   {
    "duration": 508,
    "start_time": "2024-06-01T12:31:54.331Z"
   },
   {
    "duration": 490,
    "start_time": "2024-06-01T12:32:16.914Z"
   },
   {
    "duration": 708,
    "start_time": "2024-06-01T12:32:35.259Z"
   },
   {
    "duration": 580,
    "start_time": "2024-06-01T12:32:44.591Z"
   },
   {
    "duration": 529,
    "start_time": "2024-06-01T12:32:54.098Z"
   },
   {
    "duration": 547,
    "start_time": "2024-06-01T12:33:24.647Z"
   },
   {
    "duration": 907,
    "start_time": "2024-06-01T12:33:33.262Z"
   },
   {
    "duration": 550,
    "start_time": "2024-06-01T12:34:04.075Z"
   },
   {
    "duration": 633,
    "start_time": "2024-06-01T12:34:18.050Z"
   },
   {
    "duration": 549,
    "start_time": "2024-06-01T12:34:39.702Z"
   },
   {
    "duration": 654,
    "start_time": "2024-06-01T12:35:32.172Z"
   },
   {
    "duration": 5,
    "start_time": "2024-06-01T12:44:10.828Z"
   },
   {
    "duration": 12,
    "start_time": "2024-06-01T12:44:27.836Z"
   },
   {
    "duration": 5,
    "start_time": "2024-06-01T12:44:56.413Z"
   },
   {
    "duration": 1027,
    "start_time": "2024-06-01T12:44:57.474Z"
   },
   {
    "duration": 5,
    "start_time": "2024-06-01T12:45:36.504Z"
   },
   {
    "duration": 1279,
    "start_time": "2024-06-01T12:45:37.631Z"
   },
   {
    "duration": 6,
    "start_time": "2024-06-01T12:46:57.940Z"
   },
   {
    "duration": 1422,
    "start_time": "2024-06-01T12:46:58.615Z"
   },
   {
    "duration": 6,
    "start_time": "2024-06-01T12:47:09.242Z"
   },
   {
    "duration": 1445,
    "start_time": "2024-06-01T12:47:09.895Z"
   },
   {
    "duration": 5,
    "start_time": "2024-06-01T12:47:18.762Z"
   },
   {
    "duration": 1373,
    "start_time": "2024-06-01T12:47:19.230Z"
   },
   {
    "duration": 1532,
    "start_time": "2024-06-01T12:47:37.041Z"
   },
   {
    "duration": 1283,
    "start_time": "2024-06-01T12:47:44.766Z"
   },
   {
    "duration": 652,
    "start_time": "2024-06-01T12:49:22.684Z"
   },
   {
    "duration": 716,
    "start_time": "2024-06-01T12:49:34.119Z"
   },
   {
    "duration": 631,
    "start_time": "2024-06-01T12:49:46.229Z"
   },
   {
    "duration": 938,
    "start_time": "2024-06-01T12:49:52.565Z"
   },
   {
    "duration": 491,
    "start_time": "2024-06-01T12:50:19.639Z"
   },
   {
    "duration": 556,
    "start_time": "2024-06-01T12:50:27.485Z"
   },
   {
    "duration": 487,
    "start_time": "2024-06-01T12:50:33.244Z"
   },
   {
    "duration": 592,
    "start_time": "2024-06-01T12:50:39.431Z"
   },
   {
    "duration": 624,
    "start_time": "2024-06-01T12:50:43.758Z"
   },
   {
    "duration": 898,
    "start_time": "2024-06-01T12:51:20.382Z"
   },
   {
    "duration": 814,
    "start_time": "2024-06-01T12:51:38.244Z"
   },
   {
    "duration": 923,
    "start_time": "2024-06-01T12:51:46.150Z"
   },
   {
    "duration": 1554,
    "start_time": "2024-06-01T12:53:59.727Z"
   },
   {
    "duration": 1539,
    "start_time": "2024-06-01T12:56:19.788Z"
   },
   {
    "duration": 1575,
    "start_time": "2024-06-01T12:57:16.361Z"
   },
   {
    "duration": 1643,
    "start_time": "2024-06-01T12:58:19.665Z"
   },
   {
    "duration": 147,
    "start_time": "2024-06-01T13:09:09.658Z"
   },
   {
    "duration": 147,
    "start_time": "2024-06-01T13:09:19.226Z"
   },
   {
    "duration": 143,
    "start_time": "2024-06-01T13:10:41.855Z"
   },
   {
    "duration": 165,
    "start_time": "2024-06-01T13:10:47.109Z"
   },
   {
    "duration": 159,
    "start_time": "2024-06-01T13:10:58.151Z"
   },
   {
    "duration": 170,
    "start_time": "2024-06-01T13:11:48.593Z"
   },
   {
    "duration": 166,
    "start_time": "2024-06-01T13:12:02.596Z"
   },
   {
    "duration": 3,
    "start_time": "2024-06-01T13:16:43.876Z"
   },
   {
    "duration": 1854,
    "start_time": "2024-06-01T13:16:54.287Z"
   },
   {
    "duration": 3,
    "start_time": "2024-06-01T13:17:55.107Z"
   },
   {
    "duration": 1401,
    "start_time": "2024-06-01T13:17:56.333Z"
   },
   {
    "duration": 4,
    "start_time": "2024-06-01T13:18:25.509Z"
   },
   {
    "duration": 1420,
    "start_time": "2024-06-01T13:18:28.208Z"
   },
   {
    "duration": 4,
    "start_time": "2024-06-01T13:19:39.380Z"
   },
   {
    "duration": 1458,
    "start_time": "2024-06-01T13:19:42.083Z"
   },
   {
    "duration": 4,
    "start_time": "2024-06-01T13:20:00.533Z"
   },
   {
    "duration": 1407,
    "start_time": "2024-06-01T13:20:01.632Z"
   },
   {
    "duration": 3,
    "start_time": "2024-06-01T13:20:32.519Z"
   },
   {
    "duration": 1495,
    "start_time": "2024-06-01T13:20:35.352Z"
   },
   {
    "duration": 4,
    "start_time": "2024-06-01T13:21:39.135Z"
   },
   {
    "duration": 1546,
    "start_time": "2024-06-01T13:21:40.421Z"
   },
   {
    "duration": 4,
    "start_time": "2024-06-01T13:21:55.101Z"
   },
   {
    "duration": 1396,
    "start_time": "2024-06-01T13:21:56.330Z"
   },
   {
    "duration": 3,
    "start_time": "2024-06-01T13:22:39.147Z"
   },
   {
    "duration": 1425,
    "start_time": "2024-06-01T13:22:40.408Z"
   },
   {
    "duration": 4,
    "start_time": "2024-06-01T13:24:13.416Z"
   },
   {
    "duration": 1571,
    "start_time": "2024-06-01T13:24:14.585Z"
   },
   {
    "duration": 4,
    "start_time": "2024-06-01T13:24:28.785Z"
   },
   {
    "duration": 1462,
    "start_time": "2024-06-01T13:24:30.887Z"
   },
   {
    "duration": 4,
    "start_time": "2024-06-01T13:26:08.525Z"
   },
   {
    "duration": 1667,
    "start_time": "2024-06-01T13:26:10.115Z"
   },
   {
    "duration": 5,
    "start_time": "2024-06-01T13:26:46.513Z"
   },
   {
    "duration": 1553,
    "start_time": "2024-06-01T13:26:47.722Z"
   },
   {
    "duration": 5,
    "start_time": "2024-06-01T13:27:00.387Z"
   },
   {
    "duration": 1638,
    "start_time": "2024-06-01T13:27:01.667Z"
   },
   {
    "duration": 5,
    "start_time": "2024-06-01T13:27:45.602Z"
   },
   {
    "duration": 1568,
    "start_time": "2024-06-01T13:27:47.011Z"
   },
   {
    "duration": 5,
    "start_time": "2024-06-01T13:28:37.903Z"
   },
   {
    "duration": 1546,
    "start_time": "2024-06-01T13:28:39.142Z"
   },
   {
    "duration": 1607,
    "start_time": "2024-06-01T13:35:46.023Z"
   },
   {
    "duration": 1707,
    "start_time": "2024-06-01T13:45:15.851Z"
   },
   {
    "duration": 1580,
    "start_time": "2024-06-01T13:45:34.913Z"
   },
   {
    "duration": 1581,
    "start_time": "2024-06-01T13:45:43.427Z"
   },
   {
    "duration": 1704,
    "start_time": "2024-06-01T13:47:00.121Z"
   },
   {
    "duration": 1763,
    "start_time": "2024-06-01T13:55:13.624Z"
   },
   {
    "duration": 13,
    "start_time": "2024-06-01T14:01:57.235Z"
   },
   {
    "duration": 1439,
    "start_time": "2024-06-01T14:02:09.069Z"
   },
   {
    "duration": 1399,
    "start_time": "2024-06-01T14:02:49.884Z"
   },
   {
    "duration": 5,
    "start_time": "2024-06-01T14:03:19.666Z"
   },
   {
    "duration": 1423,
    "start_time": "2024-06-01T14:03:28.978Z"
   },
   {
    "duration": 1454,
    "start_time": "2024-06-01T14:04:20.923Z"
   },
   {
    "duration": 17,
    "start_time": "2024-06-01T14:04:28.771Z"
   },
   {
    "duration": 11,
    "start_time": "2024-06-01T14:04:53.622Z"
   },
   {
    "duration": 49,
    "start_time": "2024-06-01T14:06:13.283Z"
   },
   {
    "duration": 5,
    "start_time": "2024-06-01T14:06:21.010Z"
   },
   {
    "duration": 9,
    "start_time": "2024-06-01T14:06:22.089Z"
   },
   {
    "duration": 17,
    "start_time": "2024-06-01T14:06:25.573Z"
   },
   {
    "duration": 75,
    "start_time": "2024-06-01T14:21:15.441Z"
   },
   {
    "duration": 799,
    "start_time": "2024-06-01T14:23:00.823Z"
   },
   {
    "duration": 654,
    "start_time": "2024-06-01T14:23:14.120Z"
   },
   {
    "duration": 621,
    "start_time": "2024-06-01T14:23:41.529Z"
   },
   {
    "duration": 634,
    "start_time": "2024-06-01T14:23:52.055Z"
   },
   {
    "duration": 679,
    "start_time": "2024-06-01T14:23:58.830Z"
   },
   {
    "duration": 646,
    "start_time": "2024-06-01T14:24:07.858Z"
   },
   {
    "duration": 650,
    "start_time": "2024-06-01T14:24:14.240Z"
   },
   {
    "duration": 735,
    "start_time": "2024-06-01T14:24:20.182Z"
   },
   {
    "duration": 823,
    "start_time": "2024-06-01T14:24:42.705Z"
   },
   {
    "duration": 766,
    "start_time": "2024-06-01T14:26:35.460Z"
   },
   {
    "duration": 1767,
    "start_time": "2024-06-01T14:31:40.027Z"
   },
   {
    "duration": 1930,
    "start_time": "2024-06-01T14:33:07.043Z"
   },
   {
    "duration": 1975,
    "start_time": "2024-06-01T14:33:33.494Z"
   },
   {
    "duration": 1823,
    "start_time": "2024-06-01T14:33:47.024Z"
   },
   {
    "duration": 5962,
    "start_time": "2024-06-01T15:20:11.142Z"
   },
   {
    "duration": 1165,
    "start_time": "2024-06-01T15:20:17.106Z"
   },
   {
    "duration": 1289,
    "start_time": "2024-06-01T15:20:18.272Z"
   },
   {
    "duration": 79,
    "start_time": "2024-06-01T15:20:19.563Z"
   },
   {
    "duration": 147,
    "start_time": "2024-06-01T15:20:19.645Z"
   },
   {
    "duration": 1636,
    "start_time": "2024-06-01T15:20:19.799Z"
   },
   {
    "duration": 1811,
    "start_time": "2024-06-01T15:20:21.437Z"
   },
   {
    "duration": 1920,
    "start_time": "2024-06-01T15:20:23.250Z"
   },
   {
    "duration": 1571,
    "start_time": "2024-06-01T15:20:25.172Z"
   },
   {
    "duration": 2006,
    "start_time": "2024-06-01T15:20:26.745Z"
   },
   {
    "duration": 2162,
    "start_time": "2024-06-01T15:20:47.697Z"
   },
   {
    "duration": 1588,
    "start_time": "2024-06-01T15:21:17.506Z"
   },
   {
    "duration": 1737,
    "start_time": "2024-06-01T15:21:38.278Z"
   },
   {
    "duration": 1927,
    "start_time": "2024-06-01T15:21:44.672Z"
   },
   {
    "duration": 1545,
    "start_time": "2024-06-01T15:22:02.151Z"
   },
   {
    "duration": 1902,
    "start_time": "2024-06-01T15:22:37.259Z"
   },
   {
    "duration": 6148,
    "start_time": "2024-06-01T15:22:47.560Z"
   },
   {
    "duration": 1190,
    "start_time": "2024-06-01T15:22:53.715Z"
   },
   {
    "duration": 927,
    "start_time": "2024-06-01T15:22:54.907Z"
   },
   {
    "duration": 96,
    "start_time": "2024-06-01T15:22:55.836Z"
   },
   {
    "duration": 177,
    "start_time": "2024-06-01T15:22:55.936Z"
   },
   {
    "duration": 1682,
    "start_time": "2024-06-01T15:22:56.115Z"
   },
   {
    "duration": 1713,
    "start_time": "2024-06-01T15:22:57.799Z"
   },
   {
    "duration": 1785,
    "start_time": "2024-06-01T15:22:59.514Z"
   },
   {
    "duration": 1482,
    "start_time": "2024-06-01T15:23:01.301Z"
   },
   {
    "duration": 2562,
    "start_time": "2024-06-01T15:23:02.785Z"
   },
   {
    "duration": 1815,
    "start_time": "2024-06-01T15:23:17.352Z"
   },
   {
    "duration": 1814,
    "start_time": "2024-06-01T15:23:40.573Z"
   },
   {
    "duration": 6128,
    "start_time": "2024-06-01T15:24:17.676Z"
   },
   {
    "duration": 1124,
    "start_time": "2024-06-01T15:24:23.807Z"
   },
   {
    "duration": 1408,
    "start_time": "2024-06-01T15:24:24.934Z"
   },
   {
    "duration": 63,
    "start_time": "2024-06-01T15:24:26.343Z"
   },
   {
    "duration": 129,
    "start_time": "2024-06-01T15:24:26.407Z"
   },
   {
    "duration": 1671,
    "start_time": "2024-06-01T15:24:26.538Z"
   },
   {
    "duration": 1711,
    "start_time": "2024-06-01T15:24:28.210Z"
   },
   {
    "duration": 1860,
    "start_time": "2024-06-01T15:24:29.923Z"
   },
   {
    "duration": 1750,
    "start_time": "2024-06-01T15:24:31.785Z"
   },
   {
    "duration": 1984,
    "start_time": "2024-06-01T15:24:33.537Z"
   },
   {
    "duration": 88,
    "start_time": "2024-06-01T15:30:40.485Z"
   },
   {
    "duration": 64,
    "start_time": "2024-06-01T15:31:39.007Z"
   },
   {
    "duration": 8,
    "start_time": "2024-06-01T15:32:22.011Z"
   },
   {
    "duration": 12,
    "start_time": "2024-06-01T15:33:53.040Z"
   },
   {
    "duration": 16,
    "start_time": "2024-06-01T15:45:12.426Z"
   },
   {
    "duration": 1634,
    "start_time": "2024-06-01T15:47:39.786Z"
   },
   {
    "duration": 1596,
    "start_time": "2024-06-01T15:49:05.485Z"
   },
   {
    "duration": 6,
    "start_time": "2024-06-01T15:50:03.604Z"
   },
   {
    "duration": 11,
    "start_time": "2024-06-01T15:50:15.475Z"
   },
   {
    "duration": 13,
    "start_time": "2024-06-01T15:51:47.210Z"
   },
   {
    "duration": 10,
    "start_time": "2024-06-01T15:51:48.824Z"
   },
   {
    "duration": 2178,
    "start_time": "2024-06-01T15:51:53.438Z"
   },
   {
    "duration": 2354,
    "start_time": "2024-06-01T15:52:38.959Z"
   },
   {
    "duration": 9,
    "start_time": "2024-06-01T15:54:59.403Z"
   },
   {
    "duration": 9,
    "start_time": "2024-06-01T15:55:08.979Z"
   },
   {
    "duration": 2202,
    "start_time": "2024-06-01T15:55:59.309Z"
   },
   {
    "duration": 4,
    "start_time": "2024-06-01T15:56:08.924Z"
   },
   {
    "duration": 4,
    "start_time": "2024-06-01T15:56:23.155Z"
   },
   {
    "duration": 9,
    "start_time": "2024-06-01T16:05:29.585Z"
   },
   {
    "duration": 10,
    "start_time": "2024-06-01T16:18:04.623Z"
   },
   {
    "duration": 3,
    "start_time": "2024-06-01T16:18:10.742Z"
   },
   {
    "duration": 4,
    "start_time": "2024-06-01T16:18:14.643Z"
   },
   {
    "duration": 8,
    "start_time": "2024-06-01T16:18:46.234Z"
   },
   {
    "duration": 4,
    "start_time": "2024-06-01T16:19:01.895Z"
   },
   {
    "duration": 4,
    "start_time": "2024-06-01T16:19:06.666Z"
   },
   {
    "duration": 3,
    "start_time": "2024-06-01T16:19:12.816Z"
   },
   {
    "duration": 4,
    "start_time": "2024-06-01T16:35:56.863Z"
   },
   {
    "duration": 4,
    "start_time": "2024-06-01T16:35:58.665Z"
   },
   {
    "duration": 9,
    "start_time": "2024-06-01T16:44:27.715Z"
   },
   {
    "duration": 2393,
    "start_time": "2024-06-01T16:45:43.909Z"
   },
   {
    "duration": 2314,
    "start_time": "2024-06-01T16:46:10.299Z"
   },
   {
    "duration": 4,
    "start_time": "2024-06-01T16:47:20.983Z"
   },
   {
    "duration": 4,
    "start_time": "2024-06-01T16:47:25.457Z"
   },
   {
    "duration": 2145,
    "start_time": "2024-06-01T16:58:31.858Z"
   },
   {
    "duration": 2154,
    "start_time": "2024-06-01T16:58:48.355Z"
   },
   {
    "duration": 20,
    "start_time": "2024-06-01T17:02:47.257Z"
   },
   {
    "duration": 18,
    "start_time": "2024-06-01T17:04:05.762Z"
   },
   {
    "duration": 6,
    "start_time": "2024-06-01T17:06:59.042Z"
   },
   {
    "duration": 18,
    "start_time": "2024-06-01T17:07:04.418Z"
   },
   {
    "duration": 20,
    "start_time": "2024-06-01T17:07:21.612Z"
   },
   {
    "duration": 1798,
    "start_time": "2024-06-01T17:07:33.218Z"
   },
   {
    "duration": 3,
    "start_time": "2024-06-01T17:07:56.959Z"
   },
   {
    "duration": 4,
    "start_time": "2024-06-01T17:10:24.274Z"
   },
   {
    "duration": 1757,
    "start_time": "2024-06-01T17:11:35.254Z"
   },
   {
    "duration": 1561,
    "start_time": "2024-06-01T17:12:43.443Z"
   },
   {
    "duration": 4248,
    "start_time": "2024-06-01T17:12:56.557Z"
   },
   {
    "duration": 5253,
    "start_time": "2024-06-01T17:13:09.564Z"
   },
   {
    "duration": 5033,
    "start_time": "2024-06-01T17:15:58.568Z"
   },
   {
    "duration": 5,
    "start_time": "2024-06-01T17:16:08.410Z"
   },
   {
    "duration": 1696,
    "start_time": "2024-06-01T17:19:56.310Z"
   },
   {
    "duration": 3,
    "start_time": "2024-06-01T17:20:58.081Z"
   },
   {
    "duration": 5,
    "start_time": "2024-06-01T17:41:32.174Z"
   },
   {
    "duration": 3,
    "start_time": "2024-06-01T17:42:10.261Z"
   },
   {
    "duration": 4,
    "start_time": "2024-06-01T17:43:10.651Z"
   },
   {
    "duration": 4,
    "start_time": "2024-06-01T17:43:16.114Z"
   },
   {
    "duration": 5,
    "start_time": "2024-06-01T17:43:28.149Z"
   },
   {
    "duration": 5,
    "start_time": "2024-06-01T17:43:37.388Z"
   },
   {
    "duration": 4,
    "start_time": "2024-06-01T17:50:06.180Z"
   },
   {
    "duration": 4,
    "start_time": "2024-06-01T18:23:32.636Z"
   },
   {
    "duration": 5,
    "start_time": "2024-06-01T18:37:44.659Z"
   },
   {
    "duration": 4,
    "start_time": "2024-06-01T18:37:54.169Z"
   },
   {
    "duration": 5,
    "start_time": "2024-06-01T18:40:02.551Z"
   },
   {
    "duration": 5,
    "start_time": "2024-06-01T18:40:13.217Z"
   },
   {
    "duration": 5,
    "start_time": "2024-06-01T18:40:24.115Z"
   },
   {
    "duration": 3,
    "start_time": "2024-06-01T18:46:31.229Z"
   },
   {
    "duration": 3,
    "start_time": "2024-06-01T18:46:42.616Z"
   },
   {
    "duration": 4,
    "start_time": "2024-06-01T18:46:48.288Z"
   },
   {
    "duration": 4,
    "start_time": "2024-06-01T18:46:53.293Z"
   },
   {
    "duration": 45,
    "start_time": "2024-06-01T18:49:32.216Z"
   },
   {
    "duration": 42,
    "start_time": "2024-06-01T18:49:49.919Z"
   },
   {
    "duration": 50,
    "start_time": "2024-06-01T18:50:03.163Z"
   },
   {
    "duration": 5,
    "start_time": "2024-06-01T18:50:14.943Z"
   },
   {
    "duration": 5,
    "start_time": "2024-06-01T18:50:28.231Z"
   },
   {
    "duration": 5,
    "start_time": "2024-06-01T18:57:32.675Z"
   },
   {
    "duration": 8,
    "start_time": "2024-06-01T18:57:44.104Z"
   },
   {
    "duration": 4,
    "start_time": "2024-06-01T18:57:47.994Z"
   },
   {
    "duration": 57,
    "start_time": "2024-06-01T18:58:06.092Z"
   },
   {
    "duration": 43,
    "start_time": "2024-06-01T18:58:12.126Z"
   },
   {
    "duration": 4,
    "start_time": "2024-06-01T18:59:52.450Z"
   },
   {
    "duration": 4,
    "start_time": "2024-06-01T19:01:19.489Z"
   },
   {
    "duration": 3,
    "start_time": "2024-06-01T19:01:31.748Z"
   },
   {
    "duration": 8,
    "start_time": "2024-06-01T19:01:50.805Z"
   },
   {
    "duration": 8,
    "start_time": "2024-06-01T19:02:15.809Z"
   },
   {
    "duration": 8,
    "start_time": "2024-06-01T19:12:05.607Z"
   },
   {
    "duration": 14,
    "start_time": "2024-06-01T19:12:15.637Z"
   },
   {
    "duration": 7,
    "start_time": "2024-06-01T19:12:38.950Z"
   },
   {
    "duration": 4,
    "start_time": "2024-06-01T19:12:45.137Z"
   },
   {
    "duration": 10,
    "start_time": "2024-06-01T19:13:00.417Z"
   },
   {
    "duration": 6,
    "start_time": "2024-06-01T19:18:03.786Z"
   },
   {
    "duration": 5,
    "start_time": "2024-06-01T19:18:06.979Z"
   },
   {
    "duration": 4,
    "start_time": "2024-06-01T19:18:16.971Z"
   },
   {
    "duration": 4,
    "start_time": "2024-06-01T19:18:24.644Z"
   },
   {
    "duration": 4,
    "start_time": "2024-06-01T19:18:38.321Z"
   },
   {
    "duration": 6,
    "start_time": "2024-06-01T19:30:29.029Z"
   },
   {
    "duration": 4,
    "start_time": "2024-06-01T19:30:34.715Z"
   },
   {
    "duration": 3,
    "start_time": "2024-06-01T19:32:06.366Z"
   },
   {
    "duration": 8,
    "start_time": "2024-06-01T19:32:34.385Z"
   },
   {
    "duration": 3,
    "start_time": "2024-06-01T19:32:41.862Z"
   },
   {
    "duration": 9,
    "start_time": "2024-06-01T19:32:42.678Z"
   },
   {
    "duration": 3,
    "start_time": "2024-06-01T19:32:53.621Z"
   },
   {
    "duration": 8,
    "start_time": "2024-06-01T19:32:54.333Z"
   },
   {
    "duration": 3,
    "start_time": "2024-06-01T19:33:52.272Z"
   },
   {
    "duration": 7,
    "start_time": "2024-06-01T19:33:53.034Z"
   },
   {
    "duration": 11,
    "start_time": "2024-06-01T19:50:27.876Z"
   },
   {
    "duration": 7,
    "start_time": "2024-06-01T19:55:02.610Z"
   },
   {
    "duration": 7,
    "start_time": "2024-06-01T19:55:03.112Z"
   },
   {
    "duration": 9975,
    "start_time": "2024-06-02T07:18:11.346Z"
   },
   {
    "duration": 1591,
    "start_time": "2024-06-02T07:18:21.323Z"
   },
   {
    "duration": 1043,
    "start_time": "2024-06-02T07:18:22.916Z"
   },
   {
    "duration": 73,
    "start_time": "2024-06-02T07:18:23.961Z"
   },
   {
    "duration": 138,
    "start_time": "2024-06-02T07:18:24.036Z"
   },
   {
    "duration": 1864,
    "start_time": "2024-06-02T07:18:24.179Z"
   },
   {
    "duration": 1889,
    "start_time": "2024-06-02T07:18:26.044Z"
   },
   {
    "duration": 2009,
    "start_time": "2024-06-02T07:18:27.935Z"
   },
   {
    "duration": 1608,
    "start_time": "2024-06-02T07:18:29.946Z"
   },
   {
    "duration": 2071,
    "start_time": "2024-06-02T07:18:31.558Z"
   },
   {
    "duration": 13,
    "start_time": "2024-06-02T07:18:33.631Z"
   },
   {
    "duration": 2240,
    "start_time": "2024-06-02T07:18:33.646Z"
   },
   {
    "duration": 94,
    "start_time": "2024-06-02T07:18:35.888Z"
   },
   {
    "duration": 6005,
    "start_time": "2024-06-02T07:18:35.984Z"
   },
   {
    "duration": 90,
    "start_time": "2024-06-02T07:18:41.991Z"
   },
   {
    "duration": 2493,
    "start_time": "2024-06-02T07:18:42.089Z"
   },
   {
    "duration": 5,
    "start_time": "2024-06-02T07:18:44.585Z"
   },
   {
    "duration": 5,
    "start_time": "2024-06-02T07:18:44.679Z"
   },
   {
    "duration": 4,
    "start_time": "2024-06-02T07:18:44.685Z"
   },
   {
    "duration": 8,
    "start_time": "2024-06-02T07:18:44.691Z"
   },
   {
    "duration": 6,
    "start_time": "2024-06-02T07:18:44.700Z"
   },
   {
    "duration": 9,
    "start_time": "2024-06-02T07:18:44.707Z"
   },
   {
    "duration": 13,
    "start_time": "2024-06-02T07:18:44.718Z"
   },
   {
    "duration": 4,
    "start_time": "2024-06-02T07:22:46.409Z"
   },
   {
    "duration": 7,
    "start_time": "2024-06-02T07:22:53.944Z"
   },
   {
    "duration": 6,
    "start_time": "2024-06-02T07:22:59.777Z"
   },
   {
    "duration": 3,
    "start_time": "2024-06-02T07:25:02.908Z"
   },
   {
    "duration": 8,
    "start_time": "2024-06-02T07:25:04.976Z"
   },
   {
    "duration": 13,
    "start_time": "2024-06-02T07:26:29.967Z"
   },
   {
    "duration": 5371,
    "start_time": "2024-06-02T07:29:44.210Z"
   },
   {
    "duration": 1411,
    "start_time": "2024-06-02T07:29:49.584Z"
   },
   {
    "duration": 1129,
    "start_time": "2024-06-02T07:29:50.996Z"
   },
   {
    "duration": 78,
    "start_time": "2024-06-02T07:29:52.128Z"
   },
   {
    "duration": 133,
    "start_time": "2024-06-02T07:29:52.208Z"
   },
   {
    "duration": 1692,
    "start_time": "2024-06-02T07:29:52.342Z"
   },
   {
    "duration": 1787,
    "start_time": "2024-06-02T07:29:54.036Z"
   },
   {
    "duration": 1966,
    "start_time": "2024-06-02T07:29:55.825Z"
   },
   {
    "duration": 1508,
    "start_time": "2024-06-02T07:29:57.793Z"
   },
   {
    "duration": 2020,
    "start_time": "2024-06-02T07:29:59.304Z"
   },
   {
    "duration": 13,
    "start_time": "2024-06-02T07:30:01.326Z"
   },
   {
    "duration": 2645,
    "start_time": "2024-06-02T07:30:01.341Z"
   },
   {
    "duration": 91,
    "start_time": "2024-06-02T07:30:03.991Z"
   },
   {
    "duration": 6501,
    "start_time": "2024-06-02T07:30:04.085Z"
   },
   {
    "duration": 95,
    "start_time": "2024-06-02T07:30:10.588Z"
   },
   {
    "duration": 2295,
    "start_time": "2024-06-02T07:30:10.684Z"
   },
   {
    "duration": 5,
    "start_time": "2024-06-02T07:30:12.982Z"
   },
   {
    "duration": 124,
    "start_time": "2024-06-02T07:30:12.989Z"
   },
   {
    "duration": 7,
    "start_time": "2024-06-02T07:30:13.115Z"
   },
   {
    "duration": 23,
    "start_time": "2024-06-02T07:30:13.124Z"
   },
   {
    "duration": 43,
    "start_time": "2024-06-02T07:30:13.149Z"
   },
   {
    "duration": 28,
    "start_time": "2024-06-02T07:30:13.193Z"
   },
   {
    "duration": 48,
    "start_time": "2024-06-02T07:30:13.223Z"
   },
   {
    "duration": 136,
    "start_time": "2024-06-02T07:51:38.012Z"
   },
   {
    "duration": 292,
    "start_time": "2024-06-02T07:52:06.489Z"
   },
   {
    "duration": 313,
    "start_time": "2024-06-02T07:52:13.824Z"
   },
   {
    "duration": 306,
    "start_time": "2024-06-02T07:52:25.908Z"
   },
   {
    "duration": 295,
    "start_time": "2024-06-02T07:52:46.886Z"
   },
   {
    "duration": 319,
    "start_time": "2024-06-02T07:52:54.216Z"
   },
   {
    "duration": 4,
    "start_time": "2024-06-02T07:55:59.563Z"
   },
   {
    "duration": 343,
    "start_time": "2024-06-02T08:00:31.158Z"
   },
   {
    "duration": 402,
    "start_time": "2024-06-02T08:01:18.562Z"
   },
   {
    "duration": 321,
    "start_time": "2024-06-02T08:02:45.520Z"
   },
   {
    "duration": 13,
    "start_time": "2024-06-02T08:04:39.779Z"
   },
   {
    "duration": 321,
    "start_time": "2024-06-02T08:05:10.154Z"
   },
   {
    "duration": 318,
    "start_time": "2024-06-02T08:05:15.162Z"
   },
   {
    "duration": 5,
    "start_time": "2024-06-02T08:19:32.000Z"
   },
   {
    "duration": 332,
    "start_time": "2024-06-02T08:19:54.753Z"
   },
   {
    "duration": 336,
    "start_time": "2024-06-02T08:19:57.280Z"
   },
   {
    "duration": 324,
    "start_time": "2024-06-02T08:19:59.670Z"
   },
   {
    "duration": 5,
    "start_time": "2024-06-02T08:20:55.844Z"
   },
   {
    "duration": 324,
    "start_time": "2024-06-02T08:20:58.042Z"
   },
   {
    "duration": 327,
    "start_time": "2024-06-02T08:21:02.319Z"
   },
   {
    "duration": 330,
    "start_time": "2024-06-02T08:21:05.655Z"
   },
   {
    "duration": 16,
    "start_time": "2024-06-02T08:21:38.050Z"
   },
   {
    "duration": 14,
    "start_time": "2024-06-02T08:22:34.482Z"
   },
   {
    "duration": 4,
    "start_time": "2024-06-02T08:23:05.752Z"
   },
   {
    "duration": 6,
    "start_time": "2024-06-02T08:23:22.890Z"
   },
   {
    "duration": 5,
    "start_time": "2024-06-02T08:23:32.055Z"
   },
   {
    "duration": 6,
    "start_time": "2024-06-02T08:49:57.094Z"
   },
   {
    "duration": 598,
    "start_time": "2024-06-02T08:50:00.715Z"
   },
   {
    "duration": 6,
    "start_time": "2024-06-02T08:51:33.417Z"
   },
   {
    "duration": 584,
    "start_time": "2024-06-02T08:51:36.270Z"
   },
   {
    "duration": 5,
    "start_time": "2024-06-02T08:51:52.891Z"
   },
   {
    "duration": 571,
    "start_time": "2024-06-02T08:51:55.721Z"
   },
   {
    "duration": 598,
    "start_time": "2024-06-02T08:51:57.802Z"
   },
   {
    "duration": 570,
    "start_time": "2024-06-02T08:51:58.915Z"
   },
   {
    "duration": 5,
    "start_time": "2024-06-02T08:58:26.963Z"
   },
   {
    "duration": 9,
    "start_time": "2024-06-02T08:58:29.104Z"
   },
   {
    "duration": 4,
    "start_time": "2024-06-02T08:58:29.262Z"
   },
   {
    "duration": 698,
    "start_time": "2024-06-02T08:58:30.819Z"
   },
   {
    "duration": 614,
    "start_time": "2024-06-02T08:58:39.214Z"
   },
   {
    "duration": 624,
    "start_time": "2024-06-02T08:58:40.644Z"
   },
   {
    "duration": 6,
    "start_time": "2024-06-02T08:58:58.284Z"
   },
   {
    "duration": 612,
    "start_time": "2024-06-02T08:59:01.196Z"
   },
   {
    "duration": 5,
    "start_time": "2024-06-02T08:59:23.755Z"
   },
   {
    "duration": 585,
    "start_time": "2024-06-02T08:59:29.044Z"
   },
   {
    "duration": 600,
    "start_time": "2024-06-02T08:59:30.439Z"
   },
   {
    "duration": 582,
    "start_time": "2024-06-02T08:59:31.761Z"
   },
   {
    "duration": 5,
    "start_time": "2024-06-02T09:00:36.087Z"
   },
   {
    "duration": 612,
    "start_time": "2024-06-02T09:00:38.804Z"
   },
   {
    "duration": 7,
    "start_time": "2024-06-02T09:00:51.247Z"
   },
   {
    "duration": 610,
    "start_time": "2024-06-02T09:00:54.655Z"
   },
   {
    "duration": 5856,
    "start_time": "2024-06-02T09:01:32.831Z"
   },
   {
    "duration": 1435,
    "start_time": "2024-06-02T09:01:38.689Z"
   },
   {
    "duration": 972,
    "start_time": "2024-06-02T09:01:40.127Z"
   },
   {
    "duration": 83,
    "start_time": "2024-06-02T09:01:41.102Z"
   },
   {
    "duration": 140,
    "start_time": "2024-06-02T09:01:41.187Z"
   },
   {
    "duration": 1967,
    "start_time": "2024-06-02T09:01:41.329Z"
   },
   {
    "duration": 1942,
    "start_time": "2024-06-02T09:01:43.298Z"
   },
   {
    "duration": 2179,
    "start_time": "2024-06-02T09:01:45.242Z"
   },
   {
    "duration": 1659,
    "start_time": "2024-06-02T09:01:47.423Z"
   },
   {
    "duration": 2075,
    "start_time": "2024-06-02T09:01:49.085Z"
   },
   {
    "duration": 13,
    "start_time": "2024-06-02T09:01:51.161Z"
   },
   {
    "duration": 2411,
    "start_time": "2024-06-02T09:01:51.181Z"
   },
   {
    "duration": 93,
    "start_time": "2024-06-02T09:01:53.596Z"
   },
   {
    "duration": 6101,
    "start_time": "2024-06-02T09:01:53.781Z"
   },
   {
    "duration": 5,
    "start_time": "2024-06-02T09:01:59.884Z"
   },
   {
    "duration": 2607,
    "start_time": "2024-06-02T09:01:59.981Z"
   },
   {
    "duration": 93,
    "start_time": "2024-06-02T09:02:02.590Z"
   },
   {
    "duration": 113,
    "start_time": "2024-06-02T09:02:02.686Z"
   },
   {
    "duration": 19,
    "start_time": "2024-06-02T09:02:02.801Z"
   },
   {
    "duration": 26,
    "start_time": "2024-06-02T09:02:02.822Z"
   },
   {
    "duration": 17,
    "start_time": "2024-06-02T09:02:02.880Z"
   },
   {
    "duration": 9,
    "start_time": "2024-06-02T09:02:02.899Z"
   },
   {
    "duration": 79,
    "start_time": "2024-06-02T09:02:02.910Z"
   },
   {
    "duration": 40,
    "start_time": "2024-06-02T09:02:02.991Z"
   },
   {
    "duration": 291,
    "start_time": "2024-06-02T09:02:03.033Z"
   },
   {
    "duration": 0,
    "start_time": "2024-06-02T09:02:03.326Z"
   },
   {
    "duration": 0,
    "start_time": "2024-06-02T09:02:03.327Z"
   },
   {
    "duration": 0,
    "start_time": "2024-06-02T09:02:03.380Z"
   },
   {
    "duration": 0,
    "start_time": "2024-06-02T09:02:03.381Z"
   },
   {
    "duration": 633,
    "start_time": "2024-06-02T09:02:17.981Z"
   },
   {
    "duration": 565,
    "start_time": "2024-06-02T09:02:18.855Z"
   },
   {
    "duration": 583,
    "start_time": "2024-06-02T09:02:19.833Z"
   },
   {
    "duration": 4,
    "start_time": "2024-06-02T09:22:15.519Z"
   },
   {
    "duration": 4,
    "start_time": "2024-06-02T09:22:21.385Z"
   },
   {
    "duration": 13,
    "start_time": "2024-06-02T09:36:55.115Z"
   },
   {
    "duration": 5,
    "start_time": "2024-06-02T09:37:00.225Z"
   },
   {
    "duration": 9,
    "start_time": "2024-06-02T09:37:02.780Z"
   },
   {
    "duration": 4,
    "start_time": "2024-06-02T10:51:48.288Z"
   },
   {
    "duration": 19,
    "start_time": "2024-06-02T10:51:48.688Z"
   },
   {
    "duration": 6,
    "start_time": "2024-06-02T10:54:04.467Z"
   },
   {
    "duration": 570,
    "start_time": "2024-06-02T10:54:06.071Z"
   },
   {
    "duration": 585,
    "start_time": "2024-06-02T10:54:06.652Z"
   },
   {
    "duration": 579,
    "start_time": "2024-06-02T10:54:07.622Z"
   },
   {
    "duration": 539,
    "start_time": "2024-06-02T10:56:18.871Z"
   },
   {
    "duration": 22,
    "start_time": "2024-06-02T10:56:24.661Z"
   },
   {
    "duration": 5,
    "start_time": "2024-06-02T10:58:41.042Z"
   },
   {
    "duration": 7,
    "start_time": "2024-06-02T10:58:50.309Z"
   },
   {
    "duration": 7,
    "start_time": "2024-06-02T10:59:05.097Z"
   },
   {
    "duration": 19,
    "start_time": "2024-06-02T10:59:58.095Z"
   },
   {
    "duration": 7,
    "start_time": "2024-06-02T11:01:07.851Z"
   },
   {
    "duration": 24,
    "start_time": "2024-06-02T11:01:20.607Z"
   },
   {
    "duration": 6099,
    "start_time": "2024-06-02T11:01:30.192Z"
   },
   {
    "duration": 1824,
    "start_time": "2024-06-02T11:01:36.294Z"
   },
   {
    "duration": 1225,
    "start_time": "2024-06-02T11:01:38.120Z"
   },
   {
    "duration": 76,
    "start_time": "2024-06-02T11:01:39.347Z"
   },
   {
    "duration": 138,
    "start_time": "2024-06-02T11:01:39.424Z"
   },
   {
    "duration": 1845,
    "start_time": "2024-06-02T11:01:39.564Z"
   },
   {
    "duration": 1980,
    "start_time": "2024-06-02T11:01:41.411Z"
   },
   {
    "duration": 2179,
    "start_time": "2024-06-02T11:01:43.393Z"
   },
   {
    "duration": 1629,
    "start_time": "2024-06-02T11:01:45.573Z"
   },
   {
    "duration": 2191,
    "start_time": "2024-06-02T11:01:47.206Z"
   },
   {
    "duration": 12,
    "start_time": "2024-06-02T11:01:49.399Z"
   },
   {
    "duration": 2375,
    "start_time": "2024-06-02T11:01:49.413Z"
   },
   {
    "duration": 94,
    "start_time": "2024-06-02T11:01:51.790Z"
   },
   {
    "duration": 6310,
    "start_time": "2024-06-02T11:01:51.886Z"
   },
   {
    "duration": 84,
    "start_time": "2024-06-02T11:01:58.198Z"
   },
   {
    "duration": 2409,
    "start_time": "2024-06-02T11:01:58.284Z"
   },
   {
    "duration": 87,
    "start_time": "2024-06-02T11:02:00.695Z"
   },
   {
    "duration": 98,
    "start_time": "2024-06-02T11:02:00.785Z"
   },
   {
    "duration": 58,
    "start_time": "2024-06-02T11:02:00.885Z"
   },
   {
    "duration": 101,
    "start_time": "2024-06-02T11:02:00.945Z"
   },
   {
    "duration": 130,
    "start_time": "2024-06-02T11:02:01.048Z"
   },
   {
    "duration": 66,
    "start_time": "2024-06-02T11:02:01.180Z"
   },
   {
    "duration": 47,
    "start_time": "2024-06-02T11:02:01.248Z"
   },
   {
    "duration": 82,
    "start_time": "2024-06-02T11:02:01.297Z"
   },
   {
    "duration": 184,
    "start_time": "2024-06-02T11:02:01.381Z"
   },
   {
    "duration": 76,
    "start_time": "2024-06-02T11:02:01.567Z"
   },
   {
    "duration": 71,
    "start_time": "2024-06-02T11:02:01.645Z"
   },
   {
    "duration": 53,
    "start_time": "2024-06-02T11:02:01.720Z"
   },
   {
    "duration": 781,
    "start_time": "2024-06-02T11:02:01.775Z"
   },
   {
    "duration": 23,
    "start_time": "2024-06-02T11:02:02.559Z"
   },
   {
    "duration": 627,
    "start_time": "2024-06-02T11:02:02.585Z"
   },
   {
    "duration": 621,
    "start_time": "2024-06-02T11:02:03.214Z"
   },
   {
    "duration": 593,
    "start_time": "2024-06-02T11:02:03.837Z"
   },
   {
    "duration": 9,
    "start_time": "2024-06-02T11:02:18.519Z"
   },
   {
    "duration": 129,
    "start_time": "2024-06-02T11:03:57.217Z"
   },
   {
    "duration": 24,
    "start_time": "2024-06-02T11:04:15.103Z"
   },
   {
    "duration": 6,
    "start_time": "2024-06-02T11:04:42.960Z"
   },
   {
    "duration": 6,
    "start_time": "2024-06-02T11:04:49.071Z"
   },
   {
    "duration": 6,
    "start_time": "2024-06-02T11:05:09.772Z"
   },
   {
    "duration": 24,
    "start_time": "2024-06-02T11:05:36.514Z"
   },
   {
    "duration": 12,
    "start_time": "2024-06-02T11:06:09.675Z"
   },
   {
    "duration": 10,
    "start_time": "2024-06-02T11:06:25.244Z"
   },
   {
    "duration": 13,
    "start_time": "2024-06-02T11:06:58.973Z"
   },
   {
    "duration": 15,
    "start_time": "2024-06-02T11:07:13.870Z"
   },
   {
    "duration": 10,
    "start_time": "2024-06-02T11:08:15.440Z"
   },
   {
    "duration": 15,
    "start_time": "2024-06-02T11:08:39.548Z"
   },
   {
    "duration": 6811,
    "start_time": "2024-06-02T11:09:19.644Z"
   },
   {
    "duration": 1701,
    "start_time": "2024-06-02T11:09:26.457Z"
   },
   {
    "duration": 1684,
    "start_time": "2024-06-02T11:09:28.160Z"
   },
   {
    "duration": 77,
    "start_time": "2024-06-02T11:09:29.847Z"
   },
   {
    "duration": 138,
    "start_time": "2024-06-02T11:09:29.925Z"
   },
   {
    "duration": 1992,
    "start_time": "2024-06-02T11:09:30.064Z"
   },
   {
    "duration": 2026,
    "start_time": "2024-06-02T11:09:32.058Z"
   },
   {
    "duration": 2180,
    "start_time": "2024-06-02T11:09:34.086Z"
   },
   {
    "duration": 1570,
    "start_time": "2024-06-02T11:09:36.268Z"
   },
   {
    "duration": 3948,
    "start_time": "2024-06-02T11:09:37.841Z"
   },
   {
    "duration": 19,
    "start_time": "2024-06-02T11:09:41.792Z"
   },
   {
    "duration": 2966,
    "start_time": "2024-06-02T11:09:41.813Z"
   },
   {
    "duration": 98,
    "start_time": "2024-06-02T11:09:44.783Z"
   },
   {
    "duration": 7103,
    "start_time": "2024-06-02T11:09:44.883Z"
   },
   {
    "duration": 103,
    "start_time": "2024-06-02T11:09:51.989Z"
   },
   {
    "duration": 2486,
    "start_time": "2024-06-02T11:09:52.095Z"
   },
   {
    "duration": 13,
    "start_time": "2024-06-02T11:09:54.583Z"
   },
   {
    "duration": 5,
    "start_time": "2024-06-02T11:09:54.681Z"
   },
   {
    "duration": 20,
    "start_time": "2024-06-02T11:09:54.688Z"
   },
   {
    "duration": 12,
    "start_time": "2024-06-02T11:09:54.710Z"
   },
   {
    "duration": 6,
    "start_time": "2024-06-02T11:09:54.724Z"
   },
   {
    "duration": 6,
    "start_time": "2024-06-02T11:09:54.732Z"
   },
   {
    "duration": 41,
    "start_time": "2024-06-02T11:09:54.740Z"
   },
   {
    "duration": 15,
    "start_time": "2024-06-02T11:09:54.783Z"
   },
   {
    "duration": 11,
    "start_time": "2024-06-02T11:09:54.800Z"
   },
   {
    "duration": 24,
    "start_time": "2024-06-02T11:09:54.813Z"
   },
   {
    "duration": 7,
    "start_time": "2024-06-02T11:09:54.840Z"
   },
   {
    "duration": 542,
    "start_time": "2024-06-02T11:09:54.850Z"
   },
   {
    "duration": 15,
    "start_time": "2024-06-02T11:09:55.394Z"
   },
   {
    "duration": 507,
    "start_time": "2024-06-02T11:09:55.410Z"
   },
   {
    "duration": 607,
    "start_time": "2024-06-02T11:09:55.919Z"
   },
   {
    "duration": 615,
    "start_time": "2024-06-02T11:09:56.528Z"
   },
   {
    "duration": 11,
    "start_time": "2024-06-02T11:10:13.878Z"
   },
   {
    "duration": 5774,
    "start_time": "2024-06-02T11:10:29.439Z"
   },
   {
    "duration": 1417,
    "start_time": "2024-06-02T11:10:35.216Z"
   },
   {
    "duration": 1156,
    "start_time": "2024-06-02T11:10:36.635Z"
   },
   {
    "duration": 90,
    "start_time": "2024-06-02T11:10:37.793Z"
   },
   {
    "duration": 142,
    "start_time": "2024-06-02T11:10:37.886Z"
   },
   {
    "duration": 2158,
    "start_time": "2024-06-02T11:10:38.030Z"
   },
   {
    "duration": 1822,
    "start_time": "2024-06-02T11:10:40.190Z"
   },
   {
    "duration": 2159,
    "start_time": "2024-06-02T11:10:42.014Z"
   },
   {
    "duration": 1590,
    "start_time": "2024-06-02T11:10:44.175Z"
   },
   {
    "duration": 2217,
    "start_time": "2024-06-02T11:10:45.767Z"
   },
   {
    "duration": 14,
    "start_time": "2024-06-02T11:10:47.986Z"
   },
   {
    "duration": 2608,
    "start_time": "2024-06-02T11:10:48.003Z"
   },
   {
    "duration": 10,
    "start_time": "2024-06-02T11:10:50.681Z"
   },
   {
    "duration": 5899,
    "start_time": "2024-06-02T11:10:50.695Z"
   },
   {
    "duration": 5,
    "start_time": "2024-06-02T11:10:56.596Z"
   },
   {
    "duration": 2302,
    "start_time": "2024-06-02T11:10:56.681Z"
   },
   {
    "duration": 5,
    "start_time": "2024-06-02T11:10:58.986Z"
   },
   {
    "duration": 89,
    "start_time": "2024-06-02T11:10:58.995Z"
   },
   {
    "duration": 6,
    "start_time": "2024-06-02T11:10:59.085Z"
   },
   {
    "duration": 17,
    "start_time": "2024-06-02T11:10:59.093Z"
   },
   {
    "duration": 20,
    "start_time": "2024-06-02T11:10:59.112Z"
   },
   {
    "duration": 12,
    "start_time": "2024-06-02T11:10:59.134Z"
   },
   {
    "duration": 16,
    "start_time": "2024-06-02T11:10:59.147Z"
   },
   {
    "duration": 37,
    "start_time": "2024-06-02T11:10:59.164Z"
   },
   {
    "duration": 5,
    "start_time": "2024-06-02T11:10:59.203Z"
   },
   {
    "duration": 18,
    "start_time": "2024-06-02T11:10:59.210Z"
   },
   {
    "duration": 5,
    "start_time": "2024-06-02T11:10:59.230Z"
   },
   {
    "duration": 510,
    "start_time": "2024-06-02T11:10:59.237Z"
   },
   {
    "duration": 16,
    "start_time": "2024-06-02T11:10:59.749Z"
   },
   {
    "duration": 487,
    "start_time": "2024-06-02T11:10:59.780Z"
   },
   {
    "duration": 668,
    "start_time": "2024-06-02T11:11:00.269Z"
   },
   {
    "duration": 623,
    "start_time": "2024-06-02T11:11:00.939Z"
   },
   {
    "duration": 14,
    "start_time": "2024-06-02T11:12:11.575Z"
   },
   {
    "duration": 12,
    "start_time": "2024-06-02T11:12:37.453Z"
   },
   {
    "duration": 5907,
    "start_time": "2024-06-02T11:14:46.960Z"
   },
   {
    "duration": 1492,
    "start_time": "2024-06-02T11:14:52.870Z"
   },
   {
    "duration": 1103,
    "start_time": "2024-06-02T11:14:54.365Z"
   },
   {
    "duration": 117,
    "start_time": "2024-06-02T11:14:55.471Z"
   },
   {
    "duration": 148,
    "start_time": "2024-06-02T11:14:55.590Z"
   },
   {
    "duration": 2040,
    "start_time": "2024-06-02T11:14:55.740Z"
   },
   {
    "duration": 1986,
    "start_time": "2024-06-02T11:14:57.782Z"
   },
   {
    "duration": 2196,
    "start_time": "2024-06-02T11:14:59.770Z"
   },
   {
    "duration": 1598,
    "start_time": "2024-06-02T11:15:01.968Z"
   },
   {
    "duration": 2187,
    "start_time": "2024-06-02T11:15:03.568Z"
   },
   {
    "duration": 25,
    "start_time": "2024-06-02T11:15:05.757Z"
   },
   {
    "duration": 2105,
    "start_time": "2024-06-02T11:15:05.784Z"
   },
   {
    "duration": 5,
    "start_time": "2024-06-02T11:15:07.981Z"
   },
   {
    "duration": 7101,
    "start_time": "2024-06-02T11:15:07.990Z"
   },
   {
    "duration": 89,
    "start_time": "2024-06-02T11:15:15.093Z"
   },
   {
    "duration": 2402,
    "start_time": "2024-06-02T11:15:15.184Z"
   },
   {
    "duration": 6,
    "start_time": "2024-06-02T11:15:17.588Z"
   },
   {
    "duration": 8,
    "start_time": "2024-06-02T11:15:17.682Z"
   },
   {
    "duration": 92,
    "start_time": "2024-06-02T11:15:17.692Z"
   },
   {
    "duration": 15,
    "start_time": "2024-06-02T11:15:17.786Z"
   },
   {
    "duration": 12,
    "start_time": "2024-06-02T11:15:17.803Z"
   },
   {
    "duration": 6,
    "start_time": "2024-06-02T11:15:17.817Z"
   },
   {
    "duration": 7,
    "start_time": "2024-06-02T11:15:17.825Z"
   },
   {
    "duration": 16,
    "start_time": "2024-06-02T11:15:17.834Z"
   },
   {
    "duration": 3,
    "start_time": "2024-06-02T11:15:17.852Z"
   },
   {
    "duration": 32,
    "start_time": "2024-06-02T11:15:17.857Z"
   },
   {
    "duration": 4,
    "start_time": "2024-06-02T11:15:17.891Z"
   },
   {
    "duration": 632,
    "start_time": "2024-06-02T11:15:17.898Z"
   },
   {
    "duration": 23,
    "start_time": "2024-06-02T11:15:18.533Z"
   },
   {
    "duration": 638,
    "start_time": "2024-06-02T11:15:18.559Z"
   },
   {
    "duration": 571,
    "start_time": "2024-06-02T11:15:19.198Z"
   },
   {
    "duration": 597,
    "start_time": "2024-06-02T11:15:19.771Z"
   },
   {
    "duration": 16,
    "start_time": "2024-06-02T11:17:46.192Z"
   },
   {
    "duration": 17,
    "start_time": "2024-06-02T11:19:26.857Z"
   },
   {
    "duration": 47,
    "start_time": "2024-06-02T11:21:10.357Z"
   },
   {
    "duration": 4,
    "start_time": "2024-06-02T11:21:19.335Z"
   },
   {
    "duration": 123,
    "start_time": "2024-06-02T11:25:16.955Z"
   },
   {
    "duration": 22,
    "start_time": "2024-06-02T11:25:33.259Z"
   },
   {
    "duration": 13,
    "start_time": "2024-06-02T11:28:15.408Z"
   },
   {
    "duration": 56,
    "start_time": "2024-06-02T11:28:17.089Z"
   },
   {
    "duration": 52,
    "start_time": "2024-06-02T11:28:45.518Z"
   },
   {
    "duration": 65,
    "start_time": "2024-06-02T11:28:55.146Z"
   },
   {
    "duration": 3,
    "start_time": "2024-06-02T11:29:03.687Z"
   },
   {
    "duration": 5,
    "start_time": "2024-06-02T11:29:20.848Z"
   },
   {
    "duration": 4,
    "start_time": "2024-06-02T11:29:30.783Z"
   },
   {
    "duration": 4,
    "start_time": "2024-06-02T11:29:38.254Z"
   },
   {
    "duration": 20,
    "start_time": "2024-06-02T11:34:27.484Z"
   },
   {
    "duration": 19,
    "start_time": "2024-06-02T11:34:34.756Z"
   },
   {
    "duration": 26,
    "start_time": "2024-06-02T11:35:39.111Z"
   },
   {
    "duration": 4,
    "start_time": "2024-06-02T11:36:39.764Z"
   },
   {
    "duration": 20,
    "start_time": "2024-06-02T11:36:41.216Z"
   },
   {
    "duration": 20,
    "start_time": "2024-06-02T11:37:06.475Z"
   },
   {
    "duration": 29,
    "start_time": "2024-06-02T11:37:11.557Z"
   },
   {
    "duration": 6,
    "start_time": "2024-06-02T11:48:06.272Z"
   },
   {
    "duration": 12,
    "start_time": "2024-06-02T11:50:51.088Z"
   },
   {
    "duration": 11,
    "start_time": "2024-06-02T11:54:39.121Z"
   },
   {
    "duration": 10,
    "start_time": "2024-06-02T11:54:42.471Z"
   },
   {
    "duration": 12,
    "start_time": "2024-06-02T11:55:25.469Z"
   },
   {
    "duration": 10,
    "start_time": "2024-06-02T11:56:09.292Z"
   },
   {
    "duration": 7,
    "start_time": "2024-06-02T11:56:12.861Z"
   },
   {
    "duration": 7,
    "start_time": "2024-06-02T11:56:44.131Z"
   },
   {
    "duration": 4,
    "start_time": "2024-06-02T11:58:15.350Z"
   },
   {
    "duration": 18,
    "start_time": "2024-06-02T11:58:16.159Z"
   },
   {
    "duration": 6,
    "start_time": "2024-06-02T11:58:17.194Z"
   },
   {
    "duration": 13,
    "start_time": "2024-06-02T11:58:34.235Z"
   },
   {
    "duration": 18,
    "start_time": "2024-06-02T11:58:49.356Z"
   },
   {
    "duration": 28,
    "start_time": "2024-06-02T12:01:29.175Z"
   },
   {
    "duration": 13,
    "start_time": "2024-06-02T12:02:22.400Z"
   },
   {
    "duration": 19,
    "start_time": "2024-06-02T12:02:26.100Z"
   },
   {
    "duration": 4,
    "start_time": "2024-06-02T12:02:29.653Z"
   },
   {
    "duration": 674,
    "start_time": "2024-06-02T12:02:49.756Z"
   },
   {
    "duration": 25,
    "start_time": "2024-06-02T12:03:02.184Z"
   },
   {
    "duration": 4,
    "start_time": "2024-06-02T12:03:02.912Z"
   },
   {
    "duration": 6,
    "start_time": "2024-06-02T12:03:03.991Z"
   },
   {
    "duration": 7,
    "start_time": "2024-06-02T12:04:13.580Z"
   },
   {
    "duration": 13,
    "start_time": "2024-06-02T12:04:25.144Z"
   },
   {
    "duration": 13,
    "start_time": "2024-06-02T12:06:06.602Z"
   },
   {
    "duration": 5,
    "start_time": "2024-06-02T12:06:11.083Z"
   },
   {
    "duration": 518,
    "start_time": "2024-06-02T12:06:11.644Z"
   },
   {
    "duration": 7,
    "start_time": "2024-06-02T12:12:48.876Z"
   },
   {
    "duration": 6,
    "start_time": "2024-06-02T12:13:04.673Z"
   },
   {
    "duration": 16,
    "start_time": "2024-06-02T12:13:05.203Z"
   },
   {
    "duration": 6,
    "start_time": "2024-06-02T12:13:11.711Z"
   },
   {
    "duration": 475,
    "start_time": "2024-06-02T12:13:12.348Z"
   },
   {
    "duration": 487,
    "start_time": "2024-06-02T12:13:28.795Z"
   },
   {
    "duration": 7,
    "start_time": "2024-06-02T12:13:37.228Z"
   },
   {
    "duration": 477,
    "start_time": "2024-06-02T12:13:37.767Z"
   },
   {
    "duration": 484,
    "start_time": "2024-06-02T12:13:48.862Z"
   },
   {
    "duration": 515,
    "start_time": "2024-06-02T12:14:00.216Z"
   },
   {
    "duration": 586,
    "start_time": "2024-06-02T12:14:07.077Z"
   },
   {
    "duration": 7,
    "start_time": "2024-06-02T12:54:24.454Z"
   },
   {
    "duration": 6,
    "start_time": "2024-06-02T12:54:30.434Z"
   },
   {
    "duration": 13,
    "start_time": "2024-06-02T12:54:33.846Z"
   },
   {
    "duration": 20,
    "start_time": "2024-06-02T12:54:55.840Z"
   },
   {
    "duration": 14,
    "start_time": "2024-06-02T12:55:41.602Z"
   },
   {
    "duration": 12,
    "start_time": "2024-06-02T12:56:09.401Z"
   },
   {
    "duration": 14,
    "start_time": "2024-06-02T12:56:21.988Z"
   },
   {
    "duration": 21,
    "start_time": "2024-06-02T12:56:29.532Z"
   },
   {
    "duration": 6,
    "start_time": "2024-06-02T12:57:43.954Z"
   },
   {
    "duration": 6,
    "start_time": "2024-06-02T12:58:39.876Z"
   },
   {
    "duration": 13,
    "start_time": "2024-06-02T12:59:35.971Z"
   },
   {
    "duration": 4,
    "start_time": "2024-06-02T13:00:57.222Z"
   },
   {
    "duration": 17,
    "start_time": "2024-06-02T13:01:10.322Z"
   },
   {
    "duration": 11,
    "start_time": "2024-06-02T13:01:21.619Z"
   },
   {
    "duration": 6,
    "start_time": "2024-06-02T13:01:38.160Z"
   },
   {
    "duration": 8,
    "start_time": "2024-06-02T13:01:41.387Z"
   },
   {
    "duration": 5,
    "start_time": "2024-06-02T13:01:44.441Z"
   },
   {
    "duration": 9,
    "start_time": "2024-06-02T13:01:53.842Z"
   },
   {
    "duration": 4,
    "start_time": "2024-06-02T13:02:04.767Z"
   },
   {
    "duration": 8,
    "start_time": "2024-06-02T13:02:05.338Z"
   },
   {
    "duration": 8,
    "start_time": "2024-06-02T13:02:11.299Z"
   },
   {
    "duration": 8,
    "start_time": "2024-06-02T13:02:15.333Z"
   },
   {
    "duration": 14,
    "start_time": "2024-06-02T13:03:45.593Z"
   },
   {
    "duration": 5912,
    "start_time": "2024-06-02T13:05:17.415Z"
   },
   {
    "duration": 1437,
    "start_time": "2024-06-02T13:05:23.330Z"
   },
   {
    "duration": 1122,
    "start_time": "2024-06-02T13:05:24.769Z"
   },
   {
    "duration": 100,
    "start_time": "2024-06-02T13:05:25.893Z"
   },
   {
    "duration": 146,
    "start_time": "2024-06-02T13:05:25.995Z"
   },
   {
    "duration": 1951,
    "start_time": "2024-06-02T13:05:26.144Z"
   },
   {
    "duration": 1920,
    "start_time": "2024-06-02T13:05:28.097Z"
   },
   {
    "duration": 2171,
    "start_time": "2024-06-02T13:05:30.019Z"
   },
   {
    "duration": 1557,
    "start_time": "2024-06-02T13:05:32.192Z"
   },
   {
    "duration": 2095,
    "start_time": "2024-06-02T13:05:33.752Z"
   },
   {
    "duration": 12,
    "start_time": "2024-06-02T13:05:35.849Z"
   },
   {
    "duration": 2618,
    "start_time": "2024-06-02T13:05:35.863Z"
   },
   {
    "duration": 99,
    "start_time": "2024-06-02T13:05:38.483Z"
   },
   {
    "duration": 6306,
    "start_time": "2024-06-02T13:05:38.584Z"
   },
   {
    "duration": 89,
    "start_time": "2024-06-02T13:05:44.893Z"
   },
   {
    "duration": 2408,
    "start_time": "2024-06-02T13:05:44.984Z"
   },
   {
    "duration": 90,
    "start_time": "2024-06-02T13:05:47.394Z"
   },
   {
    "duration": 95,
    "start_time": "2024-06-02T13:05:47.486Z"
   },
   {
    "duration": 9,
    "start_time": "2024-06-02T13:05:47.583Z"
   },
   {
    "duration": 42,
    "start_time": "2024-06-02T13:05:47.594Z"
   },
   {
    "duration": 7,
    "start_time": "2024-06-02T13:05:47.638Z"
   },
   {
    "duration": 21,
    "start_time": "2024-06-02T13:05:47.647Z"
   },
   {
    "duration": 5,
    "start_time": "2024-06-02T13:05:47.670Z"
   },
   {
    "duration": 16,
    "start_time": "2024-06-02T13:05:47.677Z"
   },
   {
    "duration": 3,
    "start_time": "2024-06-02T13:05:47.695Z"
   },
   {
    "duration": 27,
    "start_time": "2024-06-02T13:05:47.701Z"
   },
   {
    "duration": 6,
    "start_time": "2024-06-02T13:05:47.730Z"
   },
   {
    "duration": 498,
    "start_time": "2024-06-02T13:05:47.740Z"
   },
   {
    "duration": 6,
    "start_time": "2024-06-02T13:05:48.239Z"
   },
   {
    "duration": 600,
    "start_time": "2024-06-02T13:05:48.247Z"
   },
   {
    "duration": 16,
    "start_time": "2024-06-02T13:05:48.848Z"
   },
   {
    "duration": 568,
    "start_time": "2024-06-02T13:05:48.866Z"
   },
   {
    "duration": 599,
    "start_time": "2024-06-02T13:05:49.436Z"
   },
   {
    "duration": 549,
    "start_time": "2024-06-02T13:05:50.037Z"
   },
   {
    "duration": 7,
    "start_time": "2024-06-02T13:06:57.909Z"
   },
   {
    "duration": 452,
    "start_time": "2024-06-02T13:07:07.982Z"
   },
   {
    "duration": 450,
    "start_time": "2024-06-02T13:07:22.240Z"
   },
   {
    "duration": 464,
    "start_time": "2024-06-02T13:07:30.871Z"
   },
   {
    "duration": 5,
    "start_time": "2024-06-02T13:10:48.413Z"
   },
   {
    "duration": 129,
    "start_time": "2024-06-02T13:10:49.048Z"
   },
   {
    "duration": 4,
    "start_time": "2024-06-02T13:10:54.685Z"
   },
   {
    "duration": 467,
    "start_time": "2024-06-02T13:10:55.522Z"
   },
   {
    "duration": 14,
    "start_time": "2024-06-02T13:12:34.899Z"
   },
   {
    "duration": 623,
    "start_time": "2024-06-02T13:12:38.306Z"
   },
   {
    "duration": 14,
    "start_time": "2024-06-02T13:12:38.931Z"
   },
   {
    "duration": 13,
    "start_time": "2024-06-02T13:13:55.650Z"
   },
   {
    "duration": 15,
    "start_time": "2024-06-02T13:13:57.832Z"
   },
   {
    "duration": 13,
    "start_time": "2024-06-02T13:13:59.029Z"
   },
   {
    "duration": 5680,
    "start_time": "2024-06-02T13:14:48.238Z"
   },
   {
    "duration": 1353,
    "start_time": "2024-06-02T13:14:53.921Z"
   },
   {
    "duration": 1065,
    "start_time": "2024-06-02T13:14:55.276Z"
   },
   {
    "duration": 95,
    "start_time": "2024-06-02T13:14:56.343Z"
   },
   {
    "duration": 162,
    "start_time": "2024-06-02T13:14:56.440Z"
   },
   {
    "duration": 1836,
    "start_time": "2024-06-02T13:14:56.604Z"
   },
   {
    "duration": 1862,
    "start_time": "2024-06-02T13:14:58.442Z"
   },
   {
    "duration": 2205,
    "start_time": "2024-06-02T13:15:00.306Z"
   },
   {
    "duration": 1749,
    "start_time": "2024-06-02T13:15:02.513Z"
   },
   {
    "duration": 2099,
    "start_time": "2024-06-02T13:15:04.266Z"
   },
   {
    "duration": 19,
    "start_time": "2024-06-02T13:15:06.367Z"
   },
   {
    "duration": 2194,
    "start_time": "2024-06-02T13:15:06.388Z"
   },
   {
    "duration": 95,
    "start_time": "2024-06-02T13:15:08.585Z"
   },
   {
    "duration": 6507,
    "start_time": "2024-06-02T13:15:08.682Z"
   },
   {
    "duration": 95,
    "start_time": "2024-06-02T13:15:15.193Z"
   },
   {
    "duration": 2197,
    "start_time": "2024-06-02T13:15:15.292Z"
   },
   {
    "duration": 90,
    "start_time": "2024-06-02T13:15:17.492Z"
   },
   {
    "duration": 6,
    "start_time": "2024-06-02T13:15:17.584Z"
   },
   {
    "duration": 5,
    "start_time": "2024-06-02T13:15:17.681Z"
   },
   {
    "duration": 19,
    "start_time": "2024-06-02T13:15:17.688Z"
   },
   {
    "duration": 19,
    "start_time": "2024-06-02T13:15:17.712Z"
   },
   {
    "duration": 20,
    "start_time": "2024-06-02T13:15:17.733Z"
   },
   {
    "duration": 25,
    "start_time": "2024-06-02T13:15:17.755Z"
   },
   {
    "duration": 14,
    "start_time": "2024-06-02T13:15:17.783Z"
   },
   {
    "duration": 3,
    "start_time": "2024-06-02T13:15:17.798Z"
   },
   {
    "duration": 11,
    "start_time": "2024-06-02T13:15:17.803Z"
   },
   {
    "duration": 5,
    "start_time": "2024-06-02T13:15:17.816Z"
   },
   {
    "duration": 509,
    "start_time": "2024-06-02T13:15:17.824Z"
   },
   {
    "duration": 454,
    "start_time": "2024-06-02T13:15:18.335Z"
   },
   {
    "duration": 443,
    "start_time": "2024-06-02T13:15:18.790Z"
   },
   {
    "duration": 6,
    "start_time": "2024-06-02T13:15:19.234Z"
   },
   {
    "duration": 559,
    "start_time": "2024-06-02T13:15:19.242Z"
   },
   {
    "duration": 14,
    "start_time": "2024-06-02T13:15:19.803Z"
   },
   {
    "duration": 135,
    "start_time": "2024-06-02T13:15:19.818Z"
   },
   {
    "duration": 0,
    "start_time": "2024-06-02T13:15:19.955Z"
   },
   {
    "duration": 0,
    "start_time": "2024-06-02T13:15:19.957Z"
   },
   {
    "duration": 480,
    "start_time": "2024-06-02T13:16:24.949Z"
   },
   {
    "duration": 454,
    "start_time": "2024-06-02T13:16:40.803Z"
   },
   {
    "duration": 450,
    "start_time": "2024-06-02T13:16:48.772Z"
   },
   {
    "duration": 15,
    "start_time": "2024-06-02T13:20:05.401Z"
   },
   {
    "duration": 482,
    "start_time": "2024-06-02T13:20:32.270Z"
   },
   {
    "duration": 3,
    "start_time": "2024-06-02T13:21:06.458Z"
   },
   {
    "duration": 12,
    "start_time": "2024-06-02T13:21:06.973Z"
   },
   {
    "duration": 5,
    "start_time": "2024-06-02T13:21:09.356Z"
   },
   {
    "duration": 432,
    "start_time": "2024-06-02T13:21:11.065Z"
   },
   {
    "duration": 10,
    "start_time": "2024-06-02T13:21:29.693Z"
   },
   {
    "duration": 4,
    "start_time": "2024-06-02T13:21:41.911Z"
   },
   {
    "duration": 14,
    "start_time": "2024-06-02T13:21:42.334Z"
   },
   {
    "duration": 5,
    "start_time": "2024-06-02T13:21:43.684Z"
   },
   {
    "duration": 445,
    "start_time": "2024-06-02T13:21:45.451Z"
   },
   {
    "duration": 484,
    "start_time": "2024-06-02T13:21:53.759Z"
   },
   {
    "duration": 11,
    "start_time": "2024-06-02T13:22:40.840Z"
   },
   {
    "duration": 523,
    "start_time": "2024-06-02T13:22:50.859Z"
   },
   {
    "duration": 518,
    "start_time": "2024-06-02T13:23:15.120Z"
   },
   {
    "duration": 6,
    "start_time": "2024-06-02T13:23:38.831Z"
   },
   {
    "duration": 7,
    "start_time": "2024-06-02T13:24:15.022Z"
   },
   {
    "duration": 48,
    "start_time": "2024-06-02T13:25:36.417Z"
   },
   {
    "duration": 13,
    "start_time": "2024-06-02T13:25:41.682Z"
   },
   {
    "duration": 15,
    "start_time": "2024-06-02T13:26:06.431Z"
   },
   {
    "duration": 9,
    "start_time": "2024-06-02T13:28:41.653Z"
   },
   {
    "duration": 6,
    "start_time": "2024-06-02T13:30:32.922Z"
   },
   {
    "duration": 926,
    "start_time": "2024-06-02T13:30:44.262Z"
   },
   {
    "duration": 766,
    "start_time": "2024-06-02T13:30:54.938Z"
   },
   {
    "duration": 791,
    "start_time": "2024-06-02T13:31:03.777Z"
   },
   {
    "duration": 4,
    "start_time": "2024-06-02T13:31:20.289Z"
   },
   {
    "duration": 13,
    "start_time": "2024-06-02T13:31:20.806Z"
   },
   {
    "duration": 6,
    "start_time": "2024-06-02T13:31:23.146Z"
   },
   {
    "duration": 696,
    "start_time": "2024-06-02T13:31:23.733Z"
   },
   {
    "duration": 666,
    "start_time": "2024-06-02T13:31:25.141Z"
   },
   {
    "duration": 733,
    "start_time": "2024-06-02T13:31:27.815Z"
   },
   {
    "duration": 740,
    "start_time": "2024-06-02T13:31:51.640Z"
   },
   {
    "duration": 729,
    "start_time": "2024-06-02T13:32:05.286Z"
   },
   {
    "duration": 729,
    "start_time": "2024-06-02T13:32:12.637Z"
   },
   {
    "duration": 5,
    "start_time": "2024-06-02T13:32:54.308Z"
   },
   {
    "duration": 711,
    "start_time": "2024-06-02T13:32:55.069Z"
   },
   {
    "duration": 6,
    "start_time": "2024-06-02T13:33:10.653Z"
   },
   {
    "duration": 730,
    "start_time": "2024-06-02T13:33:11.373Z"
   },
   {
    "duration": 723,
    "start_time": "2024-06-02T13:33:13.065Z"
   },
   {
    "duration": 5,
    "start_time": "2024-06-02T13:33:34.860Z"
   },
   {
    "duration": 716,
    "start_time": "2024-06-02T13:33:35.445Z"
   },
   {
    "duration": 678,
    "start_time": "2024-06-02T13:33:36.911Z"
   },
   {
    "duration": 677,
    "start_time": "2024-06-02T13:33:40.552Z"
   },
   {
    "duration": 669,
    "start_time": "2024-06-02T13:33:43.789Z"
   },
   {
    "duration": 666,
    "start_time": "2024-06-02T13:33:45.224Z"
   },
   {
    "duration": 864,
    "start_time": "2024-06-02T13:33:46.586Z"
   },
   {
    "duration": 6,
    "start_time": "2024-06-02T13:35:22.549Z"
   },
   {
    "duration": 726,
    "start_time": "2024-06-02T13:35:23.096Z"
   },
   {
    "duration": 703,
    "start_time": "2024-06-02T13:35:24.651Z"
   },
   {
    "duration": 712,
    "start_time": "2024-06-02T13:35:30.831Z"
   },
   {
    "duration": 686,
    "start_time": "2024-06-02T13:36:50.232Z"
   },
   {
    "duration": 6,
    "start_time": "2024-06-02T13:36:56.848Z"
   },
   {
    "duration": 742,
    "start_time": "2024-06-02T13:36:57.531Z"
   },
   {
    "duration": 7,
    "start_time": "2024-06-02T13:37:45.441Z"
   },
   {
    "duration": 863,
    "start_time": "2024-06-02T13:37:46.139Z"
   },
   {
    "duration": 5,
    "start_time": "2024-06-02T13:37:56.453Z"
   },
   {
    "duration": 679,
    "start_time": "2024-06-02T13:39:10.454Z"
   },
   {
    "duration": 701,
    "start_time": "2024-06-02T13:39:11.135Z"
   },
   {
    "duration": 775,
    "start_time": "2024-06-02T13:39:11.838Z"
   },
   {
    "duration": 714,
    "start_time": "2024-06-02T13:39:37.937Z"
   },
   {
    "duration": 751,
    "start_time": "2024-06-02T13:39:38.653Z"
   },
   {
    "duration": 716,
    "start_time": "2024-06-02T13:39:39.406Z"
   },
   {
    "duration": 7,
    "start_time": "2024-06-02T13:40:16.651Z"
   },
   {
    "duration": 685,
    "start_time": "2024-06-02T13:40:17.822Z"
   },
   {
    "duration": 727,
    "start_time": "2024-06-02T13:40:18.972Z"
   },
   {
    "duration": 725,
    "start_time": "2024-06-02T13:40:20.117Z"
   },
   {
    "duration": 733,
    "start_time": "2024-06-02T13:40:22.744Z"
   },
   {
    "duration": 723,
    "start_time": "2024-06-02T13:40:24.012Z"
   },
   {
    "duration": 694,
    "start_time": "2024-06-02T13:40:25.709Z"
   },
   {
    "duration": 5767,
    "start_time": "2024-06-02T14:11:20.851Z"
   },
   {
    "duration": 1441,
    "start_time": "2024-06-02T14:11:26.621Z"
   },
   {
    "duration": 1943,
    "start_time": "2024-06-02T14:11:28.064Z"
   },
   {
    "duration": 92,
    "start_time": "2024-06-02T14:11:30.009Z"
   },
   {
    "duration": 148,
    "start_time": "2024-06-02T14:11:30.103Z"
   },
   {
    "duration": 2058,
    "start_time": "2024-06-02T14:11:30.253Z"
   },
   {
    "duration": 1963,
    "start_time": "2024-06-02T14:11:32.313Z"
   },
   {
    "duration": 2079,
    "start_time": "2024-06-02T14:11:34.278Z"
   },
   {
    "duration": 1599,
    "start_time": "2024-06-02T14:11:36.359Z"
   },
   {
    "duration": 2089,
    "start_time": "2024-06-02T14:11:37.961Z"
   },
   {
    "duration": 13,
    "start_time": "2024-06-02T14:11:40.051Z"
   },
   {
    "duration": 2208,
    "start_time": "2024-06-02T14:11:40.081Z"
   },
   {
    "duration": 96,
    "start_time": "2024-06-02T14:11:42.291Z"
   },
   {
    "duration": 6199,
    "start_time": "2024-06-02T14:11:42.389Z"
   },
   {
    "duration": 90,
    "start_time": "2024-06-02T14:11:48.590Z"
   },
   {
    "duration": 2199,
    "start_time": "2024-06-02T14:11:48.682Z"
   },
   {
    "duration": 9,
    "start_time": "2024-06-02T14:11:50.883Z"
   },
   {
    "duration": 108,
    "start_time": "2024-06-02T14:11:50.894Z"
   },
   {
    "duration": 11,
    "start_time": "2024-06-02T14:11:51.004Z"
   },
   {
    "duration": 7,
    "start_time": "2024-06-02T14:11:51.017Z"
   },
   {
    "duration": 7,
    "start_time": "2024-06-02T14:11:51.026Z"
   },
   {
    "duration": 22,
    "start_time": "2024-06-02T14:11:51.035Z"
   },
   {
    "duration": 22,
    "start_time": "2024-06-02T14:11:51.059Z"
   },
   {
    "duration": 20,
    "start_time": "2024-06-02T14:11:51.083Z"
   },
   {
    "duration": 5,
    "start_time": "2024-06-02T14:11:51.105Z"
   },
   {
    "duration": 23,
    "start_time": "2024-06-02T14:11:51.112Z"
   },
   {
    "duration": 6,
    "start_time": "2024-06-02T14:11:51.137Z"
   },
   {
    "duration": 742,
    "start_time": "2024-06-02T14:11:51.147Z"
   },
   {
    "duration": 742,
    "start_time": "2024-06-02T14:11:51.891Z"
   },
   {
    "duration": 753,
    "start_time": "2024-06-02T14:11:52.635Z"
   },
   {
    "duration": 748,
    "start_time": "2024-06-02T14:11:53.390Z"
   },
   {
    "duration": 803,
    "start_time": "2024-06-02T14:11:54.141Z"
   },
   {
    "duration": 708,
    "start_time": "2024-06-02T14:11:54.945Z"
   },
   {
    "duration": 5120,
    "start_time": "2024-06-02T20:32:37.243Z"
   },
   {
    "duration": 1267,
    "start_time": "2024-06-02T20:32:42.365Z"
   },
   {
    "duration": 883,
    "start_time": "2024-06-02T20:32:43.634Z"
   },
   {
    "duration": 78,
    "start_time": "2024-06-02T20:32:44.519Z"
   },
   {
    "duration": 129,
    "start_time": "2024-06-02T20:32:44.599Z"
   },
   {
    "duration": 1638,
    "start_time": "2024-06-02T20:32:44.730Z"
   },
   {
    "duration": 2430,
    "start_time": "2024-06-02T20:32:46.369Z"
   },
   {
    "duration": 1917,
    "start_time": "2024-06-02T20:32:48.800Z"
   },
   {
    "duration": 1468,
    "start_time": "2024-06-02T20:32:50.719Z"
   },
   {
    "duration": 1814,
    "start_time": "2024-06-02T20:32:52.189Z"
   },
   {
    "duration": 10,
    "start_time": "2024-06-02T20:32:54.005Z"
   },
   {
    "duration": 2554,
    "start_time": "2024-06-02T20:32:54.017Z"
   },
   {
    "duration": 90,
    "start_time": "2024-06-02T20:32:56.574Z"
   },
   {
    "duration": 6600,
    "start_time": "2024-06-02T20:32:56.666Z"
   },
   {
    "duration": 5,
    "start_time": "2024-06-02T20:33:03.268Z"
   },
   {
    "duration": 2599,
    "start_time": "2024-06-02T20:33:03.275Z"
   },
   {
    "duration": 5,
    "start_time": "2024-06-02T20:33:05.876Z"
   },
   {
    "duration": 86,
    "start_time": "2024-06-02T20:33:05.883Z"
   },
   {
    "duration": 5,
    "start_time": "2024-06-02T20:33:05.972Z"
   },
   {
    "duration": 7,
    "start_time": "2024-06-02T20:33:06.064Z"
   },
   {
    "duration": 6,
    "start_time": "2024-06-02T20:33:06.073Z"
   },
   {
    "duration": 26,
    "start_time": "2024-06-02T20:33:06.081Z"
   },
   {
    "duration": 5,
    "start_time": "2024-06-02T20:33:06.109Z"
   },
   {
    "duration": 15,
    "start_time": "2024-06-02T20:33:06.116Z"
   },
   {
    "duration": 2,
    "start_time": "2024-06-02T20:33:06.133Z"
   },
   {
    "duration": 11,
    "start_time": "2024-06-02T20:33:06.165Z"
   },
   {
    "duration": 5,
    "start_time": "2024-06-02T20:33:06.177Z"
   },
   {
    "duration": 617,
    "start_time": "2024-06-02T20:33:06.185Z"
   },
   {
    "duration": 599,
    "start_time": "2024-06-02T20:33:06.804Z"
   },
   {
    "duration": 681,
    "start_time": "2024-06-02T20:33:07.405Z"
   },
   {
    "duration": 610,
    "start_time": "2024-06-02T20:33:08.088Z"
   },
   {
    "duration": 643,
    "start_time": "2024-06-02T20:33:08.700Z"
   },
   {
    "duration": 1043,
    "start_time": "2024-06-02T20:33:09.344Z"
   },
   {
    "duration": 11751,
    "start_time": "2024-06-03T15:15:50.648Z"
   },
   {
    "duration": 1632,
    "start_time": "2024-06-03T15:16:02.401Z"
   },
   {
    "duration": 1251,
    "start_time": "2024-06-03T15:16:04.035Z"
   },
   {
    "duration": 72,
    "start_time": "2024-06-03T15:16:05.288Z"
   },
   {
    "duration": 148,
    "start_time": "2024-06-03T15:16:05.362Z"
   },
   {
    "duration": 1948,
    "start_time": "2024-06-03T15:16:05.512Z"
   },
   {
    "duration": 1953,
    "start_time": "2024-06-03T15:16:07.461Z"
   },
   {
    "duration": 2078,
    "start_time": "2024-06-03T15:16:09.415Z"
   },
   {
    "duration": 1657,
    "start_time": "2024-06-03T15:16:11.495Z"
   },
   {
    "duration": 2073,
    "start_time": "2024-06-03T15:16:13.154Z"
   },
   {
    "duration": 13,
    "start_time": "2024-06-03T15:16:15.229Z"
   },
   {
    "duration": 2555,
    "start_time": "2024-06-03T15:16:15.243Z"
   },
   {
    "duration": 95,
    "start_time": "2024-06-03T15:16:17.800Z"
   },
   {
    "duration": 6907,
    "start_time": "2024-06-03T15:16:17.897Z"
   },
   {
    "duration": 87,
    "start_time": "2024-06-03T15:16:24.806Z"
   },
   {
    "duration": 2607,
    "start_time": "2024-06-03T15:16:24.896Z"
   },
   {
    "duration": 5,
    "start_time": "2024-06-03T15:16:27.593Z"
   },
   {
    "duration": 94,
    "start_time": "2024-06-03T15:16:27.600Z"
   },
   {
    "duration": 5,
    "start_time": "2024-06-03T15:16:27.695Z"
   },
   {
    "duration": 9,
    "start_time": "2024-06-03T15:16:27.702Z"
   },
   {
    "duration": 9,
    "start_time": "2024-06-03T15:16:27.713Z"
   },
   {
    "duration": 70,
    "start_time": "2024-06-03T15:16:27.724Z"
   },
   {
    "duration": 6,
    "start_time": "2024-06-03T15:16:27.795Z"
   },
   {
    "duration": 44,
    "start_time": "2024-06-03T15:16:27.802Z"
   },
   {
    "duration": 3,
    "start_time": "2024-06-03T15:16:27.848Z"
   },
   {
    "duration": 14,
    "start_time": "2024-06-03T15:16:27.891Z"
   },
   {
    "duration": 5,
    "start_time": "2024-06-03T15:16:27.907Z"
   },
   {
    "duration": 726,
    "start_time": "2024-06-03T15:16:27.916Z"
   },
   {
    "duration": 682,
    "start_time": "2024-06-03T15:16:28.643Z"
   },
   {
    "duration": 770,
    "start_time": "2024-06-03T15:16:29.327Z"
   },
   {
    "duration": 699,
    "start_time": "2024-06-03T15:16:30.098Z"
   },
   {
    "duration": 750,
    "start_time": "2024-06-03T15:16:30.799Z"
   },
   {
    "duration": 735,
    "start_time": "2024-06-03T15:16:31.551Z"
   },
   {
    "duration": 6,
    "start_time": "2024-06-03T16:44:38.471Z"
   },
   {
    "duration": 734,
    "start_time": "2024-06-03T16:44:40.008Z"
   },
   {
    "duration": 709,
    "start_time": "2024-06-03T16:44:41.383Z"
   },
   {
    "duration": 729,
    "start_time": "2024-06-03T16:44:42.807Z"
   },
   {
    "duration": 724,
    "start_time": "2024-06-03T16:44:44.869Z"
   },
   {
    "duration": 698,
    "start_time": "2024-06-03T16:44:46.091Z"
   },
   {
    "duration": 804,
    "start_time": "2024-06-03T16:44:47.468Z"
   },
   {
    "duration": 7,
    "start_time": "2024-06-03T16:51:17.711Z"
   },
   {
    "duration": 799,
    "start_time": "2024-06-03T16:51:20.799Z"
   },
   {
    "duration": 743,
    "start_time": "2024-06-03T16:51:28.769Z"
   },
   {
    "duration": 741,
    "start_time": "2024-06-03T16:51:33.059Z"
   },
   {
    "duration": 730,
    "start_time": "2024-06-03T16:51:36.080Z"
   },
   {
    "duration": 682,
    "start_time": "2024-06-03T16:51:38.059Z"
   },
   {
    "duration": 730,
    "start_time": "2024-06-03T16:51:40.564Z"
   },
   {
    "duration": 5,
    "start_time": "2024-06-03T16:55:25.423Z"
   },
   {
    "duration": 690,
    "start_time": "2024-06-03T16:55:26.916Z"
   },
   {
    "duration": 740,
    "start_time": "2024-06-03T16:55:27.608Z"
   },
   {
    "duration": 688,
    "start_time": "2024-06-03T16:55:28.350Z"
   },
   {
    "duration": 768,
    "start_time": "2024-06-03T16:55:29.785Z"
   },
   {
    "duration": 752,
    "start_time": "2024-06-03T16:55:31.090Z"
   },
   {
    "duration": 756,
    "start_time": "2024-06-03T16:55:32.241Z"
   },
   {
    "duration": 5973,
    "start_time": "2024-06-03T17:00:57.640Z"
   },
   {
    "duration": 1407,
    "start_time": "2024-06-03T17:01:03.615Z"
   },
   {
    "duration": 1096,
    "start_time": "2024-06-03T17:01:05.024Z"
   },
   {
    "duration": 88,
    "start_time": "2024-06-03T17:01:06.123Z"
   },
   {
    "duration": 146,
    "start_time": "2024-06-03T17:01:06.212Z"
   },
   {
    "duration": 1865,
    "start_time": "2024-06-03T17:01:06.360Z"
   },
   {
    "duration": 1874,
    "start_time": "2024-06-03T17:01:08.226Z"
   },
   {
    "duration": 1952,
    "start_time": "2024-06-03T17:01:10.101Z"
   },
   {
    "duration": 1617,
    "start_time": "2024-06-03T17:01:12.055Z"
   },
   {
    "duration": 2110,
    "start_time": "2024-06-03T17:01:13.676Z"
   },
   {
    "duration": 13,
    "start_time": "2024-06-03T17:01:15.788Z"
   },
   {
    "duration": 2400,
    "start_time": "2024-06-03T17:01:15.803Z"
   },
   {
    "duration": 87,
    "start_time": "2024-06-03T17:01:18.206Z"
   },
   {
    "duration": 6797,
    "start_time": "2024-06-03T17:01:18.296Z"
   },
   {
    "duration": 6,
    "start_time": "2024-06-03T17:01:25.095Z"
   },
   {
    "duration": 2406,
    "start_time": "2024-06-03T17:01:25.192Z"
   },
   {
    "duration": 93,
    "start_time": "2024-06-03T17:01:27.600Z"
   },
   {
    "duration": 6,
    "start_time": "2024-06-03T17:01:27.695Z"
   },
   {
    "duration": 4,
    "start_time": "2024-06-03T17:01:27.791Z"
   },
   {
    "duration": 14,
    "start_time": "2024-06-03T17:01:27.797Z"
   },
   {
    "duration": 6,
    "start_time": "2024-06-03T17:01:27.813Z"
   },
   {
    "duration": 15,
    "start_time": "2024-06-03T17:01:27.821Z"
   },
   {
    "duration": 5,
    "start_time": "2024-06-03T17:01:27.838Z"
   },
   {
    "duration": 47,
    "start_time": "2024-06-03T17:01:27.845Z"
   },
   {
    "duration": 3,
    "start_time": "2024-06-03T17:01:27.894Z"
   },
   {
    "duration": 29,
    "start_time": "2024-06-03T17:01:27.898Z"
   },
   {
    "duration": 5,
    "start_time": "2024-06-03T17:01:27.929Z"
   },
   {
    "duration": 730,
    "start_time": "2024-06-03T17:01:27.937Z"
   },
   {
    "duration": 653,
    "start_time": "2024-06-03T17:01:28.669Z"
   },
   {
    "duration": 712,
    "start_time": "2024-06-03T17:01:29.324Z"
   },
   {
    "duration": 719,
    "start_time": "2024-06-03T17:01:30.038Z"
   },
   {
    "duration": 780,
    "start_time": "2024-06-03T17:01:30.759Z"
   },
   {
    "duration": 725,
    "start_time": "2024-06-03T17:01:31.541Z"
   },
   {
    "duration": 43,
    "start_time": "2024-06-04T16:30:14.235Z"
   },
   {
    "duration": 9265,
    "start_time": "2024-06-04T16:30:19.853Z"
   },
   {
    "duration": 1446,
    "start_time": "2024-06-04T16:30:29.121Z"
   },
   {
    "duration": 1046,
    "start_time": "2024-06-04T16:30:30.569Z"
   },
   {
    "duration": 52,
    "start_time": "2024-06-04T16:30:31.616Z"
   },
   {
    "duration": 109,
    "start_time": "2024-06-04T16:30:31.669Z"
   },
   {
    "duration": 1798,
    "start_time": "2024-06-04T16:30:31.779Z"
   },
   {
    "duration": 1723,
    "start_time": "2024-06-04T16:30:33.578Z"
   },
   {
    "duration": 1795,
    "start_time": "2024-06-04T16:30:35.303Z"
   },
   {
    "duration": 1575,
    "start_time": "2024-06-04T16:30:37.099Z"
   },
   {
    "duration": 1655,
    "start_time": "2024-06-04T16:30:38.676Z"
   },
   {
    "duration": 11,
    "start_time": "2024-06-04T16:30:40.332Z"
   },
   {
    "duration": 1868,
    "start_time": "2024-06-04T16:30:40.344Z"
   },
   {
    "duration": 5,
    "start_time": "2024-06-04T16:30:42.292Z"
   },
   {
    "duration": 4594,
    "start_time": "2024-06-04T16:30:42.299Z"
   },
   {
    "duration": 4,
    "start_time": "2024-06-04T16:30:46.895Z"
   },
   {
    "duration": 1990,
    "start_time": "2024-06-04T16:30:46.900Z"
   },
   {
    "duration": 95,
    "start_time": "2024-06-04T16:30:48.895Z"
   },
   {
    "duration": 4,
    "start_time": "2024-06-04T16:30:48.991Z"
   },
   {
    "duration": 9,
    "start_time": "2024-06-04T16:30:48.996Z"
   },
   {
    "duration": 40,
    "start_time": "2024-06-04T16:30:49.006Z"
   },
   {
    "duration": 6,
    "start_time": "2024-06-04T16:30:49.047Z"
   },
   {
    "duration": 13,
    "start_time": "2024-06-04T16:30:49.054Z"
   },
   {
    "duration": 4,
    "start_time": "2024-06-04T16:30:49.068Z"
   },
   {
    "duration": 20,
    "start_time": "2024-06-04T16:30:49.074Z"
   },
   {
    "duration": 10,
    "start_time": "2024-06-04T16:30:49.096Z"
   },
   {
    "duration": 6,
    "start_time": "2024-06-04T16:30:49.108Z"
   },
   {
    "duration": 14,
    "start_time": "2024-06-04T16:30:49.115Z"
   },
   {
    "duration": 107,
    "start_time": "2024-06-04T16:30:49.132Z"
   },
   {
    "duration": 0,
    "start_time": "2024-06-04T16:30:49.241Z"
   },
   {
    "duration": 0,
    "start_time": "2024-06-04T16:30:49.242Z"
   },
   {
    "duration": 0,
    "start_time": "2024-06-04T16:30:49.243Z"
   },
   {
    "duration": 0,
    "start_time": "2024-06-04T16:30:49.244Z"
   },
   {
    "duration": 0,
    "start_time": "2024-06-04T16:30:49.245Z"
   },
   {
    "duration": 0,
    "start_time": "2024-06-04T16:30:49.246Z"
   },
   {
    "duration": 0,
    "start_time": "2024-06-04T16:30:49.247Z"
   },
   {
    "duration": 0,
    "start_time": "2024-06-04T16:30:49.248Z"
   },
   {
    "duration": 13,
    "start_time": "2024-06-04T16:32:18.948Z"
   },
   {
    "duration": 28,
    "start_time": "2024-06-04T16:32:48.852Z"
   },
   {
    "duration": 16,
    "start_time": "2024-06-04T16:33:06.679Z"
   },
   {
    "duration": 25,
    "start_time": "2024-06-04T16:33:43.160Z"
   },
   {
    "duration": 4,
    "start_time": "2024-06-04T16:34:19.007Z"
   },
   {
    "duration": 6,
    "start_time": "2024-06-04T16:34:26.978Z"
   },
   {
    "duration": 19,
    "start_time": "2024-06-04T16:37:43.229Z"
   },
   {
    "duration": 31,
    "start_time": "2024-06-04T16:38:18.150Z"
   },
   {
    "duration": 8,
    "start_time": "2024-06-04T16:41:53.356Z"
   },
   {
    "duration": 15,
    "start_time": "2024-06-04T16:47:00.756Z"
   },
   {
    "duration": 9,
    "start_time": "2024-06-04T16:47:21.576Z"
   },
   {
    "duration": 633,
    "start_time": "2024-06-04T16:47:31.707Z"
   },
   {
    "duration": 11,
    "start_time": "2024-06-04T16:47:40.379Z"
   },
   {
    "duration": 9,
    "start_time": "2024-06-04T16:49:53.681Z"
   },
   {
    "duration": 3,
    "start_time": "2024-06-04T16:49:59.565Z"
   },
   {
    "duration": 26,
    "start_time": "2024-06-04T16:50:01.249Z"
   },
   {
    "duration": 29,
    "start_time": "2024-06-04T16:50:13.841Z"
   },
   {
    "duration": 31,
    "start_time": "2024-06-04T16:50:25.597Z"
   },
   {
    "duration": 5,
    "start_time": "2024-06-04T16:54:19.911Z"
   },
   {
    "duration": 10,
    "start_time": "2024-06-04T16:54:25.519Z"
   },
   {
    "duration": 5,
    "start_time": "2024-06-04T16:56:04.531Z"
   },
   {
    "duration": 3,
    "start_time": "2024-06-04T16:57:09.286Z"
   },
   {
    "duration": 4,
    "start_time": "2024-06-04T16:57:10.448Z"
   },
   {
    "duration": 764,
    "start_time": "2024-06-04T16:57:24.635Z"
   },
   {
    "duration": 9,
    "start_time": "2024-06-04T16:58:47.451Z"
   },
   {
    "duration": 10,
    "start_time": "2024-06-04T16:59:03.153Z"
   },
   {
    "duration": 9,
    "start_time": "2024-06-04T16:59:11.932Z"
   },
   {
    "duration": 9,
    "start_time": "2024-06-04T16:59:37.474Z"
   },
   {
    "duration": 8,
    "start_time": "2024-06-04T16:59:45.061Z"
   },
   {
    "duration": 11,
    "start_time": "2024-06-04T17:00:07.631Z"
   },
   {
    "duration": 12,
    "start_time": "2024-06-04T17:00:09.007Z"
   },
   {
    "duration": 11,
    "start_time": "2024-06-04T17:00:09.634Z"
   },
   {
    "duration": 747,
    "start_time": "2024-06-04T17:00:20.004Z"
   },
   {
    "duration": 759,
    "start_time": "2024-06-04T17:00:26.386Z"
   },
   {
    "duration": 3,
    "start_time": "2024-06-04T17:04:09.501Z"
   },
   {
    "duration": 12,
    "start_time": "2024-06-04T17:04:12.037Z"
   },
   {
    "duration": 7,
    "start_time": "2024-06-04T17:06:23.243Z"
   },
   {
    "duration": 8,
    "start_time": "2024-06-04T17:06:23.885Z"
   },
   {
    "duration": 11,
    "start_time": "2024-06-04T17:06:24.626Z"
   },
   {
    "duration": 3,
    "start_time": "2024-06-04T17:06:27.759Z"
   },
   {
    "duration": 16,
    "start_time": "2024-06-04T17:06:28.663Z"
   },
   {
    "duration": 6,
    "start_time": "2024-06-04T17:06:31.661Z"
   },
   {
    "duration": 753,
    "start_time": "2024-06-04T17:06:56.558Z"
   },
   {
    "duration": 761,
    "start_time": "2024-06-04T17:06:57.372Z"
   },
   {
    "duration": 753,
    "start_time": "2024-06-04T17:06:58.488Z"
   },
   {
    "duration": 5457,
    "start_time": "2024-06-04T17:21:13.560Z"
   },
   {
    "duration": 1198,
    "start_time": "2024-06-04T17:21:19.019Z"
   },
   {
    "duration": 1278,
    "start_time": "2024-06-04T17:21:20.220Z"
   },
   {
    "duration": 54,
    "start_time": "2024-06-04T17:21:21.500Z"
   },
   {
    "duration": 171,
    "start_time": "2024-06-04T17:21:21.555Z"
   },
   {
    "duration": 1679,
    "start_time": "2024-06-04T17:21:21.728Z"
   },
   {
    "duration": 5458,
    "start_time": "2024-06-04T17:21:25.688Z"
   },
   {
    "duration": 1177,
    "start_time": "2024-06-04T17:21:31.148Z"
   },
   {
    "duration": 1988,
    "start_time": "2024-06-04T17:21:32.327Z"
   },
   {
    "duration": 54,
    "start_time": "2024-06-04T17:21:34.317Z"
   },
   {
    "duration": 113,
    "start_time": "2024-06-04T17:21:34.373Z"
   },
   {
    "duration": 1598,
    "start_time": "2024-06-04T17:21:34.487Z"
   },
   {
    "duration": 1786,
    "start_time": "2024-06-04T17:21:36.086Z"
   },
   {
    "duration": 1824,
    "start_time": "2024-06-04T17:21:37.874Z"
   },
   {
    "duration": 1479,
    "start_time": "2024-06-04T17:21:39.699Z"
   },
   {
    "duration": 1661,
    "start_time": "2024-06-04T17:21:41.179Z"
   },
   {
    "duration": 12,
    "start_time": "2024-06-04T17:21:42.842Z"
   },
   {
    "duration": 2452,
    "start_time": "2024-06-04T17:21:42.855Z"
   },
   {
    "duration": 83,
    "start_time": "2024-06-04T17:21:45.309Z"
   },
   {
    "duration": 4501,
    "start_time": "2024-06-04T17:21:45.397Z"
   },
   {
    "duration": 5,
    "start_time": "2024-06-04T17:21:49.899Z"
   },
   {
    "duration": 1408,
    "start_time": "2024-06-04T17:21:49.990Z"
   },
   {
    "duration": 89,
    "start_time": "2024-06-04T17:21:51.400Z"
   },
   {
    "duration": 99,
    "start_time": "2024-06-04T17:21:51.493Z"
   },
   {
    "duration": 66,
    "start_time": "2024-06-04T17:21:51.593Z"
   },
   {
    "duration": 19,
    "start_time": "2024-06-04T17:21:51.661Z"
   },
   {
    "duration": 18,
    "start_time": "2024-06-04T17:21:51.682Z"
   },
   {
    "duration": 12,
    "start_time": "2024-06-04T17:21:51.702Z"
   },
   {
    "duration": 11,
    "start_time": "2024-06-04T17:21:51.716Z"
   },
   {
    "duration": 11,
    "start_time": "2024-06-04T17:21:51.729Z"
   },
   {
    "duration": 9,
    "start_time": "2024-06-04T17:21:51.742Z"
   },
   {
    "duration": 22,
    "start_time": "2024-06-04T17:21:51.752Z"
   },
   {
    "duration": 5,
    "start_time": "2024-06-04T17:21:51.789Z"
   },
   {
    "duration": 813,
    "start_time": "2024-06-04T17:21:51.796Z"
   },
   {
    "duration": 770,
    "start_time": "2024-06-04T17:21:52.610Z"
   },
   {
    "duration": 780,
    "start_time": "2024-06-04T17:21:53.382Z"
   },
   {
    "duration": 54,
    "start_time": "2024-06-06T17:15:39.168Z"
   },
   {
    "duration": 10868,
    "start_time": "2024-06-06T17:15:44.428Z"
   },
   {
    "duration": 1491,
    "start_time": "2024-06-06T17:15:55.298Z"
   },
   {
    "duration": 1061,
    "start_time": "2024-06-06T17:15:56.791Z"
   },
   {
    "duration": 63,
    "start_time": "2024-06-06T17:15:57.854Z"
   },
   {
    "duration": 127,
    "start_time": "2024-06-06T17:15:57.919Z"
   },
   {
    "duration": 1738,
    "start_time": "2024-06-06T17:15:58.047Z"
   },
   {
    "duration": 1788,
    "start_time": "2024-06-06T17:15:59.787Z"
   },
   {
    "duration": 1933,
    "start_time": "2024-06-06T17:16:01.576Z"
   },
   {
    "duration": 1460,
    "start_time": "2024-06-06T17:16:03.510Z"
   },
   {
    "duration": 1780,
    "start_time": "2024-06-06T17:16:04.973Z"
   },
   {
    "duration": 13,
    "start_time": "2024-06-06T17:16:06.754Z"
   },
   {
    "duration": 1944,
    "start_time": "2024-06-06T17:16:06.769Z"
   },
   {
    "duration": 5,
    "start_time": "2024-06-06T17:16:08.714Z"
   },
   {
    "duration": 5292,
    "start_time": "2024-06-06T17:16:08.720Z"
   },
   {
    "duration": 8,
    "start_time": "2024-06-06T17:16:14.015Z"
   },
   {
    "duration": 2104,
    "start_time": "2024-06-06T17:16:14.026Z"
   },
   {
    "duration": 94,
    "start_time": "2024-06-06T17:16:16.132Z"
   },
   {
    "duration": 89,
    "start_time": "2024-06-06T17:16:16.233Z"
   },
   {
    "duration": 4,
    "start_time": "2024-06-06T17:16:16.323Z"
   },
   {
    "duration": 6,
    "start_time": "2024-06-06T17:16:16.329Z"
   },
   {
    "duration": 5,
    "start_time": "2024-06-06T17:16:16.336Z"
   },
   {
    "duration": 3,
    "start_time": "2024-06-06T17:16:16.343Z"
   },
   {
    "duration": 15,
    "start_time": "2024-06-06T17:16:16.348Z"
   },
   {
    "duration": 15,
    "start_time": "2024-06-06T17:16:16.365Z"
   },
   {
    "duration": 8,
    "start_time": "2024-06-06T17:16:16.382Z"
   },
   {
    "duration": 18,
    "start_time": "2024-06-06T17:16:16.412Z"
   },
   {
    "duration": 3,
    "start_time": "2024-06-06T17:16:16.431Z"
   },
   {
    "duration": 15,
    "start_time": "2024-06-06T17:16:16.437Z"
   },
   {
    "duration": 5,
    "start_time": "2024-06-06T17:16:16.454Z"
   },
   {
    "duration": 928,
    "start_time": "2024-06-06T17:16:16.460Z"
   },
   {
    "duration": 891,
    "start_time": "2024-06-06T17:16:17.390Z"
   },
   {
    "duration": 901,
    "start_time": "2024-06-06T17:16:18.283Z"
   },
   {
    "duration": 5,
    "start_time": "2024-06-06T17:17:00.456Z"
   },
   {
    "duration": 2,
    "start_time": "2024-06-06T17:18:35.339Z"
   },
   {
    "duration": 6,
    "start_time": "2024-06-06T17:18:39.923Z"
   },
   {
    "duration": 4,
    "start_time": "2024-06-06T17:21:20.617Z"
   },
   {
    "duration": 14,
    "start_time": "2024-06-06T17:21:21.782Z"
   },
   {
    "duration": 3,
    "start_time": "2024-06-06T17:21:39.505Z"
   },
   {
    "duration": 17,
    "start_time": "2024-06-06T17:21:40.840Z"
   },
   {
    "duration": 62,
    "start_time": "2024-06-06T17:25:26.416Z"
   },
   {
    "duration": 1173,
    "start_time": "2024-06-06T17:25:39.946Z"
   },
   {
    "duration": 87,
    "start_time": "2024-06-06T17:25:55.606Z"
   },
   {
    "duration": 9,
    "start_time": "2024-06-06T17:26:06.630Z"
   },
   {
    "duration": 95,
    "start_time": "2024-06-06T17:26:10.409Z"
   },
   {
    "duration": 63,
    "start_time": "2024-06-06T17:26:26.914Z"
   },
   {
    "duration": 5,
    "start_time": "2024-06-06T17:26:29.390Z"
   },
   {
    "duration": 63,
    "start_time": "2024-06-06T17:26:50.479Z"
   },
   {
    "duration": 9,
    "start_time": "2024-06-06T17:27:07.957Z"
   },
   {
    "duration": 3,
    "start_time": "2024-06-06T17:27:36.435Z"
   },
   {
    "duration": 66,
    "start_time": "2024-06-06T17:27:42.567Z"
   },
   {
    "duration": 63,
    "start_time": "2024-06-06T17:27:55.363Z"
   },
   {
    "duration": 6496,
    "start_time": "2024-06-06T17:29:49.631Z"
   },
   {
    "duration": 1244,
    "start_time": "2024-06-06T17:29:56.129Z"
   },
   {
    "duration": 1005,
    "start_time": "2024-06-06T17:29:57.375Z"
   },
   {
    "duration": 62,
    "start_time": "2024-06-06T17:29:58.382Z"
   },
   {
    "duration": 129,
    "start_time": "2024-06-06T17:29:58.445Z"
   },
   {
    "duration": 1702,
    "start_time": "2024-06-06T17:29:58.575Z"
   },
   {
    "duration": 1781,
    "start_time": "2024-06-06T17:30:00.278Z"
   },
   {
    "duration": 1972,
    "start_time": "2024-06-06T17:30:02.060Z"
   },
   {
    "duration": 1416,
    "start_time": "2024-06-06T17:30:04.034Z"
   },
   {
    "duration": 1901,
    "start_time": "2024-06-06T17:30:05.453Z"
   },
   {
    "duration": 14,
    "start_time": "2024-06-06T17:30:07.356Z"
   },
   {
    "duration": 1752,
    "start_time": "2024-06-06T17:30:07.372Z"
   },
   {
    "duration": 4,
    "start_time": "2024-06-06T17:30:09.213Z"
   },
   {
    "duration": 5492,
    "start_time": "2024-06-06T17:30:09.220Z"
   },
   {
    "duration": 5,
    "start_time": "2024-06-06T17:30:14.714Z"
   },
   {
    "duration": 1900,
    "start_time": "2024-06-06T17:30:14.720Z"
   },
   {
    "duration": 95,
    "start_time": "2024-06-06T17:30:16.623Z"
   },
   {
    "duration": 91,
    "start_time": "2024-06-06T17:30:16.722Z"
   },
   {
    "duration": 5,
    "start_time": "2024-06-06T17:30:16.815Z"
   },
   {
    "duration": 7,
    "start_time": "2024-06-06T17:30:16.821Z"
   },
   {
    "duration": 5,
    "start_time": "2024-06-06T17:30:16.830Z"
   },
   {
    "duration": 9,
    "start_time": "2024-06-06T17:30:16.837Z"
   },
   {
    "duration": 16,
    "start_time": "2024-06-06T17:30:16.847Z"
   },
   {
    "duration": 8,
    "start_time": "2024-06-06T17:30:16.865Z"
   },
   {
    "duration": 3,
    "start_time": "2024-06-06T17:30:16.912Z"
   },
   {
    "duration": 19,
    "start_time": "2024-06-06T17:30:16.916Z"
   },
   {
    "duration": 5,
    "start_time": "2024-06-06T17:30:16.937Z"
   },
   {
    "duration": 11,
    "start_time": "2024-06-06T17:30:16.945Z"
   },
   {
    "duration": 63,
    "start_time": "2024-06-06T17:30:16.957Z"
   },
   {
    "duration": 0,
    "start_time": "2024-06-06T17:30:17.021Z"
   },
   {
    "duration": 0,
    "start_time": "2024-06-06T17:30:17.022Z"
   },
   {
    "duration": 0,
    "start_time": "2024-06-06T17:30:17.023Z"
   },
   {
    "duration": 4,
    "start_time": "2024-06-06T17:33:14.750Z"
   },
   {
    "duration": 116,
    "start_time": "2024-06-06T17:33:26.537Z"
   },
   {
    "duration": 6,
    "start_time": "2024-06-06T17:34:47.299Z"
   },
   {
    "duration": 6,
    "start_time": "2024-06-06T17:34:57.962Z"
   },
   {
    "duration": 5,
    "start_time": "2024-06-06T17:35:23.668Z"
   },
   {
    "duration": 6,
    "start_time": "2024-06-06T17:35:41.682Z"
   },
   {
    "duration": 6,
    "start_time": "2024-06-06T17:35:47.951Z"
   },
   {
    "duration": 6,
    "start_time": "2024-06-06T17:35:51.023Z"
   },
   {
    "duration": 64,
    "start_time": "2024-06-06T17:45:36.444Z"
   },
   {
    "duration": 61,
    "start_time": "2024-06-06T17:47:02.873Z"
   },
   {
    "duration": 841,
    "start_time": "2024-06-06T17:51:19.827Z"
   },
   {
    "duration": 834,
    "start_time": "2024-06-06T17:51:20.671Z"
   },
   {
    "duration": 828,
    "start_time": "2024-06-06T17:51:21.506Z"
   },
   {
    "duration": 4,
    "start_time": "2024-06-06T18:08:43.330Z"
   },
   {
    "duration": 14,
    "start_time": "2024-06-06T18:08:44.395Z"
   },
   {
    "duration": 5,
    "start_time": "2024-06-06T18:08:45.402Z"
   },
   {
    "duration": 821,
    "start_time": "2024-06-06T18:08:46.670Z"
   },
   {
    "duration": 835,
    "start_time": "2024-06-06T18:08:47.492Z"
   },
   {
    "duration": 830,
    "start_time": "2024-06-06T18:08:48.328Z"
   }
  ],
  "kernelspec": {
   "display_name": "Python 3 (ipykernel)",
   "language": "python",
   "name": "python3"
  },
  "language_info": {
   "codemirror_mode": {
    "name": "ipython",
    "version": 3
   },
   "file_extension": ".py",
   "mimetype": "text/x-python",
   "name": "python",
   "nbconvert_exporter": "python",
   "pygments_lexer": "ipython3",
   "version": "3.11.7"
  },
  "toc": {
   "base_numbering": 1,
   "nav_menu": {},
   "number_sections": true,
   "sideBar": true,
   "skip_h1_title": true,
   "title_cell": "Table of Contents",
   "title_sidebar": "Contents",
   "toc_cell": false,
   "toc_position": {
    "height": "calc(100% - 180px)",
    "left": "10px",
    "top": "150px",
    "width": "467.969px"
   },
   "toc_section_display": true,
   "toc_window_display": true
  }
 },
 "nbformat": 4,
 "nbformat_minor": 2
}
